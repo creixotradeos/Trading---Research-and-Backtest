{
 "cells": [
  {
   "cell_type": "markdown",
   "metadata": {},
   "source": [
    "# Libraries"
   ]
  },
  {
   "cell_type": "code",
   "execution_count": 1,
   "metadata": {
    "ExecuteTime": {
     "end_time": "2020-09-11T10:19:03.649070Z",
     "start_time": "2020-09-11T10:18:55.050365Z"
    },
    "code_folding": []
   },
   "outputs": [],
   "source": [
    "# Libraries\n",
    "import os\n",
    "from alpha_vantage.timeseries import TimeSeries\n",
    "api_key = '092YO8Y7KS4D36UD'\n",
    "import numpy as np\n",
    "import pandas as pd\n",
    "import datetime\n",
    "import time\n",
    "import pandas_datareader as wb\n",
    "from pathlib import Path\n",
    "import yfinance as yf"
   ]
  },
  {
   "cell_type": "markdown",
   "metadata": {},
   "source": [
    "# List of Equities"
   ]
  },
  {
   "cell_type": "code",
   "execution_count": 19,
   "metadata": {
    "ExecuteTime": {
     "end_time": "2020-09-11T11:07:43.510131Z",
     "start_time": "2020-09-11T11:07:43.503134Z"
    },
    "code_folding": []
   },
   "outputs": [],
   "source": [
    "# list of equities\n",
    "us_tickers = ['AAPL', 'AMZN', 'FB', 'NFLX', 'SPY', 'TSLA', 'V']\n",
    "id_tickers = ['^JKSE', 'BBCA.JK', 'GGRM.JK', 'JPFA.JK', 'TLKM.JK']\n",
    "forex = ['USDIDR=X', 'IDRUSD=X', 'USDEUR=X', 'EURUSD=X', 'USDCNY=X', 'CNYUSD=X', 'SGDIDR=X', 'IDRSGD=X', 'USDSGD=X', 'SGDUSD=X']\n",
    "full_tickers = us_tickers + id_tickers + forex"
   ]
  },
  {
   "cell_type": "markdown",
   "metadata": {},
   "source": [
    "# Intraday Data"
   ]
  },
  {
   "cell_type": "code",
   "execution_count": 20,
   "metadata": {
    "ExecuteTime": {
     "end_time": "2020-09-11T11:07:50.272217Z",
     "start_time": "2020-09-11T11:07:50.254229Z"
    },
    "code_folding": [
     0
    ]
   },
   "outputs": [],
   "source": [
    "# Set interval and Get_Intraday function\n",
    "def Get_Intraday(tickers, intervals, start=None, end=None, period='60d'):\n",
    "    \"\"\"Get Intraday Data of Stocks and such\n",
    "    Parameters\n",
    "    -----------\n",
    "        tickers : list\n",
    "            List of tickers or equities symbol to get\n",
    "        intervals : list\n",
    "            Valid intervals: ['1m', '2m', '5m', '15m', '30m', '60m', '90m']\n",
    "            Intervals for intraday data\n",
    "        start: datetime.date, default None\n",
    "            Date start for getting data\n",
    "        end: datetime.date, default None\n",
    "            Date end for getting data\n",
    "        period: str\n",
    "            Valid period: 1d,5d,1mo,3mo,6mo,1y,2y,5y,10y,ytd,max , default 60d\n",
    "            For intraday data max is 60d. Secondary if start and end are None\n",
    "    \"\"\"\n",
    "    \n",
    "    for ticker in tickers:\n",
    "        for interval in intervals:\n",
    "            if interval == '1m':\n",
    "                period = '7d'\n",
    "            else:\n",
    "                period = '60d'\n",
    "            data = yf.Ticker(ticker)\n",
    "            data = data.history(period=period, interval=interval, prepost = True, auto_adjust=False)\n",
    "            data.sort_index(ascending = True, inplace = True)\n",
    "#             data['Time'] = data.index.time\n",
    "#             data['Date'] = data.index.date\n",
    "#             data.reset_index(inplace=True)\n",
    "#             data.set_index('Date', inplace=True)\n",
    "            current_data_path = Path('C:\\\\Users\\\\asus\\\\Documents\\\\Python Projects\\\\Trading - Research and Backtest\\\\'+ticker+ \\\n",
    "                                          '\\\\Databases\\\\'+ticker+'-'+interval+'in.csv')\n",
    "            if not current_data_path.exists():\n",
    "                print('Oops, file doesn\\'t exist. Create new '+ticker+'-'+interval+'in file')\n",
    "                data.to_csv(current_data_path, date_format = ('%Y-%m-%d %H:%M:%S'), index = True, index_label = 'Datetime' )\n",
    "            else:\n",
    "                print('Yay, the file exists! Updating '+ticker+'-'+interval+'in file')\n",
    "                new_data = data.loc[start : end]\n",
    "                new_data.to_csv(current_data_path, mode = 'a', header = False, date_format = ('%Y-%m-%d %H:%M:%S'), index = True,\n",
    "                                index_label = 'Datetime')\n",
    "                updated_data = pd.read_csv(current_data_path, index_col='Datetime')\n",
    "                updated_data = updated_data[~updated_data.index.duplicated(keep='first')]\n",
    "                updated_data.sort_index(ascending=True, inplace=True)\n",
    "                updated_data.to_csv(current_data_path, date_format = ('%Y-%m-%d %H:%M:%S'), index = True)\n",
    "    print('Get Data Done!')"
   ]
  },
  {
   "cell_type": "code",
   "execution_count": 21,
   "metadata": {
    "ExecuteTime": {
     "end_time": "2020-09-11T11:10:39.514955Z",
     "start_time": "2020-09-11T11:07:56.402870Z"
    },
    "code_folding": [
     0
    ],
    "scrolled": true
   },
   "outputs": [
    {
     "name": "stdout",
     "output_type": "stream",
     "text": [
      "Yay, the file exists! Updating AAPL-1min file\n",
      "Yay, the file exists! Updating AAPL-2min file\n",
      "Yay, the file exists! Updating AAPL-5min file\n",
      "Yay, the file exists! Updating AAPL-15min file\n",
      "Yay, the file exists! Updating AAPL-30min file\n",
      "Yay, the file exists! Updating AAPL-60min file\n",
      "Yay, the file exists! Updating AAPL-90min file\n",
      "Yay, the file exists! Updating AMZN-1min file\n",
      "Yay, the file exists! Updating AMZN-2min file\n",
      "Yay, the file exists! Updating AMZN-5min file\n",
      "Yay, the file exists! Updating AMZN-15min file\n",
      "Yay, the file exists! Updating AMZN-30min file\n",
      "Yay, the file exists! Updating AMZN-60min file\n",
      "Yay, the file exists! Updating AMZN-90min file\n",
      "Yay, the file exists! Updating FB-1min file\n",
      "Yay, the file exists! Updating FB-2min file\n",
      "Yay, the file exists! Updating FB-5min file\n",
      "Yay, the file exists! Updating FB-15min file\n",
      "Yay, the file exists! Updating FB-30min file\n",
      "Yay, the file exists! Updating FB-60min file\n",
      "Yay, the file exists! Updating FB-90min file\n",
      "Yay, the file exists! Updating NFLX-1min file\n",
      "Yay, the file exists! Updating NFLX-2min file\n",
      "Yay, the file exists! Updating NFLX-5min file\n",
      "Yay, the file exists! Updating NFLX-15min file\n",
      "Yay, the file exists! Updating NFLX-30min file\n",
      "Yay, the file exists! Updating NFLX-60min file\n",
      "Yay, the file exists! Updating NFLX-90min file\n",
      "Yay, the file exists! Updating SPY-1min file\n",
      "Yay, the file exists! Updating SPY-2min file\n",
      "Yay, the file exists! Updating SPY-5min file\n",
      "Yay, the file exists! Updating SPY-15min file\n",
      "Yay, the file exists! Updating SPY-30min file\n",
      "Yay, the file exists! Updating SPY-60min file\n",
      "Yay, the file exists! Updating SPY-90min file\n",
      "Yay, the file exists! Updating TSLA-1min file\n",
      "Yay, the file exists! Updating TSLA-2min file\n",
      "Yay, the file exists! Updating TSLA-5min file\n",
      "Yay, the file exists! Updating TSLA-15min file\n",
      "Yay, the file exists! Updating TSLA-30min file\n",
      "Yay, the file exists! Updating TSLA-60min file\n",
      "Yay, the file exists! Updating TSLA-90min file\n",
      "Yay, the file exists! Updating V-1min file\n",
      "Yay, the file exists! Updating V-2min file\n",
      "Yay, the file exists! Updating V-5min file\n",
      "Yay, the file exists! Updating V-15min file\n",
      "Yay, the file exists! Updating V-30min file\n",
      "Yay, the file exists! Updating V-60min file\n",
      "Yay, the file exists! Updating V-90min file\n",
      "Yay, the file exists! Updating ^JKSE-1min file\n",
      "Yay, the file exists! Updating ^JKSE-2min file\n",
      "Yay, the file exists! Updating ^JKSE-5min file\n",
      "Yay, the file exists! Updating ^JKSE-15min file\n",
      "Yay, the file exists! Updating ^JKSE-30min file\n",
      "Yay, the file exists! Updating ^JKSE-60min file\n",
      "Yay, the file exists! Updating ^JKSE-90min file\n",
      "Yay, the file exists! Updating BBCA.JK-1min file\n",
      "Yay, the file exists! Updating BBCA.JK-2min file\n",
      "Yay, the file exists! Updating BBCA.JK-5min file\n",
      "Yay, the file exists! Updating BBCA.JK-15min file\n",
      "Yay, the file exists! Updating BBCA.JK-30min file\n",
      "Yay, the file exists! Updating BBCA.JK-60min file\n",
      "Yay, the file exists! Updating BBCA.JK-90min file\n",
      "Yay, the file exists! Updating GGRM.JK-1min file\n",
      "Yay, the file exists! Updating GGRM.JK-2min file\n",
      "Yay, the file exists! Updating GGRM.JK-5min file\n",
      "Yay, the file exists! Updating GGRM.JK-15min file\n",
      "Yay, the file exists! Updating GGRM.JK-30min file\n",
      "Yay, the file exists! Updating GGRM.JK-60min file\n",
      "Yay, the file exists! Updating GGRM.JK-90min file\n",
      "Yay, the file exists! Updating JPFA.JK-1min file\n",
      "Yay, the file exists! Updating JPFA.JK-2min file\n",
      "Yay, the file exists! Updating JPFA.JK-5min file\n",
      "Yay, the file exists! Updating JPFA.JK-15min file\n",
      "Yay, the file exists! Updating JPFA.JK-30min file\n",
      "Yay, the file exists! Updating JPFA.JK-60min file\n",
      "Yay, the file exists! Updating JPFA.JK-90min file\n",
      "Yay, the file exists! Updating TLKM.JK-1min file\n",
      "Yay, the file exists! Updating TLKM.JK-2min file\n",
      "Yay, the file exists! Updating TLKM.JK-5min file\n",
      "Yay, the file exists! Updating TLKM.JK-15min file\n",
      "Yay, the file exists! Updating TLKM.JK-30min file\n",
      "Yay, the file exists! Updating TLKM.JK-60min file\n",
      "Yay, the file exists! Updating TLKM.JK-90min file\n",
      "Oops, file doesn't exist. Create new USDIDR=X-1min file\n",
      "Oops, file doesn't exist. Create new USDIDR=X-2min file\n",
      "Oops, file doesn't exist. Create new USDIDR=X-5min file\n",
      "Oops, file doesn't exist. Create new USDIDR=X-15min file\n",
      "Oops, file doesn't exist. Create new USDIDR=X-30min file\n",
      "Oops, file doesn't exist. Create new USDIDR=X-60min file\n",
      "Oops, file doesn't exist. Create new USDIDR=X-90min file\n",
      "Oops, file doesn't exist. Create new IDRUSD=X-1min file\n",
      "Oops, file doesn't exist. Create new IDRUSD=X-2min file\n",
      "Oops, file doesn't exist. Create new IDRUSD=X-5min file\n",
      "Oops, file doesn't exist. Create new IDRUSD=X-15min file\n",
      "Oops, file doesn't exist. Create new IDRUSD=X-30min file\n",
      "Oops, file doesn't exist. Create new IDRUSD=X-60min file\n",
      "Oops, file doesn't exist. Create new IDRUSD=X-90min file\n",
      "Oops, file doesn't exist. Create new USDEUR=X-1min file\n",
      "Oops, file doesn't exist. Create new USDEUR=X-2min file\n",
      "Oops, file doesn't exist. Create new USDEUR=X-5min file\n",
      "Oops, file doesn't exist. Create new USDEUR=X-15min file\n",
      "Oops, file doesn't exist. Create new USDEUR=X-30min file\n",
      "Oops, file doesn't exist. Create new USDEUR=X-60min file\n",
      "Oops, file doesn't exist. Create new USDEUR=X-90min file\n",
      "Oops, file doesn't exist. Create new EURUSD=X-1min file\n",
      "Oops, file doesn't exist. Create new EURUSD=X-2min file\n",
      "Oops, file doesn't exist. Create new EURUSD=X-5min file\n",
      "Oops, file doesn't exist. Create new EURUSD=X-15min file\n",
      "Oops, file doesn't exist. Create new EURUSD=X-30min file\n",
      "Oops, file doesn't exist. Create new EURUSD=X-60min file\n",
      "Oops, file doesn't exist. Create new EURUSD=X-90min file\n",
      "Oops, file doesn't exist. Create new USDCNY=X-1min file\n",
      "Oops, file doesn't exist. Create new USDCNY=X-2min file\n",
      "Oops, file doesn't exist. Create new USDCNY=X-5min file\n",
      "Oops, file doesn't exist. Create new USDCNY=X-15min file\n",
      "Oops, file doesn't exist. Create new USDCNY=X-30min file\n",
      "Oops, file doesn't exist. Create new USDCNY=X-60min file\n",
      "Oops, file doesn't exist. Create new USDCNY=X-90min file\n",
      "Oops, file doesn't exist. Create new CNYUSD=X-1min file\n",
      "Oops, file doesn't exist. Create new CNYUSD=X-2min file\n",
      "Oops, file doesn't exist. Create new CNYUSD=X-5min file\n",
      "Oops, file doesn't exist. Create new CNYUSD=X-15min file\n",
      "Oops, file doesn't exist. Create new CNYUSD=X-30min file\n",
      "Oops, file doesn't exist. Create new CNYUSD=X-60min file\n",
      "Oops, file doesn't exist. Create new CNYUSD=X-90min file\n",
      "Oops, file doesn't exist. Create new SGDIDR=X-1min file\n",
      "Oops, file doesn't exist. Create new SGDIDR=X-2min file\n",
      "Oops, file doesn't exist. Create new SGDIDR=X-5min file\n",
      "Oops, file doesn't exist. Create new SGDIDR=X-15min file\n",
      "Oops, file doesn't exist. Create new SGDIDR=X-30min file\n",
      "Oops, file doesn't exist. Create new SGDIDR=X-60min file\n",
      "Oops, file doesn't exist. Create new SGDIDR=X-90min file\n",
      "Oops, file doesn't exist. Create new IDRSGD=X-1min file\n",
      "Oops, file doesn't exist. Create new IDRSGD=X-2min file\n",
      "Oops, file doesn't exist. Create new IDRSGD=X-5min file\n",
      "Oops, file doesn't exist. Create new IDRSGD=X-15min file\n",
      "Oops, file doesn't exist. Create new IDRSGD=X-30min file\n",
      "Oops, file doesn't exist. Create new IDRSGD=X-60min file\n",
      "Oops, file doesn't exist. Create new IDRSGD=X-90min file\n",
      "Oops, file doesn't exist. Create new USDSGD=X-1min file\n",
      "Oops, file doesn't exist. Create new USDSGD=X-2min file\n",
      "Oops, file doesn't exist. Create new USDSGD=X-5min file\n",
      "Oops, file doesn't exist. Create new USDSGD=X-15min file\n",
      "Oops, file doesn't exist. Create new USDSGD=X-30min file\n",
      "Oops, file doesn't exist. Create new USDSGD=X-60min file\n",
      "Oops, file doesn't exist. Create new USDSGD=X-90min file\n",
      "Oops, file doesn't exist. Create new SGDUSD=X-1min file\n",
      "Oops, file doesn't exist. Create new SGDUSD=X-2min file\n",
      "Oops, file doesn't exist. Create new SGDUSD=X-5min file\n",
      "Oops, file doesn't exist. Create new SGDUSD=X-15min file\n",
      "Oops, file doesn't exist. Create new SGDUSD=X-30min file\n",
      "Oops, file doesn't exist. Create new SGDUSD=X-60min file\n",
      "Oops, file doesn't exist. Create new SGDUSD=X-90min file\n",
      "Get Data Done!\n"
     ]
    }
   ],
   "source": [
    "#Retrieve Data\n",
    "intervals = ['1m', '2m', '5m', '15m', '30m', '60m', '90m']\n",
    "Get_Intraday(full_tickers, intervals=intervals)"
   ]
  },
  {
   "cell_type": "markdown",
   "metadata": {},
   "source": [
    "# Daily Data"
   ]
  },
  {
   "cell_type": "code",
   "execution_count": 22,
   "metadata": {
    "ExecuteTime": {
     "end_time": "2020-09-11T11:10:39.572922Z",
     "start_time": "2020-09-11T11:10:39.544939Z"
    },
    "code_folding": [
     0
    ]
   },
   "outputs": [],
   "source": [
    "# Set interval and Get_Daily function\n",
    "\n",
    "def Get_Daily(tickers, intervals, start=None, end=None, period='max'):\n",
    "    \"\"\"Get Daily Data of Stocks and such\n",
    "    Parameters\n",
    "    -----------\n",
    "        tickers : list\n",
    "            List of tickers or equities symbol to get\n",
    "        intervals : list\n",
    "            Valid intervals: ['1d', '5d', '1wk', '1mo', '3mo']\n",
    "            Intervals for daily\n",
    "        start: datetime.date, default None\n",
    "            Date start for getting data\n",
    "        end: datetime.date, default None\n",
    "            Date end for getting data\n",
    "        period: str\n",
    "            Valid period: 1d,5d,1mo,3mo,6mo,1y,2y,5y,10y,ytd,max , default max\n",
    "            For intraday data max is 60d. Secondary if start and end are None\n",
    "    \"\"\"\n",
    "    \n",
    "    for ticker in tickers:\n",
    "        for interval in intervals:\n",
    "            data = yf.Ticker(ticker)\n",
    "            data = data.history(period=period, interval=interval, prepost = True, auto_adjust=False)\n",
    "            data.sort_index(ascending = True, inplace = True)\n",
    "            current_data_path = Path('C:\\\\Users\\\\asus\\\\Documents\\\\Python Projects\\\\Trading - Research and Backtest\\\\'+ticker+ \\\n",
    "                                          '\\\\Databases\\\\'+ticker+'-'+interval+'.csv')\n",
    "            if not current_data_path.exists():\n",
    "                print('Oops, file doesn\\'t exist. Create new '+ticker+'-'+interval+' file')\n",
    "                data.to_csv(current_data_path, date_format = ('%Y-%m-%d'), index = True, index_label = 'Date' )\n",
    "            else:\n",
    "                print('Yay, the file exists! Updating '+ticker+'-'+interval+' file')\n",
    "                data.to_csv(current_data_path, date_format = ('%Y-%m-%d'), index = True, index_label = 'Date' )\n",
    "    print('Get Data Done!')"
   ]
  },
  {
   "cell_type": "code",
   "execution_count": 23,
   "metadata": {
    "ExecuteTime": {
     "end_time": "2020-09-11T11:11:29.518565Z",
     "start_time": "2020-09-11T11:10:39.620895Z"
    },
    "code_folding": []
   },
   "outputs": [
    {
     "name": "stdout",
     "output_type": "stream",
     "text": [
      "Yay, the file exists! Updating AAPL-1d file\n",
      "Yay, the file exists! Updating AAPL-5d file\n",
      "Yay, the file exists! Updating AAPL-1wk file\n",
      "Yay, the file exists! Updating AAPL-1mo file\n",
      "Yay, the file exists! Updating AAPL-3mo file\n",
      "Yay, the file exists! Updating AMZN-1d file\n",
      "Yay, the file exists! Updating AMZN-5d file\n",
      "Yay, the file exists! Updating AMZN-1wk file\n",
      "Yay, the file exists! Updating AMZN-1mo file\n",
      "Yay, the file exists! Updating AMZN-3mo file\n",
      "Yay, the file exists! Updating FB-1d file\n",
      "Yay, the file exists! Updating FB-5d file\n",
      "Yay, the file exists! Updating FB-1wk file\n",
      "Yay, the file exists! Updating FB-1mo file\n",
      "Yay, the file exists! Updating FB-3mo file\n",
      "Yay, the file exists! Updating NFLX-1d file\n",
      "Yay, the file exists! Updating NFLX-5d file\n",
      "Yay, the file exists! Updating NFLX-1wk file\n",
      "Yay, the file exists! Updating NFLX-1mo file\n",
      "Yay, the file exists! Updating NFLX-3mo file\n",
      "Yay, the file exists! Updating SPY-1d file\n",
      "Yay, the file exists! Updating SPY-5d file\n",
      "Yay, the file exists! Updating SPY-1wk file\n",
      "Yay, the file exists! Updating SPY-1mo file\n",
      "Yay, the file exists! Updating SPY-3mo file\n",
      "Yay, the file exists! Updating TSLA-1d file\n",
      "Yay, the file exists! Updating TSLA-5d file\n",
      "Yay, the file exists! Updating TSLA-1wk file\n",
      "Yay, the file exists! Updating TSLA-1mo file\n",
      "Yay, the file exists! Updating TSLA-3mo file\n",
      "Yay, the file exists! Updating V-1d file\n",
      "Yay, the file exists! Updating V-5d file\n",
      "Yay, the file exists! Updating V-1wk file\n",
      "Yay, the file exists! Updating V-1mo file\n",
      "Yay, the file exists! Updating V-3mo file\n",
      "Yay, the file exists! Updating ^JKSE-1d file\n",
      "Yay, the file exists! Updating ^JKSE-5d file\n",
      "Yay, the file exists! Updating ^JKSE-1wk file\n",
      "Yay, the file exists! Updating ^JKSE-1mo file\n",
      "Yay, the file exists! Updating ^JKSE-3mo file\n",
      "Yay, the file exists! Updating BBCA.JK-1d file\n",
      "Yay, the file exists! Updating BBCA.JK-5d file\n",
      "Yay, the file exists! Updating BBCA.JK-1wk file\n",
      "Yay, the file exists! Updating BBCA.JK-1mo file\n",
      "Yay, the file exists! Updating BBCA.JK-3mo file\n",
      "Yay, the file exists! Updating GGRM.JK-1d file\n",
      "Yay, the file exists! Updating GGRM.JK-5d file\n",
      "Yay, the file exists! Updating GGRM.JK-1wk file\n",
      "Yay, the file exists! Updating GGRM.JK-1mo file\n",
      "Yay, the file exists! Updating GGRM.JK-3mo file\n",
      "Yay, the file exists! Updating JPFA.JK-1d file\n",
      "Yay, the file exists! Updating JPFA.JK-5d file\n",
      "Yay, the file exists! Updating JPFA.JK-1wk file\n",
      "Yay, the file exists! Updating JPFA.JK-1mo file\n",
      "Yay, the file exists! Updating JPFA.JK-3mo file\n",
      "Yay, the file exists! Updating TLKM.JK-1d file\n",
      "Yay, the file exists! Updating TLKM.JK-5d file\n",
      "Yay, the file exists! Updating TLKM.JK-1wk file\n",
      "Yay, the file exists! Updating TLKM.JK-1mo file\n",
      "Yay, the file exists! Updating TLKM.JK-3mo file\n",
      "Oops, file doesn't exist. Create new USDIDR=X-1d file\n",
      "Oops, file doesn't exist. Create new USDIDR=X-5d file\n",
      "Oops, file doesn't exist. Create new USDIDR=X-1wk file\n",
      "Oops, file doesn't exist. Create new USDIDR=X-1mo file\n",
      "Oops, file doesn't exist. Create new USDIDR=X-3mo file\n",
      "Oops, file doesn't exist. Create new IDRUSD=X-1d file\n",
      "Oops, file doesn't exist. Create new IDRUSD=X-5d file\n",
      "Oops, file doesn't exist. Create new IDRUSD=X-1wk file\n",
      "Oops, file doesn't exist. Create new IDRUSD=X-1mo file\n",
      "Oops, file doesn't exist. Create new IDRUSD=X-3mo file\n",
      "Oops, file doesn't exist. Create new USDEUR=X-1d file\n",
      "Oops, file doesn't exist. Create new USDEUR=X-5d file\n",
      "Oops, file doesn't exist. Create new USDEUR=X-1wk file\n",
      "Oops, file doesn't exist. Create new USDEUR=X-1mo file\n",
      "Oops, file doesn't exist. Create new USDEUR=X-3mo file\n",
      "Oops, file doesn't exist. Create new EURUSD=X-1d file\n",
      "Oops, file doesn't exist. Create new EURUSD=X-5d file\n",
      "Oops, file doesn't exist. Create new EURUSD=X-1wk file\n",
      "Oops, file doesn't exist. Create new EURUSD=X-1mo file\n",
      "Oops, file doesn't exist. Create new EURUSD=X-3mo file\n",
      "Oops, file doesn't exist. Create new USDCNY=X-1d file\n",
      "Oops, file doesn't exist. Create new USDCNY=X-5d file\n",
      "Oops, file doesn't exist. Create new USDCNY=X-1wk file\n",
      "Oops, file doesn't exist. Create new USDCNY=X-1mo file\n",
      "Oops, file doesn't exist. Create new USDCNY=X-3mo file\n",
      "Oops, file doesn't exist. Create new CNYUSD=X-1d file\n",
      "Oops, file doesn't exist. Create new CNYUSD=X-5d file\n",
      "Oops, file doesn't exist. Create new CNYUSD=X-1wk file\n",
      "Oops, file doesn't exist. Create new CNYUSD=X-1mo file\n",
      "Oops, file doesn't exist. Create new CNYUSD=X-3mo file\n",
      "Oops, file doesn't exist. Create new SGDIDR=X-1d file\n",
      "Oops, file doesn't exist. Create new SGDIDR=X-5d file\n",
      "Oops, file doesn't exist. Create new SGDIDR=X-1wk file\n",
      "Oops, file doesn't exist. Create new SGDIDR=X-1mo file\n",
      "Oops, file doesn't exist. Create new SGDIDR=X-3mo file\n",
      "Oops, file doesn't exist. Create new IDRSGD=X-1d file\n",
      "Oops, file doesn't exist. Create new IDRSGD=X-5d file\n",
      "Oops, file doesn't exist. Create new IDRSGD=X-1wk file\n",
      "Oops, file doesn't exist. Create new IDRSGD=X-1mo file\n",
      "Oops, file doesn't exist. Create new IDRSGD=X-3mo file\n",
      "Oops, file doesn't exist. Create new USDSGD=X-1d file\n",
      "Oops, file doesn't exist. Create new USDSGD=X-5d file\n",
      "Oops, file doesn't exist. Create new USDSGD=X-1wk file\n",
      "Oops, file doesn't exist. Create new USDSGD=X-1mo file\n",
      "Oops, file doesn't exist. Create new USDSGD=X-3mo file\n",
      "Oops, file doesn't exist. Create new SGDUSD=X-1d file\n",
      "Oops, file doesn't exist. Create new SGDUSD=X-5d file\n",
      "Oops, file doesn't exist. Create new SGDUSD=X-1wk file\n",
      "Oops, file doesn't exist. Create new SGDUSD=X-1mo file\n",
      "Oops, file doesn't exist. Create new SGDUSD=X-3mo file\n",
      "Get Data Done!\n"
     ]
    }
   ],
   "source": [
    "# Retrieve Data\n",
    "intervals= ['1d', '5d', '1wk', '1mo', '3mo']\n",
    "Get_Daily(full_tickers, intervals=intervals)"
   ]
  },
  {
   "cell_type": "code",
   "execution_count": 24,
   "metadata": {
    "ExecuteTime": {
     "end_time": "2020-09-11T11:11:29.562538Z",
     "start_time": "2020-09-11T11:11:29.555539Z"
    }
   },
   "outputs": [
    {
     "name": "stdout",
     "output_type": "stream",
     "text": [
      "Download Data Done\n"
     ]
    }
   ],
   "source": [
    "print('Download Data Done')"
   ]
  }
 ],
 "metadata": {
  "kernelspec": {
   "display_name": "Python 3",
   "language": "python",
   "name": "python3"
  },
  "language_info": {
   "codemirror_mode": {
    "name": "ipython",
    "version": 3
   },
   "file_extension": ".py",
   "mimetype": "text/x-python",
   "name": "python",
   "nbconvert_exporter": "python",
   "pygments_lexer": "ipython3",
   "version": "3.7.7"
  },
  "toc": {
   "base_numbering": 1,
   "nav_menu": {},
   "number_sections": false,
   "sideBar": true,
   "skip_h1_title": false,
   "title_cell": "Table of Contents",
   "title_sidebar": "Contents",
   "toc_cell": false,
   "toc_position": {},
   "toc_section_display": true,
   "toc_window_display": true
  },
  "varInspector": {
   "cols": {
    "lenName": 16,
    "lenType": 16,
    "lenVar": 40
   },
   "kernels_config": {
    "python": {
     "delete_cmd_postfix": "",
     "delete_cmd_prefix": "del ",
     "library": "var_list.py",
     "varRefreshCmd": "print(var_dic_list())"
    },
    "r": {
     "delete_cmd_postfix": ") ",
     "delete_cmd_prefix": "rm(",
     "library": "var_list.r",
     "varRefreshCmd": "cat(var_dic_list()) "
    }
   },
   "types_to_exclude": [
    "module",
    "function",
    "builtin_function_or_method",
    "instance",
    "_Feature"
   ],
   "window_display": false
  }
 },
 "nbformat": 4,
 "nbformat_minor": 2
}
