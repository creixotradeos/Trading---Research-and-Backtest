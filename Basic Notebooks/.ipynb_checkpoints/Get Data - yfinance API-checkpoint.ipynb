{
 "cells": [
  {
   "cell_type": "markdown",
   "metadata": {
    "heading_collapsed": true
   },
   "source": [
    "# Libraries"
   ]
  },
  {
   "cell_type": "code",
   "execution_count": 1,
   "metadata": {
    "ExecuteTime": {
     "end_time": "2020-08-24T17:03:15.512553Z",
     "start_time": "2020-08-24T17:03:02.096242Z"
    },
    "code_folding": [],
    "hidden": true
   },
   "outputs": [],
   "source": [
    "# Libraries\n",
    "import os\n",
    "from alpha_vantage.timeseries import TimeSeries\n",
    "api_key = '092YO8Y7KS4D36UD'\n",
    "import numpy as np\n",
    "import pandas as pd\n",
    "import datetime\n",
    "import time\n",
    "import pandas_datareader as wb\n",
    "from pathlib import Path\n",
    "import yfinance as yf"
   ]
  },
  {
   "cell_type": "markdown",
   "metadata": {
    "heading_collapsed": true
   },
   "source": [
    "# List of Equities"
   ]
  },
  {
   "cell_type": "code",
   "execution_count": 2,
   "metadata": {
    "ExecuteTime": {
     "end_time": "2020-08-24T17:03:15.522562Z",
     "start_time": "2020-08-24T17:03:15.515566Z"
    },
    "code_folding": [],
    "hidden": true
   },
   "outputs": [],
   "source": [
    "# list of equities\n",
    "us_tickers = ['AAPL', 'AMZN', 'FB', 'NFLX', 'SPY', 'TSLA', 'V']\n",
    "id_tickers = ['^JKSE', 'BBCA.JK', 'GGRM.JK', 'JPFA.JK', 'TLKM.JK']\n",
    "full_tickers = us_tickers + id_tickers"
   ]
  },
  {
   "cell_type": "markdown",
   "metadata": {},
   "source": [
    "# Intraday Data"
   ]
  },
  {
   "cell_type": "code",
   "execution_count": 36,
   "metadata": {
    "ExecuteTime": {
     "end_time": "2020-08-24T17:43:08.129039Z",
     "start_time": "2020-08-24T17:43:08.113048Z"
    },
    "code_folding": []
   },
   "outputs": [],
   "source": [
    "# Set interval and Get_Intraday function\n",
    "intervals = ['1m', '2m', '5m', '15m', '30m', '60m', '90m']\n",
    "def Get_Intraday(tickers, intervals, start=None, end=None, period='60d'):\n",
    "    \"\"\"Get Intraday Data of Stocks and such\n",
    "    Parameters\n",
    "    -----------\n",
    "        tickers : list\n",
    "            List of tickers or equities symbol to get\n",
    "        intervals : list\n",
    "            Valid intervals: ['1m', '2m', '5m', '15m', '30m', '60m', '90m']\n",
    "            Intervals for intraday data\n",
    "        start: datetime.date, default None\n",
    "            Date start for getting data\n",
    "        end: datetime.date, default None\n",
    "            Date end for getting data\n",
    "        period: str\n",
    "            Valid period: 1d,5d,1mo,3mo,6mo,1y,2y,5y,10y,ytd,max , default 60d\n",
    "            For intraday data max is 60d. Secondary if start and end are None\n",
    "    \"\"\"\n",
    "    \n",
    "    for ticker in tickers:\n",
    "        for interval in intervals:\n",
    "            if interval == '1m':\n",
    "                period = '7d'\n",
    "            else:\n",
    "                period = '60d'\n",
    "            data = yf.Ticker(ticker)\n",
    "            data = data.history(period=period, interval=interval, prepost = True, auto_adjust=False)\n",
    "            data.sort_index(ascending = True, inplace = True)\n",
    "#             data['Time'] = data.index.time\n",
    "#             data['Date'] = data.index.date\n",
    "#             data.reset_index(inplace=True)\n",
    "#             data.set_index('Date', inplace=True)\n",
    "            current_data_path = Path('C:\\\\Users\\\\asus\\\\Documents\\\\Python Projects\\\\Trading - Research and Backtest\\\\'+ticker+ \\\n",
    "                                          '\\\\Databases\\\\'+ticker+'-'+interval+'in.csv')\n",
    "            if not current_data_path.exists():\n",
    "                print('Oops, file doesn\\'t exist. Create new '+ticker+'-'+interval+'in file')\n",
    "                data.to_csv(current_data_path, date_format = ('%Y-%m-%d %H:%M:%S'), index = True, index_label = 'Datetime' )\n",
    "            else:\n",
    "                print('Yay, the file exists! Updating '+ticker+'-'+interval+'in file')\n",
    "                new_data = data.loc[start : end]\n",
    "                new_data.to_csv(current_data_path, mode = 'a', header = False, date_format = ('%Y-%m-%d %H:%M:%S'), index = True,\n",
    "                                index_label = 'Datetime')\n",
    "                updated_data = pd.read_csv(current_data_path, index_col='Datetime')\n",
    "                updated_data = updated_data[~updated_data.index.duplicated(keep='first')]\n",
    "                updated_data.sort_index(ascending=True, inplace=True)\n",
    "                updated_data.to_csv(current_data_path, date_format = ('%Y-%m-%d %H:%M:%S'), index = True)\n",
    "    print('Get Data Done!')"
   ]
  },
  {
   "cell_type": "code",
   "execution_count": 37,
   "metadata": {
    "ExecuteTime": {
     "end_time": "2020-08-24T17:45:01.181042Z",
     "start_time": "2020-08-24T17:43:47.899561Z"
    },
    "code_folding": []
   },
   "outputs": [
    {
     "name": "stdout",
     "output_type": "stream",
     "text": [
      "Yay, the file exists! Updating AAPL-1min file\n",
      "Yay, the file exists! Updating AAPL-2min file\n",
      "Yay, the file exists! Updating AAPL-5min file\n",
      "Yay, the file exists! Updating AAPL-15min file\n",
      "Yay, the file exists! Updating AAPL-30min file\n",
      "Yay, the file exists! Updating AAPL-60min file\n",
      "Yay, the file exists! Updating AAPL-90min file\n",
      "Yay, the file exists! Updating AMZN-1min file\n",
      "Yay, the file exists! Updating AMZN-2min file\n",
      "Yay, the file exists! Updating AMZN-5min file\n",
      "Yay, the file exists! Updating AMZN-15min file\n",
      "Yay, the file exists! Updating AMZN-30min file\n",
      "Yay, the file exists! Updating AMZN-60min file\n",
      "Yay, the file exists! Updating AMZN-90min file\n",
      "Yay, the file exists! Updating FB-1min file\n",
      "Yay, the file exists! Updating FB-2min file\n",
      "Yay, the file exists! Updating FB-5min file\n",
      "Yay, the file exists! Updating FB-15min file\n",
      "Yay, the file exists! Updating FB-30min file\n",
      "Yay, the file exists! Updating FB-60min file\n",
      "Yay, the file exists! Updating FB-90min file\n",
      "Yay, the file exists! Updating NFLX-1min file\n",
      "Yay, the file exists! Updating NFLX-2min file\n",
      "Yay, the file exists! Updating NFLX-5min file\n",
      "Yay, the file exists! Updating NFLX-15min file\n",
      "Yay, the file exists! Updating NFLX-30min file\n",
      "Yay, the file exists! Updating NFLX-60min file\n",
      "Yay, the file exists! Updating NFLX-90min file\n",
      "Yay, the file exists! Updating SPY-1min file\n",
      "Yay, the file exists! Updating SPY-2min file\n",
      "Yay, the file exists! Updating SPY-5min file\n",
      "Yay, the file exists! Updating SPY-15min file\n",
      "Yay, the file exists! Updating SPY-30min file\n",
      "Yay, the file exists! Updating SPY-60min file\n",
      "Yay, the file exists! Updating SPY-90min file\n",
      "Yay, the file exists! Updating TSLA-1min file\n",
      "Yay, the file exists! Updating TSLA-2min file\n",
      "Yay, the file exists! Updating TSLA-5min file\n",
      "Yay, the file exists! Updating TSLA-15min file\n",
      "Yay, the file exists! Updating TSLA-30min file\n",
      "Yay, the file exists! Updating TSLA-60min file\n",
      "Yay, the file exists! Updating TSLA-90min file\n",
      "Yay, the file exists! Updating V-1min file\n",
      "Yay, the file exists! Updating V-2min file\n",
      "Yay, the file exists! Updating V-5min file\n",
      "Yay, the file exists! Updating V-15min file\n",
      "Yay, the file exists! Updating V-30min file\n",
      "Yay, the file exists! Updating V-60min file\n",
      "Yay, the file exists! Updating V-90min file\n",
      "Yay, the file exists! Updating ^JKSE-1min file\n",
      "Yay, the file exists! Updating ^JKSE-2min file\n",
      "Yay, the file exists! Updating ^JKSE-5min file\n",
      "Yay, the file exists! Updating ^JKSE-15min file\n",
      "Yay, the file exists! Updating ^JKSE-30min file\n",
      "Yay, the file exists! Updating ^JKSE-60min file\n",
      "Yay, the file exists! Updating ^JKSE-90min file\n",
      "Yay, the file exists! Updating BBCA.JK-1min file\n",
      "Yay, the file exists! Updating BBCA.JK-2min file\n",
      "Yay, the file exists! Updating BBCA.JK-5min file\n",
      "Yay, the file exists! Updating BBCA.JK-15min file\n",
      "Yay, the file exists! Updating BBCA.JK-30min file\n",
      "Yay, the file exists! Updating BBCA.JK-60min file\n",
      "Yay, the file exists! Updating BBCA.JK-90min file\n",
      "Yay, the file exists! Updating GGRM.JK-1min file\n",
      "Yay, the file exists! Updating GGRM.JK-2min file\n",
      "Yay, the file exists! Updating GGRM.JK-5min file\n",
      "Yay, the file exists! Updating GGRM.JK-15min file\n",
      "Yay, the file exists! Updating GGRM.JK-30min file\n",
      "Yay, the file exists! Updating GGRM.JK-60min file\n",
      "Yay, the file exists! Updating GGRM.JK-90min file\n",
      "Yay, the file exists! Updating JPFA.JK-1min file\n",
      "Yay, the file exists! Updating JPFA.JK-2min file\n",
      "Yay, the file exists! Updating JPFA.JK-5min file\n",
      "Yay, the file exists! Updating JPFA.JK-15min file\n",
      "Yay, the file exists! Updating JPFA.JK-30min file\n",
      "Yay, the file exists! Updating JPFA.JK-60min file\n",
      "Yay, the file exists! Updating JPFA.JK-90min file\n",
      "Yay, the file exists! Updating TLKM.JK-1min file\n",
      "Yay, the file exists! Updating TLKM.JK-2min file\n",
      "Yay, the file exists! Updating TLKM.JK-5min file\n",
      "Yay, the file exists! Updating TLKM.JK-15min file\n",
      "Yay, the file exists! Updating TLKM.JK-30min file\n",
      "Yay, the file exists! Updating TLKM.JK-60min file\n",
      "Yay, the file exists! Updating TLKM.JK-90min file\n",
      "Get Data Done!\n"
     ]
    }
   ],
   "source": [
    "#Retrieve Data\n",
    "Get_Intraday(full_tickers, intervals=intervals)"
   ]
  },
  {
   "cell_type": "markdown",
   "metadata": {},
   "source": [
    "# Daily Data"
   ]
  },
  {
   "cell_type": "code",
   "execution_count": null,
   "metadata": {
    "ExecuteTime": {
     "end_time": "2020-08-24T17:03:16.767590Z",
     "start_time": "2020-08-24T17:03:02.114Z"
    },
    "code_folding": [
     2
    ]
   },
   "outputs": [],
   "source": [
    "# Set interval and Get_Daily function\n",
    "intervals= ['1d', '5d', '1wk', '1mo', '3mo']\n",
    "def Get_Daily(tickers, intervals, start=None, end=None, period='max'):\n",
    "    \"\"\"Get Daily Data of Stocks and such\n",
    "    Parameters\n",
    "    -----------\n",
    "        tickers : list\n",
    "            List of tickers or equities symbol to get\n",
    "        intervals : list\n",
    "            Valid intervals: ['1d', '5d', '1wk', '1mo', '3mo']\n",
    "            Intervals for daily\n",
    "        start: datetime.date, default None\n",
    "            Date start for getting data\n",
    "        end: datetime.date, default None\n",
    "            Date end for getting data\n",
    "        period: str\n",
    "            Valid period: 1d,5d,1mo,3mo,6mo,1y,2y,5y,10y,ytd,max , default max\n",
    "            For intraday data max is 60d. Secondary if start and end are None\n",
    "    \"\"\"\n",
    "    \n",
    "    for ticker in tickers:\n",
    "        for interval in intervals:\n",
    "            data = yf.Ticker(ticker)\n",
    "            data = data.history(period=period, interval=interval, prepost = True, auto_adjust=False)\n",
    "            data.sort_index(ascending = True, inplace = True)\n",
    "            current_data_path = Path('C:\\\\Users\\\\asus\\\\Documents\\\\Python Projects\\\\Trading - Research and Backtest\\\\'+ticker+ \\\n",
    "                                          '\\\\Databases\\\\'+ticker+'-'+interval+'.csv')\n",
    "            if not current_data_path.exists():\n",
    "                print('Oops, file doesn\\'t exist. Create new '+ticker+'-'+interval+' file')\n",
    "                data.to_csv(current_data_path, date_format = ('%Y-%m-%d'), index = True, index_label = 'Date' )\n",
    "            else:\n",
    "                print('Yay, the file exists! Updating '+ticker+'-'+interval+' file')\n",
    "                data.to_csv(current_data_path, date_format = ('%Y-%m-%d'), index = True, index_label = 'Date' )\n",
    "    print('Get Data Done!')"
   ]
  },
  {
   "cell_type": "code",
   "execution_count": null,
   "metadata": {
    "ExecuteTime": {
     "end_time": "2020-08-24T17:03:16.771588Z",
     "start_time": "2020-08-24T17:03:02.118Z"
    },
    "code_folding": []
   },
   "outputs": [],
   "source": [
    "# Retrieve Data\n",
    "Get_Daily(full_tickers, intervals=intervals)"
   ]
  }
 ],
 "metadata": {
  "kernelspec": {
   "display_name": "Python 3",
   "language": "python",
   "name": "python3"
  },
  "language_info": {
   "codemirror_mode": {
    "name": "ipython",
    "version": 3
   },
   "file_extension": ".py",
   "mimetype": "text/x-python",
   "name": "python",
   "nbconvert_exporter": "python",
   "pygments_lexer": "ipython3",
   "version": "3.7.4"
  },
  "toc": {
   "base_numbering": 1,
   "nav_menu": {},
   "number_sections": false,
   "sideBar": true,
   "skip_h1_title": false,
   "title_cell": "Table of Contents",
   "title_sidebar": "Contents",
   "toc_cell": false,
   "toc_position": {},
   "toc_section_display": true,
   "toc_window_display": false
  },
  "varInspector": {
   "cols": {
    "lenName": 16,
    "lenType": 16,
    "lenVar": 40
   },
   "kernels_config": {
    "python": {
     "delete_cmd_postfix": "",
     "delete_cmd_prefix": "del ",
     "library": "var_list.py",
     "varRefreshCmd": "print(var_dic_list())"
    },
    "r": {
     "delete_cmd_postfix": ") ",
     "delete_cmd_prefix": "rm(",
     "library": "var_list.r",
     "varRefreshCmd": "cat(var_dic_list()) "
    }
   },
   "types_to_exclude": [
    "module",
    "function",
    "builtin_function_or_method",
    "instance",
    "_Feature"
   ],
   "window_display": false
  }
 },
 "nbformat": 4,
 "nbformat_minor": 2
}
