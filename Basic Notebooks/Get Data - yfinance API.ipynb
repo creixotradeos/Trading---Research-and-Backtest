{
 "cells": [
  {
   "cell_type": "markdown",
   "metadata": {},
   "source": [
    "# Libraries"
   ]
  },
  {
   "cell_type": "code",
   "execution_count": 2,
   "metadata": {
    "ExecuteTime": {
     "end_time": "2020-09-11T11:59:14.374307Z",
     "start_time": "2020-09-11T11:59:11.950901Z"
    },
    "code_folding": []
   },
   "outputs": [],
   "source": [
    "# Libraries\n",
    "import os\n",
    "from alpha_vantage.timeseries import TimeSeries\n",
    "api_key = '092YO8Y7KS4D36UD'\n",
    "import numpy as np\n",
    "import pandas as pd\n",
    "import datetime\n",
    "import time\n",
    "import pandas_datareader as wb\n",
    "from pathlib import Path\n",
    "import yfinance as yf"
   ]
  },
  {
   "cell_type": "markdown",
   "metadata": {},
   "source": [
    "# List of Equities"
   ]
  },
  {
   "cell_type": "code",
   "execution_count": 3,
   "metadata": {
    "ExecuteTime": {
     "end_time": "2020-09-11T11:59:14.418203Z",
     "start_time": "2020-09-11T11:59:14.406213Z"
    },
    "code_folding": []
   },
   "outputs": [],
   "source": [
    "# list of equities\n",
    "us_tickers = ['AAPL', 'AMZN', 'FB', 'NFLX', 'SPY', 'TSLA', 'V']\n",
    "id_tickers = ['^JKSE', 'BBCA.JK', 'GGRM.JK', 'JPFA.JK', 'TLKM.JK']\n",
    "forex = ['USDIDR=X', 'IDRUSD=X', 'USDEUR=X', 'EURUSD=X', 'USDCNY=X', 'CNYUSD=X', 'SGDIDR=X', 'IDRSGD=X', 'USDSGD=X', 'SGDUSD=X',\\\n",
    "        'GBPJPY=X', 'JPYGBP=X']\n",
    "full_tickers = us_tickers + id_tickers + forex"
   ]
  },
  {
   "cell_type": "markdown",
   "metadata": {},
   "source": [
    "# Intraday Data"
   ]
  },
  {
   "cell_type": "code",
   "execution_count": 4,
   "metadata": {
    "ExecuteTime": {
     "end_time": "2020-09-11T11:59:20.586575Z",
     "start_time": "2020-09-11T11:59:20.563591Z"
    },
    "code_folding": [
     0
    ]
   },
   "outputs": [],
   "source": [
    "# Set interval and Get_Intraday function\n",
    "def Get_Intraday(tickers, intervals, start=None, end=None, period='60d'):\n",
    "    \"\"\"Get Intraday Data of Stocks and such\n",
    "    Parameters\n",
    "    -----------\n",
    "        tickers : list\n",
    "            List of tickers or equities symbol to get\n",
    "        intervals : list\n",
    "            Valid intervals: ['1m', '2m', '5m', '15m', '30m', '60m', '90m']\n",
    "            Intervals for intraday data\n",
    "        start: datetime.date, default None\n",
    "            Date start for getting data\n",
    "        end: datetime.date, default None\n",
    "            Date end for getting data\n",
    "        period: str\n",
    "            Valid period: 1d,5d,1mo,3mo,6mo,1y,2y,5y,10y,ytd,max , default 60d\n",
    "            For intraday data max is 60d. Secondary if start and end are None\n",
    "    \"\"\"\n",
    "    \n",
    "    for ticker in tickers:\n",
    "        for interval in intervals:\n",
    "            if interval == '1m':\n",
    "                period = '7d'\n",
    "            else:\n",
    "                period = '60d'\n",
    "            data = yf.Ticker(ticker)\n",
    "            data = data.history(period=period, interval=interval, prepost = True, auto_adjust=False)\n",
    "            data.sort_index(ascending = True, inplace = True)\n",
    "#             data['Time'] = data.index.time\n",
    "#             data['Date'] = data.index.date\n",
    "#             data.reset_index(inplace=True)\n",
    "#             data.set_index('Date', inplace=True)\n",
    "            current_data_path = Path('C:\\\\Users\\\\asus\\\\Documents\\\\Python Projects\\\\Trading - Research and Backtest\\\\'+ticker+ \\\n",
    "                                          '\\\\Databases\\\\'+ticker+'-'+interval+'in.csv')\n",
    "            if not current_data_path.exists():\n",
    "                print('Oops, file doesn\\'t exist. Create new '+ticker+'-'+interval+'in file')\n",
    "                data.to_csv(current_data_path, date_format = ('%Y-%m-%d %H:%M:%S'), index = True, index_label = 'Datetime' )\n",
    "            else:\n",
    "                print('Yay, the file exists! Updating '+ticker+'-'+interval+'in file')\n",
    "                new_data = data.loc[start : end]\n",
    "                new_data.to_csv(current_data_path, mode = 'a', header = False, date_format = ('%Y-%m-%d %H:%M:%S'), index = True,\n",
    "                                index_label = 'Datetime')\n",
    "                updated_data = pd.read_csv(current_data_path, index_col='Datetime')\n",
    "                updated_data = updated_data[~updated_data.index.duplicated(keep='first')]\n",
    "                updated_data.sort_index(ascending=True, inplace=True)\n",
    "                updated_data.to_csv(current_data_path, date_format = ('%Y-%m-%d %H:%M:%S'), index = True)\n",
    "    print('Get Data Done!')"
   ]
  },
  {
   "cell_type": "code",
   "execution_count": 5,
   "metadata": {
    "ExecuteTime": {
     "end_time": "2020-09-11T12:01:01.732880Z",
     "start_time": "2020-09-11T11:59:31.203244Z"
    },
    "code_folding": [],
    "scrolled": true
   },
   "outputs": [
    {
     "name": "stdout",
     "output_type": "stream",
     "text": [
      "Yay, the file exists! Updating USDIDR=X-1min file\n",
      "Yay, the file exists! Updating USDIDR=X-2min file\n",
      "Yay, the file exists! Updating USDIDR=X-5min file\n",
      "Yay, the file exists! Updating USDIDR=X-15min file\n",
      "Yay, the file exists! Updating USDIDR=X-30min file\n",
      "Yay, the file exists! Updating USDIDR=X-60min file\n",
      "Yay, the file exists! Updating USDIDR=X-90min file\n",
      "Yay, the file exists! Updating IDRUSD=X-1min file\n",
      "Yay, the file exists! Updating IDRUSD=X-2min file\n",
      "Yay, the file exists! Updating IDRUSD=X-5min file\n",
      "Yay, the file exists! Updating IDRUSD=X-15min file\n",
      "Yay, the file exists! Updating IDRUSD=X-30min file\n",
      "Yay, the file exists! Updating IDRUSD=X-60min file\n",
      "Yay, the file exists! Updating IDRUSD=X-90min file\n",
      "Yay, the file exists! Updating USDEUR=X-1min file\n",
      "Yay, the file exists! Updating USDEUR=X-2min file\n",
      "Yay, the file exists! Updating USDEUR=X-5min file\n",
      "Yay, the file exists! Updating USDEUR=X-15min file\n",
      "Yay, the file exists! Updating USDEUR=X-30min file\n",
      "Yay, the file exists! Updating USDEUR=X-60min file\n",
      "Yay, the file exists! Updating USDEUR=X-90min file\n",
      "Yay, the file exists! Updating EURUSD=X-1min file\n",
      "Yay, the file exists! Updating EURUSD=X-2min file\n",
      "Yay, the file exists! Updating EURUSD=X-5min file\n",
      "Yay, the file exists! Updating EURUSD=X-15min file\n",
      "Yay, the file exists! Updating EURUSD=X-30min file\n",
      "Yay, the file exists! Updating EURUSD=X-60min file\n",
      "Yay, the file exists! Updating EURUSD=X-90min file\n",
      "Yay, the file exists! Updating USDCNY=X-1min file\n",
      "Yay, the file exists! Updating USDCNY=X-2min file\n",
      "Yay, the file exists! Updating USDCNY=X-5min file\n",
      "Yay, the file exists! Updating USDCNY=X-15min file\n",
      "Yay, the file exists! Updating USDCNY=X-30min file\n",
      "Yay, the file exists! Updating USDCNY=X-60min file\n",
      "Yay, the file exists! Updating USDCNY=X-90min file\n",
      "Yay, the file exists! Updating CNYUSD=X-1min file\n",
      "Yay, the file exists! Updating CNYUSD=X-2min file\n",
      "Yay, the file exists! Updating CNYUSD=X-5min file\n",
      "Yay, the file exists! Updating CNYUSD=X-15min file\n",
      "Yay, the file exists! Updating CNYUSD=X-30min file\n",
      "Yay, the file exists! Updating CNYUSD=X-60min file\n",
      "Yay, the file exists! Updating CNYUSD=X-90min file\n",
      "Yay, the file exists! Updating SGDIDR=X-1min file\n",
      "Yay, the file exists! Updating SGDIDR=X-2min file\n",
      "Yay, the file exists! Updating SGDIDR=X-5min file\n",
      "Yay, the file exists! Updating SGDIDR=X-15min file\n",
      "Yay, the file exists! Updating SGDIDR=X-30min file\n",
      "Yay, the file exists! Updating SGDIDR=X-60min file\n",
      "Yay, the file exists! Updating SGDIDR=X-90min file\n",
      "Yay, the file exists! Updating IDRSGD=X-1min file\n",
      "Yay, the file exists! Updating IDRSGD=X-2min file\n",
      "Yay, the file exists! Updating IDRSGD=X-5min file\n",
      "Yay, the file exists! Updating IDRSGD=X-15min file\n",
      "Yay, the file exists! Updating IDRSGD=X-30min file\n",
      "Yay, the file exists! Updating IDRSGD=X-60min file\n",
      "Yay, the file exists! Updating IDRSGD=X-90min file\n",
      "Yay, the file exists! Updating USDSGD=X-1min file\n",
      "Yay, the file exists! Updating USDSGD=X-2min file\n",
      "Yay, the file exists! Updating USDSGD=X-5min file\n",
      "Yay, the file exists! Updating USDSGD=X-15min file\n",
      "Yay, the file exists! Updating USDSGD=X-30min file\n",
      "Yay, the file exists! Updating USDSGD=X-60min file\n",
      "Yay, the file exists! Updating USDSGD=X-90min file\n",
      "Yay, the file exists! Updating SGDUSD=X-1min file\n",
      "Yay, the file exists! Updating SGDUSD=X-2min file\n",
      "Yay, the file exists! Updating SGDUSD=X-5min file\n",
      "Yay, the file exists! Updating SGDUSD=X-15min file\n",
      "Yay, the file exists! Updating SGDUSD=X-30min file\n",
      "Yay, the file exists! Updating SGDUSD=X-60min file\n",
      "Yay, the file exists! Updating SGDUSD=X-90min file\n",
      "Oops, file doesn't exist. Create new GBPJPY=X-1min file\n",
      "Oops, file doesn't exist. Create new GBPJPY=X-2min file\n",
      "Oops, file doesn't exist. Create new GBPJPY=X-5min file\n",
      "Oops, file doesn't exist. Create new GBPJPY=X-15min file\n",
      "Oops, file doesn't exist. Create new GBPJPY=X-30min file\n",
      "Oops, file doesn't exist. Create new GBPJPY=X-60min file\n",
      "Oops, file doesn't exist. Create new GBPJPY=X-90min file\n",
      "Oops, file doesn't exist. Create new JPYGBP=X-1min file\n",
      "Oops, file doesn't exist. Create new JPYGBP=X-2min file\n",
      "Oops, file doesn't exist. Create new JPYGBP=X-5min file\n",
      "Oops, file doesn't exist. Create new JPYGBP=X-15min file\n",
      "Oops, file doesn't exist. Create new JPYGBP=X-30min file\n",
      "Oops, file doesn't exist. Create new JPYGBP=X-60min file\n",
      "Oops, file doesn't exist. Create new JPYGBP=X-90min file\n",
      "Get Data Done!\n"
     ]
    }
   ],
   "source": [
    "#Retrieve Data\n",
    "intervals = ['1m', '2m', '5m', '15m', '30m', '60m', '90m']\n",
    "Get_Intraday(forex, intervals=intervals)"
   ]
  },
  {
   "cell_type": "markdown",
   "metadata": {},
   "source": [
    "# Daily Data"
   ]
  },
  {
   "cell_type": "code",
   "execution_count": 7,
   "metadata": {
    "ExecuteTime": {
     "end_time": "2020-09-11T12:02:23.106286Z",
     "start_time": "2020-09-11T12:02:23.091295Z"
    },
    "code_folding": [
     0
    ]
   },
   "outputs": [],
   "source": [
    "# Set interval and Get_Daily function\n",
    "\n",
    "def Get_Daily(tickers, intervals, start=None, end=None, period='max'):\n",
    "    \"\"\"Get Daily Data of Stocks and such\n",
    "    Parameters\n",
    "    -----------\n",
    "        tickers : list\n",
    "            List of tickers or equities symbol to get\n",
    "        intervals : list\n",
    "            Valid intervals: ['1d', '5d', '1wk', '1mo', '3mo']\n",
    "            Intervals for daily\n",
    "        start: datetime.date, default None\n",
    "            Date start for getting data\n",
    "        end: datetime.date, default None\n",
    "            Date end for getting data\n",
    "        period: str\n",
    "            Valid period: 1d,5d,1mo,3mo,6mo,1y,2y,5y,10y,ytd,max , default max\n",
    "            For intraday data max is 60d. Secondary if start and end are None\n",
    "    \"\"\"\n",
    "    \n",
    "    for ticker in tickers:\n",
    "        for interval in intervals:\n",
    "            data = yf.Ticker(ticker)\n",
    "            data = data.history(period=period, interval=interval, prepost = True, auto_adjust=False)\n",
    "            data.sort_index(ascending = True, inplace = True)\n",
    "            current_data_path = Path('C:\\\\Users\\\\asus\\\\Documents\\\\Python Projects\\\\Trading - Research and Backtest\\\\'+ticker+ \\\n",
    "                                          '\\\\Databases\\\\'+ticker+'-'+interval+'.csv')\n",
    "            if not current_data_path.exists():\n",
    "                print('Oops, file doesn\\'t exist. Create new '+ticker+'-'+interval+' file')\n",
    "                data.to_csv(current_data_path, date_format = ('%Y-%m-%d'), index = True, index_label = 'Date' )\n",
    "            else:\n",
    "                print('Yay, the file exists! Updating '+ticker+'-'+interval+' file')\n",
    "                data.to_csv(current_data_path, date_format = ('%Y-%m-%d'), index = True, index_label = 'Date' )\n",
    "    print('Get Data Done!')"
   ]
  },
  {
   "cell_type": "code",
   "execution_count": 8,
   "metadata": {
    "ExecuteTime": {
     "end_time": "2020-09-11T12:02:41.309563Z",
     "start_time": "2020-09-11T12:02:37.722499Z"
    },
    "code_folding": []
   },
   "outputs": [
    {
     "name": "stdout",
     "output_type": "stream",
     "text": [
      "Oops, file doesn't exist. Create new GBPJPY=X-1d file\n",
      "Oops, file doesn't exist. Create new GBPJPY=X-5d file\n",
      "Oops, file doesn't exist. Create new GBPJPY=X-1wk file\n",
      "Oops, file doesn't exist. Create new GBPJPY=X-1mo file\n",
      "Oops, file doesn't exist. Create new GBPJPY=X-3mo file\n",
      "Oops, file doesn't exist. Create new JPYGBP=X-1d file\n",
      "Oops, file doesn't exist. Create new JPYGBP=X-5d file\n",
      "Oops, file doesn't exist. Create new JPYGBP=X-1wk file\n",
      "Oops, file doesn't exist. Create new JPYGBP=X-1mo file\n",
      "Oops, file doesn't exist. Create new JPYGBP=X-3mo file\n",
      "Get Data Done!\n"
     ]
    }
   ],
   "source": [
    "# Retrieve Data\n",
    "intervals= ['1d', '5d', '1wk', '1mo', '3mo']\n",
    "Get_Daily(['GBPJPY=X', 'JPYGBP=X'], intervals=intervals)"
   ]
  },
  {
   "cell_type": "code",
   "execution_count": 9,
   "metadata": {
    "ExecuteTime": {
     "end_time": "2020-09-11T12:02:41.365983Z",
     "start_time": "2020-09-11T12:02:41.355969Z"
    }
   },
   "outputs": [
    {
     "name": "stdout",
     "output_type": "stream",
     "text": [
      "Download Data Done\n"
     ]
    }
   ],
   "source": [
    "print('Download Data Done')"
   ]
  }
 ],
 "metadata": {
  "kernelspec": {
   "display_name": "Python 3",
   "language": "python",
   "name": "python3"
  },
  "language_info": {
   "codemirror_mode": {
    "name": "ipython",
    "version": 3
   },
   "file_extension": ".py",
   "mimetype": "text/x-python",
   "name": "python",
   "nbconvert_exporter": "python",
   "pygments_lexer": "ipython3",
   "version": "3.7.7"
  },
  "toc": {
   "base_numbering": 1,
   "nav_menu": {},
   "number_sections": false,
   "sideBar": true,
   "skip_h1_title": false,
   "title_cell": "Table of Contents",
   "title_sidebar": "Contents",
   "toc_cell": false,
   "toc_position": {},
   "toc_section_display": true,
   "toc_window_display": true
  },
  "varInspector": {
   "cols": {
    "lenName": 16,
    "lenType": 16,
    "lenVar": 40
   },
   "kernels_config": {
    "python": {
     "delete_cmd_postfix": "",
     "delete_cmd_prefix": "del ",
     "library": "var_list.py",
     "varRefreshCmd": "print(var_dic_list())"
    },
    "r": {
     "delete_cmd_postfix": ") ",
     "delete_cmd_prefix": "rm(",
     "library": "var_list.r",
     "varRefreshCmd": "cat(var_dic_list()) "
    }
   },
   "types_to_exclude": [
    "module",
    "function",
    "builtin_function_or_method",
    "instance",
    "_Feature"
   ],
   "window_display": false
  }
 },
 "nbformat": 4,
 "nbformat_minor": 2
}
