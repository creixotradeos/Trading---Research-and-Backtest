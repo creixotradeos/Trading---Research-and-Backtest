{
 "cells": [
  {
   "cell_type": "markdown",
   "metadata": {
    "heading_collapsed": true
   },
   "source": [
    "# Libraries"
   ]
  },
  {
   "cell_type": "code",
   "execution_count": 64,
   "metadata": {
    "ExecuteTime": {
     "end_time": "2020-09-11T10:21:42.175770Z",
     "start_time": "2020-09-11T10:21:42.110166Z"
    },
    "code_folding": [
     0
    ],
    "hidden": true
   },
   "outputs": [],
   "source": [
    "# Basics\n",
    "import pandas as pd\n",
    "import numpy as np\n",
    "import os\n",
    "from pathlib import Path\n",
    "from jupyterthemes import jtplot\n",
    "jtplot.style(theme='monokai')\n",
    "from tabulate import tabulate\n",
    "import warnings\n",
    "warnings.filterwarnings('ignore')\n",
    "from datetime import datetime  \n",
    "from datetime import timedelta \n",
    "import pickle\n",
    "\n",
    "# PLotting\n",
    "import matplotlib.pyplot as plt\n",
    "%matplotlib inline\n",
    "import seaborn as sns\n",
    "\n",
    "# Scipy\n",
    "from scipy import stats\n",
    "\n",
    "# Tensorflow keras\n",
    "import tensorflow as tf\n",
    "from tensorflow.keras.models import Sequential, load_model\n",
    "from tensorflow.keras.layers import Input, Dense, GRU, Embedding\n",
    "from tensorflow.keras.optimizers import RMSprop\n",
    "from tensorflow.keras.callbacks import EarlyStopping, ModelCheckpoint, TensorBoard, ReduceLROnPlateau\n",
    "from tensorflow.keras.backend import square, mean\n",
    "\n",
    "# Scikit-learn\n",
    "import sklearn\n",
    "from sklearn.cluster import KMeans\n",
    "from sklearn.metrics import silhouette_score\n",
    "from sklearn import preprocessing, metrics\n",
    "from sklearn.ensemble import ExtraTreesClassifier, RandomForestRegressor\n",
    "from sklearn.datasets import load_digits\n",
    "from sklearn.feature_selection import SelectKBest, chi2, RFE\n",
    "from sklearn.preprocessing import MinMaxScaler\n",
    "from sklearn.metrics import r2_score\n",
    "from sklearn.metrics import mean_squared_error\n",
    "from sklearn.datasets import make_regression\n",
    "from sklearn.model_selection import RepeatedKFold\n",
    "from sklearn.feature_selection import SelectKBest, mutual_info_regression, SelectFromModel\n",
    "from sklearn.linear_model import LinearRegression, LogisticRegression, BayesianRidge, LassoLars\n",
    "from sklearn.pipeline import Pipeline\n",
    "from sklearn.model_selection import GridSearchCV\n",
    "\n",
    "# Statsmodels\n",
    "from statsmodels.tsa.seasonal import seasonal_decompose\n",
    "from statsmodels.tsa.stattools import adfuller # ADF, check for seasonality of data\n",
    "from statsmodels.tsa.ar_model import AutoReg # Residual Analysis"
   ]
  },
  {
   "cell_type": "markdown",
   "metadata": {},
   "source": [
    "# Load Data"
   ]
  },
  {
   "cell_type": "code",
   "execution_count": 65,
   "metadata": {
    "ExecuteTime": {
     "end_time": "2020-09-11T10:21:42.552334Z",
     "start_time": "2020-09-11T10:21:42.179769Z"
    },
    "code_folding": [
     1
    ]
   },
   "outputs": [],
   "source": [
    "# Load data\n",
    "def load_stock_data(ticker, interval):\n",
    "    \"\"\"\n",
    "    This function load stock data from Database files by first changing the working directory, loading the data and reset the working directory to the original path\n",
    "    \n",
    "    Parameters\n",
    "    ----------\n",
    "    ticker : str\n",
    "        a string that describes the stock ticker, as listed in the file name\n",
    "    interval : str\n",
    "        an interval string according to the existing files in the databases\n",
    "    \"\"\"\n",
    "    # Record original working directory\n",
    "    owd = os.getcwd()\n",
    "    # Change directory\n",
    "    os.chdir('C:\\\\Users\\\\asus\\\\Documents\\\\Python Projects\\\\Trading - Research and Backtest\\\\'+ticker+'\\\\Databases\\\\')\n",
    "    datapath = os.getcwd()+'\\\\'\n",
    "    # Record all available files\n",
    "    files = []\n",
    "    for (dirpath, dirname, filenames) in os.walk(datapath):\n",
    "        files.extend(filenames)\n",
    "        break\n",
    "    # Import as dataframe  \n",
    "    df = pd.read_csv(datapath+ticker+'-'+interval+'.csv', parse_dates=True, index_col='Datetime')\n",
    "    # Return working directory to original\n",
    "    os.chdir(owd)\n",
    "    return df\n",
    "interval = '5min' # Choose interval\n",
    "df_aapl = load_stock_data('AAPL', interval=interval)\n",
    "df_spy = load_stock_data('SPY', interval=interval)"
   ]
  },
  {
   "cell_type": "code",
   "execution_count": 66,
   "metadata": {
    "ExecuteTime": {
     "end_time": "2020-09-11T10:21:42.731383Z",
     "start_time": "2020-09-11T10:21:42.555296Z"
    },
    "code_folding": [
     0
    ]
   },
   "outputs": [],
   "source": [
    "# Merge Data\n",
    "start_date = '2020-08-25'\n",
    "start_time = '09:30'\n",
    "end_time = '16:00'\n",
    "df = pd.merge(df_aapl.between_time(start_time, end_time).loc[start_date:].drop(columns=['Close', 'Dividends', 'Stock Splits']),\n",
    "                    df_spy.between_time(start_time, end_time).loc[start_date:].drop(columns=['Close', 'Dividends', 'Stock Splits']),\n",
    "                    left_index=True, right_index=True\n",
    "                    )\n",
    "df.rename(columns={'Open_x': 'Open_AAPL', 'High_x': 'High_AAPL', 'Low_x': 'Low_AAPL', 'Adj Close_x': 'Close_AAPL', \n",
    "                         'Volume_x': 'Volume_AAPL', 'Open_y': 'Open_SPY', 'High_y': 'High_SPY', 'Low_y': 'Low_SPY', \n",
    "                         'Adj Close_y': 'Close_SPY', 'Volume_y': 'Volume_SPY'}, inplace=True)"
   ]
  },
  {
   "cell_type": "code",
   "execution_count": 100,
   "metadata": {
    "ExecuteTime": {
     "end_time": "2020-09-11T10:26:34.853784Z",
     "start_time": "2020-09-11T10:26:34.828799Z"
    },
    "code_folding": [
     1
    ]
   },
   "outputs": [],
   "source": [
    "# Load Variables\n",
    "def load_variables(filename=None):\n",
    "    with open(filename, 'rb') as f:\n",
    "        variables = pickle.load(f)\n",
    "    return variables\n",
    "variables = load_variables('AAPL-5min.pickle')"
   ]
  },
  {
   "cell_type": "markdown",
   "metadata": {},
   "source": [
    "# Data Manipulation"
   ]
  },
  {
   "cell_type": "markdown",
   "metadata": {},
   "source": [
    "## Seasonal Decomposing"
   ]
  },
  {
   "cell_type": "code",
   "execution_count": 68,
   "metadata": {
    "ExecuteTime": {
     "end_time": "2020-09-11T10:21:43.033661Z",
     "start_time": "2020-09-11T10:21:42.904512Z"
    },
    "code_folding": [
     0
    ]
   },
   "outputs": [],
   "source": [
    "def Seasonality_check(time_series, alpha = 0.05):\n",
    "    '''\n",
    "    Pass a time series, return an ADF report on data seasonality\n",
    "    H0: data is non-seasonal, default alpha = 0.05\n",
    "    Accept H0 if p-value > alpha\n",
    "    '''\n",
    "    result = adfuller(time_series)\n",
    "    return result[1] <= alpha"
   ]
  },
  {
   "cell_type": "code",
   "execution_count": 69,
   "metadata": {
    "ExecuteTime": {
     "end_time": "2020-09-11T10:21:43.156332Z",
     "start_time": "2020-09-11T10:21:43.036659Z"
    },
    "code_folding": [
     0
    ]
   },
   "outputs": [],
   "source": [
    "def runsTest(l, l_median, Zcritical=1.96): \n",
    "    runs, n1, n2 = 0, 0, 0\n",
    "    # Checking for start of new run \n",
    "    for i in range(len(l)): \n",
    "        # no. of runs \n",
    "        if (l[i] >= l_median and l[i-1] < l_median) or (l[i] < l_median and l[i-1] >= l_median): \n",
    "            runs += 1\n",
    "        # no. of positive values \n",
    "        if(l[i]) >= l_median: \n",
    "            n1 += 1\n",
    "        # no. of negative values \n",
    "        else: \n",
    "            n2 += 1\n",
    "    runs_exp = ((2*n1*n2)/(n1+n2))+1\n",
    "    stan_dev = np.sqrt((2*n1*n2*(2*n1*n2-n1-n2))/ \\\n",
    "                (((n1+n2)**2)*(n1+n2-1)))\n",
    "    z = (runs-runs_exp)/stan_dev\n",
    "    # Data is not random if |Z| > Zcritical\n",
    "    return abs(z) > Zcritical"
   ]
  },
  {
   "cell_type": "code",
   "execution_count": 70,
   "metadata": {
    "ExecuteTime": {
     "end_time": "2020-09-11T10:21:45.626028Z",
     "start_time": "2020-09-11T10:21:43.159883Z"
    },
    "code_folding": [
     0
    ]
   },
   "outputs": [
    {
     "name": "stdout",
     "output_type": "stream",
     "text": [
      "Volume_SPY  is random\n"
     ]
    }
   ],
   "source": [
    "# Decompose Data\n",
    "freq = variables['lag_freq'] # 120 minutes\n",
    "for column in df.columns:\n",
    "    if 'Volume' not in column:\n",
    "        TS_decompose = seasonal_decompose(df[column], model='additive', freq = freq, two_sided=False)\n",
    "        delta_trend = (TS_decompose.trend.dropna() - TS_decompose.trend.dropna().shift(1)).dropna()\n",
    "        delta_seasonal = ((TS_decompose.seasonal - TS_decompose.seasonal.shift(1)).loc[delta_trend.index[0]:])\n",
    "        delta_resid = ((TS_decompose.resid - TS_decompose.resid.shift(1)).loc[delta_trend.index[0]:])\n",
    "        predictor = delta_trend + delta_seasonal\n",
    "        # Check seasonality\n",
    "        if Seasonality_check(predictor):\n",
    "            # Check Randomness\n",
    "            if runsTest(predictor, predictor.median()):\n",
    "                # Add to DataFrame\n",
    "                df[column+'_decomp'] = predictor\n",
    "                df[column+'_trend'] = TS_decompose.trend\n",
    "                df[column+'_season'] = TS_decompose.seasonal\n",
    "                df[column+'_resid'] = TS_decompose.resid\n",
    "            else:\n",
    "                print(column, ' is random')\n",
    "        else:\n",
    "            print(column, ' is not stationary')\n",
    "    else:\n",
    "        TS_decompose = seasonal_decompose(df[column], model='additive', freq = freq, two_sided=False)\n",
    "        delta_trend = (TS_decompose.trend.dropna() / TS_decompose.trend.dropna().shift(1)).dropna()\n",
    "        delta_seasonal = ((TS_decompose.seasonal / TS_decompose.seasonal.shift(1)).loc[delta_trend.index[0]:])\n",
    "        delta_resid = ((TS_decompose.resid / TS_decompose.resid.shift(1)).loc[delta_trend.index[0]:])\n",
    "        predictor = delta_trend + delta_seasonal\n",
    "        # Check seasonality\n",
    "        if Seasonality_check(predictor):\n",
    "            # Check Randomness\n",
    "            if runsTest(predictor, predictor.median()):\n",
    "                # Add to DataFrame\n",
    "                df[column+'_decomp'] = predictor\n",
    "                df[column+'_trend'] = TS_decompose.trend\n",
    "                df[column+'_season'] = TS_decompose.seasonal\n",
    "                df[column+'_resid'] = TS_decompose.resid\n",
    "            else:\n",
    "                print(column, ' is random')\n",
    "        else:\n",
    "            print(column, ' is not stationary')\n",
    "df.dropna(inplace=True)"
   ]
  },
  {
   "cell_type": "markdown",
   "metadata": {},
   "source": [
    "## Shift Data"
   ]
  },
  {
   "cell_type": "code",
   "execution_count": 71,
   "metadata": {
    "ExecuteTime": {
     "end_time": "2020-09-11T10:21:45.687992Z",
     "start_time": "2020-09-11T10:21:45.635022Z"
    },
    "code_folding": [
     9
    ]
   },
   "outputs": [
    {
     "name": "stdout",
     "output_type": "stream",
     "text": [
      "Target Data  918 \n",
      " Datetime               Close_AAPL_decomp_y\n",
      "-------------------  ---------------------\n",
      "2020-08-25 11:40:00            0.0857906\n",
      "2020-08-25 11:45:00           -0.0453152\n",
      "2020-08-25 11:50:00            0.029375\n",
      "2020-08-25 11:55:00           -4.80769e-05\n",
      "2020-08-25 12:00:00           -0.203723\n",
      "\n",
      "\n",
      "Features Data  918\n"
     ]
    }
   ],
   "source": [
    "# Shift Data\n",
    "df_target = df[['Close_AAPL_decomp']].iloc[1:, :] # Target Data is not shifted\n",
    "target_signal = ['Close_AAPL_decomp_y']\n",
    "df_target.columns = target_signal\n",
    "print('Target Data ',len(df_target), '\\n', tabulate(df_target.head(), headers='keys'))\n",
    "print('\\n')\n",
    "# Shift Features Data:\n",
    "# Shift everything except Opening Price\n",
    "# Create Function to remove certain columns from being shifted\n",
    "def shift_exception(df, col_exception = ['Open']):\n",
    "    df_columns = df.columns.to_list()\n",
    "    def fil_col(col_name):\n",
    "        exception = col_exception\n",
    "        for n_exception in range(len(exception)):\n",
    "            if (exception[n_exception] in col_name):\n",
    "                return True\n",
    "    \n",
    "    list_exception = list(filter(fil_col, df_columns)) \n",
    "    return list_exception\n",
    "_df = df.copy()\n",
    "exception = shift_exception(df, col_exception = ['Open'])\n",
    "_df.loc[:, df.drop(columns=exception).columns] = _df.loc[:,df.drop(columns=exception).columns].shift(1)\n",
    "# Drop Target Data\n",
    "df_features = _df.dropna()\n",
    "df_features = df_features[df_features.filter(like='decomp').columns]\n",
    "del _df\n",
    "print('Features Data ',len(df_features))"
   ]
  },
  {
   "cell_type": "code",
   "execution_count": 72,
   "metadata": {
    "ExecuteTime": {
     "end_time": "2020-09-11T10:21:45.805318Z",
     "start_time": "2020-09-11T10:21:45.691990Z"
    },
    "code_folding": []
   },
   "outputs": [
    {
     "name": "stdout",
     "output_type": "stream",
     "text": [
      "df_concat 918 \n",
      "\n"
     ]
    }
   ],
   "source": [
    "# Concat df_features and df_target into df_concat\n",
    "df_concat = pd.concat([df_features, df_target], axis=1)\n",
    "print('df_concat', len(df_concat), '\\n')"
   ]
  },
  {
   "cell_type": "markdown",
   "metadata": {},
   "source": [
    "## Select Feature"
   ]
  },
  {
   "cell_type": "code",
   "execution_count": 101,
   "metadata": {
    "ExecuteTime": {
     "end_time": "2020-09-11T10:27:32.113456Z",
     "start_time": "2020-09-11T10:27:32.107464Z"
    },
    "code_folding": []
   },
   "outputs": [],
   "source": [
    "# Features\n",
    "features = variables['Features']"
   ]
  },
  {
   "cell_type": "code",
   "execution_count": 74,
   "metadata": {
    "ExecuteTime": {
     "end_time": "2020-09-11T10:21:46.051131Z",
     "start_time": "2020-09-11T10:21:45.927203Z"
    },
    "code_folding": []
   },
   "outputs": [],
   "source": [
    "# Target Data\n",
    "df_target = df_concat[target_signal]\n",
    "# Features Data\n",
    "df_features = df_concat[features]"
   ]
  },
  {
   "cell_type": "code",
   "execution_count": 75,
   "metadata": {
    "ExecuteTime": {
     "end_time": "2020-09-11T10:21:46.226585Z",
     "start_time": "2020-09-11T10:21:46.055130Z"
    },
    "code_folding": [
     0
    ]
   },
   "outputs": [
    {
     "name": "stdout",
     "output_type": "stream",
     "text": [
      "Features Data to array  <class 'numpy.ndarray'> (918, 3)\n",
      "Target Data to array  <class 'numpy.ndarray'> (918, 1)\n"
     ]
    }
   ],
   "source": [
    "# Convert to Numpy Arrays\n",
    "# Features Data\n",
    "x_data = df_features.values\n",
    "print('Features Data to array ', type(x_data), x_data.shape)\n",
    "# Target Data\n",
    "y_data = df_target[target_signal].values\n",
    "print('Target Data to array ', type(y_data), y_data.shape)"
   ]
  },
  {
   "cell_type": "code",
   "execution_count": 76,
   "metadata": {
    "ExecuteTime": {
     "end_time": "2020-09-11T10:21:46.389712Z",
     "start_time": "2020-09-11T10:21:46.231582Z"
    },
    "code_folding": [
     0
    ]
   },
   "outputs": [
    {
     "name": "stdout",
     "output_type": "stream",
     "text": [
      "Number of observations in the training set:  642 data-points\n",
      "Number of observations in the testing set:  276 data-points\n",
      "Total Features:  3 features\n",
      "Features Data Split Done\n",
      "Total Target:  1 target\n",
      "Target Data Split Done\n"
     ]
    }
   ],
   "source": [
    "# Train-test split\n",
    "train_split = 0.7\n",
    "num_data = len(x_data)\n",
    "num_train = int(train_split * num_data)\n",
    "print('Number of observations in the training set: ', num_train, 'data-points')\n",
    "num_test = num_data - num_train\n",
    "print('Number of observations in the testing set: ', num_test, 'data-points')\n",
    "# Split data\n",
    "# Features Data\n",
    "num_x_signals = x_data.shape[1]\n",
    "print('Total Features: ', num_x_signals, 'features')\n",
    "x_train = x_data[:num_train]\n",
    "x_test = x_data[num_train:]\n",
    "if len(x_train) + len(x_test) == num_data:\n",
    "    print('Features Data Split Done')\n",
    "    pass\n",
    "# Target Data\n",
    "num_y_signals = y_data.shape[1]\n",
    "print('Total Target: ', num_y_signals, 'target')\n",
    "y_train = y_data[:num_train]\n",
    "y_test = y_data[num_train:]\n",
    "if len(y_train) + len(y_test) == num_data:\n",
    "    print('Target Data Split Done')\n",
    "    pass"
   ]
  },
  {
   "cell_type": "markdown",
   "metadata": {
    "heading_collapsed": true
   },
   "source": [
    "# Scale Data"
   ]
  },
  {
   "cell_type": "code",
   "execution_count": 77,
   "metadata": {
    "ExecuteTime": {
     "end_time": "2020-09-11T10:21:46.535614Z",
     "start_time": "2020-09-11T10:21:46.394709Z"
    },
    "code_folding": [],
    "hidden": true
   },
   "outputs": [],
   "source": [
    "# Scaler for input data\n",
    "x_scaler = variables['x_scaler']\n",
    "x_train_scaled = x_scaler.fit_transform(x_train)\n",
    "x_test_scaled = x_scaler.fit_transform(x_test)"
   ]
  },
  {
   "cell_type": "code",
   "execution_count": 78,
   "metadata": {
    "ExecuteTime": {
     "end_time": "2020-09-11T10:21:46.656696Z",
     "start_time": "2020-09-11T10:21:46.538617Z"
    },
    "code_folding": [],
    "hidden": true
   },
   "outputs": [],
   "source": [
    "# Scaler for output data\n",
    "y_scaler = variables['y_scaler']\n",
    "y_train_scaled = y_scaler.fit_transform(y_train)\n",
    "y_test_scaled = y_scaler.fit_transform(y_test)"
   ]
  },
  {
   "cell_type": "markdown",
   "metadata": {
    "heading_collapsed": true
   },
   "source": [
    "# Load Model"
   ]
  },
  {
   "cell_type": "code",
   "execution_count": 79,
   "metadata": {
    "ExecuteTime": {
     "end_time": "2020-09-11T10:21:47.424778Z",
     "start_time": "2020-09-11T10:21:46.660897Z"
    },
    "code_folding": [],
    "hidden": true
   },
   "outputs": [],
   "source": [
    "model = load_model('RNN_AAPL-5min.h5')"
   ]
  },
  {
   "cell_type": "markdown",
   "metadata": {},
   "source": [
    "# Predict Future"
   ]
  },
  {
   "cell_type": "markdown",
   "metadata": {},
   "source": [
    "Predict Future"
   ]
  },
  {
   "cell_type": "markdown",
   "metadata": {
    "heading_collapsed": true
   },
   "source": [
    "## Data Manipulation"
   ]
  },
  {
   "cell_type": "code",
   "execution_count": 80,
   "metadata": {
    "ExecuteTime": {
     "end_time": "2020-09-11T10:21:47.450709Z",
     "start_time": "2020-09-11T10:21:47.428724Z"
    },
    "code_folding": [
     0
    ],
    "hidden": true
   },
   "outputs": [
    {
     "name": "stdout",
     "output_type": "stream",
     "text": [
      "                       Open_AAPL_decomp    Volume_AAPL_decomp    Open_SPY_decomp\n",
      "-------------------  ------------------  --------------------  -----------------\n",
      "2020-09-10 15:45:00          -0.127591             -50.8807           -0.0987553\n",
      "2020-09-10 15:50:00          -0.031015               0.649984         -0.132318\n",
      "2020-09-10 15:55:00          -0.0879968             -0.261232         -0.245983\n",
      "2020-09-10 16:00:00          -0.181127               3.56371          -0.177318\n",
      "2020-09-10 16:05:00          -0.181127               0.917424         -0.177318\n"
     ]
    }
   ],
   "source": [
    "# Data Manipulation for future prediction\n",
    "# Get shifted Data\n",
    "shifted_data = pd.DataFrame(df.iloc[-1, :][features]).T# Since all features are shifted data so there is need to further process this\n",
    "# Fix Future Dating\n",
    "if df_features.index.name == 'Datetime':\n",
    "    _ = df_features.index[-1] + timedelta(minutes=5)\n",
    "elif df_features.index.name == 'Date':\n",
    "    for x in np.arange(5, 75, step=15, dtype=int):\n",
    "        # Add days to the last day\n",
    "        x = x.item()\n",
    "        _ = df_features.index[-1] + timedelta(minutes=x)\n",
    "        if _.weekday() < 5: # Repeat until it's working Monday-Friday\n",
    "            break    \n",
    "shifted_data.index = [_] # Add as index\n",
    "del _\n",
    "# Add future features\n",
    "df_features_future = df_features.append(shifted_data)\n",
    "print(tabulate(df_features_future.tail(), headers='keys'))"
   ]
  },
  {
   "cell_type": "markdown",
   "metadata": {},
   "source": [
    "## Prediction"
   ]
  },
  {
   "cell_type": "code",
   "execution_count": 81,
   "metadata": {
    "ExecuteTime": {
     "end_time": "2020-09-11T10:21:48.704936Z",
     "start_time": "2020-09-11T10:21:47.456704Z"
    },
    "code_folding": [
     3
    ],
    "scrolled": false
   },
   "outputs": [
    {
     "data": {
      "image/png": "[encoded data removed]",
      "text/plain": [
       "<Figure size 1080x360 with 1 Axes>"
      ]
     },
     "metadata": {
      "needs_background": "dark"
     },
     "output_type": "display_data"
    }
   ],
   "source": [
    "# Prediction\n",
    "warmup_steps= 50\n",
    "# Prediction\n",
    "def predict_future(df_features_future=df_features_future,\n",
    "                   start_idx=0,\n",
    "                   length=100,\n",
    "                   num_test=num_test):\n",
    "    x_test_scaled = x_scaler.transform(\n",
    "        df_features_future.iloc[-(num_test + 1):, :])\n",
    "    x = x_test_scaled\n",
    "    y_true = y_test\n",
    "    # End-index for the sequences.\n",
    "    end_idx = start_idx + length\n",
    "    # Select the sequences from the given start-index and\n",
    "    # of the given length.\n",
    "    x = x[start_idx:end_idx]\n",
    "    y_true = y_true[start_idx:end_idx]\n",
    "    # Input-signals for the model.\n",
    "    x = np.expand_dims(x, axis=0)\n",
    "    # Use the model to predict the output-signals.\n",
    "    y_pred = model.predict(x)\n",
    "    # The output of the model is between 0 and 1.\n",
    "    # Do an inverse map to get it back to the scale\n",
    "    # of the original data-set.\n",
    "    y_pred_rescaled = y_scaler.inverse_transform(y_pred[0])\n",
    "    # For each output-signal.\n",
    "    for signal in range(len(target_signal)):\n",
    "        # Get the output-signal predicted by the model.\n",
    "        signal_pred = y_pred_rescaled[:, signal]\n",
    "        # Get the true output-signal from the data-set.\n",
    "        signal_true = y_true[:, signal]\n",
    "        # Make the plotting-canvas bigger.\n",
    "        plt.figure(figsize=(15, 5))\n",
    "        # Plot and compare the two signals.\n",
    "        plt.plot(signal_true, label='true')\n",
    "        plt.plot(signal_pred, label='pred')\n",
    "        # Plot grey box for warmup-period.\n",
    "        p = plt.axvspan(0, warmup_steps, facecolor='black', alpha=0.15)\n",
    "        # Plot labels etc.\n",
    "        plt.ylabel(target_signal[signal])\n",
    "        plt.legend()\n",
    "        plt.show()\n",
    "        return y_true, y_pred_rescaled\n",
    "true_future, predict_future = predict_future(df_features_future=df_features_future, start_idx=0, length=1000)"
   ]
  },
  {
   "cell_type": "code",
   "execution_count": 82,
   "metadata": {
    "ExecuteTime": {
     "end_time": "2020-09-11T10:21:48.751901Z",
     "start_time": "2020-09-11T10:21:48.707917Z"
    },
    "code_folding": [
     0
    ]
   },
   "outputs": [],
   "source": [
    "# Compile Results\n",
    "df_result_future = pd.DataFrame([true_future[:, 0], predict_future[:, 0]],\n",
    "                                index=['True', 'Predictions']).T"
   ]
  },
  {
   "cell_type": "code",
   "execution_count": 83,
   "metadata": {
    "ExecuteTime": {
     "end_time": "2020-09-11T10:21:48.900307Z",
     "start_time": "2020-09-11T10:21:48.755893Z"
    },
    "code_folding": [
     0
    ]
   },
   "outputs": [],
   "source": [
    "# Write Function to find nearest value\n",
    "def find_nearest(array, value):\n",
    "    array = np.asarray(array)\n",
    "    idx = (np.abs(array - value)).argmin()\n",
    "    return idx, array[idx]"
   ]
  },
  {
   "cell_type": "code",
   "execution_count": 84,
   "metadata": {
    "ExecuteTime": {
     "end_time": "2020-09-11T10:21:53.448704Z",
     "start_time": "2020-09-11T10:21:48.903306Z"
    },
    "code_folding": [
     0
    ]
   },
   "outputs": [],
   "source": [
    "# Find the optimal constant to adjust the return\n",
    "_constant = []\n",
    "for x in np.arange(0.8, 1.2, step=0.0001):\n",
    "    adj_return = df_result_future['Predictions'][:-1] * x\n",
    "    _diff = df_result_future['True'][:-1] - adj_return\n",
    "    _constant.append((x, _diff[:-1].std()))\n",
    "_constant = pd.DataFrame(_constant)\n",
    "idx_constant, nearest_value = find_nearest(_constant[1], 0)\n",
    "constant = _constant[0][idx_constant]\n",
    "df_result_future['Predictions'] = df_result_future['Predictions'] * constant\n",
    "df_result_future['Difference'] = df_result_future['True'] - df_result_future['Predictions']"
   ]
  },
  {
   "cell_type": "code",
   "execution_count": 85,
   "metadata": {
    "ExecuteTime": {
     "end_time": "2020-09-11T10:21:53.826881Z",
     "start_time": "2020-09-11T10:21:53.451704Z"
    },
    "code_folding": [
     0
    ]
   },
   "outputs": [],
   "source": [
    "# Create a model for residual errors\n",
    "window = freq\n",
    "train_resid = df['Close_AAPL_resid'][:num_train]\n",
    "test_resid = df['Close_AAPL_resid'][num_train:]\n",
    "model_residual = AutoReg(train_resid, lags=window)\n",
    "model_fit = model_residual.fit()\n",
    "coef = model_fit.params\n",
    "# Walk Forward over time steps in test\n",
    "history = train_resid[len(train_resid)-window:]\n",
    "history = [history[i] for i in range(len(history))]\n",
    "predictions = list()\n",
    "expected_error = list()\n",
    "for t in range(len(test_resid)+2):\n",
    "    # predict error\n",
    "    length = len(history)\n",
    "    lag = [history[i] for i in range(length-window,length)]\n",
    "    pred_error = coef[0]\n",
    "    for d in range(window):\n",
    "        pred_error += coef[d+1] * lag[window-d-1]\n",
    "    predictions.append(pred_error)\n",
    "    if t < len(test_resid):\n",
    "        history.append(df['Close_AAPL_resid'][num_train+t])\n",
    "    else:\n",
    "        history.append(pred_error)"
   ]
  },
  {
   "cell_type": "code",
   "execution_count": 86,
   "metadata": {
    "ExecuteTime": {
     "end_time": "2020-09-11T10:21:53.922240Z",
     "start_time": "2020-09-11T10:21:53.835875Z"
    },
    "code_folding": [
     0
    ]
   },
   "outputs": [
    {
     "name": "stdout",
     "output_type": "stream",
     "text": [
      "df_result \n",
      "\n",
      "               True    Predictions     Difference    Price_True    Price_Predictions     Price_Diff\n",
      "-----  ------------  -------------  -------------  ------------  -------------------  -------------\n",
      "count  276             277          276               277                  277        277\n",
      "mean    -0.0102431      -0.0845093    0.0740431       116.533              116.87       0.60663\n",
      "std      0.136272        0.0664232    0.111339          7.28891              1.85949    6.82141\n",
      "min     -0.406015       -0.27691     -0.208218          0                  112.648      0.000449622\n",
      "25%     -0.0897731      -0.134379     0.000858435     116.02               116.004      0.0733246\n",
      "50%     -0.00138158     -0.0858376    0.0711178       117.01               116.911      0.150232\n",
      "75%      0.0714899      -0.041274     0.147703        118                  117.87       0.279562\n",
      "max      0.351042        0.112885     0.490607        122.45               122.043    113.693\n"
     ]
    }
   ],
   "source": [
    "# Convert to Price\n",
    "price_pred = []\n",
    "for i in range(num_test+1):\n",
    "    price = df_result_future['Predictions'][i] + df['Close_AAPL'].iloc[-(num_test - i + 1)] - df['Close_AAPL_resid'].iloc[-(num_test - i + 1)] +\\\n",
    "            predictions[1:][i+1]\n",
    "    price_pred.append(price)\n",
    "df_result_future.index = df_features_future.iloc[-(num_test+1):].index\n",
    "df_result_future['Price_True'] = np.append(df['Close_AAPL'].iloc[-(num_test):].values, 0)\n",
    "df_result_future['Price_Predictions'] = price_pred\n",
    "df_result_future['Price_Diff'] = np.abs(df_result_future['Price_True'] - df_result_future['Price_Predictions'])\n",
    "print('df_result', '\\n')\n",
    "print(tabulate(df_result_future.describe(), headers='keys'))"
   ]
  },
  {
   "cell_type": "code",
   "execution_count": 87,
   "metadata": {
    "ExecuteTime": {
     "end_time": "2020-09-11T10:22:00.265351Z",
     "start_time": "2020-09-11T10:21:53.927239Z"
    },
    "code_folding": [
     0
    ]
   },
   "outputs": [
    {
     "name": "stdout",
     "output_type": "stream",
     "text": [
      "df_result_future \n",
      "\n",
      "               True    Predictions     Difference    Price_True    Price_Predictions     Price_Diff\n",
      "-----  ------------  -------------  -------------  ------------  -------------------  -------------\n",
      "count  276             276          276               276                  276        276\n",
      "mean    -0.0102431      -0.0842862    0.0740431       116.955              116.952      0.00387293\n",
      "std      0.136272        0.0664398    0.111339          1.93925              1.85407    0.248386\n",
      "min     -0.406015       -0.27691     -0.208218        112.67               112.716     -0.976668\n",
      "25%     -0.0897731      -0.132763     0.000858435     116.035              116.081     -0.144254\n",
      "50%     -0.00138158     -0.0846612    0.0711178       117.035              116.984     -0.000998943\n",
      "75%      0.0714899      -0.0411093    0.147703        118.002              117.943      0.14713\n",
      "max      0.351042        0.112885     0.490607        122.45               122.117      0.709495\n"
     ]
    }
   ],
   "source": [
    "# Find the optimal constant to adjust prediction\n",
    "_constant = []\n",
    "for x in np.arange(0.8, 1.2000, step=0.0001):\n",
    "    adj_price = df_result_future['Price_Predictions'][:-1] * x\n",
    "    _diff = df_result_future['Price_True'][:-1] - adj_price\n",
    "    _constant.append((x, _diff[:-1].mean()))\n",
    "_constant = pd.DataFrame(_constant)\n",
    "# Add the adjusted Price_Predictions to the df_result_future\n",
    "idx_constant, nearest_value = find_nearest(_constant[1], 0)\n",
    "constant = _constant[0][idx_constant]\n",
    "df_result_future['Price_Predictions'] = df_result_future['Price_Predictions'] * constant\n",
    "df_result_future['Price_Diff'] = df_result_future['Price_True'] - df_result_future['Price_Predictions']\n",
    "print('df_result_future', '\\n')\n",
    "print(tabulate(df_result_future.iloc[:-1, :].describe(), headers='keys'))"
   ]
  },
  {
   "cell_type": "code",
   "execution_count": 92,
   "metadata": {
    "ExecuteTime": {
     "end_time": "2020-09-11T10:22:56.988442Z",
     "start_time": "2020-09-11T10:22:56.740492Z"
    },
    "code_folding": [
     0
    ]
   },
   "outputs": [
    {
     "data": {
      "image/png": "[encoded data removed]",
      "text/plain": [
       "<Figure size 432x288 with 1 Axes>"
      ]
     },
     "metadata": {
      "needs_background": "dark"
     },
     "output_type": "display_data"
    }
   ],
   "source": [
    "# Plot Price Prediction \n",
    "plt.plot(df_result_future['Price_True'].iloc[:-1,][-79:], label='True')\n",
    "plt.plot(df_result_future['Price_Predictions'][-80:], label='Predictions')\n",
    "plt.title('True Price vs Prediction Price')\n",
    "plt.legend()\n",
    "plt.show()"
   ]
  },
  {
   "cell_type": "markdown",
   "metadata": {},
   "source": [
    "# Prediction"
   ]
  },
  {
   "cell_type": "code",
   "execution_count": 89,
   "metadata": {
    "ExecuteTime": {
     "end_time": "2020-09-11T10:22:00.590068Z",
     "start_time": "2020-09-11T10:22:00.547299Z"
    },
    "code_folding": [],
    "scrolled": true
   },
   "outputs": [
    {
     "name": "stdout",
     "output_type": "stream",
     "text": [
      "Predictor Feature: Open_AAPL_decomp, Volume_AAPL_decomp, Open_SPY_decomp\n",
      "One Step Ahead result is 113.76147320986006\n",
      "R2 score Price Prediction:  97.97 %\n"
     ]
    }
   ],
   "source": [
    "# Statement\n",
    "truth = df_result_future['Price_True'].iloc[:-1].diff(freq).dropna()\n",
    "predicted = df_result_future['Price_Predictions'].iloc[:-1].diff(freq).dropna()\n",
    "print('Predictor Feature: ' + ', '.join(features))\n",
    "print('One Step Ahead result is', df_result_future['Price_Predictions'][-1])\n",
    "# Prediction R2 score\n",
    "r2 = round(r2_score(truth, predicted) * 100, 2)\n",
    "print('R2 score Price Prediction: ', r2, '%')"
   ]
  }
 ],
 "metadata": {
  "kernelspec": {
   "display_name": "Python 3",
   "language": "python",
   "name": "python3"
  },
  "language_info": {
   "codemirror_mode": {
    "name": "ipython",
    "version": 3
   },
   "file_extension": ".py",
   "mimetype": "text/x-python",
   "name": "python",
   "nbconvert_exporter": "python",
   "pygments_lexer": "ipython3",
   "version": "3.7.7"
  },
  "toc": {
   "base_numbering": 1,
   "nav_menu": {},
   "number_sections": false,
   "sideBar": true,
   "skip_h1_title": false,
   "title_cell": "Table of Contents",
   "title_sidebar": "Contents",
   "toc_cell": false,
   "toc_position": {
    "height": "calc(100% - 180px)",
    "left": "10px",
    "top": "150px",
    "width": "384px"
   },
   "toc_section_display": true,
   "toc_window_display": true
  },
  "varInspector": {
   "cols": {
    "lenName": 16,
    "lenType": 16,
    "lenVar": 40
   },
   "kernels_config": {
    "python": {
     "delete_cmd_postfix": "",
     "delete_cmd_prefix": "del ",
     "library": "var_list.py",
     "varRefreshCmd": "print(var_dic_list())"
    },
    "r": {
     "delete_cmd_postfix": ") ",
     "delete_cmd_prefix": "rm(",
     "library": "var_list.r",
     "varRefreshCmd": "cat(var_dic_list()) "
    }
   },
   "types_to_exclude": [
    "module",
    "function",
    "builtin_function_or_method",
    "instance",
    "_Feature"
   ],
   "window_display": false
  }
 },
 "nbformat": 4,
 "nbformat_minor": 2
}
