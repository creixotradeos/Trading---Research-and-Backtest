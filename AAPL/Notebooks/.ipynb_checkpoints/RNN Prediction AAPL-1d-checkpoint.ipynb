{
 "cells": [
  {
   "cell_type": "markdown",
   "metadata": {
    "heading_collapsed": true
   },
   "source": [
    "# Libraries"
   ]
  },
  {
   "cell_type": "code",
   "execution_count": 305,
   "metadata": {
    "ExecuteTime": {
     "end_time": "2020-09-02T11:27:52.147022Z",
     "start_time": "2020-09-02T11:27:52.127038Z"
    },
    "code_folding": [],
    "hidden": true
   },
   "outputs": [],
   "source": [
    "# Basics\n",
    "%matplotlib inline\n",
    "import matplotlib.pyplot as plt\n",
    "import tensorflow as tf\n",
    "import numpy as np\n",
    "import pandas as pd\n",
    "import os\n",
    "from sklearn.preprocessing import MinMaxScaler\n",
    "from pathlib import Path\n",
    "import os\n",
    "from jupyterthemes import jtplot\n",
    "jtplot.style(theme='onedork')\n",
    "from sklearn.metrics import r2_score\n",
    "from sklearn.metrics import mean_squared_error\n",
    "from tabulate import tabulate\n",
    "import warnings\n",
    "warnings.filterwarnings('ignore')\n",
    "from datetime import datetime  \n",
    "from datetime import timedelta \n",
    "from scipy import stats\n",
    "import pickle"
   ]
  },
  {
   "cell_type": "code",
   "execution_count": 3,
   "metadata": {
    "ExecuteTime": {
     "end_time": "2020-09-02T10:40:56.640116Z",
     "start_time": "2020-09-02T10:40:56.630123Z"
    },
    "code_folding": [],
    "hidden": true
   },
   "outputs": [],
   "source": [
    "# Keras\n",
    "from tensorflow.keras.models import Sequential\n",
    "from tensorflow.keras.layers import Input, Dense, GRU, Embedding\n",
    "from tensorflow.keras.optimizers import RMSprop\n",
    "from tensorflow.keras.callbacks import EarlyStopping, ModelCheckpoint, TensorBoard, ReduceLROnPlateau\n",
    "from tensorflow.keras.backend import square, mean"
   ]
  },
  {
   "cell_type": "code",
   "execution_count": 4,
   "metadata": {
    "ExecuteTime": {
     "end_time": "2020-09-02T10:41:03.951521Z",
     "start_time": "2020-09-02T10:40:56.666104Z"
    },
    "hidden": true
   },
   "outputs": [],
   "source": [
    "# K means\n",
    "from sklearn.cluster import KMeans\n",
    "from sklearn.metrics import silhouette_score"
   ]
  },
  {
   "cell_type": "code",
   "execution_count": 5,
   "metadata": {
    "ExecuteTime": {
     "end_time": "2020-09-02T10:41:04.964696Z",
     "start_time": "2020-09-02T10:41:03.955532Z"
    },
    "hidden": true
   },
   "outputs": [],
   "source": [
    "# Misc\n",
    "from sklearn import preprocessing, metrics\n",
    "from sklearn.ensemble import ExtraTreesClassifier\n",
    "import seaborn as sns\n",
    "from sklearn.datasets import load_digits\n",
    "from sklearn.feature_selection import SelectKBest, chi2"
   ]
  },
  {
   "cell_type": "markdown",
   "metadata": {},
   "source": [
    "# Load Data"
   ]
  },
  {
   "cell_type": "code",
   "execution_count": 240,
   "metadata": {
    "ExecuteTime": {
     "end_time": "2020-09-02T11:13:53.306109Z",
     "start_time": "2020-09-02T11:13:53.181181Z"
    },
    "code_folding": [
     0,
     1
    ]
   },
   "outputs": [
    {
     "name": "stdout",
     "output_type": "stream",
     "text": [
      "AAPL-1d\n",
      " Date                   Open    High     Low    Close    Adj Close       Volume    Dividends    Stock Splits\n",
      "-------------------  ------  ------  ------  -------  -----------  -----------  -----------  --------------\n",
      "2020-08-25 00:00:00  124.7   125.18  123.05   124.82       124.82  2.11496e+08            0               0\n",
      "2020-08-26 00:00:00  126.18  126.99  125.08   126.52       126.52  1.63022e+08            0               0\n",
      "2020-08-27 00:00:00  127.14  127.49  123.83   125.01       125.01  1.55552e+08            0               0\n",
      "2020-08-28 00:00:00  126.01  126.44  124.58   124.81       124.81  1.87152e+08            0               0\n",
      "2020-08-31 00:00:00  127.58  130.9   126      130.37       130.37  1.53828e+08            0               0\n",
      "\n",
      "\n",
      "SPY-1d\n",
      " Date                   Open    High     Low    Close    Adj Close       Volume    Dividends    Stock Splits\n",
      "-------------------  ------  ------  ------  -------  -----------  -----------  -----------  --------------\n",
      "2020-08-25 00:00:00  343.53  344.21  342.27   344.12       344.12  3.84634e+07            0               0\n",
      "2020-08-26 00:00:00  344.76  347.86  344.17   347.57       347.57  5.07902e+07            0               0\n",
      "2020-08-27 00:00:00  348.51  349.9   346.53   348.33       348.33  5.80341e+07            0               0\n",
      "2020-08-28 00:00:00  349.44  350.72  348.15   350.58       350.58  4.85063e+07            0               0\n",
      "2020-08-31 00:00:00  350.35  350.85  349.09   350.51       350.51  2.9261e+07             0               0\n"
     ]
    }
   ],
   "source": [
    "# Load Data\n",
    "def load_stock_data(ticker, interval):\n",
    "    \"\"\"\n",
    "    This function load stock data from Database files by first changing the working directory, loading the data and reset the working directory to the original path\n",
    "    \n",
    "    Parameters\n",
    "    ----------\n",
    "    ticker : str\n",
    "        a string that describes the stock ticker, as listed in the file name\n",
    "    interval : str\n",
    "        an interval string according to the existing files in the databases\n",
    "    \"\"\"\n",
    "    # Record original working directory\n",
    "    owd = os.getcwd()\n",
    "    # Change directory\n",
    "    os.chdir('C:\\\\Users\\\\asus\\\\Documents\\\\Python Projects\\\\Trading - Research and Backtest\\\\'+ticker+'\\\\Databases\\\\')\n",
    "    datapath = os.getcwd()+'\\\\'\n",
    "    # Record all available files\n",
    "    files = []\n",
    "    for (dirpath, dirname, filenames) in os.walk(datapath):\n",
    "        files.extend(filenames)\n",
    "        break\n",
    "    # Import as dataframe  \n",
    "    df = pd.read_csv(datapath+ticker+'-'+interval+'.csv', parse_dates=True, index_col='Date')\n",
    "    # Return working directory to original\n",
    "    os.chdir(owd)\n",
    "    return df\n",
    "interval = '1d'\n",
    "# Load AAPL\n",
    "df_aapl = load_stock_data('AAPL', interval=interval)\n",
    "df_aapl.dropna(inplace=True)\n",
    "print('AAPL-'+interval+'\\n', tabulate(df_aapl.tail(), headers='keys'))\n",
    "print('\\n')\n",
    "# Load SPY\n",
    "df_spy = load_stock_data('SPY', interval=interval)\n",
    "df_spy.dropna(inplace=True)\n",
    "print('SPY-'+interval+'\\n', tabulate(df_spy.tail(), headers='keys'))"
   ]
  },
  {
   "cell_type": "code",
   "execution_count": 241,
   "metadata": {
    "ExecuteTime": {
     "end_time": "2020-09-02T11:13:53.353080Z",
     "start_time": "2020-09-02T11:13:53.311104Z"
    },
    "code_folding": []
   },
   "outputs": [
    {
     "name": "stdout",
     "output_type": "stream",
     "text": [
      "df \n",
      "\n",
      "Date                   Open_AAPL    High_AAPL    Low_AAPL    Close_AAPL    Volume_AAPL    Open_SPY    High_SPY    Low_SPY    Close_SPY    Volume_SPY\n",
      "-------------------  -----------  -----------  ----------  ------------  -------------  ----------  ----------  ---------  -----------  ------------\n",
      "2020-08-25 00:00:00       124.7        125.18      123.05        124.82    2.11496e+08      343.53      344.21     342.27       344.12   3.84634e+07\n",
      "2020-08-26 00:00:00       126.18       126.99      125.08        126.52    1.63022e+08      344.76      347.86     344.17       347.57   5.07902e+07\n",
      "2020-08-27 00:00:00       127.14       127.49      123.83        125.01    1.55552e+08      348.51      349.9      346.53       348.33   5.80341e+07\n",
      "2020-08-28 00:00:00       126.01       126.44      124.58        124.81    1.87152e+08      349.44      350.72     348.15       350.58   4.85063e+07\n",
      "2020-08-31 00:00:00       127.58       130.9       126           130.37    1.53828e+08      350.35      350.85     349.09       350.51   2.9261e+07\n"
     ]
    }
   ],
   "source": [
    "# Merge Data\n",
    "start_date = '2018-01-01'\n",
    "df = pd.merge(df_aapl.loc[start_date:].drop(columns=['Close', 'Dividends', 'Stock Splits']),\n",
    "                    df_spy.loc[start_date:].drop(columns=['Close', 'Dividends', 'Stock Splits']),\n",
    "                    left_index=True, right_index=True\n",
    "                    )\n",
    "df.rename(columns={'Open_x': 'Open_AAPL', 'High_x': 'High_AAPL', 'Low_x': 'Low_AAPL', 'Adj Close_x': 'Close_AAPL', \n",
    "                         'Volume_x': 'Volume_AAPL', 'Open_y': 'Open_SPY', 'High_y': 'High_SPY', 'Low_y': 'Low_SPY', \n",
    "                         'Adj Close_y': 'Close_SPY', 'Volume_y': 'Volume_SPY'}, inplace=True)\n",
    "print('df', '\\n')\n",
    "print(tabulate(df.tail(), headers='keys'))"
   ]
  },
  {
   "cell_type": "markdown",
   "metadata": {
    "heading_collapsed": true
   },
   "source": [
    "# Data Manipulation"
   ]
  },
  {
   "cell_type": "markdown",
   "metadata": {
    "hidden": true
   },
   "source": [
    "## Shift Data"
   ]
  },
  {
   "cell_type": "code",
   "execution_count": 242,
   "metadata": {
    "ExecuteTime": {
     "end_time": "2020-09-02T11:13:53.481007Z",
     "start_time": "2020-09-02T11:13:53.358083Z"
    },
    "code_folding": [
     0
    ],
    "hidden": true
   },
   "outputs": [
    {
     "name": "stdout",
     "output_type": "stream",
     "text": [
      "df\n",
      "\n",
      "Date                   Open_AAPL    High_AAPL    Low_AAPL    Close_AAPL    Volume_AAPL    Open_SPY    High_SPY    Low_SPY    Close_SPY    Volume_SPY    Returns_AAPL    Returns_SPY\n",
      "-------------------  -----------  -----------  ----------  ------------  -------------  ----------  ----------  ---------  -----------  ------------  --------------  -------------\n",
      "2018-01-03 00:00:00        43.13        43.64       42.99         41.51    1.18072e+08      268.96      270.64     268.96       257.84   9.00704e+07      0              0.00630279\n",
      "2018-01-04 00:00:00        43.13        43.37       43.02         41.7     8.97384e+07      271.2       272.16     270.54       258.92   8.06364e+07      0.00456677     0.0041799\n",
      "2018-01-05 00:00:00        43.36        43.84       43.26         42.17    9.464e+07        272.51      273.56     271.95       260.65   8.3524e+07       0.0112079      0.00665938\n",
      "2018-01-08 00:00:00        43.59        43.9        43.48         42.02    8.22712e+07      273.31      274.1      272.98       261.13   5.73192e+07     -0.00356337     0.00183986\n",
      "2018-01-09 00:00:00        43.64        43.76       43.35         42.01    8.6336e+07       274.4       275.25     274.08       261.72   5.7254e+07      -0.00023801     0.00225686\n"
     ]
    }
   ],
   "source": [
    "# Include daily returns of stock\n",
    "# Use log return of 1 period before\n",
    "df['Returns_AAPL'] = np.log(df['Close_AAPL'] / df['Close_AAPL'].shift(1))\n",
    "df['Returns_SPY'] = np.log(df['Close_SPY'] / df['Close_SPY'].shift(1))\n",
    "df.dropna(inplace=True)\n",
    "print('df''\\n')\n",
    "print(tabulate(df.head(), headers='keys'))"
   ]
  },
  {
   "cell_type": "code",
   "execution_count": 243,
   "metadata": {
    "ExecuteTime": {
     "end_time": "2020-09-02T11:13:53.589947Z",
     "start_time": "2020-09-02T11:13:53.486004Z"
    },
    "code_folding": [
     0
    ],
    "hidden": true
   },
   "outputs": [],
   "source": [
    "# Target\n",
    "target_signal = ['Returns_AAPL']"
   ]
  },
  {
   "cell_type": "code",
   "execution_count": 244,
   "metadata": {
    "ExecuteTime": {
     "end_time": "2020-09-02T11:13:53.750851Z",
     "start_time": "2020-09-02T11:13:53.593942Z"
    },
    "code_folding": [
     0
    ],
    "hidden": true,
    "scrolled": false
   },
   "outputs": [
    {
     "name": "stdout",
     "output_type": "stream",
     "text": [
      "Target Data  669 \n",
      " Date                   Returns_AAPL\n",
      "-------------------  --------------\n",
      "2018-01-04 00:00:00     0.00456677\n",
      "2018-01-05 00:00:00     0.0112079\n",
      "2018-01-08 00:00:00    -0.00356337\n",
      "2018-01-09 00:00:00    -0.00023801\n",
      "2018-01-10 00:00:00    -0.000238067\n",
      "\n",
      "\n",
      "Features Data  669 \n",
      " Date                   Open_AAPL    High_AAPL    Low_AAPL    Close_AAPL    Volume_AAPL    Open_SPY    High_SPY    Low_SPY    Close_SPY    Volume_SPY    Returns_SPY\n",
      "-------------------  -----------  -----------  ----------  ------------  -------------  ----------  ----------  ---------  -----------  ------------  -------------\n",
      "2018-01-04 00:00:00        43.13        43.64       42.99         41.51    1.18072e+08      268.96      270.64     268.96       257.84   9.00704e+07     0.00630279\n",
      "2018-01-05 00:00:00        43.36        43.37       43.02         41.7     8.97384e+07      271.2       272.16     270.54       258.92   8.06364e+07     0.0041799\n",
      "2018-01-08 00:00:00        43.59        43.84       43.26         42.17    9.464e+07        272.51      273.56     271.95       260.65   8.3524e+07      0.00665938\n",
      "2018-01-09 00:00:00        43.64        43.9        43.48         42.02    8.22712e+07      273.31      274.1      272.98       261.13   5.73192e+07     0.00183986\n",
      "2018-01-10 00:00:00        43.29        43.76       43.35         42.01    8.6336e+07       274.4       275.25     274.08       261.72   5.7254e+07      0.00225686\n"
     ]
    }
   ],
   "source": [
    "# Shift Data\n",
    "df_target = df[target_signal].iloc[1:, :] # Target Data is not shifted\n",
    "print('Target Data ',len(df_target), '\\n', tabulate(df_target.head(), headers='keys'))\n",
    "print('\\n')\n",
    "# Shift Features Data:\n",
    "#--Shift everything except Opening Price--\n",
    "_ = df.copy()\n",
    "_.loc[:, df.columns != 'Open_AAPL'] = _.loc[:, df.columns != 'Open_AAPL'].shift(1)\n",
    "#--Drop Target Data--\n",
    "df_features = _.drop(columns=target_signal).dropna()\n",
    "del _\n",
    "print('Features Data ',len(df_features), '\\n', tabulate(df_features.head(), headers='keys'))"
   ]
  },
  {
   "cell_type": "code",
   "execution_count": 245,
   "metadata": {
    "ExecuteTime": {
     "end_time": "2020-09-02T11:13:53.910835Z",
     "start_time": "2020-09-02T11:13:53.753661Z"
    },
    "code_folding": [
     0
    ],
    "hidden": true
   },
   "outputs": [
    {
     "name": "stdout",
     "output_type": "stream",
     "text": [
      "df_concat \n",
      "\n",
      "Date                   Open_AAPL    High_AAPL    Low_AAPL    Close_AAPL    Volume_AAPL    Open_SPY    High_SPY    Low_SPY    Close_SPY    Volume_SPY    Returns_SPY    Returns_AAPL\n",
      "-------------------  -----------  -----------  ----------  ------------  -------------  ----------  ----------  ---------  -----------  ------------  -------------  --------------\n",
      "2018-01-04 00:00:00        43.13        43.64       42.99         41.51    1.18072e+08      268.96      270.64     268.96       257.84   9.00704e+07     0.00630279     0.00456677\n",
      "2018-01-05 00:00:00        43.36        43.37       43.02         41.7     8.97384e+07      271.2       272.16     270.54       258.92   8.06364e+07     0.0041799      0.0112079\n",
      "2018-01-08 00:00:00        43.59        43.84       43.26         42.17    9.464e+07        272.51      273.56     271.95       260.65   8.3524e+07      0.00665938    -0.00356337\n",
      "2018-01-09 00:00:00        43.64        43.9        43.48         42.02    8.22712e+07      273.31      274.1      272.98       261.13   5.73192e+07     0.00183986    -0.00023801\n",
      "2018-01-10 00:00:00        43.29        43.76       43.35         42.01    8.6336e+07       274.4       275.25     274.08       261.72   5.7254e+07      0.00225686    -0.000238067\n"
     ]
    }
   ],
   "source": [
    "# Concat df_features and df_target into df_concat\n",
    "df_concat = pd.concat([df_features, df_target], axis=1)\n",
    "print('df_concat', '\\n')\n",
    "print(tabulate(df_concat.head(), headers='keys'))"
   ]
  },
  {
   "cell_type": "markdown",
   "metadata": {
    "hidden": true
   },
   "source": [
    "Add a Kmeans Clustering categorization, use on df_concat"
   ]
  },
  {
   "cell_type": "code",
   "execution_count": 246,
   "metadata": {
    "ExecuteTime": {
     "end_time": "2020-09-02T11:13:55.538905Z",
     "start_time": "2020-09-02T11:13:53.914832Z"
    },
    "code_folding": [
     0
    ],
    "hidden": true
   },
   "outputs": [
    {
     "name": "stdout",
     "output_type": "stream",
     "text": [
      "Suggested K:  3\n"
     ]
    }
   ],
   "source": [
    "# 'K' Optimiztion\n",
    "sil = [] # To store silhouette score\n",
    "kmax = 10\n",
    "kmin = 2\n",
    "for k in range(kmin, kmax+1):\n",
    "    kmean = KMeans(n_clusters = k).fit(df_concat)\n",
    "    labels = kmean.labels_\n",
    "    sil.append(silhouette_score(df_concat, labels, metric = 'euclidean'))\n",
    "_ = pd.Series(sil[kmin:], index = range(kmin, kmax-(kmin-1)))\n",
    "optimized_k = _[_ == _.max()].index[0]\n",
    "print('Suggested K: ', optimized_k)"
   ]
  },
  {
   "cell_type": "code",
   "execution_count": 247,
   "metadata": {
    "ExecuteTime": {
     "end_time": "2020-09-02T11:13:55.667829Z",
     "start_time": "2020-09-02T11:13:55.546897Z"
    },
    "code_folding": [
     0
    ],
    "hidden": true
   },
   "outputs": [
    {
     "name": "stdout",
     "output_type": "stream",
     "text": [
      "df_concat \n",
      "\n",
      "Date                   Open_AAPL    High_AAPL    Low_AAPL    Close_AAPL    Volume_AAPL    Open_SPY    High_SPY    Low_SPY    Close_SPY    Volume_SPY    Returns_SPY    Returns_AAPL    Kmeans\n",
      "-------------------  -----------  -----------  ----------  ------------  -------------  ----------  ----------  ---------  -----------  ------------  -------------  --------------  --------\n",
      "2018-01-04 00:00:00        43.13        43.64       42.99         41.51    1.18072e+08      268.96      270.64     268.96       257.84   9.00704e+07     0.00630279     0.00456677          0\n",
      "2018-01-05 00:00:00        43.36        43.37       43.02         41.7     8.97384e+07      271.2       272.16     270.54       258.92   8.06364e+07     0.0041799      0.0112079           0\n",
      "2018-01-08 00:00:00        43.59        43.84       43.26         42.17    9.464e+07        272.51      273.56     271.95       260.65   8.3524e+07      0.00665938    -0.00356337          0\n",
      "2018-01-09 00:00:00        43.64        43.9        43.48         42.02    8.22712e+07      273.31      274.1      272.98       261.13   5.73192e+07     0.00183986    -0.00023801          0\n",
      "2018-01-10 00:00:00        43.29        43.76       43.35         42.01    8.6336e+07       274.4       275.25     274.08       261.72   5.7254e+07      0.00225686    -0.000238067         0\n"
     ]
    }
   ],
   "source": [
    "# Kmeans cluster creation\n",
    "kmean = KMeans(n_clusters=optimized_k)\n",
    "kmean.fit(df_concat)\n",
    "labels = pd.Series(kmean.labels_, index = df_concat.index) # Extract labels\n",
    "df_concat['Kmeans'] = labels # Add new column to df_concat\n",
    "print('df_concat', '\\n')\n",
    "print(tabulate(df_concat.head(), headers='keys'))"
   ]
  },
  {
   "cell_type": "markdown",
   "metadata": {
    "heading_collapsed": true,
    "hidden": true
   },
   "source": [
    "## Features Selection"
   ]
  },
  {
   "cell_type": "code",
   "execution_count": 248,
   "metadata": {
    "ExecuteTime": {
     "end_time": "2020-09-02T11:13:55.724797Z",
     "start_time": "2020-09-02T11:13:55.672826Z"
    },
    "code_folding": [
     0,
     3
    ],
    "hidden": true
   },
   "outputs": [],
   "source": [
    "# Encode Data\n",
    "# Data has to be coded for the algorithm to work\n",
    "df_coded = df_concat.copy() # Make a copy of dataset\n",
    "for column in df_coded.columns:\n",
    "    encode = preprocessing.LabelEncoder() # Individual column encoder\n",
    "    df_coded[column] = encode.fit_transform(df_coded[column]) # Encode column, replace df_coded with coded data"
   ]
  },
  {
   "cell_type": "markdown",
   "metadata": {
    "heading_collapsed": true,
    "hidden": true
   },
   "source": [
    "### SelectKBest Features Selection"
   ]
  },
  {
   "cell_type": "code",
   "execution_count": 249,
   "metadata": {
    "ExecuteTime": {
     "end_time": "2020-09-02T11:13:55.965658Z",
     "start_time": "2020-09-02T11:13:55.728795Z"
    },
    "code_folding": [
     0
    ],
    "hidden": true
   },
   "outputs": [
    {
     "name": "stdout",
     "output_type": "stream",
     "text": [
      "SelectKBest: featureScores \n",
      "\n",
      "    Features       Scores\n",
      "--  -----------  --------\n",
      " 9  Volume_SPY    74570.1\n",
      "10  Returns_SPY   74324.2\n",
      " 4  Volume_AAPL   74159.3\n",
      " 5  Open_SPY      71226.9\n",
      " 6  High_SPY      71105.3\n"
     ]
    }
   ],
   "source": [
    "# Apply SelectKBest class to extract features\n",
    "\"\"\"SelectKBest\n",
    "Choose features with highest scores_ and lowest p-value\n",
    "\"\"\"\n",
    "#--How many features\n",
    "k = 5\n",
    "bestfeatures = SelectKBest(score_func=chi2, k=k)\n",
    "#--Train Model (Features, Target)\n",
    "fit = bestfeatures.fit(df_coded.drop(columns=target_signal),\n",
    "                       df_coded[target_signal])\n",
    "#--Turns scores into a DataFrame\n",
    "dfscores = pd.DataFrame(fit.scores_, columns=['Scores'])\n",
    "#--Features name into a DataFrame\n",
    "dfcolumns = pd.DataFrame(df_coded.drop(columns=target_signal).columns,\n",
    "                         columns=['Features'])\n",
    "#--Concat two dataframes for better visualization\n",
    "featureScores = pd.concat([dfcolumns, dfscores], axis=1)\n",
    "print('SelectKBest: featureScores', '\\n')\n",
    "print(tabulate(featureScores.nlargest(k, 'Scores'), headers='keys'))"
   ]
  },
  {
   "cell_type": "markdown",
   "metadata": {
    "heading_collapsed": true,
    "hidden": true
   },
   "source": [
    "### ExtraTreesClassifier Features Selection"
   ]
  },
  {
   "cell_type": "code",
   "execution_count": 250,
   "metadata": {
    "ExecuteTime": {
     "end_time": "2020-09-02T11:14:02.903714Z",
     "start_time": "2020-09-02T11:13:55.969657Z"
    },
    "code_folding": [
     0,
     7
    ],
    "hidden": true,
    "scrolled": false
   },
   "outputs": [
    {
     "name": "stdout",
     "output_type": "stream",
     "text": [
      "feat_importances \n",
      "\n"
     ]
    },
    {
     "data": {
      "image/png": "[encoded data removed]",
      "text/plain": [
       "<Figure size 432x288 with 1 Axes>"
      ]
     },
     "metadata": {
      "needs_background": "dark"
     },
     "output_type": "display_data"
    }
   ],
   "source": [
    "# Apply ExtraTreesClassifier class to extract features\n",
    "store_importances = []\n",
    "#--Repeat Classifier\n",
    "for x in range(20):\n",
    "    #--Build Model\n",
    "    extra_tree_forest = ExtraTreesClassifier(criterion='entropy')\n",
    "    #--Train model (Features, Target)\n",
    "    extra_tree_forest.fit(df_coded.drop(columns=target_signal),\n",
    "                          df_coded[target_signal])\n",
    "    #--Computing & Normalizing the individual importances\n",
    "    feat_importance = np.std([tree.feature_importances_ for tree in extra_tree_forest.estimators_], \\\n",
    "                                         axis=0)\n",
    "    #--Store results\n",
    "    store_importances.append(feat_importance)\n",
    "#--Plot graph of feature importances for better visualization\n",
    "feat_importances = pd.Series(\n",
    "    pd.DataFrame(store_importances).mean())\n",
    "feat_importances.index = df_coded.drop(columns=target_signal).columns\n",
    "print('feat_importances', '\\n')\n",
    "plt.barh(feat_importances.sort_values().index,\n",
    "         feat_importances.sort_values().values)\n",
    "plt.title('Comparison of different Feature Importances')\n",
    "plt.show()"
   ]
  },
  {
   "cell_type": "markdown",
   "metadata": {
    "hidden": true
   },
   "source": [
    "### Correlation HeatMap"
   ]
  },
  {
   "cell_type": "code",
   "execution_count": 251,
   "metadata": {
    "ExecuteTime": {
     "end_time": "2020-09-02T11:14:03.449407Z",
     "start_time": "2020-09-02T11:14:02.907714Z"
    },
    "code_folding": [
     0
    ],
    "hidden": true
   },
   "outputs": [
    {
     "data": {
      "image/png": "[encoded data removed]",
      "text/plain": [
       "<Figure size 720x720 with 2 Axes>"
      ]
     },
     "metadata": {
      "needs_background": "dark"
     },
     "output_type": "display_data"
    }
   ],
   "source": [
    "# Get correlations of each features in dataset\n",
    "corrmat = df_concat.corr()\n",
    "top_corr_features = corrmat.index\n",
    "# Plot heat map\n",
    "f, ax = plt.subplots(figsize=(10, 10))\n",
    "sns.heatmap(corrmat[target_signal].sort_values(by=target_signal, ascending=False), annot=True, cmap=\"RdYlGn\")\n",
    "bottom, top = ax.get_ylim()\n",
    "ax.set_ylim(bottom + 0.5, top - 0.5)\n",
    "plt.show()"
   ]
  },
  {
   "cell_type": "markdown",
   "metadata": {
    "heading_collapsed": true,
    "hidden": true
   },
   "source": [
    "## Post Selection Manipulation"
   ]
  },
  {
   "cell_type": "code",
   "execution_count": 252,
   "metadata": {
    "ExecuteTime": {
     "end_time": "2020-09-02T11:14:03.477386Z",
     "start_time": "2020-09-02T11:14:03.452403Z"
    },
    "code_folding": [
     3,
     11
    ],
    "hidden": true
   },
   "outputs": [
    {
     "name": "stdout",
     "output_type": "stream",
     "text": [
      "Target Data  669 \n",
      " Date                   Returns_AAPL\n",
      "-------------------  --------------\n",
      "2018-01-04 00:00:00     0.00456677\n",
      "2018-01-05 00:00:00     0.0112079\n",
      "2018-01-08 00:00:00    -0.00356337\n",
      "2018-01-09 00:00:00    -0.00023801\n",
      "2018-01-10 00:00:00    -0.000238067\n",
      "\n",
      "\n",
      "Features Data  669 \n",
      " Date                   Volume_SPY    Returns_SPY    Volume_AAPL    Close_AAPL    High_AAPL\n",
      "-------------------  ------------  -------------  -------------  ------------  -----------\n",
      "2018-01-04 00:00:00   9.00704e+07     0.00630279    1.18072e+08         41.51        43.64\n",
      "2018-01-05 00:00:00   8.06364e+07     0.0041799     8.97384e+07         41.7         43.37\n",
      "2018-01-08 00:00:00   8.3524e+07      0.00665938    9.464e+07           42.17        43.84\n",
      "2018-01-09 00:00:00   5.73192e+07     0.00183986    8.22712e+07         42.02        43.9\n",
      "2018-01-10 00:00:00   5.7254e+07      0.00225686    8.6336e+07          42.01        43.76\n"
     ]
    }
   ],
   "source": [
    "# Shift Data\n",
    "#--Target Data\n",
    "df_target = df_concat[target_signal]\n",
    "print('Target Data ', len(df_target), '\\n',\n",
    "      tabulate(df_target.head(), headers='keys'))\n",
    "print('\\n')\n",
    "#--Features Data\n",
    "features = [\n",
    "    'Volume_SPY', 'Returns_SPY', 'Volume_AAPL', 'Close_AAPL', 'High_AAPL'\n",
    "]\n",
    "df_features = df_concat[features]\n",
    "print('Features Data ', len(df_features), '\\n',\n",
    "      tabulate(df_features.head(), headers='keys'))"
   ]
  },
  {
   "cell_type": "code",
   "execution_count": 253,
   "metadata": {
    "ExecuteTime": {
     "end_time": "2020-09-02T11:14:03.620337Z",
     "start_time": "2020-09-02T11:14:03.483384Z"
    },
    "code_folding": [
     0
    ],
    "hidden": true
   },
   "outputs": [
    {
     "name": "stdout",
     "output_type": "stream",
     "text": [
      "Features Data to array  <class 'numpy.ndarray'> (669, 5)\n",
      "Target Data to array  <class 'numpy.ndarray'> (669, 1)\n"
     ]
    }
   ],
   "source": [
    "# Convert to Numpy Arrays\n",
    "#--Features Data\n",
    "x_data = df_features.values\n",
    "print('Features Data to array ', type(x_data), x_data.shape)\n",
    "#--Target Data\n",
    "y_data = df_target[['Returns_AAPL']].values\n",
    "print('Target Data to array ', type(y_data), y_data.shape)"
   ]
  },
  {
   "cell_type": "code",
   "execution_count": 254,
   "metadata": {
    "ExecuteTime": {
     "end_time": "2020-09-02T11:14:03.745269Z",
     "start_time": "2020-09-02T11:14:03.623335Z"
    },
    "code_folding": [
     0
    ],
    "hidden": true
   },
   "outputs": [
    {
     "name": "stdout",
     "output_type": "stream",
     "text": [
      "Number of observation in the dataset:  669 data-points\n"
     ]
    }
   ],
   "source": [
    "# Number of observations in the dataset\n",
    "num_data = len(x_data)\n",
    "print('Number of observation in the dataset: ', num_data, 'data-points')"
   ]
  },
  {
   "cell_type": "code",
   "execution_count": 255,
   "metadata": {
    "ExecuteTime": {
     "end_time": "2020-09-02T11:14:03.884185Z",
     "start_time": "2020-09-02T11:14:03.752264Z"
    },
    "code_folding": [
     0
    ],
    "hidden": true
   },
   "outputs": [
    {
     "name": "stdout",
     "output_type": "stream",
     "text": [
      "Number of observations in the training set:  535 data-points\n",
      "Number of observations in the testing set:  134 data-points\n",
      "Total Features:  5 features\n",
      "Features Data Split Done\n",
      "Total Target:  1 target\n",
      "Target Data Split Done\n"
     ]
    }
   ],
   "source": [
    "# Train-test split\n",
    "train_split = 0.8\n",
    "num_train = int(train_split * num_data)\n",
    "print('Number of observations in the training set: ', num_train, 'data-points')\n",
    "num_test = num_data - num_train\n",
    "print('Number of observations in the testing set: ', num_test, 'data-points')\n",
    "#--Split data\n",
    "#---Features Data\n",
    "num_x_signals = x_data.shape[1]\n",
    "print('Total Features: ', num_x_signals, 'features')\n",
    "x_train = x_data[:num_train]\n",
    "x_test = x_data[num_train:]\n",
    "if len(x_train) + len(x_test) == num_data:\n",
    "    print('Features Data Split Done')\n",
    "    pass\n",
    "#---Target Data\n",
    "num_y_signals = y_data.shape[1]\n",
    "print('Total Target: ', num_y_signals, 'target')\n",
    "y_train = y_data[:num_train]\n",
    "y_test = y_data[num_train:]\n",
    "if len(y_train) + len(y_test) == num_data:\n",
    "    print('Target Data Split Done')\n",
    "    pass"
   ]
  },
  {
   "cell_type": "markdown",
   "metadata": {
    "heading_collapsed": true
   },
   "source": [
    "# Scale Data"
   ]
  },
  {
   "cell_type": "code",
   "execution_count": 256,
   "metadata": {
    "ExecuteTime": {
     "end_time": "2020-09-02T11:14:03.992372Z",
     "start_time": "2020-09-02T11:14:03.887184Z"
    },
    "code_folding": [],
    "hidden": true,
    "scrolled": true
   },
   "outputs": [
    {
     "name": "stdout",
     "output_type": "stream",
     "text": [
      "Max value  426884800.0\n",
      "Min value  -0.12\n"
     ]
    }
   ],
   "source": [
    "# Dataset min. & max. values\n",
    "print('Max value ', round(np.max(x_data), 2))\n",
    "print('Min value ', round(np.min(x_data), 2))"
   ]
  },
  {
   "cell_type": "code",
   "execution_count": 257,
   "metadata": {
    "ExecuteTime": {
     "end_time": "2020-09-02T11:14:04.112961Z",
     "start_time": "2020-09-02T11:14:03.996369Z"
    },
    "hidden": true
   },
   "outputs": [],
   "source": [
    "# Scaler for input data\n",
    "x_scaler = MinMaxScaler()\n",
    "x_train_scaled = x_scaler.fit_transform(x_train)\n",
    "x_test_scaled = x_scaler.fit_transform(x_test)"
   ]
  },
  {
   "cell_type": "code",
   "execution_count": 258,
   "metadata": {
    "ExecuteTime": {
     "end_time": "2020-09-02T11:14:04.247841Z",
     "start_time": "2020-09-02T11:14:04.117938Z"
    },
    "code_folding": [],
    "hidden": true
   },
   "outputs": [],
   "source": [
    "# Scaler for output data\n",
    "y_scaler = MinMaxScaler()\n",
    "y_train_scaled = y_scaler.fit_transform(y_train)\n",
    "y_test_scaled = y_scaler.fit_transform(y_test)"
   ]
  },
  {
   "cell_type": "code",
   "execution_count": 259,
   "metadata": {
    "ExecuteTime": {
     "end_time": "2020-09-02T11:14:04.393741Z",
     "start_time": "2020-09-02T11:14:04.252828Z"
    },
    "hidden": true
   },
   "outputs": [
    {
     "name": "stdout",
     "output_type": "stream",
     "text": [
      "Input shape  (535, 5)\n",
      "Output shape  (535, 1)\n"
     ]
    }
   ],
   "source": [
    "# Array shapes of input and output data\n",
    "print('Input shape ', x_train_scaled.shape)\n",
    "print('Output shape ', y_train_scaled.shape)"
   ]
  },
  {
   "cell_type": "markdown",
   "metadata": {
    "heading_collapsed": true
   },
   "source": [
    "# Data Generator"
   ]
  },
  {
   "cell_type": "markdown",
   "metadata": {
    "hidden": true
   },
   "source": [
    "Instead of training the Recurrent Neural Network on the complete sequences of almost 300k observations, we will use the following function to create a batch of shorter sub-sequences picked at random from the training-data."
   ]
  },
  {
   "cell_type": "code",
   "execution_count": 260,
   "metadata": {
    "ExecuteTime": {
     "end_time": "2020-09-02T11:14:04.523845Z",
     "start_time": "2020-09-02T11:14:04.399737Z"
    },
    "code_folding": [
     0
    ],
    "hidden": true
   },
   "outputs": [],
   "source": [
    "def batch_generator(batch_size, sequence_length):\n",
    "    \"\"\"\n",
    "    Generator function for creating random batches of training-data.\n",
    "    \"\"\"\n",
    "\n",
    "    # Infinite loop.\n",
    "    while True:\n",
    "        # Allocate a new array for the batch of input-signals.\n",
    "        x_shape = (batch_size, sequence_length, num_x_signals)\n",
    "        x_batch = np.zeros(shape=x_shape, dtype=np.float16)\n",
    "\n",
    "        # Allocate a new array for the batch of output-signals.\n",
    "        y_shape = (batch_size, sequence_length, num_y_signals)\n",
    "        y_batch = np.zeros(shape=y_shape, dtype=np.float16)\n",
    "\n",
    "        # Fill the batch with random sequences of data.\n",
    "        for i in range(batch_size):\n",
    "            # Get a random start-index.\n",
    "            # This points somewhere into the training-data.\n",
    "            idx = np.random.randint(num_train - sequence_length)\n",
    "            \n",
    "            # Copy the sequences of data starting at this index.\n",
    "            x_batch[i] = x_train_scaled[idx:idx+sequence_length]\n",
    "            y_batch[i] = y_train_scaled[idx:idx+sequence_length]\n",
    "        \n",
    "        yield (x_batch, y_batch)"
   ]
  },
  {
   "cell_type": "code",
   "execution_count": 261,
   "metadata": {
    "ExecuteTime": {
     "end_time": "2020-09-02T11:14:04.667782Z",
     "start_time": "2020-09-02T11:14:04.527846Z"
    },
    "code_folding": [],
    "hidden": true
   },
   "outputs": [
    {
     "name": "stdout",
     "output_type": "stream",
     "text": [
      "Input Data shape:  (100, 100, 5)\n",
      "Output Data shape:  (100, 100, 1)\n",
      "There are  100  sequences & each has  100  observations with  5  inputs and  1  outputs\n"
     ]
    }
   ],
   "source": [
    "# Generate Data\n",
    "batch_size = 100\n",
    "sequence_length = 100\n",
    "generator = batch_generator(batch_size=batch_size, sequence_length=sequence_length)\n",
    "x_batch, y_batch = next(generator)\n",
    "print('Input Data shape: ', x_batch.shape)\n",
    "print('Output Data shape: ', y_batch.shape)\n",
    "print('There are ', batch_size, ' sequences & each has ', sequence_length, ' observations with ',\n",
    "      num_x_signals, ' inputs and ', num_y_signals, ' outputs')"
   ]
  },
  {
   "cell_type": "markdown",
   "metadata": {
    "heading_collapsed": true
   },
   "source": [
    "# Validation Set"
   ]
  },
  {
   "cell_type": "markdown",
   "metadata": {
    "hidden": true
   },
   "source": [
    "The neural network trains quickly so we can easily run many training epochs. But then there is a risk of overfitting the model to the training-set so it does not generalize well to unseen data. We will therefore monitor the model's performance on the test-set after each epoch and only save the model's weights if the performance is improved on the test-set.\n",
    "\n",
    "The batch-generator randomly selects a batch of short sequences from the training-data and uses that during training. But for the validation-data we will instead run through the entire sequence from the test-set and measure the prediction accuracy on that entire sequence."
   ]
  },
  {
   "cell_type": "code",
   "execution_count": 262,
   "metadata": {
    "ExecuteTime": {
     "end_time": "2020-09-02T11:14:04.801686Z",
     "start_time": "2020-09-02T11:14:04.682762Z"
    },
    "code_folding": [],
    "hidden": true
   },
   "outputs": [],
   "source": [
    "# Create a valudation data\n",
    "validation_data = (np.expand_dims(x_test_scaled,\n",
    "                                  axis=0), np.expand_dims(y_test_scaled,\n",
    "                                                          axis=0))"
   ]
  },
  {
   "cell_type": "markdown",
   "metadata": {
    "heading_collapsed": true
   },
   "source": [
    "# Create RNN"
   ]
  },
  {
   "cell_type": "markdown",
   "metadata": {
    "hidden": true
   },
   "source": [
    "We are now ready to create the Recurrent Neural Network (RNN). We will use the Keras API for this because of its simplicity. See Tutorial #03-C for a tutorial on Keras and Tutorial #20 for more information on Recurrent Neural Networks.`"
   ]
  },
  {
   "cell_type": "code",
   "execution_count": 263,
   "metadata": {
    "ExecuteTime": {
     "end_time": "2020-09-02T11:14:04.939816Z",
     "start_time": "2020-09-02T11:14:04.813680Z"
    },
    "hidden": true
   },
   "outputs": [],
   "source": [
    "# Create model\n",
    "model = Sequential()"
   ]
  },
  {
   "cell_type": "markdown",
   "metadata": {
    "hidden": true
   },
   "source": [
    "We can now add a Gated Recurrent Unit (GRU) to the network. This will have 512 outputs for each time-step in the sequence.\n",
    "\n",
    "Note that because this is the first layer in the model, Keras needs to know the shape of its input, which is a batch of sequences of arbitrary length (indicated by None), where each observation has a number of input-signals (num_x_signals)."
   ]
  },
  {
   "cell_type": "code",
   "execution_count": 264,
   "metadata": {
    "ExecuteTime": {
     "end_time": "2020-09-02T11:14:05.588416Z",
     "start_time": "2020-09-02T11:14:04.942641Z"
    },
    "hidden": true
   },
   "outputs": [],
   "source": [
    "model.add(GRU(units=216,\n",
    "              return_sequences=True,\n",
    "              input_shape=(None, num_x_signals,)))"
   ]
  },
  {
   "cell_type": "markdown",
   "metadata": {
    "hidden": true
   },
   "source": [
    "The GRU outputs a batch of sequences of 512 values. We want to predict 3 output-signals, so we add a fully-connected (or dense) layer which maps 512 values down to only 3 values.\n",
    "\n",
    "The output-signals in the data-set have been limited to be between 0 and 1 using a scaler-object. So we also limit the output of the neural network using the Sigmoid activation function, which squashes the output to be between 0 and 1"
   ]
  },
  {
   "cell_type": "code",
   "execution_count": 265,
   "metadata": {
    "ExecuteTime": {
     "end_time": "2020-09-02T11:14:05.643341Z",
     "start_time": "2020-09-02T11:14:05.591371Z"
    },
    "hidden": true
   },
   "outputs": [],
   "source": [
    "model.add(Dense(num_y_signals, activation='exponential'))"
   ]
  },
  {
   "cell_type": "markdown",
   "metadata": {
    "hidden": true
   },
   "source": [
    "We can use a linear activation function on the output instead. This allows for the output to take on arbitrary values. It might work with the standard initialization for a simple network architecture, but for more complicated network architectures e.g. with more layers, it might be necessary to initialize the weights with smaller values to avoid NaN values during training. You may need to experiment with this to get it working."
   ]
  },
  {
   "cell_type": "code",
   "execution_count": 266,
   "metadata": {
    "ExecuteTime": {
     "end_time": "2020-09-02T11:14:05.782273Z",
     "start_time": "2020-09-02T11:14:05.652337Z"
    },
    "code_folding": [
     0
    ],
    "hidden": true
   },
   "outputs": [],
   "source": [
    "if False:\n",
    "    from tensorflow.python.keras.initializers import RandomUniform\n",
    "    # Maybe use lower init-ranges.\n",
    "    init = RandomUniform(minval=-0.05, maxval=0.05)\n",
    "\n",
    "    model.add(Dense(num_y_signals,\n",
    "                    activation='linear',\n",
    "                    kernel_initializer=init))"
   ]
  },
  {
   "cell_type": "markdown",
   "metadata": {
    "heading_collapsed": true
   },
   "source": [
    "# Loss Function"
   ]
  },
  {
   "cell_type": "markdown",
   "metadata": {
    "hidden": true
   },
   "source": [
    "We will use Mean Squared Error (MSE) as the loss-function that will be minimized. This measures how closely the model's output matches the true output signals.\n",
    "\n",
    "However, at the beginning of a sequence, the model has only seen input-signals for a few time-steps, so its generated output may be very inaccurate. Using the loss-value for the early time-steps may cause the model to distort its later output. We therefore give the model a \"warmup-period\" of 50 time-steps where we don't use its accuracy in the loss-function, in hope of improving the accuracy for later time-steps."
   ]
  },
  {
   "cell_type": "code",
   "execution_count": 267,
   "metadata": {
    "ExecuteTime": {
     "end_time": "2020-09-02T11:14:05.911326Z",
     "start_time": "2020-09-02T11:14:05.786260Z"
    },
    "hidden": true
   },
   "outputs": [],
   "source": [
    "warmup_steps = 50"
   ]
  },
  {
   "cell_type": "code",
   "execution_count": 268,
   "metadata": {
    "ExecuteTime": {
     "end_time": "2020-09-02T11:14:06.046362Z",
     "start_time": "2020-09-02T11:14:05.915324Z"
    },
    "code_folding": [],
    "hidden": true
   },
   "outputs": [],
   "source": [
    "def loss_mse_warmup(y_true, y_pred):\n",
    "    \"\"\"\n",
    "    Calculate the Mean Squared Error between y_true and y_pred,\n",
    "    but ignore the beginning \"warmup\" part of the sequences.\n",
    "    \n",
    "    y_true is the desired output.\n",
    "    y_pred is the model's output.\n",
    "    \"\"\"\n",
    "\n",
    "    # The shape of both input tensors are:\n",
    "    # [batch_size, sequence_length, num_y_signals].\n",
    "\n",
    "    # Ignore the \"warmup\" parts of the sequences\n",
    "    # by taking slices of the tensors.\n",
    "    y_true_slice = y_true[:, warmup_steps:, :]\n",
    "    y_pred_slice = y_pred[:, warmup_steps:, :]\n",
    "\n",
    "    # These sliced tensors both have this shape:\n",
    "    # [batch_size, sequence_length - warmup_steps, num_y_signals]\n",
    "\n",
    "    # Calculat the Mean Squared Error and use it as loss.\n",
    "    mse = mean(square(y_true_slice - y_pred_slice))\n",
    "    \n",
    "    return mse"
   ]
  },
  {
   "cell_type": "markdown",
   "metadata": {
    "heading_collapsed": true
   },
   "source": [
    "# Compile Model"
   ]
  },
  {
   "cell_type": "markdown",
   "metadata": {
    "hidden": true
   },
   "source": [
    "This is the optimizer and the beginning learning-rate that we will use."
   ]
  },
  {
   "cell_type": "code",
   "execution_count": 269,
   "metadata": {
    "ExecuteTime": {
     "end_time": "2020-09-02T11:14:06.167754Z",
     "start_time": "2020-09-02T11:14:06.050341Z"
    },
    "hidden": true
   },
   "outputs": [],
   "source": [
    "optimizer = RMSprop(lr=1e-3)"
   ]
  },
  {
   "cell_type": "markdown",
   "metadata": {
    "hidden": true
   },
   "source": [
    "We then compile the Keras model so it is ready for training."
   ]
  },
  {
   "cell_type": "code",
   "execution_count": 270,
   "metadata": {
    "ExecuteTime": {
     "end_time": "2020-09-02T11:14:06.309671Z",
     "start_time": "2020-09-02T11:14:06.170768Z"
    },
    "hidden": true
   },
   "outputs": [],
   "source": [
    "model.compile(loss='mean_squared_error', optimizer=optimizer)"
   ]
  },
  {
   "cell_type": "markdown",
   "metadata": {
    "hidden": true
   },
   "source": [
    "This is a very small model with only two layers. The output shape of (None, None, 1) means that the model will output a batch with an arbitrary number of sequences, each of which has an arbitrary number of observations, and each observation has 1 signals. This corresponds to the 1 target signals we want to predict."
   ]
  },
  {
   "cell_type": "code",
   "execution_count": 271,
   "metadata": {
    "ExecuteTime": {
     "end_time": "2020-09-02T11:14:06.440597Z",
     "start_time": "2020-09-02T11:14:06.319667Z"
    },
    "hidden": true
   },
   "outputs": [
    {
     "name": "stdout",
     "output_type": "stream",
     "text": [
      "Model: \"sequential_4\"\n",
      "_________________________________________________________________\n",
      "Layer (type)                 Output Shape              Param #   \n",
      "=================================================================\n",
      "gru_4 (GRU)                  (None, None, 216)         144504    \n",
      "_________________________________________________________________\n",
      "dense_4 (Dense)              (None, None, 1)           217       \n",
      "=================================================================\n",
      "Total params: 144,721\n",
      "Trainable params: 144,721\n",
      "Non-trainable params: 0\n",
      "_________________________________________________________________\n"
     ]
    }
   ],
   "source": [
    "model.summary()"
   ]
  },
  {
   "cell_type": "markdown",
   "metadata": {
    "heading_collapsed": true
   },
   "source": [
    "# Callback Functions"
   ]
  },
  {
   "cell_type": "markdown",
   "metadata": {
    "hidden": true
   },
   "source": [
    "During training we want to save checkpoints and log the progress to TensorBoard so we create the appropriate callbacks for Keras.\n",
    "\n",
    "This is the callback for writing checkpoints during training."
   ]
  },
  {
   "cell_type": "code",
   "execution_count": 272,
   "metadata": {
    "ExecuteTime": {
     "end_time": "2020-09-02T11:14:06.579500Z",
     "start_time": "2020-09-02T11:14:06.444577Z"
    },
    "hidden": true
   },
   "outputs": [],
   "source": [
    "path_checkpoint = 'RNN_Daily.keras'\n",
    "callback_checkpoint = ModelCheckpoint(filepath=path_checkpoint,\n",
    "                                      monitor='val_loss',\n",
    "                                      verbose=1,\n",
    "                                      save_weights_only=True,\n",
    "                                      save_best_only=True)"
   ]
  },
  {
   "cell_type": "markdown",
   "metadata": {
    "hidden": true
   },
   "source": [
    "This is the callback for stopping the optimization when performance worsens on the validation-set"
   ]
  },
  {
   "cell_type": "code",
   "execution_count": 273,
   "metadata": {
    "ExecuteTime": {
     "end_time": "2020-09-02T11:14:06.790380Z",
     "start_time": "2020-09-02T11:14:06.584496Z"
    },
    "hidden": true
   },
   "outputs": [],
   "source": [
    "callback_early_stopping = EarlyStopping(monitor='val_loss',\n",
    "                                        patience=5, verbose=1)"
   ]
  },
  {
   "cell_type": "markdown",
   "metadata": {
    "hidden": true
   },
   "source": [
    "\n",
    "This is the callback for writing the TensorBoard log during training."
   ]
  },
  {
   "cell_type": "code",
   "execution_count": 274,
   "metadata": {
    "ExecuteTime": {
     "end_time": "2020-09-02T11:14:07.027114Z",
     "start_time": "2020-09-02T11:14:06.794380Z"
    },
    "hidden": true
   },
   "outputs": [],
   "source": [
    "callback_tensorboard = TensorBoard(log_dir='.\\\\23_logs\\\\',\n",
    "                                   histogram_freq=0,\n",
    "                                   write_graph=False)"
   ]
  },
  {
   "cell_type": "markdown",
   "metadata": {
    "hidden": true
   },
   "source": [
    "This callback reduces the learning-rate for the optimizer if the validation-loss has not improved since the last epoch (as indicated by patience=0). The learning-rate will be reduced by multiplying it with the given factor. We set a start learning-rate of 1e-3 above, so multiplying it by 0.1 gives a learning-rate of 1e-4. We don't want the learning-rate to go any lower than this."
   ]
  },
  {
   "cell_type": "code",
   "execution_count": 275,
   "metadata": {
    "ExecuteTime": {
     "end_time": "2020-09-02T11:14:07.489178Z",
     "start_time": "2020-09-02T11:14:07.030094Z"
    },
    "hidden": true
   },
   "outputs": [],
   "source": [
    "callback_reduce_lr = ReduceLROnPlateau(monitor='val_loss',\n",
    "                                       factor=0.1,\n",
    "                                       min_lr=1e-4,\n",
    "                                       patience=0,\n",
    "                                       verbose=1)"
   ]
  },
  {
   "cell_type": "code",
   "execution_count": 276,
   "metadata": {
    "ExecuteTime": {
     "end_time": "2020-09-02T11:14:07.841166Z",
     "start_time": "2020-09-02T11:14:07.492174Z"
    },
    "hidden": true
   },
   "outputs": [],
   "source": [
    "callbacks = [callback_early_stopping,\n",
    "             callback_checkpoint,\n",
    "             callback_tensorboard,\n",
    "             callback_reduce_lr]"
   ]
  },
  {
   "cell_type": "markdown",
   "metadata": {
    "heading_collapsed": true
   },
   "source": [
    "# Train the Recurrent Neural Network"
   ]
  },
  {
   "cell_type": "markdown",
   "metadata": {
    "hidden": true
   },
   "source": [
    "We can now train the neural network.\n",
    "\n",
    "Note that a single \"epoch\" does not correspond to a single processing of the training-set, because of how the batch-generator randomly selects sub-sequences from the training-set. Instead we have selected steps_per_epoch so that one \"epoch\" is processed in a few minutes.\n",
    "\n",
    "With these settings, each \"epoch\" took about 2.5 minutes to process on a GTX 1070. After 14 \"epochs\" the optimization was stopped because the validation-loss had not decreased for 5 \"epochs\". This optimization took about 35 minutes to finish.\n",
    "\n",
    "Also note that the loss sometimes becomes NaN (not-a-number). This is often resolved by restarting and running the Notebook again. But it may also be caused by your neural network architecture, learning-rate, batch-size, sequence-length, etc. in which case you may have to modify those settings."
   ]
  },
  {
   "cell_type": "code",
   "execution_count": 277,
   "metadata": {
    "ExecuteTime": {
     "end_time": "2020-09-02T11:17:37.802817Z",
     "start_time": "2020-09-02T11:14:07.844166Z"
    },
    "code_folding": [],
    "hidden": true
   },
   "outputs": [
    {
     "name": "stdout",
     "output_type": "stream",
     "text": [
      "Epoch 1/10\n",
      "  2/100 [..............................] - ETA: 3:43 - loss: 0.0849WARNING:tensorflow:Callbacks method `on_train_batch_end` is slow compared to the batch time (batch time: 0.3398s vs `on_train_batch_end` time: 4.1696s). Check your callbacks.\n",
      "100/100 [==============================] - ETA: 0s - loss: 0.0129\n",
      "Epoch 00001: val_loss improved from inf to 0.01906, saving model to RNN_Daily.keras\n",
      "100/100 [==============================] - 40s 400ms/step - loss: 0.0129 - val_loss: 0.0191\n",
      "Epoch 2/10\n",
      "100/100 [==============================] - ETA: 0s - loss: 0.0102\n",
      "Epoch 00002: val_loss did not improve from 0.01906\n",
      "\n",
      "Epoch 00002: ReduceLROnPlateau reducing learning rate to 0.00010000000474974513.\n",
      "100/100 [==============================] - 32s 324ms/step - loss: 0.0102 - val_loss: 0.0193\n",
      "Epoch 3/10\n",
      "100/100 [==============================] - ETA: 0s - loss: 0.0088\n",
      "Epoch 00003: val_loss did not improve from 0.01906\n",
      "\n",
      "Epoch 00003: ReduceLROnPlateau reducing learning rate to 0.0001.\n",
      "100/100 [==============================] - 32s 324ms/step - loss: 0.0088 - val_loss: 0.0199\n",
      "Epoch 4/10\n",
      "100/100 [==============================] - ETA: 0s - loss: 0.0084\n",
      "Epoch 00004: val_loss did not improve from 0.01906\n",
      "100/100 [==============================] - 32s 323ms/step - loss: 0.0084 - val_loss: 0.0216\n",
      "Epoch 5/10\n",
      "100/100 [==============================] - ETA: 0s - loss: 0.0080\n",
      "Epoch 00005: val_loss did not improve from 0.01906\n",
      "100/100 [==============================] - 32s 324ms/step - loss: 0.0080 - val_loss: 0.0219\n",
      "Epoch 6/10\n",
      "100/100 [==============================] - ETA: 0s - loss: 0.0078\n",
      "Epoch 00006: val_loss did not improve from 0.01906\n",
      "100/100 [==============================] - 32s 322ms/step - loss: 0.0078 - val_loss: 0.0220\n",
      "Epoch 00006: early stopping\n"
     ]
    },
    {
     "data": {
      "text/plain": [
       "<tensorflow.python.keras.callbacks.History at 0x12413f84288>"
      ]
     },
     "execution_count": 277,
     "metadata": {},
     "output_type": "execute_result"
    }
   ],
   "source": [
    "model.fit(x=generator,\n",
    "          epochs=10,\n",
    "          steps_per_epoch=100,\n",
    "          validation_data=validation_data,\n",
    "          callbacks=callbacks)"
   ]
  },
  {
   "cell_type": "markdown",
   "metadata": {
    "heading_collapsed": true
   },
   "source": [
    "# Load Checkpoint"
   ]
  },
  {
   "cell_type": "code",
   "execution_count": 278,
   "metadata": {
    "ExecuteTime": {
     "end_time": "2020-09-02T11:17:37.941367Z",
     "start_time": "2020-09-02T11:17:37.806814Z"
    },
    "code_folding": [],
    "hidden": true
   },
   "outputs": [],
   "source": [
    "try:\n",
    "    model.load_weights(path_checkpoint)\n",
    "except Exception as error:\n",
    "    print(\"Error trying to load checkpoint.\")\n",
    "    print(error)"
   ]
  },
  {
   "cell_type": "markdown",
   "metadata": {
    "heading_collapsed": true
   },
   "source": [
    "# Performance on Test-Set"
   ]
  },
  {
   "cell_type": "markdown",
   "metadata": {
    "hidden": true
   },
   "source": [
    "We can now evaluate the model's performance on the test-set. This function expects a batch of data, but we will just use one long time-series for the test-set, so we just expand the array-dimensionality to create a batch with that one sequence"
   ]
  },
  {
   "cell_type": "code",
   "execution_count": 279,
   "metadata": {
    "ExecuteTime": {
     "end_time": "2020-09-02T11:17:38.317669Z",
     "start_time": "2020-09-02T11:17:37.945364Z"
    },
    "hidden": true
   },
   "outputs": [
    {
     "name": "stdout",
     "output_type": "stream",
     "text": [
      "1/1 [==============================] - 0s 2ms/step - loss: 0.0191\n"
     ]
    }
   ],
   "source": [
    "result = model.evaluate(x=np.expand_dims(x_test_scaled, axis=0),\n",
    "                        y=np.expand_dims(y_test_scaled, axis=0))"
   ]
  },
  {
   "cell_type": "code",
   "execution_count": 280,
   "metadata": {
    "ExecuteTime": {
     "end_time": "2020-09-02T11:17:38.373645Z",
     "start_time": "2020-09-02T11:17:38.321648Z"
    },
    "hidden": true
   },
   "outputs": [
    {
     "name": "stdout",
     "output_type": "stream",
     "text": [
      "loss (test-set): 0.01905777119100094\n"
     ]
    }
   ],
   "source": [
    "print(\"loss (test-set):\", result)"
   ]
  },
  {
   "cell_type": "code",
   "execution_count": 281,
   "metadata": {
    "ExecuteTime": {
     "end_time": "2020-09-02T11:17:38.588899Z",
     "start_time": "2020-09-02T11:17:38.378644Z"
    },
    "code_folding": [
     0
    ],
    "hidden": true
   },
   "outputs": [],
   "source": [
    "# If you have several metrics you can use this instead.\n",
    "if False:\n",
    "    for res, metric in zip(result, model.metrics_names):\n",
    "        print(\"{0}: {1:.3e}\".format(metric, res))"
   ]
  },
  {
   "cell_type": "markdown",
   "metadata": {
    "heading_collapsed": true
   },
   "source": [
    "# Generate Predictions"
   ]
  },
  {
   "cell_type": "markdown",
   "metadata": {
    "hidden": true
   },
   "source": [
    "This helper-function plots the predicted and true output-signals."
   ]
  },
  {
   "cell_type": "code",
   "execution_count": 282,
   "metadata": {
    "ExecuteTime": {
     "end_time": "2020-09-02T11:17:38.767724Z",
     "start_time": "2020-09-02T11:17:38.591900Z"
    },
    "code_folding": [
     0
    ],
    "hidden": true
   },
   "outputs": [],
   "source": [
    "def plot_comparison(start_idx, length=100, train=True):\n",
    "    \"\"\"\n",
    "    Plot the predicted and true output-signals.\n",
    "    \n",
    "    :param start_idx: Start-index for the time-series.\n",
    "    :param length: Sequence-length to process and plot.\n",
    "    :param train: Boolean whether to use training- or test-set.\n",
    "    \"\"\"\n",
    "    if train:\n",
    "        # Use training-data.\n",
    "        x = x_train_scaled\n",
    "        y_true = y_train\n",
    "    else:\n",
    "        # Use test-data.\n",
    "        x = x_test_scaled\n",
    "        y_true = y_test\n",
    "    # End-index for the sequences.\n",
    "    end_idx = start_idx + length\n",
    "    # Select the sequences from the given start-index and\n",
    "    # of the given length.\n",
    "    x = x[start_idx:end_idx]\n",
    "    y_true = y_true[start_idx:end_idx]\n",
    "    # Input-signals for the model.\n",
    "    x = np.expand_dims(x, axis=0)\n",
    "    # Use the model to predict the output-signals.\n",
    "    y_pred = model.predict(x)\n",
    "    # The output of the model is between 0 and 1.\n",
    "    # Do an inverse map to get it back to the scale\n",
    "    # of the original data-set.\n",
    "    y_pred_rescaled = y_scaler.inverse_transform(y_pred[0])\n",
    "    # For each output-signal.\n",
    "    for signal in range(len(target_signal)):\n",
    "        # Get the output-signal predicted by the model.\n",
    "        signal_pred = y_pred_rescaled[:, signal]\n",
    "        # Get the true output-signal from the data-set.\n",
    "        signal_true = y_true[:, signal]\n",
    "        # Make the plotting-canvas bigger.\n",
    "        plt.figure(figsize=(15, 5))\n",
    "        # Plot and compare the two signals.\n",
    "        plt.plot(signal_true, label='true')\n",
    "        plt.plot(signal_pred, label='pred')\n",
    "        # Plot grey box for warmup-period.\n",
    "        p = plt.axvspan(0, warmup_steps, facecolor='black', alpha=0.15)\n",
    "        # Plot labels etc.\n",
    "        plt.ylabel(target_signal[signal])\n",
    "        plt.legend()\n",
    "        plt.show()\n",
    "        return y_true, y_pred_rescaled"
   ]
  },
  {
   "cell_type": "code",
   "execution_count": 283,
   "metadata": {
    "ExecuteTime": {
     "end_time": "2020-09-02T11:17:40.720198Z",
     "start_time": "2020-09-02T11:17:38.771737Z"
    },
    "hidden": true
   },
   "outputs": [
    {
     "name": "stdout",
     "output_type": "stream",
     "text": [
      "WARNING:tensorflow:5 out of the last 5 calls to <function Model.make_predict_function.<locals>.predict_function at 0x0000012409D7F9D8> triggered tf.function retracing. Tracing is expensive and the excessive number of tracings could be due to (1) creating @tf.function repeatedly in a loop, (2) passing tensors with different shapes, (3) passing Python objects instead of tensors. For (1), please define your @tf.function outside of the loop. For (2), @tf.function has experimental_relax_shapes=True option that relaxes argument shapes that can avoid unnecessary retracing. For (3), please refer to https://www.tensorflow.org/tutorials/customization/performance#python_or_tensor_args and https://www.tensorflow.org/api_docs/python/tf/function for  more details.\n"
     ]
    },
    {
     "data": {
      "image/png": "[encoded data removed]",
      "text/plain": [
       "<Figure size 1080x360 with 1 Axes>"
      ]
     },
     "metadata": {
      "needs_background": "dark"
     },
     "output_type": "display_data"
    }
   ],
   "source": [
    "true, prediction = plot_comparison(start_idx=0, length=num_train, train=False)"
   ]
  },
  {
   "cell_type": "code",
   "execution_count": 284,
   "metadata": {
    "ExecuteTime": {
     "end_time": "2020-09-02T11:17:40.761173Z",
     "start_time": "2020-09-02T11:17:40.725194Z"
    },
    "code_folding": [
     0
    ],
    "hidden": true
   },
   "outputs": [],
   "source": [
    "# Transfer to DataFrame\n",
    "df_result = pd.DataFrame([true[:, 0], prediction[:, 0]], index=['True', 'Predictions']).T\n",
    "df_result['Difference'] = np.abs(df_result['True']-df_result['Predictions'])"
   ]
  },
  {
   "cell_type": "code",
   "execution_count": 285,
   "metadata": {
    "ExecuteTime": {
     "end_time": "2020-09-02T11:17:40.958358Z",
     "start_time": "2020-09-02T11:17:40.766171Z"
    },
    "code_folding": [
     0
    ],
    "hidden": true
   },
   "outputs": [
    {
     "name": "stdout",
     "output_type": "stream",
     "text": [
      "               True    Predictions     Difference\n",
      "-----  ------------  -------------  -------------\n",
      "count  134           134            134\n",
      "mean     0.00367057   -0.00150983     0.0234745\n",
      "std      0.0340608     0.00693386     0.0255535\n",
      "min     -0.137711     -0.0230257      0.000103742\n",
      "25%     -0.01154      -0.00471445     0.00600046\n",
      "50%      0.00429561   -0.000514785    0.0159638\n",
      "75%      0.0208866     0.00194072     0.0280889\n",
      "max      0.113132      0.0402496      0.119196\n"
     ]
    }
   ],
   "source": [
    "# Result summary\n",
    "print(tabulate(df_result.describe(), headers='keys'))"
   ]
  },
  {
   "cell_type": "code",
   "execution_count": 286,
   "metadata": {
    "ExecuteTime": {
     "end_time": "2020-09-02T11:17:41.157623Z",
     "start_time": "2020-09-02T11:17:40.962340Z"
    },
    "hidden": true
   },
   "outputs": [],
   "source": [
    "mean = np.mean(prediction, axis=0).reshape(-1)\n",
    "std = np.std(prediction, axis=0).reshape(-1)\n",
    "lower = np.percentile(prediction, 5, axis=0).reshape(-1)\n",
    "upper = np.percentile(prediction, 95, axis=0).reshape(-1)"
   ]
  },
  {
   "cell_type": "code",
   "execution_count": 287,
   "metadata": {
    "ExecuteTime": {
     "end_time": "2020-09-02T11:17:41.340911Z",
     "start_time": "2020-09-02T11:17:41.160549Z"
    },
    "code_folding": [
     0
    ],
    "hidden": true
   },
   "outputs": [
    {
     "name": "stdout",
     "output_type": "stream",
     "text": [
      "Root Mean Squared Error:  0.0346\n",
      "R2 Score:  -4.14\n"
     ]
    }
   ],
   "source": [
    "# Metrics\n",
    "rmse = np.round(np.sqrt(mean_squared_error(df_result['True'], df_result['Predictions'])), 4)\n",
    "print('Root Mean Squared Error: ', rmse)\n",
    "r2 = np.round(r2_score(df_result['True'], df_result['Predictions'])*100, 2)\n",
    "print('R2 Score: ', r2)"
   ]
  },
  {
   "cell_type": "code",
   "execution_count": 288,
   "metadata": {
    "ExecuteTime": {
     "end_time": "2020-09-02T11:17:41.548223Z",
     "start_time": "2020-09-02T11:17:41.344909Z"
    },
    "code_folding": [
     0
    ],
    "hidden": true,
    "scrolled": true
   },
   "outputs": [
    {
     "name": "stdout",
     "output_type": "stream",
     "text": [
      "df_result \n",
      "\n",
      "               True    Predictions     Difference    Price_True    Price_Predictions    Price_Diff\n",
      "-----  ------------  -------------  -------------  ------------  -------------------  ------------\n",
      "count  134           134            134                134                  134       134\n",
      "mean     0.00367057   -0.00150983     0.0234745         84.3315              83.8387    1.86553\n",
      "std      0.0340608     0.00693386     0.0255535         18.143               17.6798    1.89766\n",
      "min     -0.137711     -0.0230257      0.000103742       55.84                55.4973    0.00631961\n",
      "25%     -0.01154      -0.00471445     0.00600046        70.55                70.6332    0.532754\n",
      "50%      0.00429561   -0.000514785    0.0159638         79.5                 79.5645    1.23775\n",
      "75%      0.0208866     0.00194072     0.0280889         95.095               95.1752    2.48167\n",
      "max      0.113132      0.0402496      0.119196         130.37               125.654     9.904\n"
     ]
    }
   ],
   "source": [
    "# Convert to Price\n",
    "price_pred = []\n",
    "for i in range(num_test):\n",
    "    price = np.exp(\n",
    "        df_result['Predictions'][i]) * df['Close_AAPL'].iloc[-(num_test + 1 - i)]\n",
    "    price_pred.append(price)\n",
    "df_result.index = df['Close_AAPL'].iloc[-(num_test):].index\n",
    "df_result['Price_True'] = df['Close_AAPL'].iloc[-(num_test):].values\n",
    "df_result['Price_Predictions'] = price_pred\n",
    "df_result['Price_Diff'] = np.abs(df_result['Price_True'] - df_result['Price_Predictions'])\n",
    "print('df_result', '\\n')\n",
    "print(tabulate(df_result.describe(), headers='keys'))"
   ]
  },
  {
   "cell_type": "code",
   "execution_count": 289,
   "metadata": {
    "ExecuteTime": {
     "end_time": "2020-09-02T11:17:42.039482Z",
     "start_time": "2020-09-02T11:17:41.552220Z"
    },
    "code_folding": [
     0
    ],
    "hidden": true,
    "scrolled": false
   },
   "outputs": [
    {
     "data": {
      "image/png": "[encoded data removed]",
      "text/plain": [
       "<Figure size 432x288 with 1 Axes>"
      ]
     },
     "metadata": {
      "needs_background": "dark"
     },
     "output_type": "display_data"
    }
   ],
   "source": [
    "# Plot Price Prediction on Test Data\n",
    "plt.plot(df_result['Price_True'], label='True')\n",
    "plt.plot(df_result['Price_Predictions'], label='Predictions')\n",
    "plt.title('True Price vs Prediction Price')\n",
    "plt.legend()\n",
    "plt.show()"
   ]
  },
  {
   "cell_type": "code",
   "execution_count": 290,
   "metadata": {
    "ExecuteTime": {
     "end_time": "2020-09-02T11:17:42.056457Z",
     "start_time": "2020-09-02T11:17:42.042462Z"
    },
    "code_folding": [
     0
    ],
    "hidden": true
   },
   "outputs": [
    {
     "name": "stdout",
     "output_type": "stream",
     "text": [
      "Root Mean Squared Error:  2.656\n",
      "R2 Score:  97.84\n"
     ]
    }
   ],
   "source": [
    "# Price Predictions Metric\n",
    "rmse = np.round(np.sqrt(mean_squared_error(df_result['Price_True'], df_result['Price_Predictions'])), 4)\n",
    "print('Root Mean Squared Error: ', rmse)\n",
    "r2 = np.round(r2_score(df_result['Price_True'], df_result['Price_Predictions'])*100, 2)\n",
    "print('R2 Score: ', r2)"
   ]
  },
  {
   "cell_type": "markdown",
   "metadata": {},
   "source": [
    "# Predict Future"
   ]
  },
  {
   "cell_type": "markdown",
   "metadata": {},
   "source": [
    "Predict Future"
   ]
  },
  {
   "cell_type": "markdown",
   "metadata": {
    "heading_collapsed": true
   },
   "source": [
    "## Data Manipulation"
   ]
  },
  {
   "cell_type": "code",
   "execution_count": 291,
   "metadata": {
    "ExecuteTime": {
     "end_time": "2020-09-02T11:17:42.221290Z",
     "start_time": "2020-09-02T11:17:42.061456Z"
    },
    "code_folding": [
     0,
     7
    ],
    "hidden": true
   },
   "outputs": [
    {
     "name": "stdout",
     "output_type": "stream",
     "text": [
      "                       Volume_SPY    Returns_SPY    Volume_AAPL    Close_AAPL    High_AAPL\n",
      "-------------------  ------------  -------------  -------------  ------------  -----------\n",
      "2020-08-26 00:00:00   3.84634e+07    0.00349325     2.11496e+08        124.82       125.18\n",
      "2020-08-27 00:00:00   5.07902e+07    0.00997565     1.63022e+08        126.52       126.99\n",
      "2020-08-28 00:00:00   5.80341e+07    0.00218422     1.55552e+08        125.01       127.49\n",
      "2020-08-31 00:00:00   4.85063e+07    0.00643862     1.87152e+08        124.81       126.44\n",
      "2020-09-01 00:00:00   2.9261e+07    -0.000199689    1.53828e+08        130.37       130.9\n"
     ]
    }
   ],
   "source": [
    "# Data Manipulation for future prediction\n",
    "#--Get shifted Data\n",
    "shifted_data = pd.DataFrame(df.iloc[-1, :][features]).T# Since all features are shifted data so there is need to further process this\n",
    "#--Fix Future Dating\n",
    "for x in range(1, 10):\n",
    "    # Add days to the last day\n",
    "    _ = df_features.index[-1] + timedelta(days=x)\n",
    "    if _.weekday() < 5: # Repeat until it's working Monday-Friday\n",
    "        break\n",
    "shifted_data.index = [_] # Add as index\n",
    "del _\n",
    "#--Add future features\n",
    "df_features_future = df_features.append(shifted_data)\n",
    "print(tabulate(df_features_future.tail(), headers='keys'))"
   ]
  },
  {
   "cell_type": "markdown",
   "metadata": {},
   "source": [
    "## Prediction"
   ]
  },
  {
   "cell_type": "code",
   "execution_count": 292,
   "metadata": {
    "ExecuteTime": {
     "end_time": "2020-09-02T11:17:42.401776Z",
     "start_time": "2020-09-02T11:17:42.225307Z"
    },
    "code_folding": [
     0
    ]
   },
   "outputs": [],
   "source": [
    "def predict_future(df_futures_feature=df_features_future,\n",
    "                   start_idx=0,\n",
    "                   length=100):\n",
    "    x_test_scaled = x_scaler.transform(\n",
    "        df_features_future.iloc[-(num_test + 1):, :])\n",
    "    x = x_test_scaled\n",
    "    y_true = y_test\n",
    "    # End-index for the sequences.\n",
    "    end_idx = start_idx + length\n",
    "    # Select the sequences from the given start-index and\n",
    "    # of the given length.\n",
    "    x = x[start_idx:end_idx]\n",
    "    y_true = y_true[start_idx:end_idx]\n",
    "    # Input-signals for the model.\n",
    "    x = np.expand_dims(x, axis=0)\n",
    "    # Use the model to predict the output-signals.\n",
    "    y_pred = model.predict(x)\n",
    "    # The output of the model is between 0 and 1.\n",
    "    # Do an inverse map to get it back to the scale\n",
    "    # of the original data-set.\n",
    "    y_pred_rescaled = y_scaler.inverse_transform(y_pred[0])\n",
    "    # For each output-signal.\n",
    "    for signal in range(len(target_signal)):\n",
    "        # Get the output-signal predicted by the model.\n",
    "        signal_pred = y_pred_rescaled[:, signal]\n",
    "        # Get the true output-signal from the data-set.\n",
    "        signal_true = y_true[:, signal]\n",
    "        # Make the plotting-canvas bigger.\n",
    "        plt.figure(figsize=(15, 5))\n",
    "        # Plot and compare the two signals.\n",
    "        plt.plot(signal_true, label='true')\n",
    "        plt.plot(signal_pred, label='pred')\n",
    "        # Plot grey box for warmup-period.\n",
    "        p = plt.axvspan(0, warmup_steps, facecolor='black', alpha=0.15)\n",
    "        # Plot labels etc.\n",
    "        plt.ylabel(target_signal[signal])\n",
    "        plt.legend()\n",
    "        plt.show()\n",
    "        return y_true, y_pred_rescaled"
   ]
  },
  {
   "cell_type": "code",
   "execution_count": 293,
   "metadata": {
    "ExecuteTime": {
     "end_time": "2020-09-02T11:17:43.728450Z",
     "start_time": "2020-09-02T11:17:42.404737Z"
    },
    "code_folding": [],
    "scrolled": false
   },
   "outputs": [
    {
     "name": "stdout",
     "output_type": "stream",
     "text": [
      "WARNING:tensorflow:6 out of the last 6 calls to <function Model.make_predict_function.<locals>.predict_function at 0x0000012409D7F9D8> triggered tf.function retracing. Tracing is expensive and the excessive number of tracings could be due to (1) creating @tf.function repeatedly in a loop, (2) passing tensors with different shapes, (3) passing Python objects instead of tensors. For (1), please define your @tf.function outside of the loop. For (2), @tf.function has experimental_relax_shapes=True option that relaxes argument shapes that can avoid unnecessary retracing. For (3), please refer to https://www.tensorflow.org/tutorials/customization/performance#python_or_tensor_args and https://www.tensorflow.org/api_docs/python/tf/function for  more details.\n"
     ]
    },
    {
     "data": {
      "image/png": "[encoded data removed]",
      "text/plain": [
       "<Figure size 1080x360 with 1 Axes>"
      ]
     },
     "metadata": {
      "needs_background": "dark"
     },
     "output_type": "display_data"
    }
   ],
   "source": [
    "# Prediction\n",
    "true_future, predict_future = predict_future(df_futures_feature=df_features_future, start_idx=0, length=1000)"
   ]
  },
  {
   "cell_type": "code",
   "execution_count": null,
   "metadata": {
    "code_folding": [
     0
    ],
    "deletable": false,
    "editable": false,
    "run_control": {
     "frozen": true
    }
   },
   "outputs": [],
   "source": [
    "# Compile Results\n",
    "df_result_future = pd.DataFrame([true_future[:, 0], predict_future[:, 0]],\n",
    "                                index=['True', 'Predictions']).T\n",
    "#--Convert to Price\n",
    "price_pred = []\n",
    "for i in range(num_test + 1):\n",
    "    price = np.exp(df_result_future['Predictions']\n",
    "                   [i]) * df['Close_AAPL'].iloc[-(num_test + 1 - i)]\n",
    "    price_pred.append(price)\n",
    "df_result_future.index = df_features_future.iloc[-(num_test + 1):, :].index\n",
    "df_result_future['Price_True'] = np.append(\n",
    "    df['Close_AAPL'].iloc[-(num_test):].values, 0)\n",
    "df_result_future['Price_Predictions'] = price_pred\n",
    "df_result_future['Price_Predictions'] = df_result_future['Price_Predictions'] * 0.9909\n",
    "df_result_future['Price_Diff'] = (df_result_future['Price_True'] -\n",
    "                                  df_result_future['Price_Predictions'])\n",
    "df_result_future.fillna(0, inplace=True)\n",
    "print('df_result_future', '\\n')\n",
    "print(tabulate(df_result_future.iloc[:-1, :].describe(), headers='keys'))"
   ]
  },
  {
   "cell_type": "code",
   "execution_count": 294,
   "metadata": {
    "ExecuteTime": {
     "end_time": "2020-09-02T11:17:49.729017Z",
     "start_time": "2020-09-02T11:17:43.733446Z"
    },
    "code_folding": [
     0,
     31
    ]
   },
   "outputs": [
    {
     "name": "stdout",
     "output_type": "stream",
     "text": [
      "df_result_future \n",
      "\n",
      "               True    Predictions    Price_True    Price_Predictions    Price_Diff\n",
      "-----  ------------  -------------  ------------  -------------------  ------------\n",
      "count  134           134                134                  134         134\n",
      "mean     0.00367057   -0.00150983        84.3315              84.6771     -0.345609\n",
      "std      0.0340608     0.00693386        18.143               17.8566      2.60707\n",
      "min     -0.137711     -0.0230257         55.84                56.0523     -8.30999\n",
      "25%     -0.01154      -0.00471445        70.55                71.3395     -1.5103\n",
      "50%      0.00429561   -0.000514785       79.5                 80.3602     -0.482549\n",
      "75%      0.0208866     0.00194072        95.095               96.1269      0.912968\n",
      "max      0.113132      0.0402496        130.37               126.911       8.94234\n"
     ]
    }
   ],
   "source": [
    "# Compile Results\n",
    "df_result_future = pd.DataFrame([true_future[:, 0], predict_future[:, 0]],\n",
    "                                index=['True', 'Predictions']).T\n",
    "#--Convert to Price\n",
    "price_pred = []\n",
    "for i in range(num_test + 1):\n",
    "    price = np.exp(df_result_future['Predictions']\n",
    "                   [i]) * df['Close_AAPL'].iloc[-(num_test + 1 - i)]\n",
    "    price_pred.append(price)\n",
    "df_result_future.index = df_features_future.iloc[-(num_test + 1):, :].index\n",
    "df_result_future['Price_True'] = np.append(\n",
    "    df['Close_AAPL'].iloc[-(num_test):].values, 0)\n",
    "df_result_future['Price_Predictions'] = price_pred\n",
    "#--Find the optimal constant to adjust prediction\n",
    "_constant = []\n",
    "for x in np.arange(0.8, 1.2000, step=0.0001):\n",
    "    adj_price = df_result_future['Price_Predictions'][:-1] * x\n",
    "    _diff = df_result_future['Price_True'][:-1] - adj_price\n",
    "    _constant.append((x, _diff[:-1].std()))\n",
    "_constant = pd.DataFrame(_constant)\n",
    "\n",
    "\n",
    "#---Write Function to find nearest value\n",
    "def find_nearest(array, value):\n",
    "    array = np.asarray(array)\n",
    "    idx = (np.abs(array - value)).argmin()\n",
    "    return idx, array[idx]\n",
    "\n",
    "#--Add the adjusted Price_Predictions to the df_result_future\n",
    "idx_constant, nearest_value = find_nearest(_constant[1], 0)\n",
    "constant = _constant[0][idx_constant]\n",
    "df_result_future[\n",
    "    'Price_Predictions'] = df_result_future['Price_Predictions'] * constant\n",
    "df_result_future['Price_Diff'] = (df_result_future['Price_True'] -\n",
    "                                  df_result_future['Price_Predictions'])\n",
    "print('df_result_future', '\\n')\n",
    "print(tabulate(df_result_future.iloc[:-1, :].describe(), headers='keys'))"
   ]
  },
  {
   "cell_type": "code",
   "execution_count": 295,
   "metadata": {
    "ExecuteTime": {
     "end_time": "2020-09-02T11:17:49.996862Z",
     "start_time": "2020-09-02T11:17:49.733013Z"
    },
    "code_folding": []
   },
   "outputs": [
    {
     "data": {
      "image/png": "[encoded data removed]",
      "text/plain": [
       "<Figure size 432x288 with 1 Axes>"
      ]
     },
     "metadata": {
      "needs_background": "dark"
     },
     "output_type": "display_data"
    }
   ],
   "source": [
    "# Plot Price Prediction \n",
    "plt.plot(df_result_future['Price_True'].iloc[:-1,], label='True', alpha=1)\n",
    "plt.plot(df_result_future['Price_Predictions'], label='Predictions', alpha=3, ls=\":\", color='red')\n",
    "plt.title('True Price vs Prediction Price')\n",
    "plt.legend()\n",
    "plt.show()"
   ]
  },
  {
   "cell_type": "code",
   "execution_count": 298,
   "metadata": {
    "ExecuteTime": {
     "end_time": "2020-09-02T11:20:38.297973Z",
     "start_time": "2020-09-02T11:20:38.282982Z"
    },
    "code_folding": [],
    "scrolled": true
   },
   "outputs": [
    {
     "name": "stdout",
     "output_type": "stream",
     "text": [
      "Predictor Feature: Volume_SPY, Returns_SPY, Volume_AAPL, Close_AAPL, High_AAPL\n",
      "One Step Ahead result is 130.8880206078736\n",
      "R2 score Price Prediction:  97.9 %\n"
     ]
    }
   ],
   "source": [
    "# Statement\n",
    "print('Predictor Feature: ' + ', '.join(features))\n",
    "print('One Step Ahead result is', df_result_future['Price_Predictions'][-1])\n",
    "r2 = round(\n",
    "    r2_score(df_result_future['Price_True'].iloc[:-1],\n",
    "             df_result_future['Price_Predictions'].iloc[:-1]) * 100, 2)\n",
    "print('R2 score Price Prediction: ', r2, '%')"
   ]
  },
  {
   "cell_type": "code",
   "execution_count": null,
   "metadata": {},
   "outputs": [],
   "source": [
    "# Save Objects\n",
    "# Put objects into dictionaries\n",
    "save_variables = {'Features': features, 'x_scaler': x_scaler, 'y_scaler': y_scaler}\n",
    "if input('Do you want to save objects?(Yes/No) \\n').upper() == 'YES':\n",
    "    with open('AAPL-1d.pickle', 'wb') as f:\n",
    "        pickle.dump(save_variables, f)\n",
    "    model.save('RNN_AAPL-5min.h5')\n",
    "    print('Saved object')\n",
    "else:\n",
    "    print('Did not save object')"
   ]
  },
  {
   "cell_type": "markdown",
   "metadata": {
    "heading_collapsed": true
   },
   "source": [
    "# Pred"
   ]
  },
  {
   "cell_type": "code",
   "execution_count": null,
   "metadata": {
    "hidden": true
   },
   "outputs": [],
   "source": []
  }
 ],
 "metadata": {
  "kernelspec": {
   "display_name": "Python 3",
   "language": "python",
   "name": "python3"
  },
  "language_info": {
   "codemirror_mode": {
    "name": "ipython",
    "version": 3
   },
   "file_extension": ".py",
   "mimetype": "text/x-python",
   "name": "python",
   "nbconvert_exporter": "python",
   "pygments_lexer": "ipython3",
   "version": "3.7.4"
  },
  "toc": {
   "base_numbering": 1,
   "nav_menu": {},
   "number_sections": false,
   "sideBar": true,
   "skip_h1_title": false,
   "title_cell": "Table of Contents",
   "title_sidebar": "Contents",
   "toc_cell": false,
   "toc_position": {
    "height": "calc(100% - 180px)",
    "left": "10px",
    "top": "150px",
    "width": "303.516px"
   },
   "toc_section_display": true,
   "toc_window_display": true
  },
  "varInspector": {
   "cols": {
    "lenName": 16,
    "lenType": 16,
    "lenVar": 40
   },
   "kernels_config": {
    "python": {
     "delete_cmd_postfix": "",
     "delete_cmd_prefix": "del ",
     "library": "var_list.py",
     "varRefreshCmd": "print(var_dic_list())"
    },
    "r": {
     "delete_cmd_postfix": ") ",
     "delete_cmd_prefix": "rm(",
     "library": "var_list.r",
     "varRefreshCmd": "cat(var_dic_list()) "
    }
   },
   "oldHeight": 519.98278,
   "position": {
    "height": "542.48px",
    "left": "1183px",
    "right": "20px",
    "top": "119px",
    "width": "314.746px"
   },
   "types_to_exclude": [
    "module",
    "function",
    "builtin_function_or_method",
    "instance",
    "_Feature"
   ],
   "varInspector_section_display": "block",
   "window_display": false
  }
 },
 "nbformat": 4,
 "nbformat_minor": 2
}
