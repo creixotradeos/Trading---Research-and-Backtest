{
 "cells": [
  {
   "cell_type": "markdown",
   "metadata": {
    "heading_collapsed": true
   },
   "source": [
    "# Libraries"
   ]
  },
  {
   "cell_type": "code",
   "execution_count": 1,
   "metadata": {
    "ExecuteTime": {
     "end_time": "2020-09-03T06:39:29.748814Z",
     "start_time": "2020-09-03T06:36:44.939199Z"
    },
    "code_folding": [],
    "hidden": true
   },
   "outputs": [],
   "source": [
    "# Basics\n",
    "%matplotlib inline\n",
    "import matplotlib.pyplot as plt\n",
    "import tensorflow as tf\n",
    "import numpy as np\n",
    "import pandas as pd\n",
    "import os\n",
    "from sklearn.preprocessing import MinMaxScaler\n",
    "from pathlib import Path\n",
    "import os\n",
    "from jupyterthemes import jtplot\n",
    "jtplot.style(theme='onedork')\n",
    "from sklearn.metrics import r2_score\n",
    "from sklearn.metrics import mean_squared_error\n",
    "from tabulate import tabulate\n",
    "import warnings\n",
    "warnings.filterwarnings('ignore')\n",
    "from datetime import datetime  \n",
    "from datetime import timedelta \n",
    "from scipy import stats\n",
    "import pickle"
   ]
  },
  {
   "cell_type": "code",
   "execution_count": 2,
   "metadata": {
    "ExecuteTime": {
     "end_time": "2020-09-03T06:39:29.769637Z",
     "start_time": "2020-09-03T06:39:29.748814Z"
    },
    "code_folding": [],
    "hidden": true
   },
   "outputs": [],
   "source": [
    "# Keras\n",
    "from tensorflow.keras.models import Sequential\n",
    "from tensorflow.keras.layers import Input, Dense, GRU, Embedding\n",
    "from tensorflow.keras.optimizers import RMSprop\n",
    "from tensorflow.keras.callbacks import EarlyStopping, ModelCheckpoint, TensorBoard, ReduceLROnPlateau\n",
    "from tensorflow.keras.backend import square, mean"
   ]
  },
  {
   "cell_type": "code",
   "execution_count": 3,
   "metadata": {
    "ExecuteTime": {
     "end_time": "2020-09-03T06:39:34.430025Z",
     "start_time": "2020-09-03T06:39:29.769637Z"
    },
    "hidden": true
   },
   "outputs": [],
   "source": [
    "# K means\n",
    "from sklearn.cluster import KMeans\n",
    "from sklearn.metrics import silhouette_score"
   ]
  },
  {
   "cell_type": "code",
   "execution_count": 4,
   "metadata": {
    "ExecuteTime": {
     "end_time": "2020-09-03T06:39:36.519940Z",
     "start_time": "2020-09-03T06:39:34.430025Z"
    },
    "hidden": true
   },
   "outputs": [],
   "source": [
    "# Misc\n",
    "from sklearn import preprocessing, metrics\n",
    "from sklearn.ensemble import ExtraTreesClassifier\n",
    "import seaborn as sns\n",
    "from sklearn.datasets import load_digits\n",
    "from sklearn.feature_selection import SelectKBest, chi2"
   ]
  },
  {
   "cell_type": "markdown",
   "metadata": {
    "heading_collapsed": true
   },
   "source": [
    "# Load Data"
   ]
  },
  {
   "cell_type": "code",
   "execution_count": 5,
   "metadata": {
    "ExecuteTime": {
     "end_time": "2020-09-03T06:43:34.385845Z",
     "start_time": "2020-09-03T06:43:34.368762Z"
    },
    "code_folding": [
     6,
     8
    ],
    "hidden": true
   },
   "outputs": [],
   "source": [
    "def load_stock_data(ticker, interval):\n",
    "    \"\"\"\n",
    "    This function load stock data from Database files by first changing the working directory, loading the data and reset the working directory to the original path\n",
    "    \n",
    "    Parameters\n",
    "    ----------\n",
    "    ticker : str\n",
    "        a string that describes the stock ticker, as listed in the file name\n",
    "    interval : str\n",
    "        an interval string according to the existing files in the databases\n",
    "    \"\"\"\n",
    "    # Record original working directory\n",
    "    owd = os.getcwd()\n",
    "    # Change directory\n",
    "    os.chdir('C:\\\\Users\\\\asus\\\\Documents\\\\Python Projects\\\\Trading - Research and Backtest\\\\'+ticker+'\\\\Databases\\\\')\n",
    "    datapath = os.getcwd()+'\\\\'\n",
    "    # Record all available files\n",
    "    files = []\n",
    "    for (dirpath, dirname, filenames) in os.walk(datapath):\n",
    "        files.extend(filenames)\n",
    "        break\n",
    "    # Import as dataframe  \n",
    "    df = pd.read_csv(datapath+ticker+'-'+interval+'.csv', parse_dates=True, index_col='Datetime')\n",
    "    # Return working directory to original\n",
    "    os.chdir(owd)\n",
    "    return df"
   ]
  },
  {
   "cell_type": "code",
   "execution_count": 6,
   "metadata": {
    "ExecuteTime": {
     "end_time": "2020-09-03T06:43:43.744200Z",
     "start_time": "2020-09-03T06:43:42.659283Z"
    },
    "code_folding": [],
    "hidden": true
   },
   "outputs": [
    {
     "name": "stdout",
     "output_type": "stream",
     "text": [
      "AAPL-5min\n",
      " Datetime               Open    High     Low    Close    Adj Close            Volume    Dividends    Stock Splits\n",
      "-------------------  ------  ------  ------  -------  -----------  ----------------  -----------  --------------\n",
      "2020-09-02 13:55:00  131.06  131.29  130.9    131.02       131.02  967346                      0               0\n",
      "2020-09-02 13:55:49  131.26  131.26  131.26   131.26       131.26       0                      0               0\n",
      "2020-09-02 14:00:00  131.01  131.03  130.51   130.98       130.98       1.13435e+06            0               0\n",
      "2020-09-02 14:05:00  130.97  131.15  130.85   131.12       131.12  861425                      0               0\n",
      "2020-09-02 14:10:37  131.12  131.12  131.12   131.12       131.12       0                      0               0\n",
      "\n",
      "\n",
      "SPY-5min\n",
      " Datetime               Open    High     Low    Close    Adj Close    Volume    Dividends    Stock Splits\n",
      "-------------------  ------  ------  ------  -------  -----------  --------  -----------  --------------\n",
      "2020-09-02 13:56:18  356.57  356.57  356.57   356.57       356.57         0            0               0\n",
      "2020-09-02 14:00:00  356.44  356.44  355.81   356.21       356.21    851529            0               0\n",
      "2020-09-02 14:05:00  356.22  356.38  356.15   356.3        356.3     412043            0               0\n",
      "2020-09-02 14:10:00  356.29  356.34  356.21   356.22       356.22     87034            0               0\n",
      "2020-09-02 14:11:10  356.25  356.25  356.25   356.25       356.25         0            0               0\n"
     ]
    }
   ],
   "source": [
    "# Load data\n",
    "interval = '5min' # Choose interval\n",
    "# Load AAPL\n",
    "df_aapl = load_stock_data('AAPL', interval=interval)\n",
    "print('AAPL-'+interval+'\\n', tabulate(df_aapl.tail(), headers='keys'))\n",
    "print('\\n')\n",
    "# Load SPY\n",
    "df_spy = load_stock_data('SPY', interval=interval)\n",
    "print('SPY-'+interval+'\\n', tabulate(df_spy.tail(), headers='keys'))"
   ]
  },
  {
   "cell_type": "code",
   "execution_count": 7,
   "metadata": {
    "ExecuteTime": {
     "end_time": "2020-09-03T06:43:48.667103Z",
     "start_time": "2020-09-03T06:43:48.129072Z"
    },
    "code_folding": [],
    "hidden": true
   },
   "outputs": [
    {
     "name": "stdout",
     "output_type": "stream",
     "text": [
      "df \n",
      "\n",
      "Datetime               Open_AAPL    High_AAPL    Low_AAPL    Close_AAPL       Volume_AAPL    Open_SPY    High_SPY    Low_SPY    Close_SPY    Volume_SPY\n",
      "-------------------  -----------  -----------  ----------  ------------  ----------------  ----------  ----------  ---------  -----------  ------------\n",
      "2020-09-02 13:45:00       131.24       131.45      131.21        131.43  346014                356.6       356.69     356.58       356.66         92638\n",
      "2020-09-02 13:50:00       130.89       131.07      130.75        131.04  946271                356.51      356.57     356.41       356.46        245242\n",
      "2020-09-02 13:55:00       131.06       131.29      130.9         131.02  967346                356.46      356.5      356.45       356.5          63858\n",
      "2020-09-02 14:00:00       131.01       131.03      130.51        130.98       1.13435e+06      356.44      356.44     355.81       356.21        851529\n",
      "2020-09-02 14:05:00       130.97       131.15      130.85        131.12  861425                356.22      356.38     356.15       356.3         412043\n"
     ]
    }
   ],
   "source": [
    "# Merge Data\n",
    "start_date = '2020-08-25'\n",
    "start_time = '09:30'\n",
    "end_time = '16:00'\n",
    "df = pd.merge(df_aapl.between_time(start_time, end_time).loc[start_date:].drop(columns=['Close', 'Dividends', 'Stock Splits']),\n",
    "                    df_spy.between_time(start_time, end_time).loc[start_date:].drop(columns=['Close', 'Dividends', 'Stock Splits']),\n",
    "                    left_index=True, right_index=True\n",
    "                    )\n",
    "df.rename(columns={'Open_x': 'Open_AAPL', 'High_x': 'High_AAPL', 'Low_x': 'Low_AAPL', 'Adj Close_x': 'Close_AAPL', \n",
    "                         'Volume_x': 'Volume_AAPL', 'Open_y': 'Open_SPY', 'High_y': 'High_SPY', 'Low_y': 'Low_SPY', \n",
    "                         'Adj Close_y': 'Close_SPY', 'Volume_y': 'Volume_SPY'}, inplace=True)\n",
    "print('df', '\\n')\n",
    "print(tabulate(df.tail(), headers='keys'))"
   ]
  },
  {
   "cell_type": "markdown",
   "metadata": {
    "heading_collapsed": true
   },
   "source": [
    "# Data Manipulation"
   ]
  },
  {
   "cell_type": "markdown",
   "metadata": {
    "heading_collapsed": true,
    "hidden": true
   },
   "source": [
    "## Shift Data"
   ]
  },
  {
   "cell_type": "code",
   "execution_count": 58,
   "metadata": {
    "ExecuteTime": {
     "end_time": "2020-09-03T07:06:23.978447Z",
     "start_time": "2020-09-03T07:06:23.048548Z"
    },
    "code_folding": [],
    "hidden": true
   },
   "outputs": [
    {
     "name": "stdout",
     "output_type": "stream",
     "text": [
      "df\n",
      "\n",
      "Datetime               Open_AAPL    High_AAPL    Low_AAPL    Close_AAPL       Volume_AAPL    Open_SPY    High_SPY    Low_SPY    Close_SPY    Volume_SPY    Returns_AAPL    Returns_SPY\n",
      "-------------------  -----------  -----------  ----------  ------------  ----------------  ----------  ----------  ---------  -----------  ------------  --------------  -------------\n",
      "2020-09-02 13:45:00       131.24       131.45      131.21        131.43  346014                356.6       356.69     356.58       356.66         92638     0.0019802      0.000252373\n",
      "2020-09-02 13:50:00       130.89       131.07      130.75        131.04  946271                356.51      356.57     356.41       356.46        245242    -0.00297177    -0.000560915\n",
      "2020-09-02 13:55:00       131.06       131.29      130.9         131.02  967346                356.46      356.5      356.45       356.5          63858    -0.000152637    0.000112208\n",
      "2020-09-02 14:00:00       131.01       131.03      130.51        130.98       1.13435e+06      356.44      356.44     355.81       356.21        851529    -0.000305344   -0.000813795\n",
      "2020-09-02 14:05:00       130.97       131.15      130.85        131.12  861425                356.22      356.38     356.15       356.3         412043     0.00106829     0.000252628\n"
     ]
    }
   ],
   "source": [
    "# Include daily returns of stock\n",
    "# Use log return of 1 period before\n",
    "df['Returns_AAPL'] = np.log(df['Close_AAPL'] / df['Close_AAPL'].shift(1))\n",
    "df['Returns_SPY'] = np.log(df['Close_SPY'] / df['Close_SPY'].shift(1))\n",
    "df.dropna(inplace=True)\n",
    "print('df''\\n')\n",
    "print(tabulate(df.tail(), headers='keys'))"
   ]
  },
  {
   "cell_type": "code",
   "execution_count": 59,
   "metadata": {
    "ExecuteTime": {
     "end_time": "2020-09-03T07:06:23.994436Z",
     "start_time": "2020-09-03T07:06:23.978447Z"
    },
    "code_folding": [
     0
    ],
    "hidden": true
   },
   "outputs": [],
   "source": [
    "# Target\n",
    "target_signal = ['Returns_AAPL']"
   ]
  },
  {
   "cell_type": "code",
   "execution_count": 60,
   "metadata": {
    "ExecuteTime": {
     "end_time": "2020-09-03T07:06:24.351078Z",
     "start_time": "2020-09-03T07:06:23.994436Z"
    },
    "code_folding": [
     0
    ],
    "hidden": true,
    "scrolled": false
   },
   "outputs": [
    {
     "name": "stdout",
     "output_type": "stream",
     "text": [
      "Target Data  524 \n",
      " Datetime               Returns_AAPL\n",
      "-------------------  --------------\n",
      "2020-08-25 09:40:00     0.000240896\n",
      "2020-08-25 09:45:00    -0.0020897\n",
      "2020-08-25 09:50:00    -0.00419254\n",
      "2020-08-25 09:55:00     0.00443388\n",
      "2020-08-25 10:00:00    -0.00144893\n",
      "\n",
      "\n",
      "Features Data  524 \n",
      " Datetime               Open_AAPL    High_AAPL    Low_AAPL    Close_AAPL       Volume_AAPL    Open_SPY    High_SPY    Low_SPY    Close_SPY    Volume_SPY    Returns_SPY\n",
      "-------------------  -----------  -----------  ----------  ------------  ----------------  ----------  ----------  ---------  -----------  ------------  -------------\n",
      "2020-08-25 09:40:00       124.55       125.18      124.35        124.52       1.30547e+06      343.1       343.34     342.88       343.02        919791   -0.000291486\n",
      "2020-08-25 09:45:00       124.54       124.92      124.04        124.55       1.40562e+06      343.03      343.3      342.86       343.13        753835    0.00032063\n",
      "2020-08-25 09:50:00       124.28       124.67      124.2         124.29  987728                343.12      343.38     343.02       343.3         522453    0.000495316\n",
      "2020-08-25 09:55:00       123.79       124.28      123.7         123.77       1.50502e+06      343.3       343.3      342.97       342.97        567326   -0.000961721\n",
      "2020-08-25 10:00:00       124.32       124.35      123.75        124.32       1.06775e+06      342.98      343.37     342.89       343.35        436814    0.00110736\n"
     ]
    }
   ],
   "source": [
    "# Shift Data\n",
    "df_target = df[target_signal].iloc[1:, :] # Target Data is not shifted\n",
    "print('Target Data ',len(df_target), '\\n', tabulate(df_target.head(), headers='keys'))\n",
    "print('\\n')\n",
    "# Shift Features Data:\n",
    "#--Shift everything except Opening Price--\n",
    "_ = df.copy()\n",
    "_.loc[:, df.columns != 'Open_AAPL'] = _.loc[:, df.columns != 'Open_AAPL'].shift(1)\n",
    "#--Drop Target Data--\n",
    "df_features = _.drop(columns=target_signal).dropna()\n",
    "del _\n",
    "print('Features Data ',len(df_features), '\\n', tabulate(df_features.head(), headers='keys'))"
   ]
  },
  {
   "cell_type": "code",
   "execution_count": 61,
   "metadata": {
    "ExecuteTime": {
     "end_time": "2020-09-03T07:06:24.391058Z",
     "start_time": "2020-09-03T07:06:24.351078Z"
    },
    "code_folding": [
     0
    ],
    "hidden": true
   },
   "outputs": [
    {
     "name": "stdout",
     "output_type": "stream",
     "text": [
      "df_concat \n",
      "\n",
      "Datetime               Open_AAPL    High_AAPL    Low_AAPL    Close_AAPL       Volume_AAPL    Open_SPY    High_SPY    Low_SPY    Close_SPY    Volume_SPY    Returns_SPY    Returns_AAPL\n",
      "-------------------  -----------  -----------  ----------  ------------  ----------------  ----------  ----------  ---------  -----------  ------------  -------------  --------------\n",
      "2020-08-25 09:40:00       124.55       125.18      124.35        124.52       1.30547e+06      343.1       343.34     342.88       343.02        919791   -0.000291486     0.000240896\n",
      "2020-08-25 09:45:00       124.54       124.92      124.04        124.55       1.40562e+06      343.03      343.3      342.86       343.13        753835    0.00032063     -0.0020897\n",
      "2020-08-25 09:50:00       124.28       124.67      124.2         124.29  987728                343.12      343.38     343.02       343.3         522453    0.000495316    -0.00419254\n",
      "2020-08-25 09:55:00       123.79       124.28      123.7         123.77       1.50502e+06      343.3       343.3      342.97       342.97        567326   -0.000961721     0.00443388\n",
      "2020-08-25 10:00:00       124.32       124.35      123.75        124.32       1.06775e+06      342.98      343.37     342.89       343.35        436814    0.00110736     -0.00144893\n"
     ]
    }
   ],
   "source": [
    "# Concat df_features and df_target into df_concat\n",
    "df_concat = pd.concat([df_features, df_target], axis=1)\n",
    "print('df_concat', '\\n')\n",
    "print(tabulate(df_concat.head(), headers='keys'))"
   ]
  },
  {
   "cell_type": "markdown",
   "metadata": {
    "hidden": true
   },
   "source": [
    "Add a Kmeans Clustering categorization, use on df_concat"
   ]
  },
  {
   "cell_type": "code",
   "execution_count": 62,
   "metadata": {
    "ExecuteTime": {
     "end_time": "2020-09-03T07:06:27.374786Z",
     "start_time": "2020-09-03T07:06:24.391058Z"
    },
    "code_folding": [
     0
    ],
    "hidden": true
   },
   "outputs": [
    {
     "name": "stdout",
     "output_type": "stream",
     "text": [
      "Suggested K:  2\n"
     ]
    }
   ],
   "source": [
    "# 'K' Optimiztion\n",
    "sil = [] # To store silhouette score\n",
    "kmax = 10\n",
    "kmin = 2\n",
    "for k in range(kmin, kmax+1):\n",
    "    kmean = KMeans(n_clusters = k).fit(df_concat)\n",
    "    labels = kmean.labels_\n",
    "    sil.append(silhouette_score(df_concat, labels, metric = 'euclidean'))\n",
    "_ = pd.Series(sil[kmin:], index = range(kmin, kmax-(kmin-1)))\n",
    "optimized_k = _[_ == _.max()].index[0]\n",
    "print('Suggested K: ', optimized_k)"
   ]
  },
  {
   "cell_type": "code",
   "execution_count": 63,
   "metadata": {
    "ExecuteTime": {
     "end_time": "2020-09-03T07:06:27.462778Z",
     "start_time": "2020-09-03T07:06:27.374786Z"
    },
    "code_folding": [
     0
    ],
    "hidden": true
   },
   "outputs": [
    {
     "name": "stdout",
     "output_type": "stream",
     "text": [
      "df_concat \n",
      "\n",
      "Datetime               Open_AAPL    High_AAPL    Low_AAPL    Close_AAPL       Volume_AAPL    Open_SPY    High_SPY    Low_SPY    Close_SPY    Volume_SPY    Returns_SPY    Returns_AAPL    Kmeans\n",
      "-------------------  -----------  -----------  ----------  ------------  ----------------  ----------  ----------  ---------  -----------  ------------  -------------  --------------  --------\n",
      "2020-08-25 09:40:00       124.55       125.18      124.35        124.52       1.30547e+06      343.1       343.34     342.88       343.02        919791   -0.000291486     0.000240896         0\n",
      "2020-08-25 09:45:00       124.54       124.92      124.04        124.55       1.40562e+06      343.03      343.3      342.86       343.13        753835    0.00032063     -0.0020897           0\n",
      "2020-08-25 09:50:00       124.28       124.67      124.2         124.29  987728                343.12      343.38     343.02       343.3         522453    0.000495316    -0.00419254          0\n",
      "2020-08-25 09:55:00       123.79       124.28      123.7         123.77       1.50502e+06      343.3       343.3      342.97       342.97        567326   -0.000961721     0.00443388          0\n",
      "2020-08-25 10:00:00       124.32       124.35      123.75        124.32       1.06775e+06      342.98      343.37     342.89       343.35        436814    0.00110736     -0.00144893          0\n"
     ]
    }
   ],
   "source": [
    "# Kmeans cluster creation\n",
    "kmean = KMeans(n_clusters=optimized_k)\n",
    "kmean.fit(df_concat)\n",
    "labels = pd.Series(kmean.labels_, index = df_concat.index) # Extract labels\n",
    "df_concat['Kmeans'] = labels # Add new column to df_concat\n",
    "print('df_concat', '\\n')\n",
    "print(tabulate(df_concat.head(), headers='keys'))"
   ]
  },
  {
   "cell_type": "markdown",
   "metadata": {
    "heading_collapsed": true,
    "hidden": true
   },
   "source": [
    "## Features Selection"
   ]
  },
  {
   "cell_type": "code",
   "execution_count": 64,
   "metadata": {
    "ExecuteTime": {
     "end_time": "2020-09-03T07:06:27.630834Z",
     "start_time": "2020-09-03T07:06:27.462778Z"
    },
    "code_folding": [
     0,
     3
    ],
    "hidden": true
   },
   "outputs": [],
   "source": [
    "# Encode Data\n",
    "# Data has to be coded for the algorithm to work\n",
    "df_coded = df_concat.copy() # Make a copy of dataset\n",
    "for column in df_coded.columns:\n",
    "    encode = preprocessing.LabelEncoder() # Individual column encoder\n",
    "    df_coded[column] = encode.fit_transform(df_coded[column]) # Encode column, replace df_coded with coded data"
   ]
  },
  {
   "cell_type": "markdown",
   "metadata": {
    "hidden": true
   },
   "source": [
    "### SelectKBest Features Selection"
   ]
  },
  {
   "cell_type": "code",
   "execution_count": 65,
   "metadata": {
    "ExecuteTime": {
     "end_time": "2020-09-03T07:06:28.328784Z",
     "start_time": "2020-09-03T07:06:27.630834Z"
    },
    "code_folding": [
     0
    ],
    "hidden": true
   },
   "outputs": [
    {
     "name": "stdout",
     "output_type": "stream",
     "text": [
      "SelectKBest: featureScores \n",
      "\n",
      "    Features       Scores\n",
      "--  -----------  --------\n",
      " 4  Volume_AAPL   45976\n",
      " 9  Volume_SPY    45647\n",
      "10  Returns_SPY   43082.5\n",
      " 0  Open_AAPL     32423.2\n",
      " 2  Low_AAPL      31340\n"
     ]
    }
   ],
   "source": [
    "# Apply SelectKBest class to extract features\n",
    "\"\"\"SelectKBest\n",
    "Choose features with highest scores_ and lowest p-value\n",
    "\"\"\"\n",
    "#--How many features\n",
    "k = 5\n",
    "bestfeatures = SelectKBest(score_func=chi2, k=k)\n",
    "#--Train Model (Features, Target)\n",
    "fit = bestfeatures.fit(df_coded.drop(columns=target_signal),\n",
    "                       df_coded[target_signal])\n",
    "#--Turns scores into a DataFrame\n",
    "dfscores = pd.DataFrame(fit.scores_, columns=['Scores'])\n",
    "#--Features name into a DataFrame\n",
    "dfcolumns = pd.DataFrame(df_coded.drop(columns=target_signal).columns,\n",
    "                         columns=['Features'])\n",
    "#--Concat two dataframes for better visualization\n",
    "featureScores = pd.concat([dfcolumns, dfscores], axis=1)\n",
    "print('SelectKBest: featureScores', '\\n')\n",
    "print(tabulate(featureScores.nlargest(k, 'Scores'), headers='keys'))"
   ]
  },
  {
   "cell_type": "markdown",
   "metadata": {
    "heading_collapsed": true,
    "hidden": true
   },
   "source": [
    "### ExtraTreesClassifier Features Selection"
   ]
  },
  {
   "cell_type": "code",
   "execution_count": 66,
   "metadata": {
    "ExecuteTime": {
     "end_time": "2020-09-03T07:06:34.078492Z",
     "start_time": "2020-09-03T07:06:28.336781Z"
    },
    "code_folding": [
     0,
     7
    ],
    "hidden": true,
    "scrolled": false
   },
   "outputs": [
    {
     "name": "stdout",
     "output_type": "stream",
     "text": [
      "feat_importances \n",
      "\n"
     ]
    },
    {
     "data": {
      "image/png": "[encoded data removed]",
      "text/plain": [
       "<Figure size 432x288 with 1 Axes>"
      ]
     },
     "metadata": {
      "needs_background": "dark"
     },
     "output_type": "display_data"
    }
   ],
   "source": [
    "# Apply ExtraTreesClassifier class to extract features\n",
    "store_importances = []\n",
    "#--Repeat Classifier\n",
    "for x in range(20):\n",
    "    #--Build Model\n",
    "    extra_tree_forest = ExtraTreesClassifier(criterion='entropy')\n",
    "    #--Train model (Features, Target)\n",
    "    extra_tree_forest.fit(df_coded.drop(columns=target_signal),\n",
    "                          df_coded[target_signal])\n",
    "    #--Computing & Normalizing the individual importances\n",
    "    feat_importance = np.std([tree.feature_importances_ for tree in extra_tree_forest.estimators_], \\\n",
    "                                         axis=0)\n",
    "    #--Store results\n",
    "    store_importances.append(feat_importance)\n",
    "#--Plot graph of feature importances for better visualization\n",
    "feat_importances = pd.Series(\n",
    "    pd.DataFrame(store_importances).mean())\n",
    "feat_importances.index = df_coded.drop(columns=target_signal).columns\n",
    "print('feat_importances', '\\n')\n",
    "plt.barh(feat_importances.sort_values().index,\n",
    "         feat_importances.sort_values().values)\n",
    "plt.title('Comparison of different Feature Importances')\n",
    "plt.show()"
   ]
  },
  {
   "cell_type": "markdown",
   "metadata": {
    "heading_collapsed": true,
    "hidden": true
   },
   "source": [
    "### Correlation HeatMap"
   ]
  },
  {
   "cell_type": "code",
   "execution_count": 67,
   "metadata": {
    "ExecuteTime": {
     "end_time": "2020-09-03T07:06:34.950409Z",
     "start_time": "2020-09-03T07:06:34.078492Z"
    },
    "code_folding": [
     0
    ],
    "hidden": true
   },
   "outputs": [
    {
     "data": {
      "image/png": "[encoded data removed]",
      "text/plain": [
       "<Figure size 720x720 with 2 Axes>"
      ]
     },
     "metadata": {
      "needs_background": "dark"
     },
     "output_type": "display_data"
    }
   ],
   "source": [
    "# Get correlations of each features in dataset\n",
    "corrmat = df_concat.corr()\n",
    "top_corr_features = corrmat.index\n",
    "# Plot heat map\n",
    "f, ax = plt.subplots(figsize=(10, 10))\n",
    "sns.heatmap(corrmat[target_signal].sort_values(by=target_signal, ascending=False), annot=True, cmap=\"RdYlGn\")\n",
    "bottom, top = ax.get_ylim()\n",
    "ax.set_ylim(bottom + 0.5, top - 0.5)\n",
    "plt.show()"
   ]
  },
  {
   "cell_type": "markdown",
   "metadata": {
    "heading_collapsed": true,
    "hidden": true
   },
   "source": [
    "## Post Selection Manipulation"
   ]
  },
  {
   "cell_type": "code",
   "execution_count": 68,
   "metadata": {
    "ExecuteTime": {
     "end_time": "2020-09-03T07:06:34.982406Z",
     "start_time": "2020-09-03T07:06:34.950409Z"
    },
    "code_folding": [
     0,
     3
    ],
    "hidden": true
   },
   "outputs": [
    {
     "name": "stdout",
     "output_type": "stream",
     "text": [
      "Target Data  524 \n",
      " Datetime               Returns_AAPL\n",
      "-------------------  --------------\n",
      "2020-08-25 09:40:00     0.000240896\n",
      "2020-08-25 09:45:00    -0.0020897\n",
      "2020-08-25 09:50:00    -0.00419254\n",
      "2020-08-25 09:55:00     0.00443388\n",
      "2020-08-25 10:00:00    -0.00144893\n",
      "\n",
      "\n",
      "Features Data  524 \n",
      " Datetime                  Volume_AAPL    Volume_SPY    Returns_SPY    Open_AAPL    Low_AAPL\n",
      "-------------------  ----------------  ------------  -------------  -----------  ----------\n",
      "2020-08-25 09:40:00       1.30547e+06        919791   -0.000291486       124.55      124.35\n",
      "2020-08-25 09:45:00       1.40562e+06        753835    0.00032063        124.54      124.04\n",
      "2020-08-25 09:50:00  987728                  522453    0.000495316       124.28      124.2\n",
      "2020-08-25 09:55:00       1.50502e+06        567326   -0.000961721       123.79      123.7\n",
      "2020-08-25 10:00:00       1.06775e+06        436814    0.00110736        124.32      123.75\n"
     ]
    }
   ],
   "source": [
    "# Shift Data\n",
    "# Target Data\n",
    "df_target = df_concat[target_signal]\n",
    "print('Target Data ', len(df_target), '\\n',\n",
    "      tabulate(df_target.head(), headers='keys'))\n",
    "print('\\n')\n",
    "# Features Data\n",
    "features = [\n",
    "    'Volume_AAPL', 'Volume_SPY', 'Returns_SPY', 'Open_AAPL', 'Low_AAPL'\n",
    "]\n",
    "# Make into dataframe\n",
    "df_features = df_concat[features]\n",
    "print('Features Data ', len(df_features), '\\n',\n",
    "      tabulate(df_features.head(), headers='keys'))"
   ]
  },
  {
   "cell_type": "code",
   "execution_count": 69,
   "metadata": {
    "ExecuteTime": {
     "end_time": "2020-09-03T07:06:35.118393Z",
     "start_time": "2020-09-03T07:06:34.982406Z"
    },
    "code_folding": [],
    "hidden": true
   },
   "outputs": [
    {
     "name": "stdout",
     "output_type": "stream",
     "text": [
      "Features Data to array  <class 'numpy.ndarray'> (524, 5)\n",
      "Target Data to array  <class 'numpy.ndarray'> (524, 1)\n"
     ]
    }
   ],
   "source": [
    "# Convert to Numpy Arrays\n",
    "#--Features Data\n",
    "x_data = df_features.values\n",
    "print('Features Data to array ', type(x_data), x_data.shape)\n",
    "#--Target Data\n",
    "y_data = df_target[['Returns_AAPL']].values\n",
    "print('Target Data to array ', type(y_data), y_data.shape)"
   ]
  },
  {
   "cell_type": "code",
   "execution_count": 70,
   "metadata": {
    "ExecuteTime": {
     "end_time": "2020-09-03T07:06:35.246381Z",
     "start_time": "2020-09-03T07:06:35.118393Z"
    },
    "code_folding": [],
    "hidden": true
   },
   "outputs": [
    {
     "name": "stdout",
     "output_type": "stream",
     "text": [
      "Number of observation in the dataset:  524 data-points\n"
     ]
    }
   ],
   "source": [
    "# Number of observations in the dataset\n",
    "num_data = len(x_data)\n",
    "print('Number of observation in the dataset: ', num_data, 'data-points')"
   ]
  },
  {
   "cell_type": "code",
   "execution_count": 71,
   "metadata": {
    "ExecuteTime": {
     "end_time": "2020-09-03T07:06:35.358376Z",
     "start_time": "2020-09-03T07:06:35.254382Z"
    },
    "code_folding": [],
    "hidden": true
   },
   "outputs": [
    {
     "name": "stdout",
     "output_type": "stream",
     "text": [
      "Number of observations in the training set:  419 data-points\n",
      "Number of observations in the testing set:  105 data-points\n",
      "Total Features:  5 features\n",
      "Features Data Split Done\n",
      "Total Target:  1 target\n",
      "Target Data Split Done\n"
     ]
    }
   ],
   "source": [
    "# Train-test split\n",
    "train_split = 0.8\n",
    "num_train = int(train_split * num_data)\n",
    "print('Number of observations in the training set: ', num_train, 'data-points')\n",
    "num_test = num_data - num_train\n",
    "print('Number of observations in the testing set: ', num_test, 'data-points')\n",
    "#--Split data\n",
    "#---Features Data\n",
    "num_x_signals = x_data.shape[1]\n",
    "print('Total Features: ', num_x_signals, 'features')\n",
    "x_train = x_data[:num_train]\n",
    "x_test = x_data[num_train:]\n",
    "if len(x_train) + len(x_test) == num_data:\n",
    "    print('Features Data Split Done')\n",
    "    pass\n",
    "#---Target Data\n",
    "num_y_signals = y_data.shape[1]\n",
    "print('Total Target: ', num_y_signals, 'target')\n",
    "y_train = y_data[:num_train]\n",
    "y_test = y_data[num_train:]\n",
    "if len(y_train) + len(y_test) == num_data:\n",
    "    print('Target Data Split Done')\n",
    "    pass"
   ]
  },
  {
   "cell_type": "markdown",
   "metadata": {
    "heading_collapsed": true
   },
   "source": [
    "# Scale Data"
   ]
  },
  {
   "cell_type": "code",
   "execution_count": 72,
   "metadata": {
    "ExecuteTime": {
     "end_time": "2020-09-03T07:06:45.816415Z",
     "start_time": "2020-09-03T07:06:45.800430Z"
    },
    "code_folding": [],
    "hidden": true,
    "scrolled": true
   },
   "outputs": [
    {
     "name": "stdout",
     "output_type": "stream",
     "text": [
      "Max value  40397496.0\n",
      "Min value  -0.0\n"
     ]
    }
   ],
   "source": [
    "# Dataset min. & max. values\n",
    "print('Max value ', round(np.max(x_data), 2))\n",
    "print('Min value ', round(np.min(x_data), 2))"
   ]
  },
  {
   "cell_type": "code",
   "execution_count": 73,
   "metadata": {
    "ExecuteTime": {
     "end_time": "2020-09-03T07:06:46.048390Z",
     "start_time": "2020-09-03T07:06:46.032464Z"
    },
    "code_folding": [],
    "hidden": true
   },
   "outputs": [],
   "source": [
    "# Scaler for input data\n",
    "x_scaler = MinMaxScaler()\n",
    "x_train_scaled = x_scaler.fit_transform(x_train)\n",
    "x_test_scaled = x_scaler.fit_transform(x_test)"
   ]
  },
  {
   "cell_type": "code",
   "execution_count": 74,
   "metadata": {
    "ExecuteTime": {
     "end_time": "2020-09-03T07:06:46.160397Z",
     "start_time": "2020-09-03T07:06:46.048390Z"
    },
    "code_folding": [],
    "hidden": true
   },
   "outputs": [],
   "source": [
    "# Scaler for output data\n",
    "y_scaler = MinMaxScaler()\n",
    "y_train_scaled = y_scaler.fit_transform(y_train)\n",
    "y_test_scaled = y_scaler.fit_transform(y_test)"
   ]
  },
  {
   "cell_type": "code",
   "execution_count": 75,
   "metadata": {
    "ExecuteTime": {
     "end_time": "2020-09-03T07:06:46.280372Z",
     "start_time": "2020-09-03T07:06:46.160397Z"
    },
    "code_folding": [],
    "hidden": true
   },
   "outputs": [
    {
     "name": "stdout",
     "output_type": "stream",
     "text": [
      "Input shape  (419, 5)\n",
      "Output shape  (419, 1)\n"
     ]
    }
   ],
   "source": [
    "# Array shapes of input and output data\n",
    "print('Input shape ', x_train_scaled.shape)\n",
    "print('Output shape ', y_train_scaled.shape)"
   ]
  },
  {
   "cell_type": "markdown",
   "metadata": {
    "heading_collapsed": true
   },
   "source": [
    "# Data Generator"
   ]
  },
  {
   "cell_type": "markdown",
   "metadata": {
    "hidden": true
   },
   "source": [
    "Instead of training the Recurrent Neural Network on the complete sequences of almost 300k observations, we will use the following function to create a batch of shorter sub-sequences picked at random from the training-data."
   ]
  },
  {
   "cell_type": "code",
   "execution_count": 76,
   "metadata": {
    "ExecuteTime": {
     "end_time": "2020-09-03T07:06:50.978226Z",
     "start_time": "2020-09-03T07:06:50.962210Z"
    },
    "code_folding": [
     0
    ],
    "hidden": true
   },
   "outputs": [],
   "source": [
    "def batch_generator(batch_size, sequence_length):\n",
    "    \"\"\"\n",
    "    Generator function for creating random batches of training-data.\n",
    "    \"\"\"\n",
    "\n",
    "    # Infinite loop.\n",
    "    while True:\n",
    "        # Allocate a new array for the batch of input-signals.\n",
    "        x_shape = (batch_size, sequence_length, num_x_signals)\n",
    "        x_batch = np.zeros(shape=x_shape, dtype=np.float16)\n",
    "\n",
    "        # Allocate a new array for the batch of output-signals.\n",
    "        y_shape = (batch_size, sequence_length, num_y_signals)\n",
    "        y_batch = np.zeros(shape=y_shape, dtype=np.float16)\n",
    "\n",
    "        # Fill the batch with random sequences of data.\n",
    "        for i in range(batch_size):\n",
    "            # Get a random start-index.\n",
    "            # This points somewhere into the training-data.\n",
    "            idx = np.random.randint(num_train - sequence_length)\n",
    "            \n",
    "            # Copy the sequences of data starting at this index.\n",
    "            x_batch[i] = x_train_scaled[idx:idx+sequence_length]\n",
    "            y_batch[i] = y_train_scaled[idx:idx+sequence_length]\n",
    "        \n",
    "        yield (x_batch, y_batch)"
   ]
  },
  {
   "cell_type": "code",
   "execution_count": 77,
   "metadata": {
    "ExecuteTime": {
     "end_time": "2020-09-03T07:06:51.138194Z",
     "start_time": "2020-09-03T07:06:50.978226Z"
    },
    "code_folding": [],
    "hidden": true
   },
   "outputs": [
    {
     "name": "stdout",
     "output_type": "stream",
     "text": [
      "Input Data shape:  (200, 200, 5)\n",
      "Output Data shape:  (200, 200, 1)\n",
      "There are  200  sequences & each has  200  observations with  5  inputs and  1  outputs\n"
     ]
    }
   ],
   "source": [
    "# Generate Data\n",
    "batch_size = 200\n",
    "sequence_length = 200\n",
    "generator = batch_generator(batch_size=batch_size, sequence_length=sequence_length)\n",
    "x_batch, y_batch = next(generator)\n",
    "print('Input Data shape: ', x_batch.shape)\n",
    "print('Output Data shape: ', y_batch.shape)\n",
    "print('There are ', batch_size, ' sequences & each has ', sequence_length, ' observations with ',\n",
    "      num_x_signals, ' inputs and ', num_y_signals, ' outputs')"
   ]
  },
  {
   "cell_type": "markdown",
   "metadata": {
    "heading_collapsed": true
   },
   "source": [
    "# Validation Set"
   ]
  },
  {
   "cell_type": "markdown",
   "metadata": {
    "hidden": true
   },
   "source": [
    "The neural network trains quickly so we can easily run many training epochs. But then there is a risk of overfitting the model to the training-set so it does not generalize well to unseen data. We will therefore monitor the model's performance on the test-set after each epoch and only save the model's weights if the performance is improved on the test-set.\n",
    "\n",
    "The batch-generator randomly selects a batch of short sequences from the training-data and uses that during training. But for the validation-data we will instead run through the entire sequence from the test-set and measure the prediction accuracy on that entire sequence."
   ]
  },
  {
   "cell_type": "code",
   "execution_count": 78,
   "metadata": {
    "ExecuteTime": {
     "end_time": "2020-09-03T07:06:55.751896Z",
     "start_time": "2020-09-03T07:06:55.735917Z"
    },
    "code_folding": [],
    "hidden": true
   },
   "outputs": [],
   "source": [
    "# Create a valudation data\n",
    "validation_data = (np.expand_dims(x_test_scaled,\n",
    "                                  axis=0), np.expand_dims(y_test_scaled,\n",
    "                                                          axis=0))"
   ]
  },
  {
   "cell_type": "markdown",
   "metadata": {
    "heading_collapsed": true
   },
   "source": [
    "# Create RNN"
   ]
  },
  {
   "cell_type": "markdown",
   "metadata": {
    "hidden": true
   },
   "source": [
    "We are now ready to create the Recurrent Neural Network (RNN). We will use the Keras API for this because of its simplicity. See Tutorial #03-C for a tutorial on Keras and Tutorial #20 for more information on Recurrent Neural Networks.`"
   ]
  },
  {
   "cell_type": "code",
   "execution_count": 79,
   "metadata": {
    "ExecuteTime": {
     "end_time": "2020-09-03T07:07:04.157486Z",
     "start_time": "2020-09-03T07:06:58.525372Z"
    },
    "hidden": true
   },
   "outputs": [],
   "source": [
    "# Create model\n",
    "model = Sequential()"
   ]
  },
  {
   "cell_type": "markdown",
   "metadata": {
    "hidden": true
   },
   "source": [
    "We can now add a Gated Recurrent Unit (GRU) to the network. This will have 512 outputs for each time-step in the sequence.\n",
    "\n",
    "Note that because this is the first layer in the model, Keras needs to know the shape of its input, which is a batch of sequences of arbitrary length (indicated by None), where each observation has a number of input-signals (num_x_signals)."
   ]
  },
  {
   "cell_type": "code",
   "execution_count": 80,
   "metadata": {
    "ExecuteTime": {
     "end_time": "2020-09-03T07:07:12.367300Z",
     "start_time": "2020-09-03T07:07:04.157486Z"
    },
    "hidden": true
   },
   "outputs": [],
   "source": [
    "model.add(GRU(units=216,\n",
    "              return_sequences=True,\n",
    "              input_shape=(None, num_x_signals,)))"
   ]
  },
  {
   "cell_type": "markdown",
   "metadata": {
    "hidden": true
   },
   "source": [
    "The GRU outputs a batch of sequences of 512 values. We want to predict 3 output-signals, so we add a fully-connected (or dense) layer which maps 512 values down to only 3 values.\n",
    "\n",
    "The output-signals in the data-set have been limited to be between 0 and 1 using a scaler-object. So we also limit the output of the neural network using the Sigmoid activation function, which squashes the output to be between 0 and 1"
   ]
  },
  {
   "cell_type": "code",
   "execution_count": 81,
   "metadata": {
    "ExecuteTime": {
     "end_time": "2020-09-03T07:07:12.607333Z",
     "start_time": "2020-09-03T07:07:12.367300Z"
    },
    "hidden": true
   },
   "outputs": [],
   "source": [
    "model.add(Dense(num_y_signals, activation='exponential'))"
   ]
  },
  {
   "cell_type": "markdown",
   "metadata": {
    "hidden": true
   },
   "source": [
    "We can use a linear activation function on the output instead. This allows for the output to take on arbitrary values. It might work with the standard initialization for a simple network architecture, but for more complicated network architectures e.g. with more layers, it might be necessary to initialize the weights with smaller values to avoid NaN values during training. You may need to experiment with this to get it working."
   ]
  },
  {
   "cell_type": "code",
   "execution_count": 82,
   "metadata": {
    "ExecuteTime": {
     "end_time": "2020-09-03T07:07:12.623260Z",
     "start_time": "2020-09-03T07:07:12.607333Z"
    },
    "code_folding": [
     0
    ],
    "hidden": true
   },
   "outputs": [],
   "source": [
    "if False:\n",
    "    from tensorflow.python.keras.initializers import RandomUniform\n",
    "    # Maybe use lower init-ranges.\n",
    "    init = RandomUniform(minval=-0.05, maxval=0.05)\n",
    "\n",
    "    model.add(Dense(num_y_signals,\n",
    "                    activation='linear',\n",
    "                    kernel_initializer=init))"
   ]
  },
  {
   "cell_type": "markdown",
   "metadata": {
    "heading_collapsed": true
   },
   "source": [
    "# Loss Function"
   ]
  },
  {
   "cell_type": "markdown",
   "metadata": {
    "hidden": true
   },
   "source": [
    "We will use Mean Squared Error (MSE) as the loss-function that will be minimized. This measures how closely the model's output matches the true output signals.\n",
    "\n",
    "However, at the beginning of a sequence, the model has only seen input-signals for a few time-steps, so its generated output may be very inaccurate. Using the loss-value for the early time-steps may cause the model to distort its later output. We therefore give the model a \"warmup-period\" of 50 time-steps where we don't use its accuracy in the loss-function, in hope of improving the accuracy for later time-steps."
   ]
  },
  {
   "cell_type": "code",
   "execution_count": 83,
   "metadata": {
    "ExecuteTime": {
     "end_time": "2020-09-03T07:07:14.871057Z",
     "start_time": "2020-09-03T07:07:14.855067Z"
    },
    "hidden": true
   },
   "outputs": [],
   "source": [
    "warmup_steps = 50"
   ]
  },
  {
   "cell_type": "code",
   "execution_count": 84,
   "metadata": {
    "ExecuteTime": {
     "end_time": "2020-09-03T07:07:15.015044Z",
     "start_time": "2020-09-03T07:07:14.871057Z"
    },
    "code_folding": [
     0
    ],
    "hidden": true
   },
   "outputs": [],
   "source": [
    "def loss_mse_warmup(y_true, y_pred):\n",
    "    \"\"\"\n",
    "    Calculate the Mean Squared Error between y_true and y_pred,\n",
    "    but ignore the beginning \"warmup\" part of the sequences.\n",
    "    \n",
    "    y_true is the desired output.\n",
    "    y_pred is the model's output.\n",
    "    \"\"\"\n",
    "\n",
    "    # The shape of both input tensors are:\n",
    "    # [batch_size, sequence_length, num_y_signals].\n",
    "\n",
    "    # Ignore the \"warmup\" parts of the sequences\n",
    "    # by taking slices of the tensors.\n",
    "    y_true_slice = y_true[:, warmup_steps:, :]\n",
    "    y_pred_slice = y_pred[:, warmup_steps:, :]\n",
    "\n",
    "    # These sliced tensors both have this shape:\n",
    "    # [batch_size, sequence_length - warmup_steps, num_y_signals]\n",
    "\n",
    "    # Calculat the Mean Squared Error and use it as loss.\n",
    "    mse = mean(square(y_true_slice - y_pred_slice))\n",
    "    \n",
    "    return mse"
   ]
  },
  {
   "cell_type": "markdown",
   "metadata": {
    "heading_collapsed": true
   },
   "source": [
    "# Compile Model"
   ]
  },
  {
   "cell_type": "markdown",
   "metadata": {
    "hidden": true
   },
   "source": [
    "This is the optimizer and the beginning learning-rate that we will use."
   ]
  },
  {
   "cell_type": "code",
   "execution_count": 85,
   "metadata": {
    "ExecuteTime": {
     "end_time": "2020-09-03T07:07:15.918961Z",
     "start_time": "2020-09-03T07:07:15.902962Z"
    },
    "hidden": true
   },
   "outputs": [],
   "source": [
    "optimizer = RMSprop(lr=1e-3)"
   ]
  },
  {
   "cell_type": "markdown",
   "metadata": {
    "hidden": true
   },
   "source": [
    "We then compile the Keras model so it is ready for training."
   ]
  },
  {
   "cell_type": "code",
   "execution_count": 86,
   "metadata": {
    "ExecuteTime": {
     "end_time": "2020-09-03T07:07:16.086951Z",
     "start_time": "2020-09-03T07:07:15.918961Z"
    },
    "hidden": true
   },
   "outputs": [],
   "source": [
    "model.compile(loss='mean_squared_error', optimizer=optimizer)"
   ]
  },
  {
   "cell_type": "markdown",
   "metadata": {
    "hidden": true
   },
   "source": [
    "This is a very small model with only two layers. The output shape of (None, None, 1) means that the model will output a batch with an arbitrary number of sequences, each of which has an arbitrary number of observations, and each observation has 1 signals. This corresponds to the 1 target signals we want to predict."
   ]
  },
  {
   "cell_type": "code",
   "execution_count": 87,
   "metadata": {
    "ExecuteTime": {
     "end_time": "2020-09-03T07:07:16.262929Z",
     "start_time": "2020-09-03T07:07:16.086951Z"
    },
    "hidden": true
   },
   "outputs": [
    {
     "name": "stdout",
     "output_type": "stream",
     "text": [
      "Model: \"sequential\"\n",
      "_________________________________________________________________\n",
      "Layer (type)                 Output Shape              Param #   \n",
      "=================================================================\n",
      "gru (GRU)                    (None, None, 216)         144504    \n",
      "_________________________________________________________________\n",
      "dense (Dense)                (None, None, 1)           217       \n",
      "=================================================================\n",
      "Total params: 144,721\n",
      "Trainable params: 144,721\n",
      "Non-trainable params: 0\n",
      "_________________________________________________________________\n"
     ]
    }
   ],
   "source": [
    "model.summary()"
   ]
  },
  {
   "cell_type": "markdown",
   "metadata": {
    "heading_collapsed": true
   },
   "source": [
    "# Callback Functions"
   ]
  },
  {
   "cell_type": "markdown",
   "metadata": {
    "hidden": true
   },
   "source": [
    "During training we want to save checkpoints and log the progress to TensorBoard so we create the appropriate callbacks for Keras.\n",
    "\n",
    "This is the callback for writing checkpoints during training."
   ]
  },
  {
   "cell_type": "code",
   "execution_count": 88,
   "metadata": {
    "ExecuteTime": {
     "end_time": "2020-09-03T07:07:17.550819Z",
     "start_time": "2020-09-03T07:07:17.534819Z"
    },
    "hidden": true
   },
   "outputs": [],
   "source": [
    "path_checkpoint = 'RNN_intraday_5min.keras'\n",
    "callback_checkpoint = ModelCheckpoint(filepath=path_checkpoint,\n",
    "                                      monitor='val_loss',\n",
    "                                      verbose=1,\n",
    "                                      save_weights_only=True,\n",
    "                                      save_best_only=True)"
   ]
  },
  {
   "cell_type": "markdown",
   "metadata": {
    "hidden": true
   },
   "source": [
    "This is the callback for stopping the optimization when performance worsens on the validation-set"
   ]
  },
  {
   "cell_type": "code",
   "execution_count": 89,
   "metadata": {
    "ExecuteTime": {
     "end_time": "2020-09-03T07:07:17.694800Z",
     "start_time": "2020-09-03T07:07:17.550819Z"
    },
    "hidden": true
   },
   "outputs": [],
   "source": [
    "callback_early_stopping = EarlyStopping(monitor='val_loss',\n",
    "                                        patience=5, verbose=1)"
   ]
  },
  {
   "cell_type": "markdown",
   "metadata": {
    "hidden": true
   },
   "source": [
    "\n",
    "This is the callback for writing the TensorBoard log during training."
   ]
  },
  {
   "cell_type": "code",
   "execution_count": 90,
   "metadata": {
    "ExecuteTime": {
     "end_time": "2020-09-03T07:07:17.958802Z",
     "start_time": "2020-09-03T07:07:17.702800Z"
    },
    "hidden": true
   },
   "outputs": [],
   "source": [
    "callback_tensorboard = TensorBoard(log_dir='.\\\\23_logs\\\\',\n",
    "                                   histogram_freq=0,\n",
    "                                   write_graph=False)"
   ]
  },
  {
   "cell_type": "markdown",
   "metadata": {
    "hidden": true
   },
   "source": [
    "This callback reduces the learning-rate for the optimizer if the validation-loss has not improved since the last epoch (as indicated by patience=0). The learning-rate will be reduced by multiplying it with the given factor. We set a start learning-rate of 1e-3 above, so multiplying it by 0.1 gives a learning-rate of 1e-4. We don't want the learning-rate to go any lower than this."
   ]
  },
  {
   "cell_type": "code",
   "execution_count": 91,
   "metadata": {
    "ExecuteTime": {
     "end_time": "2020-09-03T07:07:18.174791Z",
     "start_time": "2020-09-03T07:07:17.966786Z"
    },
    "hidden": true
   },
   "outputs": [],
   "source": [
    "callback_reduce_lr = ReduceLROnPlateau(monitor='val_loss',\n",
    "                                       factor=0.1,\n",
    "                                       min_lr=1e-4,\n",
    "                                       patience=0,\n",
    "                                       verbose=1)"
   ]
  },
  {
   "cell_type": "code",
   "execution_count": 92,
   "metadata": {
    "ExecuteTime": {
     "end_time": "2020-09-03T07:07:18.374737Z",
     "start_time": "2020-09-03T07:07:18.174791Z"
    },
    "hidden": true
   },
   "outputs": [],
   "source": [
    "callbacks = [callback_early_stopping,\n",
    "             callback_checkpoint,\n",
    "             callback_tensorboard,\n",
    "             callback_reduce_lr]"
   ]
  },
  {
   "cell_type": "markdown",
   "metadata": {
    "heading_collapsed": true
   },
   "source": [
    "# Train the Recurrent Neural Network"
   ]
  },
  {
   "cell_type": "markdown",
   "metadata": {
    "hidden": true
   },
   "source": [
    "We can now train the neural network.\n",
    "\n",
    "Note that a single \"epoch\" does not correspond to a single processing of the training-set, because of how the batch-generator randomly selects sub-sequences from the training-set. Instead we have selected steps_per_epoch so that one \"epoch\" is processed in a few minutes.\n",
    "\n",
    "With these settings, each \"epoch\" took about 2.5 minutes to process on a GTX 1070. After 14 \"epochs\" the optimization was stopped because the validation-loss had not decreased for 5 \"epochs\". This optimization took about 35 minutes to finish.\n",
    "\n",
    "Also note that the loss sometimes becomes NaN (not-a-number). This is often resolved by restarting and running the Notebook again. But it may also be caused by your neural network architecture, learning-rate, batch-size, sequence-length, etc. in which case you may have to modify those settings."
   ]
  },
  {
   "cell_type": "code",
   "execution_count": 694,
   "metadata": {
    "ExecuteTime": {
     "end_time": "2020-09-02T19:00:28.076152Z",
     "start_time": "2020-09-02T18:50:37.885285Z"
    },
    "code_folding": [],
    "hidden": true
   },
   "outputs": [
    {
     "name": "stdout",
     "output_type": "stream",
     "text": [
      "Epoch 1/30\n",
      " 2/20 [==>...........................] - ETA: 52s - loss: 0.2987WARNING:tensorflow:Callbacks method `on_train_batch_end` is slow compared to the batch time (batch time: 1.4966s vs `on_train_batch_end` time: 4.3116s). Check your callbacks.\n",
      "20/20 [==============================] - ETA: 0s - loss: 0.0430\n",
      "Epoch 00001: val_loss improved from inf to 0.08910, saving model to RNN_intraday_5min.keras\n",
      "20/20 [==============================] - 35s 2s/step - loss: 0.0430 - val_loss: 0.0891\n",
      "Epoch 2/30\n",
      "20/20 [==============================] - ETA: 0s - loss: 0.0117\n",
      "Epoch 00002: val_loss improved from 0.08910 to 0.08372, saving model to RNN_intraday_5min.keras\n",
      "20/20 [==============================] - 30s 2s/step - loss: 0.0117 - val_loss: 0.0837\n",
      "Epoch 3/30\n",
      "20/20 [==============================] - ETA: 0s - loss: 0.0099\n",
      "Epoch 00003: val_loss improved from 0.08372 to 0.06950, saving model to RNN_intraday_5min.keras\n",
      "20/20 [==============================] - 30s 2s/step - loss: 0.0099 - val_loss: 0.0695\n",
      "Epoch 4/30\n",
      "20/20 [==============================] - ETA: 0s - loss: 0.0092\n",
      "Epoch 00004: val_loss did not improve from 0.06950\n",
      "\n",
      "Epoch 00004: ReduceLROnPlateau reducing learning rate to 0.00010000000474974513.\n",
      "20/20 [==============================] - 30s 1s/step - loss: 0.0092 - val_loss: 0.0697\n",
      "Epoch 5/30\n",
      "20/20 [==============================] - ETA: 0s - loss: 0.0082\n",
      "Epoch 00005: val_loss improved from 0.06950 to 0.05189, saving model to RNN_intraday_5min.keras\n",
      "20/20 [==============================] - 30s 2s/step - loss: 0.0082 - val_loss: 0.0519\n",
      "Epoch 6/30\n",
      "20/20 [==============================] - ETA: 0s - loss: 0.0080\n",
      "Epoch 00006: val_loss improved from 0.05189 to 0.04850, saving model to RNN_intraday_5min.keras\n",
      "20/20 [==============================] - 31s 2s/step - loss: 0.0080 - val_loss: 0.0485\n",
      "Epoch 7/30\n",
      "20/20 [==============================] - ETA: 0s - loss: 0.0078\n",
      "Epoch 00007: val_loss did not improve from 0.04850\n",
      "\n",
      "Epoch 00007: ReduceLROnPlateau reducing learning rate to 0.0001.\n",
      "20/20 [==============================] - 30s 2s/step - loss: 0.0078 - val_loss: 0.0507\n",
      "Epoch 8/30\n",
      "20/20 [==============================] - ETA: 0s - loss: 0.0077\n",
      "Epoch 00008: val_loss improved from 0.04850 to 0.04640, saving model to RNN_intraday_5min.keras\n",
      "20/20 [==============================] - 31s 2s/step - loss: 0.0077 - val_loss: 0.0464\n",
      "Epoch 9/30\n",
      "20/20 [==============================] - ETA: 0s - loss: 0.0076\n",
      "Epoch 00009: val_loss did not improve from 0.04640\n",
      "20/20 [==============================] - 30s 2s/step - loss: 0.0076 - val_loss: 0.0473\n",
      "Epoch 10/30\n",
      "20/20 [==============================] - ETA: 0s - loss: 0.0074\n",
      "Epoch 00010: val_loss improved from 0.04640 to 0.04592, saving model to RNN_intraday_5min.keras\n",
      "20/20 [==============================] - 30s 2s/step - loss: 0.0074 - val_loss: 0.0459\n",
      "Epoch 11/30\n",
      "20/20 [==============================] - ETA: 0s - loss: 0.0073\n",
      "Epoch 00011: val_loss did not improve from 0.04592\n",
      "20/20 [==============================] - 31s 2s/step - loss: 0.0073 - val_loss: 0.0470\n",
      "Epoch 12/30\n",
      "20/20 [==============================] - ETA: 0s - loss: 0.0072\n",
      "Epoch 00012: val_loss did not improve from 0.04592\n",
      "20/20 [==============================] - 30s 2s/step - loss: 0.0072 - val_loss: 0.0465\n",
      "Epoch 13/30\n",
      "20/20 [==============================] - ETA: 0s - loss: 0.0071\n",
      "Epoch 00013: val_loss improved from 0.04592 to 0.04555, saving model to RNN_intraday_5min.keras\n",
      "20/20 [==============================] - 31s 2s/step - loss: 0.0071 - val_loss: 0.0455\n",
      "Epoch 14/30\n",
      "20/20 [==============================] - ETA: 0s - loss: 0.0070\n",
      "Epoch 00014: val_loss did not improve from 0.04555\n",
      "20/20 [==============================] - 30s 2s/step - loss: 0.0070 - val_loss: 0.0462\n",
      "Epoch 15/30\n",
      "20/20 [==============================] - ETA: 0s - loss: 0.0069\n",
      "Epoch 00015: val_loss did not improve from 0.04555\n",
      "20/20 [==============================] - 32s 2s/step - loss: 0.0069 - val_loss: 0.0464\n",
      "Epoch 16/30\n",
      "20/20 [==============================] - ETA: 0s - loss: 0.0069\n",
      "Epoch 00016: val_loss did not improve from 0.04555\n",
      "20/20 [==============================] - 31s 2s/step - loss: 0.0069 - val_loss: 0.0475\n",
      "Epoch 17/30\n",
      "20/20 [==============================] - ETA: 0s - loss: 0.0067\n",
      "Epoch 00017: val_loss did not improve from 0.04555\n",
      "20/20 [==============================] - 32s 2s/step - loss: 0.0067 - val_loss: 0.0483\n",
      "Epoch 18/30\n",
      "20/20 [==============================] - ETA: 0s - loss: 0.0066\n",
      "Epoch 00018: val_loss did not improve from 0.04555\n",
      "20/20 [==============================] - 31s 2s/step - loss: 0.0066 - val_loss: 0.0479\n",
      "Epoch 00018: early stopping\n"
     ]
    },
    {
     "data": {
      "text/plain": [
       "<tensorflow.python.keras.callbacks.History at 0x1c948a05dc8>"
      ]
     },
     "execution_count": 694,
     "metadata": {},
     "output_type": "execute_result"
    }
   ],
   "source": [
    "model.fit(x=generator,\n",
    "          epochs=30,\n",
    "          steps_per_epoch=20,\n",
    "          validation_data=validation_data,\n",
    "          callbacks=callbacks)"
   ]
  },
  {
   "cell_type": "markdown",
   "metadata": {
    "heading_collapsed": true
   },
   "source": [
    "# Load Checkpoint"
   ]
  },
  {
   "cell_type": "code",
   "execution_count": 93,
   "metadata": {
    "ExecuteTime": {
     "end_time": "2020-09-03T07:07:21.614442Z",
     "start_time": "2020-09-03T07:07:20.646531Z"
    },
    "code_folding": [],
    "hidden": true
   },
   "outputs": [],
   "source": [
    "try:\n",
    "    model.load_weights(path_checkpoint)\n",
    "except Exception as error:\n",
    "    print(\"Error trying to load checkpoint.\")\n",
    "    print(error)"
   ]
  },
  {
   "cell_type": "markdown",
   "metadata": {
    "heading_collapsed": true
   },
   "source": [
    "# Performance on Test-Set"
   ]
  },
  {
   "cell_type": "markdown",
   "metadata": {
    "hidden": true
   },
   "source": [
    "We can now evaluate the model's performance on the test-set. This function expects a batch of data, but we will just use one long time-series for the test-set, so we just expand the array-dimensionality to create a batch with that one sequence"
   ]
  },
  {
   "cell_type": "code",
   "execution_count": 94,
   "metadata": {
    "ExecuteTime": {
     "end_time": "2020-09-03T07:07:30.606243Z",
     "start_time": "2020-09-03T07:07:26.353632Z"
    },
    "hidden": true
   },
   "outputs": [
    {
     "name": "stdout",
     "output_type": "stream",
     "text": [
      "1/1 [==============================] - 0s 32ms/step - loss: 0.0455\n"
     ]
    }
   ],
   "source": [
    "result = model.evaluate(x=np.expand_dims(x_test_scaled, axis=0),\n",
    "                        y=np.expand_dims(y_test_scaled, axis=0))"
   ]
  },
  {
   "cell_type": "code",
   "execution_count": 95,
   "metadata": {
    "ExecuteTime": {
     "end_time": "2020-09-03T07:07:30.622244Z",
     "start_time": "2020-09-03T07:07:30.606243Z"
    },
    "hidden": true
   },
   "outputs": [
    {
     "name": "stdout",
     "output_type": "stream",
     "text": [
      "loss (test-set): 0.04554913938045502\n"
     ]
    }
   ],
   "source": [
    "print(\"loss (test-set):\", result)"
   ]
  },
  {
   "cell_type": "code",
   "execution_count": 96,
   "metadata": {
    "ExecuteTime": {
     "end_time": "2020-09-03T07:07:30.742269Z",
     "start_time": "2020-09-03T07:07:30.622244Z"
    },
    "code_folding": [
     0
    ],
    "hidden": true
   },
   "outputs": [],
   "source": [
    "# If you have several metrics you can use this instead.\n",
    "if False:\n",
    "    for res, metric in zip(result, model.metrics_names):\n",
    "        print(\"{0}: {1:.3e}\".format(metric, res))"
   ]
  },
  {
   "cell_type": "markdown",
   "metadata": {
    "heading_collapsed": true
   },
   "source": [
    "# Generate Predictions"
   ]
  },
  {
   "cell_type": "markdown",
   "metadata": {
    "hidden": true
   },
   "source": [
    "This helper-function plots the predicted and true output-signals."
   ]
  },
  {
   "cell_type": "code",
   "execution_count": 97,
   "metadata": {
    "ExecuteTime": {
     "end_time": "2020-09-03T07:07:36.916588Z",
     "start_time": "2020-09-03T07:07:36.900571Z"
    },
    "code_folding": [
     0
    ],
    "hidden": true
   },
   "outputs": [],
   "source": [
    "def plot_comparison(start_idx, length=100, train=True):\n",
    "    \"\"\"\n",
    "    Plot the predicted and true output-signals.\n",
    "    \n",
    "    :param start_idx: Start-index for the time-series.\n",
    "    :param length: Sequence-length to process and plot.\n",
    "    :param train: Boolean whether to use training- or test-set.\n",
    "    \"\"\"\n",
    "    if train:\n",
    "        # Use training-data.\n",
    "        x = x_train_scaled\n",
    "        y_true = y_train\n",
    "    else:\n",
    "        # Use test-data.\n",
    "        x = x_test_scaled\n",
    "        y_true = y_test\n",
    "    # End-index for the sequences.\n",
    "    end_idx = start_idx + length\n",
    "    # Select the sequences from the given start-index and\n",
    "    # of the given length.\n",
    "    x = x[start_idx:end_idx]\n",
    "    y_true = y_true[start_idx:end_idx]\n",
    "    # Input-signals for the model.\n",
    "    x = np.expand_dims(x, axis=0)\n",
    "    # Use the model to predict the output-signals.\n",
    "    y_pred = model.predict(x)\n",
    "    # The output of the model is between 0 and 1.\n",
    "    # Do an inverse map to get it back to the scale\n",
    "    # of the original data-set.\n",
    "    y_pred_rescaled = y_scaler.inverse_transform(y_pred[0])\n",
    "    # For each output-signal.\n",
    "    for signal in range(len(target_signal)):\n",
    "        # Get the output-signal predicted by the model.\n",
    "        signal_pred = y_pred_rescaled[:, signal]\n",
    "        # Get the true output-signal from the data-set.\n",
    "        signal_true = y_true[:, signal]\n",
    "        # Make the plotting-canvas bigger.\n",
    "        plt.figure(figsize=(15, 5))\n",
    "        # Plot and compare the two signals.\n",
    "        plt.plot(signal_true, label='true')\n",
    "        plt.plot(signal_pred, label='pred')\n",
    "        # Plot grey box for warmup-period.\n",
    "        p = plt.axvspan(0, warmup_steps, facecolor='black', alpha=0.15)\n",
    "        # Plot labels etc.\n",
    "        plt.ylabel(target_signal[signal])\n",
    "        plt.legend()\n",
    "        plt.show()\n",
    "        return y_true, y_pred_rescaled"
   ]
  },
  {
   "cell_type": "code",
   "execution_count": 98,
   "metadata": {
    "ExecuteTime": {
     "end_time": "2020-09-03T07:07:38.421286Z",
     "start_time": "2020-09-03T07:07:36.916588Z"
    },
    "hidden": true,
    "scrolled": true
   },
   "outputs": [
    {
     "data": {
      "image/png": "[encoded data removed]",
      "text/plain": [
       "<Figure size 1080x360 with 1 Axes>"
      ]
     },
     "metadata": {
      "needs_background": "dark"
     },
     "output_type": "display_data"
    }
   ],
   "source": [
    "true, prediction = plot_comparison(start_idx=0, length=num_train, train=False)"
   ]
  },
  {
   "cell_type": "code",
   "execution_count": 99,
   "metadata": {
    "ExecuteTime": {
     "end_time": "2020-09-03T07:07:38.453284Z",
     "start_time": "2020-09-03T07:07:38.421286Z"
    },
    "code_folding": [
     0
    ],
    "hidden": true
   },
   "outputs": [],
   "source": [
    "# Transfer to DataFrame\n",
    "df_result = pd.DataFrame([true[:, 0], prediction[:, 0]], index=['True', 'Predictions']).T\n",
    "df_result['Difference'] = np.abs(df_result['True']-df_result['Predictions'])"
   ]
  },
  {
   "cell_type": "code",
   "execution_count": 100,
   "metadata": {
    "ExecuteTime": {
     "end_time": "2020-09-03T07:07:38.757255Z",
     "start_time": "2020-09-03T07:07:38.453284Z"
    },
    "code_folding": [
     0
    ],
    "hidden": true
   },
   "outputs": [
    {
     "name": "stdout",
     "output_type": "stream",
     "text": [
      "                True    Predictions     Difference\n",
      "-----  -------------  -------------  -------------\n",
      "count  105             105           105\n",
      "mean    -8.60449e-05    -0.0109527     0.0120799\n",
      "std      0.00577076      0.00429875    0.0045109\n",
      "min     -0.0329506      -0.0160854     0.000937642\n",
      "25%     -0.00134108     -0.0135195     0.0104381\n",
      "50%      0.000445931    -0.012423      0.0125933\n",
      "75%      0.00200139     -0.0103123     0.0144143\n",
      "max      0.0274327       0.00776331    0.0274537\n"
     ]
    }
   ],
   "source": [
    "# Result summary\n",
    "print(tabulate(df_result.describe(), headers='keys'))"
   ]
  },
  {
   "cell_type": "code",
   "execution_count": 101,
   "metadata": {
    "ExecuteTime": {
     "end_time": "2020-09-03T07:07:38.847103Z",
     "start_time": "2020-09-03T07:07:38.757255Z"
    },
    "code_folding": [
     0
    ],
    "hidden": true
   },
   "outputs": [
    {
     "name": "stdout",
     "output_type": "stream",
     "text": [
      "Root Mean Squared Error:  0.0129\n",
      "R2 Score:  -403.51\n"
     ]
    }
   ],
   "source": [
    "# Metrics\n",
    "rmse = np.round(np.sqrt(mean_squared_error(df_result['True'], df_result['Predictions'])), 4)\n",
    "print('Root Mean Squared Error: ', rmse)\n",
    "r2 = np.round(r2_score(df_result['True'], df_result['Predictions'])*100, 2)\n",
    "print('R2 Score: ', r2)"
   ]
  },
  {
   "cell_type": "code",
   "execution_count": 102,
   "metadata": {
    "ExecuteTime": {
     "end_time": "2020-09-03T07:07:39.199026Z",
     "start_time": "2020-09-03T07:07:38.855049Z"
    },
    "code_folding": [
     0
    ],
    "hidden": true,
    "scrolled": false
   },
   "outputs": [
    {
     "name": "stdout",
     "output_type": "stream",
     "text": [
      "df_result \n",
      "\n",
      "                True    Predictions     Difference    Price_True    Price_Predictions    Price_Diff\n",
      "-----  -------------  -------------  -------------  ------------  -------------------  ------------\n",
      "count  105             105           105               105                  105          105\n",
      "mean    -8.60449e-05    -0.0109527     0.0120799       132.233              130.803        1.5889\n",
      "std      0.00577076      0.00429875    0.0045109         1.83582              1.72489      0.59288\n",
      "min     -0.0329506      -0.0160854     0.000937642     127.11               126.424        0.122998\n",
      "25%     -0.00134108     -0.0135195     0.0104381       130.89               129.319        1.36253\n",
      "50%      0.000445931    -0.012423      0.0125933       132.41               130.778        1.67593\n",
      "75%      0.00200139     -0.0103123     0.0144143       134.02               132.352        1.90938\n",
      "max      0.0274327       0.00776331    0.0274537       135.27               134.944        3.57277\n"
     ]
    }
   ],
   "source": [
    "# Convert to Price\n",
    "price_pred = []\n",
    "for i in range(num_test):\n",
    "    price = np.exp(\n",
    "        df_result['Predictions'][i]) * df['Close_AAPL'].iloc[-(num_test + 1 - i)]\n",
    "    price_pred.append(price)\n",
    "df_result.index = df['Close_AAPL'].iloc[-(num_test):].index\n",
    "df_result['Price_True'] = df['Close_AAPL'].iloc[-(num_test):].values\n",
    "df_result['Price_Predictions'] = price_pred\n",
    "df_result['Price_Diff'] = np.abs(df_result['Price_True'] - df_result['Price_Predictions'])\n",
    "print('df_result', '\\n')\n",
    "print(tabulate(df_result.describe(), headers='keys'))"
   ]
  },
  {
   "cell_type": "code",
   "execution_count": 103,
   "metadata": {
    "ExecuteTime": {
     "end_time": "2020-09-03T07:07:39.638981Z",
     "start_time": "2020-09-03T07:07:39.207015Z"
    },
    "code_folding": [
     0
    ],
    "hidden": true,
    "scrolled": false
   },
   "outputs": [
    {
     "data": {
      "image/png": "[encoded data removed]",
      "text/plain": [
       "<Figure size 432x288 with 1 Axes>"
      ]
     },
     "metadata": {
      "needs_background": "dark"
     },
     "output_type": "display_data"
    }
   ],
   "source": [
    "# Plot Price Prediction on Test Data\n",
    "plt.plot(df_result['Price_True'], label='True')\n",
    "plt.plot(df_result['Price_Predictions'], label='Predictions')\n",
    "plt.title('True Price vs Prediction Price')\n",
    "plt.legend()\n",
    "plt.show()"
   ]
  },
  {
   "cell_type": "code",
   "execution_count": 104,
   "metadata": {
    "ExecuteTime": {
     "end_time": "2020-09-03T07:07:39.654975Z",
     "start_time": "2020-09-03T07:07:39.638981Z"
    },
    "code_folding": [
     0
    ],
    "hidden": true,
    "scrolled": false
   },
   "outputs": [
    {
     "name": "stdout",
     "output_type": "stream",
     "text": [
      "Root Mean Squared Error:  1.6949\n",
      "R2 Score:  13.94\n"
     ]
    }
   ],
   "source": [
    "# Price Predictions Metric\n",
    "rmse = np.round(np.sqrt(mean_squared_error(df_result['Price_True'], df_result['Price_Predictions'])), 4)\n",
    "print('Root Mean Squared Error: ', rmse)\n",
    "r2 = np.round(r2_score(df_result['Price_True'], df_result['Price_Predictions'])*100, 2)\n",
    "print('R2 Score: ', r2)"
   ]
  },
  {
   "cell_type": "markdown",
   "metadata": {
    "heading_collapsed": true
   },
   "source": [
    "# Predict Future"
   ]
  },
  {
   "cell_type": "markdown",
   "metadata": {
    "hidden": true
   },
   "source": [
    "Predict Future"
   ]
  },
  {
   "cell_type": "markdown",
   "metadata": {
    "hidden": true
   },
   "source": [
    "## Data Manipulation"
   ]
  },
  {
   "cell_type": "code",
   "execution_count": 107,
   "metadata": {
    "ExecuteTime": {
     "end_time": "2020-09-03T07:10:59.630222Z",
     "start_time": "2020-09-03T07:10:59.558250Z"
    },
    "code_folding": [
     0
    ],
    "hidden": true
   },
   "outputs": [
    {
     "name": "stdout",
     "output_type": "stream",
     "text": [
      "                          Volume_AAPL    Volume_SPY    Returns_SPY    Open_AAPL    Low_AAPL\n",
      "-------------------  ----------------  ------------  -------------  -----------  ----------\n",
      "2020-09-02 13:50:00  346014                   92638    0.000252373       130.89      131.21\n",
      "2020-09-02 13:55:00  946271                  245242   -0.000560915       131.06      130.75\n",
      "2020-09-02 14:00:00  967346                   63858    0.000112208       131.01      130.9\n",
      "2020-09-02 14:05:00       1.13435e+06        851529   -0.000813795       130.97      130.51\n",
      "2020-09-02 14:10:00  861425                  412043    0.000252628       130.97      130.85\n"
     ]
    }
   ],
   "source": [
    "# Data Manipulation for future prediction\n",
    "#--Get shifted Data\n",
    "shifted_data = pd.DataFrame(df.iloc[-1, :][features]).T# Since all features are shifted data so there is need to further process this\n",
    "#--Fix Future Dating\n",
    "_ = df_features.index[-1] + timedelta(minutes=5)\n",
    "# for x in np.arange(5, 75, step=15, dtype=int):\n",
    "#     # Add days to the last day\n",
    "#     x = x.item()\n",
    "#     _ = df_features.index[-1] + timedelta(minutes=x)\n",
    "#     if _.weekday() < 5: # Repeat until it's working Monday-Friday\n",
    "#         break\n",
    "shifted_data.index = [_] # Add as index\n",
    "del _\n",
    "#--Add future features\n",
    "df_features_future = df_features.append(shifted_data)\n",
    "print(tabulate(df_features_future.tail(), headers='keys'))"
   ]
  },
  {
   "cell_type": "markdown",
   "metadata": {
    "hidden": true
   },
   "source": [
    "## Prediction"
   ]
  },
  {
   "cell_type": "code",
   "execution_count": 108,
   "metadata": {
    "ExecuteTime": {
     "end_time": "2020-09-03T07:11:01.094089Z",
     "start_time": "2020-09-03T07:10:59.630222Z"
    },
    "code_folding": [],
    "hidden": true,
    "scrolled": false
   },
   "outputs": [
    {
     "data": {
      "image/png": "[encoded data removed]",
      "text/plain": [
       "<Figure size 1080x360 with 1 Axes>"
      ]
     },
     "metadata": {
      "needs_background": "dark"
     },
     "output_type": "display_data"
    }
   ],
   "source": [
    "# Prediction\n",
    "def predict_future(df_futures_feature=df_features_future,\n",
    "                   start_idx=0,\n",
    "                   length=100,\n",
    "                   num_test=num_test):\n",
    "    x_test_scaled = x_scaler.transform(\n",
    "        df_features_future.iloc[-(num_test + 1):, :])\n",
    "    x = x_test_scaled\n",
    "    y_true = y_test\n",
    "    # End-index for the sequences.\n",
    "    end_idx = start_idx + length\n",
    "    # Select the sequences from the given start-index and\n",
    "    # of the given length.\n",
    "    x = x[start_idx:end_idx]\n",
    "    y_true = y_true[start_idx:end_idx]\n",
    "    # Input-signals for the model.\n",
    "    x = np.expand_dims(x, axis=0)\n",
    "    # Use the model to predict the output-signals.\n",
    "    y_pred = model.predict(x)\n",
    "    # The output of the model is between 0 and 1.\n",
    "    # Do an inverse map to get it back to the scale\n",
    "    # of the original data-set.\n",
    "    y_pred_rescaled = y_scaler.inverse_transform(y_pred[0])\n",
    "    # For each output-signal.\n",
    "    for signal in range(len(target_signal)):\n",
    "        # Get the output-signal predicted by the model.\n",
    "        signal_pred = y_pred_rescaled[:, signal]\n",
    "        # Get the true output-signal from the data-set.\n",
    "        signal_true = y_true[:, signal]\n",
    "        # Make the plotting-canvas bigger.\n",
    "        plt.figure(figsize=(15, 5))\n",
    "        # Plot and compare the two signals.\n",
    "        plt.plot(signal_true, label='true')\n",
    "        plt.plot(signal_pred, label='pred')\n",
    "        # Plot grey box for warmup-period.\n",
    "        p = plt.axvspan(0, warmup_steps, facecolor='black', alpha=0.15)\n",
    "        # Plot labels etc.\n",
    "        plt.ylabel(target_signal[signal])\n",
    "        plt.legend()\n",
    "        plt.show()\n",
    "        return y_true, y_pred_rescaled\n",
    "true_future, predict_future = predict_future(df_futures_feature=df_features_future, start_idx=0, length=1000)"
   ]
  },
  {
   "cell_type": "code",
   "execution_count": 109,
   "metadata": {
    "ExecuteTime": {
     "end_time": "2020-09-03T07:11:01.214079Z",
     "start_time": "2020-09-03T07:11:01.094089Z"
    },
    "code_folding": [
     0
    ],
    "hidden": true
   },
   "outputs": [
    {
     "name": "stdout",
     "output_type": "stream",
     "text": [
      "df_result_future \n",
      "\n",
      "                True    Predictions    Price_True    Price_Predictions    Price_Diff\n",
      "-----  -------------  -------------  ------------  -------------------  ------------\n",
      "count  105             105              105                  105          105\n",
      "mean    -8.60449e-05    -0.0109527      132.233              130.803        1.43041\n",
      "std      0.00577076      0.00429875       1.83582              1.72489      0.913596\n",
      "min     -0.0329506      -0.0160854      127.11               126.424       -3.57277\n",
      "25%     -0.00134108     -0.0135195      130.89               129.319        1.26293\n",
      "50%      0.000445931    -0.012423       132.41               130.778        1.64619\n",
      "75%      0.00200139     -0.0103123      134.02               132.352        1.88889\n",
      "max      0.0274327       0.00776331     135.27               134.944        3.32908\n"
     ]
    }
   ],
   "source": [
    "# Compile Results\n",
    "df_result_future = pd.DataFrame([true_future[:, 0], predict_future[:, 0]],\n",
    "                                index=['True', 'Predictions']).T\n",
    "#--Convert to Price\n",
    "price_pred = []\n",
    "for i in range(num_test + 1):\n",
    "    price = np.exp(df_result_future['Predictions']\n",
    "                   [i]) * df['Close_AAPL'].iloc[-(num_test + 1 - i)]\n",
    "    price_pred.append(price)\n",
    "df_result_future.index = df_features_future.iloc[-(num_test + 1):, :].index\n",
    "df_result_future['Price_True'] = np.append(\n",
    "    df['Close_AAPL'].iloc[-(num_test):].values, 0)\n",
    "df_result_future['Price_Predictions'] = price_pred\n",
    "df_result_future['Price_Predictions'] = df_result_future['Price_Predictions']\n",
    "df_result_future['Price_Diff'] = (df_result_future['Price_True'] -\n",
    "                                  df_result_future['Price_Predictions'])\n",
    "df_result_future.fillna(0, inplace=True)\n",
    "print('df_result_future', '\\n')\n",
    "print(tabulate(df_result_future.iloc[:-1, :].describe(), headers='keys'))"
   ]
  },
  {
   "cell_type": "code",
   "execution_count": 110,
   "metadata": {
    "ExecuteTime": {
     "end_time": "2020-09-03T07:11:07.883659Z",
     "start_time": "2020-09-03T07:11:01.214079Z"
    },
    "code_folding": [
     0
    ],
    "hidden": true
   },
   "outputs": [
    {
     "name": "stdout",
     "output_type": "stream",
     "text": [
      "df_result_future \n",
      "\n",
      "                True    Predictions    Price_True    Price_Predictions    Price_Diff\n",
      "-----  -------------  -------------  ------------  -------------------  ------------\n",
      "count  105             105              105                  105        105\n",
      "mean    -8.60449e-05    -0.0109527      132.233              132.228      0.00465909\n",
      "std      0.00577076      0.00429875       1.83582              1.74369    0.916407\n",
      "min     -0.0329506      -0.0160854      127.11               127.802     -5.01084\n",
      "25%     -0.00134108     -0.0135195      130.89               130.729     -0.162649\n",
      "50%      0.000445931    -0.012423       132.41               132.203      0.215554\n",
      "75%      0.00200139     -0.0103123      134.02               133.795      0.466621\n",
      "max      0.0274327       0.00776331     135.27               136.415      1.92733\n"
     ]
    }
   ],
   "source": [
    "# Compile Results\n",
    "df_result_future = pd.DataFrame([true_future[:, 0], predict_future[:, 0]],\n",
    "                                index=['True', 'Predictions']).T\n",
    "#--Convert to Price\n",
    "price_pred = []\n",
    "for i in range(num_test + 1):\n",
    "    price = np.exp(df_result_future['Predictions']\n",
    "                   [i]) * df['Close_AAPL'].iloc[-(num_test + 1 - i)]\n",
    "    price_pred.append(price)\n",
    "df_result_future.index = df_features_future.iloc[-(num_test + 1):, :].index\n",
    "df_result_future['Price_True'] = np.append(\n",
    "    df['Close_AAPL'].iloc[-(num_test):].values, 0)\n",
    "df_result_future['Price_Predictions'] = price_pred\n",
    "#--Find the optimal constant to adjust prediction\n",
    "_constant = []\n",
    "for x in np.arange(0.8, 1.2000, step=0.0001):\n",
    "    adj_price = df_result_future['Price_Predictions'][:-1] * x\n",
    "    _diff = df_result_future['Price_True'][:-1] - adj_price\n",
    "    _constant.append((x, _diff[:-1].mean()))\n",
    "_constant = pd.DataFrame(_constant)\n",
    "\n",
    "\n",
    "#---Write Function to find nearest value\n",
    "def find_nearest(array, value):\n",
    "    array = np.asarray(array)\n",
    "    idx = (np.abs(array - value)).argmin()\n",
    "    return idx, array[idx]\n",
    "\n",
    "\n",
    "#--Add the adjusted Price_Predictions to the df_result_future\n",
    "idx_constant, nearest_value = find_nearest(_constant[1], 0)\n",
    "constant = _constant[0][idx_constant]\n",
    "df_result_future[\n",
    "    'Price_Predictions'] = df_result_future['Price_Predictions'] * constant\n",
    "df_result_future['Price_Diff'] = (df_result_future['Price_True'] -\n",
    "                                  df_result_future['Price_Predictions'])\n",
    "print('df_result_future', '\\n')\n",
    "print(tabulate(df_result_future.iloc[:-1, :].describe(), headers='keys'))"
   ]
  },
  {
   "cell_type": "code",
   "execution_count": 111,
   "metadata": {
    "ExecuteTime": {
     "end_time": "2020-09-03T07:11:08.227629Z",
     "start_time": "2020-09-03T07:11:07.883659Z"
    },
    "code_folding": [],
    "hidden": true
   },
   "outputs": [
    {
     "data": {
      "image/png": "[encoded data removed]",
      "text/plain": [
       "<Figure size 432x288 with 1 Axes>"
      ]
     },
     "metadata": {
      "needs_background": "dark"
     },
     "output_type": "display_data"
    }
   ],
   "source": [
    "# Plot Price Prediction \n",
    "plt.plot(df_result_future['Price_True'].iloc[:-1,], label='True', alpha=1)\n",
    "plt.plot(df_result_future['Price_Predictions'], label='Predictions', alpha=3, ls=\":\", color='red')\n",
    "plt.title('True Price vs Prediction Price')\n",
    "plt.legend()\n",
    "plt.show()"
   ]
  },
  {
   "cell_type": "code",
   "execution_count": 112,
   "metadata": {
    "ExecuteTime": {
     "end_time": "2020-09-03T07:11:08.251630Z",
     "start_time": "2020-09-03T07:11:08.227629Z"
    },
    "code_folding": [
     0
    ],
    "hidden": true,
    "scrolled": true
   },
   "outputs": [
    {
     "name": "stdout",
     "output_type": "stream",
     "text": [
      "Predictor Feature: Volume_AAPL, Volume_SPY, Returns_SPY, Open_AAPL, Low_AAPL\n",
      "One Step Ahead result is 131.1104630421105\n",
      "R2 score Price Prediction:  75.08 %\n"
     ]
    }
   ],
   "source": [
    "# Statement\n",
    "print('Predictor Feature: ' + ', '.join(features))\n",
    "print('One Step Ahead result is', df_result_future['Price_Predictions'][-1])\n",
    "# Prediction R2 score\n",
    "r2 = round(\n",
    "    r2_score(df_result_future['Price_True'].iloc[:-1],\n",
    "             df_result_future['Price_Predictions'].iloc[:-1]) * 100, 2)\n",
    "print('R2 score Price Prediction: ', r2, '%')"
   ]
  },
  {
   "cell_type": "code",
   "execution_count": 114,
   "metadata": {
    "ExecuteTime": {
     "end_time": "2020-09-03T07:22:55.612382Z",
     "start_time": "2020-09-03T07:22:53.723543Z"
    },
    "code_folding": [],
    "hidden": true
   },
   "outputs": [
    {
     "name": "stdout",
     "output_type": "stream",
     "text": [
      "Do you want to save objects?(Yes/No) \n",
      "yes\n",
      "Saved object\n"
     ]
    }
   ],
   "source": [
    "# Save Objects\n",
    "# Put objects into dictionaries\n",
    "save_variables = {'Features': features, 'x_scaler': x_scaler, 'y_scaler': y_scaler}\n",
    "if input('Do you want to save objects?(Yes/No) \\n').upper() == 'YES':\n",
    "    with open('AAPL-5min.pickle', 'wb') as f:\n",
    "        pickle.dump(save_variables, f)\n",
    "    model.save('RNN_AAPL-5min.h5')\n",
    "    print('Saved object')\n",
    "else:\n",
    "    print('Did not save object')"
   ]
  },
  {
   "cell_type": "markdown",
   "metadata": {},
   "source": [
    "# Conclusion"
   ]
  },
  {
   "cell_type": "code",
   "execution_count": 579,
   "metadata": {
    "ExecuteTime": {
     "end_time": "2020-09-02T18:18:41.152668Z",
     "start_time": "2020-09-02T18:18:41.143675Z"
    }
   },
   "outputs": [
    {
     "name": "stdout",
     "output_type": "stream",
     "text": [
      "Predictor Feature: Volume_AAPL, Volume_SPY, Returns_SPY, Open_AAPL, Low_AAPL\n",
      "One Step Ahead result is 131.46403573066752\n",
      "R2 score Price Prediction:  73.4 %\n"
     ]
    }
   ],
   "source": [
    "# Statement\n",
    "print('Predictor Feature: ' + ', '.join(features))\n",
    "print('One Step Ahead result is', df_result_future['Price_Predictions'][-1])\n",
    "print('R2 score Price Prediction: ', r2, '%')"
   ]
  }
 ],
 "metadata": {
  "kernelspec": {
   "display_name": "Python 3",
   "language": "python",
   "name": "python3"
  },
  "language_info": {
   "codemirror_mode": {
    "name": "ipython",
    "version": 3
   },
   "file_extension": ".py",
   "mimetype": "text/x-python",
   "name": "python",
   "nbconvert_exporter": "python",
   "pygments_lexer": "ipython3",
   "version": "3.7.4"
  },
  "toc": {
   "base_numbering": 1,
   "nav_menu": {},
   "number_sections": false,
   "sideBar": true,
   "skip_h1_title": false,
   "title_cell": "Table of Contents",
   "title_sidebar": "Contents",
   "toc_cell": false,
   "toc_position": {
    "height": "calc(100% - 180px)",
    "left": "10px",
    "top": "150px",
    "width": "211.5px"
   },
   "toc_section_display": true,
   "toc_window_display": true
  },
  "varInspector": {
   "cols": {
    "lenName": 16,
    "lenType": 16,
    "lenVar": 40
   },
   "kernels_config": {
    "python": {
     "delete_cmd_postfix": "",
     "delete_cmd_prefix": "del ",
     "library": "var_list.py",
     "varRefreshCmd": "print(var_dic_list())"
    },
    "r": {
     "delete_cmd_postfix": ") ",
     "delete_cmd_prefix": "rm(",
     "library": "var_list.r",
     "varRefreshCmd": "cat(var_dic_list()) "
    }
   },
   "oldHeight": 519.98278,
   "position": {
    "height": "542.48px",
    "left": "1183px",
    "right": "20px",
    "top": "119px",
    "width": "314.746px"
   },
   "types_to_exclude": [
    "module",
    "function",
    "builtin_function_or_method",
    "instance",
    "_Feature"
   ],
   "varInspector_section_display": "block",
   "window_display": false
  }
 },
 "nbformat": 4,
 "nbformat_minor": 2
}
