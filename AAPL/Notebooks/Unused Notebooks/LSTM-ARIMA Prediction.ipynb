{
 "cells": [
  {
   "cell_type": "markdown",
   "metadata": {},
   "source": [
    "# Libraries"
   ]
  },
  {
   "cell_type": "code",
   "execution_count": 1,
   "metadata": {
    "ExecuteTime": {
     "end_time": "2020-08-11T09:11:04.783832Z",
     "start_time": "2020-08-11T09:10:50.824949Z"
    },
    "code_folding": [],
    "scrolled": true
   },
   "outputs": [],
   "source": [
    "# Basics\n",
    "import numpy as np\n",
    "import pandas as pd\n",
    "import matplotlib.pyplot as plt\n",
    "%matplotlib inline\n",
    "import matplotlib.dates as mdates\n",
    "import seaborn as sns\n",
    "import datetime\n",
    "from pandas.tseries.offsets import DateOffset\n",
    "import time\n",
    "import decimal\n",
    "import os\n",
    "import scipy.stats as stats\n",
    "from scipy.stats import norm\n",
    "import plotly.graph_objs as go\n",
    "import plotly.offline as pyoff\n",
    "from jupyterthemes import jtplot\n",
    "jtplot.style(theme='onedork')\n",
    "from tqdm import tqdm_notebook as tqdm"
   ]
  },
  {
   "cell_type": "code",
   "execution_count": 2,
   "metadata": {
    "ExecuteTime": {
     "end_time": "2020-08-11T09:11:23.444460Z",
     "start_time": "2020-08-11T09:11:04.821793Z"
    },
    "code_folding": []
   },
   "outputs": [
    {
     "name": "stderr",
     "output_type": "stream",
     "text": [
      "C:\\Users\\asus\\Anaconda3\\lib\\site-packages\\sklearn\\externals\\six.py:31: DeprecationWarning:\n",
      "\n",
      "The module is deprecated in version 0.21 and will be removed in version 0.23 since we've dropped support for Python 2.7. Please rely on the official version of six (https://pypi.org/project/six/).\n",
      "\n",
      "C:\\Users\\asus\\Anaconda3\\lib\\site-packages\\sklearn\\externals\\joblib\\__init__.py:15: DeprecationWarning:\n",
      "\n",
      "sklearn.externals.joblib is deprecated in 0.21 and will be removed in 0.23. Please import this functionality directly from joblib, which can be installed with: pip install joblib. If this warning is raised when loading pickled models, you may need to re-serialize those models with scikit-learn 0.21+.\n",
      "\n"
     ]
    }
   ],
   "source": [
    "# ARIMA Model\n",
    "from statsmodels.tsa.stattools import adfuller # ADF, check for seasonality of data\n",
    "from statsmodels.tsa.arima_model import ARIMA # ARIMA engine\n",
    "import pmdarima as pm # for automating ARIMA\n",
    "from statsmodels.graphics.tsaplots import plot_acf,plot_pacf\n",
    "from statsmodels.tsa.seasonal import seasonal_decompose\n",
    "from scipy.special import boxcox, inv_boxcox\n",
    "import statsmodels.api as sm"
   ]
  },
  {
   "cell_type": "code",
   "execution_count": 3,
   "metadata": {
    "ExecuteTime": {
     "end_time": "2020-08-11T09:12:00.089533Z",
     "start_time": "2020-08-11T09:11:23.482404Z"
    },
    "code_folding": []
   },
   "outputs": [
    {
     "name": "stderr",
     "output_type": "stream",
     "text": [
      "Using TensorFlow backend.\n"
     ]
    }
   ],
   "source": [
    "# LSTM packages\n",
    "from sklearn.preprocessing import MinMaxScaler\n",
    "from keras.models import Sequential\n",
    "from keras.layers import Dense, Dropout, LSTM\n",
    "from keras.preprocessing.sequence import TimeseriesGenerator\n",
    "from keras.optimizers import adam"
   ]
  },
  {
   "cell_type": "markdown",
   "metadata": {
    "heading_collapsed": true
   },
   "source": [
    "# Establish datapath"
   ]
  },
  {
   "cell_type": "code",
   "execution_count": 4,
   "metadata": {
    "ExecuteTime": {
     "end_time": "2020-08-11T09:12:00.150514Z",
     "start_time": "2020-08-11T09:12:00.122528Z"
    },
    "code_folding": [
     0
    ],
    "hidden": true
   },
   "outputs": [
    {
     "name": "stdout",
     "output_type": "stream",
     "text": [
      "['AAPL-15min.csv', 'AAPL-1d.csv', 'AAPL-1min.csv', 'AAPL-1mo.csv', 'AAPL-1wk.csv', 'AAPL-2min.csv', 'AAPL-30min.csv', 'AAPL-3mo.csv', 'AAPL-5d.csv', 'AAPL-5min.csv', 'AAPL-60min.csv', 'AAPL-90min.csv']\n"
     ]
    }
   ],
   "source": [
    "# Datapath\n",
    "os.chdir('C:\\\\Users\\\\asus\\\\Documents\\\\Python Projects\\\\Trading - Research and Backtest\\\\AAPL')\n",
    "datapath = os.getcwd() + '\\\\Databases\\\\'\n",
    "files = []\n",
    "for (dirpath, dirnames, filenames) in os.walk(datapath):\n",
    "    files.extend(filenames)\n",
    "    break\n",
    "print(files)"
   ]
  },
  {
   "cell_type": "code",
   "execution_count": 91,
   "metadata": {
    "ExecuteTime": {
     "end_time": "2020-08-11T09:54:13.016222Z",
     "start_time": "2020-08-11T09:54:12.718676Z"
    },
    "code_folding": [
     0
    ],
    "hidden": true
   },
   "outputs": [
    {
     "name": "stdout",
     "output_type": "stream",
     "text": [
      "Index(['Open', 'High', 'Low', 'Close', 'Adj Close', 'Volume', 'Dividends',\n",
      "       'Stock Splits'],\n",
      "      dtype='object')\n"
     ]
    },
    {
     "data": {
      "text/html": [
       "<div>\n",
       "<style scoped>\n",
       "    .dataframe tbody tr th:only-of-type {\n",
       "        vertical-align: middle;\n",
       "    }\n",
       "\n",
       "    .dataframe tbody tr th {\n",
       "        vertical-align: top;\n",
       "    }\n",
       "\n",
       "    .dataframe thead th {\n",
       "        text-align: right;\n",
       "    }\n",
       "</style>\n",
       "<table border=\"1\" class=\"dataframe\">\n",
       "  <thead>\n",
       "    <tr style=\"text-align: right;\">\n",
       "      <th></th>\n",
       "      <th>Close</th>\n",
       "    </tr>\n",
       "    <tr>\n",
       "      <th>Date</th>\n",
       "      <th></th>\n",
       "    </tr>\n",
       "  </thead>\n",
       "  <tbody>\n",
       "    <tr>\n",
       "      <td>2019-12-02</td>\n",
       "      <td>264.16</td>\n",
       "    </tr>\n",
       "    <tr>\n",
       "      <td>2019-12-03</td>\n",
       "      <td>259.45</td>\n",
       "    </tr>\n",
       "    <tr>\n",
       "      <td>2019-12-04</td>\n",
       "      <td>261.74</td>\n",
       "    </tr>\n",
       "    <tr>\n",
       "      <td>2019-12-05</td>\n",
       "      <td>265.58</td>\n",
       "    </tr>\n",
       "    <tr>\n",
       "      <td>2019-12-06</td>\n",
       "      <td>270.71</td>\n",
       "    </tr>\n",
       "  </tbody>\n",
       "</table>\n",
       "</div>"
      ],
      "text/plain": [
       "             Close\n",
       "Date              \n",
       "2019-12-02  264.16\n",
       "2019-12-03  259.45\n",
       "2019-12-04  261.74\n",
       "2019-12-05  265.58\n",
       "2019-12-06  270.71"
      ]
     },
     "execution_count": 91,
     "metadata": {},
     "output_type": "execute_result"
    }
   ],
   "source": [
    "# Load data\n",
    "interval = '1d'\n",
    "dt = pd.read_csv(datapath+'AAPL-'+interval+'.csv', parse_dates=True, index_col='Date')\n",
    "print(dt.columns)\n",
    "dt2 = dt.loc['2019-12-01':][['Close']].copy()\n",
    "dt2.head()"
   ]
  },
  {
   "cell_type": "markdown",
   "metadata": {},
   "source": [
    "# LSTM Model"
   ]
  },
  {
   "cell_type": "markdown",
   "metadata": {
    "heading_collapsed": true
   },
   "source": [
    "## Model training on train-test split set"
   ]
  },
  {
   "cell_type": "code",
   "execution_count": 64,
   "metadata": {
    "ExecuteTime": {
     "end_time": "2020-08-11T09:44:11.845001Z",
     "start_time": "2020-08-11T09:44:11.817987Z"
    },
    "code_folding": [
     0,
     8
    ],
    "deletable": false,
    "editable": false,
    "hidden": true,
    "run_control": {
     "frozen": true
    }
   },
   "outputs": [],
   "source": [
    "# Split data into train-test and scale\n",
    "#-----Split-----\n",
    "split_percentage = 0.8\n",
    "use_percent = True\n",
    "split_int = -40\n",
    "if use_percent:\n",
    "    train = pd.DataFrame(dt2['Close'].iloc[:int(len(dt2)*split_percentage)])\n",
    "    test = pd.DataFrame(dt2['Close'].iloc[int(len(dt2)*split_percentage):])\n",
    "else:\n",
    "    train = pd.DataFrame(dt2['4. close'].iloc[:split_int])\n",
    "    test = pd.DataFrame(dt2['4. close'].iloc[split_int:])\n",
    "    pass\n",
    "#-----Scale-----\n",
    "scaler = MinMaxScaler()\n",
    "scaler.fit(train)\n",
    "train = scaler.transform(train)\n",
    "test = scaler.transform(test)"
   ]
  },
  {
   "cell_type": "code",
   "execution_count": 242,
   "metadata": {
    "ExecuteTime": {
     "end_time": "2020-08-11T11:08:26.854343Z",
     "start_time": "2020-08-11T11:08:26.834359Z"
    },
    "code_folding": [],
    "hidden": true
   },
   "outputs": [],
   "source": [
    "# Split data into train-test-valid and scale\n",
    "#-----Split-----\n",
    "split_percentage = 0.8\n",
    "use_percent = True\n",
    "split_int = -40\n",
    "if use_percent:\n",
    "    train = pd.DataFrame(dt2['Close'].iloc[:int(len(dt2)*split_percentage)])\n",
    "    test = pd.DataFrame(dt2['Close'].iloc[int(len(dt2)*split_percentage):])\n",
    "    valid = test.iloc[int(len(test)*0.5):]\n",
    "    test = test.iloc[:int(len(test)*0.5)]\n",
    "else:\n",
    "    train = pd.DataFrame(dt2['4. close'].iloc[:split_int])\n",
    "    test = pd.DataFrame(dt2['4. close'].iloc[split_int:])\n",
    "    valid = test.iloc[int(len(test)*0.5):]\n",
    "    test = test.iloc[:int(len(test)*0.5)]\n",
    "    pass\n",
    "#-----Scale-----\n",
    "scaler = MinMaxScaler()\n",
    "scaler.fit(train)\n",
    "train_index = train.index\n",
    "train = scaler.transform(train)\n",
    "test_index = test.index\n",
    "test = scaler.transform(test)"
   ]
  },
  {
   "cell_type": "code",
   "execution_count": 243,
   "metadata": {
    "ExecuteTime": {
     "end_time": "2020-08-11T11:09:36.755003Z",
     "start_time": "2020-08-11T11:08:41.882996Z"
    },
    "code_folding": [],
    "hidden": true,
    "scrolled": true
   },
   "outputs": [
    {
     "data": {
      "application/vnd.jupyter.widget-view+json": {
       "model_id": "8439837f48f64e8382ff42dc8f98b666",
       "version_major": 2,
       "version_minor": 0
      },
      "text/plain": [
       "HBox(children=(IntProgress(value=0, max=200), HTML(value='')))"
      ]
     },
     "metadata": {},
     "output_type": "display_data"
    },
    {
     "name": "stdout",
     "output_type": "stream",
     "text": [
      "Epoch 1/1\n",
      " - 1s - loss: 0.4455\n",
      "Epoch 1/1\n",
      " - 0s - loss: 0.2196\n",
      "Epoch 1/1\n",
      " - 0s - loss: 0.0848\n",
      "Epoch 1/1\n",
      " - 0s - loss: 0.0316\n",
      "Epoch 1/1\n",
      " - 0s - loss: 0.0539\n",
      "Epoch 1/1\n",
      " - 0s - loss: 0.0371\n",
      "Epoch 1/1\n",
      " - 0s - loss: 0.0255\n",
      "Epoch 1/1\n",
      " - 0s - loss: 0.0486\n",
      "Epoch 1/1\n",
      " - 0s - loss: 0.0311\n",
      "Epoch 1/1\n",
      " - 0s - loss: 0.0359\n",
      "Epoch 1/1\n",
      " - 0s - loss: 0.0298\n",
      "Epoch 1/1\n",
      " - 0s - loss: 0.0295\n",
      "Epoch 1/1\n",
      " - 0s - loss: 0.0282\n",
      "Epoch 1/1\n",
      " - 0s - loss: 0.0240\n",
      "Epoch 1/1\n",
      " - 0s - loss: 0.0241\n",
      "Epoch 1/1\n",
      " - 0s - loss: 0.0269\n",
      "Epoch 1/1\n",
      " - 0s - loss: 0.0221\n",
      "Epoch 1/1\n",
      " - 0s - loss: 0.0245\n",
      "Epoch 1/1\n",
      " - 0s - loss: 0.0227\n",
      "Epoch 1/1\n",
      " - 0s - loss: 0.0269\n",
      "Epoch 1/1\n",
      " - 0s - loss: 0.0311\n",
      "Epoch 1/1\n",
      " - 0s - loss: 0.0220\n",
      "Epoch 1/1\n",
      " - 0s - loss: 0.0323\n",
      "Epoch 1/1\n",
      " - 0s - loss: 0.0201\n",
      "Epoch 1/1\n",
      " - 0s - loss: 0.0212\n",
      "Epoch 1/1\n",
      " - 0s - loss: 0.0184\n",
      "Epoch 1/1\n",
      " - 0s - loss: 0.0195\n",
      "Epoch 1/1\n",
      " - 0s - loss: 0.0176\n",
      "Epoch 1/1\n",
      " - 0s - loss: 0.0189\n",
      "Epoch 1/1\n",
      " - 0s - loss: 0.0198\n",
      "Epoch 1/1\n",
      " - 0s - loss: 0.0177\n",
      "Epoch 1/1\n",
      " - 0s - loss: 0.0188\n",
      "Epoch 1/1\n",
      " - 0s - loss: 0.0183\n",
      "Epoch 1/1\n",
      " - 0s - loss: 0.0179\n",
      "Epoch 1/1\n",
      " - 0s - loss: 0.0165\n",
      "Epoch 1/1\n",
      " - 0s - loss: 0.0226\n",
      "Epoch 1/1\n",
      " - 0s - loss: 0.0171\n",
      "Epoch 1/1\n",
      " - 0s - loss: 0.0152\n",
      "Epoch 1/1\n",
      " - 0s - loss: 0.0152\n",
      "Epoch 1/1\n",
      " - 0s - loss: 0.0189\n",
      "Epoch 1/1\n",
      " - 0s - loss: 0.0164\n",
      "Epoch 1/1\n",
      " - 0s - loss: 0.0146\n",
      "Epoch 1/1\n",
      " - 0s - loss: 0.0141\n",
      "Epoch 1/1\n",
      " - 0s - loss: 0.0206\n",
      "Epoch 1/1\n",
      " - 0s - loss: 0.0159\n",
      "Epoch 1/1\n",
      " - 0s - loss: 0.0207\n",
      "Epoch 1/1\n",
      " - 0s - loss: 0.0158\n",
      "Epoch 1/1\n",
      " - 0s - loss: 0.0138\n",
      "Epoch 1/1\n",
      " - 0s - loss: 0.0156\n",
      "Epoch 1/1\n",
      " - 0s - loss: 0.0148\n",
      "Epoch 1/1\n",
      " - 0s - loss: 0.0174\n",
      "Epoch 1/1\n",
      " - 0s - loss: 0.0153\n",
      "Epoch 1/1\n",
      " - 0s - loss: 0.0142\n",
      "Epoch 1/1\n",
      " - 0s - loss: 0.0130\n",
      "Epoch 1/1\n",
      " - 0s - loss: 0.0148\n",
      "Epoch 1/1\n",
      " - 0s - loss: 0.0151\n",
      "Epoch 1/1\n",
      " - 0s - loss: 0.0120\n",
      "Epoch 1/1\n",
      " - 0s - loss: 0.0142\n",
      "Epoch 1/1\n",
      " - 0s - loss: 0.0125\n",
      "Epoch 1/1\n",
      " - 0s - loss: 0.0119\n",
      "Epoch 1/1\n",
      " - 0s - loss: 0.0115\n",
      "Epoch 1/1\n",
      " - 0s - loss: 0.0169\n",
      "Epoch 1/1\n",
      " - 0s - loss: 0.0114\n",
      "Epoch 1/1\n",
      " - 0s - loss: 0.0153\n",
      "Epoch 1/1\n",
      " - 0s - loss: 0.0141\n",
      "Epoch 1/1\n",
      " - 0s - loss: 0.0115\n",
      "Epoch 1/1\n",
      " - 0s - loss: 0.0113\n",
      "Epoch 1/1\n",
      " - 0s - loss: 0.0157\n",
      "Epoch 1/1\n",
      " - 0s - loss: 0.0107\n",
      "Epoch 1/1\n",
      " - 0s - loss: 0.0094\n",
      "Epoch 1/1\n",
      " - 0s - loss: 0.0110\n",
      "Epoch 1/1\n",
      " - 0s - loss: 0.0121\n",
      "Epoch 1/1\n",
      " - 0s - loss: 0.0134\n",
      "Epoch 1/1\n",
      " - 0s - loss: 0.0148\n",
      "Epoch 1/1\n",
      " - 0s - loss: 0.0114\n",
      "Epoch 1/1\n",
      " - 0s - loss: 0.0123\n",
      "Epoch 1/1\n",
      " - 0s - loss: 0.0124\n",
      "Epoch 1/1\n",
      " - 0s - loss: 0.0132\n",
      "Epoch 1/1\n",
      " - 0s - loss: 0.0125\n",
      "Epoch 1/1\n",
      " - 0s - loss: 0.0141\n",
      "Epoch 1/1\n",
      " - 0s - loss: 0.0115\n",
      "Epoch 1/1\n",
      " - 0s - loss: 0.0119\n",
      "Epoch 1/1\n",
      " - 0s - loss: 0.0127\n",
      "Epoch 1/1\n",
      " - 0s - loss: 0.0089\n",
      "Epoch 1/1\n",
      " - 0s - loss: 0.0104\n",
      "Epoch 1/1\n",
      " - 0s - loss: 0.0133\n",
      "Epoch 1/1\n",
      " - 0s - loss: 0.0112\n",
      "Epoch 1/1\n",
      " - 0s - loss: 0.0089\n",
      "Epoch 1/1\n",
      " - 0s - loss: 0.0110\n",
      "Epoch 1/1\n",
      " - 0s - loss: 0.0093\n",
      "Epoch 1/1\n",
      " - 0s - loss: 0.0138\n",
      "Epoch 1/1\n",
      " - 0s - loss: 0.0098\n",
      "Epoch 1/1\n",
      " - 0s - loss: 0.0119\n",
      "Epoch 1/1\n",
      " - 0s - loss: 0.0103\n",
      "Epoch 1/1\n",
      " - 0s - loss: 0.0135\n",
      "Epoch 1/1\n",
      " - 0s - loss: 0.0100\n",
      "Epoch 1/1\n",
      " - 0s - loss: 0.0121\n",
      "Epoch 1/1\n",
      " - 0s - loss: 0.0112\n",
      "Epoch 1/1\n",
      " - 0s - loss: 0.0103\n",
      "Epoch 1/1\n",
      " - 0s - loss: 0.0087\n",
      "Epoch 1/1\n",
      " - 0s - loss: 0.0154\n",
      "Epoch 1/1\n",
      " - 0s - loss: 0.0110\n",
      "Epoch 1/1\n",
      " - 0s - loss: 0.0123\n",
      "Epoch 1/1\n",
      " - 0s - loss: 0.0103\n",
      "Epoch 1/1\n",
      " - 0s - loss: 0.0090\n",
      "Epoch 1/1\n",
      " - 0s - loss: 0.0106\n",
      "Epoch 1/1\n",
      " - 0s - loss: 0.0105\n",
      "Epoch 1/1\n",
      " - 0s - loss: 0.0106\n",
      "Epoch 1/1\n",
      " - 0s - loss: 0.0106\n",
      "Epoch 1/1\n",
      " - 0s - loss: 0.0087\n",
      "Epoch 1/1\n",
      " - 0s - loss: 0.0105\n",
      "Epoch 1/1\n",
      " - 0s - loss: 0.0123\n",
      "Epoch 1/1\n",
      " - 0s - loss: 0.0136\n",
      "Epoch 1/1\n",
      " - 0s - loss: 0.0107\n",
      "Epoch 1/1\n",
      " - 0s - loss: 0.0120\n",
      "Epoch 1/1\n",
      " - 0s - loss: 0.0092\n",
      "Epoch 1/1\n",
      " - 0s - loss: 0.0118\n",
      "Epoch 1/1\n",
      " - 0s - loss: 0.0088\n",
      "Epoch 1/1\n",
      " - 0s - loss: 0.0095\n",
      "Epoch 1/1\n",
      " - 0s - loss: 0.0097\n",
      "Epoch 1/1\n",
      " - 0s - loss: 0.0079\n",
      "Epoch 1/1\n",
      " - 0s - loss: 0.0094\n",
      "Epoch 1/1\n",
      " - 0s - loss: 0.0081\n",
      "Epoch 1/1\n",
      " - 0s - loss: 0.0108\n",
      "Epoch 1/1\n",
      " - 0s - loss: 0.0097\n",
      "Epoch 1/1\n",
      " - 0s - loss: 0.0116\n",
      "Epoch 1/1\n",
      " - 0s - loss: 0.0094\n",
      "Epoch 1/1\n",
      " - 0s - loss: 0.0092\n",
      "Epoch 1/1\n",
      " - 0s - loss: 0.0096\n",
      "Epoch 1/1\n",
      " - 0s - loss: 0.0092\n",
      "Epoch 1/1\n",
      " - 0s - loss: 0.0102\n",
      "Epoch 1/1\n",
      " - 0s - loss: 0.0097\n",
      "Epoch 1/1\n",
      " - 0s - loss: 0.0092\n",
      "Epoch 1/1\n",
      " - 0s - loss: 0.0097\n",
      "Epoch 1/1\n",
      " - 0s - loss: 0.0112\n",
      "Epoch 1/1\n",
      " - 0s - loss: 0.0097\n",
      "Epoch 1/1\n",
      " - 0s - loss: 0.0094\n",
      "Epoch 1/1\n",
      " - 0s - loss: 0.0088\n",
      "Epoch 1/1\n",
      " - 0s - loss: 0.0097\n",
      "Epoch 1/1\n",
      " - 0s - loss: 0.0097\n",
      "Epoch 1/1\n",
      " - 0s - loss: 0.0091\n",
      "Epoch 1/1\n",
      " - 0s - loss: 0.0090\n",
      "Epoch 1/1\n",
      " - 0s - loss: 0.0083\n",
      "Epoch 1/1\n",
      " - 0s - loss: 0.0101\n",
      "Epoch 1/1\n",
      " - 0s - loss: 0.0076\n",
      "Epoch 1/1\n",
      " - 0s - loss: 0.0074\n",
      "Epoch 1/1\n",
      " - 0s - loss: 0.0105\n",
      "Epoch 1/1\n",
      " - 0s - loss: 0.0101\n",
      "Epoch 1/1\n",
      " - 0s - loss: 0.0092\n",
      "Epoch 1/1\n",
      " - 0s - loss: 0.0075\n",
      "Epoch 1/1\n",
      " - 0s - loss: 0.0098\n",
      "Epoch 1/1\n",
      " - 0s - loss: 0.0088\n",
      "Epoch 1/1\n",
      " - 0s - loss: 0.0092\n",
      "Epoch 1/1\n",
      " - 0s - loss: 0.0118\n",
      "Epoch 1/1\n",
      " - 0s - loss: 0.0106\n",
      "Epoch 1/1\n",
      " - 0s - loss: 0.0074\n",
      "Epoch 1/1\n",
      " - 0s - loss: 0.0092\n",
      "Epoch 1/1\n",
      " - 0s - loss: 0.0077\n",
      "Epoch 1/1\n",
      " - 0s - loss: 0.0094\n",
      "Epoch 1/1\n",
      " - 0s - loss: 0.0083\n",
      "Epoch 1/1\n",
      " - 0s - loss: 0.0081\n",
      "Epoch 1/1\n",
      " - 0s - loss: 0.0098\n",
      "Epoch 1/1\n",
      " - 0s - loss: 0.0101\n",
      "Epoch 1/1\n",
      " - 0s - loss: 0.0095\n",
      "Epoch 1/1\n",
      " - 0s - loss: 0.0099\n",
      "Epoch 1/1\n",
      " - 0s - loss: 0.0092\n",
      "Epoch 1/1\n",
      " - 0s - loss: 0.0074\n",
      "Epoch 1/1\n",
      " - 0s - loss: 0.0110\n",
      "Epoch 1/1\n",
      " - 0s - loss: 0.0107\n",
      "Epoch 1/1\n",
      " - 0s - loss: 0.0081\n",
      "Epoch 1/1\n",
      " - 0s - loss: 0.0089\n",
      "Epoch 1/1\n",
      " - 0s - loss: 0.0098\n",
      "Epoch 1/1\n",
      " - 0s - loss: 0.0078\n",
      "Epoch 1/1\n",
      " - 0s - loss: 0.0118\n",
      "Epoch 1/1\n",
      " - 0s - loss: 0.0085\n",
      "Epoch 1/1\n",
      " - 0s - loss: 0.0084\n",
      "Epoch 1/1\n",
      " - 0s - loss: 0.0083\n",
      "Epoch 1/1\n",
      " - 0s - loss: 0.0070\n",
      "Epoch 1/1\n",
      " - 0s - loss: 0.0072\n",
      "Epoch 1/1\n",
      " - 0s - loss: 0.0076\n",
      "Epoch 1/1\n",
      " - 0s - loss: 0.0087\n",
      "Epoch 1/1\n",
      " - 0s - loss: 0.0073\n",
      "Epoch 1/1\n",
      " - 0s - loss: 0.0085\n",
      "Epoch 1/1\n",
      " - 0s - loss: 0.0084\n",
      "Epoch 1/1\n",
      " - 0s - loss: 0.0089\n",
      "Epoch 1/1\n",
      " - 0s - loss: 0.0077\n",
      "Epoch 1/1\n",
      " - 0s - loss: 0.0098\n",
      "Epoch 1/1\n",
      " - 0s - loss: 0.0072\n",
      "Epoch 1/1\n",
      " - 0s - loss: 0.0093\n",
      "Epoch 1/1\n",
      " - 0s - loss: 0.0085\n",
      "Epoch 1/1\n",
      " - 0s - loss: 0.0090\n",
      "Epoch 1/1\n",
      " - 0s - loss: 0.0091\n",
      "Epoch 1/1\n",
      " - 0s - loss: 0.0088\n",
      "Epoch 1/1\n",
      " - 0s - loss: 0.0077\n",
      "Epoch 1/1\n",
      " - 0s - loss: 0.0083\n",
      "Epoch 1/1\n",
      " - 0s - loss: 0.0080\n",
      "Epoch 1/1\n",
      " - 0s - loss: 0.0082\n",
      "Epoch 1/1\n",
      " - 0s - loss: 0.0073\n",
      "Epoch 1/1\n",
      " - 0s - loss: 0.0104\n",
      "Epoch 1/1\n",
      " - 0s - loss: 0.0097\n",
      "\n"
     ]
    }
   ],
   "source": [
    "# LSTM Model and train model to train set\n",
    "np.random.seed(14)\n",
    "n_input = len(test)\n",
    "n_features = 1\n",
    "generator = TimeseriesGenerator(train, train, length=n_input, batch_size=10)\n",
    "lstm_model = Sequential()\n",
    "lstm_model.add(LSTM(20, activation='tanh', input_shape=(n_input, n_features)))\n",
    "lstm_model.add(Dropout(0.2))\n",
    "lstm_model.add(Dense(1))\n",
    "lstm_model.compile(optimizer='adam', loss='mse')\n",
    "n_epochs = 200\n",
    "for n in tqdm(range(n_epochs)):\n",
    "    lstm_model.fit_generator(generator,epochs=1, shuffle = False, verbose = 2)\n",
    "#     lstm_model.reset_states()"
   ]
  },
  {
   "cell_type": "markdown",
   "metadata": {
    "heading_collapsed": true
   },
   "source": [
    "## Predictions on test data and in the future"
   ]
  },
  {
   "cell_type": "code",
   "execution_count": 238,
   "metadata": {
    "ExecuteTime": {
     "end_time": "2020-08-11T11:07:07.809034Z",
     "start_time": "2020-08-11T11:07:07.787048Z"
    },
    "code_folding": [
     0,
     5,
     13,
     14
    ],
    "hidden": true,
    "scrolled": false
   },
   "outputs": [],
   "source": [
    "# Predictions, result: df_proj\n",
    "do_predict = ['fixed', 'walk-forward', 'future']\n",
    "for x in do_predict:\n",
    "    pred_list = []\n",
    "    batch = train[-n_input:].reshape((1, n_input, n_features))\n",
    "    if x == 'fixed':\n",
    "        for i in tqdm(range(n_input)):\n",
    "            pred_list.append(lstm_model.predict(batch)[0]) \n",
    "            batch = np.append(batch[:,1:,:],[[pred_list[i]]],axis=1)\n",
    "            pass\n",
    "        df_predict = pd.DataFrame(scaler.inverse_transform(pred_list), index = test_index, \n",
    "                                  columns = ['Predictions'])\n",
    "        df_test = pd.concat([dt2, df_predict], axis = 1)\n",
    "    elif x == 'walk-forward':\n",
    "        for i in tqdm(range(n_input)):\n",
    "#             if (counter % 2) == 0:\n",
    "#                 train2 = np.append(train, test[i-1][0]).reshape(-1, 1)\n",
    "#                 generator = TimeseriesGenerator(train2, train2, length=n_input, batch_size=6)\n",
    "#                 lstm_model.fit_generator(generator,epochs=1, verbose = 0)\n",
    "#                 lstm_model.reset_states()\n",
    "            yhat = lstm_model.predict(batch)[0]\n",
    "            pred_list.append(yhat)\n",
    "            batch = np.append(batch[:,1:,:],[[test[i]]],axis=1)\n",
    "            pass\n",
    "        df_predict = pd.DataFrame(scaler.inverse_transform(pred_list), index = test_index, \n",
    "                          columns = ['Predictions walk forward'])\n",
    "        df_test = pd.concat([df_test, df_predict], axis = 1)\n",
    "    elif x == 'future':\n",
    "        train2 = pd.DataFrame(dt2['Close'].iloc[:-len(valid)])\n",
    "        scaler.fit(train2)\n",
    "        train2 = scaler.transform(train2)\n",
    "        n_input = len(test)\n",
    "        n_features = 1\n",
    "        generator = TimeseriesGenerator(train2, train2, length=n_input, batch_size=10)\n",
    "        lstm_model.fit_generator(generator,epochs=200, verbose = 0)\n",
    "        batch = train2[-n_input:].reshape((1, n_input, n_features))\n",
    "        for i in tqdm(range(n_input)):\n",
    "            pred_list.append(lstm_model.predict(batch)[0])      \n",
    "            batch = np.append(batch[:,1:,:],[[pred_list[i]]],axis=1)\n",
    "            pass\n",
    "#         pred_list.insert(0, test[-1])\n",
    "#         add_dates = [test_index[-1] + DateOffset(days = x) for x in range(0, n_input + 1)]\n",
    "        add_dates = valid.index[:-1]\n",
    "        future_dates = pd.DataFrame(index = add_dates, columns = dt2.columns)\n",
    "        df_predict = pd.DataFrame(scaler.inverse_transform(pred_list), index = future_dates.index, \n",
    "                                  columns = ['Future Predictions'])\n",
    "        df_proj = pd.concat([df_test, df_predict], axis = 1) "
   ]
  },
  {
   "cell_type": "code",
   "execution_count": 241,
   "metadata": {
    "ExecuteTime": {
     "end_time": "2020-08-11T11:07:52.523074Z",
     "start_time": "2020-08-11T11:07:52.380740Z"
    },
    "code_folding": [
     0
    ],
    "hidden": true
   },
   "outputs": [
    {
     "data": {
      "application/vnd.plotly.v1+json": {
       "config": {
        "linkText": "Export to plot.ly",
        "plotlyServerURL": "https://plot.ly",
        "showLink": false
       },
       "data": [
        {
         "name": "Training",
         "type": "scatter",
         "x": [
          "2019-12-02T00:00:00",
          "2019-12-03T00:00:00",
          "2019-12-04T00:00:00",
          "2019-12-05T00:00:00",
          "2019-12-06T00:00:00",
          "2019-12-09T00:00:00",
          "2019-12-10T00:00:00",
          "2019-12-11T00:00:00",
          "2019-12-12T00:00:00",
          "2019-12-13T00:00:00",
          "2019-12-16T00:00:00",
          "2019-12-17T00:00:00",
          "2019-12-18T00:00:00",
          "2019-12-19T00:00:00",
          "2019-12-20T00:00:00",
          "2019-12-23T00:00:00",
          "2019-12-24T00:00:00",
          "2019-12-26T00:00:00",
          "2019-12-27T00:00:00",
          "2019-12-30T00:00:00",
          "2019-12-31T00:00:00",
          "2020-01-02T00:00:00",
          "2020-01-03T00:00:00",
          "2020-01-06T00:00:00",
          "2020-01-07T00:00:00",
          "2020-01-08T00:00:00",
          "2020-01-09T00:00:00",
          "2020-01-10T00:00:00",
          "2020-01-13T00:00:00",
          "2020-01-14T00:00:00",
          "2020-01-15T00:00:00",
          "2020-01-16T00:00:00",
          "2020-01-17T00:00:00",
          "2020-01-21T00:00:00",
          "2020-01-22T00:00:00",
          "2020-01-23T00:00:00",
          "2020-01-24T00:00:00",
          "2020-01-27T00:00:00",
          "2020-01-28T00:00:00",
          "2020-01-29T00:00:00",
          "2020-01-30T00:00:00",
          "2020-01-31T00:00:00",
          "2020-02-03T00:00:00",
          "2020-02-04T00:00:00",
          "2020-02-05T00:00:00",
          "2020-02-06T00:00:00",
          "2020-02-07T00:00:00",
          "2020-02-10T00:00:00",
          "2020-02-11T00:00:00",
          "2020-02-12T00:00:00",
          "2020-02-13T00:00:00",
          "2020-02-14T00:00:00",
          "2020-02-18T00:00:00",
          "2020-02-19T00:00:00",
          "2020-02-20T00:00:00",
          "2020-02-21T00:00:00",
          "2020-02-24T00:00:00",
          "2020-02-25T00:00:00",
          "2020-02-26T00:00:00",
          "2020-02-27T00:00:00",
          "2020-02-28T00:00:00",
          "2020-03-02T00:00:00",
          "2020-03-03T00:00:00",
          "2020-03-04T00:00:00",
          "2020-03-05T00:00:00",
          "2020-03-06T00:00:00",
          "2020-03-09T00:00:00",
          "2020-03-10T00:00:00",
          "2020-03-11T00:00:00",
          "2020-03-12T00:00:00",
          "2020-03-13T00:00:00",
          "2020-03-16T00:00:00",
          "2020-03-17T00:00:00",
          "2020-03-18T00:00:00",
          "2020-03-19T00:00:00",
          "2020-03-20T00:00:00",
          "2020-03-23T00:00:00",
          "2020-03-24T00:00:00",
          "2020-03-25T00:00:00",
          "2020-03-26T00:00:00",
          "2020-03-27T00:00:00",
          "2020-03-30T00:00:00",
          "2020-03-31T00:00:00",
          "2020-04-01T00:00:00",
          "2020-04-02T00:00:00",
          "2020-04-03T00:00:00",
          "2020-04-06T00:00:00",
          "2020-04-07T00:00:00",
          "2020-04-08T00:00:00",
          "2020-04-09T00:00:00",
          "2020-04-13T00:00:00",
          "2020-04-14T00:00:00",
          "2020-04-15T00:00:00",
          "2020-04-16T00:00:00",
          "2020-04-17T00:00:00",
          "2020-04-20T00:00:00",
          "2020-04-21T00:00:00",
          "2020-04-22T00:00:00",
          "2020-04-23T00:00:00",
          "2020-04-24T00:00:00",
          "2020-04-27T00:00:00",
          "2020-04-28T00:00:00",
          "2020-04-29T00:00:00",
          "2020-04-30T00:00:00",
          "2020-05-01T00:00:00",
          "2020-05-04T00:00:00",
          "2020-05-05T00:00:00",
          "2020-05-06T00:00:00",
          "2020-05-07T00:00:00",
          "2020-05-08T00:00:00",
          "2020-05-11T00:00:00",
          "2020-05-12T00:00:00",
          "2020-05-13T00:00:00",
          "2020-05-14T00:00:00",
          "2020-05-15T00:00:00",
          "2020-05-18T00:00:00",
          "2020-05-19T00:00:00",
          "2020-05-20T00:00:00",
          "2020-05-21T00:00:00",
          "2020-05-22T00:00:00",
          "2020-05-26T00:00:00",
          "2020-05-27T00:00:00",
          "2020-05-28T00:00:00",
          "2020-05-29T00:00:00",
          "2020-06-01T00:00:00",
          "2020-06-02T00:00:00",
          "2020-06-03T00:00:00",
          "2020-06-04T00:00:00",
          "2020-06-05T00:00:00",
          "2020-06-08T00:00:00",
          "2020-06-09T00:00:00",
          "2020-06-10T00:00:00",
          "2020-06-11T00:00:00",
          "2020-06-12T00:00:00",
          "2020-06-15T00:00:00",
          "2020-06-16T00:00:00",
          "2020-06-17T00:00:00",
          "2020-06-18T00:00:00",
          "2020-06-19T00:00:00",
          "2020-06-22T00:00:00",
          "2020-06-23T00:00:00",
          "2020-06-24T00:00:00",
          "2020-06-25T00:00:00",
          "2020-06-26T00:00:00",
          "2020-06-29T00:00:00",
          "2020-06-30T00:00:00",
          "2020-07-01T00:00:00",
          "2020-07-02T00:00:00",
          "2020-07-06T00:00:00",
          "2020-07-07T00:00:00",
          "2020-07-08T00:00:00",
          "2020-07-09T00:00:00",
          "2020-07-10T00:00:00",
          "2020-07-13T00:00:00",
          "2020-07-14T00:00:00",
          "2020-07-15T00:00:00",
          "2020-07-16T00:00:00",
          "2020-07-17T00:00:00",
          "2020-07-20T00:00:00",
          "2020-07-21T00:00:00",
          "2020-07-22T00:00:00",
          "2020-07-23T00:00:00",
          "2020-07-24T00:00:00",
          "2020-07-27T00:00:00",
          "2020-07-28T00:00:00",
          "2020-07-29T00:00:00",
          "2020-07-30T00:00:00",
          "2020-07-31T00:00:00",
          "2020-08-03T00:00:00",
          "2020-08-04T00:00:00",
          "2020-08-05T00:00:00",
          "2020-08-06T00:00:00",
          "2020-08-07T00:00:00"
         ],
         "y": [
          264.16,
          259.45,
          261.74,
          265.58,
          270.71,
          266.92,
          268.48,
          270.77,
          271.46,
          275.15,
          279.86,
          280.41,
          279.74,
          280.02,
          279.44,
          284,
          284.27,
          289.91,
          289.8,
          291.52,
          293.65,
          300.35,
          297.43,
          299.8,
          298.39,
          303.19,
          309.63,
          310.33,
          316.96,
          312.68,
          311.34,
          315.24,
          318.73,
          316.57,
          317.7,
          319.23,
          318.31,
          308.95,
          317.69,
          324.34,
          323.87,
          309.51,
          308.66,
          318.85,
          321.45,
          325.21,
          320.03,
          321.55,
          319.61,
          327.2,
          324.87,
          324.95,
          319,
          323.62,
          320.3,
          313.05,
          298.18,
          288.08,
          292.65,
          273.52,
          273.36,
          298.81,
          289.32,
          302.74,
          292.92,
          289.03,
          266.17,
          285.34,
          275.43,
          248.23,
          277.97,
          242.21,
          252.86,
          246.67,
          244.78,
          229.24,
          224.37,
          246.88,
          245.52,
          258.44,
          247.74,
          254.81,
          254.29,
          240.91,
          244.93,
          241.41,
          262.47,
          259.43,
          266.07,
          267.99,
          273.25,
          287.05,
          284.43,
          286.69,
          282.8,
          276.93,
          268.37,
          276.1,
          275.03,
          282.97,
          283.17,
          278.58,
          287.73,
          293.8,
          289.07,
          293.16,
          297.56,
          300.63,
          303.74,
          310.13,
          315.01,
          311.41,
          307.65,
          309.54,
          307.71,
          314.96,
          313.14,
          319.23,
          316.85,
          318.89,
          316.73,
          318.11,
          318.25,
          317.94,
          321.85,
          323.34,
          325.12,
          322.32,
          331.5,
          333.46,
          343.99,
          352.84,
          335.9,
          338.8,
          342.99,
          352.08,
          351.59,
          351.73,
          349.72,
          358.87,
          366.53,
          360.06,
          364.84,
          353.63,
          361.78,
          364.8,
          364.11,
          364.11,
          373.85,
          372.69,
          381.37,
          383.01,
          383.68,
          381.91,
          388.23,
          390.9,
          386.09,
          385.31,
          393.43,
          388,
          389.09,
          371.38,
          370.46,
          379.24,
          373.01,
          380.16,
          384.76,
          425.04,
          435.75,
          438.66,
          440.25,
          455.61,
          444.45
         ]
        },
        {
         "name": "Predictions Fixed",
         "type": "scatter",
         "x": [
          "2019-12-02T00:00:00",
          "2019-12-03T00:00:00",
          "2019-12-04T00:00:00",
          "2019-12-05T00:00:00",
          "2019-12-06T00:00:00",
          "2019-12-09T00:00:00",
          "2019-12-10T00:00:00",
          "2019-12-11T00:00:00",
          "2019-12-12T00:00:00",
          "2019-12-13T00:00:00",
          "2019-12-16T00:00:00",
          "2019-12-17T00:00:00",
          "2019-12-18T00:00:00",
          "2019-12-19T00:00:00",
          "2019-12-20T00:00:00",
          "2019-12-23T00:00:00",
          "2019-12-24T00:00:00",
          "2019-12-26T00:00:00",
          "2019-12-27T00:00:00",
          "2019-12-30T00:00:00",
          "2019-12-31T00:00:00",
          "2020-01-02T00:00:00",
          "2020-01-03T00:00:00",
          "2020-01-06T00:00:00",
          "2020-01-07T00:00:00",
          "2020-01-08T00:00:00",
          "2020-01-09T00:00:00",
          "2020-01-10T00:00:00",
          "2020-01-13T00:00:00",
          "2020-01-14T00:00:00",
          "2020-01-15T00:00:00",
          "2020-01-16T00:00:00",
          "2020-01-17T00:00:00",
          "2020-01-21T00:00:00",
          "2020-01-22T00:00:00",
          "2020-01-23T00:00:00",
          "2020-01-24T00:00:00",
          "2020-01-27T00:00:00",
          "2020-01-28T00:00:00",
          "2020-01-29T00:00:00",
          "2020-01-30T00:00:00",
          "2020-01-31T00:00:00",
          "2020-02-03T00:00:00",
          "2020-02-04T00:00:00",
          "2020-02-05T00:00:00",
          "2020-02-06T00:00:00",
          "2020-02-07T00:00:00",
          "2020-02-10T00:00:00",
          "2020-02-11T00:00:00",
          "2020-02-12T00:00:00",
          "2020-02-13T00:00:00",
          "2020-02-14T00:00:00",
          "2020-02-18T00:00:00",
          "2020-02-19T00:00:00",
          "2020-02-20T00:00:00",
          "2020-02-21T00:00:00",
          "2020-02-24T00:00:00",
          "2020-02-25T00:00:00",
          "2020-02-26T00:00:00",
          "2020-02-27T00:00:00",
          "2020-02-28T00:00:00",
          "2020-03-02T00:00:00",
          "2020-03-03T00:00:00",
          "2020-03-04T00:00:00",
          "2020-03-05T00:00:00",
          "2020-03-06T00:00:00",
          "2020-03-09T00:00:00",
          "2020-03-10T00:00:00",
          "2020-03-11T00:00:00",
          "2020-03-12T00:00:00",
          "2020-03-13T00:00:00",
          "2020-03-16T00:00:00",
          "2020-03-17T00:00:00",
          "2020-03-18T00:00:00",
          "2020-03-19T00:00:00",
          "2020-03-20T00:00:00",
          "2020-03-23T00:00:00",
          "2020-03-24T00:00:00",
          "2020-03-25T00:00:00",
          "2020-03-26T00:00:00",
          "2020-03-27T00:00:00",
          "2020-03-30T00:00:00",
          "2020-03-31T00:00:00",
          "2020-04-01T00:00:00",
          "2020-04-02T00:00:00",
          "2020-04-03T00:00:00",
          "2020-04-06T00:00:00",
          "2020-04-07T00:00:00",
          "2020-04-08T00:00:00",
          "2020-04-09T00:00:00",
          "2020-04-13T00:00:00",
          "2020-04-14T00:00:00",
          "2020-04-15T00:00:00",
          "2020-04-16T00:00:00",
          "2020-04-17T00:00:00",
          "2020-04-20T00:00:00",
          "2020-04-21T00:00:00",
          "2020-04-22T00:00:00",
          "2020-04-23T00:00:00",
          "2020-04-24T00:00:00",
          "2020-04-27T00:00:00",
          "2020-04-28T00:00:00",
          "2020-04-29T00:00:00",
          "2020-04-30T00:00:00",
          "2020-05-01T00:00:00",
          "2020-05-04T00:00:00",
          "2020-05-05T00:00:00",
          "2020-05-06T00:00:00",
          "2020-05-07T00:00:00",
          "2020-05-08T00:00:00",
          "2020-05-11T00:00:00",
          "2020-05-12T00:00:00",
          "2020-05-13T00:00:00",
          "2020-05-14T00:00:00",
          "2020-05-15T00:00:00",
          "2020-05-18T00:00:00",
          "2020-05-19T00:00:00",
          "2020-05-20T00:00:00",
          "2020-05-21T00:00:00",
          "2020-05-22T00:00:00",
          "2020-05-26T00:00:00",
          "2020-05-27T00:00:00",
          "2020-05-28T00:00:00",
          "2020-05-29T00:00:00",
          "2020-06-01T00:00:00",
          "2020-06-02T00:00:00",
          "2020-06-03T00:00:00",
          "2020-06-04T00:00:00",
          "2020-06-05T00:00:00",
          "2020-06-08T00:00:00",
          "2020-06-09T00:00:00",
          "2020-06-10T00:00:00",
          "2020-06-11T00:00:00",
          "2020-06-12T00:00:00",
          "2020-06-15T00:00:00",
          "2020-06-16T00:00:00",
          "2020-06-17T00:00:00",
          "2020-06-18T00:00:00",
          "2020-06-19T00:00:00",
          "2020-06-22T00:00:00",
          "2020-06-23T00:00:00",
          "2020-06-24T00:00:00",
          "2020-06-25T00:00:00",
          "2020-06-26T00:00:00",
          "2020-06-29T00:00:00",
          "2020-06-30T00:00:00",
          "2020-07-01T00:00:00",
          "2020-07-02T00:00:00",
          "2020-07-06T00:00:00",
          "2020-07-07T00:00:00",
          "2020-07-08T00:00:00",
          "2020-07-09T00:00:00",
          "2020-07-10T00:00:00",
          "2020-07-13T00:00:00",
          "2020-07-14T00:00:00",
          "2020-07-15T00:00:00",
          "2020-07-16T00:00:00",
          "2020-07-17T00:00:00",
          "2020-07-20T00:00:00",
          "2020-07-21T00:00:00",
          "2020-07-22T00:00:00",
          "2020-07-23T00:00:00",
          "2020-07-24T00:00:00",
          "2020-07-27T00:00:00",
          "2020-07-28T00:00:00",
          "2020-07-29T00:00:00",
          "2020-07-30T00:00:00",
          "2020-07-31T00:00:00",
          "2020-08-03T00:00:00",
          "2020-08-04T00:00:00",
          "2020-08-05T00:00:00",
          "2020-08-06T00:00:00",
          "2020-08-07T00:00:00"
         ],
         "y": [
          null,
          null,
          null,
          null,
          null,
          null,
          null,
          null,
          null,
          null,
          null,
          null,
          null,
          null,
          null,
          null,
          null,
          null,
          null,
          null,
          null,
          null,
          null,
          null,
          null,
          null,
          null,
          null,
          null,
          null,
          null,
          null,
          null,
          null,
          null,
          null,
          null,
          null,
          null,
          null,
          null,
          null,
          null,
          null,
          null,
          null,
          null,
          null,
          null,
          null,
          null,
          null,
          null,
          null,
          null,
          null,
          null,
          null,
          null,
          null,
          null,
          null,
          null,
          null,
          null,
          null,
          null,
          null,
          null,
          null,
          null,
          null,
          null,
          null,
          null,
          null,
          null,
          null,
          null,
          null,
          null,
          null,
          null,
          null,
          null,
          null,
          null,
          null,
          null,
          null,
          null,
          null,
          null,
          null,
          null,
          null,
          null,
          null,
          null,
          null,
          null,
          null,
          null,
          null,
          null,
          null,
          null,
          null,
          null,
          null,
          null,
          null,
          null,
          null,
          null,
          null,
          null,
          null,
          null,
          null,
          null,
          null,
          null,
          null,
          null,
          null,
          null,
          null,
          null,
          null,
          null,
          null,
          null,
          null,
          null,
          null,
          null,
          null,
          384.14361256241807,
          383.6826480960847,
          382.46367118835457,
          380.6706300723553,
          378.38428655862816,
          375.66921884179123,
          372.5777086937428,
          369.16612041592606,
          365.4673486483098,
          361.53262034654625,
          357.39514268875126,
          353.0958874726296,
          348.71735500216494,
          344.29637594461445,
          339.87500621438033,
          335.4851833033562,
          331.1709946238995,
          null,
          null,
          null,
          null,
          null,
          null,
          null,
          null,
          null,
          null,
          null,
          null,
          null,
          null,
          null,
          null,
          null,
          null
         ]
        },
        {
         "name": "Predictions WF",
         "type": "scatter",
         "x": [
          "2019-12-02T00:00:00",
          "2019-12-03T00:00:00",
          "2019-12-04T00:00:00",
          "2019-12-05T00:00:00",
          "2019-12-06T00:00:00",
          "2019-12-09T00:00:00",
          "2019-12-10T00:00:00",
          "2019-12-11T00:00:00",
          "2019-12-12T00:00:00",
          "2019-12-13T00:00:00",
          "2019-12-16T00:00:00",
          "2019-12-17T00:00:00",
          "2019-12-18T00:00:00",
          "2019-12-19T00:00:00",
          "2019-12-20T00:00:00",
          "2019-12-23T00:00:00",
          "2019-12-24T00:00:00",
          "2019-12-26T00:00:00",
          "2019-12-27T00:00:00",
          "2019-12-30T00:00:00",
          "2019-12-31T00:00:00",
          "2020-01-02T00:00:00",
          "2020-01-03T00:00:00",
          "2020-01-06T00:00:00",
          "2020-01-07T00:00:00",
          "2020-01-08T00:00:00",
          "2020-01-09T00:00:00",
          "2020-01-10T00:00:00",
          "2020-01-13T00:00:00",
          "2020-01-14T00:00:00",
          "2020-01-15T00:00:00",
          "2020-01-16T00:00:00",
          "2020-01-17T00:00:00",
          "2020-01-21T00:00:00",
          "2020-01-22T00:00:00",
          "2020-01-23T00:00:00",
          "2020-01-24T00:00:00",
          "2020-01-27T00:00:00",
          "2020-01-28T00:00:00",
          "2020-01-29T00:00:00",
          "2020-01-30T00:00:00",
          "2020-01-31T00:00:00",
          "2020-02-03T00:00:00",
          "2020-02-04T00:00:00",
          "2020-02-05T00:00:00",
          "2020-02-06T00:00:00",
          "2020-02-07T00:00:00",
          "2020-02-10T00:00:00",
          "2020-02-11T00:00:00",
          "2020-02-12T00:00:00",
          "2020-02-13T00:00:00",
          "2020-02-14T00:00:00",
          "2020-02-18T00:00:00",
          "2020-02-19T00:00:00",
          "2020-02-20T00:00:00",
          "2020-02-21T00:00:00",
          "2020-02-24T00:00:00",
          "2020-02-25T00:00:00",
          "2020-02-26T00:00:00",
          "2020-02-27T00:00:00",
          "2020-02-28T00:00:00",
          "2020-03-02T00:00:00",
          "2020-03-03T00:00:00",
          "2020-03-04T00:00:00",
          "2020-03-05T00:00:00",
          "2020-03-06T00:00:00",
          "2020-03-09T00:00:00",
          "2020-03-10T00:00:00",
          "2020-03-11T00:00:00",
          "2020-03-12T00:00:00",
          "2020-03-13T00:00:00",
          "2020-03-16T00:00:00",
          "2020-03-17T00:00:00",
          "2020-03-18T00:00:00",
          "2020-03-19T00:00:00",
          "2020-03-20T00:00:00",
          "2020-03-23T00:00:00",
          "2020-03-24T00:00:00",
          "2020-03-25T00:00:00",
          "2020-03-26T00:00:00",
          "2020-03-27T00:00:00",
          "2020-03-30T00:00:00",
          "2020-03-31T00:00:00",
          "2020-04-01T00:00:00",
          "2020-04-02T00:00:00",
          "2020-04-03T00:00:00",
          "2020-04-06T00:00:00",
          "2020-04-07T00:00:00",
          "2020-04-08T00:00:00",
          "2020-04-09T00:00:00",
          "2020-04-13T00:00:00",
          "2020-04-14T00:00:00",
          "2020-04-15T00:00:00",
          "2020-04-16T00:00:00",
          "2020-04-17T00:00:00",
          "2020-04-20T00:00:00",
          "2020-04-21T00:00:00",
          "2020-04-22T00:00:00",
          "2020-04-23T00:00:00",
          "2020-04-24T00:00:00",
          "2020-04-27T00:00:00",
          "2020-04-28T00:00:00",
          "2020-04-29T00:00:00",
          "2020-04-30T00:00:00",
          "2020-05-01T00:00:00",
          "2020-05-04T00:00:00",
          "2020-05-05T00:00:00",
          "2020-05-06T00:00:00",
          "2020-05-07T00:00:00",
          "2020-05-08T00:00:00",
          "2020-05-11T00:00:00",
          "2020-05-12T00:00:00",
          "2020-05-13T00:00:00",
          "2020-05-14T00:00:00",
          "2020-05-15T00:00:00",
          "2020-05-18T00:00:00",
          "2020-05-19T00:00:00",
          "2020-05-20T00:00:00",
          "2020-05-21T00:00:00",
          "2020-05-22T00:00:00",
          "2020-05-26T00:00:00",
          "2020-05-27T00:00:00",
          "2020-05-28T00:00:00",
          "2020-05-29T00:00:00",
          "2020-06-01T00:00:00",
          "2020-06-02T00:00:00",
          "2020-06-03T00:00:00",
          "2020-06-04T00:00:00",
          "2020-06-05T00:00:00",
          "2020-06-08T00:00:00",
          "2020-06-09T00:00:00",
          "2020-06-10T00:00:00",
          "2020-06-11T00:00:00",
          "2020-06-12T00:00:00",
          "2020-06-15T00:00:00",
          "2020-06-16T00:00:00",
          "2020-06-17T00:00:00",
          "2020-06-18T00:00:00",
          "2020-06-19T00:00:00",
          "2020-06-22T00:00:00",
          "2020-06-23T00:00:00",
          "2020-06-24T00:00:00",
          "2020-06-25T00:00:00",
          "2020-06-26T00:00:00",
          "2020-06-29T00:00:00",
          "2020-06-30T00:00:00",
          "2020-07-01T00:00:00",
          "2020-07-02T00:00:00",
          "2020-07-06T00:00:00",
          "2020-07-07T00:00:00",
          "2020-07-08T00:00:00",
          "2020-07-09T00:00:00",
          "2020-07-10T00:00:00",
          "2020-07-13T00:00:00",
          "2020-07-14T00:00:00",
          "2020-07-15T00:00:00",
          "2020-07-16T00:00:00",
          "2020-07-17T00:00:00",
          "2020-07-20T00:00:00",
          "2020-07-21T00:00:00",
          "2020-07-22T00:00:00",
          "2020-07-23T00:00:00",
          "2020-07-24T00:00:00",
          "2020-07-27T00:00:00",
          "2020-07-28T00:00:00",
          "2020-07-29T00:00:00",
          "2020-07-30T00:00:00",
          "2020-07-31T00:00:00",
          "2020-08-03T00:00:00",
          "2020-08-04T00:00:00",
          "2020-08-05T00:00:00",
          "2020-08-06T00:00:00",
          "2020-08-07T00:00:00"
         ],
         "y": [
          null,
          null,
          null,
          null,
          null,
          null,
          null,
          null,
          null,
          null,
          null,
          null,
          null,
          null,
          null,
          null,
          null,
          null,
          null,
          null,
          null,
          null,
          null,
          null,
          null,
          null,
          null,
          null,
          null,
          null,
          null,
          null,
          null,
          null,
          null,
          null,
          null,
          null,
          null,
          null,
          null,
          null,
          null,
          null,
          null,
          null,
          null,
          null,
          null,
          null,
          null,
          null,
          null,
          null,
          null,
          null,
          null,
          null,
          null,
          null,
          null,
          null,
          null,
          null,
          null,
          null,
          null,
          null,
          null,
          null,
          null,
          null,
          null,
          null,
          null,
          null,
          null,
          null,
          null,
          null,
          null,
          null,
          null,
          null,
          null,
          null,
          null,
          null,
          null,
          null,
          null,
          null,
          null,
          null,
          null,
          null,
          null,
          null,
          null,
          null,
          null,
          null,
          null,
          null,
          null,
          null,
          null,
          null,
          null,
          null,
          null,
          null,
          null,
          null,
          null,
          null,
          null,
          null,
          null,
          null,
          null,
          null,
          null,
          null,
          null,
          null,
          null,
          null,
          null,
          null,
          null,
          null,
          null,
          null,
          null,
          null,
          null,
          null,
          384.14361256241807,
          383.7332109081746,
          388.3134476852418,
          396.2765875983239,
          397.6465594983102,
          400.32587089777,
          394.7124709081651,
          394.74255270481115,
          396.9507323813439,
          398.16037221193324,
          398.7237417554856,
          404.919966788292,
          408.7561576724053,
          416.3132519316674,
          422.3696356773377,
          426.08760900735865,
          426.45329817295084,
          null,
          null,
          null,
          null,
          null,
          null,
          null,
          null,
          null,
          null,
          null,
          null,
          null,
          null,
          null,
          null,
          null,
          null
         ]
        },
        {
         "name": "Future Predictions",
         "type": "scatter",
         "x": [
          "2019-12-02T00:00:00",
          "2019-12-03T00:00:00",
          "2019-12-04T00:00:00",
          "2019-12-05T00:00:00",
          "2019-12-06T00:00:00",
          "2019-12-09T00:00:00",
          "2019-12-10T00:00:00",
          "2019-12-11T00:00:00",
          "2019-12-12T00:00:00",
          "2019-12-13T00:00:00",
          "2019-12-16T00:00:00",
          "2019-12-17T00:00:00",
          "2019-12-18T00:00:00",
          "2019-12-19T00:00:00",
          "2019-12-20T00:00:00",
          "2019-12-23T00:00:00",
          "2019-12-24T00:00:00",
          "2019-12-26T00:00:00",
          "2019-12-27T00:00:00",
          "2019-12-30T00:00:00",
          "2019-12-31T00:00:00",
          "2020-01-02T00:00:00",
          "2020-01-03T00:00:00",
          "2020-01-06T00:00:00",
          "2020-01-07T00:00:00",
          "2020-01-08T00:00:00",
          "2020-01-09T00:00:00",
          "2020-01-10T00:00:00",
          "2020-01-13T00:00:00",
          "2020-01-14T00:00:00",
          "2020-01-15T00:00:00",
          "2020-01-16T00:00:00",
          "2020-01-17T00:00:00",
          "2020-01-21T00:00:00",
          "2020-01-22T00:00:00",
          "2020-01-23T00:00:00",
          "2020-01-24T00:00:00",
          "2020-01-27T00:00:00",
          "2020-01-28T00:00:00",
          "2020-01-29T00:00:00",
          "2020-01-30T00:00:00",
          "2020-01-31T00:00:00",
          "2020-02-03T00:00:00",
          "2020-02-04T00:00:00",
          "2020-02-05T00:00:00",
          "2020-02-06T00:00:00",
          "2020-02-07T00:00:00",
          "2020-02-10T00:00:00",
          "2020-02-11T00:00:00",
          "2020-02-12T00:00:00",
          "2020-02-13T00:00:00",
          "2020-02-14T00:00:00",
          "2020-02-18T00:00:00",
          "2020-02-19T00:00:00",
          "2020-02-20T00:00:00",
          "2020-02-21T00:00:00",
          "2020-02-24T00:00:00",
          "2020-02-25T00:00:00",
          "2020-02-26T00:00:00",
          "2020-02-27T00:00:00",
          "2020-02-28T00:00:00",
          "2020-03-02T00:00:00",
          "2020-03-03T00:00:00",
          "2020-03-04T00:00:00",
          "2020-03-05T00:00:00",
          "2020-03-06T00:00:00",
          "2020-03-09T00:00:00",
          "2020-03-10T00:00:00",
          "2020-03-11T00:00:00",
          "2020-03-12T00:00:00",
          "2020-03-13T00:00:00",
          "2020-03-16T00:00:00",
          "2020-03-17T00:00:00",
          "2020-03-18T00:00:00",
          "2020-03-19T00:00:00",
          "2020-03-20T00:00:00",
          "2020-03-23T00:00:00",
          "2020-03-24T00:00:00",
          "2020-03-25T00:00:00",
          "2020-03-26T00:00:00",
          "2020-03-27T00:00:00",
          "2020-03-30T00:00:00",
          "2020-03-31T00:00:00",
          "2020-04-01T00:00:00",
          "2020-04-02T00:00:00",
          "2020-04-03T00:00:00",
          "2020-04-06T00:00:00",
          "2020-04-07T00:00:00",
          "2020-04-08T00:00:00",
          "2020-04-09T00:00:00",
          "2020-04-13T00:00:00",
          "2020-04-14T00:00:00",
          "2020-04-15T00:00:00",
          "2020-04-16T00:00:00",
          "2020-04-17T00:00:00",
          "2020-04-20T00:00:00",
          "2020-04-21T00:00:00",
          "2020-04-22T00:00:00",
          "2020-04-23T00:00:00",
          "2020-04-24T00:00:00",
          "2020-04-27T00:00:00",
          "2020-04-28T00:00:00",
          "2020-04-29T00:00:00",
          "2020-04-30T00:00:00",
          "2020-05-01T00:00:00",
          "2020-05-04T00:00:00",
          "2020-05-05T00:00:00",
          "2020-05-06T00:00:00",
          "2020-05-07T00:00:00",
          "2020-05-08T00:00:00",
          "2020-05-11T00:00:00",
          "2020-05-12T00:00:00",
          "2020-05-13T00:00:00",
          "2020-05-14T00:00:00",
          "2020-05-15T00:00:00",
          "2020-05-18T00:00:00",
          "2020-05-19T00:00:00",
          "2020-05-20T00:00:00",
          "2020-05-21T00:00:00",
          "2020-05-22T00:00:00",
          "2020-05-26T00:00:00",
          "2020-05-27T00:00:00",
          "2020-05-28T00:00:00",
          "2020-05-29T00:00:00",
          "2020-06-01T00:00:00",
          "2020-06-02T00:00:00",
          "2020-06-03T00:00:00",
          "2020-06-04T00:00:00",
          "2020-06-05T00:00:00",
          "2020-06-08T00:00:00",
          "2020-06-09T00:00:00",
          "2020-06-10T00:00:00",
          "2020-06-11T00:00:00",
          "2020-06-12T00:00:00",
          "2020-06-15T00:00:00",
          "2020-06-16T00:00:00",
          "2020-06-17T00:00:00",
          "2020-06-18T00:00:00",
          "2020-06-19T00:00:00",
          "2020-06-22T00:00:00",
          "2020-06-23T00:00:00",
          "2020-06-24T00:00:00",
          "2020-06-25T00:00:00",
          "2020-06-26T00:00:00",
          "2020-06-29T00:00:00",
          "2020-06-30T00:00:00",
          "2020-07-01T00:00:00",
          "2020-07-02T00:00:00",
          "2020-07-06T00:00:00",
          "2020-07-07T00:00:00",
          "2020-07-08T00:00:00",
          "2020-07-09T00:00:00",
          "2020-07-10T00:00:00",
          "2020-07-13T00:00:00",
          "2020-07-14T00:00:00",
          "2020-07-15T00:00:00",
          "2020-07-16T00:00:00",
          "2020-07-17T00:00:00",
          "2020-07-20T00:00:00",
          "2020-07-21T00:00:00",
          "2020-07-22T00:00:00",
          "2020-07-23T00:00:00",
          "2020-07-24T00:00:00",
          "2020-07-27T00:00:00",
          "2020-07-28T00:00:00",
          "2020-07-29T00:00:00",
          "2020-07-30T00:00:00",
          "2020-07-31T00:00:00",
          "2020-08-03T00:00:00",
          "2020-08-04T00:00:00",
          "2020-08-05T00:00:00",
          "2020-08-06T00:00:00",
          "2020-08-07T00:00:00"
         ],
         "y": [
          null,
          null,
          null,
          null,
          null,
          null,
          null,
          null,
          null,
          null,
          null,
          null,
          null,
          null,
          null,
          null,
          null,
          null,
          null,
          null,
          null,
          null,
          null,
          null,
          null,
          null,
          null,
          null,
          null,
          null,
          null,
          null,
          null,
          null,
          null,
          null,
          null,
          null,
          null,
          null,
          null,
          null,
          null,
          null,
          null,
          null,
          null,
          null,
          null,
          null,
          null,
          null,
          null,
          null,
          null,
          null,
          null,
          null,
          null,
          null,
          null,
          null,
          null,
          null,
          null,
          null,
          null,
          null,
          null,
          null,
          null,
          null,
          null,
          null,
          null,
          null,
          null,
          null,
          null,
          null,
          null,
          null,
          null,
          null,
          null,
          null,
          null,
          null,
          null,
          null,
          null,
          null,
          null,
          null,
          null,
          null,
          null,
          null,
          null,
          null,
          null,
          null,
          null,
          null,
          null,
          null,
          null,
          null,
          null,
          null,
          null,
          null,
          null,
          null,
          null,
          null,
          null,
          null,
          null,
          null,
          null,
          null,
          null,
          null,
          null,
          null,
          null,
          null,
          null,
          null,
          null,
          null,
          null,
          null,
          null,
          null,
          null,
          null,
          null,
          null,
          null,
          null,
          null,
          null,
          null,
          null,
          null,
          null,
          null,
          null,
          null,
          null,
          null,
          null,
          null,
          386.12779028892527,
          386.66340253829964,
          386.9162849664689,
          387.08306313514714,
          387.11405324578294,
          387.00386401534087,
          386.6615956771374,
          386.1218325304986,
          385.36001103043566,
          384.36494817137725,
          383.1446625101567,
          381.7401160776616,
          380.1273997056485,
          378.34425237536436,
          376.37017353773126,
          374.19975237607963,
          371.8223625934125,
          null
         ]
        },
        {
         "name": "Data Validation",
         "type": "scatter",
         "x": [
          "2020-07-15T00:00:00",
          "2020-07-16T00:00:00",
          "2020-07-17T00:00:00",
          "2020-07-20T00:00:00",
          "2020-07-21T00:00:00",
          "2020-07-22T00:00:00",
          "2020-07-23T00:00:00",
          "2020-07-24T00:00:00",
          "2020-07-27T00:00:00",
          "2020-07-28T00:00:00",
          "2020-07-29T00:00:00",
          "2020-07-30T00:00:00",
          "2020-07-31T00:00:00",
          "2020-08-03T00:00:00",
          "2020-08-04T00:00:00",
          "2020-08-05T00:00:00",
          "2020-08-06T00:00:00",
          "2020-08-07T00:00:00"
         ],
         "y": [
          390.9,
          386.09,
          385.31,
          393.43,
          388,
          389.09,
          371.38,
          370.46,
          379.24,
          373.01,
          380.16,
          384.76,
          425.04,
          435.75,
          438.66,
          440.25,
          455.61,
          444.45
         ]
        }
       ],
       "layout": {
        "template": {
         "data": {
          "bar": [
           {
            "error_x": {
             "color": "#2a3f5f"
            },
            "error_y": {
             "color": "#2a3f5f"
            },
            "marker": {
             "line": {
              "color": "#E5ECF6",
              "width": 0.5
             }
            },
            "type": "bar"
           }
          ],
          "barpolar": [
           {
            "marker": {
             "line": {
              "color": "#E5ECF6",
              "width": 0.5
             }
            },
            "type": "barpolar"
           }
          ],
          "carpet": [
           {
            "aaxis": {
             "endlinecolor": "#2a3f5f",
             "gridcolor": "white",
             "linecolor": "white",
             "minorgridcolor": "white",
             "startlinecolor": "#2a3f5f"
            },
            "baxis": {
             "endlinecolor": "#2a3f5f",
             "gridcolor": "white",
             "linecolor": "white",
             "minorgridcolor": "white",
             "startlinecolor": "#2a3f5f"
            },
            "type": "carpet"
           }
          ],
          "choropleth": [
           {
            "colorbar": {
             "outlinewidth": 0,
             "ticks": ""
            },
            "type": "choropleth"
           }
          ],
          "contour": [
           {
            "colorbar": {
             "outlinewidth": 0,
             "ticks": ""
            },
            "colorscale": [
             [
              0,
              "#0d0887"
             ],
             [
              0.1111111111111111,
              "#46039f"
             ],
             [
              0.2222222222222222,
              "#7201a8"
             ],
             [
              0.3333333333333333,
              "#9c179e"
             ],
             [
              0.4444444444444444,
              "#bd3786"
             ],
             [
              0.5555555555555556,
              "#d8576b"
             ],
             [
              0.6666666666666666,
              "#ed7953"
             ],
             [
              0.7777777777777778,
              "#fb9f3a"
             ],
             [
              0.8888888888888888,
              "#fdca26"
             ],
             [
              1,
              "#f0f921"
             ]
            ],
            "type": "contour"
           }
          ],
          "contourcarpet": [
           {
            "colorbar": {
             "outlinewidth": 0,
             "ticks": ""
            },
            "type": "contourcarpet"
           }
          ],
          "heatmap": [
           {
            "colorbar": {
             "outlinewidth": 0,
             "ticks": ""
            },
            "colorscale": [
             [
              0,
              "#0d0887"
             ],
             [
              0.1111111111111111,
              "#46039f"
             ],
             [
              0.2222222222222222,
              "#7201a8"
             ],
             [
              0.3333333333333333,
              "#9c179e"
             ],
             [
              0.4444444444444444,
              "#bd3786"
             ],
             [
              0.5555555555555556,
              "#d8576b"
             ],
             [
              0.6666666666666666,
              "#ed7953"
             ],
             [
              0.7777777777777778,
              "#fb9f3a"
             ],
             [
              0.8888888888888888,
              "#fdca26"
             ],
             [
              1,
              "#f0f921"
             ]
            ],
            "type": "heatmap"
           }
          ],
          "heatmapgl": [
           {
            "colorbar": {
             "outlinewidth": 0,
             "ticks": ""
            },
            "colorscale": [
             [
              0,
              "#0d0887"
             ],
             [
              0.1111111111111111,
              "#46039f"
             ],
             [
              0.2222222222222222,
              "#7201a8"
             ],
             [
              0.3333333333333333,
              "#9c179e"
             ],
             [
              0.4444444444444444,
              "#bd3786"
             ],
             [
              0.5555555555555556,
              "#d8576b"
             ],
             [
              0.6666666666666666,
              "#ed7953"
             ],
             [
              0.7777777777777778,
              "#fb9f3a"
             ],
             [
              0.8888888888888888,
              "#fdca26"
             ],
             [
              1,
              "#f0f921"
             ]
            ],
            "type": "heatmapgl"
           }
          ],
          "histogram": [
           {
            "marker": {
             "colorbar": {
              "outlinewidth": 0,
              "ticks": ""
             }
            },
            "type": "histogram"
           }
          ],
          "histogram2d": [
           {
            "colorbar": {
             "outlinewidth": 0,
             "ticks": ""
            },
            "colorscale": [
             [
              0,
              "#0d0887"
             ],
             [
              0.1111111111111111,
              "#46039f"
             ],
             [
              0.2222222222222222,
              "#7201a8"
             ],
             [
              0.3333333333333333,
              "#9c179e"
             ],
             [
              0.4444444444444444,
              "#bd3786"
             ],
             [
              0.5555555555555556,
              "#d8576b"
             ],
             [
              0.6666666666666666,
              "#ed7953"
             ],
             [
              0.7777777777777778,
              "#fb9f3a"
             ],
             [
              0.8888888888888888,
              "#fdca26"
             ],
             [
              1,
              "#f0f921"
             ]
            ],
            "type": "histogram2d"
           }
          ],
          "histogram2dcontour": [
           {
            "colorbar": {
             "outlinewidth": 0,
             "ticks": ""
            },
            "colorscale": [
             [
              0,
              "#0d0887"
             ],
             [
              0.1111111111111111,
              "#46039f"
             ],
             [
              0.2222222222222222,
              "#7201a8"
             ],
             [
              0.3333333333333333,
              "#9c179e"
             ],
             [
              0.4444444444444444,
              "#bd3786"
             ],
             [
              0.5555555555555556,
              "#d8576b"
             ],
             [
              0.6666666666666666,
              "#ed7953"
             ],
             [
              0.7777777777777778,
              "#fb9f3a"
             ],
             [
              0.8888888888888888,
              "#fdca26"
             ],
             [
              1,
              "#f0f921"
             ]
            ],
            "type": "histogram2dcontour"
           }
          ],
          "mesh3d": [
           {
            "colorbar": {
             "outlinewidth": 0,
             "ticks": ""
            },
            "type": "mesh3d"
           }
          ],
          "parcoords": [
           {
            "line": {
             "colorbar": {
              "outlinewidth": 0,
              "ticks": ""
             }
            },
            "type": "parcoords"
           }
          ],
          "pie": [
           {
            "automargin": true,
            "type": "pie"
           }
          ],
          "scatter": [
           {
            "marker": {
             "colorbar": {
              "outlinewidth": 0,
              "ticks": ""
             }
            },
            "type": "scatter"
           }
          ],
          "scatter3d": [
           {
            "line": {
             "colorbar": {
              "outlinewidth": 0,
              "ticks": ""
             }
            },
            "marker": {
             "colorbar": {
              "outlinewidth": 0,
              "ticks": ""
             }
            },
            "type": "scatter3d"
           }
          ],
          "scattercarpet": [
           {
            "marker": {
             "colorbar": {
              "outlinewidth": 0,
              "ticks": ""
             }
            },
            "type": "scattercarpet"
           }
          ],
          "scattergeo": [
           {
            "marker": {
             "colorbar": {
              "outlinewidth": 0,
              "ticks": ""
             }
            },
            "type": "scattergeo"
           }
          ],
          "scattergl": [
           {
            "marker": {
             "colorbar": {
              "outlinewidth": 0,
              "ticks": ""
             }
            },
            "type": "scattergl"
           }
          ],
          "scattermapbox": [
           {
            "marker": {
             "colorbar": {
              "outlinewidth": 0,
              "ticks": ""
             }
            },
            "type": "scattermapbox"
           }
          ],
          "scatterpolar": [
           {
            "marker": {
             "colorbar": {
              "outlinewidth": 0,
              "ticks": ""
             }
            },
            "type": "scatterpolar"
           }
          ],
          "scatterpolargl": [
           {
            "marker": {
             "colorbar": {
              "outlinewidth": 0,
              "ticks": ""
             }
            },
            "type": "scatterpolargl"
           }
          ],
          "scatterternary": [
           {
            "marker": {
             "colorbar": {
              "outlinewidth": 0,
              "ticks": ""
             }
            },
            "type": "scatterternary"
           }
          ],
          "surface": [
           {
            "colorbar": {
             "outlinewidth": 0,
             "ticks": ""
            },
            "colorscale": [
             [
              0,
              "#0d0887"
             ],
             [
              0.1111111111111111,
              "#46039f"
             ],
             [
              0.2222222222222222,
              "#7201a8"
             ],
             [
              0.3333333333333333,
              "#9c179e"
             ],
             [
              0.4444444444444444,
              "#bd3786"
             ],
             [
              0.5555555555555556,
              "#d8576b"
             ],
             [
              0.6666666666666666,
              "#ed7953"
             ],
             [
              0.7777777777777778,
              "#fb9f3a"
             ],
             [
              0.8888888888888888,
              "#fdca26"
             ],
             [
              1,
              "#f0f921"
             ]
            ],
            "type": "surface"
           }
          ],
          "table": [
           {
            "cells": {
             "fill": {
              "color": "#EBF0F8"
             },
             "line": {
              "color": "white"
             }
            },
            "header": {
             "fill": {
              "color": "#C8D4E3"
             },
             "line": {
              "color": "white"
             }
            },
            "type": "table"
           }
          ]
         },
         "layout": {
          "annotationdefaults": {
           "arrowcolor": "#2a3f5f",
           "arrowhead": 0,
           "arrowwidth": 1
          },
          "coloraxis": {
           "colorbar": {
            "outlinewidth": 0,
            "ticks": ""
           }
          },
          "colorscale": {
           "diverging": [
            [
             0,
             "#8e0152"
            ],
            [
             0.1,
             "#c51b7d"
            ],
            [
             0.2,
             "#de77ae"
            ],
            [
             0.3,
             "#f1b6da"
            ],
            [
             0.4,
             "#fde0ef"
            ],
            [
             0.5,
             "#f7f7f7"
            ],
            [
             0.6,
             "#e6f5d0"
            ],
            [
             0.7,
             "#b8e186"
            ],
            [
             0.8,
             "#7fbc41"
            ],
            [
             0.9,
             "#4d9221"
            ],
            [
             1,
             "#276419"
            ]
           ],
           "sequential": [
            [
             0,
             "#0d0887"
            ],
            [
             0.1111111111111111,
             "#46039f"
            ],
            [
             0.2222222222222222,
             "#7201a8"
            ],
            [
             0.3333333333333333,
             "#9c179e"
            ],
            [
             0.4444444444444444,
             "#bd3786"
            ],
            [
             0.5555555555555556,
             "#d8576b"
            ],
            [
             0.6666666666666666,
             "#ed7953"
            ],
            [
             0.7777777777777778,
             "#fb9f3a"
            ],
            [
             0.8888888888888888,
             "#fdca26"
            ],
            [
             1,
             "#f0f921"
            ]
           ],
           "sequentialminus": [
            [
             0,
             "#0d0887"
            ],
            [
             0.1111111111111111,
             "#46039f"
            ],
            [
             0.2222222222222222,
             "#7201a8"
            ],
            [
             0.3333333333333333,
             "#9c179e"
            ],
            [
             0.4444444444444444,
             "#bd3786"
            ],
            [
             0.5555555555555556,
             "#d8576b"
            ],
            [
             0.6666666666666666,
             "#ed7953"
            ],
            [
             0.7777777777777778,
             "#fb9f3a"
            ],
            [
             0.8888888888888888,
             "#fdca26"
            ],
            [
             1,
             "#f0f921"
            ]
           ]
          },
          "colorway": [
           "#636efa",
           "#EF553B",
           "#00cc96",
           "#ab63fa",
           "#FFA15A",
           "#19d3f3",
           "#FF6692",
           "#B6E880",
           "#FF97FF",
           "#FECB52"
          ],
          "font": {
           "color": "#2a3f5f"
          },
          "geo": {
           "bgcolor": "white",
           "lakecolor": "white",
           "landcolor": "#E5ECF6",
           "showlakes": true,
           "showland": true,
           "subunitcolor": "white"
          },
          "hoverlabel": {
           "align": "left"
          },
          "hovermode": "closest",
          "mapbox": {
           "style": "light"
          },
          "paper_bgcolor": "white",
          "plot_bgcolor": "#E5ECF6",
          "polar": {
           "angularaxis": {
            "gridcolor": "white",
            "linecolor": "white",
            "ticks": ""
           },
           "bgcolor": "#E5ECF6",
           "radialaxis": {
            "gridcolor": "white",
            "linecolor": "white",
            "ticks": ""
           }
          },
          "scene": {
           "xaxis": {
            "backgroundcolor": "#E5ECF6",
            "gridcolor": "white",
            "gridwidth": 2,
            "linecolor": "white",
            "showbackground": true,
            "ticks": "",
            "zerolinecolor": "white"
           },
           "yaxis": {
            "backgroundcolor": "#E5ECF6",
            "gridcolor": "white",
            "gridwidth": 2,
            "linecolor": "white",
            "showbackground": true,
            "ticks": "",
            "zerolinecolor": "white"
           },
           "zaxis": {
            "backgroundcolor": "#E5ECF6",
            "gridcolor": "white",
            "gridwidth": 2,
            "linecolor": "white",
            "showbackground": true,
            "ticks": "",
            "zerolinecolor": "white"
           }
          },
          "shapedefaults": {
           "line": {
            "color": "#2a3f5f"
           }
          },
          "ternary": {
           "aaxis": {
            "gridcolor": "white",
            "linecolor": "white",
            "ticks": ""
           },
           "baxis": {
            "gridcolor": "white",
            "linecolor": "white",
            "ticks": ""
           },
           "bgcolor": "#E5ECF6",
           "caxis": {
            "gridcolor": "white",
            "linecolor": "white",
            "ticks": ""
           }
          },
          "title": {
           "x": 0.05
          },
          "xaxis": {
           "automargin": true,
           "gridcolor": "white",
           "linecolor": "white",
           "ticks": "",
           "title": {
            "standoff": 15
           },
           "zerolinecolor": "white",
           "zerolinewidth": 2
          },
          "yaxis": {
           "automargin": true,
           "gridcolor": "white",
           "linecolor": "white",
           "ticks": "",
           "title": {
            "standoff": 15
           },
           "zerolinecolor": "white",
           "zerolinewidth": 2
          }
         }
        },
        "title": {
         "text": "AAPL Price Predictions"
        }
       }
      },
      "text/html": [
       "<div>\n",
       "        \n",
       "        \n",
       "            <div id=\"dfb68fbb-473e-4c54-a5c7-78921d52b40b\" class=\"plotly-graph-div\" style=\"height:525px; width:100%;\"></div>\n",
       "            <script type=\"text/javascript\">\n",
       "                require([\"plotly\"], function(Plotly) {\n",
       "                    window.PLOTLYENV=window.PLOTLYENV || {};\n",
       "                    \n",
       "                if (document.getElementById(\"dfb68fbb-473e-4c54-a5c7-78921d52b40b\")) {\n",
       "                    Plotly.newPlot(\n",
       "                        'dfb68fbb-473e-4c54-a5c7-78921d52b40b',\n",
       "                        [{\"name\": \"Training\", \"type\": \"scatter\", \"x\": [\"2019-12-02T00:00:00\", \"2019-12-03T00:00:00\", \"2019-12-04T00:00:00\", \"2019-12-05T00:00:00\", \"2019-12-06T00:00:00\", \"2019-12-09T00:00:00\", \"2019-12-10T00:00:00\", \"2019-12-11T00:00:00\", \"2019-12-12T00:00:00\", \"2019-12-13T00:00:00\", \"2019-12-16T00:00:00\", \"2019-12-17T00:00:00\", \"2019-12-18T00:00:00\", \"2019-12-19T00:00:00\", \"2019-12-20T00:00:00\", \"2019-12-23T00:00:00\", \"2019-12-24T00:00:00\", \"2019-12-26T00:00:00\", \"2019-12-27T00:00:00\", \"2019-12-30T00:00:00\", \"2019-12-31T00:00:00\", \"2020-01-02T00:00:00\", \"2020-01-03T00:00:00\", \"2020-01-06T00:00:00\", \"2020-01-07T00:00:00\", \"2020-01-08T00:00:00\", \"2020-01-09T00:00:00\", \"2020-01-10T00:00:00\", \"2020-01-13T00:00:00\", \"2020-01-14T00:00:00\", \"2020-01-15T00:00:00\", \"2020-01-16T00:00:00\", \"2020-01-17T00:00:00\", \"2020-01-21T00:00:00\", \"2020-01-22T00:00:00\", \"2020-01-23T00:00:00\", \"2020-01-24T00:00:00\", \"2020-01-27T00:00:00\", \"2020-01-28T00:00:00\", \"2020-01-29T00:00:00\", \"2020-01-30T00:00:00\", \"2020-01-31T00:00:00\", \"2020-02-03T00:00:00\", \"2020-02-04T00:00:00\", \"2020-02-05T00:00:00\", \"2020-02-06T00:00:00\", \"2020-02-07T00:00:00\", \"2020-02-10T00:00:00\", \"2020-02-11T00:00:00\", \"2020-02-12T00:00:00\", \"2020-02-13T00:00:00\", \"2020-02-14T00:00:00\", \"2020-02-18T00:00:00\", \"2020-02-19T00:00:00\", \"2020-02-20T00:00:00\", \"2020-02-21T00:00:00\", \"2020-02-24T00:00:00\", \"2020-02-25T00:00:00\", \"2020-02-26T00:00:00\", \"2020-02-27T00:00:00\", \"2020-02-28T00:00:00\", \"2020-03-02T00:00:00\", \"2020-03-03T00:00:00\", \"2020-03-04T00:00:00\", \"2020-03-05T00:00:00\", \"2020-03-06T00:00:00\", \"2020-03-09T00:00:00\", \"2020-03-10T00:00:00\", \"2020-03-11T00:00:00\", \"2020-03-12T00:00:00\", \"2020-03-13T00:00:00\", \"2020-03-16T00:00:00\", \"2020-03-17T00:00:00\", \"2020-03-18T00:00:00\", \"2020-03-19T00:00:00\", \"2020-03-20T00:00:00\", \"2020-03-23T00:00:00\", \"2020-03-24T00:00:00\", \"2020-03-25T00:00:00\", \"2020-03-26T00:00:00\", \"2020-03-27T00:00:00\", \"2020-03-30T00:00:00\", \"2020-03-31T00:00:00\", \"2020-04-01T00:00:00\", \"2020-04-02T00:00:00\", \"2020-04-03T00:00:00\", \"2020-04-06T00:00:00\", \"2020-04-07T00:00:00\", \"2020-04-08T00:00:00\", \"2020-04-09T00:00:00\", \"2020-04-13T00:00:00\", \"2020-04-14T00:00:00\", \"2020-04-15T00:00:00\", \"2020-04-16T00:00:00\", \"2020-04-17T00:00:00\", \"2020-04-20T00:00:00\", \"2020-04-21T00:00:00\", \"2020-04-22T00:00:00\", \"2020-04-23T00:00:00\", \"2020-04-24T00:00:00\", \"2020-04-27T00:00:00\", \"2020-04-28T00:00:00\", \"2020-04-29T00:00:00\", \"2020-04-30T00:00:00\", \"2020-05-01T00:00:00\", \"2020-05-04T00:00:00\", \"2020-05-05T00:00:00\", \"2020-05-06T00:00:00\", \"2020-05-07T00:00:00\", \"2020-05-08T00:00:00\", \"2020-05-11T00:00:00\", \"2020-05-12T00:00:00\", \"2020-05-13T00:00:00\", \"2020-05-14T00:00:00\", \"2020-05-15T00:00:00\", \"2020-05-18T00:00:00\", \"2020-05-19T00:00:00\", \"2020-05-20T00:00:00\", \"2020-05-21T00:00:00\", \"2020-05-22T00:00:00\", \"2020-05-26T00:00:00\", \"2020-05-27T00:00:00\", \"2020-05-28T00:00:00\", \"2020-05-29T00:00:00\", \"2020-06-01T00:00:00\", \"2020-06-02T00:00:00\", \"2020-06-03T00:00:00\", \"2020-06-04T00:00:00\", \"2020-06-05T00:00:00\", \"2020-06-08T00:00:00\", \"2020-06-09T00:00:00\", \"2020-06-10T00:00:00\", \"2020-06-11T00:00:00\", \"2020-06-12T00:00:00\", \"2020-06-15T00:00:00\", \"2020-06-16T00:00:00\", \"2020-06-17T00:00:00\", \"2020-06-18T00:00:00\", \"2020-06-19T00:00:00\", \"2020-06-22T00:00:00\", \"2020-06-23T00:00:00\", \"2020-06-24T00:00:00\", \"2020-06-25T00:00:00\", \"2020-06-26T00:00:00\", \"2020-06-29T00:00:00\", \"2020-06-30T00:00:00\", \"2020-07-01T00:00:00\", \"2020-07-02T00:00:00\", \"2020-07-06T00:00:00\", \"2020-07-07T00:00:00\", \"2020-07-08T00:00:00\", \"2020-07-09T00:00:00\", \"2020-07-10T00:00:00\", \"2020-07-13T00:00:00\", \"2020-07-14T00:00:00\", \"2020-07-15T00:00:00\", \"2020-07-16T00:00:00\", \"2020-07-17T00:00:00\", \"2020-07-20T00:00:00\", \"2020-07-21T00:00:00\", \"2020-07-22T00:00:00\", \"2020-07-23T00:00:00\", \"2020-07-24T00:00:00\", \"2020-07-27T00:00:00\", \"2020-07-28T00:00:00\", \"2020-07-29T00:00:00\", \"2020-07-30T00:00:00\", \"2020-07-31T00:00:00\", \"2020-08-03T00:00:00\", \"2020-08-04T00:00:00\", \"2020-08-05T00:00:00\", \"2020-08-06T00:00:00\", \"2020-08-07T00:00:00\"], \"y\": [264.16, 259.45, 261.74, 265.58, 270.71, 266.92, 268.48, 270.77, 271.46, 275.15, 279.86, 280.41, 279.74, 280.02, 279.44, 284.0, 284.27, 289.91, 289.8, 291.52, 293.65, 300.35, 297.43, 299.8, 298.39, 303.19, 309.63, 310.33, 316.96, 312.68, 311.34, 315.24, 318.73, 316.57, 317.7, 319.23, 318.31, 308.95, 317.69, 324.34, 323.87, 309.51, 308.66, 318.85, 321.45, 325.21, 320.03, 321.55, 319.61, 327.2, 324.87, 324.95, 319.0, 323.62, 320.3, 313.05, 298.18, 288.08, 292.65, 273.52, 273.36, 298.81, 289.32, 302.74, 292.92, 289.03, 266.17, 285.34, 275.43, 248.23, 277.97, 242.21, 252.86, 246.67, 244.78, 229.24, 224.37, 246.88, 245.52, 258.44, 247.74, 254.81, 254.29, 240.91, 244.93, 241.41, 262.47, 259.43, 266.07, 267.99, 273.25, 287.05, 284.43, 286.69, 282.8, 276.93, 268.37, 276.1, 275.03, 282.97, 283.17, 278.58, 287.73, 293.8, 289.07, 293.16, 297.56, 300.63, 303.74, 310.13, 315.01, 311.41, 307.65, 309.54, 307.71, 314.96, 313.14, 319.23, 316.85, 318.89, 316.73, 318.11, 318.25, 317.94, 321.85, 323.34, 325.12, 322.32, 331.5, 333.46, 343.99, 352.84, 335.9, 338.8, 342.99, 352.08, 351.59, 351.73, 349.72, 358.87, 366.53, 360.06, 364.84, 353.63, 361.78, 364.8, 364.11, 364.11, 373.85, 372.69, 381.37, 383.01, 383.68, 381.91, 388.23, 390.9, 386.09, 385.31, 393.43, 388.0, 389.09, 371.38, 370.46, 379.24, 373.01, 380.16, 384.76, 425.04, 435.75, 438.66, 440.25, 455.61, 444.45]}, {\"name\": \"Predictions Fixed\", \"type\": \"scatter\", \"x\": [\"2019-12-02T00:00:00\", \"2019-12-03T00:00:00\", \"2019-12-04T00:00:00\", \"2019-12-05T00:00:00\", \"2019-12-06T00:00:00\", \"2019-12-09T00:00:00\", \"2019-12-10T00:00:00\", \"2019-12-11T00:00:00\", \"2019-12-12T00:00:00\", \"2019-12-13T00:00:00\", \"2019-12-16T00:00:00\", \"2019-12-17T00:00:00\", \"2019-12-18T00:00:00\", \"2019-12-19T00:00:00\", \"2019-12-20T00:00:00\", \"2019-12-23T00:00:00\", \"2019-12-24T00:00:00\", \"2019-12-26T00:00:00\", \"2019-12-27T00:00:00\", \"2019-12-30T00:00:00\", \"2019-12-31T00:00:00\", \"2020-01-02T00:00:00\", \"2020-01-03T00:00:00\", \"2020-01-06T00:00:00\", \"2020-01-07T00:00:00\", \"2020-01-08T00:00:00\", \"2020-01-09T00:00:00\", \"2020-01-10T00:00:00\", \"2020-01-13T00:00:00\", \"2020-01-14T00:00:00\", \"2020-01-15T00:00:00\", \"2020-01-16T00:00:00\", \"2020-01-17T00:00:00\", \"2020-01-21T00:00:00\", \"2020-01-22T00:00:00\", \"2020-01-23T00:00:00\", \"2020-01-24T00:00:00\", \"2020-01-27T00:00:00\", \"2020-01-28T00:00:00\", \"2020-01-29T00:00:00\", \"2020-01-30T00:00:00\", \"2020-01-31T00:00:00\", \"2020-02-03T00:00:00\", \"2020-02-04T00:00:00\", \"2020-02-05T00:00:00\", \"2020-02-06T00:00:00\", \"2020-02-07T00:00:00\", \"2020-02-10T00:00:00\", \"2020-02-11T00:00:00\", \"2020-02-12T00:00:00\", \"2020-02-13T00:00:00\", \"2020-02-14T00:00:00\", \"2020-02-18T00:00:00\", \"2020-02-19T00:00:00\", \"2020-02-20T00:00:00\", \"2020-02-21T00:00:00\", \"2020-02-24T00:00:00\", \"2020-02-25T00:00:00\", \"2020-02-26T00:00:00\", \"2020-02-27T00:00:00\", \"2020-02-28T00:00:00\", \"2020-03-02T00:00:00\", \"2020-03-03T00:00:00\", \"2020-03-04T00:00:00\", \"2020-03-05T00:00:00\", \"2020-03-06T00:00:00\", \"2020-03-09T00:00:00\", \"2020-03-10T00:00:00\", \"2020-03-11T00:00:00\", \"2020-03-12T00:00:00\", \"2020-03-13T00:00:00\", \"2020-03-16T00:00:00\", \"2020-03-17T00:00:00\", \"2020-03-18T00:00:00\", \"2020-03-19T00:00:00\", \"2020-03-20T00:00:00\", \"2020-03-23T00:00:00\", \"2020-03-24T00:00:00\", \"2020-03-25T00:00:00\", \"2020-03-26T00:00:00\", \"2020-03-27T00:00:00\", \"2020-03-30T00:00:00\", \"2020-03-31T00:00:00\", \"2020-04-01T00:00:00\", \"2020-04-02T00:00:00\", \"2020-04-03T00:00:00\", \"2020-04-06T00:00:00\", \"2020-04-07T00:00:00\", \"2020-04-08T00:00:00\", \"2020-04-09T00:00:00\", \"2020-04-13T00:00:00\", \"2020-04-14T00:00:00\", \"2020-04-15T00:00:00\", \"2020-04-16T00:00:00\", \"2020-04-17T00:00:00\", \"2020-04-20T00:00:00\", \"2020-04-21T00:00:00\", \"2020-04-22T00:00:00\", \"2020-04-23T00:00:00\", \"2020-04-24T00:00:00\", \"2020-04-27T00:00:00\", \"2020-04-28T00:00:00\", \"2020-04-29T00:00:00\", \"2020-04-30T00:00:00\", \"2020-05-01T00:00:00\", \"2020-05-04T00:00:00\", \"2020-05-05T00:00:00\", \"2020-05-06T00:00:00\", \"2020-05-07T00:00:00\", \"2020-05-08T00:00:00\", \"2020-05-11T00:00:00\", \"2020-05-12T00:00:00\", \"2020-05-13T00:00:00\", \"2020-05-14T00:00:00\", \"2020-05-15T00:00:00\", \"2020-05-18T00:00:00\", \"2020-05-19T00:00:00\", \"2020-05-20T00:00:00\", \"2020-05-21T00:00:00\", \"2020-05-22T00:00:00\", \"2020-05-26T00:00:00\", \"2020-05-27T00:00:00\", \"2020-05-28T00:00:00\", \"2020-05-29T00:00:00\", \"2020-06-01T00:00:00\", \"2020-06-02T00:00:00\", \"2020-06-03T00:00:00\", \"2020-06-04T00:00:00\", \"2020-06-05T00:00:00\", \"2020-06-08T00:00:00\", \"2020-06-09T00:00:00\", \"2020-06-10T00:00:00\", \"2020-06-11T00:00:00\", \"2020-06-12T00:00:00\", \"2020-06-15T00:00:00\", \"2020-06-16T00:00:00\", \"2020-06-17T00:00:00\", \"2020-06-18T00:00:00\", \"2020-06-19T00:00:00\", \"2020-06-22T00:00:00\", \"2020-06-23T00:00:00\", \"2020-06-24T00:00:00\", \"2020-06-25T00:00:00\", \"2020-06-26T00:00:00\", \"2020-06-29T00:00:00\", \"2020-06-30T00:00:00\", \"2020-07-01T00:00:00\", \"2020-07-02T00:00:00\", \"2020-07-06T00:00:00\", \"2020-07-07T00:00:00\", \"2020-07-08T00:00:00\", \"2020-07-09T00:00:00\", \"2020-07-10T00:00:00\", \"2020-07-13T00:00:00\", \"2020-07-14T00:00:00\", \"2020-07-15T00:00:00\", \"2020-07-16T00:00:00\", \"2020-07-17T00:00:00\", \"2020-07-20T00:00:00\", \"2020-07-21T00:00:00\", \"2020-07-22T00:00:00\", \"2020-07-23T00:00:00\", \"2020-07-24T00:00:00\", \"2020-07-27T00:00:00\", \"2020-07-28T00:00:00\", \"2020-07-29T00:00:00\", \"2020-07-30T00:00:00\", \"2020-07-31T00:00:00\", \"2020-08-03T00:00:00\", \"2020-08-04T00:00:00\", \"2020-08-05T00:00:00\", \"2020-08-06T00:00:00\", \"2020-08-07T00:00:00\"], \"y\": [null, null, null, null, null, null, null, null, null, null, null, null, null, null, null, null, null, null, null, null, null, null, null, null, null, null, null, null, null, null, null, null, null, null, null, null, null, null, null, null, null, null, null, null, null, null, null, null, null, null, null, null, null, null, null, null, null, null, null, null, null, null, null, null, null, null, null, null, null, null, null, null, null, null, null, null, null, null, null, null, null, null, null, null, null, null, null, null, null, null, null, null, null, null, null, null, null, null, null, null, null, null, null, null, null, null, null, null, null, null, null, null, null, null, null, null, null, null, null, null, null, null, null, null, null, null, null, null, null, null, null, null, null, null, null, null, null, null, 384.14361256241807, 383.6826480960847, 382.46367118835457, 380.6706300723553, 378.38428655862816, 375.66921884179123, 372.5777086937428, 369.16612041592606, 365.4673486483098, 361.53262034654625, 357.39514268875126, 353.0958874726296, 348.71735500216494, 344.29637594461445, 339.87500621438033, 335.4851833033562, 331.1709946238995, null, null, null, null, null, null, null, null, null, null, null, null, null, null, null, null, null, null]}, {\"name\": \"Predictions WF\", \"type\": \"scatter\", \"x\": [\"2019-12-02T00:00:00\", \"2019-12-03T00:00:00\", \"2019-12-04T00:00:00\", \"2019-12-05T00:00:00\", \"2019-12-06T00:00:00\", \"2019-12-09T00:00:00\", \"2019-12-10T00:00:00\", \"2019-12-11T00:00:00\", \"2019-12-12T00:00:00\", \"2019-12-13T00:00:00\", \"2019-12-16T00:00:00\", \"2019-12-17T00:00:00\", \"2019-12-18T00:00:00\", \"2019-12-19T00:00:00\", \"2019-12-20T00:00:00\", \"2019-12-23T00:00:00\", \"2019-12-24T00:00:00\", \"2019-12-26T00:00:00\", \"2019-12-27T00:00:00\", \"2019-12-30T00:00:00\", \"2019-12-31T00:00:00\", \"2020-01-02T00:00:00\", \"2020-01-03T00:00:00\", \"2020-01-06T00:00:00\", \"2020-01-07T00:00:00\", \"2020-01-08T00:00:00\", \"2020-01-09T00:00:00\", \"2020-01-10T00:00:00\", \"2020-01-13T00:00:00\", \"2020-01-14T00:00:00\", \"2020-01-15T00:00:00\", \"2020-01-16T00:00:00\", \"2020-01-17T00:00:00\", \"2020-01-21T00:00:00\", \"2020-01-22T00:00:00\", \"2020-01-23T00:00:00\", \"2020-01-24T00:00:00\", \"2020-01-27T00:00:00\", \"2020-01-28T00:00:00\", \"2020-01-29T00:00:00\", \"2020-01-30T00:00:00\", \"2020-01-31T00:00:00\", \"2020-02-03T00:00:00\", \"2020-02-04T00:00:00\", \"2020-02-05T00:00:00\", \"2020-02-06T00:00:00\", \"2020-02-07T00:00:00\", \"2020-02-10T00:00:00\", \"2020-02-11T00:00:00\", \"2020-02-12T00:00:00\", \"2020-02-13T00:00:00\", \"2020-02-14T00:00:00\", \"2020-02-18T00:00:00\", \"2020-02-19T00:00:00\", \"2020-02-20T00:00:00\", \"2020-02-21T00:00:00\", \"2020-02-24T00:00:00\", \"2020-02-25T00:00:00\", \"2020-02-26T00:00:00\", \"2020-02-27T00:00:00\", \"2020-02-28T00:00:00\", \"2020-03-02T00:00:00\", \"2020-03-03T00:00:00\", \"2020-03-04T00:00:00\", \"2020-03-05T00:00:00\", \"2020-03-06T00:00:00\", \"2020-03-09T00:00:00\", \"2020-03-10T00:00:00\", \"2020-03-11T00:00:00\", \"2020-03-12T00:00:00\", \"2020-03-13T00:00:00\", \"2020-03-16T00:00:00\", \"2020-03-17T00:00:00\", \"2020-03-18T00:00:00\", \"2020-03-19T00:00:00\", \"2020-03-20T00:00:00\", \"2020-03-23T00:00:00\", \"2020-03-24T00:00:00\", \"2020-03-25T00:00:00\", \"2020-03-26T00:00:00\", \"2020-03-27T00:00:00\", \"2020-03-30T00:00:00\", \"2020-03-31T00:00:00\", \"2020-04-01T00:00:00\", \"2020-04-02T00:00:00\", \"2020-04-03T00:00:00\", \"2020-04-06T00:00:00\", \"2020-04-07T00:00:00\", \"2020-04-08T00:00:00\", \"2020-04-09T00:00:00\", \"2020-04-13T00:00:00\", \"2020-04-14T00:00:00\", \"2020-04-15T00:00:00\", \"2020-04-16T00:00:00\", \"2020-04-17T00:00:00\", \"2020-04-20T00:00:00\", \"2020-04-21T00:00:00\", \"2020-04-22T00:00:00\", \"2020-04-23T00:00:00\", \"2020-04-24T00:00:00\", \"2020-04-27T00:00:00\", \"2020-04-28T00:00:00\", \"2020-04-29T00:00:00\", \"2020-04-30T00:00:00\", \"2020-05-01T00:00:00\", \"2020-05-04T00:00:00\", \"2020-05-05T00:00:00\", \"2020-05-06T00:00:00\", \"2020-05-07T00:00:00\", \"2020-05-08T00:00:00\", \"2020-05-11T00:00:00\", \"2020-05-12T00:00:00\", \"2020-05-13T00:00:00\", \"2020-05-14T00:00:00\", \"2020-05-15T00:00:00\", \"2020-05-18T00:00:00\", \"2020-05-19T00:00:00\", \"2020-05-20T00:00:00\", \"2020-05-21T00:00:00\", \"2020-05-22T00:00:00\", \"2020-05-26T00:00:00\", \"2020-05-27T00:00:00\", \"2020-05-28T00:00:00\", \"2020-05-29T00:00:00\", \"2020-06-01T00:00:00\", \"2020-06-02T00:00:00\", \"2020-06-03T00:00:00\", \"2020-06-04T00:00:00\", \"2020-06-05T00:00:00\", \"2020-06-08T00:00:00\", \"2020-06-09T00:00:00\", \"2020-06-10T00:00:00\", \"2020-06-11T00:00:00\", \"2020-06-12T00:00:00\", \"2020-06-15T00:00:00\", \"2020-06-16T00:00:00\", \"2020-06-17T00:00:00\", \"2020-06-18T00:00:00\", \"2020-06-19T00:00:00\", \"2020-06-22T00:00:00\", \"2020-06-23T00:00:00\", \"2020-06-24T00:00:00\", \"2020-06-25T00:00:00\", \"2020-06-26T00:00:00\", \"2020-06-29T00:00:00\", \"2020-06-30T00:00:00\", \"2020-07-01T00:00:00\", \"2020-07-02T00:00:00\", \"2020-07-06T00:00:00\", \"2020-07-07T00:00:00\", \"2020-07-08T00:00:00\", \"2020-07-09T00:00:00\", \"2020-07-10T00:00:00\", \"2020-07-13T00:00:00\", \"2020-07-14T00:00:00\", \"2020-07-15T00:00:00\", \"2020-07-16T00:00:00\", \"2020-07-17T00:00:00\", \"2020-07-20T00:00:00\", \"2020-07-21T00:00:00\", \"2020-07-22T00:00:00\", \"2020-07-23T00:00:00\", \"2020-07-24T00:00:00\", \"2020-07-27T00:00:00\", \"2020-07-28T00:00:00\", \"2020-07-29T00:00:00\", \"2020-07-30T00:00:00\", \"2020-07-31T00:00:00\", \"2020-08-03T00:00:00\", \"2020-08-04T00:00:00\", \"2020-08-05T00:00:00\", \"2020-08-06T00:00:00\", \"2020-08-07T00:00:00\"], \"y\": [null, null, null, null, null, null, null, null, null, null, null, null, null, null, null, null, null, null, null, null, null, null, null, null, null, null, null, null, null, null, null, null, null, null, null, null, null, null, null, null, null, null, null, null, null, null, null, null, null, null, null, null, null, null, null, null, null, null, null, null, null, null, null, null, null, null, null, null, null, null, null, null, null, null, null, null, null, null, null, null, null, null, null, null, null, null, null, null, null, null, null, null, null, null, null, null, null, null, null, null, null, null, null, null, null, null, null, null, null, null, null, null, null, null, null, null, null, null, null, null, null, null, null, null, null, null, null, null, null, null, null, null, null, null, null, null, null, null, 384.14361256241807, 383.7332109081746, 388.3134476852418, 396.2765875983239, 397.6465594983102, 400.32587089777, 394.7124709081651, 394.74255270481115, 396.9507323813439, 398.16037221193324, 398.7237417554856, 404.919966788292, 408.7561576724053, 416.3132519316674, 422.3696356773377, 426.08760900735865, 426.45329817295084, null, null, null, null, null, null, null, null, null, null, null, null, null, null, null, null, null, null]}, {\"name\": \"Future Predictions\", \"type\": \"scatter\", \"x\": [\"2019-12-02T00:00:00\", \"2019-12-03T00:00:00\", \"2019-12-04T00:00:00\", \"2019-12-05T00:00:00\", \"2019-12-06T00:00:00\", \"2019-12-09T00:00:00\", \"2019-12-10T00:00:00\", \"2019-12-11T00:00:00\", \"2019-12-12T00:00:00\", \"2019-12-13T00:00:00\", \"2019-12-16T00:00:00\", \"2019-12-17T00:00:00\", \"2019-12-18T00:00:00\", \"2019-12-19T00:00:00\", \"2019-12-20T00:00:00\", \"2019-12-23T00:00:00\", \"2019-12-24T00:00:00\", \"2019-12-26T00:00:00\", \"2019-12-27T00:00:00\", \"2019-12-30T00:00:00\", \"2019-12-31T00:00:00\", \"2020-01-02T00:00:00\", \"2020-01-03T00:00:00\", \"2020-01-06T00:00:00\", \"2020-01-07T00:00:00\", \"2020-01-08T00:00:00\", \"2020-01-09T00:00:00\", \"2020-01-10T00:00:00\", \"2020-01-13T00:00:00\", \"2020-01-14T00:00:00\", \"2020-01-15T00:00:00\", \"2020-01-16T00:00:00\", \"2020-01-17T00:00:00\", \"2020-01-21T00:00:00\", \"2020-01-22T00:00:00\", \"2020-01-23T00:00:00\", \"2020-01-24T00:00:00\", \"2020-01-27T00:00:00\", \"2020-01-28T00:00:00\", \"2020-01-29T00:00:00\", \"2020-01-30T00:00:00\", \"2020-01-31T00:00:00\", \"2020-02-03T00:00:00\", \"2020-02-04T00:00:00\", \"2020-02-05T00:00:00\", \"2020-02-06T00:00:00\", \"2020-02-07T00:00:00\", \"2020-02-10T00:00:00\", \"2020-02-11T00:00:00\", \"2020-02-12T00:00:00\", \"2020-02-13T00:00:00\", \"2020-02-14T00:00:00\", \"2020-02-18T00:00:00\", \"2020-02-19T00:00:00\", \"2020-02-20T00:00:00\", \"2020-02-21T00:00:00\", \"2020-02-24T00:00:00\", \"2020-02-25T00:00:00\", \"2020-02-26T00:00:00\", \"2020-02-27T00:00:00\", \"2020-02-28T00:00:00\", \"2020-03-02T00:00:00\", \"2020-03-03T00:00:00\", \"2020-03-04T00:00:00\", \"2020-03-05T00:00:00\", \"2020-03-06T00:00:00\", \"2020-03-09T00:00:00\", \"2020-03-10T00:00:00\", \"2020-03-11T00:00:00\", \"2020-03-12T00:00:00\", \"2020-03-13T00:00:00\", \"2020-03-16T00:00:00\", \"2020-03-17T00:00:00\", \"2020-03-18T00:00:00\", \"2020-03-19T00:00:00\", \"2020-03-20T00:00:00\", \"2020-03-23T00:00:00\", \"2020-03-24T00:00:00\", \"2020-03-25T00:00:00\", \"2020-03-26T00:00:00\", \"2020-03-27T00:00:00\", \"2020-03-30T00:00:00\", \"2020-03-31T00:00:00\", \"2020-04-01T00:00:00\", \"2020-04-02T00:00:00\", \"2020-04-03T00:00:00\", \"2020-04-06T00:00:00\", \"2020-04-07T00:00:00\", \"2020-04-08T00:00:00\", \"2020-04-09T00:00:00\", \"2020-04-13T00:00:00\", \"2020-04-14T00:00:00\", \"2020-04-15T00:00:00\", \"2020-04-16T00:00:00\", \"2020-04-17T00:00:00\", \"2020-04-20T00:00:00\", \"2020-04-21T00:00:00\", \"2020-04-22T00:00:00\", \"2020-04-23T00:00:00\", \"2020-04-24T00:00:00\", \"2020-04-27T00:00:00\", \"2020-04-28T00:00:00\", \"2020-04-29T00:00:00\", \"2020-04-30T00:00:00\", \"2020-05-01T00:00:00\", \"2020-05-04T00:00:00\", \"2020-05-05T00:00:00\", \"2020-05-06T00:00:00\", \"2020-05-07T00:00:00\", \"2020-05-08T00:00:00\", \"2020-05-11T00:00:00\", \"2020-05-12T00:00:00\", \"2020-05-13T00:00:00\", \"2020-05-14T00:00:00\", \"2020-05-15T00:00:00\", \"2020-05-18T00:00:00\", \"2020-05-19T00:00:00\", \"2020-05-20T00:00:00\", \"2020-05-21T00:00:00\", \"2020-05-22T00:00:00\", \"2020-05-26T00:00:00\", \"2020-05-27T00:00:00\", \"2020-05-28T00:00:00\", \"2020-05-29T00:00:00\", \"2020-06-01T00:00:00\", \"2020-06-02T00:00:00\", \"2020-06-03T00:00:00\", \"2020-06-04T00:00:00\", \"2020-06-05T00:00:00\", \"2020-06-08T00:00:00\", \"2020-06-09T00:00:00\", \"2020-06-10T00:00:00\", \"2020-06-11T00:00:00\", \"2020-06-12T00:00:00\", \"2020-06-15T00:00:00\", \"2020-06-16T00:00:00\", \"2020-06-17T00:00:00\", \"2020-06-18T00:00:00\", \"2020-06-19T00:00:00\", \"2020-06-22T00:00:00\", \"2020-06-23T00:00:00\", \"2020-06-24T00:00:00\", \"2020-06-25T00:00:00\", \"2020-06-26T00:00:00\", \"2020-06-29T00:00:00\", \"2020-06-30T00:00:00\", \"2020-07-01T00:00:00\", \"2020-07-02T00:00:00\", \"2020-07-06T00:00:00\", \"2020-07-07T00:00:00\", \"2020-07-08T00:00:00\", \"2020-07-09T00:00:00\", \"2020-07-10T00:00:00\", \"2020-07-13T00:00:00\", \"2020-07-14T00:00:00\", \"2020-07-15T00:00:00\", \"2020-07-16T00:00:00\", \"2020-07-17T00:00:00\", \"2020-07-20T00:00:00\", \"2020-07-21T00:00:00\", \"2020-07-22T00:00:00\", \"2020-07-23T00:00:00\", \"2020-07-24T00:00:00\", \"2020-07-27T00:00:00\", \"2020-07-28T00:00:00\", \"2020-07-29T00:00:00\", \"2020-07-30T00:00:00\", \"2020-07-31T00:00:00\", \"2020-08-03T00:00:00\", \"2020-08-04T00:00:00\", \"2020-08-05T00:00:00\", \"2020-08-06T00:00:00\", \"2020-08-07T00:00:00\"], \"y\": [null, null, null, null, null, null, null, null, null, null, null, null, null, null, null, null, null, null, null, null, null, null, null, null, null, null, null, null, null, null, null, null, null, null, null, null, null, null, null, null, null, null, null, null, null, null, null, null, null, null, null, null, null, null, null, null, null, null, null, null, null, null, null, null, null, null, null, null, null, null, null, null, null, null, null, null, null, null, null, null, null, null, null, null, null, null, null, null, null, null, null, null, null, null, null, null, null, null, null, null, null, null, null, null, null, null, null, null, null, null, null, null, null, null, null, null, null, null, null, null, null, null, null, null, null, null, null, null, null, null, null, null, null, null, null, null, null, null, null, null, null, null, null, null, null, null, null, null, null, null, null, null, null, null, null, 386.12779028892527, 386.66340253829964, 386.9162849664689, 387.08306313514714, 387.11405324578294, 387.00386401534087, 386.6615956771374, 386.1218325304986, 385.36001103043566, 384.36494817137725, 383.1446625101567, 381.7401160776616, 380.1273997056485, 378.34425237536436, 376.37017353773126, 374.19975237607963, 371.8223625934125, null]}, {\"name\": \"Data Validation\", \"type\": \"scatter\", \"x\": [\"2020-07-15T00:00:00\", \"2020-07-16T00:00:00\", \"2020-07-17T00:00:00\", \"2020-07-20T00:00:00\", \"2020-07-21T00:00:00\", \"2020-07-22T00:00:00\", \"2020-07-23T00:00:00\", \"2020-07-24T00:00:00\", \"2020-07-27T00:00:00\", \"2020-07-28T00:00:00\", \"2020-07-29T00:00:00\", \"2020-07-30T00:00:00\", \"2020-07-31T00:00:00\", \"2020-08-03T00:00:00\", \"2020-08-04T00:00:00\", \"2020-08-05T00:00:00\", \"2020-08-06T00:00:00\", \"2020-08-07T00:00:00\"], \"y\": [390.9, 386.09, 385.31, 393.43, 388.0, 389.09, 371.38, 370.46, 379.24, 373.01, 380.16, 384.76, 425.04, 435.75, 438.66, 440.25, 455.61, 444.45]}],\n",
       "                        {\"template\": {\"data\": {\"bar\": [{\"error_x\": {\"color\": \"#2a3f5f\"}, \"error_y\": {\"color\": \"#2a3f5f\"}, \"marker\": {\"line\": {\"color\": \"#E5ECF6\", \"width\": 0.5}}, \"type\": \"bar\"}], \"barpolar\": [{\"marker\": {\"line\": {\"color\": \"#E5ECF6\", \"width\": 0.5}}, \"type\": \"barpolar\"}], \"carpet\": [{\"aaxis\": {\"endlinecolor\": \"#2a3f5f\", \"gridcolor\": \"white\", \"linecolor\": \"white\", \"minorgridcolor\": \"white\", \"startlinecolor\": \"#2a3f5f\"}, \"baxis\": {\"endlinecolor\": \"#2a3f5f\", \"gridcolor\": \"white\", \"linecolor\": \"white\", \"minorgridcolor\": \"white\", \"startlinecolor\": \"#2a3f5f\"}, \"type\": \"carpet\"}], \"choropleth\": [{\"colorbar\": {\"outlinewidth\": 0, \"ticks\": \"\"}, \"type\": \"choropleth\"}], \"contour\": [{\"colorbar\": {\"outlinewidth\": 0, \"ticks\": \"\"}, \"colorscale\": [[0.0, \"#0d0887\"], [0.1111111111111111, \"#46039f\"], [0.2222222222222222, \"#7201a8\"], [0.3333333333333333, \"#9c179e\"], [0.4444444444444444, \"#bd3786\"], [0.5555555555555556, \"#d8576b\"], [0.6666666666666666, \"#ed7953\"], [0.7777777777777778, \"#fb9f3a\"], [0.8888888888888888, \"#fdca26\"], [1.0, \"#f0f921\"]], \"type\": \"contour\"}], \"contourcarpet\": [{\"colorbar\": {\"outlinewidth\": 0, \"ticks\": \"\"}, \"type\": \"contourcarpet\"}], \"heatmap\": [{\"colorbar\": {\"outlinewidth\": 0, \"ticks\": \"\"}, \"colorscale\": [[0.0, \"#0d0887\"], [0.1111111111111111, \"#46039f\"], [0.2222222222222222, \"#7201a8\"], [0.3333333333333333, \"#9c179e\"], [0.4444444444444444, \"#bd3786\"], [0.5555555555555556, \"#d8576b\"], [0.6666666666666666, \"#ed7953\"], [0.7777777777777778, \"#fb9f3a\"], [0.8888888888888888, \"#fdca26\"], [1.0, \"#f0f921\"]], \"type\": \"heatmap\"}], \"heatmapgl\": [{\"colorbar\": {\"outlinewidth\": 0, \"ticks\": \"\"}, \"colorscale\": [[0.0, \"#0d0887\"], [0.1111111111111111, \"#46039f\"], [0.2222222222222222, \"#7201a8\"], [0.3333333333333333, \"#9c179e\"], [0.4444444444444444, \"#bd3786\"], [0.5555555555555556, \"#d8576b\"], [0.6666666666666666, \"#ed7953\"], [0.7777777777777778, \"#fb9f3a\"], [0.8888888888888888, \"#fdca26\"], [1.0, \"#f0f921\"]], \"type\": \"heatmapgl\"}], \"histogram\": [{\"marker\": {\"colorbar\": {\"outlinewidth\": 0, \"ticks\": \"\"}}, \"type\": \"histogram\"}], \"histogram2d\": [{\"colorbar\": {\"outlinewidth\": 0, \"ticks\": \"\"}, \"colorscale\": [[0.0, \"#0d0887\"], [0.1111111111111111, \"#46039f\"], [0.2222222222222222, \"#7201a8\"], [0.3333333333333333, \"#9c179e\"], [0.4444444444444444, \"#bd3786\"], [0.5555555555555556, \"#d8576b\"], [0.6666666666666666, \"#ed7953\"], [0.7777777777777778, \"#fb9f3a\"], [0.8888888888888888, \"#fdca26\"], [1.0, \"#f0f921\"]], \"type\": \"histogram2d\"}], \"histogram2dcontour\": [{\"colorbar\": {\"outlinewidth\": 0, \"ticks\": \"\"}, \"colorscale\": [[0.0, \"#0d0887\"], [0.1111111111111111, \"#46039f\"], [0.2222222222222222, \"#7201a8\"], [0.3333333333333333, \"#9c179e\"], [0.4444444444444444, \"#bd3786\"], [0.5555555555555556, \"#d8576b\"], [0.6666666666666666, \"#ed7953\"], [0.7777777777777778, \"#fb9f3a\"], [0.8888888888888888, \"#fdca26\"], [1.0, \"#f0f921\"]], \"type\": \"histogram2dcontour\"}], \"mesh3d\": [{\"colorbar\": {\"outlinewidth\": 0, \"ticks\": \"\"}, \"type\": \"mesh3d\"}], \"parcoords\": [{\"line\": {\"colorbar\": {\"outlinewidth\": 0, \"ticks\": \"\"}}, \"type\": \"parcoords\"}], \"pie\": [{\"automargin\": true, \"type\": \"pie\"}], \"scatter\": [{\"marker\": {\"colorbar\": {\"outlinewidth\": 0, \"ticks\": \"\"}}, \"type\": \"scatter\"}], \"scatter3d\": [{\"line\": {\"colorbar\": {\"outlinewidth\": 0, \"ticks\": \"\"}}, \"marker\": {\"colorbar\": {\"outlinewidth\": 0, \"ticks\": \"\"}}, \"type\": \"scatter3d\"}], \"scattercarpet\": [{\"marker\": {\"colorbar\": {\"outlinewidth\": 0, \"ticks\": \"\"}}, \"type\": \"scattercarpet\"}], \"scattergeo\": [{\"marker\": {\"colorbar\": {\"outlinewidth\": 0, \"ticks\": \"\"}}, \"type\": \"scattergeo\"}], \"scattergl\": [{\"marker\": {\"colorbar\": {\"outlinewidth\": 0, \"ticks\": \"\"}}, \"type\": \"scattergl\"}], \"scattermapbox\": [{\"marker\": {\"colorbar\": {\"outlinewidth\": 0, \"ticks\": \"\"}}, \"type\": \"scattermapbox\"}], \"scatterpolar\": [{\"marker\": {\"colorbar\": {\"outlinewidth\": 0, \"ticks\": \"\"}}, \"type\": \"scatterpolar\"}], \"scatterpolargl\": [{\"marker\": {\"colorbar\": {\"outlinewidth\": 0, \"ticks\": \"\"}}, \"type\": \"scatterpolargl\"}], \"scatterternary\": [{\"marker\": {\"colorbar\": {\"outlinewidth\": 0, \"ticks\": \"\"}}, \"type\": \"scatterternary\"}], \"surface\": [{\"colorbar\": {\"outlinewidth\": 0, \"ticks\": \"\"}, \"colorscale\": [[0.0, \"#0d0887\"], [0.1111111111111111, \"#46039f\"], [0.2222222222222222, \"#7201a8\"], [0.3333333333333333, \"#9c179e\"], [0.4444444444444444, \"#bd3786\"], [0.5555555555555556, \"#d8576b\"], [0.6666666666666666, \"#ed7953\"], [0.7777777777777778, \"#fb9f3a\"], [0.8888888888888888, \"#fdca26\"], [1.0, \"#f0f921\"]], \"type\": \"surface\"}], \"table\": [{\"cells\": {\"fill\": {\"color\": \"#EBF0F8\"}, \"line\": {\"color\": \"white\"}}, \"header\": {\"fill\": {\"color\": \"#C8D4E3\"}, \"line\": {\"color\": \"white\"}}, \"type\": \"table\"}]}, \"layout\": {\"annotationdefaults\": {\"arrowcolor\": \"#2a3f5f\", \"arrowhead\": 0, \"arrowwidth\": 1}, \"coloraxis\": {\"colorbar\": {\"outlinewidth\": 0, \"ticks\": \"\"}}, \"colorscale\": {\"diverging\": [[0, \"#8e0152\"], [0.1, \"#c51b7d\"], [0.2, \"#de77ae\"], [0.3, \"#f1b6da\"], [0.4, \"#fde0ef\"], [0.5, \"#f7f7f7\"], [0.6, \"#e6f5d0\"], [0.7, \"#b8e186\"], [0.8, \"#7fbc41\"], [0.9, \"#4d9221\"], [1, \"#276419\"]], \"sequential\": [[0.0, \"#0d0887\"], [0.1111111111111111, \"#46039f\"], [0.2222222222222222, \"#7201a8\"], [0.3333333333333333, \"#9c179e\"], [0.4444444444444444, \"#bd3786\"], [0.5555555555555556, \"#d8576b\"], [0.6666666666666666, \"#ed7953\"], [0.7777777777777778, \"#fb9f3a\"], [0.8888888888888888, \"#fdca26\"], [1.0, \"#f0f921\"]], \"sequentialminus\": [[0.0, \"#0d0887\"], [0.1111111111111111, \"#46039f\"], [0.2222222222222222, \"#7201a8\"], [0.3333333333333333, \"#9c179e\"], [0.4444444444444444, \"#bd3786\"], [0.5555555555555556, \"#d8576b\"], [0.6666666666666666, \"#ed7953\"], [0.7777777777777778, \"#fb9f3a\"], [0.8888888888888888, \"#fdca26\"], [1.0, \"#f0f921\"]]}, \"colorway\": [\"#636efa\", \"#EF553B\", \"#00cc96\", \"#ab63fa\", \"#FFA15A\", \"#19d3f3\", \"#FF6692\", \"#B6E880\", \"#FF97FF\", \"#FECB52\"], \"font\": {\"color\": \"#2a3f5f\"}, \"geo\": {\"bgcolor\": \"white\", \"lakecolor\": \"white\", \"landcolor\": \"#E5ECF6\", \"showlakes\": true, \"showland\": true, \"subunitcolor\": \"white\"}, \"hoverlabel\": {\"align\": \"left\"}, \"hovermode\": \"closest\", \"mapbox\": {\"style\": \"light\"}, \"paper_bgcolor\": \"white\", \"plot_bgcolor\": \"#E5ECF6\", \"polar\": {\"angularaxis\": {\"gridcolor\": \"white\", \"linecolor\": \"white\", \"ticks\": \"\"}, \"bgcolor\": \"#E5ECF6\", \"radialaxis\": {\"gridcolor\": \"white\", \"linecolor\": \"white\", \"ticks\": \"\"}}, \"scene\": {\"xaxis\": {\"backgroundcolor\": \"#E5ECF6\", \"gridcolor\": \"white\", \"gridwidth\": 2, \"linecolor\": \"white\", \"showbackground\": true, \"ticks\": \"\", \"zerolinecolor\": \"white\"}, \"yaxis\": {\"backgroundcolor\": \"#E5ECF6\", \"gridcolor\": \"white\", \"gridwidth\": 2, \"linecolor\": \"white\", \"showbackground\": true, \"ticks\": \"\", \"zerolinecolor\": \"white\"}, \"zaxis\": {\"backgroundcolor\": \"#E5ECF6\", \"gridcolor\": \"white\", \"gridwidth\": 2, \"linecolor\": \"white\", \"showbackground\": true, \"ticks\": \"\", \"zerolinecolor\": \"white\"}}, \"shapedefaults\": {\"line\": {\"color\": \"#2a3f5f\"}}, \"ternary\": {\"aaxis\": {\"gridcolor\": \"white\", \"linecolor\": \"white\", \"ticks\": \"\"}, \"baxis\": {\"gridcolor\": \"white\", \"linecolor\": \"white\", \"ticks\": \"\"}, \"bgcolor\": \"#E5ECF6\", \"caxis\": {\"gridcolor\": \"white\", \"linecolor\": \"white\", \"ticks\": \"\"}}, \"title\": {\"x\": 0.05}, \"xaxis\": {\"automargin\": true, \"gridcolor\": \"white\", \"linecolor\": \"white\", \"ticks\": \"\", \"title\": {\"standoff\": 15}, \"zerolinecolor\": \"white\", \"zerolinewidth\": 2}, \"yaxis\": {\"automargin\": true, \"gridcolor\": \"white\", \"linecolor\": \"white\", \"ticks\": \"\", \"title\": {\"standoff\": 15}, \"zerolinecolor\": \"white\", \"zerolinewidth\": 2}}}, \"title\": {\"text\": \"AAPL Price Predictions\"}},\n",
       "                        {\"responsive\": true}\n",
       "                    ).then(function(){\n",
       "                            \n",
       "var gd = document.getElementById('dfb68fbb-473e-4c54-a5c7-78921d52b40b');\n",
       "var x = new MutationObserver(function (mutations, observer) {{\n",
       "        var display = window.getComputedStyle(gd).display;\n",
       "        if (!display || display === 'none') {{\n",
       "            console.log([gd, 'removed!']);\n",
       "            Plotly.purge(gd);\n",
       "            observer.disconnect();\n",
       "        }}\n",
       "}});\n",
       "\n",
       "// Listen for the removal of the full notebook cells\n",
       "var notebookContainer = gd.closest('#notebook-container');\n",
       "if (notebookContainer) {{\n",
       "    x.observe(notebookContainer, {childList: true});\n",
       "}}\n",
       "\n",
       "// Listen for the clearing of the current output cell\n",
       "var outputEl = gd.closest('.output');\n",
       "if (outputEl) {{\n",
       "    x.observe(outputEl, {childList: true});\n",
       "}}\n",
       "\n",
       "                        })\n",
       "                };\n",
       "                });\n",
       "            </script>\n",
       "        </div>"
      ]
     },
     "metadata": {},
     "output_type": "display_data"
    }
   ],
   "source": [
    "#Plot\n",
    "plot_data = [go.Scatter(x = df_test.index, y = df_test['Close'], name = 'Training'),\n",
    "             go.Scatter(x = df_test.index, y = df_test['Predictions'], name = 'Predictions Fixed'),\n",
    "             go.Scatter(x = df_test.index, y = df_test['Predictions walk forward'], name = 'Predictions WF'),\n",
    "             go.Scatter(x = df_proj.index, y = df_proj['Future Predictions'], name = 'Future Predictions'),\n",
    "             go.Scatter(x = valid.index, y = valid['Close'], name = 'Data Validation'),\n",
    "            ]\n",
    "plot_layout = go.Layout(title = 'AAPL Price Predictions')\n",
    "fig = go.Figure(data = plot_data, layout = plot_layout)\n",
    "pyoff.iplot(fig)"
   ]
  },
  {
   "cell_type": "code",
   "execution_count": 67,
   "metadata": {
    "ExecuteTime": {
     "end_time": "2020-07-30T12:34:57.115193Z",
     "start_time": "2020-07-30T12:34:57.109198Z"
    },
    "code_folding": [
     0
    ],
    "hidden": true,
    "hide_input": true
   },
   "outputs": [],
   "source": [
    "# Fixed prediction on test data, Plotting\n",
    "# pred_list = []\n",
    "# batch = train[-n_input:].reshape((1, n_input, n_features))\n",
    "# for i in range(n_input):\n",
    "#     pred_list.append(model.predict(batch)[0]) \n",
    "#     batch = np.append(batch[:,1:,:],[[pred_list[i]]],axis=1)\n",
    "#     pass\n",
    "# df_predict = pd.DataFrame(scaler.inverse_transform(pred_list), index = dt2[-n_input:].index, columns = ['Predictions'])\n",
    "# df_test = pd.concat([dt2, df_predict], axis = 1)\n",
    "# # Plot\n",
    "# if 1:\n",
    "#     plt.figure(figsize=(20, 5))\n",
    "#     plt.plot(df_test.index, df_test['4. close'], label = 'Training')\n",
    "#     plt.plot(df_test.index, df_test['Predictions'], color='red', label = 'Predictions')\n",
    "#     plt.legend(loc='best', fontsize='xx-large')\n",
    "#     plt.xticks(fontsize=18)\n",
    "#     plt.yticks(fontsize=16)\n",
    "#     plt.show()"
   ]
  },
  {
   "cell_type": "code",
   "execution_count": 68,
   "metadata": {
    "ExecuteTime": {
     "end_time": "2020-07-30T12:34:57.317095Z",
     "start_time": "2020-07-30T12:34:57.119192Z"
    },
    "code_folding": [
     0,
     13,
     18
    ],
    "hidden": true,
    "hide_input": true
   },
   "outputs": [],
   "source": [
    "# Walk forward prediction on test data\n",
    "# batch = train[-n_input:].reshape((1, n_input, n_features))\n",
    "# pred_list = []\n",
    "# for i in range(n_input):\n",
    "# #     if (counter % 2) == 0:\n",
    "# #         train2 = np.append(train, test[i-1][0]).reshape(-1, 1)\n",
    "# #         generator = TimeseriesGenerator(train2, train2, length=n_input, batch_size=6)\n",
    "# #         model.fit_generator(generator,epochs=1, verbose = 0)\n",
    "# #         model.reset_states()\n",
    "#     yhat = model.predict(batch)[0]\n",
    "#     pred_list.append(yhat)\n",
    "#     batch = np.append(batch[:,1:,:],[[test[i]]],axis=1)\n",
    "#     pass\n",
    "# df_predict = pd.DataFrame(scaler.inverse_transform(pred_list), index = dt2[-n_input:].index, \n",
    "#                           columns = ['Predictions walk forward'])\n",
    "# df_test = pd.concat([df_test, df_predict], axis = 1)\n",
    "# # Plot\n",
    "# if 1:\n",
    "#     plot_data = [go.Scatter(x = df_test.index, y = df_test['4. close'], name = 'Training'),\n",
    "#                  go.Scatter(x = df_test.index, y = df_test['Predictions'], name = 'Predictions Fixed'),\n",
    "#                  go.Scatter(x = df_test.index, y = df_test['Predictions walk forward'], name = 'Predictions WF'),\n",
    "#                 ]\n",
    "#     plot_layout = go.Layout(title = 'AAPL Price Wak forward')\n",
    "#     fig = go.Figure(data = plot_data, layout = plot_layout)\n",
    "#     pyoff.iplot(fig)    "
   ]
  },
  {
   "cell_type": "code",
   "execution_count": 69,
   "metadata": {
    "ExecuteTime": {
     "end_time": "2020-07-30T12:34:57.427015Z",
     "start_time": "2020-07-30T12:34:57.322075Z"
    },
    "code_folding": [
     0,
     18
    ],
    "hidden": true,
    "hide_input": true
   },
   "outputs": [],
   "source": [
    "# Prediction beyond data\n",
    "# # Train all dataset\n",
    "# train = pd.DataFrame(dt2['4. close'])\n",
    "# scaler.fit(train)\n",
    "# train = scaler.transform(train)\n",
    "# n_input = len(test)\n",
    "# n_features = 1\n",
    "# generator = TimeseriesGenerator(train, train, length=n_input, batch_size=10)\n",
    "# model.fit_generator(generator,epochs=20, verbose = 0)\n",
    "# # Predict beyond dataset\n",
    "# pred_list = []  \n",
    "# batch = train[-n_input:].reshape((1, n_input, n_features))\n",
    "# for i in range(n_input):\n",
    "#     pred_list.append(model.predict(batch)[0])      \n",
    "#     batch = np.append(batch[:,1:,:],[[pred_list[i]]],axis=1)\n",
    "#     pass\n",
    "# add_dates = [dt2.index[-1] + DateOffset(days = x) for x in range(0, n_input + 1)]\n",
    "# future_dates = pd.DataFrame(index = add_dates[1:], columns = dt2.columns)\n",
    "# df_predict = pd.DataFrame(scaler.inverse_transform(pred_list), index = future_dates[-n_input:].index, \n",
    "#                           columns = ['Future Predictions'])\n",
    "# df_proj = pd.concat([df_test, df_predict], axis = 1)\n",
    "# # Plot data\n",
    "# if 1:\n",
    "#     plot_data = [go.Scatter(x = df_proj.index, y = df_proj['4. close'], name = 'Past Data'),\n",
    "#                  go.Scatter(x = df_proj.index, y = df_proj['Future Predictions'], name = 'Future Predictions'),\n",
    "#                 ]\n",
    "#     plot_layout = go.Layout(title = 'AAPL Price Prediction')\n",
    "#     fig = go.Figure(data = plot_data, layout = plot_layout)\n",
    "#     pyoff.iplot(fig)"
   ]
  },
  {
   "cell_type": "markdown",
   "metadata": {},
   "source": [
    "# ARIMA Model"
   ]
  },
  {
   "cell_type": "code",
   "execution_count": 244,
   "metadata": {
    "ExecuteTime": {
     "end_time": "2020-08-11T11:11:38.766520Z",
     "start_time": "2020-08-11T11:11:38.634643Z"
    },
    "code_folding": [
     0
    ]
   },
   "outputs": [],
   "source": [
    "# Functions\n",
    "def Seasonality_check(time_series, alpha = 0.05):\n",
    "    '''\n",
    "    Pass a time series, return an ADF report on data seasonality\n",
    "    H0: data is non-seasonal, default alpha = 0.05\n",
    "    Accept H0 if p-value > alpha\n",
    "    '''\n",
    "    result = adfuller(time_series)\n",
    "    print('Augmented Dickey Fuller Test:')\n",
    "    labels = ['ADF Test Statistic','p-value','#Lags Used','Number of Observations Used']\n",
    "    for value,label in zip(result,labels):\n",
    "        print(label+' : '+str(value) )\n",
    "    if result[1] <= alpha:\n",
    "        print('Strong evidence against H0. Data is stationary')\n",
    "    else:\n",
    "        print('Weak evidence against H0. Data is non-stationary')\n",
    "    return result[1]\n",
    "def LjungBox(lags = None):\n",
    "    '''\n",
    "    This functions return p value of model's residual, to determine whether its a white noise or not.\n",
    "    p-value < 0.05 --> H0: residual is NOT a white noise\n",
    "    What we want: the residual IS a white noise\n",
    "    Insert lags as in d in ARIMA\n",
    "    '''\n",
    "    pvalue = sm.stats.acorr_ljungbox(model.resid(), lags = [lags])[1][0]\n",
    "    if pvalue > 0.05:\n",
    "        print('Great! LjungBox Test: Model Residual is white noise {:,.3f}'.format(pvalue))\n",
    "    else:\n",
    "        print('Hmm...LjungBox Test: Model Residual is not a white noise {:,.3f}'.format(pvalue))\n",
    "    pass"
   ]
  },
  {
   "cell_type": "code",
   "execution_count": 252,
   "metadata": {
    "ExecuteTime": {
     "end_time": "2020-08-11T11:13:52.505676Z",
     "start_time": "2020-08-11T11:13:52.492685Z"
    },
    "code_folding": [
     0,
     7
    ]
   },
   "outputs": [],
   "source": [
    "# ARIMA Data, Train-test split\n",
    "use_log = False\n",
    "split_percentage = 0.8\n",
    "use_percent = True\n",
    "split_int = 39\n",
    "if use_log:\n",
    "    dt2['log price'] = np.log(dt2['Close'])\n",
    "    if use_percent:\n",
    "        dataset = dt2['log price']\n",
    "        train_data = dt2['log price'][:int(len(dt2)*split_percentage)]\n",
    "        test_data = dt2['log price'][int(len(dt2)*split_percentage):]\n",
    "    else:\n",
    "        dataset = dt2['log price']\n",
    "        train_data = dt2['log price'][:split_int]\n",
    "        test_data = dt2['log price'][split_int:]        \n",
    "else:\n",
    "    if use_percent:\n",
    "        dataset = dt2['Close']\n",
    "        train_data = dt2['Close'][:int(len(dt2)*split_percentage)]\n",
    "        test_data = dt2['Close'][int(len(dt2)*split_percentage):]\n",
    "    else:\n",
    "        dataset = dt2['Close']\n",
    "        train_data = dt2['Close'][:split_int]\n",
    "        test_data = dt2['Close'][split_int:]          \n",
    "train_ar = train_data.values\n",
    "test_ar = test_data.values"
   ]
  },
  {
   "cell_type": "markdown",
   "metadata": {},
   "source": [
    "## Time Series Decomposition"
   ]
  },
  {
   "cell_type": "code",
   "execution_count": 253,
   "metadata": {
    "ExecuteTime": {
     "end_time": "2020-08-11T11:13:56.075621Z",
     "start_time": "2020-08-11T11:13:54.470951Z"
    },
    "code_folding": [
     7,
     28,
     30,
     33,
     39
    ],
    "scrolled": true
   },
   "outputs": [
    {
     "name": "stdout",
     "output_type": "stream",
     "text": [
      "Augmented Dickey Fuller Test:\n",
      "ADF Test Statistic : -1.700614748278906\n",
      "p-value : 0.4307957679260012\n",
      "#Lags Used : 8\n",
      "Number of Observations Used : 120\n",
      "Weak evidence against H0. Data is non-stationary\n",
      "Use Box-Cox Transfomation\n"
     ]
    },
    {
     "data": {
      "image/png": "[encoded data removed]",
      "text/plain": [
       "<Figure size 1440x864 with 4 Axes>"
      ]
     },
     "metadata": {
      "needs_background": "dark"
     },
     "output_type": "display_data"
    }
   ],
   "source": [
    "# Time series decomposition and Data Preparation\n",
    "decompose_freq = 10\n",
    "if use_log:\n",
    "    TS_decompose = seasonal_decompose(train_data, model='multiplicative', freq = decompose_freq)\n",
    "elif not use_log:\n",
    "    TS_decompose = seasonal_decompose(train_data, model='additive', freq = decompose_freq, two_sided = False)\n",
    "    pass\n",
    "if 1: # Plot Time Decomposition\n",
    "    fig, ax = plt.subplots(4, 1, figsize = (20, 12))\n",
    "    ax[0].plot(TS_decompose.observed); ax[0].set(ylabel=\"Observed\", title = 'Price Decomposition')\n",
    "    ax[1].plot(TS_decompose.trend); ax[1].set(ylabel=\"Trend\")\n",
    "    ax[2].plot(TS_decompose.seasonal); ax[2].set(ylabel=\"Seasonality\")\n",
    "    ax[3].plot(TS_decompose.resid); ax[3].set(ylabel=\"Residual\")\n",
    "    plt.tight_layout()\n",
    "    pass\n",
    "#-------------------Rolling variance-------------------#\n",
    "roll_var = TS_decompose.observed.rolling(decompose_freq).var()\n",
    "if 0 : roll_var.plot() # Plot\n",
    "result = Seasonality_check(roll_var.dropna()) # if non stationary, use box-cox transformation\n",
    "if result > 0.05:\n",
    "    transform_boxcox = True\n",
    "    idempotent_boxcox = True\n",
    "    print('Use Box-Cox Transfomation')\n",
    "else:\n",
    "    transform_boxcox = False\n",
    "    idempotent_boxcox = False   \n",
    "    pass\n",
    "#-------------------Create a seasonally adjusted price-------------------#\n",
    "if use_log:\n",
    "    sea_adj = (TS_decompose.trend *  TS_decompose.resid) / TS_decompose.seasonal\n",
    "else:\n",
    "    sea_adj = (TS_decompose.trend +  TS_decompose.resid) - TS_decompose.seasonal\n",
    "#-------------------Check Seasonality-------------------# \n",
    "if 0: # Optional, can skip if using auto-arima \n",
    "    # Check Seasonality\n",
    "    difference = (sea_adj - sea_adj.shift(1))\n",
    "    _ = Seasonality_check(difference.dropna()) # increase differencing until data is stationary, skip if using auto-arima\n",
    "    pass\n",
    "#-------------------ACF & PACF-------------------#\n",
    "if 0: # Optional, can skip if using auto-arima\n",
    "    fig_acf = plot_acf(difference.dropna())\n",
    "    fig_pacf = plot_pacf(difference.dropna())\n",
    "    pass"
   ]
  },
  {
   "cell_type": "code",
   "execution_count": 254,
   "metadata": {
    "ExecuteTime": {
     "end_time": "2020-08-11T11:13:56.955193Z",
     "start_time": "2020-08-11T11:13:56.559342Z"
    },
    "code_folding": [
     0
    ]
   },
   "outputs": [
    {
     "data": {
      "text/plain": [
       "<matplotlib.legend.Legend at 0x160be138048>"
      ]
     },
     "execution_count": 254,
     "metadata": {},
     "output_type": "execute_result"
    },
    {
     "data": {
      "image/png": "[encoded data removed]",
      "text/plain": [
       "<Figure size 432x288 with 1 Axes>"
      ]
     },
     "metadata": {
      "needs_background": "dark"
     },
     "output_type": "display_data"
    }
   ],
   "source": [
    "#Plot Seasonality vs Observed Price\n",
    "(TS_decompose.observed).plot(label = 'Observed price', color = 'blue', alpha = 0.5, \n",
    "                             title = 'Seasonality Adjusted vs Observed Price')\n",
    "sea_adj.plot(label = 'Seasonality Adjusted', color = 'r', style = '--')\n",
    "plt.legend()"
   ]
  },
  {
   "cell_type": "code",
   "execution_count": 259,
   "metadata": {
    "ExecuteTime": {
     "end_time": "2020-08-11T11:16:57.643761Z",
     "start_time": "2020-08-11T11:16:52.371663Z"
    },
    "code_folding": [
     6,
     35,
     43,
     55
    ],
    "hide_input": false,
    "scrolled": false
   },
   "outputs": [
    {
     "name": "stdout",
     "output_type": "stream",
     "text": [
      "Fit ARIMA: order=(0, 1, 0); AIC=3790.024, BIC=3795.713, Fit time=0.018 seconds\n",
      "Fit ARIMA: order=(1, 1, 0); AIC=3783.136, BIC=3791.669, Fit time=0.028 seconds\n",
      "Fit ARIMA: order=(0, 1, 1); AIC=3783.538, BIC=3792.071, Fit time=0.032 seconds\n",
      "Fit ARIMA: order=(2, 1, 0); AIC=3785.096, BIC=3796.473, Fit time=0.069 seconds\n",
      "Fit ARIMA: order=(1, 1, 1); AIC=3785.104, BIC=3796.481, Fit time=0.097 seconds\n",
      "Fit ARIMA: order=(2, 1, 1); AIC=3780.383, BIC=3794.604, Fit time=0.197 seconds\n",
      "Fit ARIMA: order=(3, 1, 1); AIC=3781.636, BIC=3798.701, Fit time=0.265 seconds\n",
      "Fit ARIMA: order=(2, 1, 2); AIC=3777.162, BIC=3794.227, Fit time=0.384 seconds\n",
      "Fit ARIMA: order=(3, 1, 3); AIC=3781.047, BIC=3803.801, Fit time=0.689 seconds\n",
      "Fit ARIMA: order=(1, 1, 2); AIC=3785.677, BIC=3799.898, Fit time=0.331 seconds\n",
      "Fit ARIMA: order=(3, 1, 2); AIC=3782.994, BIC=3802.903, Fit time=0.382 seconds\n",
      "Fit ARIMA: order=(2, 1, 3); AIC=3787.986, BIC=3807.895, Fit time=0.601 seconds\n",
      "Total fit time: 3.148 seconds\n",
      "                             ARIMA Model Results                              \n",
      "==============================================================================\n",
      "Dep. Variable:                    D.y   No. Observations:                  127\n",
      "Model:                 ARIMA(2, 1, 2)   Log Likelihood               -1882.581\n",
      "Method:                       css-mle   S.D. of innovations         660735.228\n",
      "Date:                Tue, 11 Aug 2020   AIC                           3777.162\n",
      "Time:                        18:16:55   BIC                           3794.227\n",
      "Sample:                             1   HQIC                          3784.096\n",
      "                                                                              \n",
      "==============================================================================\n",
      "                 coef    std err          z      P>|z|      [0.025      0.975]\n",
      "------------------------------------------------------------------------------\n",
      "const       6.109e+04   5.52e+04      1.106      0.271   -4.72e+04    1.69e+05\n",
      "ar.L1.D.y     -1.7740      0.063    -28.184      0.000      -1.897      -1.651\n",
      "ar.L2.D.y     -0.9241      0.053    -17.540      0.000      -1.027      -0.821\n",
      "ma.L1.D.y      1.6881      0.121     13.948      0.000       1.451       1.925\n",
      "ma.L2.D.y      0.7952      0.105      7.541      0.000       0.589       1.002\n",
      "                                    Roots                                    \n",
      "=============================================================================\n",
      "                  Real          Imaginary           Modulus         Frequency\n",
      "-----------------------------------------------------------------------------\n",
      "AR.1           -0.9598           -0.4010j            1.0402           -0.4370\n",
      "AR.2           -0.9598           +0.4010j            1.0402            0.4370\n",
      "MA.1           -1.0614           -0.3619j            1.1214           -0.4477\n",
      "MA.2           -1.0614           +0.3619j            1.1214            0.4477\n",
      "-----------------------------------------------------------------------------\n"
     ]
    },
    {
     "ename": "LinAlgError",
     "evalue": "SVD did not converge",
     "output_type": "error",
     "traceback": [
      "\u001b[1;31m---------------------------------------------------------------------------\u001b[0m",
      "\u001b[1;31mLinAlgError\u001b[0m                               Traceback (most recent call last)",
      "\u001b[1;32m<ipython-input-259-285013d806d8>\u001b[0m in \u001b[0;36m<module>\u001b[1;34m\u001b[0m\n\u001b[0;32m     25\u001b[0m     \u001b[1;32mfor\u001b[0m \u001b[0mt\u001b[0m \u001b[1;32min\u001b[0m \u001b[0mrange\u001b[0m\u001b[1;33m(\u001b[0m\u001b[0mlen\u001b[0m\u001b[1;33m(\u001b[0m\u001b[0mtest_ar\u001b[0m\u001b[1;33m)\u001b[0m\u001b[1;33m+\u001b[0m\u001b[1;36m2\u001b[0m\u001b[1;33m)\u001b[0m\u001b[1;33m:\u001b[0m\u001b[1;33m\u001b[0m\u001b[1;33m\u001b[0m\u001b[0m\n\u001b[0;32m     26\u001b[0m         \u001b[0moutput\u001b[0m \u001b[1;33m=\u001b[0m \u001b[0mmodel\u001b[0m\u001b[1;33m.\u001b[0m\u001b[0mpredict\u001b[0m\u001b[1;33m(\u001b[0m\u001b[1;36m1\u001b[0m\u001b[1;33m,\u001b[0m \u001b[0mreturn_conf_int\u001b[0m\u001b[1;33m=\u001b[0m\u001b[1;32mTrue\u001b[0m\u001b[1;33m)\u001b[0m\u001b[1;33m\u001b[0m\u001b[1;33m\u001b[0m\u001b[0m\n\u001b[1;32m---> 27\u001b[1;33m         \u001b[0mmodel_fit\u001b[0m \u001b[1;33m=\u001b[0m \u001b[0mmodel\u001b[0m\u001b[1;33m.\u001b[0m\u001b[0mfit\u001b[0m\u001b[1;33m(\u001b[0m\u001b[0mhistory\u001b[0m\u001b[1;33m)\u001b[0m\u001b[1;33m\u001b[0m\u001b[1;33m\u001b[0m\u001b[0m\n\u001b[0m\u001b[0;32m     28\u001b[0m         \u001b[0myhat\u001b[0m \u001b[1;33m=\u001b[0m \u001b[0mnp\u001b[0m\u001b[1;33m.\u001b[0m\u001b[0mfloat\u001b[0m\u001b[1;33m(\u001b[0m\u001b[0moutput\u001b[0m\u001b[1;33m[\u001b[0m\u001b[1;36m0\u001b[0m\u001b[1;33m]\u001b[0m\u001b[1;33m)\u001b[0m\u001b[1;33m;\u001b[0m \u001b[0mlower\u001b[0m \u001b[1;33m=\u001b[0m \u001b[0moutput\u001b[0m\u001b[1;33m[\u001b[0m\u001b[1;36m1\u001b[0m\u001b[1;33m]\u001b[0m\u001b[1;33m[\u001b[0m\u001b[1;36m0\u001b[0m\u001b[1;33m]\u001b[0m\u001b[1;33m[\u001b[0m\u001b[1;36m0\u001b[0m\u001b[1;33m]\u001b[0m\u001b[1;33m;\u001b[0m \u001b[0mupper\u001b[0m \u001b[1;33m=\u001b[0m \u001b[0moutput\u001b[0m\u001b[1;33m[\u001b[0m\u001b[1;36m1\u001b[0m\u001b[1;33m]\u001b[0m\u001b[1;33m[\u001b[0m\u001b[1;36m0\u001b[0m\u001b[1;33m]\u001b[0m\u001b[1;33m[\u001b[0m\u001b[1;36m1\u001b[0m\u001b[1;33m]\u001b[0m\u001b[1;33m;\u001b[0m \u001b[0mstd\u001b[0m \u001b[1;33m=\u001b[0m \u001b[1;33m(\u001b[0m\u001b[0mupper\u001b[0m \u001b[1;33m-\u001b[0m \u001b[0myhat\u001b[0m\u001b[1;33m)\u001b[0m\u001b[1;33m/\u001b[0m\u001b[1;36m2\u001b[0m\u001b[1;33m\u001b[0m\u001b[1;33m\u001b[0m\u001b[0m\n\u001b[0;32m     29\u001b[0m         \u001b[0mpredictions\u001b[0m\u001b[1;33m.\u001b[0m\u001b[0mappend\u001b[0m\u001b[1;33m(\u001b[0m\u001b[0myhat\u001b[0m\u001b[1;33m)\u001b[0m\u001b[1;33m;\u001b[0m \u001b[0mlower_series\u001b[0m\u001b[1;33m.\u001b[0m\u001b[0mappend\u001b[0m\u001b[1;33m(\u001b[0m\u001b[0mlower\u001b[0m\u001b[1;33m)\u001b[0m\u001b[1;33m;\u001b[0m \u001b[0mupper_series\u001b[0m\u001b[1;33m.\u001b[0m\u001b[0mappend\u001b[0m\u001b[1;33m(\u001b[0m\u001b[0mupper\u001b[0m\u001b[1;33m)\u001b[0m\u001b[1;33m;\u001b[0m \u001b[0mstderr\u001b[0m\u001b[1;33m.\u001b[0m\u001b[0mappend\u001b[0m\u001b[1;33m(\u001b[0m\u001b[0mstd\u001b[0m\u001b[1;33m)\u001b[0m\u001b[1;33m\u001b[0m\u001b[1;33m\u001b[0m\u001b[0m\n",
      "\u001b[1;32m~\\Anaconda3\\lib\\site-packages\\pmdarima\\arima\\arima.py\u001b[0m in \u001b[0;36mfit\u001b[1;34m(self, y, exogenous, **fit_args)\u001b[0m\n\u001b[0;32m    437\u001b[0m \u001b[1;33m\u001b[0m\u001b[0m\n\u001b[0;32m    438\u001b[0m         \u001b[1;31m# Internal call\u001b[0m\u001b[1;33m\u001b[0m\u001b[1;33m\u001b[0m\u001b[1;33m\u001b[0m\u001b[0m\n\u001b[1;32m--> 439\u001b[1;33m         \u001b[0mself\u001b[0m\u001b[1;33m.\u001b[0m\u001b[0m_fit\u001b[0m\u001b[1;33m(\u001b[0m\u001b[0my\u001b[0m\u001b[1;33m,\u001b[0m \u001b[0mexogenous\u001b[0m\u001b[1;33m,\u001b[0m \u001b[1;33m**\u001b[0m\u001b[0mfit_args\u001b[0m\u001b[1;33m)\u001b[0m\u001b[1;33m\u001b[0m\u001b[1;33m\u001b[0m\u001b[0m\n\u001b[0m\u001b[0;32m    440\u001b[0m \u001b[1;33m\u001b[0m\u001b[0m\n\u001b[0;32m    441\u001b[0m         \u001b[1;31m# now make a forecast if we're validating to compute the\u001b[0m\u001b[1;33m\u001b[0m\u001b[1;33m\u001b[0m\u001b[1;33m\u001b[0m\u001b[0m\n",
      "\u001b[1;32m~\\Anaconda3\\lib\\site-packages\\pmdarima\\arima\\arima.py\u001b[0m in \u001b[0;36m_fit\u001b[1;34m(self, y, exogenous, **fit_args)\u001b[0m\n\u001b[0;32m    352\u001b[0m             \u001b[1;32mwith\u001b[0m \u001b[0mwarnings\u001b[0m\u001b[1;33m.\u001b[0m\u001b[0mcatch_warnings\u001b[0m\u001b[1;33m(\u001b[0m\u001b[0mrecord\u001b[0m\u001b[1;33m=\u001b[0m\u001b[1;32mFalse\u001b[0m\u001b[1;33m)\u001b[0m\u001b[1;33m:\u001b[0m\u001b[1;33m\u001b[0m\u001b[1;33m\u001b[0m\u001b[0m\n\u001b[0;32m    353\u001b[0m                 \u001b[0mwarnings\u001b[0m\u001b[1;33m.\u001b[0m\u001b[0msimplefilter\u001b[0m\u001b[1;33m(\u001b[0m\u001b[1;34m'ignore'\u001b[0m\u001b[1;33m)\u001b[0m\u001b[1;33m\u001b[0m\u001b[1;33m\u001b[0m\u001b[0m\n\u001b[1;32m--> 354\u001b[1;33m                 \u001b[0mfit\u001b[0m\u001b[1;33m,\u001b[0m \u001b[0mself\u001b[0m\u001b[1;33m.\u001b[0m\u001b[0marima_res_\u001b[0m \u001b[1;33m=\u001b[0m \u001b[0m_fit_wrapper\u001b[0m\u001b[1;33m(\u001b[0m\u001b[1;33m)\u001b[0m\u001b[1;33m\u001b[0m\u001b[1;33m\u001b[0m\u001b[0m\n\u001b[0m\u001b[0;32m    355\u001b[0m         \u001b[1;32melse\u001b[0m\u001b[1;33m:\u001b[0m\u001b[1;33m\u001b[0m\u001b[1;33m\u001b[0m\u001b[0m\n\u001b[0;32m    356\u001b[0m             \u001b[0mfit\u001b[0m\u001b[1;33m,\u001b[0m \u001b[0mself\u001b[0m\u001b[1;33m.\u001b[0m\u001b[0marima_res_\u001b[0m \u001b[1;33m=\u001b[0m \u001b[0m_fit_wrapper\u001b[0m\u001b[1;33m(\u001b[0m\u001b[1;33m)\u001b[0m\u001b[1;33m\u001b[0m\u001b[1;33m\u001b[0m\u001b[0m\n",
      "\u001b[1;32m~\\Anaconda3\\lib\\site-packages\\pmdarima\\arima\\arima.py\u001b[0m in \u001b[0;36m_fit_wrapper\u001b[1;34m()\u001b[0m\n\u001b[0;32m    346\u001b[0m                                     \u001b[0msolver\u001b[0m\u001b[1;33m=\u001b[0m\u001b[0mself\u001b[0m\u001b[1;33m.\u001b[0m\u001b[0msolver\u001b[0m\u001b[1;33m,\u001b[0m \u001b[0mmaxiter\u001b[0m\u001b[1;33m=\u001b[0m\u001b[0m_maxiter\u001b[0m\u001b[1;33m,\u001b[0m\u001b[1;33m\u001b[0m\u001b[1;33m\u001b[0m\u001b[0m\n\u001b[0;32m    347\u001b[0m                                     \u001b[0mdisp\u001b[0m\u001b[1;33m=\u001b[0m\u001b[0mself\u001b[0m\u001b[1;33m.\u001b[0m\u001b[0mdisp\u001b[0m\u001b[1;33m,\u001b[0m \u001b[0mcallback\u001b[0m\u001b[1;33m=\u001b[0m\u001b[0mself\u001b[0m\u001b[1;33m.\u001b[0m\u001b[0mcallback\u001b[0m\u001b[1;33m,\u001b[0m\u001b[1;33m\u001b[0m\u001b[1;33m\u001b[0m\u001b[0m\n\u001b[1;32m--> 348\u001b[1;33m                                     **fit_args)\n\u001b[0m\u001b[0;32m    349\u001b[0m \u001b[1;33m\u001b[0m\u001b[0m\n\u001b[0;32m    350\u001b[0m         \u001b[1;31m# sometimes too many warnings...\u001b[0m\u001b[1;33m\u001b[0m\u001b[1;33m\u001b[0m\u001b[1;33m\u001b[0m\u001b[0m\n",
      "\u001b[1;32m~\\Anaconda3\\lib\\site-packages\\statsmodels\\tsa\\arima_model.py\u001b[0m in \u001b[0;36mfit\u001b[1;34m(self, start_params, trend, method, transparams, solver, maxiter, full_output, disp, callback, start_ar_lags, **kwargs)\u001b[0m\n\u001b[0;32m   1147\u001b[0m                                            \u001b[0mmethod\u001b[0m\u001b[1;33m,\u001b[0m \u001b[0mtransparams\u001b[0m\u001b[1;33m,\u001b[0m \u001b[0msolver\u001b[0m\u001b[1;33m,\u001b[0m\u001b[1;33m\u001b[0m\u001b[1;33m\u001b[0m\u001b[0m\n\u001b[0;32m   1148\u001b[0m                                            \u001b[0mmaxiter\u001b[0m\u001b[1;33m,\u001b[0m \u001b[0mfull_output\u001b[0m\u001b[1;33m,\u001b[0m \u001b[0mdisp\u001b[0m\u001b[1;33m,\u001b[0m\u001b[1;33m\u001b[0m\u001b[1;33m\u001b[0m\u001b[0m\n\u001b[1;32m-> 1149\u001b[1;33m                                            callback, start_ar_lags, **kwargs)\n\u001b[0m\u001b[0;32m   1150\u001b[0m         \u001b[0mnormalized_cov_params\u001b[0m \u001b[1;33m=\u001b[0m \u001b[1;32mNone\u001b[0m  \u001b[1;31m# TODO: fix this?\u001b[0m\u001b[1;33m\u001b[0m\u001b[1;33m\u001b[0m\u001b[0m\n\u001b[0;32m   1151\u001b[0m         arima_fit = ARIMAResults(self, mlefit._results.params,\n",
      "\u001b[1;32m~\\Anaconda3\\lib\\site-packages\\statsmodels\\tsa\\arima_model.py\u001b[0m in \u001b[0;36mfit\u001b[1;34m(self, start_params, trend, method, transparams, solver, maxiter, full_output, disp, callback, start_ar_lags, **kwargs)\u001b[0m\n\u001b[0;32m    949\u001b[0m                                        \u001b[0mmaxiter\u001b[0m\u001b[1;33m=\u001b[0m\u001b[0mmaxiter\u001b[0m\u001b[1;33m,\u001b[0m\u001b[1;33m\u001b[0m\u001b[1;33m\u001b[0m\u001b[0m\n\u001b[0;32m    950\u001b[0m                                        \u001b[0mfull_output\u001b[0m\u001b[1;33m=\u001b[0m\u001b[0mfull_output\u001b[0m\u001b[1;33m,\u001b[0m \u001b[0mdisp\u001b[0m\u001b[1;33m=\u001b[0m\u001b[0mdisp\u001b[0m\u001b[1;33m,\u001b[0m\u001b[1;33m\u001b[0m\u001b[1;33m\u001b[0m\u001b[0m\n\u001b[1;32m--> 951\u001b[1;33m                                        callback=callback, **kwargs)\n\u001b[0m\u001b[0;32m    952\u001b[0m         \u001b[0mparams\u001b[0m \u001b[1;33m=\u001b[0m \u001b[0mmlefit\u001b[0m\u001b[1;33m.\u001b[0m\u001b[0mparams\u001b[0m\u001b[1;33m\u001b[0m\u001b[1;33m\u001b[0m\u001b[0m\n\u001b[0;32m    953\u001b[0m \u001b[1;33m\u001b[0m\u001b[0m\n",
      "\u001b[1;32m~\\Anaconda3\\lib\\site-packages\\statsmodels\\base\\model.py\u001b[0m in \u001b[0;36mfit\u001b[1;34m(self, start_params, method, maxiter, full_output, disp, fargs, callback, retall, skip_hessian, **kwargs)\u001b[0m\n\u001b[0;32m    468\u001b[0m                                                        \u001b[0mcallback\u001b[0m\u001b[1;33m=\u001b[0m\u001b[0mcallback\u001b[0m\u001b[1;33m,\u001b[0m\u001b[1;33m\u001b[0m\u001b[1;33m\u001b[0m\u001b[0m\n\u001b[0;32m    469\u001b[0m                                                        \u001b[0mretall\u001b[0m\u001b[1;33m=\u001b[0m\u001b[0mretall\u001b[0m\u001b[1;33m,\u001b[0m\u001b[1;33m\u001b[0m\u001b[1;33m\u001b[0m\u001b[0m\n\u001b[1;32m--> 470\u001b[1;33m                                                        full_output=full_output)\n\u001b[0m\u001b[0;32m    471\u001b[0m \u001b[1;33m\u001b[0m\u001b[0m\n\u001b[0;32m    472\u001b[0m         \u001b[1;31m# NOTE: this is for fit_regularized and should be generalized\u001b[0m\u001b[1;33m\u001b[0m\u001b[1;33m\u001b[0m\u001b[1;33m\u001b[0m\u001b[0m\n",
      "\u001b[1;32m~\\Anaconda3\\lib\\site-packages\\statsmodels\\base\\optimizer.py\u001b[0m in \u001b[0;36m_fit\u001b[1;34m(self, objective, gradient, start_params, fargs, kwargs, hessian, method, maxiter, full_output, disp, callback, retall)\u001b[0m\n\u001b[0;32m    217\u001b[0m                             \u001b[0mdisp\u001b[0m\u001b[1;33m=\u001b[0m\u001b[0mdisp\u001b[0m\u001b[1;33m,\u001b[0m \u001b[0mmaxiter\u001b[0m\u001b[1;33m=\u001b[0m\u001b[0mmaxiter\u001b[0m\u001b[1;33m,\u001b[0m \u001b[0mcallback\u001b[0m\u001b[1;33m=\u001b[0m\u001b[0mcallback\u001b[0m\u001b[1;33m,\u001b[0m\u001b[1;33m\u001b[0m\u001b[1;33m\u001b[0m\u001b[0m\n\u001b[0;32m    218\u001b[0m                             \u001b[0mretall\u001b[0m\u001b[1;33m=\u001b[0m\u001b[0mretall\u001b[0m\u001b[1;33m,\u001b[0m \u001b[0mfull_output\u001b[0m\u001b[1;33m=\u001b[0m\u001b[0mfull_output\u001b[0m\u001b[1;33m,\u001b[0m\u001b[1;33m\u001b[0m\u001b[1;33m\u001b[0m\u001b[0m\n\u001b[1;32m--> 219\u001b[1;33m                             hess=hessian)\n\u001b[0m\u001b[0;32m    220\u001b[0m \u001b[1;33m\u001b[0m\u001b[0m\n\u001b[0;32m    221\u001b[0m         optim_settings = {'optimizer': method, 'start_params': start_params,\n",
      "\u001b[1;32m~\\Anaconda3\\lib\\site-packages\\statsmodels\\base\\optimizer.py\u001b[0m in \u001b[0;36m_fit_lbfgs\u001b[1;34m(f, score, start_params, fargs, kwargs, disp, maxiter, callback, retall, full_output, hess)\u001b[0m\n\u001b[0;32m    437\u001b[0m                                      \u001b[0mcallback\u001b[0m\u001b[1;33m=\u001b[0m\u001b[0mcallback\u001b[0m\u001b[1;33m,\u001b[0m \u001b[0margs\u001b[0m\u001b[1;33m=\u001b[0m\u001b[0mfargs\u001b[0m\u001b[1;33m,\u001b[0m\u001b[1;33m\u001b[0m\u001b[1;33m\u001b[0m\u001b[0m\n\u001b[0;32m    438\u001b[0m                                      \u001b[0mbounds\u001b[0m\u001b[1;33m=\u001b[0m\u001b[0mbounds\u001b[0m\u001b[1;33m,\u001b[0m \u001b[0mdisp\u001b[0m\u001b[1;33m=\u001b[0m\u001b[0mdisp\u001b[0m\u001b[1;33m,\u001b[0m\u001b[1;33m\u001b[0m\u001b[1;33m\u001b[0m\u001b[0m\n\u001b[1;32m--> 439\u001b[1;33m                                      **extra_kwargs)\n\u001b[0m\u001b[0;32m    440\u001b[0m \u001b[1;33m\u001b[0m\u001b[0m\n\u001b[0;32m    441\u001b[0m     \u001b[1;32mif\u001b[0m \u001b[0mfull_output\u001b[0m\u001b[1;33m:\u001b[0m\u001b[1;33m\u001b[0m\u001b[1;33m\u001b[0m\u001b[0m\n",
      "\u001b[1;32m~\\Anaconda3\\lib\\site-packages\\scipy\\optimize\\lbfgsb.py\u001b[0m in \u001b[0;36mfmin_l_bfgs_b\u001b[1;34m(func, x0, fprime, args, approx_grad, bounds, m, factr, pgtol, epsilon, iprint, maxfun, maxiter, disp, callback, maxls)\u001b[0m\n\u001b[0;32m    197\u001b[0m \u001b[1;33m\u001b[0m\u001b[0m\n\u001b[0;32m    198\u001b[0m     res = _minimize_lbfgsb(fun, x0, args=args, jac=jac, bounds=bounds,\n\u001b[1;32m--> 199\u001b[1;33m                            **opts)\n\u001b[0m\u001b[0;32m    200\u001b[0m     d = {'grad': res['jac'],\n\u001b[0;32m    201\u001b[0m          \u001b[1;34m'task'\u001b[0m\u001b[1;33m:\u001b[0m \u001b[0mres\u001b[0m\u001b[1;33m[\u001b[0m\u001b[1;34m'message'\u001b[0m\u001b[1;33m]\u001b[0m\u001b[1;33m,\u001b[0m\u001b[1;33m\u001b[0m\u001b[1;33m\u001b[0m\u001b[0m\n",
      "\u001b[1;32m~\\Anaconda3\\lib\\site-packages\\scipy\\optimize\\lbfgsb.py\u001b[0m in \u001b[0;36m_minimize_lbfgsb\u001b[1;34m(fun, x0, args, jac, bounds, disp, maxcor, ftol, gtol, eps, maxfun, maxiter, iprint, callback, maxls, **unknown_options)\u001b[0m\n\u001b[0;32m    333\u001b[0m             \u001b[1;31m# until the completion of the current minimization iteration.\u001b[0m\u001b[1;33m\u001b[0m\u001b[1;33m\u001b[0m\u001b[1;33m\u001b[0m\u001b[0m\n\u001b[0;32m    334\u001b[0m             \u001b[1;31m# Overwrite f and g:\u001b[0m\u001b[1;33m\u001b[0m\u001b[1;33m\u001b[0m\u001b[1;33m\u001b[0m\u001b[0m\n\u001b[1;32m--> 335\u001b[1;33m             \u001b[0mf\u001b[0m\u001b[1;33m,\u001b[0m \u001b[0mg\u001b[0m \u001b[1;33m=\u001b[0m \u001b[0mfunc_and_grad\u001b[0m\u001b[1;33m(\u001b[0m\u001b[0mx\u001b[0m\u001b[1;33m)\u001b[0m\u001b[1;33m\u001b[0m\u001b[1;33m\u001b[0m\u001b[0m\n\u001b[0m\u001b[0;32m    336\u001b[0m         \u001b[1;32melif\u001b[0m \u001b[0mtask_str\u001b[0m\u001b[1;33m.\u001b[0m\u001b[0mstartswith\u001b[0m\u001b[1;33m(\u001b[0m\u001b[1;34mb'NEW_X'\u001b[0m\u001b[1;33m)\u001b[0m\u001b[1;33m:\u001b[0m\u001b[1;33m\u001b[0m\u001b[1;33m\u001b[0m\u001b[0m\n\u001b[0;32m    337\u001b[0m             \u001b[1;31m# new iteration\u001b[0m\u001b[1;33m\u001b[0m\u001b[1;33m\u001b[0m\u001b[1;33m\u001b[0m\u001b[0m\n",
      "\u001b[1;32m~\\Anaconda3\\lib\\site-packages\\scipy\\optimize\\lbfgsb.py\u001b[0m in \u001b[0;36mfunc_and_grad\u001b[1;34m(x)\u001b[0m\n\u001b[0;32m    278\u001b[0m     \u001b[1;32mif\u001b[0m \u001b[0mjac\u001b[0m \u001b[1;32mis\u001b[0m \u001b[1;32mNone\u001b[0m\u001b[1;33m:\u001b[0m\u001b[1;33m\u001b[0m\u001b[1;33m\u001b[0m\u001b[0m\n\u001b[0;32m    279\u001b[0m         \u001b[1;32mdef\u001b[0m \u001b[0mfunc_and_grad\u001b[0m\u001b[1;33m(\u001b[0m\u001b[0mx\u001b[0m\u001b[1;33m)\u001b[0m\u001b[1;33m:\u001b[0m\u001b[1;33m\u001b[0m\u001b[1;33m\u001b[0m\u001b[0m\n\u001b[1;32m--> 280\u001b[1;33m             \u001b[0mf\u001b[0m \u001b[1;33m=\u001b[0m \u001b[0mfun\u001b[0m\u001b[1;33m(\u001b[0m\u001b[0mx\u001b[0m\u001b[1;33m,\u001b[0m \u001b[1;33m*\u001b[0m\u001b[0margs\u001b[0m\u001b[1;33m)\u001b[0m\u001b[1;33m\u001b[0m\u001b[1;33m\u001b[0m\u001b[0m\n\u001b[0m\u001b[0;32m    281\u001b[0m             \u001b[0mg\u001b[0m \u001b[1;33m=\u001b[0m \u001b[0m_approx_fprime_helper\u001b[0m\u001b[1;33m(\u001b[0m\u001b[0mx\u001b[0m\u001b[1;33m,\u001b[0m \u001b[0mfun\u001b[0m\u001b[1;33m,\u001b[0m \u001b[0mepsilon\u001b[0m\u001b[1;33m,\u001b[0m \u001b[0margs\u001b[0m\u001b[1;33m=\u001b[0m\u001b[0margs\u001b[0m\u001b[1;33m,\u001b[0m \u001b[0mf0\u001b[0m\u001b[1;33m=\u001b[0m\u001b[0mf\u001b[0m\u001b[1;33m)\u001b[0m\u001b[1;33m\u001b[0m\u001b[1;33m\u001b[0m\u001b[0m\n\u001b[0;32m    282\u001b[0m             \u001b[1;32mreturn\u001b[0m \u001b[0mf\u001b[0m\u001b[1;33m,\u001b[0m \u001b[0mg\u001b[0m\u001b[1;33m\u001b[0m\u001b[1;33m\u001b[0m\u001b[0m\n",
      "\u001b[1;32m~\\Anaconda3\\lib\\site-packages\\scipy\\optimize\\optimize.py\u001b[0m in \u001b[0;36mfunction_wrapper\u001b[1;34m(*wrapper_args)\u001b[0m\n\u001b[0;32m    324\u001b[0m     \u001b[1;32mdef\u001b[0m \u001b[0mfunction_wrapper\u001b[0m\u001b[1;33m(\u001b[0m\u001b[1;33m*\u001b[0m\u001b[0mwrapper_args\u001b[0m\u001b[1;33m)\u001b[0m\u001b[1;33m:\u001b[0m\u001b[1;33m\u001b[0m\u001b[1;33m\u001b[0m\u001b[0m\n\u001b[0;32m    325\u001b[0m         \u001b[0mncalls\u001b[0m\u001b[1;33m[\u001b[0m\u001b[1;36m0\u001b[0m\u001b[1;33m]\u001b[0m \u001b[1;33m+=\u001b[0m \u001b[1;36m1\u001b[0m\u001b[1;33m\u001b[0m\u001b[1;33m\u001b[0m\u001b[0m\n\u001b[1;32m--> 326\u001b[1;33m         \u001b[1;32mreturn\u001b[0m \u001b[0mfunction\u001b[0m\u001b[1;33m(\u001b[0m\u001b[1;33m*\u001b[0m\u001b[1;33m(\u001b[0m\u001b[0mwrapper_args\u001b[0m \u001b[1;33m+\u001b[0m \u001b[0margs\u001b[0m\u001b[1;33m)\u001b[0m\u001b[1;33m)\u001b[0m\u001b[1;33m\u001b[0m\u001b[1;33m\u001b[0m\u001b[0m\n\u001b[0m\u001b[0;32m    327\u001b[0m \u001b[1;33m\u001b[0m\u001b[0m\n\u001b[0;32m    328\u001b[0m     \u001b[1;32mreturn\u001b[0m \u001b[0mncalls\u001b[0m\u001b[1;33m,\u001b[0m \u001b[0mfunction_wrapper\u001b[0m\u001b[1;33m\u001b[0m\u001b[1;33m\u001b[0m\u001b[0m\n",
      "\u001b[1;32m~\\Anaconda3\\lib\\site-packages\\statsmodels\\base\\model.py\u001b[0m in \u001b[0;36mf\u001b[1;34m(params, *args)\u001b[0m\n\u001b[0;32m    442\u001b[0m \u001b[1;33m\u001b[0m\u001b[0m\n\u001b[0;32m    443\u001b[0m         \u001b[1;32mdef\u001b[0m \u001b[0mf\u001b[0m\u001b[1;33m(\u001b[0m\u001b[0mparams\u001b[0m\u001b[1;33m,\u001b[0m \u001b[1;33m*\u001b[0m\u001b[0margs\u001b[0m\u001b[1;33m)\u001b[0m\u001b[1;33m:\u001b[0m\u001b[1;33m\u001b[0m\u001b[1;33m\u001b[0m\u001b[0m\n\u001b[1;32m--> 444\u001b[1;33m             \u001b[1;32mreturn\u001b[0m \u001b[1;33m-\u001b[0m\u001b[0mself\u001b[0m\u001b[1;33m.\u001b[0m\u001b[0mloglike\u001b[0m\u001b[1;33m(\u001b[0m\u001b[0mparams\u001b[0m\u001b[1;33m,\u001b[0m \u001b[1;33m*\u001b[0m\u001b[0margs\u001b[0m\u001b[1;33m)\u001b[0m \u001b[1;33m/\u001b[0m \u001b[0mnobs\u001b[0m\u001b[1;33m\u001b[0m\u001b[1;33m\u001b[0m\u001b[0m\n\u001b[0m\u001b[0;32m    445\u001b[0m \u001b[1;33m\u001b[0m\u001b[0m\n\u001b[0;32m    446\u001b[0m         \u001b[1;32mif\u001b[0m \u001b[0mmethod\u001b[0m \u001b[1;33m==\u001b[0m \u001b[1;34m'newton'\u001b[0m\u001b[1;33m:\u001b[0m\u001b[1;33m\u001b[0m\u001b[1;33m\u001b[0m\u001b[0m\n",
      "\u001b[1;32m~\\Anaconda3\\lib\\site-packages\\statsmodels\\tsa\\arima_model.py\u001b[0m in \u001b[0;36mloglike\u001b[1;34m(self, params, set_sigma2)\u001b[0m\n\u001b[0;32m    770\u001b[0m         \u001b[0mmethod\u001b[0m \u001b[1;33m=\u001b[0m \u001b[0mself\u001b[0m\u001b[1;33m.\u001b[0m\u001b[0mmethod\u001b[0m\u001b[1;33m\u001b[0m\u001b[1;33m\u001b[0m\u001b[0m\n\u001b[0;32m    771\u001b[0m         \u001b[1;32mif\u001b[0m \u001b[0mmethod\u001b[0m \u001b[1;32min\u001b[0m \u001b[1;33m[\u001b[0m\u001b[1;34m'mle'\u001b[0m\u001b[1;33m,\u001b[0m \u001b[1;34m'css-mle'\u001b[0m\u001b[1;33m]\u001b[0m\u001b[1;33m:\u001b[0m\u001b[1;33m\u001b[0m\u001b[1;33m\u001b[0m\u001b[0m\n\u001b[1;32m--> 772\u001b[1;33m             \u001b[1;32mreturn\u001b[0m \u001b[0mself\u001b[0m\u001b[1;33m.\u001b[0m\u001b[0mloglike_kalman\u001b[0m\u001b[1;33m(\u001b[0m\u001b[0mparams\u001b[0m\u001b[1;33m,\u001b[0m \u001b[0mset_sigma2\u001b[0m\u001b[1;33m)\u001b[0m\u001b[1;33m\u001b[0m\u001b[1;33m\u001b[0m\u001b[0m\n\u001b[0m\u001b[0;32m    773\u001b[0m         \u001b[1;32melif\u001b[0m \u001b[0mmethod\u001b[0m \u001b[1;33m==\u001b[0m \u001b[1;34m'css'\u001b[0m\u001b[1;33m:\u001b[0m\u001b[1;33m\u001b[0m\u001b[1;33m\u001b[0m\u001b[0m\n\u001b[0;32m    774\u001b[0m             \u001b[1;32mreturn\u001b[0m \u001b[0mself\u001b[0m\u001b[1;33m.\u001b[0m\u001b[0mloglike_css\u001b[0m\u001b[1;33m(\u001b[0m\u001b[0mparams\u001b[0m\u001b[1;33m,\u001b[0m \u001b[0mset_sigma2\u001b[0m\u001b[1;33m)\u001b[0m\u001b[1;33m\u001b[0m\u001b[1;33m\u001b[0m\u001b[0m\n",
      "\u001b[1;32m~\\Anaconda3\\lib\\site-packages\\statsmodels\\tsa\\arima_model.py\u001b[0m in \u001b[0;36mloglike_kalman\u001b[1;34m(self, params, set_sigma2)\u001b[0m\n\u001b[0;32m    780\u001b[0m         \u001b[0mCompute\u001b[0m \u001b[0mexact\u001b[0m \u001b[0mloglikelihood\u001b[0m \u001b[1;32mfor\u001b[0m \u001b[0mARMA\u001b[0m\u001b[1;33m(\u001b[0m\u001b[0mp\u001b[0m\u001b[1;33m,\u001b[0m\u001b[0mq\u001b[0m\u001b[1;33m)\u001b[0m \u001b[0mmodel\u001b[0m \u001b[0mby\u001b[0m \u001b[0mthe\u001b[0m \u001b[0mKalman\u001b[0m \u001b[0mFilter\u001b[0m\u001b[1;33m.\u001b[0m\u001b[1;33m\u001b[0m\u001b[1;33m\u001b[0m\u001b[0m\n\u001b[0;32m    781\u001b[0m         \"\"\"\n\u001b[1;32m--> 782\u001b[1;33m         \u001b[1;32mreturn\u001b[0m \u001b[0mKalmanFilter\u001b[0m\u001b[1;33m.\u001b[0m\u001b[0mloglike\u001b[0m\u001b[1;33m(\u001b[0m\u001b[0mparams\u001b[0m\u001b[1;33m,\u001b[0m \u001b[0mself\u001b[0m\u001b[1;33m,\u001b[0m \u001b[0mset_sigma2\u001b[0m\u001b[1;33m)\u001b[0m\u001b[1;33m\u001b[0m\u001b[1;33m\u001b[0m\u001b[0m\n\u001b[0m\u001b[0;32m    783\u001b[0m \u001b[1;33m\u001b[0m\u001b[0m\n\u001b[0;32m    784\u001b[0m     \u001b[1;32mdef\u001b[0m \u001b[0mloglike_css\u001b[0m\u001b[1;33m(\u001b[0m\u001b[0mself\u001b[0m\u001b[1;33m,\u001b[0m \u001b[0mparams\u001b[0m\u001b[1;33m,\u001b[0m \u001b[0mset_sigma2\u001b[0m\u001b[1;33m=\u001b[0m\u001b[1;32mTrue\u001b[0m\u001b[1;33m)\u001b[0m\u001b[1;33m:\u001b[0m\u001b[1;33m\u001b[0m\u001b[1;33m\u001b[0m\u001b[0m\n",
      "\u001b[1;32m~\\Anaconda3\\lib\\site-packages\\statsmodels\\tsa\\kalmanf\\kalmanfilter.py\u001b[0m in \u001b[0;36mloglike\u001b[1;34m(cls, params, arma_model, set_sigma2)\u001b[0m\n\u001b[0;32m    219\u001b[0m             loglike, sigma2 = kalman_loglike.kalman_loglike_double(\n\u001b[0;32m    220\u001b[0m                 \u001b[0my\u001b[0m\u001b[1;33m,\u001b[0m \u001b[0mk\u001b[0m\u001b[1;33m,\u001b[0m \u001b[0mk_ar\u001b[0m\u001b[1;33m,\u001b[0m \u001b[0mk_ma\u001b[0m\u001b[1;33m,\u001b[0m \u001b[0mk_lags\u001b[0m\u001b[1;33m,\u001b[0m \u001b[0mint\u001b[0m\u001b[1;33m(\u001b[0m\u001b[0mnobs\u001b[0m\u001b[1;33m)\u001b[0m\u001b[1;33m,\u001b[0m\u001b[1;33m\u001b[0m\u001b[1;33m\u001b[0m\u001b[0m\n\u001b[1;32m--> 221\u001b[1;33m                 Z_mat, R_mat, T_mat)\n\u001b[0m\u001b[0;32m    222\u001b[0m         \u001b[1;32melif\u001b[0m \u001b[0mnp\u001b[0m\u001b[1;33m.\u001b[0m\u001b[0missubdtype\u001b[0m\u001b[1;33m(\u001b[0m\u001b[0mparamsdtype\u001b[0m\u001b[1;33m,\u001b[0m \u001b[0mnp\u001b[0m\u001b[1;33m.\u001b[0m\u001b[0mcomplex128\u001b[0m\u001b[1;33m)\u001b[0m\u001b[1;33m:\u001b[0m\u001b[1;33m\u001b[0m\u001b[1;33m\u001b[0m\u001b[0m\n\u001b[0;32m    223\u001b[0m             loglike, sigma2 = kalman_loglike.kalman_loglike_complex(\n",
      "\u001b[1;32mstatsmodels\\tsa\\kalmanf\\kalman_loglike.pyx\u001b[0m in \u001b[0;36mstatsmodels.tsa.kalmanf.kalman_loglike.kalman_loglike_double\u001b[1;34m()\u001b[0m\n",
      "\u001b[1;32mstatsmodels\\tsa\\kalmanf\\kalman_loglike.pyx\u001b[0m in \u001b[0;36mstatsmodels.tsa.kalmanf.kalman_loglike.kalman_filter_double\u001b[1;34m()\u001b[0m\n",
      "\u001b[1;32m~\\Anaconda3\\lib\\site-packages\\numpy\\linalg\\linalg.py\u001b[0m in \u001b[0;36mpinv\u001b[1;34m(a, rcond)\u001b[0m\n\u001b[0;32m   1936\u001b[0m         \u001b[1;32mreturn\u001b[0m \u001b[0mwrap\u001b[0m\u001b[1;33m(\u001b[0m\u001b[0mres\u001b[0m\u001b[1;33m)\u001b[0m\u001b[1;33m\u001b[0m\u001b[1;33m\u001b[0m\u001b[0m\n\u001b[0;32m   1937\u001b[0m     \u001b[0ma\u001b[0m \u001b[1;33m=\u001b[0m \u001b[0ma\u001b[0m\u001b[1;33m.\u001b[0m\u001b[0mconjugate\u001b[0m\u001b[1;33m(\u001b[0m\u001b[1;33m)\u001b[0m\u001b[1;33m\u001b[0m\u001b[1;33m\u001b[0m\u001b[0m\n\u001b[1;32m-> 1938\u001b[1;33m     \u001b[0mu\u001b[0m\u001b[1;33m,\u001b[0m \u001b[0ms\u001b[0m\u001b[1;33m,\u001b[0m \u001b[0mvt\u001b[0m \u001b[1;33m=\u001b[0m \u001b[0msvd\u001b[0m\u001b[1;33m(\u001b[0m\u001b[0ma\u001b[0m\u001b[1;33m,\u001b[0m \u001b[0mfull_matrices\u001b[0m\u001b[1;33m=\u001b[0m\u001b[1;32mFalse\u001b[0m\u001b[1;33m)\u001b[0m\u001b[1;33m\u001b[0m\u001b[1;33m\u001b[0m\u001b[0m\n\u001b[0m\u001b[0;32m   1939\u001b[0m \u001b[1;33m\u001b[0m\u001b[0m\n\u001b[0;32m   1940\u001b[0m     \u001b[1;31m# discard small singular values\u001b[0m\u001b[1;33m\u001b[0m\u001b[1;33m\u001b[0m\u001b[1;33m\u001b[0m\u001b[0m\n",
      "\u001b[1;32m~\\Anaconda3\\lib\\site-packages\\numpy\\linalg\\linalg.py\u001b[0m in \u001b[0;36msvd\u001b[1;34m(a, full_matrices, compute_uv)\u001b[0m\n\u001b[0;32m   1610\u001b[0m \u001b[1;33m\u001b[0m\u001b[0m\n\u001b[0;32m   1611\u001b[0m         \u001b[0msignature\u001b[0m \u001b[1;33m=\u001b[0m \u001b[1;34m'D->DdD'\u001b[0m \u001b[1;32mif\u001b[0m \u001b[0misComplexType\u001b[0m\u001b[1;33m(\u001b[0m\u001b[0mt\u001b[0m\u001b[1;33m)\u001b[0m \u001b[1;32melse\u001b[0m \u001b[1;34m'd->ddd'\u001b[0m\u001b[1;33m\u001b[0m\u001b[1;33m\u001b[0m\u001b[0m\n\u001b[1;32m-> 1612\u001b[1;33m         \u001b[0mu\u001b[0m\u001b[1;33m,\u001b[0m \u001b[0ms\u001b[0m\u001b[1;33m,\u001b[0m \u001b[0mvh\u001b[0m \u001b[1;33m=\u001b[0m \u001b[0mgufunc\u001b[0m\u001b[1;33m(\u001b[0m\u001b[0ma\u001b[0m\u001b[1;33m,\u001b[0m \u001b[0msignature\u001b[0m\u001b[1;33m=\u001b[0m\u001b[0msignature\u001b[0m\u001b[1;33m,\u001b[0m \u001b[0mextobj\u001b[0m\u001b[1;33m=\u001b[0m\u001b[0mextobj\u001b[0m\u001b[1;33m)\u001b[0m\u001b[1;33m\u001b[0m\u001b[1;33m\u001b[0m\u001b[0m\n\u001b[0m\u001b[0;32m   1613\u001b[0m         \u001b[0mu\u001b[0m \u001b[1;33m=\u001b[0m \u001b[0mu\u001b[0m\u001b[1;33m.\u001b[0m\u001b[0mastype\u001b[0m\u001b[1;33m(\u001b[0m\u001b[0mresult_t\u001b[0m\u001b[1;33m,\u001b[0m \u001b[0mcopy\u001b[0m\u001b[1;33m=\u001b[0m\u001b[1;32mFalse\u001b[0m\u001b[1;33m)\u001b[0m\u001b[1;33m\u001b[0m\u001b[1;33m\u001b[0m\u001b[0m\n\u001b[0;32m   1614\u001b[0m         \u001b[0ms\u001b[0m \u001b[1;33m=\u001b[0m \u001b[0ms\u001b[0m\u001b[1;33m.\u001b[0m\u001b[0mastype\u001b[0m\u001b[1;33m(\u001b[0m\u001b[0m_realType\u001b[0m\u001b[1;33m(\u001b[0m\u001b[0mresult_t\u001b[0m\u001b[1;33m)\u001b[0m\u001b[1;33m,\u001b[0m \u001b[0mcopy\u001b[0m\u001b[1;33m=\u001b[0m\u001b[1;32mFalse\u001b[0m\u001b[1;33m)\u001b[0m\u001b[1;33m\u001b[0m\u001b[1;33m\u001b[0m\u001b[0m\n",
      "\u001b[1;32m~\\Anaconda3\\lib\\site-packages\\numpy\\linalg\\linalg.py\u001b[0m in \u001b[0;36m_raise_linalgerror_svd_nonconvergence\u001b[1;34m(err, flag)\u001b[0m\n\u001b[0;32m    104\u001b[0m \u001b[1;33m\u001b[0m\u001b[0m\n\u001b[0;32m    105\u001b[0m \u001b[1;32mdef\u001b[0m \u001b[0m_raise_linalgerror_svd_nonconvergence\u001b[0m\u001b[1;33m(\u001b[0m\u001b[0merr\u001b[0m\u001b[1;33m,\u001b[0m \u001b[0mflag\u001b[0m\u001b[1;33m)\u001b[0m\u001b[1;33m:\u001b[0m\u001b[1;33m\u001b[0m\u001b[1;33m\u001b[0m\u001b[0m\n\u001b[1;32m--> 106\u001b[1;33m     \u001b[1;32mraise\u001b[0m \u001b[0mLinAlgError\u001b[0m\u001b[1;33m(\u001b[0m\u001b[1;34m\"SVD did not converge\"\u001b[0m\u001b[1;33m)\u001b[0m\u001b[1;33m\u001b[0m\u001b[1;33m\u001b[0m\u001b[0m\n\u001b[0m\u001b[0;32m    107\u001b[0m \u001b[1;33m\u001b[0m\u001b[0m\n\u001b[0;32m    108\u001b[0m \u001b[1;32mdef\u001b[0m \u001b[0m_raise_linalgerror_lstsq\u001b[0m\u001b[1;33m(\u001b[0m\u001b[0merr\u001b[0m\u001b[1;33m,\u001b[0m \u001b[0mflag\u001b[0m\u001b[1;33m)\u001b[0m\u001b[1;33m:\u001b[0m\u001b[1;33m\u001b[0m\u001b[1;33m\u001b[0m\u001b[0m\n",
      "\u001b[1;31mLinAlgError\u001b[0m: SVD did not converge"
     ]
    }
   ],
   "source": [
    "# ARIMA Optimization of parameters and predictions\n",
    "if 1: # Optimization\n",
    "    if transform_boxcox and idempotent_boxcox:\n",
    "        sea_adj = boxcox(sea_adj, 3)\n",
    "        test_ar = boxcox(test_ar, 3)\n",
    "        idempotent_boxcox = False\n",
    "    model = pm.auto_arima(sea_adj.dropna(), start_p = 0, start_q = 0,\n",
    "                      test = 'adf', # use adftest to find the optima 'd'\n",
    "                      max_p = 3, max_q = 3,\n",
    "                      m = 1, # frequency of the series\n",
    "                      d = None, # Let the model determine 'd'\n",
    "                      seasonal = False, # No seasonality\n",
    "                      start_P = 0,\n",
    "                      D = 0,\n",
    "                      trace = True,\n",
    "                      error_action = 'ignore',\n",
    "                      suppress_warnings = True,\n",
    "                      stepwise = True)\n",
    "    print(model.summary())\n",
    "    pass\n",
    "if 1: # Predictions\n",
    "    history = [x for x in sea_adj.dropna()]\n",
    "    predictions = list()\n",
    "    upper_series = list();lower_series = list(); stderr = list()\n",
    "    for t in range(len(test_ar)+2):\n",
    "        output = model.predict(1, return_conf_int=True)\n",
    "        model_fit = model.fit(history)\n",
    "        yhat = np.float(output[0]); lower = output[1][0][0]; upper = output[1][0][1]; std = (upper - yhat)/2\n",
    "        predictions.append(yhat); lower_series.append(lower); upper_series.append(upper); stderr.append(std)\n",
    "        if t > len(test_ar)-1:\n",
    "            obs = predictions[-1]\n",
    "        else:\n",
    "            obs = test_ar[t]\n",
    "        history.append(obs)\n",
    "        pass\n",
    "    if use_log:\n",
    "        train_data = np.exp(train_data)\n",
    "        test_data = np.exp(test_data)\n",
    "        predictions = np.exp(predictions)\n",
    "        lower_series = np.exp(lower_series)\n",
    "        upper_series = np.exp(upper_series)\n",
    "        stderr = (upper_series - predictions) / 2\n",
    "        pass\n",
    "    if transform_boxcox:\n",
    "        predictions = inv_boxcox(predictions, 3)\n",
    "        lower_series = inv_boxcox(lower_series, 3)\n",
    "        upper_series = inv_boxcox(upper_series, 3)\n",
    "        stderr = (upper_series - predictions) / 2\n",
    "        pass\n",
    "    index_range = dt2['Close'][split_int:].index\n",
    "    predictions = pd.Series(predictions[2:], index = index_range)\n",
    "    lower_series = pd.Series(lower_series[2:], index = index_range)\n",
    "    upper_series = pd.Series(upper_series[2:], index = index_range)\n",
    "    print('Prediction done')\n",
    "    pass\n",
    "if 1: # Plot Diagnostic\n",
    "    model_fit.plot_diagnostics(figsize=(12,10))\n",
    "    plt.show()\n",
    "    plt.tight_layout()\n",
    "    LjungBox(lags = model.order[1])\n",
    "    pass"
   ]
  },
  {
   "cell_type": "code",
   "execution_count": null,
   "metadata": {
    "ExecuteTime": {
     "end_time": "2020-08-11T11:14:19.832507Z",
     "start_time": "2020-08-11T11:14:08.391Z"
    },
    "code_folding": [
     1,
     14
    ]
   },
   "outputs": [],
   "source": [
    "# Walk Forward PLot on test data\n",
    "if 1: # use pyplot\n",
    "    plot_data = [go.Scatter(x = train_data.index, y = train_data, name = 'Training', line = dict(color = 'light blue')),\n",
    "                 go.Scatter(x = test_data.index, y = test_data, name = 'Test Data', line=dict(color=\"red\")),\n",
    "                 go.Scatter(x = test_data.index, y = lower_series, line=dict(color = 'rgba(169,169,169, 0.3)'), \n",
    "                            name = 'lower series'),\n",
    "                 go.Scatter(x = test_data.index, y = upper_series, fill='tonexty', fillcolor= 'rgba(169,169,169, 0.3)',\n",
    "                            line=dict(color = 'rgba(169,169,169, 0.3)'), name = 'upper series'),\n",
    "                 go.Scatter(x = test_data.index, y = predictions, name = 'Predictions Fixed', line=dict(color=\"darkgreen\")),\n",
    "#                  go.Scatter(x = valid.index, y = predictions[-20:], name = 'Predictions Fixed', line=dict(color=\"darkgreen\")),\n",
    "                ]\n",
    "    plot_layout = go.Layout(title = '\"AAPL Walk Forward Predictions (adj. lag = 2), 95% conf_int\"')\n",
    "    fig = go.Figure(data = plot_data, layout = plot_layout)\n",
    "    pyoff.iplot(fig)\n",
    "else: # use matplotlib\n",
    "    plt.plot(train_data.index, train_data, label = 'Train data')\n",
    "    plt.plot(test_data, color = 'red', label = 'Test data')\n",
    "    plt.plot(predictions, color='darkgreen', label = 'Predictions')\n",
    "    plt.fill_between(predictions.index, \n",
    "                     lower_series, \n",
    "                     upper_series,\n",
    "                     color='k', alpha=.15)\n",
    "    plt.title(\"AAPL Walk Forward Predictions (adj. lag = 2), 95% conf_int\")\n",
    "    # plt.xlim(train_data.index[-1])\n",
    "    plt.legend()\n",
    "    plt.show()\n",
    "    rmse = np.mean((predictions - test_data)**2)**.5\n",
    "    print('RMSE: {:,.5}'.format(rmse))\n",
    "    mape = np.mean(np.abs(predictions - test_data)/np.abs(test_data))\n",
    "    print('MAPE: {:,.5}'.format(mape*100) + '%')"
   ]
  },
  {
   "cell_type": "markdown",
   "metadata": {},
   "source": [
    "## Do ARIMA predictions on LSTM results"
   ]
  },
  {
   "cell_type": "code",
   "execution_count": 73,
   "metadata": {
    "ExecuteTime": {
     "end_time": "2020-08-11T09:44:54.847194Z",
     "start_time": "2020-08-11T09:44:54.640533Z"
    },
    "code_folding": [
     2,
     3,
     6,
     23,
     49
    ],
    "scrolled": false
   },
   "outputs": [
    {
     "name": "stdout",
     "output_type": "stream",
     "text": [
      "Prediction done\n"
     ]
    },
    {
     "data": {
      "application/vnd.plotly.v1+json": {
       "config": {
        "linkText": "Export to plot.ly",
        "plotlyServerURL": "https://plot.ly",
        "showLink": false
       },
       "data": [
        {
         "line": {
          "color": "light blue"
         },
         "name": "Past Data",
         "type": "scatter",
         "x": [
          "2020-06-01T00:00:00",
          "2020-06-02T00:00:00",
          "2020-06-03T00:00:00",
          "2020-06-04T00:00:00",
          "2020-06-05T00:00:00",
          "2020-06-08T00:00:00",
          "2020-06-09T00:00:00",
          "2020-06-10T00:00:00",
          "2020-06-11T00:00:00",
          "2020-06-12T00:00:00",
          "2020-06-15T00:00:00",
          "2020-06-16T00:00:00",
          "2020-06-17T00:00:00",
          "2020-06-18T00:00:00",
          "2020-06-19T00:00:00",
          "2020-06-22T00:00:00",
          "2020-06-23T00:00:00",
          "2020-06-24T00:00:00",
          "2020-06-25T00:00:00",
          "2020-06-26T00:00:00",
          "2020-06-29T00:00:00",
          "2020-06-30T00:00:00",
          "2020-07-01T00:00:00",
          "2020-07-02T00:00:00",
          "2020-07-06T00:00:00",
          "2020-07-07T00:00:00",
          "2020-07-08T00:00:00",
          "2020-07-09T00:00:00",
          "2020-07-10T00:00:00",
          "2020-07-13T00:00:00",
          "2020-07-14T00:00:00",
          "2020-07-15T00:00:00",
          "2020-07-16T00:00:00",
          "2020-07-17T00:00:00",
          "2020-07-20T00:00:00",
          "2020-07-21T00:00:00",
          "2020-07-22T00:00:00",
          "2020-07-23T00:00:00",
          "2020-07-24T00:00:00",
          "2020-07-27T00:00:00",
          "2020-07-28T00:00:00",
          "2020-07-29T00:00:00",
          "2020-07-30T00:00:00",
          "2020-07-31T00:00:00",
          "2020-08-03T00:00:00",
          "2020-08-04T00:00:00",
          "2020-08-05T00:00:00",
          "2020-08-06T00:00:00",
          "2020-08-07T00:00:00"
         ],
         "y": [
          321.85,
          323.34,
          325.12,
          322.32,
          331.5,
          333.46,
          343.99,
          352.84,
          335.9,
          338.8,
          342.99,
          352.08,
          351.59,
          351.73,
          349.72,
          358.87,
          366.53,
          360.06,
          364.84,
          353.63,
          361.78,
          364.8,
          364.11,
          364.11,
          373.85,
          372.69,
          381.37,
          383.01,
          383.68,
          381.91,
          388.23,
          390.9,
          386.09,
          385.31,
          393.43,
          388,
          389.09,
          371.38,
          370.46,
          379.24,
          373.01,
          380.16,
          384.76,
          425.04,
          435.75,
          438.66,
          440.25,
          455.61,
          444.45
         ]
        },
        {
         "line": {
          "color": "rgba(169,169,169, 0.3)"
         },
         "name": "Lower Series",
         "type": "scatter",
         "x": [
          "2020-08-08T00:00:00",
          "2020-08-09T00:00:00",
          "2020-08-10T00:00:00",
          "2020-08-11T00:00:00",
          "2020-08-12T00:00:00",
          "2020-08-13T00:00:00",
          "2020-08-14T00:00:00",
          "2020-08-15T00:00:00",
          "2020-08-16T00:00:00",
          "2020-08-17T00:00:00"
         ],
         "y": [
          441.46914265868367,
          444.621454279218,
          447.31595676034345,
          449.8128960883136,
          452.1959076921014,
          454.61662306713737,
          456.96696527381204,
          459.2346542309139,
          461.4299188108556,
          463.6048412586095
         ]
        },
        {
         "fill": "tonexty",
         "fillcolor": "rgba(169,169,169, 0.3)",
         "line": {
          "color": "rgba(169,169,169, 0.3)"
         },
         "name": "Upper Series",
         "type": "scatter",
         "x": [
          "2020-08-08T00:00:00",
          "2020-08-09T00:00:00",
          "2020-08-10T00:00:00",
          "2020-08-11T00:00:00",
          "2020-08-12T00:00:00",
          "2020-08-13T00:00:00",
          "2020-08-14T00:00:00",
          "2020-08-15T00:00:00",
          "2020-08-16T00:00:00",
          "2020-08-17T00:00:00"
         ],
         "y": [
          467.3708253360807,
          469.9475504440073,
          472.12890642431813,
          474.1473503896202,
          476.0768039794817,
          478.05348879493306,
          479.97885291440673,
          481.84081311339594,
          483.6477926303276,
          485.44654989892985
         ]
        },
        {
         "line": {
          "color": "darkgreen"
         },
         "name": "LSTM Predictions",
         "type": "scatter",
         "x": [
          "2020-08-08T00:00:00",
          "2020-08-09T00:00:00",
          "2020-08-10T00:00:00",
          "2020-08-11T00:00:00",
          "2020-08-12T00:00:00",
          "2020-08-13T00:00:00",
          "2020-08-14T00:00:00",
          "2020-08-15T00:00:00",
          "2020-08-16T00:00:00",
          "2020-08-17T00:00:00"
         ],
         "y": [
          452.82297721862784,
          455.67591842651376,
          458.1094309234617,
          460.3658215332033,
          462.52253723144537,
          464.72146049499577,
          466.86062026977555,
          468.92789802551266,
          470.9324145507811,
          472.9229309844968
         ]
        },
        {
         "line": {
          "color": "orange"
         },
         "name": "ARIMA Predictions",
         "type": "scatter",
         "x": [
          "2020-08-08T00:00:00",
          "2020-08-09T00:00:00",
          "2020-08-10T00:00:00",
          "2020-08-11T00:00:00",
          "2020-08-12T00:00:00",
          "2020-08-13T00:00:00",
          "2020-08-14T00:00:00",
          "2020-08-15T00:00:00",
          "2020-08-16T00:00:00",
          "2020-08-17T00:00:00"
         ],
         "y": [
          454.7887799351574,
          457.63489687145903,
          460.0570001144145,
          462.30035097085363,
          464.44333468648944,
          466.629340149264,
          468.7553309002003,
          470.8090954447618,
          472.7998720068197,
          474.7768978771132
         ]
        }
       ],
       "layout": {
        "template": {
         "data": {
          "bar": [
           {
            "error_x": {
             "color": "#2a3f5f"
            },
            "error_y": {
             "color": "#2a3f5f"
            },
            "marker": {
             "line": {
              "color": "#E5ECF6",
              "width": 0.5
             }
            },
            "type": "bar"
           }
          ],
          "barpolar": [
           {
            "marker": {
             "line": {
              "color": "#E5ECF6",
              "width": 0.5
             }
            },
            "type": "barpolar"
           }
          ],
          "carpet": [
           {
            "aaxis": {
             "endlinecolor": "#2a3f5f",
             "gridcolor": "white",
             "linecolor": "white",
             "minorgridcolor": "white",
             "startlinecolor": "#2a3f5f"
            },
            "baxis": {
             "endlinecolor": "#2a3f5f",
             "gridcolor": "white",
             "linecolor": "white",
             "minorgridcolor": "white",
             "startlinecolor": "#2a3f5f"
            },
            "type": "carpet"
           }
          ],
          "choropleth": [
           {
            "colorbar": {
             "outlinewidth": 0,
             "ticks": ""
            },
            "type": "choropleth"
           }
          ],
          "contour": [
           {
            "colorbar": {
             "outlinewidth": 0,
             "ticks": ""
            },
            "colorscale": [
             [
              0,
              "#0d0887"
             ],
             [
              0.1111111111111111,
              "#46039f"
             ],
             [
              0.2222222222222222,
              "#7201a8"
             ],
             [
              0.3333333333333333,
              "#9c179e"
             ],
             [
              0.4444444444444444,
              "#bd3786"
             ],
             [
              0.5555555555555556,
              "#d8576b"
             ],
             [
              0.6666666666666666,
              "#ed7953"
             ],
             [
              0.7777777777777778,
              "#fb9f3a"
             ],
             [
              0.8888888888888888,
              "#fdca26"
             ],
             [
              1,
              "#f0f921"
             ]
            ],
            "type": "contour"
           }
          ],
          "contourcarpet": [
           {
            "colorbar": {
             "outlinewidth": 0,
             "ticks": ""
            },
            "type": "contourcarpet"
           }
          ],
          "heatmap": [
           {
            "colorbar": {
             "outlinewidth": 0,
             "ticks": ""
            },
            "colorscale": [
             [
              0,
              "#0d0887"
             ],
             [
              0.1111111111111111,
              "#46039f"
             ],
             [
              0.2222222222222222,
              "#7201a8"
             ],
             [
              0.3333333333333333,
              "#9c179e"
             ],
             [
              0.4444444444444444,
              "#bd3786"
             ],
             [
              0.5555555555555556,
              "#d8576b"
             ],
             [
              0.6666666666666666,
              "#ed7953"
             ],
             [
              0.7777777777777778,
              "#fb9f3a"
             ],
             [
              0.8888888888888888,
              "#fdca26"
             ],
             [
              1,
              "#f0f921"
             ]
            ],
            "type": "heatmap"
           }
          ],
          "heatmapgl": [
           {
            "colorbar": {
             "outlinewidth": 0,
             "ticks": ""
            },
            "colorscale": [
             [
              0,
              "#0d0887"
             ],
             [
              0.1111111111111111,
              "#46039f"
             ],
             [
              0.2222222222222222,
              "#7201a8"
             ],
             [
              0.3333333333333333,
              "#9c179e"
             ],
             [
              0.4444444444444444,
              "#bd3786"
             ],
             [
              0.5555555555555556,
              "#d8576b"
             ],
             [
              0.6666666666666666,
              "#ed7953"
             ],
             [
              0.7777777777777778,
              "#fb9f3a"
             ],
             [
              0.8888888888888888,
              "#fdca26"
             ],
             [
              1,
              "#f0f921"
             ]
            ],
            "type": "heatmapgl"
           }
          ],
          "histogram": [
           {
            "marker": {
             "colorbar": {
              "outlinewidth": 0,
              "ticks": ""
             }
            },
            "type": "histogram"
           }
          ],
          "histogram2d": [
           {
            "colorbar": {
             "outlinewidth": 0,
             "ticks": ""
            },
            "colorscale": [
             [
              0,
              "#0d0887"
             ],
             [
              0.1111111111111111,
              "#46039f"
             ],
             [
              0.2222222222222222,
              "#7201a8"
             ],
             [
              0.3333333333333333,
              "#9c179e"
             ],
             [
              0.4444444444444444,
              "#bd3786"
             ],
             [
              0.5555555555555556,
              "#d8576b"
             ],
             [
              0.6666666666666666,
              "#ed7953"
             ],
             [
              0.7777777777777778,
              "#fb9f3a"
             ],
             [
              0.8888888888888888,
              "#fdca26"
             ],
             [
              1,
              "#f0f921"
             ]
            ],
            "type": "histogram2d"
           }
          ],
          "histogram2dcontour": [
           {
            "colorbar": {
             "outlinewidth": 0,
             "ticks": ""
            },
            "colorscale": [
             [
              0,
              "#0d0887"
             ],
             [
              0.1111111111111111,
              "#46039f"
             ],
             [
              0.2222222222222222,
              "#7201a8"
             ],
             [
              0.3333333333333333,
              "#9c179e"
             ],
             [
              0.4444444444444444,
              "#bd3786"
             ],
             [
              0.5555555555555556,
              "#d8576b"
             ],
             [
              0.6666666666666666,
              "#ed7953"
             ],
             [
              0.7777777777777778,
              "#fb9f3a"
             ],
             [
              0.8888888888888888,
              "#fdca26"
             ],
             [
              1,
              "#f0f921"
             ]
            ],
            "type": "histogram2dcontour"
           }
          ],
          "mesh3d": [
           {
            "colorbar": {
             "outlinewidth": 0,
             "ticks": ""
            },
            "type": "mesh3d"
           }
          ],
          "parcoords": [
           {
            "line": {
             "colorbar": {
              "outlinewidth": 0,
              "ticks": ""
             }
            },
            "type": "parcoords"
           }
          ],
          "pie": [
           {
            "automargin": true,
            "type": "pie"
           }
          ],
          "scatter": [
           {
            "marker": {
             "colorbar": {
              "outlinewidth": 0,
              "ticks": ""
             }
            },
            "type": "scatter"
           }
          ],
          "scatter3d": [
           {
            "line": {
             "colorbar": {
              "outlinewidth": 0,
              "ticks": ""
             }
            },
            "marker": {
             "colorbar": {
              "outlinewidth": 0,
              "ticks": ""
             }
            },
            "type": "scatter3d"
           }
          ],
          "scattercarpet": [
           {
            "marker": {
             "colorbar": {
              "outlinewidth": 0,
              "ticks": ""
             }
            },
            "type": "scattercarpet"
           }
          ],
          "scattergeo": [
           {
            "marker": {
             "colorbar": {
              "outlinewidth": 0,
              "ticks": ""
             }
            },
            "type": "scattergeo"
           }
          ],
          "scattergl": [
           {
            "marker": {
             "colorbar": {
              "outlinewidth": 0,
              "ticks": ""
             }
            },
            "type": "scattergl"
           }
          ],
          "scattermapbox": [
           {
            "marker": {
             "colorbar": {
              "outlinewidth": 0,
              "ticks": ""
             }
            },
            "type": "scattermapbox"
           }
          ],
          "scatterpolar": [
           {
            "marker": {
             "colorbar": {
              "outlinewidth": 0,
              "ticks": ""
             }
            },
            "type": "scatterpolar"
           }
          ],
          "scatterpolargl": [
           {
            "marker": {
             "colorbar": {
              "outlinewidth": 0,
              "ticks": ""
             }
            },
            "type": "scatterpolargl"
           }
          ],
          "scatterternary": [
           {
            "marker": {
             "colorbar": {
              "outlinewidth": 0,
              "ticks": ""
             }
            },
            "type": "scatterternary"
           }
          ],
          "surface": [
           {
            "colorbar": {
             "outlinewidth": 0,
             "ticks": ""
            },
            "colorscale": [
             [
              0,
              "#0d0887"
             ],
             [
              0.1111111111111111,
              "#46039f"
             ],
             [
              0.2222222222222222,
              "#7201a8"
             ],
             [
              0.3333333333333333,
              "#9c179e"
             ],
             [
              0.4444444444444444,
              "#bd3786"
             ],
             [
              0.5555555555555556,
              "#d8576b"
             ],
             [
              0.6666666666666666,
              "#ed7953"
             ],
             [
              0.7777777777777778,
              "#fb9f3a"
             ],
             [
              0.8888888888888888,
              "#fdca26"
             ],
             [
              1,
              "#f0f921"
             ]
            ],
            "type": "surface"
           }
          ],
          "table": [
           {
            "cells": {
             "fill": {
              "color": "#EBF0F8"
             },
             "line": {
              "color": "white"
             }
            },
            "header": {
             "fill": {
              "color": "#C8D4E3"
             },
             "line": {
              "color": "white"
             }
            },
            "type": "table"
           }
          ]
         },
         "layout": {
          "annotationdefaults": {
           "arrowcolor": "#2a3f5f",
           "arrowhead": 0,
           "arrowwidth": 1
          },
          "coloraxis": {
           "colorbar": {
            "outlinewidth": 0,
            "ticks": ""
           }
          },
          "colorscale": {
           "diverging": [
            [
             0,
             "#8e0152"
            ],
            [
             0.1,
             "#c51b7d"
            ],
            [
             0.2,
             "#de77ae"
            ],
            [
             0.3,
             "#f1b6da"
            ],
            [
             0.4,
             "#fde0ef"
            ],
            [
             0.5,
             "#f7f7f7"
            ],
            [
             0.6,
             "#e6f5d0"
            ],
            [
             0.7,
             "#b8e186"
            ],
            [
             0.8,
             "#7fbc41"
            ],
            [
             0.9,
             "#4d9221"
            ],
            [
             1,
             "#276419"
            ]
           ],
           "sequential": [
            [
             0,
             "#0d0887"
            ],
            [
             0.1111111111111111,
             "#46039f"
            ],
            [
             0.2222222222222222,
             "#7201a8"
            ],
            [
             0.3333333333333333,
             "#9c179e"
            ],
            [
             0.4444444444444444,
             "#bd3786"
            ],
            [
             0.5555555555555556,
             "#d8576b"
            ],
            [
             0.6666666666666666,
             "#ed7953"
            ],
            [
             0.7777777777777778,
             "#fb9f3a"
            ],
            [
             0.8888888888888888,
             "#fdca26"
            ],
            [
             1,
             "#f0f921"
            ]
           ],
           "sequentialminus": [
            [
             0,
             "#0d0887"
            ],
            [
             0.1111111111111111,
             "#46039f"
            ],
            [
             0.2222222222222222,
             "#7201a8"
            ],
            [
             0.3333333333333333,
             "#9c179e"
            ],
            [
             0.4444444444444444,
             "#bd3786"
            ],
            [
             0.5555555555555556,
             "#d8576b"
            ],
            [
             0.6666666666666666,
             "#ed7953"
            ],
            [
             0.7777777777777778,
             "#fb9f3a"
            ],
            [
             0.8888888888888888,
             "#fdca26"
            ],
            [
             1,
             "#f0f921"
            ]
           ]
          },
          "colorway": [
           "#636efa",
           "#EF553B",
           "#00cc96",
           "#ab63fa",
           "#FFA15A",
           "#19d3f3",
           "#FF6692",
           "#B6E880",
           "#FF97FF",
           "#FECB52"
          ],
          "font": {
           "color": "#2a3f5f"
          },
          "geo": {
           "bgcolor": "white",
           "lakecolor": "white",
           "landcolor": "#E5ECF6",
           "showlakes": true,
           "showland": true,
           "subunitcolor": "white"
          },
          "hoverlabel": {
           "align": "left"
          },
          "hovermode": "closest",
          "mapbox": {
           "style": "light"
          },
          "paper_bgcolor": "white",
          "plot_bgcolor": "#E5ECF6",
          "polar": {
           "angularaxis": {
            "gridcolor": "white",
            "linecolor": "white",
            "ticks": ""
           },
           "bgcolor": "#E5ECF6",
           "radialaxis": {
            "gridcolor": "white",
            "linecolor": "white",
            "ticks": ""
           }
          },
          "scene": {
           "xaxis": {
            "backgroundcolor": "#E5ECF6",
            "gridcolor": "white",
            "gridwidth": 2,
            "linecolor": "white",
            "showbackground": true,
            "ticks": "",
            "zerolinecolor": "white"
           },
           "yaxis": {
            "backgroundcolor": "#E5ECF6",
            "gridcolor": "white",
            "gridwidth": 2,
            "linecolor": "white",
            "showbackground": true,
            "ticks": "",
            "zerolinecolor": "white"
           },
           "zaxis": {
            "backgroundcolor": "#E5ECF6",
            "gridcolor": "white",
            "gridwidth": 2,
            "linecolor": "white",
            "showbackground": true,
            "ticks": "",
            "zerolinecolor": "white"
           }
          },
          "shapedefaults": {
           "line": {
            "color": "#2a3f5f"
           }
          },
          "ternary": {
           "aaxis": {
            "gridcolor": "white",
            "linecolor": "white",
            "ticks": ""
           },
           "baxis": {
            "gridcolor": "white",
            "linecolor": "white",
            "ticks": ""
           },
           "bgcolor": "#E5ECF6",
           "caxis": {
            "gridcolor": "white",
            "linecolor": "white",
            "ticks": ""
           }
          },
          "title": {
           "x": 0.05
          },
          "xaxis": {
           "automargin": true,
           "gridcolor": "white",
           "linecolor": "white",
           "ticks": "",
           "title": {
            "standoff": 15
           },
           "zerolinecolor": "white",
           "zerolinewidth": 2
          },
          "yaxis": {
           "automargin": true,
           "gridcolor": "white",
           "linecolor": "white",
           "ticks": "",
           "title": {
            "standoff": 15
           },
           "zerolinecolor": "white",
           "zerolinewidth": 2
          }
         }
        },
        "title": {
         "text": "AAPL Price Future Predictions"
        }
       }
      },
      "text/html": [
       "<div>\n",
       "        \n",
       "        \n",
       "            <div id=\"b66129cb-6db2-46de-88f5-56acd507222d\" class=\"plotly-graph-div\" style=\"height:525px; width:100%;\"></div>\n",
       "            <script type=\"text/javascript\">\n",
       "                require([\"plotly\"], function(Plotly) {\n",
       "                    window.PLOTLYENV=window.PLOTLYENV || {};\n",
       "                    \n",
       "                if (document.getElementById(\"b66129cb-6db2-46de-88f5-56acd507222d\")) {\n",
       "                    Plotly.newPlot(\n",
       "                        'b66129cb-6db2-46de-88f5-56acd507222d',\n",
       "                        [{\"line\": {\"color\": \"light blue\"}, \"name\": \"Past Data\", \"type\": \"scatter\", \"x\": [\"2020-06-01T00:00:00\", \"2020-06-02T00:00:00\", \"2020-06-03T00:00:00\", \"2020-06-04T00:00:00\", \"2020-06-05T00:00:00\", \"2020-06-08T00:00:00\", \"2020-06-09T00:00:00\", \"2020-06-10T00:00:00\", \"2020-06-11T00:00:00\", \"2020-06-12T00:00:00\", \"2020-06-15T00:00:00\", \"2020-06-16T00:00:00\", \"2020-06-17T00:00:00\", \"2020-06-18T00:00:00\", \"2020-06-19T00:00:00\", \"2020-06-22T00:00:00\", \"2020-06-23T00:00:00\", \"2020-06-24T00:00:00\", \"2020-06-25T00:00:00\", \"2020-06-26T00:00:00\", \"2020-06-29T00:00:00\", \"2020-06-30T00:00:00\", \"2020-07-01T00:00:00\", \"2020-07-02T00:00:00\", \"2020-07-06T00:00:00\", \"2020-07-07T00:00:00\", \"2020-07-08T00:00:00\", \"2020-07-09T00:00:00\", \"2020-07-10T00:00:00\", \"2020-07-13T00:00:00\", \"2020-07-14T00:00:00\", \"2020-07-15T00:00:00\", \"2020-07-16T00:00:00\", \"2020-07-17T00:00:00\", \"2020-07-20T00:00:00\", \"2020-07-21T00:00:00\", \"2020-07-22T00:00:00\", \"2020-07-23T00:00:00\", \"2020-07-24T00:00:00\", \"2020-07-27T00:00:00\", \"2020-07-28T00:00:00\", \"2020-07-29T00:00:00\", \"2020-07-30T00:00:00\", \"2020-07-31T00:00:00\", \"2020-08-03T00:00:00\", \"2020-08-04T00:00:00\", \"2020-08-05T00:00:00\", \"2020-08-06T00:00:00\", \"2020-08-07T00:00:00\"], \"y\": [321.85, 323.34, 325.12, 322.32, 331.5, 333.46, 343.99, 352.84, 335.9, 338.8, 342.99, 352.08, 351.59, 351.73, 349.72, 358.87, 366.53, 360.06, 364.84, 353.63, 361.78, 364.8, 364.11, 364.11, 373.85, 372.69, 381.37, 383.01, 383.68, 381.91, 388.23, 390.9, 386.09, 385.31, 393.43, 388.0, 389.09, 371.38, 370.46, 379.24, 373.01, 380.16, 384.76, 425.04, 435.75, 438.66, 440.25, 455.61, 444.45]}, {\"line\": {\"color\": \"rgba(169,169,169, 0.3)\"}, \"name\": \"Lower Series\", \"type\": \"scatter\", \"x\": [\"2020-08-08T00:00:00\", \"2020-08-09T00:00:00\", \"2020-08-10T00:00:00\", \"2020-08-11T00:00:00\", \"2020-08-12T00:00:00\", \"2020-08-13T00:00:00\", \"2020-08-14T00:00:00\", \"2020-08-15T00:00:00\", \"2020-08-16T00:00:00\", \"2020-08-17T00:00:00\"], \"y\": [441.46914265868367, 444.621454279218, 447.31595676034345, 449.8128960883136, 452.1959076921014, 454.61662306713737, 456.96696527381204, 459.2346542309139, 461.4299188108556, 463.6048412586095]}, {\"fill\": \"tonexty\", \"fillcolor\": \"rgba(169,169,169, 0.3)\", \"line\": {\"color\": \"rgba(169,169,169, 0.3)\"}, \"name\": \"Upper Series\", \"type\": \"scatter\", \"x\": [\"2020-08-08T00:00:00\", \"2020-08-09T00:00:00\", \"2020-08-10T00:00:00\", \"2020-08-11T00:00:00\", \"2020-08-12T00:00:00\", \"2020-08-13T00:00:00\", \"2020-08-14T00:00:00\", \"2020-08-15T00:00:00\", \"2020-08-16T00:00:00\", \"2020-08-17T00:00:00\"], \"y\": [467.3708253360807, 469.9475504440073, 472.12890642431813, 474.1473503896202, 476.0768039794817, 478.05348879493306, 479.97885291440673, 481.84081311339594, 483.6477926303276, 485.44654989892985]}, {\"line\": {\"color\": \"darkgreen\"}, \"name\": \"LSTM Predictions\", \"type\": \"scatter\", \"x\": [\"2020-08-08T00:00:00\", \"2020-08-09T00:00:00\", \"2020-08-10T00:00:00\", \"2020-08-11T00:00:00\", \"2020-08-12T00:00:00\", \"2020-08-13T00:00:00\", \"2020-08-14T00:00:00\", \"2020-08-15T00:00:00\", \"2020-08-16T00:00:00\", \"2020-08-17T00:00:00\"], \"y\": [452.82297721862784, 455.67591842651376, 458.1094309234617, 460.3658215332033, 462.52253723144537, 464.72146049499577, 466.86062026977555, 468.92789802551266, 470.9324145507811, 472.9229309844968]}, {\"line\": {\"color\": \"orange\"}, \"name\": \"ARIMA Predictions\", \"type\": \"scatter\", \"x\": [\"2020-08-08T00:00:00\", \"2020-08-09T00:00:00\", \"2020-08-10T00:00:00\", \"2020-08-11T00:00:00\", \"2020-08-12T00:00:00\", \"2020-08-13T00:00:00\", \"2020-08-14T00:00:00\", \"2020-08-15T00:00:00\", \"2020-08-16T00:00:00\", \"2020-08-17T00:00:00\"], \"y\": [454.7887799351574, 457.63489687145903, 460.0570001144145, 462.30035097085363, 464.44333468648944, 466.629340149264, 468.7553309002003, 470.8090954447618, 472.7998720068197, 474.7768978771132]}],\n",
       "                        {\"template\": {\"data\": {\"bar\": [{\"error_x\": {\"color\": \"#2a3f5f\"}, \"error_y\": {\"color\": \"#2a3f5f\"}, \"marker\": {\"line\": {\"color\": \"#E5ECF6\", \"width\": 0.5}}, \"type\": \"bar\"}], \"barpolar\": [{\"marker\": {\"line\": {\"color\": \"#E5ECF6\", \"width\": 0.5}}, \"type\": \"barpolar\"}], \"carpet\": [{\"aaxis\": {\"endlinecolor\": \"#2a3f5f\", \"gridcolor\": \"white\", \"linecolor\": \"white\", \"minorgridcolor\": \"white\", \"startlinecolor\": \"#2a3f5f\"}, \"baxis\": {\"endlinecolor\": \"#2a3f5f\", \"gridcolor\": \"white\", \"linecolor\": \"white\", \"minorgridcolor\": \"white\", \"startlinecolor\": \"#2a3f5f\"}, \"type\": \"carpet\"}], \"choropleth\": [{\"colorbar\": {\"outlinewidth\": 0, \"ticks\": \"\"}, \"type\": \"choropleth\"}], \"contour\": [{\"colorbar\": {\"outlinewidth\": 0, \"ticks\": \"\"}, \"colorscale\": [[0.0, \"#0d0887\"], [0.1111111111111111, \"#46039f\"], [0.2222222222222222, \"#7201a8\"], [0.3333333333333333, \"#9c179e\"], [0.4444444444444444, \"#bd3786\"], [0.5555555555555556, \"#d8576b\"], [0.6666666666666666, \"#ed7953\"], [0.7777777777777778, \"#fb9f3a\"], [0.8888888888888888, \"#fdca26\"], [1.0, \"#f0f921\"]], \"type\": \"contour\"}], \"contourcarpet\": [{\"colorbar\": {\"outlinewidth\": 0, \"ticks\": \"\"}, \"type\": \"contourcarpet\"}], \"heatmap\": [{\"colorbar\": {\"outlinewidth\": 0, \"ticks\": \"\"}, \"colorscale\": [[0.0, \"#0d0887\"], [0.1111111111111111, \"#46039f\"], [0.2222222222222222, \"#7201a8\"], [0.3333333333333333, \"#9c179e\"], [0.4444444444444444, \"#bd3786\"], [0.5555555555555556, \"#d8576b\"], [0.6666666666666666, \"#ed7953\"], [0.7777777777777778, \"#fb9f3a\"], [0.8888888888888888, \"#fdca26\"], [1.0, \"#f0f921\"]], \"type\": \"heatmap\"}], \"heatmapgl\": [{\"colorbar\": {\"outlinewidth\": 0, \"ticks\": \"\"}, \"colorscale\": [[0.0, \"#0d0887\"], [0.1111111111111111, \"#46039f\"], [0.2222222222222222, \"#7201a8\"], [0.3333333333333333, \"#9c179e\"], [0.4444444444444444, \"#bd3786\"], [0.5555555555555556, \"#d8576b\"], [0.6666666666666666, \"#ed7953\"], [0.7777777777777778, \"#fb9f3a\"], [0.8888888888888888, \"#fdca26\"], [1.0, \"#f0f921\"]], \"type\": \"heatmapgl\"}], \"histogram\": [{\"marker\": {\"colorbar\": {\"outlinewidth\": 0, \"ticks\": \"\"}}, \"type\": \"histogram\"}], \"histogram2d\": [{\"colorbar\": {\"outlinewidth\": 0, \"ticks\": \"\"}, \"colorscale\": [[0.0, \"#0d0887\"], [0.1111111111111111, \"#46039f\"], [0.2222222222222222, \"#7201a8\"], [0.3333333333333333, \"#9c179e\"], [0.4444444444444444, \"#bd3786\"], [0.5555555555555556, \"#d8576b\"], [0.6666666666666666, \"#ed7953\"], [0.7777777777777778, \"#fb9f3a\"], [0.8888888888888888, \"#fdca26\"], [1.0, \"#f0f921\"]], \"type\": \"histogram2d\"}], \"histogram2dcontour\": [{\"colorbar\": {\"outlinewidth\": 0, \"ticks\": \"\"}, \"colorscale\": [[0.0, \"#0d0887\"], [0.1111111111111111, \"#46039f\"], [0.2222222222222222, \"#7201a8\"], [0.3333333333333333, \"#9c179e\"], [0.4444444444444444, \"#bd3786\"], [0.5555555555555556, \"#d8576b\"], [0.6666666666666666, \"#ed7953\"], [0.7777777777777778, \"#fb9f3a\"], [0.8888888888888888, \"#fdca26\"], [1.0, \"#f0f921\"]], \"type\": \"histogram2dcontour\"}], \"mesh3d\": [{\"colorbar\": {\"outlinewidth\": 0, \"ticks\": \"\"}, \"type\": \"mesh3d\"}], \"parcoords\": [{\"line\": {\"colorbar\": {\"outlinewidth\": 0, \"ticks\": \"\"}}, \"type\": \"parcoords\"}], \"pie\": [{\"automargin\": true, \"type\": \"pie\"}], \"scatter\": [{\"marker\": {\"colorbar\": {\"outlinewidth\": 0, \"ticks\": \"\"}}, \"type\": \"scatter\"}], \"scatter3d\": [{\"line\": {\"colorbar\": {\"outlinewidth\": 0, \"ticks\": \"\"}}, \"marker\": {\"colorbar\": {\"outlinewidth\": 0, \"ticks\": \"\"}}, \"type\": \"scatter3d\"}], \"scattercarpet\": [{\"marker\": {\"colorbar\": {\"outlinewidth\": 0, \"ticks\": \"\"}}, \"type\": \"scattercarpet\"}], \"scattergeo\": [{\"marker\": {\"colorbar\": {\"outlinewidth\": 0, \"ticks\": \"\"}}, \"type\": \"scattergeo\"}], \"scattergl\": [{\"marker\": {\"colorbar\": {\"outlinewidth\": 0, \"ticks\": \"\"}}, \"type\": \"scattergl\"}], \"scattermapbox\": [{\"marker\": {\"colorbar\": {\"outlinewidth\": 0, \"ticks\": \"\"}}, \"type\": \"scattermapbox\"}], \"scatterpolar\": [{\"marker\": {\"colorbar\": {\"outlinewidth\": 0, \"ticks\": \"\"}}, \"type\": \"scatterpolar\"}], \"scatterpolargl\": [{\"marker\": {\"colorbar\": {\"outlinewidth\": 0, \"ticks\": \"\"}}, \"type\": \"scatterpolargl\"}], \"scatterternary\": [{\"marker\": {\"colorbar\": {\"outlinewidth\": 0, \"ticks\": \"\"}}, \"type\": \"scatterternary\"}], \"surface\": [{\"colorbar\": {\"outlinewidth\": 0, \"ticks\": \"\"}, \"colorscale\": [[0.0, \"#0d0887\"], [0.1111111111111111, \"#46039f\"], [0.2222222222222222, \"#7201a8\"], [0.3333333333333333, \"#9c179e\"], [0.4444444444444444, \"#bd3786\"], [0.5555555555555556, \"#d8576b\"], [0.6666666666666666, \"#ed7953\"], [0.7777777777777778, \"#fb9f3a\"], [0.8888888888888888, \"#fdca26\"], [1.0, \"#f0f921\"]], \"type\": \"surface\"}], \"table\": [{\"cells\": {\"fill\": {\"color\": \"#EBF0F8\"}, \"line\": {\"color\": \"white\"}}, \"header\": {\"fill\": {\"color\": \"#C8D4E3\"}, \"line\": {\"color\": \"white\"}}, \"type\": \"table\"}]}, \"layout\": {\"annotationdefaults\": {\"arrowcolor\": \"#2a3f5f\", \"arrowhead\": 0, \"arrowwidth\": 1}, \"coloraxis\": {\"colorbar\": {\"outlinewidth\": 0, \"ticks\": \"\"}}, \"colorscale\": {\"diverging\": [[0, \"#8e0152\"], [0.1, \"#c51b7d\"], [0.2, \"#de77ae\"], [0.3, \"#f1b6da\"], [0.4, \"#fde0ef\"], [0.5, \"#f7f7f7\"], [0.6, \"#e6f5d0\"], [0.7, \"#b8e186\"], [0.8, \"#7fbc41\"], [0.9, \"#4d9221\"], [1, \"#276419\"]], \"sequential\": [[0.0, \"#0d0887\"], [0.1111111111111111, \"#46039f\"], [0.2222222222222222, \"#7201a8\"], [0.3333333333333333, \"#9c179e\"], [0.4444444444444444, \"#bd3786\"], [0.5555555555555556, \"#d8576b\"], [0.6666666666666666, \"#ed7953\"], [0.7777777777777778, \"#fb9f3a\"], [0.8888888888888888, \"#fdca26\"], [1.0, \"#f0f921\"]], \"sequentialminus\": [[0.0, \"#0d0887\"], [0.1111111111111111, \"#46039f\"], [0.2222222222222222, \"#7201a8\"], [0.3333333333333333, \"#9c179e\"], [0.4444444444444444, \"#bd3786\"], [0.5555555555555556, \"#d8576b\"], [0.6666666666666666, \"#ed7953\"], [0.7777777777777778, \"#fb9f3a\"], [0.8888888888888888, \"#fdca26\"], [1.0, \"#f0f921\"]]}, \"colorway\": [\"#636efa\", \"#EF553B\", \"#00cc96\", \"#ab63fa\", \"#FFA15A\", \"#19d3f3\", \"#FF6692\", \"#B6E880\", \"#FF97FF\", \"#FECB52\"], \"font\": {\"color\": \"#2a3f5f\"}, \"geo\": {\"bgcolor\": \"white\", \"lakecolor\": \"white\", \"landcolor\": \"#E5ECF6\", \"showlakes\": true, \"showland\": true, \"subunitcolor\": \"white\"}, \"hoverlabel\": {\"align\": \"left\"}, \"hovermode\": \"closest\", \"mapbox\": {\"style\": \"light\"}, \"paper_bgcolor\": \"white\", \"plot_bgcolor\": \"#E5ECF6\", \"polar\": {\"angularaxis\": {\"gridcolor\": \"white\", \"linecolor\": \"white\", \"ticks\": \"\"}, \"bgcolor\": \"#E5ECF6\", \"radialaxis\": {\"gridcolor\": \"white\", \"linecolor\": \"white\", \"ticks\": \"\"}}, \"scene\": {\"xaxis\": {\"backgroundcolor\": \"#E5ECF6\", \"gridcolor\": \"white\", \"gridwidth\": 2, \"linecolor\": \"white\", \"showbackground\": true, \"ticks\": \"\", \"zerolinecolor\": \"white\"}, \"yaxis\": {\"backgroundcolor\": \"#E5ECF6\", \"gridcolor\": \"white\", \"gridwidth\": 2, \"linecolor\": \"white\", \"showbackground\": true, \"ticks\": \"\", \"zerolinecolor\": \"white\"}, \"zaxis\": {\"backgroundcolor\": \"#E5ECF6\", \"gridcolor\": \"white\", \"gridwidth\": 2, \"linecolor\": \"white\", \"showbackground\": true, \"ticks\": \"\", \"zerolinecolor\": \"white\"}}, \"shapedefaults\": {\"line\": {\"color\": \"#2a3f5f\"}}, \"ternary\": {\"aaxis\": {\"gridcolor\": \"white\", \"linecolor\": \"white\", \"ticks\": \"\"}, \"baxis\": {\"gridcolor\": \"white\", \"linecolor\": \"white\", \"ticks\": \"\"}, \"bgcolor\": \"#E5ECF6\", \"caxis\": {\"gridcolor\": \"white\", \"linecolor\": \"white\", \"ticks\": \"\"}}, \"title\": {\"x\": 0.05}, \"xaxis\": {\"automargin\": true, \"gridcolor\": \"white\", \"linecolor\": \"white\", \"ticks\": \"\", \"title\": {\"standoff\": 15}, \"zerolinecolor\": \"white\", \"zerolinewidth\": 2}, \"yaxis\": {\"automargin\": true, \"gridcolor\": \"white\", \"linecolor\": \"white\", \"ticks\": \"\", \"title\": {\"standoff\": 15}, \"zerolinecolor\": \"white\", \"zerolinewidth\": 2}}}, \"title\": {\"text\": \"AAPL Price Future Predictions\"}},\n",
       "                        {\"responsive\": true}\n",
       "                    ).then(function(){\n",
       "                            \n",
       "var gd = document.getElementById('b66129cb-6db2-46de-88f5-56acd507222d');\n",
       "var x = new MutationObserver(function (mutations, observer) {{\n",
       "        var display = window.getComputedStyle(gd).display;\n",
       "        if (!display || display === 'none') {{\n",
       "            console.log([gd, 'removed!']);\n",
       "            Plotly.purge(gd);\n",
       "            observer.disconnect();\n",
       "        }}\n",
       "}});\n",
       "\n",
       "// Listen for the removal of the full notebook cells\n",
       "var notebookContainer = gd.closest('#notebook-container');\n",
       "if (notebookContainer) {{\n",
       "    x.observe(notebookContainer, {childList: true});\n",
       "}}\n",
       "\n",
       "// Listen for the clearing of the current output cell\n",
       "var outputEl = gd.closest('.output');\n",
       "if (outputEl) {{\n",
       "    x.observe(outputEl, {childList: true});\n",
       "}}\n",
       "\n",
       "                        })\n",
       "                };\n",
       "                });\n",
       "            </script>\n",
       "        </div>"
      ]
     },
     "metadata": {},
     "output_type": "display_data"
    }
   ],
   "source": [
    "# Future predictions based on lstm_predictions\n",
    "#-------------------Predictions-------------------#\n",
    "if 1:\n",
    "    if transform_boxcox:\n",
    "        dataset = boxcox(dataset, 3)\n",
    "        lstm_predictions = boxcox(df_proj['Future Predictions'].dropna(), 3)\n",
    "    else:\n",
    "        dataset = dataset\n",
    "        lstm_predictions = df_proj['Future Predictions'].dropna()\n",
    "    history = [x for x in dataset]\n",
    "    arima_predictions = list()\n",
    "    upper_series = list();lower_series = list(); stderr = list()\n",
    "    for t in range(len(lstm_predictions)+2):\n",
    "        output = model.predict(1, return_conf_int=True)\n",
    "        model_fit = model.fit(history)\n",
    "        yhat = np.float(output[0]); lower = output[1][0][0]; upper = output[1][0][1]; std = (upper - yhat)/2\n",
    "        arima_predictions.append(yhat); lower_series.append(lower); upper_series.append(upper); stderr.append(std)\n",
    "        if t > len(lstm_predictions)-1:\n",
    "            obs = arima_predictions[-1]\n",
    "        else:\n",
    "            obs = lstm_predictions[t]\n",
    "        history.append(obs)\n",
    "        pass\n",
    "    if use_log:\n",
    "        train_data = np.exp(train_data)\n",
    "        test_data = np.exp(test_data)\n",
    "        arima_predictions = np.exp(arima_predictions)\n",
    "        lower_series = np.exp(lower_series)\n",
    "        upper_series = np.exp(upper_series)\n",
    "        stderr = (upper_series - arima_predictions) / 2\n",
    "        pass\n",
    "    if transform_boxcox:\n",
    "        arima_predictions = inv_boxcox(arima_predictions, 3)\n",
    "        lower_series = inv_boxcox(lower_series, 3)\n",
    "        upper_series = inv_boxcox(upper_series, 3)\n",
    "        stderr = (upper_series - arima_predictions) / 2\n",
    "        dataset = inv_boxcox(dataset, 3)\n",
    "        lstm_predictions = inv_boxcox(lstm_predictions, 3)\n",
    "        pass\n",
    "    index_range = lstm_predictions.index\n",
    "    arima_predictions = pd.Series(arima_predictions[2:], index = index_range)\n",
    "    lower_series = pd.Series(lower_series[2:], index = index_range)\n",
    "    upper_series = pd.Series(upper_series[2:], index = index_range)\n",
    "    stderr = pd.Series(stderr[2:], index = index_range)\n",
    "    print('Prediction done')\n",
    "    final_result = pd.DataFrame({'ARIMA Predictions': arima_predictions, 'Lower Series': lower_series,\n",
    "                                 'Upper Series': upper_series, 'Stderr': stderr})\n",
    "    pass\n",
    "#-------------------Plot-------------------#\n",
    "if 1:\n",
    "    plot_data = [go.Scatter(x = dt2.index, y = dt2['Close'].values, name = 'Past Data', line = dict(color = 'light blue')),\n",
    "                 go.Scatter(x = lower_series.index, y = lower_series, name = 'Lower Series', \n",
    "                            line = dict(color = 'rgba(169,169,169, 0.3)')),\n",
    "                 go.Scatter(x = upper_series.index, y = upper_series, name = 'Upper Series', \n",
    "                            line = dict(color = 'rgba(169,169,169, 0.3)'), fill='tonexty', \n",
    "                            fillcolor= 'rgba(169,169,169, 0.3)'),\n",
    "                 go.Scatter(x = lstm_predictions.index, y = lstm_predictions, name = 'LSTM Predictions',\n",
    "                            line = dict(color = 'darkgreen')),\n",
    "                 go.Scatter(x = arima_predictions.index, y = arima_predictions, name = 'ARIMA Predictions', \n",
    "                            line = dict(color = 'orange')),\n",
    "#                  go.Scatter(x = valuesid.index, y = arima_predictions, name = 'ARIMA Predictions', \n",
    "#                             line = dict(color = 'orange')),\n",
    "                ]\n",
    "    plot_layout = go.Layout(title = 'AAPL Price Future Predictions')\n",
    "    fig = go.Figure(data = plot_data, layout = plot_layout)\n",
    "    pyoff.iplot(fig)\n",
    "    pass"
   ]
  },
  {
   "cell_type": "markdown",
   "metadata": {
    "heading_collapsed": true
   },
   "source": [
    "# Calculate Probability"
   ]
  },
  {
   "cell_type": "code",
   "execution_count": 74,
   "metadata": {
    "ExecuteTime": {
     "end_time": "2020-08-11T09:44:54.936855Z",
     "start_time": "2020-08-11T09:44:54.847194Z"
    },
    "code_folding": [
     0,
     1,
     5,
     9,
     13,
     38,
     40,
     43
    ],
    "hidden": true,
    "scrolled": false
   },
   "outputs": [],
   "source": [
    "# Probability-Plot Functions\n",
    "def when_to_calc(days = 1):\n",
    "    '''When do you want to calculate the probability after the last day recorded'''\n",
    "    when = days - 1\n",
    "    return when\n",
    "def pdf_prob(x, mu, stdev):\n",
    "    '''Calculate area under(probability) the curve on PDF curve'''\n",
    "    p_pdf = stats.norm.pdf((x - mu)/stdev)\n",
    "    return p_pdf\n",
    "def cdf_prob(x, mu, stdev):\n",
    "    '''Calculate probability of a CDF curve'''\n",
    "    p_cdf = stats.norm.cdf((x-mu)/stdev)\n",
    "    return p_cdf\n",
    "def create_normal_plot(interval = 200, add_to_chart = None):\n",
    "    '''\n",
    "    This creates a plotly of Normal Distribution of LSTM-ARIMA Prediction.\n",
    "    ----------------------------------------------------------------------\n",
    "    Parameters:\n",
    "    - when : int. Default: 1. When do you want the calculation took place after the last day\n",
    "    - interval : int. Default: 200. How many samples in the distribution\n",
    "    - add_to_chart : list. Default: None. A list of go.Scatter to add to chart\n",
    "    '''\n",
    "    X = np.linspace(mu - 3*stdev, mu + 3*stdev, interval)\n",
    "    Y = stats.norm.pdf(X, arima_predictions[when], stderr[when])\n",
    "    y_lastprice = stats.norm.pdf((dataset[-1] - arima_predictions[when]) / stderr[when])\n",
    "    # Normalize data to a proper PDF\n",
    "    Y /= (0.025 * Y).sum()\n",
    "    # Compute the CDF\n",
    "    CY = np.cumsum(Y * 0.025)\n",
    "    # Plot both\n",
    "    plot_data = [\n",
    "                 go.Scatter(x = X, y = Y, line = dict(color = 'light blue'), name = 'PDF'),\n",
    "                 go.Scatter(x = X, y = CY, line = dict(color = 'orange'), name = 'CDF'),\n",
    "                 go.Scatter(x = [arima_predictions[when], arima_predictions[when]], y = [0, max(Y)], \n",
    "                            line = dict(color = 'royal blue', width = 3), opacity = 0.5, name = 'Mu'), \n",
    "                 go.Scatter(x = [dataset[-1], dataset[-1]], y = [0, pdf_prob(dataset[-1], mu, stdev)],\n",
    "                            line = dict(color = 'black'), opacity = 1, name = 'Last price'),\n",
    "                ]\n",
    "    if add_to_chart == None:\n",
    "        pass\n",
    "    else:\n",
    "        for x in range(len(add_to_chart)):\n",
    "            plot_data.append(add_to_chart[x])\n",
    "    plot_layout = go.Layout(title = 'AAPL Predicted ' +\n",
    "                            'Price Probability Distribution on %s' % arima_predictions.index[when].date())\n",
    "    fig = go.Figure(data = plot_data, layout = plot_layout)\n",
    "    pyoff.iplot(fig)\n",
    "    return None"
   ]
  },
  {
   "cell_type": "code",
   "execution_count": 75,
   "metadata": {
    "ExecuteTime": {
     "end_time": "2020-08-11T09:44:55.200754Z",
     "start_time": "2020-08-11T09:44:54.940854Z"
    },
    "code_folding": [
     0,
     2,
     8
    ],
    "hidden": true,
    "scrolled": false
   },
   "outputs": [
    {
     "data": {
      "application/vnd.plotly.v1+json": {
       "config": {
        "linkText": "Export to plot.ly",
        "plotlyServerURL": "https://plot.ly",
        "showLink": false
       },
       "data": [
        {
         "line": {
          "color": "light blue"
         },
         "name": "PDF",
         "type": "scatter",
         "x": [
          435.9157118337724,
          436.0736454580518,
          436.2315790823311,
          436.3895127066105,
          436.54744633088984,
          436.70537995516924,
          436.86331357944863,
          437.02124720372797,
          437.17918082800736,
          437.33711445228676,
          437.4950480765661,
          437.6529817008455,
          437.8109153251248,
          437.9688489494042,
          438.1267825736836,
          438.28471619796295,
          438.44264982224234,
          438.6005834465217,
          438.7585170708011,
          438.91645069508047,
          439.0743843193598,
          439.2323179436392,
          439.3902515679186,
          439.54818519219793,
          439.70611881647733,
          439.86405244075667,
          440.02198606503606,
          440.17991968931545,
          440.3378533135948,
          440.4957869378742,
          440.6537205621535,
          440.8116541864329,
          440.9695878107123,
          441.12752143499165,
          441.28545505927104,
          441.44338868355044,
          441.6013223078298,
          441.75925593210917,
          441.9171895563885,
          442.0751231806679,
          442.2330568049473,
          442.39099042922663,
          442.548924053506,
          442.70685767778537,
          442.86479130206476,
          443.02272492634415,
          443.1806585506235,
          443.3385921749029,
          443.4965257991823,
          443.6544594234616,
          443.812393047741,
          443.97032667202035,
          444.12826029629974,
          444.28619392057914,
          444.4441275448585,
          444.60206116913787,
          444.7599947934172,
          444.9179284176966,
          445.075862041976,
          445.23379566625533,
          445.3917292905347,
          445.5496629148141,
          445.70759653909346,
          445.86553016337285,
          446.0234637876522,
          446.1813974119316,
          446.339331036211,
          446.4972646604903,
          446.6551982847697,
          446.81313190904905,
          446.97106553332844,
          447.12899915760784,
          447.2869327818872,
          447.44486640616657,
          447.60280003044596,
          447.7607336547253,
          447.9186672790047,
          448.07660090328403,
          448.2345345275634,
          448.3924681518428,
          448.55040177612216,
          448.70833540040155,
          448.8662690246809,
          449.0242026489603,
          449.1821362732397,
          449.340069897519,
          449.4980035217984,
          449.6559371460778,
          449.81387077035714,
          449.97180439463654,
          450.1297380189159,
          450.28767164319527,
          450.44560526747466,
          450.603538891754,
          450.7614725160334,
          450.91940614031273,
          451.0773397645921,
          451.2352733888715,
          451.39320701315086,
          451.55114063743025,
          451.70907426170965,
          451.867007885989,
          452.0249415102684,
          452.1828751345477,
          452.3408087588271,
          452.4987423831065,
          452.65667600738584,
          452.81460963166523,
          452.9725432559446,
          453.13047688022397,
          453.28841050450336,
          453.4463441287827,
          453.6042777530621,
          453.7622113773415,
          453.9201450016208,
          454.0780786259002,
          454.23601225017956,
          454.39394587445895,
          454.55187949873834,
          454.7098131230177,
          454.8677467472971,
          455.0256803715764,
          455.1836139958558,
          455.3415476201352,
          455.49948124441454,
          455.65741486869393,
          455.81534849297327,
          455.97328211725267,
          456.13121574153206,
          456.2891493658114,
          456.4470829900908,
          456.6050166143702,
          456.7629502386495,
          456.9208838629289,
          457.07881748720825,
          457.23675111148765,
          457.39468473576704,
          457.5526183600464,
          457.7105519843258,
          457.86848560860517,
          458.0264192328845,
          458.1843528571639,
          458.34228648144324,
          458.50022010572263,
          458.658153730002,
          458.81608735428136,
          458.97402097856076,
          459.1319546028401,
          459.2898882271195,
          459.4478218513989,
          459.6057554756782,
          459.7636890999576,
          459.92162272423695,
          460.07955634851635,
          460.23748997279574,
          460.3954235970751,
          460.5533572213545,
          460.71129084563387,
          460.8692244699132,
          461.0271580941926,
          461.18509171847194,
          461.34302534275133,
          461.5009589670307,
          461.65889259131006,
          461.81682621558946,
          461.97475983986885,
          462.1326934641482,
          462.2906270884276,
          462.4485607127069,
          462.6064943369863,
          462.7644279612657,
          462.92236158554505,
          463.08029520982444,
          463.2382288341038,
          463.3961624583832,
          463.55409608266257,
          463.7120297069419,
          463.8699633312213,
          464.02789695550064,
          464.18583057978003,
          464.3437642040594,
          464.50169782833876,
          464.65963145261816,
          464.81756507689755,
          464.9754987011769,
          465.1334323254563,
          465.2913659497356,
          465.449299574015,
          465.6072331982944,
          465.76516682257375,
          465.92310044685314,
          466.08103407113254,
          466.2389676954119,
          466.39690131969127,
          466.5548349439706,
          466.71276856825,
          466.8707021925294,
          467.02863581680873,
          467.1865694410881,
          467.34450306536746,
          467.50243668964686,
          467.66037031392625,
          467.8183039382056,
          467.976237562485,
          468.1341711867643,
          468.2921048110437,
          468.4500384353231,
          468.60797205960245,
          468.76590568388184,
          468.92383930816123,
          469.0817729324406,
          469.23970655671997,
          469.3976401809993,
          469.5555738052787,
          469.7135074295581,
          469.87144105383743,
          470.0293746781168,
          470.1873083023962,
          470.34524192667556,
          470.50317555095495,
          470.6611091752343,
          470.8190427995137,
          470.9769764237931,
          471.1349100480724,
          471.2928436723518,
          471.45077729663114,
          471.60871092091054,
          471.76664454518993,
          471.92457816946927,
          472.08251179374867,
          472.240445418028,
          472.3983790423074,
          472.5563126665868,
          472.71424629086613,
          472.8721799151455,
          473.0301135394249,
          473.18804716370425,
          473.34598078798365,
          473.503914412263,
          473.6618480365424
         ],
         "y": [
          0.004461947855607904,
          0.004809456560802173,
          0.005180764035228757,
          0.005577221690151149,
          0.006000235456467555,
          0.006451266279432672,
          0.006931830471278782,
          0.007443499909583117,
          0.007987902069011506,
          0.008566719873903993,
          0.009181691359062997,
          0.009834609126047769,
          0.010527319582287413,
          0.011261721950410227,
          0.012039767035322394,
          0.01286345573680595,
          0.01373483729570092,
          0.01465600726212202,
          0.015629105174644914,
          0.016656311939943037,
          0.017739846903030054,
          0.018881964599003872,
          0.020084951178035482,
          0.021351120496304835,
          0.022682809866623032,
          0.02408237546362476,
          0.025552187379678844,
          0.02709462432898371,
          0.028712067998783588,
          0.03040689704816104,
          0.032181480756487905,
          0.034038172325354,
          0.03597930183955696,
          0.038007168894646275,
          0.04012403490043976,
          0.04233211507193712,
          0.044633570121141206,
          0.04703049766538989,
          0.04952492336994494,
          0.0521187918447892,
          0.054813957317725925,
          0.057612174108113166,
          0.06051508692771859,
          0.06352422103733903,
          0.06664097228998717,
          0.06986659709346611,
          0.07320220232721585,
          0.07664873525020884,
          0.08020697343850264,
          0.08387751479281046,
          0.08766076765801825,
          0.09155694109802558,
          0.09556603537063431,
          0.09968783264826435,
          0.10392188803129143,
          0.10826752090150095,
          0.11272380666367915,
          0.11728956892372705,
          0.12196337215166772,
          0.12674351487783234,
          0.13162802347002509,
          0.136614646538775,
          0.14170085001686894,
          0.14688381295807687,
          0.15216042409846298,
          0.1575272792219462,
          0.1629806793695968,
          0.168516629929905,
          0.17413084064456377,
          0.17981872656140613,
          0.18557540996304842,
          0.19139572329626414,
          0.1972742131235695,
          0.20320514511454277,
          0.2091825100903031,
          0.21520003113033268,
          0.22125117174629425,
          0.2273291451228585,
          0.23342692442086135,
          0.23953725413310772,
          0.24565266247828663,
          0.2517654748133519,
          0.257867828039654,
          0.2639516859731112,
          0.27000885564353183,
          0.2760310044833228,
          0.2820096783608202,
          0.28793632040867556,
          0.2938022905931226,
          0.2995988859654004,
          0.30531736153231415,
          0.3109489516789283,
          0.3164848920724696,
          0.3219164419731167,
          0.3272349068740697,
          0.3324316613904325,
          0.33749817231398793,
          0.3424260217487115,
          0.34720693024023425,
          0.3518327798110751,
          0.3562956368125732,
          0.36058777450403573,
          0.36470169526956153,
          0.368630152383447,
          0.3723661712360311,
          0.37590306993311695,
          0.3792344791839986,
          0.38235436139533613,
          0.3852570288908327,
          0.3879371611798424,
          0.39038982120153054,
          0.3926104704752216,
          0.3945949830918649,
          0.39633965848625036,
          0.39784123293465357,
          0.3990968897279024,
          0.4001042679754796,
          0.4008614700021575,
          0.401367067304713,
          0.40162010504256457,
          0.40162010504256457,
          0.401367067304713,
          0.4008614700021575,
          0.4001042679754796,
          0.3990968897279024,
          0.39784123293465357,
          0.39633965848625036,
          0.3945949830918649,
          0.3926104704752216,
          0.39038982120153054,
          0.3879371611798424,
          0.3852570288908327,
          0.38235436139533613,
          0.3792344791839986,
          0.37590306993311695,
          0.3723661712360311,
          0.368630152383447,
          0.36470169526956153,
          0.36058777450403573,
          0.35629563681257165,
          0.3518327798110751,
          0.34720693024023425,
          0.3424260217487115,
          0.33749817231398793,
          0.3324316613904325,
          0.3272349068740697,
          0.3219164419731167,
          0.3164848920724696,
          0.3109489516789283,
          0.30531736153231415,
          0.2995988859654004,
          0.2938022905931226,
          0.28793632040867556,
          0.2820096783608202,
          0.2760310044833228,
          0.27000885564353183,
          0.2639516859731112,
          0.257867828039654,
          0.2517654748133519,
          0.24565266247828663,
          0.23953725413310772,
          0.23342692442086135,
          0.2273291451228585,
          0.22125117174629425,
          0.21520003113033268,
          0.20918251009030095,
          0.20320514511454277,
          0.1972742131235695,
          0.19139572329626414,
          0.18557540996304842,
          0.17981872656140613,
          0.17413084064456377,
          0.168516629929905,
          0.1629806793695968,
          0.1575272792219462,
          0.15216042409846298,
          0.14688381295807687,
          0.14170085001686894,
          0.136614646538775,
          0.13162802347002509,
          0.12674351487783234,
          0.12196337215166772,
          0.11728956892372705,
          0.11272380666367915,
          0.10826752090150095,
          0.10392188803129143,
          0.09968783264826435,
          0.09556603537063431,
          0.09155694109802558,
          0.08766076765801825,
          0.08387751479281046,
          0.08020697343850136,
          0.07664873525020884,
          0.07320220232721585,
          0.06986659709346611,
          0.06664097228998717,
          0.06352422103733903,
          0.06051508692771859,
          0.057612174108113166,
          0.054813957317725925,
          0.0521187918447892,
          0.04952492336994494,
          0.04703049766538989,
          0.044633570121141206,
          0.04233211507193712,
          0.04012403490043976,
          0.038007168894646275,
          0.03597930183955696,
          0.034038172325354,
          0.032181480756487905,
          0.03040689704816104,
          0.028712067998783588,
          0.02709462432898371,
          0.025552187379678844,
          0.02408237546362476,
          0.022682809866623032,
          0.021351120496304835,
          0.020084951178035024,
          0.018881964599003872,
          0.017739846903030054,
          0.016656311939943037,
          0.015629105174644914,
          0.01465600726212202,
          0.01373483729570092,
          0.01286345573680595,
          0.012039767035322394,
          0.011261721950410227,
          0.010527319582287413,
          0.009834609126047769,
          0.009181691359062997,
          0.008566719873903993,
          0.007987902069011506,
          0.007443499909583117,
          0.006931830471278782,
          0.006451266279432672,
          0.006000235456467555,
          0.005577221690151149,
          0.005180764035228757,
          0.004809456560802173,
          0.004461947855607904
         ]
        },
        {
         "line": {
          "color": "orange"
         },
         "name": "CDF",
         "type": "scatter",
         "x": [
          435.9157118337724,
          436.0736454580518,
          436.2315790823311,
          436.3895127066105,
          436.54744633088984,
          436.70537995516924,
          436.86331357944863,
          437.02124720372797,
          437.17918082800736,
          437.33711445228676,
          437.4950480765661,
          437.6529817008455,
          437.8109153251248,
          437.9688489494042,
          438.1267825736836,
          438.28471619796295,
          438.44264982224234,
          438.6005834465217,
          438.7585170708011,
          438.91645069508047,
          439.0743843193598,
          439.2323179436392,
          439.3902515679186,
          439.54818519219793,
          439.70611881647733,
          439.86405244075667,
          440.02198606503606,
          440.17991968931545,
          440.3378533135948,
          440.4957869378742,
          440.6537205621535,
          440.8116541864329,
          440.9695878107123,
          441.12752143499165,
          441.28545505927104,
          441.44338868355044,
          441.6013223078298,
          441.75925593210917,
          441.9171895563885,
          442.0751231806679,
          442.2330568049473,
          442.39099042922663,
          442.548924053506,
          442.70685767778537,
          442.86479130206476,
          443.02272492634415,
          443.1806585506235,
          443.3385921749029,
          443.4965257991823,
          443.6544594234616,
          443.812393047741,
          443.97032667202035,
          444.12826029629974,
          444.28619392057914,
          444.4441275448585,
          444.60206116913787,
          444.7599947934172,
          444.9179284176966,
          445.075862041976,
          445.23379566625533,
          445.3917292905347,
          445.5496629148141,
          445.70759653909346,
          445.86553016337285,
          446.0234637876522,
          446.1813974119316,
          446.339331036211,
          446.4972646604903,
          446.6551982847697,
          446.81313190904905,
          446.97106553332844,
          447.12899915760784,
          447.2869327818872,
          447.44486640616657,
          447.60280003044596,
          447.7607336547253,
          447.9186672790047,
          448.07660090328403,
          448.2345345275634,
          448.3924681518428,
          448.55040177612216,
          448.70833540040155,
          448.8662690246809,
          449.0242026489603,
          449.1821362732397,
          449.340069897519,
          449.4980035217984,
          449.6559371460778,
          449.81387077035714,
          449.97180439463654,
          450.1297380189159,
          450.28767164319527,
          450.44560526747466,
          450.603538891754,
          450.7614725160334,
          450.91940614031273,
          451.0773397645921,
          451.2352733888715,
          451.39320701315086,
          451.55114063743025,
          451.70907426170965,
          451.867007885989,
          452.0249415102684,
          452.1828751345477,
          452.3408087588271,
          452.4987423831065,
          452.65667600738584,
          452.81460963166523,
          452.9725432559446,
          453.13047688022397,
          453.28841050450336,
          453.4463441287827,
          453.6042777530621,
          453.7622113773415,
          453.9201450016208,
          454.0780786259002,
          454.23601225017956,
          454.39394587445895,
          454.55187949873834,
          454.7098131230177,
          454.8677467472971,
          455.0256803715764,
          455.1836139958558,
          455.3415476201352,
          455.49948124441454,
          455.65741486869393,
          455.81534849297327,
          455.97328211725267,
          456.13121574153206,
          456.2891493658114,
          456.4470829900908,
          456.6050166143702,
          456.7629502386495,
          456.9208838629289,
          457.07881748720825,
          457.23675111148765,
          457.39468473576704,
          457.5526183600464,
          457.7105519843258,
          457.86848560860517,
          458.0264192328845,
          458.1843528571639,
          458.34228648144324,
          458.50022010572263,
          458.658153730002,
          458.81608735428136,
          458.97402097856076,
          459.1319546028401,
          459.2898882271195,
          459.4478218513989,
          459.6057554756782,
          459.7636890999576,
          459.92162272423695,
          460.07955634851635,
          460.23748997279574,
          460.3954235970751,
          460.5533572213545,
          460.71129084563387,
          460.8692244699132,
          461.0271580941926,
          461.18509171847194,
          461.34302534275133,
          461.5009589670307,
          461.65889259131006,
          461.81682621558946,
          461.97475983986885,
          462.1326934641482,
          462.2906270884276,
          462.4485607127069,
          462.6064943369863,
          462.7644279612657,
          462.92236158554505,
          463.08029520982444,
          463.2382288341038,
          463.3961624583832,
          463.55409608266257,
          463.7120297069419,
          463.8699633312213,
          464.02789695550064,
          464.18583057978003,
          464.3437642040594,
          464.50169782833876,
          464.65963145261816,
          464.81756507689755,
          464.9754987011769,
          465.1334323254563,
          465.2913659497356,
          465.449299574015,
          465.6072331982944,
          465.76516682257375,
          465.92310044685314,
          466.08103407113254,
          466.2389676954119,
          466.39690131969127,
          466.5548349439706,
          466.71276856825,
          466.8707021925294,
          467.02863581680873,
          467.1865694410881,
          467.34450306536746,
          467.50243668964686,
          467.66037031392625,
          467.8183039382056,
          467.976237562485,
          468.1341711867643,
          468.2921048110437,
          468.4500384353231,
          468.60797205960245,
          468.76590568388184,
          468.92383930816123,
          469.0817729324406,
          469.23970655671997,
          469.3976401809993,
          469.5555738052787,
          469.7135074295581,
          469.87144105383743,
          470.0293746781168,
          470.1873083023962,
          470.34524192667556,
          470.50317555095495,
          470.6611091752343,
          470.8190427995137,
          470.9769764237931,
          471.1349100480724,
          471.2928436723518,
          471.45077729663114,
          471.60871092091054,
          471.76664454518993,
          471.92457816946927,
          472.08251179374867,
          472.240445418028,
          472.3983790423074,
          472.5563126665868,
          472.71424629086613,
          472.8721799151455,
          473.0301135394249,
          473.18804716370425,
          473.34598078798365,
          473.503914412263,
          473.6618480365424
         ],
         "y": [
          0.0001115486963901976,
          0.00023178511041025194,
          0.00036130421129097084,
          0.0005007347535447496,
          0.0006507406399564384,
          0.0008120222969422552,
          0.0009853180587242247,
          0.0011714055564638027,
          0.0013711031081890903,
          0.0015852711050366901,
          0.0018148133890132652,
          0.0020606786171644595,
          0.0023238616067216447,
          0.0026054046554819005,
          0.0029063988313649605,
          0.0032279852247851094,
          0.0035713561571776324,
          0.003937756338730683,
          0.004328483968096806,
          0.004744891766595382,
          0.005188387939171133,
          0.00566043705414623,
          0.006162560833597117,
          0.006696338846004738,
          0.007263409092670314,
          0.007865468479260933,
          0.008504273163752905,
          0.009181638771977498,
          0.009899440471947088,
          0.010659612898151115,
          0.011464149917063312,
          0.012315104225197162,
          0.013214586771186086,
          0.014164765993552243,
          0.015167866866063237,
          0.016226169742861667,
          0.017342008995890196,
          0.018517771437524942,
          0.019755894521773565,
          0.021058864317893295,
          0.022429213250836442,
          0.02386951760353927,
          0.025382394776732237,
          0.026970500302665713,
          0.028636524609915393,
          0.030383189537252046,
          0.03221324459543244,
          0.03412946297668766,
          0.03613463731265023,
          0.038231575182470494,
          0.04042309437392095,
          0.042712017901371586,
          0.04510116878563744,
          0.04759336460184405,
          0.05019141180262634,
          0.052898099825163865,
          0.05571619499175584,
          0.05864843421484902,
          0.061697518518640714,
          0.06486610639058653,
          0.06815680697733716,
          0.07157217314080654,
          0.07511469439122825,
          0.07878678971518017,
          0.08259080031764175,
          0.08652898229819041,
          0.09060349928243033,
          0.09481641503067796,
          0.09916968604679205,
          0.1036651542108272,
          0.10830453945990341,
          0.11308943254231002,
          0.11802128787039926,
          0.12310141649826283,
          0.1283309792505204,
          0.1337109800287787,
          0.13924225932243606,
          0.14492548795050753,
          0.15076116106102905,
          0.15674959241435674,
          0.1628909089763139,
          0.16918504584664767,
          0.17563174154763903,
          0.18223053369696682,
          0.18898075508805512,
          0.19588153020013818,
          0.2029317721591587,
          0.2101301801693756,
          0.21747523743420366,
          0.22496520958333868,
          0.23259814362164655,
          0.24037186741361977,
          0.2482839897154315,
          0.2563319007647594,
          0.26451277343661117,
          0.272823564971372,
          0.2812610192792217,
          0.2898216698229395,
          0.29850184307894534,
          0.3072976625742222,
          0.31620505349453654,
          0.3252197478571374,
          0.3343372902388765,
          0.34355304404846265,
          0.35286219832936344,
          0.36225977507769136,
          0.3717406370572913,
          0.38129949609217473,
          0.39093092181444555,
          0.40062935084394163,
          0.4103890963739799,
          0.42020435813586043,
          0.43006923271315706,
          0.43997772417531333,
          0.44992375499867965,
          0.45990117724187723,
          0.4699037839412642,
          0.47992532069131816,
          0.48995949737393596,
          0.5000000000000001,
          0.5100405026260643,
          0.5200746793086821,
          0.530096216058736,
          0.540098822758123,
          0.5500762450013206,
          0.5600222758246869,
          0.5699307672868431,
          0.5797956418641397,
          0.5896109036260202,
          0.5993706491560584,
          0.6090690781855544,
          0.6187005039078253,
          0.6282593629427087,
          0.6377402249223086,
          0.6471378016706366,
          0.6564469559515373,
          0.6656627097611235,
          0.6747802521428625,
          0.6837949465054635,
          0.6927023374257778,
          0.7014981569210547,
          0.7101783301770606,
          0.7187389807207784,
          0.727176435028628,
          0.7354872265633888,
          0.7436680992352406,
          0.7517160102845685,
          0.7596281325863802,
          0.7674018563783533,
          0.7750347904166612,
          0.7825247625657963,
          0.7898698198306243,
          0.7970682278408412,
          0.8041184697998617,
          0.8110192449119448,
          0.817769466303033,
          0.8243682584523608,
          0.8308149541533522,
          0.8371090910236859,
          0.8432504075856431,
          0.8492388389389708,
          0.8550745120494924,
          0.8607577406775638,
          0.8662890199712212,
          0.8716690207494795,
          0.876898583501737,
          0.8819787121296006,
          0.8869105674576898,
          0.8916954605400964,
          0.8963348457891727,
          0.9008303139532078,
          0.9051835849693218,
          0.9093965007175695,
          0.9134710177018094,
          0.917409199682358,
          0.9212132102848196,
          0.9248853056087716,
          0.9284278268591933,
          0.9318431930226627,
          0.9351338936094133,
          0.9383024814813592,
          0.9413515657851509,
          0.944283805008244,
          0.947101900174836,
          0.9498085881973735,
          0.9524066353981557,
          0.9548988312143624,
          0.9572879820986282,
          0.9595769056260789,
          0.9617684248175293,
          0.9638653626873496,
          0.965870537023312,
          0.9677867554045673,
          0.9696168104627476,
          0.9713634753900843,
          0.973029499697334,
          0.9746176052232675,
          0.9761304823964604,
          0.9775707867491632,
          0.9789411356821064,
          0.9802441054782262,
          0.9814822285624748,
          0.9826579910041096,
          0.983773830257138,
          0.9848321331339365,
          0.9858352340064475,
          0.9867854132288136,
          0.9876848957748026,
          0.9885358500829364,
          0.9893403871018486,
          0.9901005595280526,
          0.9908183612280222,
          0.9914957268362469,
          0.9921345315207388,
          0.9927365909073295,
          0.993303661153995,
          0.9938374391664027,
          0.9943395629458536,
          0.9948116120608287,
          0.9952551082334045,
          0.9956715160319031,
          0.9960622436612692,
          0.9964286438428223,
          0.9967720147752148,
          0.997093601168635,
          0.997394595344518,
          0.9976761383932783,
          0.9979393213828355,
          0.9981851866109867,
          0.9984147288949632,
          0.9986288968918108,
          0.9988285944435361,
          0.9990146819412757,
          0.9991879777030577,
          0.9993492593600435,
          0.9994992652464552,
          0.9996386957887089,
          0.9997682148895897,
          0.9998884513036097,
          0.9999999999999999
         ]
        },
        {
         "line": {
          "color": "royal blue",
          "width": 3
         },
         "name": "Mu",
         "opacity": 0.5,
         "type": "scatter",
         "x": [
          454.7887799351574,
          454.7887799351574
         ],
         "y": [
          0,
          0.40162010504256457
         ]
        },
        {
         "line": {
          "color": "black"
         },
         "name": "Last price",
         "opacity": 1,
         "type": "scatter",
         "x": [
          444.45000000000033,
          444.45000000000033
         ],
         "y": [
          0,
          0.10337936597740413
         ]
        }
       ],
       "layout": {
        "template": {
         "data": {
          "bar": [
           {
            "error_x": {
             "color": "#2a3f5f"
            },
            "error_y": {
             "color": "#2a3f5f"
            },
            "marker": {
             "line": {
              "color": "#E5ECF6",
              "width": 0.5
             }
            },
            "type": "bar"
           }
          ],
          "barpolar": [
           {
            "marker": {
             "line": {
              "color": "#E5ECF6",
              "width": 0.5
             }
            },
            "type": "barpolar"
           }
          ],
          "carpet": [
           {
            "aaxis": {
             "endlinecolor": "#2a3f5f",
             "gridcolor": "white",
             "linecolor": "white",
             "minorgridcolor": "white",
             "startlinecolor": "#2a3f5f"
            },
            "baxis": {
             "endlinecolor": "#2a3f5f",
             "gridcolor": "white",
             "linecolor": "white",
             "minorgridcolor": "white",
             "startlinecolor": "#2a3f5f"
            },
            "type": "carpet"
           }
          ],
          "choropleth": [
           {
            "colorbar": {
             "outlinewidth": 0,
             "ticks": ""
            },
            "type": "choropleth"
           }
          ],
          "contour": [
           {
            "colorbar": {
             "outlinewidth": 0,
             "ticks": ""
            },
            "colorscale": [
             [
              0,
              "#0d0887"
             ],
             [
              0.1111111111111111,
              "#46039f"
             ],
             [
              0.2222222222222222,
              "#7201a8"
             ],
             [
              0.3333333333333333,
              "#9c179e"
             ],
             [
              0.4444444444444444,
              "#bd3786"
             ],
             [
              0.5555555555555556,
              "#d8576b"
             ],
             [
              0.6666666666666666,
              "#ed7953"
             ],
             [
              0.7777777777777778,
              "#fb9f3a"
             ],
             [
              0.8888888888888888,
              "#fdca26"
             ],
             [
              1,
              "#f0f921"
             ]
            ],
            "type": "contour"
           }
          ],
          "contourcarpet": [
           {
            "colorbar": {
             "outlinewidth": 0,
             "ticks": ""
            },
            "type": "contourcarpet"
           }
          ],
          "heatmap": [
           {
            "colorbar": {
             "outlinewidth": 0,
             "ticks": ""
            },
            "colorscale": [
             [
              0,
              "#0d0887"
             ],
             [
              0.1111111111111111,
              "#46039f"
             ],
             [
              0.2222222222222222,
              "#7201a8"
             ],
             [
              0.3333333333333333,
              "#9c179e"
             ],
             [
              0.4444444444444444,
              "#bd3786"
             ],
             [
              0.5555555555555556,
              "#d8576b"
             ],
             [
              0.6666666666666666,
              "#ed7953"
             ],
             [
              0.7777777777777778,
              "#fb9f3a"
             ],
             [
              0.8888888888888888,
              "#fdca26"
             ],
             [
              1,
              "#f0f921"
             ]
            ],
            "type": "heatmap"
           }
          ],
          "heatmapgl": [
           {
            "colorbar": {
             "outlinewidth": 0,
             "ticks": ""
            },
            "colorscale": [
             [
              0,
              "#0d0887"
             ],
             [
              0.1111111111111111,
              "#46039f"
             ],
             [
              0.2222222222222222,
              "#7201a8"
             ],
             [
              0.3333333333333333,
              "#9c179e"
             ],
             [
              0.4444444444444444,
              "#bd3786"
             ],
             [
              0.5555555555555556,
              "#d8576b"
             ],
             [
              0.6666666666666666,
              "#ed7953"
             ],
             [
              0.7777777777777778,
              "#fb9f3a"
             ],
             [
              0.8888888888888888,
              "#fdca26"
             ],
             [
              1,
              "#f0f921"
             ]
            ],
            "type": "heatmapgl"
           }
          ],
          "histogram": [
           {
            "marker": {
             "colorbar": {
              "outlinewidth": 0,
              "ticks": ""
             }
            },
            "type": "histogram"
           }
          ],
          "histogram2d": [
           {
            "colorbar": {
             "outlinewidth": 0,
             "ticks": ""
            },
            "colorscale": [
             [
              0,
              "#0d0887"
             ],
             [
              0.1111111111111111,
              "#46039f"
             ],
             [
              0.2222222222222222,
              "#7201a8"
             ],
             [
              0.3333333333333333,
              "#9c179e"
             ],
             [
              0.4444444444444444,
              "#bd3786"
             ],
             [
              0.5555555555555556,
              "#d8576b"
             ],
             [
              0.6666666666666666,
              "#ed7953"
             ],
             [
              0.7777777777777778,
              "#fb9f3a"
             ],
             [
              0.8888888888888888,
              "#fdca26"
             ],
             [
              1,
              "#f0f921"
             ]
            ],
            "type": "histogram2d"
           }
          ],
          "histogram2dcontour": [
           {
            "colorbar": {
             "outlinewidth": 0,
             "ticks": ""
            },
            "colorscale": [
             [
              0,
              "#0d0887"
             ],
             [
              0.1111111111111111,
              "#46039f"
             ],
             [
              0.2222222222222222,
              "#7201a8"
             ],
             [
              0.3333333333333333,
              "#9c179e"
             ],
             [
              0.4444444444444444,
              "#bd3786"
             ],
             [
              0.5555555555555556,
              "#d8576b"
             ],
             [
              0.6666666666666666,
              "#ed7953"
             ],
             [
              0.7777777777777778,
              "#fb9f3a"
             ],
             [
              0.8888888888888888,
              "#fdca26"
             ],
             [
              1,
              "#f0f921"
             ]
            ],
            "type": "histogram2dcontour"
           }
          ],
          "mesh3d": [
           {
            "colorbar": {
             "outlinewidth": 0,
             "ticks": ""
            },
            "type": "mesh3d"
           }
          ],
          "parcoords": [
           {
            "line": {
             "colorbar": {
              "outlinewidth": 0,
              "ticks": ""
             }
            },
            "type": "parcoords"
           }
          ],
          "pie": [
           {
            "automargin": true,
            "type": "pie"
           }
          ],
          "scatter": [
           {
            "marker": {
             "colorbar": {
              "outlinewidth": 0,
              "ticks": ""
             }
            },
            "type": "scatter"
           }
          ],
          "scatter3d": [
           {
            "line": {
             "colorbar": {
              "outlinewidth": 0,
              "ticks": ""
             }
            },
            "marker": {
             "colorbar": {
              "outlinewidth": 0,
              "ticks": ""
             }
            },
            "type": "scatter3d"
           }
          ],
          "scattercarpet": [
           {
            "marker": {
             "colorbar": {
              "outlinewidth": 0,
              "ticks": ""
             }
            },
            "type": "scattercarpet"
           }
          ],
          "scattergeo": [
           {
            "marker": {
             "colorbar": {
              "outlinewidth": 0,
              "ticks": ""
             }
            },
            "type": "scattergeo"
           }
          ],
          "scattergl": [
           {
            "marker": {
             "colorbar": {
              "outlinewidth": 0,
              "ticks": ""
             }
            },
            "type": "scattergl"
           }
          ],
          "scattermapbox": [
           {
            "marker": {
             "colorbar": {
              "outlinewidth": 0,
              "ticks": ""
             }
            },
            "type": "scattermapbox"
           }
          ],
          "scatterpolar": [
           {
            "marker": {
             "colorbar": {
              "outlinewidth": 0,
              "ticks": ""
             }
            },
            "type": "scatterpolar"
           }
          ],
          "scatterpolargl": [
           {
            "marker": {
             "colorbar": {
              "outlinewidth": 0,
              "ticks": ""
             }
            },
            "type": "scatterpolargl"
           }
          ],
          "scatterternary": [
           {
            "marker": {
             "colorbar": {
              "outlinewidth": 0,
              "ticks": ""
             }
            },
            "type": "scatterternary"
           }
          ],
          "surface": [
           {
            "colorbar": {
             "outlinewidth": 0,
             "ticks": ""
            },
            "colorscale": [
             [
              0,
              "#0d0887"
             ],
             [
              0.1111111111111111,
              "#46039f"
             ],
             [
              0.2222222222222222,
              "#7201a8"
             ],
             [
              0.3333333333333333,
              "#9c179e"
             ],
             [
              0.4444444444444444,
              "#bd3786"
             ],
             [
              0.5555555555555556,
              "#d8576b"
             ],
             [
              0.6666666666666666,
              "#ed7953"
             ],
             [
              0.7777777777777778,
              "#fb9f3a"
             ],
             [
              0.8888888888888888,
              "#fdca26"
             ],
             [
              1,
              "#f0f921"
             ]
            ],
            "type": "surface"
           }
          ],
          "table": [
           {
            "cells": {
             "fill": {
              "color": "#EBF0F8"
             },
             "line": {
              "color": "white"
             }
            },
            "header": {
             "fill": {
              "color": "#C8D4E3"
             },
             "line": {
              "color": "white"
             }
            },
            "type": "table"
           }
          ]
         },
         "layout": {
          "annotationdefaults": {
           "arrowcolor": "#2a3f5f",
           "arrowhead": 0,
           "arrowwidth": 1
          },
          "coloraxis": {
           "colorbar": {
            "outlinewidth": 0,
            "ticks": ""
           }
          },
          "colorscale": {
           "diverging": [
            [
             0,
             "#8e0152"
            ],
            [
             0.1,
             "#c51b7d"
            ],
            [
             0.2,
             "#de77ae"
            ],
            [
             0.3,
             "#f1b6da"
            ],
            [
             0.4,
             "#fde0ef"
            ],
            [
             0.5,
             "#f7f7f7"
            ],
            [
             0.6,
             "#e6f5d0"
            ],
            [
             0.7,
             "#b8e186"
            ],
            [
             0.8,
             "#7fbc41"
            ],
            [
             0.9,
             "#4d9221"
            ],
            [
             1,
             "#276419"
            ]
           ],
           "sequential": [
            [
             0,
             "#0d0887"
            ],
            [
             0.1111111111111111,
             "#46039f"
            ],
            [
             0.2222222222222222,
             "#7201a8"
            ],
            [
             0.3333333333333333,
             "#9c179e"
            ],
            [
             0.4444444444444444,
             "#bd3786"
            ],
            [
             0.5555555555555556,
             "#d8576b"
            ],
            [
             0.6666666666666666,
             "#ed7953"
            ],
            [
             0.7777777777777778,
             "#fb9f3a"
            ],
            [
             0.8888888888888888,
             "#fdca26"
            ],
            [
             1,
             "#f0f921"
            ]
           ],
           "sequentialminus": [
            [
             0,
             "#0d0887"
            ],
            [
             0.1111111111111111,
             "#46039f"
            ],
            [
             0.2222222222222222,
             "#7201a8"
            ],
            [
             0.3333333333333333,
             "#9c179e"
            ],
            [
             0.4444444444444444,
             "#bd3786"
            ],
            [
             0.5555555555555556,
             "#d8576b"
            ],
            [
             0.6666666666666666,
             "#ed7953"
            ],
            [
             0.7777777777777778,
             "#fb9f3a"
            ],
            [
             0.8888888888888888,
             "#fdca26"
            ],
            [
             1,
             "#f0f921"
            ]
           ]
          },
          "colorway": [
           "#636efa",
           "#EF553B",
           "#00cc96",
           "#ab63fa",
           "#FFA15A",
           "#19d3f3",
           "#FF6692",
           "#B6E880",
           "#FF97FF",
           "#FECB52"
          ],
          "font": {
           "color": "#2a3f5f"
          },
          "geo": {
           "bgcolor": "white",
           "lakecolor": "white",
           "landcolor": "#E5ECF6",
           "showlakes": true,
           "showland": true,
           "subunitcolor": "white"
          },
          "hoverlabel": {
           "align": "left"
          },
          "hovermode": "closest",
          "mapbox": {
           "style": "light"
          },
          "paper_bgcolor": "white",
          "plot_bgcolor": "#E5ECF6",
          "polar": {
           "angularaxis": {
            "gridcolor": "white",
            "linecolor": "white",
            "ticks": ""
           },
           "bgcolor": "#E5ECF6",
           "radialaxis": {
            "gridcolor": "white",
            "linecolor": "white",
            "ticks": ""
           }
          },
          "scene": {
           "xaxis": {
            "backgroundcolor": "#E5ECF6",
            "gridcolor": "white",
            "gridwidth": 2,
            "linecolor": "white",
            "showbackground": true,
            "ticks": "",
            "zerolinecolor": "white"
           },
           "yaxis": {
            "backgroundcolor": "#E5ECF6",
            "gridcolor": "white",
            "gridwidth": 2,
            "linecolor": "white",
            "showbackground": true,
            "ticks": "",
            "zerolinecolor": "white"
           },
           "zaxis": {
            "backgroundcolor": "#E5ECF6",
            "gridcolor": "white",
            "gridwidth": 2,
            "linecolor": "white",
            "showbackground": true,
            "ticks": "",
            "zerolinecolor": "white"
           }
          },
          "shapedefaults": {
           "line": {
            "color": "#2a3f5f"
           }
          },
          "ternary": {
           "aaxis": {
            "gridcolor": "white",
            "linecolor": "white",
            "ticks": ""
           },
           "baxis": {
            "gridcolor": "white",
            "linecolor": "white",
            "ticks": ""
           },
           "bgcolor": "#E5ECF6",
           "caxis": {
            "gridcolor": "white",
            "linecolor": "white",
            "ticks": ""
           }
          },
          "title": {
           "x": 0.05
          },
          "xaxis": {
           "automargin": true,
           "gridcolor": "white",
           "linecolor": "white",
           "ticks": "",
           "title": {
            "standoff": 15
           },
           "zerolinecolor": "white",
           "zerolinewidth": 2
          },
          "yaxis": {
           "automargin": true,
           "gridcolor": "white",
           "linecolor": "white",
           "ticks": "",
           "title": {
            "standoff": 15
           },
           "zerolinecolor": "white",
           "zerolinewidth": 2
          }
         }
        },
        "title": {
         "text": "AAPL Predicted Price Probability Distribution on 2020-08-08"
        }
       }
      },
      "text/html": [
       "<div>\n",
       "        \n",
       "        \n",
       "            <div id=\"087584e9-5837-4577-9d9a-77175eb757ed\" class=\"plotly-graph-div\" style=\"height:525px; width:100%;\"></div>\n",
       "            <script type=\"text/javascript\">\n",
       "                require([\"plotly\"], function(Plotly) {\n",
       "                    window.PLOTLYENV=window.PLOTLYENV || {};\n",
       "                    \n",
       "                if (document.getElementById(\"087584e9-5837-4577-9d9a-77175eb757ed\")) {\n",
       "                    Plotly.newPlot(\n",
       "                        '087584e9-5837-4577-9d9a-77175eb757ed',\n",
       "                        [{\"line\": {\"color\": \"light blue\"}, \"name\": \"PDF\", \"type\": \"scatter\", \"x\": [435.9157118337724, 436.0736454580518, 436.2315790823311, 436.3895127066105, 436.54744633088984, 436.70537995516924, 436.86331357944863, 437.02124720372797, 437.17918082800736, 437.33711445228676, 437.4950480765661, 437.6529817008455, 437.8109153251248, 437.9688489494042, 438.1267825736836, 438.28471619796295, 438.44264982224234, 438.6005834465217, 438.7585170708011, 438.91645069508047, 439.0743843193598, 439.2323179436392, 439.3902515679186, 439.54818519219793, 439.70611881647733, 439.86405244075667, 440.02198606503606, 440.17991968931545, 440.3378533135948, 440.4957869378742, 440.6537205621535, 440.8116541864329, 440.9695878107123, 441.12752143499165, 441.28545505927104, 441.44338868355044, 441.6013223078298, 441.75925593210917, 441.9171895563885, 442.0751231806679, 442.2330568049473, 442.39099042922663, 442.548924053506, 442.70685767778537, 442.86479130206476, 443.02272492634415, 443.1806585506235, 443.3385921749029, 443.4965257991823, 443.6544594234616, 443.812393047741, 443.97032667202035, 444.12826029629974, 444.28619392057914, 444.4441275448585, 444.60206116913787, 444.7599947934172, 444.9179284176966, 445.075862041976, 445.23379566625533, 445.3917292905347, 445.5496629148141, 445.70759653909346, 445.86553016337285, 446.0234637876522, 446.1813974119316, 446.339331036211, 446.4972646604903, 446.6551982847697, 446.81313190904905, 446.97106553332844, 447.12899915760784, 447.2869327818872, 447.44486640616657, 447.60280003044596, 447.7607336547253, 447.9186672790047, 448.07660090328403, 448.2345345275634, 448.3924681518428, 448.55040177612216, 448.70833540040155, 448.8662690246809, 449.0242026489603, 449.1821362732397, 449.340069897519, 449.4980035217984, 449.6559371460778, 449.81387077035714, 449.97180439463654, 450.1297380189159, 450.28767164319527, 450.44560526747466, 450.603538891754, 450.7614725160334, 450.91940614031273, 451.0773397645921, 451.2352733888715, 451.39320701315086, 451.55114063743025, 451.70907426170965, 451.867007885989, 452.0249415102684, 452.1828751345477, 452.3408087588271, 452.4987423831065, 452.65667600738584, 452.81460963166523, 452.9725432559446, 453.13047688022397, 453.28841050450336, 453.4463441287827, 453.6042777530621, 453.7622113773415, 453.9201450016208, 454.0780786259002, 454.23601225017956, 454.39394587445895, 454.55187949873834, 454.7098131230177, 454.8677467472971, 455.0256803715764, 455.1836139958558, 455.3415476201352, 455.49948124441454, 455.65741486869393, 455.81534849297327, 455.97328211725267, 456.13121574153206, 456.2891493658114, 456.4470829900908, 456.6050166143702, 456.7629502386495, 456.9208838629289, 457.07881748720825, 457.23675111148765, 457.39468473576704, 457.5526183600464, 457.7105519843258, 457.86848560860517, 458.0264192328845, 458.1843528571639, 458.34228648144324, 458.50022010572263, 458.658153730002, 458.81608735428136, 458.97402097856076, 459.1319546028401, 459.2898882271195, 459.4478218513989, 459.6057554756782, 459.7636890999576, 459.92162272423695, 460.07955634851635, 460.23748997279574, 460.3954235970751, 460.5533572213545, 460.71129084563387, 460.8692244699132, 461.0271580941926, 461.18509171847194, 461.34302534275133, 461.5009589670307, 461.65889259131006, 461.81682621558946, 461.97475983986885, 462.1326934641482, 462.2906270884276, 462.4485607127069, 462.6064943369863, 462.7644279612657, 462.92236158554505, 463.08029520982444, 463.2382288341038, 463.3961624583832, 463.55409608266257, 463.7120297069419, 463.8699633312213, 464.02789695550064, 464.18583057978003, 464.3437642040594, 464.50169782833876, 464.65963145261816, 464.81756507689755, 464.9754987011769, 465.1334323254563, 465.2913659497356, 465.449299574015, 465.6072331982944, 465.76516682257375, 465.92310044685314, 466.08103407113254, 466.2389676954119, 466.39690131969127, 466.5548349439706, 466.71276856825, 466.8707021925294, 467.02863581680873, 467.1865694410881, 467.34450306536746, 467.50243668964686, 467.66037031392625, 467.8183039382056, 467.976237562485, 468.1341711867643, 468.2921048110437, 468.4500384353231, 468.60797205960245, 468.76590568388184, 468.92383930816123, 469.0817729324406, 469.23970655671997, 469.3976401809993, 469.5555738052787, 469.7135074295581, 469.87144105383743, 470.0293746781168, 470.1873083023962, 470.34524192667556, 470.50317555095495, 470.6611091752343, 470.8190427995137, 470.9769764237931, 471.1349100480724, 471.2928436723518, 471.45077729663114, 471.60871092091054, 471.76664454518993, 471.92457816946927, 472.08251179374867, 472.240445418028, 472.3983790423074, 472.5563126665868, 472.71424629086613, 472.8721799151455, 473.0301135394249, 473.18804716370425, 473.34598078798365, 473.503914412263, 473.6618480365424], \"y\": [0.004461947855607904, 0.004809456560802173, 0.005180764035228757, 0.005577221690151149, 0.006000235456467555, 0.006451266279432672, 0.006931830471278782, 0.007443499909583117, 0.007987902069011506, 0.008566719873903993, 0.009181691359062997, 0.009834609126047769, 0.010527319582287413, 0.011261721950410227, 0.012039767035322394, 0.01286345573680595, 0.01373483729570092, 0.01465600726212202, 0.015629105174644914, 0.016656311939943037, 0.017739846903030054, 0.018881964599003872, 0.020084951178035482, 0.021351120496304835, 0.022682809866623032, 0.02408237546362476, 0.025552187379678844, 0.02709462432898371, 0.028712067998783588, 0.03040689704816104, 0.032181480756487905, 0.034038172325354, 0.03597930183955696, 0.038007168894646275, 0.04012403490043976, 0.04233211507193712, 0.044633570121141206, 0.04703049766538989, 0.04952492336994494, 0.0521187918447892, 0.054813957317725925, 0.057612174108113166, 0.06051508692771859, 0.06352422103733903, 0.06664097228998717, 0.06986659709346611, 0.07320220232721585, 0.07664873525020884, 0.08020697343850264, 0.08387751479281046, 0.08766076765801825, 0.09155694109802558, 0.09556603537063431, 0.09968783264826435, 0.10392188803129143, 0.10826752090150095, 0.11272380666367915, 0.11728956892372705, 0.12196337215166772, 0.12674351487783234, 0.13162802347002509, 0.136614646538775, 0.14170085001686894, 0.14688381295807687, 0.15216042409846298, 0.1575272792219462, 0.1629806793695968, 0.168516629929905, 0.17413084064456377, 0.17981872656140613, 0.18557540996304842, 0.19139572329626414, 0.1972742131235695, 0.20320514511454277, 0.2091825100903031, 0.21520003113033268, 0.22125117174629425, 0.2273291451228585, 0.23342692442086135, 0.23953725413310772, 0.24565266247828663, 0.2517654748133519, 0.257867828039654, 0.2639516859731112, 0.27000885564353183, 0.2760310044833228, 0.2820096783608202, 0.28793632040867556, 0.2938022905931226, 0.2995988859654004, 0.30531736153231415, 0.3109489516789283, 0.3164848920724696, 0.3219164419731167, 0.3272349068740697, 0.3324316613904325, 0.33749817231398793, 0.3424260217487115, 0.34720693024023425, 0.3518327798110751, 0.3562956368125732, 0.36058777450403573, 0.36470169526956153, 0.368630152383447, 0.3723661712360311, 0.37590306993311695, 0.3792344791839986, 0.38235436139533613, 0.3852570288908327, 0.3879371611798424, 0.39038982120153054, 0.3926104704752216, 0.3945949830918649, 0.39633965848625036, 0.39784123293465357, 0.3990968897279024, 0.4001042679754796, 0.4008614700021575, 0.401367067304713, 0.40162010504256457, 0.40162010504256457, 0.401367067304713, 0.4008614700021575, 0.4001042679754796, 0.3990968897279024, 0.39784123293465357, 0.39633965848625036, 0.3945949830918649, 0.3926104704752216, 0.39038982120153054, 0.3879371611798424, 0.3852570288908327, 0.38235436139533613, 0.3792344791839986, 0.37590306993311695, 0.3723661712360311, 0.368630152383447, 0.36470169526956153, 0.36058777450403573, 0.35629563681257165, 0.3518327798110751, 0.34720693024023425, 0.3424260217487115, 0.33749817231398793, 0.3324316613904325, 0.3272349068740697, 0.3219164419731167, 0.3164848920724696, 0.3109489516789283, 0.30531736153231415, 0.2995988859654004, 0.2938022905931226, 0.28793632040867556, 0.2820096783608202, 0.2760310044833228, 0.27000885564353183, 0.2639516859731112, 0.257867828039654, 0.2517654748133519, 0.24565266247828663, 0.23953725413310772, 0.23342692442086135, 0.2273291451228585, 0.22125117174629425, 0.21520003113033268, 0.20918251009030095, 0.20320514511454277, 0.1972742131235695, 0.19139572329626414, 0.18557540996304842, 0.17981872656140613, 0.17413084064456377, 0.168516629929905, 0.1629806793695968, 0.1575272792219462, 0.15216042409846298, 0.14688381295807687, 0.14170085001686894, 0.136614646538775, 0.13162802347002509, 0.12674351487783234, 0.12196337215166772, 0.11728956892372705, 0.11272380666367915, 0.10826752090150095, 0.10392188803129143, 0.09968783264826435, 0.09556603537063431, 0.09155694109802558, 0.08766076765801825, 0.08387751479281046, 0.08020697343850136, 0.07664873525020884, 0.07320220232721585, 0.06986659709346611, 0.06664097228998717, 0.06352422103733903, 0.06051508692771859, 0.057612174108113166, 0.054813957317725925, 0.0521187918447892, 0.04952492336994494, 0.04703049766538989, 0.044633570121141206, 0.04233211507193712, 0.04012403490043976, 0.038007168894646275, 0.03597930183955696, 0.034038172325354, 0.032181480756487905, 0.03040689704816104, 0.028712067998783588, 0.02709462432898371, 0.025552187379678844, 0.02408237546362476, 0.022682809866623032, 0.021351120496304835, 0.020084951178035024, 0.018881964599003872, 0.017739846903030054, 0.016656311939943037, 0.015629105174644914, 0.01465600726212202, 0.01373483729570092, 0.01286345573680595, 0.012039767035322394, 0.011261721950410227, 0.010527319582287413, 0.009834609126047769, 0.009181691359062997, 0.008566719873903993, 0.007987902069011506, 0.007443499909583117, 0.006931830471278782, 0.006451266279432672, 0.006000235456467555, 0.005577221690151149, 0.005180764035228757, 0.004809456560802173, 0.004461947855607904]}, {\"line\": {\"color\": \"orange\"}, \"name\": \"CDF\", \"type\": \"scatter\", \"x\": [435.9157118337724, 436.0736454580518, 436.2315790823311, 436.3895127066105, 436.54744633088984, 436.70537995516924, 436.86331357944863, 437.02124720372797, 437.17918082800736, 437.33711445228676, 437.4950480765661, 437.6529817008455, 437.8109153251248, 437.9688489494042, 438.1267825736836, 438.28471619796295, 438.44264982224234, 438.6005834465217, 438.7585170708011, 438.91645069508047, 439.0743843193598, 439.2323179436392, 439.3902515679186, 439.54818519219793, 439.70611881647733, 439.86405244075667, 440.02198606503606, 440.17991968931545, 440.3378533135948, 440.4957869378742, 440.6537205621535, 440.8116541864329, 440.9695878107123, 441.12752143499165, 441.28545505927104, 441.44338868355044, 441.6013223078298, 441.75925593210917, 441.9171895563885, 442.0751231806679, 442.2330568049473, 442.39099042922663, 442.548924053506, 442.70685767778537, 442.86479130206476, 443.02272492634415, 443.1806585506235, 443.3385921749029, 443.4965257991823, 443.6544594234616, 443.812393047741, 443.97032667202035, 444.12826029629974, 444.28619392057914, 444.4441275448585, 444.60206116913787, 444.7599947934172, 444.9179284176966, 445.075862041976, 445.23379566625533, 445.3917292905347, 445.5496629148141, 445.70759653909346, 445.86553016337285, 446.0234637876522, 446.1813974119316, 446.339331036211, 446.4972646604903, 446.6551982847697, 446.81313190904905, 446.97106553332844, 447.12899915760784, 447.2869327818872, 447.44486640616657, 447.60280003044596, 447.7607336547253, 447.9186672790047, 448.07660090328403, 448.2345345275634, 448.3924681518428, 448.55040177612216, 448.70833540040155, 448.8662690246809, 449.0242026489603, 449.1821362732397, 449.340069897519, 449.4980035217984, 449.6559371460778, 449.81387077035714, 449.97180439463654, 450.1297380189159, 450.28767164319527, 450.44560526747466, 450.603538891754, 450.7614725160334, 450.91940614031273, 451.0773397645921, 451.2352733888715, 451.39320701315086, 451.55114063743025, 451.70907426170965, 451.867007885989, 452.0249415102684, 452.1828751345477, 452.3408087588271, 452.4987423831065, 452.65667600738584, 452.81460963166523, 452.9725432559446, 453.13047688022397, 453.28841050450336, 453.4463441287827, 453.6042777530621, 453.7622113773415, 453.9201450016208, 454.0780786259002, 454.23601225017956, 454.39394587445895, 454.55187949873834, 454.7098131230177, 454.8677467472971, 455.0256803715764, 455.1836139958558, 455.3415476201352, 455.49948124441454, 455.65741486869393, 455.81534849297327, 455.97328211725267, 456.13121574153206, 456.2891493658114, 456.4470829900908, 456.6050166143702, 456.7629502386495, 456.9208838629289, 457.07881748720825, 457.23675111148765, 457.39468473576704, 457.5526183600464, 457.7105519843258, 457.86848560860517, 458.0264192328845, 458.1843528571639, 458.34228648144324, 458.50022010572263, 458.658153730002, 458.81608735428136, 458.97402097856076, 459.1319546028401, 459.2898882271195, 459.4478218513989, 459.6057554756782, 459.7636890999576, 459.92162272423695, 460.07955634851635, 460.23748997279574, 460.3954235970751, 460.5533572213545, 460.71129084563387, 460.8692244699132, 461.0271580941926, 461.18509171847194, 461.34302534275133, 461.5009589670307, 461.65889259131006, 461.81682621558946, 461.97475983986885, 462.1326934641482, 462.2906270884276, 462.4485607127069, 462.6064943369863, 462.7644279612657, 462.92236158554505, 463.08029520982444, 463.2382288341038, 463.3961624583832, 463.55409608266257, 463.7120297069419, 463.8699633312213, 464.02789695550064, 464.18583057978003, 464.3437642040594, 464.50169782833876, 464.65963145261816, 464.81756507689755, 464.9754987011769, 465.1334323254563, 465.2913659497356, 465.449299574015, 465.6072331982944, 465.76516682257375, 465.92310044685314, 466.08103407113254, 466.2389676954119, 466.39690131969127, 466.5548349439706, 466.71276856825, 466.8707021925294, 467.02863581680873, 467.1865694410881, 467.34450306536746, 467.50243668964686, 467.66037031392625, 467.8183039382056, 467.976237562485, 468.1341711867643, 468.2921048110437, 468.4500384353231, 468.60797205960245, 468.76590568388184, 468.92383930816123, 469.0817729324406, 469.23970655671997, 469.3976401809993, 469.5555738052787, 469.7135074295581, 469.87144105383743, 470.0293746781168, 470.1873083023962, 470.34524192667556, 470.50317555095495, 470.6611091752343, 470.8190427995137, 470.9769764237931, 471.1349100480724, 471.2928436723518, 471.45077729663114, 471.60871092091054, 471.76664454518993, 471.92457816946927, 472.08251179374867, 472.240445418028, 472.3983790423074, 472.5563126665868, 472.71424629086613, 472.8721799151455, 473.0301135394249, 473.18804716370425, 473.34598078798365, 473.503914412263, 473.6618480365424], \"y\": [0.0001115486963901976, 0.00023178511041025194, 0.00036130421129097084, 0.0005007347535447496, 0.0006507406399564384, 0.0008120222969422552, 0.0009853180587242247, 0.0011714055564638027, 0.0013711031081890903, 0.0015852711050366901, 0.0018148133890132652, 0.0020606786171644595, 0.0023238616067216447, 0.0026054046554819005, 0.0029063988313649605, 0.0032279852247851094, 0.0035713561571776324, 0.003937756338730683, 0.004328483968096806, 0.004744891766595382, 0.005188387939171133, 0.00566043705414623, 0.006162560833597117, 0.006696338846004738, 0.007263409092670314, 0.007865468479260933, 0.008504273163752905, 0.009181638771977498, 0.009899440471947088, 0.010659612898151115, 0.011464149917063312, 0.012315104225197162, 0.013214586771186086, 0.014164765993552243, 0.015167866866063237, 0.016226169742861667, 0.017342008995890196, 0.018517771437524942, 0.019755894521773565, 0.021058864317893295, 0.022429213250836442, 0.02386951760353927, 0.025382394776732237, 0.026970500302665713, 0.028636524609915393, 0.030383189537252046, 0.03221324459543244, 0.03412946297668766, 0.03613463731265023, 0.038231575182470494, 0.04042309437392095, 0.042712017901371586, 0.04510116878563744, 0.04759336460184405, 0.05019141180262634, 0.052898099825163865, 0.05571619499175584, 0.05864843421484902, 0.061697518518640714, 0.06486610639058653, 0.06815680697733716, 0.07157217314080654, 0.07511469439122825, 0.07878678971518017, 0.08259080031764175, 0.08652898229819041, 0.09060349928243033, 0.09481641503067796, 0.09916968604679205, 0.1036651542108272, 0.10830453945990341, 0.11308943254231002, 0.11802128787039926, 0.12310141649826283, 0.1283309792505204, 0.1337109800287787, 0.13924225932243606, 0.14492548795050753, 0.15076116106102905, 0.15674959241435674, 0.1628909089763139, 0.16918504584664767, 0.17563174154763903, 0.18223053369696682, 0.18898075508805512, 0.19588153020013818, 0.2029317721591587, 0.2101301801693756, 0.21747523743420366, 0.22496520958333868, 0.23259814362164655, 0.24037186741361977, 0.2482839897154315, 0.2563319007647594, 0.26451277343661117, 0.272823564971372, 0.2812610192792217, 0.2898216698229395, 0.29850184307894534, 0.3072976625742222, 0.31620505349453654, 0.3252197478571374, 0.3343372902388765, 0.34355304404846265, 0.35286219832936344, 0.36225977507769136, 0.3717406370572913, 0.38129949609217473, 0.39093092181444555, 0.40062935084394163, 0.4103890963739799, 0.42020435813586043, 0.43006923271315706, 0.43997772417531333, 0.44992375499867965, 0.45990117724187723, 0.4699037839412642, 0.47992532069131816, 0.48995949737393596, 0.5000000000000001, 0.5100405026260643, 0.5200746793086821, 0.530096216058736, 0.540098822758123, 0.5500762450013206, 0.5600222758246869, 0.5699307672868431, 0.5797956418641397, 0.5896109036260202, 0.5993706491560584, 0.6090690781855544, 0.6187005039078253, 0.6282593629427087, 0.6377402249223086, 0.6471378016706366, 0.6564469559515373, 0.6656627097611235, 0.6747802521428625, 0.6837949465054635, 0.6927023374257778, 0.7014981569210547, 0.7101783301770606, 0.7187389807207784, 0.727176435028628, 0.7354872265633888, 0.7436680992352406, 0.7517160102845685, 0.7596281325863802, 0.7674018563783533, 0.7750347904166612, 0.7825247625657963, 0.7898698198306243, 0.7970682278408412, 0.8041184697998617, 0.8110192449119448, 0.817769466303033, 0.8243682584523608, 0.8308149541533522, 0.8371090910236859, 0.8432504075856431, 0.8492388389389708, 0.8550745120494924, 0.8607577406775638, 0.8662890199712212, 0.8716690207494795, 0.876898583501737, 0.8819787121296006, 0.8869105674576898, 0.8916954605400964, 0.8963348457891727, 0.9008303139532078, 0.9051835849693218, 0.9093965007175695, 0.9134710177018094, 0.917409199682358, 0.9212132102848196, 0.9248853056087716, 0.9284278268591933, 0.9318431930226627, 0.9351338936094133, 0.9383024814813592, 0.9413515657851509, 0.944283805008244, 0.947101900174836, 0.9498085881973735, 0.9524066353981557, 0.9548988312143624, 0.9572879820986282, 0.9595769056260789, 0.9617684248175293, 0.9638653626873496, 0.965870537023312, 0.9677867554045673, 0.9696168104627476, 0.9713634753900843, 0.973029499697334, 0.9746176052232675, 0.9761304823964604, 0.9775707867491632, 0.9789411356821064, 0.9802441054782262, 0.9814822285624748, 0.9826579910041096, 0.983773830257138, 0.9848321331339365, 0.9858352340064475, 0.9867854132288136, 0.9876848957748026, 0.9885358500829364, 0.9893403871018486, 0.9901005595280526, 0.9908183612280222, 0.9914957268362469, 0.9921345315207388, 0.9927365909073295, 0.993303661153995, 0.9938374391664027, 0.9943395629458536, 0.9948116120608287, 0.9952551082334045, 0.9956715160319031, 0.9960622436612692, 0.9964286438428223, 0.9967720147752148, 0.997093601168635, 0.997394595344518, 0.9976761383932783, 0.9979393213828355, 0.9981851866109867, 0.9984147288949632, 0.9986288968918108, 0.9988285944435361, 0.9990146819412757, 0.9991879777030577, 0.9993492593600435, 0.9994992652464552, 0.9996386957887089, 0.9997682148895897, 0.9998884513036097, 0.9999999999999999]}, {\"line\": {\"color\": \"royal blue\", \"width\": 3}, \"name\": \"Mu\", \"opacity\": 0.5, \"type\": \"scatter\", \"x\": [454.7887799351574, 454.7887799351574], \"y\": [0, 0.40162010504256457]}, {\"line\": {\"color\": \"black\"}, \"name\": \"Last price\", \"opacity\": 1, \"type\": \"scatter\", \"x\": [444.45000000000033, 444.45000000000033], \"y\": [0, 0.10337936597740413]}],\n",
       "                        {\"template\": {\"data\": {\"bar\": [{\"error_x\": {\"color\": \"#2a3f5f\"}, \"error_y\": {\"color\": \"#2a3f5f\"}, \"marker\": {\"line\": {\"color\": \"#E5ECF6\", \"width\": 0.5}}, \"type\": \"bar\"}], \"barpolar\": [{\"marker\": {\"line\": {\"color\": \"#E5ECF6\", \"width\": 0.5}}, \"type\": \"barpolar\"}], \"carpet\": [{\"aaxis\": {\"endlinecolor\": \"#2a3f5f\", \"gridcolor\": \"white\", \"linecolor\": \"white\", \"minorgridcolor\": \"white\", \"startlinecolor\": \"#2a3f5f\"}, \"baxis\": {\"endlinecolor\": \"#2a3f5f\", \"gridcolor\": \"white\", \"linecolor\": \"white\", \"minorgridcolor\": \"white\", \"startlinecolor\": \"#2a3f5f\"}, \"type\": \"carpet\"}], \"choropleth\": [{\"colorbar\": {\"outlinewidth\": 0, \"ticks\": \"\"}, \"type\": \"choropleth\"}], \"contour\": [{\"colorbar\": {\"outlinewidth\": 0, \"ticks\": \"\"}, \"colorscale\": [[0.0, \"#0d0887\"], [0.1111111111111111, \"#46039f\"], [0.2222222222222222, \"#7201a8\"], [0.3333333333333333, \"#9c179e\"], [0.4444444444444444, \"#bd3786\"], [0.5555555555555556, \"#d8576b\"], [0.6666666666666666, \"#ed7953\"], [0.7777777777777778, \"#fb9f3a\"], [0.8888888888888888, \"#fdca26\"], [1.0, \"#f0f921\"]], \"type\": \"contour\"}], \"contourcarpet\": [{\"colorbar\": {\"outlinewidth\": 0, \"ticks\": \"\"}, \"type\": \"contourcarpet\"}], \"heatmap\": [{\"colorbar\": {\"outlinewidth\": 0, \"ticks\": \"\"}, \"colorscale\": [[0.0, \"#0d0887\"], [0.1111111111111111, \"#46039f\"], [0.2222222222222222, \"#7201a8\"], [0.3333333333333333, \"#9c179e\"], [0.4444444444444444, \"#bd3786\"], [0.5555555555555556, \"#d8576b\"], [0.6666666666666666, \"#ed7953\"], [0.7777777777777778, \"#fb9f3a\"], [0.8888888888888888, \"#fdca26\"], [1.0, \"#f0f921\"]], \"type\": \"heatmap\"}], \"heatmapgl\": [{\"colorbar\": {\"outlinewidth\": 0, \"ticks\": \"\"}, \"colorscale\": [[0.0, \"#0d0887\"], [0.1111111111111111, \"#46039f\"], [0.2222222222222222, \"#7201a8\"], [0.3333333333333333, \"#9c179e\"], [0.4444444444444444, \"#bd3786\"], [0.5555555555555556, \"#d8576b\"], [0.6666666666666666, \"#ed7953\"], [0.7777777777777778, \"#fb9f3a\"], [0.8888888888888888, \"#fdca26\"], [1.0, \"#f0f921\"]], \"type\": \"heatmapgl\"}], \"histogram\": [{\"marker\": {\"colorbar\": {\"outlinewidth\": 0, \"ticks\": \"\"}}, \"type\": \"histogram\"}], \"histogram2d\": [{\"colorbar\": {\"outlinewidth\": 0, \"ticks\": \"\"}, \"colorscale\": [[0.0, \"#0d0887\"], [0.1111111111111111, \"#46039f\"], [0.2222222222222222, \"#7201a8\"], [0.3333333333333333, \"#9c179e\"], [0.4444444444444444, \"#bd3786\"], [0.5555555555555556, \"#d8576b\"], [0.6666666666666666, \"#ed7953\"], [0.7777777777777778, \"#fb9f3a\"], [0.8888888888888888, \"#fdca26\"], [1.0, \"#f0f921\"]], \"type\": \"histogram2d\"}], \"histogram2dcontour\": [{\"colorbar\": {\"outlinewidth\": 0, \"ticks\": \"\"}, \"colorscale\": [[0.0, \"#0d0887\"], [0.1111111111111111, \"#46039f\"], [0.2222222222222222, \"#7201a8\"], [0.3333333333333333, \"#9c179e\"], [0.4444444444444444, \"#bd3786\"], [0.5555555555555556, \"#d8576b\"], [0.6666666666666666, \"#ed7953\"], [0.7777777777777778, \"#fb9f3a\"], [0.8888888888888888, \"#fdca26\"], [1.0, \"#f0f921\"]], \"type\": \"histogram2dcontour\"}], \"mesh3d\": [{\"colorbar\": {\"outlinewidth\": 0, \"ticks\": \"\"}, \"type\": \"mesh3d\"}], \"parcoords\": [{\"line\": {\"colorbar\": {\"outlinewidth\": 0, \"ticks\": \"\"}}, \"type\": \"parcoords\"}], \"pie\": [{\"automargin\": true, \"type\": \"pie\"}], \"scatter\": [{\"marker\": {\"colorbar\": {\"outlinewidth\": 0, \"ticks\": \"\"}}, \"type\": \"scatter\"}], \"scatter3d\": [{\"line\": {\"colorbar\": {\"outlinewidth\": 0, \"ticks\": \"\"}}, \"marker\": {\"colorbar\": {\"outlinewidth\": 0, \"ticks\": \"\"}}, \"type\": \"scatter3d\"}], \"scattercarpet\": [{\"marker\": {\"colorbar\": {\"outlinewidth\": 0, \"ticks\": \"\"}}, \"type\": \"scattercarpet\"}], \"scattergeo\": [{\"marker\": {\"colorbar\": {\"outlinewidth\": 0, \"ticks\": \"\"}}, \"type\": \"scattergeo\"}], \"scattergl\": [{\"marker\": {\"colorbar\": {\"outlinewidth\": 0, \"ticks\": \"\"}}, \"type\": \"scattergl\"}], \"scattermapbox\": [{\"marker\": {\"colorbar\": {\"outlinewidth\": 0, \"ticks\": \"\"}}, \"type\": \"scattermapbox\"}], \"scatterpolar\": [{\"marker\": {\"colorbar\": {\"outlinewidth\": 0, \"ticks\": \"\"}}, \"type\": \"scatterpolar\"}], \"scatterpolargl\": [{\"marker\": {\"colorbar\": {\"outlinewidth\": 0, \"ticks\": \"\"}}, \"type\": \"scatterpolargl\"}], \"scatterternary\": [{\"marker\": {\"colorbar\": {\"outlinewidth\": 0, \"ticks\": \"\"}}, \"type\": \"scatterternary\"}], \"surface\": [{\"colorbar\": {\"outlinewidth\": 0, \"ticks\": \"\"}, \"colorscale\": [[0.0, \"#0d0887\"], [0.1111111111111111, \"#46039f\"], [0.2222222222222222, \"#7201a8\"], [0.3333333333333333, \"#9c179e\"], [0.4444444444444444, \"#bd3786\"], [0.5555555555555556, \"#d8576b\"], [0.6666666666666666, \"#ed7953\"], [0.7777777777777778, \"#fb9f3a\"], [0.8888888888888888, \"#fdca26\"], [1.0, \"#f0f921\"]], \"type\": \"surface\"}], \"table\": [{\"cells\": {\"fill\": {\"color\": \"#EBF0F8\"}, \"line\": {\"color\": \"white\"}}, \"header\": {\"fill\": {\"color\": \"#C8D4E3\"}, \"line\": {\"color\": \"white\"}}, \"type\": \"table\"}]}, \"layout\": {\"annotationdefaults\": {\"arrowcolor\": \"#2a3f5f\", \"arrowhead\": 0, \"arrowwidth\": 1}, \"coloraxis\": {\"colorbar\": {\"outlinewidth\": 0, \"ticks\": \"\"}}, \"colorscale\": {\"diverging\": [[0, \"#8e0152\"], [0.1, \"#c51b7d\"], [0.2, \"#de77ae\"], [0.3, \"#f1b6da\"], [0.4, \"#fde0ef\"], [0.5, \"#f7f7f7\"], [0.6, \"#e6f5d0\"], [0.7, \"#b8e186\"], [0.8, \"#7fbc41\"], [0.9, \"#4d9221\"], [1, \"#276419\"]], \"sequential\": [[0.0, \"#0d0887\"], [0.1111111111111111, \"#46039f\"], [0.2222222222222222, \"#7201a8\"], [0.3333333333333333, \"#9c179e\"], [0.4444444444444444, \"#bd3786\"], [0.5555555555555556, \"#d8576b\"], [0.6666666666666666, \"#ed7953\"], [0.7777777777777778, \"#fb9f3a\"], [0.8888888888888888, \"#fdca26\"], [1.0, \"#f0f921\"]], \"sequentialminus\": [[0.0, \"#0d0887\"], [0.1111111111111111, \"#46039f\"], [0.2222222222222222, \"#7201a8\"], [0.3333333333333333, \"#9c179e\"], [0.4444444444444444, \"#bd3786\"], [0.5555555555555556, \"#d8576b\"], [0.6666666666666666, \"#ed7953\"], [0.7777777777777778, \"#fb9f3a\"], [0.8888888888888888, \"#fdca26\"], [1.0, \"#f0f921\"]]}, \"colorway\": [\"#636efa\", \"#EF553B\", \"#00cc96\", \"#ab63fa\", \"#FFA15A\", \"#19d3f3\", \"#FF6692\", \"#B6E880\", \"#FF97FF\", \"#FECB52\"], \"font\": {\"color\": \"#2a3f5f\"}, \"geo\": {\"bgcolor\": \"white\", \"lakecolor\": \"white\", \"landcolor\": \"#E5ECF6\", \"showlakes\": true, \"showland\": true, \"subunitcolor\": \"white\"}, \"hoverlabel\": {\"align\": \"left\"}, \"hovermode\": \"closest\", \"mapbox\": {\"style\": \"light\"}, \"paper_bgcolor\": \"white\", \"plot_bgcolor\": \"#E5ECF6\", \"polar\": {\"angularaxis\": {\"gridcolor\": \"white\", \"linecolor\": \"white\", \"ticks\": \"\"}, \"bgcolor\": \"#E5ECF6\", \"radialaxis\": {\"gridcolor\": \"white\", \"linecolor\": \"white\", \"ticks\": \"\"}}, \"scene\": {\"xaxis\": {\"backgroundcolor\": \"#E5ECF6\", \"gridcolor\": \"white\", \"gridwidth\": 2, \"linecolor\": \"white\", \"showbackground\": true, \"ticks\": \"\", \"zerolinecolor\": \"white\"}, \"yaxis\": {\"backgroundcolor\": \"#E5ECF6\", \"gridcolor\": \"white\", \"gridwidth\": 2, \"linecolor\": \"white\", \"showbackground\": true, \"ticks\": \"\", \"zerolinecolor\": \"white\"}, \"zaxis\": {\"backgroundcolor\": \"#E5ECF6\", \"gridcolor\": \"white\", \"gridwidth\": 2, \"linecolor\": \"white\", \"showbackground\": true, \"ticks\": \"\", \"zerolinecolor\": \"white\"}}, \"shapedefaults\": {\"line\": {\"color\": \"#2a3f5f\"}}, \"ternary\": {\"aaxis\": {\"gridcolor\": \"white\", \"linecolor\": \"white\", \"ticks\": \"\"}, \"baxis\": {\"gridcolor\": \"white\", \"linecolor\": \"white\", \"ticks\": \"\"}, \"bgcolor\": \"#E5ECF6\", \"caxis\": {\"gridcolor\": \"white\", \"linecolor\": \"white\", \"ticks\": \"\"}}, \"title\": {\"x\": 0.05}, \"xaxis\": {\"automargin\": true, \"gridcolor\": \"white\", \"linecolor\": \"white\", \"ticks\": \"\", \"title\": {\"standoff\": 15}, \"zerolinecolor\": \"white\", \"zerolinewidth\": 2}, \"yaxis\": {\"automargin\": true, \"gridcolor\": \"white\", \"linecolor\": \"white\", \"ticks\": \"\", \"title\": {\"standoff\": 15}, \"zerolinecolor\": \"white\", \"zerolinewidth\": 2}}}, \"title\": {\"text\": \"AAPL Predicted Price Probability Distribution on 2020-08-08\"}},\n",
       "                        {\"responsive\": true}\n",
       "                    ).then(function(){\n",
       "                            \n",
       "var gd = document.getElementById('087584e9-5837-4577-9d9a-77175eb757ed');\n",
       "var x = new MutationObserver(function (mutations, observer) {{\n",
       "        var display = window.getComputedStyle(gd).display;\n",
       "        if (!display || display === 'none') {{\n",
       "            console.log([gd, 'removed!']);\n",
       "            Plotly.purge(gd);\n",
       "            observer.disconnect();\n",
       "        }}\n",
       "}});\n",
       "\n",
       "// Listen for the removal of the full notebook cells\n",
       "var notebookContainer = gd.closest('#notebook-container');\n",
       "if (notebookContainer) {{\n",
       "    x.observe(notebookContainer, {childList: true});\n",
       "}}\n",
       "\n",
       "// Listen for the clearing of the current output cell\n",
       "var outputEl = gd.closest('.output');\n",
       "if (outputEl) {{\n",
       "    x.observe(outputEl, {childList: true});\n",
       "}}\n",
       "\n",
       "                        })\n",
       "                };\n",
       "                });\n",
       "            </script>\n",
       "        </div>"
      ]
     },
     "metadata": {},
     "output_type": "display_data"
    },
    {
     "name": "stdout",
     "output_type": "stream",
     "text": [
      "SUMMARY PROBABILITY:\n",
      "Last Price: $444.45, Mu: $454.79\n",
      "Probability of going up: 94.99%\n",
      "Probability of going down: 5.01%\n"
     ]
    }
   ],
   "source": [
    "# Normal Plot and Report\n",
    "#-------------------Plot-------------------#\n",
    "if 1:\n",
    "    when = when_to_calc(days = 1)\n",
    "    mu = arima_predictions[when]\n",
    "    stdev = stderr[when]\n",
    "    create_normal_plot(interval = 240)\n",
    "#-------------------Report-------------------#\n",
    "if 1:\n",
    "    print('SUMMARY PROBABILITY:')\n",
    "    print('Last Price: ${:,.2f}, Mu: ${:,.2f}'.format(dataset[-1], mu))\n",
    "    print('Probability of going up: {:,.2f}%'.format((1 - cdf_prob(dataset[-1], mu, stdev))*100))\n",
    "    print('Probability of going down: {:,.2f}%'.format((cdf_prob(dataset[-1], mu, stdev)*100)))"
   ]
  },
  {
   "cell_type": "code",
   "execution_count": 76,
   "metadata": {
    "ExecuteTime": {
     "end_time": "2020-08-11T09:44:55.308916Z",
     "start_time": "2020-08-11T09:44:55.204754Z"
    },
    "code_folding": [
     0,
     3,
     10,
     17
    ],
    "hidden": true
   },
   "outputs": [],
   "source": [
    "# Calculate target probability\n",
    "target = 0.01\n",
    "directions = 'call'\n",
    "def calc_sideway_prob(x1, x2, mu, stdev):\n",
    "    '''Calculate probability between two values'''\n",
    "    if x1 > x2:\n",
    "        prob = cdf_prob(x1, mu, stdev) - cdf_prob(x2, mu, stdev)\n",
    "    elif x1 < x2:\n",
    "        prob = cdf_prob(x2, mu, stdev) - cdf_prob(x1, mu, stdev)\n",
    "    return prob\n",
    "if directions == 'call':\n",
    "    target_p = dataset[-1] * (1+target)\n",
    "    target_l = dataset[-1] * (1-target)\n",
    "    prob_sideway_p = calc_sideway_prob(dataset[-1], target_p, mu, stdev)\n",
    "    prob_sideway_l = calc_sideway_prob(dataset[-1], target_l, mu, stdev)\n",
    "    prob_target_p = 1 - cdf_prob(target_p, mu, stdev)\n",
    "    prob_target_l = cdf_prob(target_l, mu, stdev)\n",
    "elif directions == 'put':\n",
    "    target_p = dataset[-1] * (1-target)\n",
    "    target_l = dataset[-1] * (1+target)\n",
    "    prob_sideway_p = calc_sideway_prob(dataset[-1], target_p, mu, stdev)\n",
    "    prob_sideway_l = calc_sideway_prob(dataset[-1], target_l, mu, stdev)\n",
    "    prob_target_p = cdf_prob(target_p, mu, stdev)\n",
    "    prob_target_l = 1 - cdf_prob(target_l, mu, stdev)"
   ]
  },
  {
   "cell_type": "code",
   "execution_count": 77,
   "metadata": {
    "ExecuteTime": {
     "end_time": "2020-08-11T09:44:55.573049Z",
     "start_time": "2020-08-11T09:44:55.308916Z"
    },
    "code_folding": [
     0,
     2,
     3,
     11,
     14
    ],
    "hidden": true,
    "scrolled": true
   },
   "outputs": [
    {
     "data": {
      "application/vnd.plotly.v1+json": {
       "config": {
        "linkText": "Export to plot.ly",
        "plotlyServerURL": "https://plot.ly",
        "showLink": false
       },
       "data": [
        {
         "line": {
          "color": "light blue"
         },
         "name": "PDF",
         "type": "scatter",
         "x": [
          435.9157118337724,
          436.0736454580518,
          436.2315790823311,
          436.3895127066105,
          436.54744633088984,
          436.70537995516924,
          436.86331357944863,
          437.02124720372797,
          437.17918082800736,
          437.33711445228676,
          437.4950480765661,
          437.6529817008455,
          437.8109153251248,
          437.9688489494042,
          438.1267825736836,
          438.28471619796295,
          438.44264982224234,
          438.6005834465217,
          438.7585170708011,
          438.91645069508047,
          439.0743843193598,
          439.2323179436392,
          439.3902515679186,
          439.54818519219793,
          439.70611881647733,
          439.86405244075667,
          440.02198606503606,
          440.17991968931545,
          440.3378533135948,
          440.4957869378742,
          440.6537205621535,
          440.8116541864329,
          440.9695878107123,
          441.12752143499165,
          441.28545505927104,
          441.44338868355044,
          441.6013223078298,
          441.75925593210917,
          441.9171895563885,
          442.0751231806679,
          442.2330568049473,
          442.39099042922663,
          442.548924053506,
          442.70685767778537,
          442.86479130206476,
          443.02272492634415,
          443.1806585506235,
          443.3385921749029,
          443.4965257991823,
          443.6544594234616,
          443.812393047741,
          443.97032667202035,
          444.12826029629974,
          444.28619392057914,
          444.4441275448585,
          444.60206116913787,
          444.7599947934172,
          444.9179284176966,
          445.075862041976,
          445.23379566625533,
          445.3917292905347,
          445.5496629148141,
          445.70759653909346,
          445.86553016337285,
          446.0234637876522,
          446.1813974119316,
          446.339331036211,
          446.4972646604903,
          446.6551982847697,
          446.81313190904905,
          446.97106553332844,
          447.12899915760784,
          447.2869327818872,
          447.44486640616657,
          447.60280003044596,
          447.7607336547253,
          447.9186672790047,
          448.07660090328403,
          448.2345345275634,
          448.3924681518428,
          448.55040177612216,
          448.70833540040155,
          448.8662690246809,
          449.0242026489603,
          449.1821362732397,
          449.340069897519,
          449.4980035217984,
          449.6559371460778,
          449.81387077035714,
          449.97180439463654,
          450.1297380189159,
          450.28767164319527,
          450.44560526747466,
          450.603538891754,
          450.7614725160334,
          450.91940614031273,
          451.0773397645921,
          451.2352733888715,
          451.39320701315086,
          451.55114063743025,
          451.70907426170965,
          451.867007885989,
          452.0249415102684,
          452.1828751345477,
          452.3408087588271,
          452.4987423831065,
          452.65667600738584,
          452.81460963166523,
          452.9725432559446,
          453.13047688022397,
          453.28841050450336,
          453.4463441287827,
          453.6042777530621,
          453.7622113773415,
          453.9201450016208,
          454.0780786259002,
          454.23601225017956,
          454.39394587445895,
          454.55187949873834,
          454.7098131230177,
          454.8677467472971,
          455.0256803715764,
          455.1836139958558,
          455.3415476201352,
          455.49948124441454,
          455.65741486869393,
          455.81534849297327,
          455.97328211725267,
          456.13121574153206,
          456.2891493658114,
          456.4470829900908,
          456.6050166143702,
          456.7629502386495,
          456.9208838629289,
          457.07881748720825,
          457.23675111148765,
          457.39468473576704,
          457.5526183600464,
          457.7105519843258,
          457.86848560860517,
          458.0264192328845,
          458.1843528571639,
          458.34228648144324,
          458.50022010572263,
          458.658153730002,
          458.81608735428136,
          458.97402097856076,
          459.1319546028401,
          459.2898882271195,
          459.4478218513989,
          459.6057554756782,
          459.7636890999576,
          459.92162272423695,
          460.07955634851635,
          460.23748997279574,
          460.3954235970751,
          460.5533572213545,
          460.71129084563387,
          460.8692244699132,
          461.0271580941926,
          461.18509171847194,
          461.34302534275133,
          461.5009589670307,
          461.65889259131006,
          461.81682621558946,
          461.97475983986885,
          462.1326934641482,
          462.2906270884276,
          462.4485607127069,
          462.6064943369863,
          462.7644279612657,
          462.92236158554505,
          463.08029520982444,
          463.2382288341038,
          463.3961624583832,
          463.55409608266257,
          463.7120297069419,
          463.8699633312213,
          464.02789695550064,
          464.18583057978003,
          464.3437642040594,
          464.50169782833876,
          464.65963145261816,
          464.81756507689755,
          464.9754987011769,
          465.1334323254563,
          465.2913659497356,
          465.449299574015,
          465.6072331982944,
          465.76516682257375,
          465.92310044685314,
          466.08103407113254,
          466.2389676954119,
          466.39690131969127,
          466.5548349439706,
          466.71276856825,
          466.8707021925294,
          467.02863581680873,
          467.1865694410881,
          467.34450306536746,
          467.50243668964686,
          467.66037031392625,
          467.8183039382056,
          467.976237562485,
          468.1341711867643,
          468.2921048110437,
          468.4500384353231,
          468.60797205960245,
          468.76590568388184,
          468.92383930816123,
          469.0817729324406,
          469.23970655671997,
          469.3976401809993,
          469.5555738052787,
          469.7135074295581,
          469.87144105383743,
          470.0293746781168,
          470.1873083023962,
          470.34524192667556,
          470.50317555095495,
          470.6611091752343,
          470.8190427995137,
          470.9769764237931,
          471.1349100480724,
          471.2928436723518,
          471.45077729663114,
          471.60871092091054,
          471.76664454518993,
          471.92457816946927,
          472.08251179374867,
          472.240445418028,
          472.3983790423074,
          472.5563126665868,
          472.71424629086613,
          472.8721799151455,
          473.0301135394249,
          473.18804716370425,
          473.34598078798365,
          473.503914412263,
          473.6618480365424
         ],
         "y": [
          0.004461947855607904,
          0.004809456560802173,
          0.005180764035228757,
          0.005577221690151149,
          0.006000235456467555,
          0.006451266279432672,
          0.006931830471278782,
          0.007443499909583117,
          0.007987902069011506,
          0.008566719873903993,
          0.009181691359062997,
          0.009834609126047769,
          0.010527319582287413,
          0.011261721950410227,
          0.012039767035322394,
          0.01286345573680595,
          0.01373483729570092,
          0.01465600726212202,
          0.015629105174644914,
          0.016656311939943037,
          0.017739846903030054,
          0.018881964599003872,
          0.020084951178035482,
          0.021351120496304835,
          0.022682809866623032,
          0.02408237546362476,
          0.025552187379678844,
          0.02709462432898371,
          0.028712067998783588,
          0.03040689704816104,
          0.032181480756487905,
          0.034038172325354,
          0.03597930183955696,
          0.038007168894646275,
          0.04012403490043976,
          0.04233211507193712,
          0.044633570121141206,
          0.04703049766538989,
          0.04952492336994494,
          0.0521187918447892,
          0.054813957317725925,
          0.057612174108113166,
          0.06051508692771859,
          0.06352422103733903,
          0.06664097228998717,
          0.06986659709346611,
          0.07320220232721585,
          0.07664873525020884,
          0.08020697343850264,
          0.08387751479281046,
          0.08766076765801825,
          0.09155694109802558,
          0.09556603537063431,
          0.09968783264826435,
          0.10392188803129143,
          0.10826752090150095,
          0.11272380666367915,
          0.11728956892372705,
          0.12196337215166772,
          0.12674351487783234,
          0.13162802347002509,
          0.136614646538775,
          0.14170085001686894,
          0.14688381295807687,
          0.15216042409846298,
          0.1575272792219462,
          0.1629806793695968,
          0.168516629929905,
          0.17413084064456377,
          0.17981872656140613,
          0.18557540996304842,
          0.19139572329626414,
          0.1972742131235695,
          0.20320514511454277,
          0.2091825100903031,
          0.21520003113033268,
          0.22125117174629425,
          0.2273291451228585,
          0.23342692442086135,
          0.23953725413310772,
          0.24565266247828663,
          0.2517654748133519,
          0.257867828039654,
          0.2639516859731112,
          0.27000885564353183,
          0.2760310044833228,
          0.2820096783608202,
          0.28793632040867556,
          0.2938022905931226,
          0.2995988859654004,
          0.30531736153231415,
          0.3109489516789283,
          0.3164848920724696,
          0.3219164419731167,
          0.3272349068740697,
          0.3324316613904325,
          0.33749817231398793,
          0.3424260217487115,
          0.34720693024023425,
          0.3518327798110751,
          0.3562956368125732,
          0.36058777450403573,
          0.36470169526956153,
          0.368630152383447,
          0.3723661712360311,
          0.37590306993311695,
          0.3792344791839986,
          0.38235436139533613,
          0.3852570288908327,
          0.3879371611798424,
          0.39038982120153054,
          0.3926104704752216,
          0.3945949830918649,
          0.39633965848625036,
          0.39784123293465357,
          0.3990968897279024,
          0.4001042679754796,
          0.4008614700021575,
          0.401367067304713,
          0.40162010504256457,
          0.40162010504256457,
          0.401367067304713,
          0.4008614700021575,
          0.4001042679754796,
          0.3990968897279024,
          0.39784123293465357,
          0.39633965848625036,
          0.3945949830918649,
          0.3926104704752216,
          0.39038982120153054,
          0.3879371611798424,
          0.3852570288908327,
          0.38235436139533613,
          0.3792344791839986,
          0.37590306993311695,
          0.3723661712360311,
          0.368630152383447,
          0.36470169526956153,
          0.36058777450403573,
          0.35629563681257165,
          0.3518327798110751,
          0.34720693024023425,
          0.3424260217487115,
          0.33749817231398793,
          0.3324316613904325,
          0.3272349068740697,
          0.3219164419731167,
          0.3164848920724696,
          0.3109489516789283,
          0.30531736153231415,
          0.2995988859654004,
          0.2938022905931226,
          0.28793632040867556,
          0.2820096783608202,
          0.2760310044833228,
          0.27000885564353183,
          0.2639516859731112,
          0.257867828039654,
          0.2517654748133519,
          0.24565266247828663,
          0.23953725413310772,
          0.23342692442086135,
          0.2273291451228585,
          0.22125117174629425,
          0.21520003113033268,
          0.20918251009030095,
          0.20320514511454277,
          0.1972742131235695,
          0.19139572329626414,
          0.18557540996304842,
          0.17981872656140613,
          0.17413084064456377,
          0.168516629929905,
          0.1629806793695968,
          0.1575272792219462,
          0.15216042409846298,
          0.14688381295807687,
          0.14170085001686894,
          0.136614646538775,
          0.13162802347002509,
          0.12674351487783234,
          0.12196337215166772,
          0.11728956892372705,
          0.11272380666367915,
          0.10826752090150095,
          0.10392188803129143,
          0.09968783264826435,
          0.09556603537063431,
          0.09155694109802558,
          0.08766076765801825,
          0.08387751479281046,
          0.08020697343850136,
          0.07664873525020884,
          0.07320220232721585,
          0.06986659709346611,
          0.06664097228998717,
          0.06352422103733903,
          0.06051508692771859,
          0.057612174108113166,
          0.054813957317725925,
          0.0521187918447892,
          0.04952492336994494,
          0.04703049766538989,
          0.044633570121141206,
          0.04233211507193712,
          0.04012403490043976,
          0.038007168894646275,
          0.03597930183955696,
          0.034038172325354,
          0.032181480756487905,
          0.03040689704816104,
          0.028712067998783588,
          0.02709462432898371,
          0.025552187379678844,
          0.02408237546362476,
          0.022682809866623032,
          0.021351120496304835,
          0.020084951178035024,
          0.018881964599003872,
          0.017739846903030054,
          0.016656311939943037,
          0.015629105174644914,
          0.01465600726212202,
          0.01373483729570092,
          0.01286345573680595,
          0.012039767035322394,
          0.011261721950410227,
          0.010527319582287413,
          0.009834609126047769,
          0.009181691359062997,
          0.008566719873903993,
          0.007987902069011506,
          0.007443499909583117,
          0.006931830471278782,
          0.006451266279432672,
          0.006000235456467555,
          0.005577221690151149,
          0.005180764035228757,
          0.004809456560802173,
          0.004461947855607904
         ]
        },
        {
         "line": {
          "color": "orange"
         },
         "name": "CDF",
         "type": "scatter",
         "x": [
          435.9157118337724,
          436.0736454580518,
          436.2315790823311,
          436.3895127066105,
          436.54744633088984,
          436.70537995516924,
          436.86331357944863,
          437.02124720372797,
          437.17918082800736,
          437.33711445228676,
          437.4950480765661,
          437.6529817008455,
          437.8109153251248,
          437.9688489494042,
          438.1267825736836,
          438.28471619796295,
          438.44264982224234,
          438.6005834465217,
          438.7585170708011,
          438.91645069508047,
          439.0743843193598,
          439.2323179436392,
          439.3902515679186,
          439.54818519219793,
          439.70611881647733,
          439.86405244075667,
          440.02198606503606,
          440.17991968931545,
          440.3378533135948,
          440.4957869378742,
          440.6537205621535,
          440.8116541864329,
          440.9695878107123,
          441.12752143499165,
          441.28545505927104,
          441.44338868355044,
          441.6013223078298,
          441.75925593210917,
          441.9171895563885,
          442.0751231806679,
          442.2330568049473,
          442.39099042922663,
          442.548924053506,
          442.70685767778537,
          442.86479130206476,
          443.02272492634415,
          443.1806585506235,
          443.3385921749029,
          443.4965257991823,
          443.6544594234616,
          443.812393047741,
          443.97032667202035,
          444.12826029629974,
          444.28619392057914,
          444.4441275448585,
          444.60206116913787,
          444.7599947934172,
          444.9179284176966,
          445.075862041976,
          445.23379566625533,
          445.3917292905347,
          445.5496629148141,
          445.70759653909346,
          445.86553016337285,
          446.0234637876522,
          446.1813974119316,
          446.339331036211,
          446.4972646604903,
          446.6551982847697,
          446.81313190904905,
          446.97106553332844,
          447.12899915760784,
          447.2869327818872,
          447.44486640616657,
          447.60280003044596,
          447.7607336547253,
          447.9186672790047,
          448.07660090328403,
          448.2345345275634,
          448.3924681518428,
          448.55040177612216,
          448.70833540040155,
          448.8662690246809,
          449.0242026489603,
          449.1821362732397,
          449.340069897519,
          449.4980035217984,
          449.6559371460778,
          449.81387077035714,
          449.97180439463654,
          450.1297380189159,
          450.28767164319527,
          450.44560526747466,
          450.603538891754,
          450.7614725160334,
          450.91940614031273,
          451.0773397645921,
          451.2352733888715,
          451.39320701315086,
          451.55114063743025,
          451.70907426170965,
          451.867007885989,
          452.0249415102684,
          452.1828751345477,
          452.3408087588271,
          452.4987423831065,
          452.65667600738584,
          452.81460963166523,
          452.9725432559446,
          453.13047688022397,
          453.28841050450336,
          453.4463441287827,
          453.6042777530621,
          453.7622113773415,
          453.9201450016208,
          454.0780786259002,
          454.23601225017956,
          454.39394587445895,
          454.55187949873834,
          454.7098131230177,
          454.8677467472971,
          455.0256803715764,
          455.1836139958558,
          455.3415476201352,
          455.49948124441454,
          455.65741486869393,
          455.81534849297327,
          455.97328211725267,
          456.13121574153206,
          456.2891493658114,
          456.4470829900908,
          456.6050166143702,
          456.7629502386495,
          456.9208838629289,
          457.07881748720825,
          457.23675111148765,
          457.39468473576704,
          457.5526183600464,
          457.7105519843258,
          457.86848560860517,
          458.0264192328845,
          458.1843528571639,
          458.34228648144324,
          458.50022010572263,
          458.658153730002,
          458.81608735428136,
          458.97402097856076,
          459.1319546028401,
          459.2898882271195,
          459.4478218513989,
          459.6057554756782,
          459.7636890999576,
          459.92162272423695,
          460.07955634851635,
          460.23748997279574,
          460.3954235970751,
          460.5533572213545,
          460.71129084563387,
          460.8692244699132,
          461.0271580941926,
          461.18509171847194,
          461.34302534275133,
          461.5009589670307,
          461.65889259131006,
          461.81682621558946,
          461.97475983986885,
          462.1326934641482,
          462.2906270884276,
          462.4485607127069,
          462.6064943369863,
          462.7644279612657,
          462.92236158554505,
          463.08029520982444,
          463.2382288341038,
          463.3961624583832,
          463.55409608266257,
          463.7120297069419,
          463.8699633312213,
          464.02789695550064,
          464.18583057978003,
          464.3437642040594,
          464.50169782833876,
          464.65963145261816,
          464.81756507689755,
          464.9754987011769,
          465.1334323254563,
          465.2913659497356,
          465.449299574015,
          465.6072331982944,
          465.76516682257375,
          465.92310044685314,
          466.08103407113254,
          466.2389676954119,
          466.39690131969127,
          466.5548349439706,
          466.71276856825,
          466.8707021925294,
          467.02863581680873,
          467.1865694410881,
          467.34450306536746,
          467.50243668964686,
          467.66037031392625,
          467.8183039382056,
          467.976237562485,
          468.1341711867643,
          468.2921048110437,
          468.4500384353231,
          468.60797205960245,
          468.76590568388184,
          468.92383930816123,
          469.0817729324406,
          469.23970655671997,
          469.3976401809993,
          469.5555738052787,
          469.7135074295581,
          469.87144105383743,
          470.0293746781168,
          470.1873083023962,
          470.34524192667556,
          470.50317555095495,
          470.6611091752343,
          470.8190427995137,
          470.9769764237931,
          471.1349100480724,
          471.2928436723518,
          471.45077729663114,
          471.60871092091054,
          471.76664454518993,
          471.92457816946927,
          472.08251179374867,
          472.240445418028,
          472.3983790423074,
          472.5563126665868,
          472.71424629086613,
          472.8721799151455,
          473.0301135394249,
          473.18804716370425,
          473.34598078798365,
          473.503914412263,
          473.6618480365424
         ],
         "y": [
          0.0001115486963901976,
          0.00023178511041025194,
          0.00036130421129097084,
          0.0005007347535447496,
          0.0006507406399564384,
          0.0008120222969422552,
          0.0009853180587242247,
          0.0011714055564638027,
          0.0013711031081890903,
          0.0015852711050366901,
          0.0018148133890132652,
          0.0020606786171644595,
          0.0023238616067216447,
          0.0026054046554819005,
          0.0029063988313649605,
          0.0032279852247851094,
          0.0035713561571776324,
          0.003937756338730683,
          0.004328483968096806,
          0.004744891766595382,
          0.005188387939171133,
          0.00566043705414623,
          0.006162560833597117,
          0.006696338846004738,
          0.007263409092670314,
          0.007865468479260933,
          0.008504273163752905,
          0.009181638771977498,
          0.009899440471947088,
          0.010659612898151115,
          0.011464149917063312,
          0.012315104225197162,
          0.013214586771186086,
          0.014164765993552243,
          0.015167866866063237,
          0.016226169742861667,
          0.017342008995890196,
          0.018517771437524942,
          0.019755894521773565,
          0.021058864317893295,
          0.022429213250836442,
          0.02386951760353927,
          0.025382394776732237,
          0.026970500302665713,
          0.028636524609915393,
          0.030383189537252046,
          0.03221324459543244,
          0.03412946297668766,
          0.03613463731265023,
          0.038231575182470494,
          0.04042309437392095,
          0.042712017901371586,
          0.04510116878563744,
          0.04759336460184405,
          0.05019141180262634,
          0.052898099825163865,
          0.05571619499175584,
          0.05864843421484902,
          0.061697518518640714,
          0.06486610639058653,
          0.06815680697733716,
          0.07157217314080654,
          0.07511469439122825,
          0.07878678971518017,
          0.08259080031764175,
          0.08652898229819041,
          0.09060349928243033,
          0.09481641503067796,
          0.09916968604679205,
          0.1036651542108272,
          0.10830453945990341,
          0.11308943254231002,
          0.11802128787039926,
          0.12310141649826283,
          0.1283309792505204,
          0.1337109800287787,
          0.13924225932243606,
          0.14492548795050753,
          0.15076116106102905,
          0.15674959241435674,
          0.1628909089763139,
          0.16918504584664767,
          0.17563174154763903,
          0.18223053369696682,
          0.18898075508805512,
          0.19588153020013818,
          0.2029317721591587,
          0.2101301801693756,
          0.21747523743420366,
          0.22496520958333868,
          0.23259814362164655,
          0.24037186741361977,
          0.2482839897154315,
          0.2563319007647594,
          0.26451277343661117,
          0.272823564971372,
          0.2812610192792217,
          0.2898216698229395,
          0.29850184307894534,
          0.3072976625742222,
          0.31620505349453654,
          0.3252197478571374,
          0.3343372902388765,
          0.34355304404846265,
          0.35286219832936344,
          0.36225977507769136,
          0.3717406370572913,
          0.38129949609217473,
          0.39093092181444555,
          0.40062935084394163,
          0.4103890963739799,
          0.42020435813586043,
          0.43006923271315706,
          0.43997772417531333,
          0.44992375499867965,
          0.45990117724187723,
          0.4699037839412642,
          0.47992532069131816,
          0.48995949737393596,
          0.5000000000000001,
          0.5100405026260643,
          0.5200746793086821,
          0.530096216058736,
          0.540098822758123,
          0.5500762450013206,
          0.5600222758246869,
          0.5699307672868431,
          0.5797956418641397,
          0.5896109036260202,
          0.5993706491560584,
          0.6090690781855544,
          0.6187005039078253,
          0.6282593629427087,
          0.6377402249223086,
          0.6471378016706366,
          0.6564469559515373,
          0.6656627097611235,
          0.6747802521428625,
          0.6837949465054635,
          0.6927023374257778,
          0.7014981569210547,
          0.7101783301770606,
          0.7187389807207784,
          0.727176435028628,
          0.7354872265633888,
          0.7436680992352406,
          0.7517160102845685,
          0.7596281325863802,
          0.7674018563783533,
          0.7750347904166612,
          0.7825247625657963,
          0.7898698198306243,
          0.7970682278408412,
          0.8041184697998617,
          0.8110192449119448,
          0.817769466303033,
          0.8243682584523608,
          0.8308149541533522,
          0.8371090910236859,
          0.8432504075856431,
          0.8492388389389708,
          0.8550745120494924,
          0.8607577406775638,
          0.8662890199712212,
          0.8716690207494795,
          0.876898583501737,
          0.8819787121296006,
          0.8869105674576898,
          0.8916954605400964,
          0.8963348457891727,
          0.9008303139532078,
          0.9051835849693218,
          0.9093965007175695,
          0.9134710177018094,
          0.917409199682358,
          0.9212132102848196,
          0.9248853056087716,
          0.9284278268591933,
          0.9318431930226627,
          0.9351338936094133,
          0.9383024814813592,
          0.9413515657851509,
          0.944283805008244,
          0.947101900174836,
          0.9498085881973735,
          0.9524066353981557,
          0.9548988312143624,
          0.9572879820986282,
          0.9595769056260789,
          0.9617684248175293,
          0.9638653626873496,
          0.965870537023312,
          0.9677867554045673,
          0.9696168104627476,
          0.9713634753900843,
          0.973029499697334,
          0.9746176052232675,
          0.9761304823964604,
          0.9775707867491632,
          0.9789411356821064,
          0.9802441054782262,
          0.9814822285624748,
          0.9826579910041096,
          0.983773830257138,
          0.9848321331339365,
          0.9858352340064475,
          0.9867854132288136,
          0.9876848957748026,
          0.9885358500829364,
          0.9893403871018486,
          0.9901005595280526,
          0.9908183612280222,
          0.9914957268362469,
          0.9921345315207388,
          0.9927365909073295,
          0.993303661153995,
          0.9938374391664027,
          0.9943395629458536,
          0.9948116120608287,
          0.9952551082334045,
          0.9956715160319031,
          0.9960622436612692,
          0.9964286438428223,
          0.9967720147752148,
          0.997093601168635,
          0.997394595344518,
          0.9976761383932783,
          0.9979393213828355,
          0.9981851866109867,
          0.9984147288949632,
          0.9986288968918108,
          0.9988285944435361,
          0.9990146819412757,
          0.9991879777030577,
          0.9993492593600435,
          0.9994992652464552,
          0.9996386957887089,
          0.9997682148895897,
          0.9998884513036097,
          0.9999999999999999
         ]
        },
        {
         "line": {
          "color": "royal blue",
          "width": 3
         },
         "name": "Mu",
         "opacity": 0.5,
         "type": "scatter",
         "x": [
          454.7887799351574,
          454.7887799351574
         ],
         "y": [
          0,
          0.40162010504256457
         ]
        },
        {
         "line": {
          "color": "black"
         },
         "name": "Last price",
         "opacity": 1,
         "type": "scatter",
         "x": [
          444.45000000000033,
          444.45000000000033
         ],
         "y": [
          0,
          0.10337936597740413
         ]
        },
        {
         "line": {
          "color": "green"
         },
         "name": "Target Profit",
         "type": "scatter",
         "x": [
          448.89450000000033,
          448.89450000000033
         ],
         "y": [
          0,
          0.25721004893016164
         ]
        },
        {
         "line": {
          "color": "red"
         },
         "name": "Target Loss",
         "type": "scatter",
         "x": [
          440.0055000000003,
          440.0055000000003
         ],
         "y": [
          0,
          0.02522409314318011
         ]
        }
       ],
       "layout": {
        "template": {
         "data": {
          "bar": [
           {
            "error_x": {
             "color": "#2a3f5f"
            },
            "error_y": {
             "color": "#2a3f5f"
            },
            "marker": {
             "line": {
              "color": "#E5ECF6",
              "width": 0.5
             }
            },
            "type": "bar"
           }
          ],
          "barpolar": [
           {
            "marker": {
             "line": {
              "color": "#E5ECF6",
              "width": 0.5
             }
            },
            "type": "barpolar"
           }
          ],
          "carpet": [
           {
            "aaxis": {
             "endlinecolor": "#2a3f5f",
             "gridcolor": "white",
             "linecolor": "white",
             "minorgridcolor": "white",
             "startlinecolor": "#2a3f5f"
            },
            "baxis": {
             "endlinecolor": "#2a3f5f",
             "gridcolor": "white",
             "linecolor": "white",
             "minorgridcolor": "white",
             "startlinecolor": "#2a3f5f"
            },
            "type": "carpet"
           }
          ],
          "choropleth": [
           {
            "colorbar": {
             "outlinewidth": 0,
             "ticks": ""
            },
            "type": "choropleth"
           }
          ],
          "contour": [
           {
            "colorbar": {
             "outlinewidth": 0,
             "ticks": ""
            },
            "colorscale": [
             [
              0,
              "#0d0887"
             ],
             [
              0.1111111111111111,
              "#46039f"
             ],
             [
              0.2222222222222222,
              "#7201a8"
             ],
             [
              0.3333333333333333,
              "#9c179e"
             ],
             [
              0.4444444444444444,
              "#bd3786"
             ],
             [
              0.5555555555555556,
              "#d8576b"
             ],
             [
              0.6666666666666666,
              "#ed7953"
             ],
             [
              0.7777777777777778,
              "#fb9f3a"
             ],
             [
              0.8888888888888888,
              "#fdca26"
             ],
             [
              1,
              "#f0f921"
             ]
            ],
            "type": "contour"
           }
          ],
          "contourcarpet": [
           {
            "colorbar": {
             "outlinewidth": 0,
             "ticks": ""
            },
            "type": "contourcarpet"
           }
          ],
          "heatmap": [
           {
            "colorbar": {
             "outlinewidth": 0,
             "ticks": ""
            },
            "colorscale": [
             [
              0,
              "#0d0887"
             ],
             [
              0.1111111111111111,
              "#46039f"
             ],
             [
              0.2222222222222222,
              "#7201a8"
             ],
             [
              0.3333333333333333,
              "#9c179e"
             ],
             [
              0.4444444444444444,
              "#bd3786"
             ],
             [
              0.5555555555555556,
              "#d8576b"
             ],
             [
              0.6666666666666666,
              "#ed7953"
             ],
             [
              0.7777777777777778,
              "#fb9f3a"
             ],
             [
              0.8888888888888888,
              "#fdca26"
             ],
             [
              1,
              "#f0f921"
             ]
            ],
            "type": "heatmap"
           }
          ],
          "heatmapgl": [
           {
            "colorbar": {
             "outlinewidth": 0,
             "ticks": ""
            },
            "colorscale": [
             [
              0,
              "#0d0887"
             ],
             [
              0.1111111111111111,
              "#46039f"
             ],
             [
              0.2222222222222222,
              "#7201a8"
             ],
             [
              0.3333333333333333,
              "#9c179e"
             ],
             [
              0.4444444444444444,
              "#bd3786"
             ],
             [
              0.5555555555555556,
              "#d8576b"
             ],
             [
              0.6666666666666666,
              "#ed7953"
             ],
             [
              0.7777777777777778,
              "#fb9f3a"
             ],
             [
              0.8888888888888888,
              "#fdca26"
             ],
             [
              1,
              "#f0f921"
             ]
            ],
            "type": "heatmapgl"
           }
          ],
          "histogram": [
           {
            "marker": {
             "colorbar": {
              "outlinewidth": 0,
              "ticks": ""
             }
            },
            "type": "histogram"
           }
          ],
          "histogram2d": [
           {
            "colorbar": {
             "outlinewidth": 0,
             "ticks": ""
            },
            "colorscale": [
             [
              0,
              "#0d0887"
             ],
             [
              0.1111111111111111,
              "#46039f"
             ],
             [
              0.2222222222222222,
              "#7201a8"
             ],
             [
              0.3333333333333333,
              "#9c179e"
             ],
             [
              0.4444444444444444,
              "#bd3786"
             ],
             [
              0.5555555555555556,
              "#d8576b"
             ],
             [
              0.6666666666666666,
              "#ed7953"
             ],
             [
              0.7777777777777778,
              "#fb9f3a"
             ],
             [
              0.8888888888888888,
              "#fdca26"
             ],
             [
              1,
              "#f0f921"
             ]
            ],
            "type": "histogram2d"
           }
          ],
          "histogram2dcontour": [
           {
            "colorbar": {
             "outlinewidth": 0,
             "ticks": ""
            },
            "colorscale": [
             [
              0,
              "#0d0887"
             ],
             [
              0.1111111111111111,
              "#46039f"
             ],
             [
              0.2222222222222222,
              "#7201a8"
             ],
             [
              0.3333333333333333,
              "#9c179e"
             ],
             [
              0.4444444444444444,
              "#bd3786"
             ],
             [
              0.5555555555555556,
              "#d8576b"
             ],
             [
              0.6666666666666666,
              "#ed7953"
             ],
             [
              0.7777777777777778,
              "#fb9f3a"
             ],
             [
              0.8888888888888888,
              "#fdca26"
             ],
             [
              1,
              "#f0f921"
             ]
            ],
            "type": "histogram2dcontour"
           }
          ],
          "mesh3d": [
           {
            "colorbar": {
             "outlinewidth": 0,
             "ticks": ""
            },
            "type": "mesh3d"
           }
          ],
          "parcoords": [
           {
            "line": {
             "colorbar": {
              "outlinewidth": 0,
              "ticks": ""
             }
            },
            "type": "parcoords"
           }
          ],
          "pie": [
           {
            "automargin": true,
            "type": "pie"
           }
          ],
          "scatter": [
           {
            "marker": {
             "colorbar": {
              "outlinewidth": 0,
              "ticks": ""
             }
            },
            "type": "scatter"
           }
          ],
          "scatter3d": [
           {
            "line": {
             "colorbar": {
              "outlinewidth": 0,
              "ticks": ""
             }
            },
            "marker": {
             "colorbar": {
              "outlinewidth": 0,
              "ticks": ""
             }
            },
            "type": "scatter3d"
           }
          ],
          "scattercarpet": [
           {
            "marker": {
             "colorbar": {
              "outlinewidth": 0,
              "ticks": ""
             }
            },
            "type": "scattercarpet"
           }
          ],
          "scattergeo": [
           {
            "marker": {
             "colorbar": {
              "outlinewidth": 0,
              "ticks": ""
             }
            },
            "type": "scattergeo"
           }
          ],
          "scattergl": [
           {
            "marker": {
             "colorbar": {
              "outlinewidth": 0,
              "ticks": ""
             }
            },
            "type": "scattergl"
           }
          ],
          "scattermapbox": [
           {
            "marker": {
             "colorbar": {
              "outlinewidth": 0,
              "ticks": ""
             }
            },
            "type": "scattermapbox"
           }
          ],
          "scatterpolar": [
           {
            "marker": {
             "colorbar": {
              "outlinewidth": 0,
              "ticks": ""
             }
            },
            "type": "scatterpolar"
           }
          ],
          "scatterpolargl": [
           {
            "marker": {
             "colorbar": {
              "outlinewidth": 0,
              "ticks": ""
             }
            },
            "type": "scatterpolargl"
           }
          ],
          "scatterternary": [
           {
            "marker": {
             "colorbar": {
              "outlinewidth": 0,
              "ticks": ""
             }
            },
            "type": "scatterternary"
           }
          ],
          "surface": [
           {
            "colorbar": {
             "outlinewidth": 0,
             "ticks": ""
            },
            "colorscale": [
             [
              0,
              "#0d0887"
             ],
             [
              0.1111111111111111,
              "#46039f"
             ],
             [
              0.2222222222222222,
              "#7201a8"
             ],
             [
              0.3333333333333333,
              "#9c179e"
             ],
             [
              0.4444444444444444,
              "#bd3786"
             ],
             [
              0.5555555555555556,
              "#d8576b"
             ],
             [
              0.6666666666666666,
              "#ed7953"
             ],
             [
              0.7777777777777778,
              "#fb9f3a"
             ],
             [
              0.8888888888888888,
              "#fdca26"
             ],
             [
              1,
              "#f0f921"
             ]
            ],
            "type": "surface"
           }
          ],
          "table": [
           {
            "cells": {
             "fill": {
              "color": "#EBF0F8"
             },
             "line": {
              "color": "white"
             }
            },
            "header": {
             "fill": {
              "color": "#C8D4E3"
             },
             "line": {
              "color": "white"
             }
            },
            "type": "table"
           }
          ]
         },
         "layout": {
          "annotationdefaults": {
           "arrowcolor": "#2a3f5f",
           "arrowhead": 0,
           "arrowwidth": 1
          },
          "coloraxis": {
           "colorbar": {
            "outlinewidth": 0,
            "ticks": ""
           }
          },
          "colorscale": {
           "diverging": [
            [
             0,
             "#8e0152"
            ],
            [
             0.1,
             "#c51b7d"
            ],
            [
             0.2,
             "#de77ae"
            ],
            [
             0.3,
             "#f1b6da"
            ],
            [
             0.4,
             "#fde0ef"
            ],
            [
             0.5,
             "#f7f7f7"
            ],
            [
             0.6,
             "#e6f5d0"
            ],
            [
             0.7,
             "#b8e186"
            ],
            [
             0.8,
             "#7fbc41"
            ],
            [
             0.9,
             "#4d9221"
            ],
            [
             1,
             "#276419"
            ]
           ],
           "sequential": [
            [
             0,
             "#0d0887"
            ],
            [
             0.1111111111111111,
             "#46039f"
            ],
            [
             0.2222222222222222,
             "#7201a8"
            ],
            [
             0.3333333333333333,
             "#9c179e"
            ],
            [
             0.4444444444444444,
             "#bd3786"
            ],
            [
             0.5555555555555556,
             "#d8576b"
            ],
            [
             0.6666666666666666,
             "#ed7953"
            ],
            [
             0.7777777777777778,
             "#fb9f3a"
            ],
            [
             0.8888888888888888,
             "#fdca26"
            ],
            [
             1,
             "#f0f921"
            ]
           ],
           "sequentialminus": [
            [
             0,
             "#0d0887"
            ],
            [
             0.1111111111111111,
             "#46039f"
            ],
            [
             0.2222222222222222,
             "#7201a8"
            ],
            [
             0.3333333333333333,
             "#9c179e"
            ],
            [
             0.4444444444444444,
             "#bd3786"
            ],
            [
             0.5555555555555556,
             "#d8576b"
            ],
            [
             0.6666666666666666,
             "#ed7953"
            ],
            [
             0.7777777777777778,
             "#fb9f3a"
            ],
            [
             0.8888888888888888,
             "#fdca26"
            ],
            [
             1,
             "#f0f921"
            ]
           ]
          },
          "colorway": [
           "#636efa",
           "#EF553B",
           "#00cc96",
           "#ab63fa",
           "#FFA15A",
           "#19d3f3",
           "#FF6692",
           "#B6E880",
           "#FF97FF",
           "#FECB52"
          ],
          "font": {
           "color": "#2a3f5f"
          },
          "geo": {
           "bgcolor": "white",
           "lakecolor": "white",
           "landcolor": "#E5ECF6",
           "showlakes": true,
           "showland": true,
           "subunitcolor": "white"
          },
          "hoverlabel": {
           "align": "left"
          },
          "hovermode": "closest",
          "mapbox": {
           "style": "light"
          },
          "paper_bgcolor": "white",
          "plot_bgcolor": "#E5ECF6",
          "polar": {
           "angularaxis": {
            "gridcolor": "white",
            "linecolor": "white",
            "ticks": ""
           },
           "bgcolor": "#E5ECF6",
           "radialaxis": {
            "gridcolor": "white",
            "linecolor": "white",
            "ticks": ""
           }
          },
          "scene": {
           "xaxis": {
            "backgroundcolor": "#E5ECF6",
            "gridcolor": "white",
            "gridwidth": 2,
            "linecolor": "white",
            "showbackground": true,
            "ticks": "",
            "zerolinecolor": "white"
           },
           "yaxis": {
            "backgroundcolor": "#E5ECF6",
            "gridcolor": "white",
            "gridwidth": 2,
            "linecolor": "white",
            "showbackground": true,
            "ticks": "",
            "zerolinecolor": "white"
           },
           "zaxis": {
            "backgroundcolor": "#E5ECF6",
            "gridcolor": "white",
            "gridwidth": 2,
            "linecolor": "white",
            "showbackground": true,
            "ticks": "",
            "zerolinecolor": "white"
           }
          },
          "shapedefaults": {
           "line": {
            "color": "#2a3f5f"
           }
          },
          "ternary": {
           "aaxis": {
            "gridcolor": "white",
            "linecolor": "white",
            "ticks": ""
           },
           "baxis": {
            "gridcolor": "white",
            "linecolor": "white",
            "ticks": ""
           },
           "bgcolor": "#E5ECF6",
           "caxis": {
            "gridcolor": "white",
            "linecolor": "white",
            "ticks": ""
           }
          },
          "title": {
           "x": 0.05
          },
          "xaxis": {
           "automargin": true,
           "gridcolor": "white",
           "linecolor": "white",
           "ticks": "",
           "title": {
            "standoff": 15
           },
           "zerolinecolor": "white",
           "zerolinewidth": 2
          },
          "yaxis": {
           "automargin": true,
           "gridcolor": "white",
           "linecolor": "white",
           "ticks": "",
           "title": {
            "standoff": 15
           },
           "zerolinecolor": "white",
           "zerolinewidth": 2
          }
         }
        },
        "title": {
         "text": "AAPL Predicted Price Probability Distribution on 2020-08-08"
        }
       }
      },
      "text/html": [
       "<div>\n",
       "        \n",
       "        \n",
       "            <div id=\"ba88a9fb-c164-46c0-931c-2c4fac4ab311\" class=\"plotly-graph-div\" style=\"height:525px; width:100%;\"></div>\n",
       "            <script type=\"text/javascript\">\n",
       "                require([\"plotly\"], function(Plotly) {\n",
       "                    window.PLOTLYENV=window.PLOTLYENV || {};\n",
       "                    \n",
       "                if (document.getElementById(\"ba88a9fb-c164-46c0-931c-2c4fac4ab311\")) {\n",
       "                    Plotly.newPlot(\n",
       "                        'ba88a9fb-c164-46c0-931c-2c4fac4ab311',\n",
       "                        [{\"line\": {\"color\": \"light blue\"}, \"name\": \"PDF\", \"type\": \"scatter\", \"x\": [435.9157118337724, 436.0736454580518, 436.2315790823311, 436.3895127066105, 436.54744633088984, 436.70537995516924, 436.86331357944863, 437.02124720372797, 437.17918082800736, 437.33711445228676, 437.4950480765661, 437.6529817008455, 437.8109153251248, 437.9688489494042, 438.1267825736836, 438.28471619796295, 438.44264982224234, 438.6005834465217, 438.7585170708011, 438.91645069508047, 439.0743843193598, 439.2323179436392, 439.3902515679186, 439.54818519219793, 439.70611881647733, 439.86405244075667, 440.02198606503606, 440.17991968931545, 440.3378533135948, 440.4957869378742, 440.6537205621535, 440.8116541864329, 440.9695878107123, 441.12752143499165, 441.28545505927104, 441.44338868355044, 441.6013223078298, 441.75925593210917, 441.9171895563885, 442.0751231806679, 442.2330568049473, 442.39099042922663, 442.548924053506, 442.70685767778537, 442.86479130206476, 443.02272492634415, 443.1806585506235, 443.3385921749029, 443.4965257991823, 443.6544594234616, 443.812393047741, 443.97032667202035, 444.12826029629974, 444.28619392057914, 444.4441275448585, 444.60206116913787, 444.7599947934172, 444.9179284176966, 445.075862041976, 445.23379566625533, 445.3917292905347, 445.5496629148141, 445.70759653909346, 445.86553016337285, 446.0234637876522, 446.1813974119316, 446.339331036211, 446.4972646604903, 446.6551982847697, 446.81313190904905, 446.97106553332844, 447.12899915760784, 447.2869327818872, 447.44486640616657, 447.60280003044596, 447.7607336547253, 447.9186672790047, 448.07660090328403, 448.2345345275634, 448.3924681518428, 448.55040177612216, 448.70833540040155, 448.8662690246809, 449.0242026489603, 449.1821362732397, 449.340069897519, 449.4980035217984, 449.6559371460778, 449.81387077035714, 449.97180439463654, 450.1297380189159, 450.28767164319527, 450.44560526747466, 450.603538891754, 450.7614725160334, 450.91940614031273, 451.0773397645921, 451.2352733888715, 451.39320701315086, 451.55114063743025, 451.70907426170965, 451.867007885989, 452.0249415102684, 452.1828751345477, 452.3408087588271, 452.4987423831065, 452.65667600738584, 452.81460963166523, 452.9725432559446, 453.13047688022397, 453.28841050450336, 453.4463441287827, 453.6042777530621, 453.7622113773415, 453.9201450016208, 454.0780786259002, 454.23601225017956, 454.39394587445895, 454.55187949873834, 454.7098131230177, 454.8677467472971, 455.0256803715764, 455.1836139958558, 455.3415476201352, 455.49948124441454, 455.65741486869393, 455.81534849297327, 455.97328211725267, 456.13121574153206, 456.2891493658114, 456.4470829900908, 456.6050166143702, 456.7629502386495, 456.9208838629289, 457.07881748720825, 457.23675111148765, 457.39468473576704, 457.5526183600464, 457.7105519843258, 457.86848560860517, 458.0264192328845, 458.1843528571639, 458.34228648144324, 458.50022010572263, 458.658153730002, 458.81608735428136, 458.97402097856076, 459.1319546028401, 459.2898882271195, 459.4478218513989, 459.6057554756782, 459.7636890999576, 459.92162272423695, 460.07955634851635, 460.23748997279574, 460.3954235970751, 460.5533572213545, 460.71129084563387, 460.8692244699132, 461.0271580941926, 461.18509171847194, 461.34302534275133, 461.5009589670307, 461.65889259131006, 461.81682621558946, 461.97475983986885, 462.1326934641482, 462.2906270884276, 462.4485607127069, 462.6064943369863, 462.7644279612657, 462.92236158554505, 463.08029520982444, 463.2382288341038, 463.3961624583832, 463.55409608266257, 463.7120297069419, 463.8699633312213, 464.02789695550064, 464.18583057978003, 464.3437642040594, 464.50169782833876, 464.65963145261816, 464.81756507689755, 464.9754987011769, 465.1334323254563, 465.2913659497356, 465.449299574015, 465.6072331982944, 465.76516682257375, 465.92310044685314, 466.08103407113254, 466.2389676954119, 466.39690131969127, 466.5548349439706, 466.71276856825, 466.8707021925294, 467.02863581680873, 467.1865694410881, 467.34450306536746, 467.50243668964686, 467.66037031392625, 467.8183039382056, 467.976237562485, 468.1341711867643, 468.2921048110437, 468.4500384353231, 468.60797205960245, 468.76590568388184, 468.92383930816123, 469.0817729324406, 469.23970655671997, 469.3976401809993, 469.5555738052787, 469.7135074295581, 469.87144105383743, 470.0293746781168, 470.1873083023962, 470.34524192667556, 470.50317555095495, 470.6611091752343, 470.8190427995137, 470.9769764237931, 471.1349100480724, 471.2928436723518, 471.45077729663114, 471.60871092091054, 471.76664454518993, 471.92457816946927, 472.08251179374867, 472.240445418028, 472.3983790423074, 472.5563126665868, 472.71424629086613, 472.8721799151455, 473.0301135394249, 473.18804716370425, 473.34598078798365, 473.503914412263, 473.6618480365424], \"y\": [0.004461947855607904, 0.004809456560802173, 0.005180764035228757, 0.005577221690151149, 0.006000235456467555, 0.006451266279432672, 0.006931830471278782, 0.007443499909583117, 0.007987902069011506, 0.008566719873903993, 0.009181691359062997, 0.009834609126047769, 0.010527319582287413, 0.011261721950410227, 0.012039767035322394, 0.01286345573680595, 0.01373483729570092, 0.01465600726212202, 0.015629105174644914, 0.016656311939943037, 0.017739846903030054, 0.018881964599003872, 0.020084951178035482, 0.021351120496304835, 0.022682809866623032, 0.02408237546362476, 0.025552187379678844, 0.02709462432898371, 0.028712067998783588, 0.03040689704816104, 0.032181480756487905, 0.034038172325354, 0.03597930183955696, 0.038007168894646275, 0.04012403490043976, 0.04233211507193712, 0.044633570121141206, 0.04703049766538989, 0.04952492336994494, 0.0521187918447892, 0.054813957317725925, 0.057612174108113166, 0.06051508692771859, 0.06352422103733903, 0.06664097228998717, 0.06986659709346611, 0.07320220232721585, 0.07664873525020884, 0.08020697343850264, 0.08387751479281046, 0.08766076765801825, 0.09155694109802558, 0.09556603537063431, 0.09968783264826435, 0.10392188803129143, 0.10826752090150095, 0.11272380666367915, 0.11728956892372705, 0.12196337215166772, 0.12674351487783234, 0.13162802347002509, 0.136614646538775, 0.14170085001686894, 0.14688381295807687, 0.15216042409846298, 0.1575272792219462, 0.1629806793695968, 0.168516629929905, 0.17413084064456377, 0.17981872656140613, 0.18557540996304842, 0.19139572329626414, 0.1972742131235695, 0.20320514511454277, 0.2091825100903031, 0.21520003113033268, 0.22125117174629425, 0.2273291451228585, 0.23342692442086135, 0.23953725413310772, 0.24565266247828663, 0.2517654748133519, 0.257867828039654, 0.2639516859731112, 0.27000885564353183, 0.2760310044833228, 0.2820096783608202, 0.28793632040867556, 0.2938022905931226, 0.2995988859654004, 0.30531736153231415, 0.3109489516789283, 0.3164848920724696, 0.3219164419731167, 0.3272349068740697, 0.3324316613904325, 0.33749817231398793, 0.3424260217487115, 0.34720693024023425, 0.3518327798110751, 0.3562956368125732, 0.36058777450403573, 0.36470169526956153, 0.368630152383447, 0.3723661712360311, 0.37590306993311695, 0.3792344791839986, 0.38235436139533613, 0.3852570288908327, 0.3879371611798424, 0.39038982120153054, 0.3926104704752216, 0.3945949830918649, 0.39633965848625036, 0.39784123293465357, 0.3990968897279024, 0.4001042679754796, 0.4008614700021575, 0.401367067304713, 0.40162010504256457, 0.40162010504256457, 0.401367067304713, 0.4008614700021575, 0.4001042679754796, 0.3990968897279024, 0.39784123293465357, 0.39633965848625036, 0.3945949830918649, 0.3926104704752216, 0.39038982120153054, 0.3879371611798424, 0.3852570288908327, 0.38235436139533613, 0.3792344791839986, 0.37590306993311695, 0.3723661712360311, 0.368630152383447, 0.36470169526956153, 0.36058777450403573, 0.35629563681257165, 0.3518327798110751, 0.34720693024023425, 0.3424260217487115, 0.33749817231398793, 0.3324316613904325, 0.3272349068740697, 0.3219164419731167, 0.3164848920724696, 0.3109489516789283, 0.30531736153231415, 0.2995988859654004, 0.2938022905931226, 0.28793632040867556, 0.2820096783608202, 0.2760310044833228, 0.27000885564353183, 0.2639516859731112, 0.257867828039654, 0.2517654748133519, 0.24565266247828663, 0.23953725413310772, 0.23342692442086135, 0.2273291451228585, 0.22125117174629425, 0.21520003113033268, 0.20918251009030095, 0.20320514511454277, 0.1972742131235695, 0.19139572329626414, 0.18557540996304842, 0.17981872656140613, 0.17413084064456377, 0.168516629929905, 0.1629806793695968, 0.1575272792219462, 0.15216042409846298, 0.14688381295807687, 0.14170085001686894, 0.136614646538775, 0.13162802347002509, 0.12674351487783234, 0.12196337215166772, 0.11728956892372705, 0.11272380666367915, 0.10826752090150095, 0.10392188803129143, 0.09968783264826435, 0.09556603537063431, 0.09155694109802558, 0.08766076765801825, 0.08387751479281046, 0.08020697343850136, 0.07664873525020884, 0.07320220232721585, 0.06986659709346611, 0.06664097228998717, 0.06352422103733903, 0.06051508692771859, 0.057612174108113166, 0.054813957317725925, 0.0521187918447892, 0.04952492336994494, 0.04703049766538989, 0.044633570121141206, 0.04233211507193712, 0.04012403490043976, 0.038007168894646275, 0.03597930183955696, 0.034038172325354, 0.032181480756487905, 0.03040689704816104, 0.028712067998783588, 0.02709462432898371, 0.025552187379678844, 0.02408237546362476, 0.022682809866623032, 0.021351120496304835, 0.020084951178035024, 0.018881964599003872, 0.017739846903030054, 0.016656311939943037, 0.015629105174644914, 0.01465600726212202, 0.01373483729570092, 0.01286345573680595, 0.012039767035322394, 0.011261721950410227, 0.010527319582287413, 0.009834609126047769, 0.009181691359062997, 0.008566719873903993, 0.007987902069011506, 0.007443499909583117, 0.006931830471278782, 0.006451266279432672, 0.006000235456467555, 0.005577221690151149, 0.005180764035228757, 0.004809456560802173, 0.004461947855607904]}, {\"line\": {\"color\": \"orange\"}, \"name\": \"CDF\", \"type\": \"scatter\", \"x\": [435.9157118337724, 436.0736454580518, 436.2315790823311, 436.3895127066105, 436.54744633088984, 436.70537995516924, 436.86331357944863, 437.02124720372797, 437.17918082800736, 437.33711445228676, 437.4950480765661, 437.6529817008455, 437.8109153251248, 437.9688489494042, 438.1267825736836, 438.28471619796295, 438.44264982224234, 438.6005834465217, 438.7585170708011, 438.91645069508047, 439.0743843193598, 439.2323179436392, 439.3902515679186, 439.54818519219793, 439.70611881647733, 439.86405244075667, 440.02198606503606, 440.17991968931545, 440.3378533135948, 440.4957869378742, 440.6537205621535, 440.8116541864329, 440.9695878107123, 441.12752143499165, 441.28545505927104, 441.44338868355044, 441.6013223078298, 441.75925593210917, 441.9171895563885, 442.0751231806679, 442.2330568049473, 442.39099042922663, 442.548924053506, 442.70685767778537, 442.86479130206476, 443.02272492634415, 443.1806585506235, 443.3385921749029, 443.4965257991823, 443.6544594234616, 443.812393047741, 443.97032667202035, 444.12826029629974, 444.28619392057914, 444.4441275448585, 444.60206116913787, 444.7599947934172, 444.9179284176966, 445.075862041976, 445.23379566625533, 445.3917292905347, 445.5496629148141, 445.70759653909346, 445.86553016337285, 446.0234637876522, 446.1813974119316, 446.339331036211, 446.4972646604903, 446.6551982847697, 446.81313190904905, 446.97106553332844, 447.12899915760784, 447.2869327818872, 447.44486640616657, 447.60280003044596, 447.7607336547253, 447.9186672790047, 448.07660090328403, 448.2345345275634, 448.3924681518428, 448.55040177612216, 448.70833540040155, 448.8662690246809, 449.0242026489603, 449.1821362732397, 449.340069897519, 449.4980035217984, 449.6559371460778, 449.81387077035714, 449.97180439463654, 450.1297380189159, 450.28767164319527, 450.44560526747466, 450.603538891754, 450.7614725160334, 450.91940614031273, 451.0773397645921, 451.2352733888715, 451.39320701315086, 451.55114063743025, 451.70907426170965, 451.867007885989, 452.0249415102684, 452.1828751345477, 452.3408087588271, 452.4987423831065, 452.65667600738584, 452.81460963166523, 452.9725432559446, 453.13047688022397, 453.28841050450336, 453.4463441287827, 453.6042777530621, 453.7622113773415, 453.9201450016208, 454.0780786259002, 454.23601225017956, 454.39394587445895, 454.55187949873834, 454.7098131230177, 454.8677467472971, 455.0256803715764, 455.1836139958558, 455.3415476201352, 455.49948124441454, 455.65741486869393, 455.81534849297327, 455.97328211725267, 456.13121574153206, 456.2891493658114, 456.4470829900908, 456.6050166143702, 456.7629502386495, 456.9208838629289, 457.07881748720825, 457.23675111148765, 457.39468473576704, 457.5526183600464, 457.7105519843258, 457.86848560860517, 458.0264192328845, 458.1843528571639, 458.34228648144324, 458.50022010572263, 458.658153730002, 458.81608735428136, 458.97402097856076, 459.1319546028401, 459.2898882271195, 459.4478218513989, 459.6057554756782, 459.7636890999576, 459.92162272423695, 460.07955634851635, 460.23748997279574, 460.3954235970751, 460.5533572213545, 460.71129084563387, 460.8692244699132, 461.0271580941926, 461.18509171847194, 461.34302534275133, 461.5009589670307, 461.65889259131006, 461.81682621558946, 461.97475983986885, 462.1326934641482, 462.2906270884276, 462.4485607127069, 462.6064943369863, 462.7644279612657, 462.92236158554505, 463.08029520982444, 463.2382288341038, 463.3961624583832, 463.55409608266257, 463.7120297069419, 463.8699633312213, 464.02789695550064, 464.18583057978003, 464.3437642040594, 464.50169782833876, 464.65963145261816, 464.81756507689755, 464.9754987011769, 465.1334323254563, 465.2913659497356, 465.449299574015, 465.6072331982944, 465.76516682257375, 465.92310044685314, 466.08103407113254, 466.2389676954119, 466.39690131969127, 466.5548349439706, 466.71276856825, 466.8707021925294, 467.02863581680873, 467.1865694410881, 467.34450306536746, 467.50243668964686, 467.66037031392625, 467.8183039382056, 467.976237562485, 468.1341711867643, 468.2921048110437, 468.4500384353231, 468.60797205960245, 468.76590568388184, 468.92383930816123, 469.0817729324406, 469.23970655671997, 469.3976401809993, 469.5555738052787, 469.7135074295581, 469.87144105383743, 470.0293746781168, 470.1873083023962, 470.34524192667556, 470.50317555095495, 470.6611091752343, 470.8190427995137, 470.9769764237931, 471.1349100480724, 471.2928436723518, 471.45077729663114, 471.60871092091054, 471.76664454518993, 471.92457816946927, 472.08251179374867, 472.240445418028, 472.3983790423074, 472.5563126665868, 472.71424629086613, 472.8721799151455, 473.0301135394249, 473.18804716370425, 473.34598078798365, 473.503914412263, 473.6618480365424], \"y\": [0.0001115486963901976, 0.00023178511041025194, 0.00036130421129097084, 0.0005007347535447496, 0.0006507406399564384, 0.0008120222969422552, 0.0009853180587242247, 0.0011714055564638027, 0.0013711031081890903, 0.0015852711050366901, 0.0018148133890132652, 0.0020606786171644595, 0.0023238616067216447, 0.0026054046554819005, 0.0029063988313649605, 0.0032279852247851094, 0.0035713561571776324, 0.003937756338730683, 0.004328483968096806, 0.004744891766595382, 0.005188387939171133, 0.00566043705414623, 0.006162560833597117, 0.006696338846004738, 0.007263409092670314, 0.007865468479260933, 0.008504273163752905, 0.009181638771977498, 0.009899440471947088, 0.010659612898151115, 0.011464149917063312, 0.012315104225197162, 0.013214586771186086, 0.014164765993552243, 0.015167866866063237, 0.016226169742861667, 0.017342008995890196, 0.018517771437524942, 0.019755894521773565, 0.021058864317893295, 0.022429213250836442, 0.02386951760353927, 0.025382394776732237, 0.026970500302665713, 0.028636524609915393, 0.030383189537252046, 0.03221324459543244, 0.03412946297668766, 0.03613463731265023, 0.038231575182470494, 0.04042309437392095, 0.042712017901371586, 0.04510116878563744, 0.04759336460184405, 0.05019141180262634, 0.052898099825163865, 0.05571619499175584, 0.05864843421484902, 0.061697518518640714, 0.06486610639058653, 0.06815680697733716, 0.07157217314080654, 0.07511469439122825, 0.07878678971518017, 0.08259080031764175, 0.08652898229819041, 0.09060349928243033, 0.09481641503067796, 0.09916968604679205, 0.1036651542108272, 0.10830453945990341, 0.11308943254231002, 0.11802128787039926, 0.12310141649826283, 0.1283309792505204, 0.1337109800287787, 0.13924225932243606, 0.14492548795050753, 0.15076116106102905, 0.15674959241435674, 0.1628909089763139, 0.16918504584664767, 0.17563174154763903, 0.18223053369696682, 0.18898075508805512, 0.19588153020013818, 0.2029317721591587, 0.2101301801693756, 0.21747523743420366, 0.22496520958333868, 0.23259814362164655, 0.24037186741361977, 0.2482839897154315, 0.2563319007647594, 0.26451277343661117, 0.272823564971372, 0.2812610192792217, 0.2898216698229395, 0.29850184307894534, 0.3072976625742222, 0.31620505349453654, 0.3252197478571374, 0.3343372902388765, 0.34355304404846265, 0.35286219832936344, 0.36225977507769136, 0.3717406370572913, 0.38129949609217473, 0.39093092181444555, 0.40062935084394163, 0.4103890963739799, 0.42020435813586043, 0.43006923271315706, 0.43997772417531333, 0.44992375499867965, 0.45990117724187723, 0.4699037839412642, 0.47992532069131816, 0.48995949737393596, 0.5000000000000001, 0.5100405026260643, 0.5200746793086821, 0.530096216058736, 0.540098822758123, 0.5500762450013206, 0.5600222758246869, 0.5699307672868431, 0.5797956418641397, 0.5896109036260202, 0.5993706491560584, 0.6090690781855544, 0.6187005039078253, 0.6282593629427087, 0.6377402249223086, 0.6471378016706366, 0.6564469559515373, 0.6656627097611235, 0.6747802521428625, 0.6837949465054635, 0.6927023374257778, 0.7014981569210547, 0.7101783301770606, 0.7187389807207784, 0.727176435028628, 0.7354872265633888, 0.7436680992352406, 0.7517160102845685, 0.7596281325863802, 0.7674018563783533, 0.7750347904166612, 0.7825247625657963, 0.7898698198306243, 0.7970682278408412, 0.8041184697998617, 0.8110192449119448, 0.817769466303033, 0.8243682584523608, 0.8308149541533522, 0.8371090910236859, 0.8432504075856431, 0.8492388389389708, 0.8550745120494924, 0.8607577406775638, 0.8662890199712212, 0.8716690207494795, 0.876898583501737, 0.8819787121296006, 0.8869105674576898, 0.8916954605400964, 0.8963348457891727, 0.9008303139532078, 0.9051835849693218, 0.9093965007175695, 0.9134710177018094, 0.917409199682358, 0.9212132102848196, 0.9248853056087716, 0.9284278268591933, 0.9318431930226627, 0.9351338936094133, 0.9383024814813592, 0.9413515657851509, 0.944283805008244, 0.947101900174836, 0.9498085881973735, 0.9524066353981557, 0.9548988312143624, 0.9572879820986282, 0.9595769056260789, 0.9617684248175293, 0.9638653626873496, 0.965870537023312, 0.9677867554045673, 0.9696168104627476, 0.9713634753900843, 0.973029499697334, 0.9746176052232675, 0.9761304823964604, 0.9775707867491632, 0.9789411356821064, 0.9802441054782262, 0.9814822285624748, 0.9826579910041096, 0.983773830257138, 0.9848321331339365, 0.9858352340064475, 0.9867854132288136, 0.9876848957748026, 0.9885358500829364, 0.9893403871018486, 0.9901005595280526, 0.9908183612280222, 0.9914957268362469, 0.9921345315207388, 0.9927365909073295, 0.993303661153995, 0.9938374391664027, 0.9943395629458536, 0.9948116120608287, 0.9952551082334045, 0.9956715160319031, 0.9960622436612692, 0.9964286438428223, 0.9967720147752148, 0.997093601168635, 0.997394595344518, 0.9976761383932783, 0.9979393213828355, 0.9981851866109867, 0.9984147288949632, 0.9986288968918108, 0.9988285944435361, 0.9990146819412757, 0.9991879777030577, 0.9993492593600435, 0.9994992652464552, 0.9996386957887089, 0.9997682148895897, 0.9998884513036097, 0.9999999999999999]}, {\"line\": {\"color\": \"royal blue\", \"width\": 3}, \"name\": \"Mu\", \"opacity\": 0.5, \"type\": \"scatter\", \"x\": [454.7887799351574, 454.7887799351574], \"y\": [0, 0.40162010504256457]}, {\"line\": {\"color\": \"black\"}, \"name\": \"Last price\", \"opacity\": 1, \"type\": \"scatter\", \"x\": [444.45000000000033, 444.45000000000033], \"y\": [0, 0.10337936597740413]}, {\"line\": {\"color\": \"green\"}, \"name\": \"Target Profit\", \"type\": \"scatter\", \"x\": [448.89450000000033, 448.89450000000033], \"y\": [0, 0.25721004893016164]}, {\"line\": {\"color\": \"red\"}, \"name\": \"Target Loss\", \"type\": \"scatter\", \"x\": [440.0055000000003, 440.0055000000003], \"y\": [0, 0.02522409314318011]}],\n",
       "                        {\"template\": {\"data\": {\"bar\": [{\"error_x\": {\"color\": \"#2a3f5f\"}, \"error_y\": {\"color\": \"#2a3f5f\"}, \"marker\": {\"line\": {\"color\": \"#E5ECF6\", \"width\": 0.5}}, \"type\": \"bar\"}], \"barpolar\": [{\"marker\": {\"line\": {\"color\": \"#E5ECF6\", \"width\": 0.5}}, \"type\": \"barpolar\"}], \"carpet\": [{\"aaxis\": {\"endlinecolor\": \"#2a3f5f\", \"gridcolor\": \"white\", \"linecolor\": \"white\", \"minorgridcolor\": \"white\", \"startlinecolor\": \"#2a3f5f\"}, \"baxis\": {\"endlinecolor\": \"#2a3f5f\", \"gridcolor\": \"white\", \"linecolor\": \"white\", \"minorgridcolor\": \"white\", \"startlinecolor\": \"#2a3f5f\"}, \"type\": \"carpet\"}], \"choropleth\": [{\"colorbar\": {\"outlinewidth\": 0, \"ticks\": \"\"}, \"type\": \"choropleth\"}], \"contour\": [{\"colorbar\": {\"outlinewidth\": 0, \"ticks\": \"\"}, \"colorscale\": [[0.0, \"#0d0887\"], [0.1111111111111111, \"#46039f\"], [0.2222222222222222, \"#7201a8\"], [0.3333333333333333, \"#9c179e\"], [0.4444444444444444, \"#bd3786\"], [0.5555555555555556, \"#d8576b\"], [0.6666666666666666, \"#ed7953\"], [0.7777777777777778, \"#fb9f3a\"], [0.8888888888888888, \"#fdca26\"], [1.0, \"#f0f921\"]], \"type\": \"contour\"}], \"contourcarpet\": [{\"colorbar\": {\"outlinewidth\": 0, \"ticks\": \"\"}, \"type\": \"contourcarpet\"}], \"heatmap\": [{\"colorbar\": {\"outlinewidth\": 0, \"ticks\": \"\"}, \"colorscale\": [[0.0, \"#0d0887\"], [0.1111111111111111, \"#46039f\"], [0.2222222222222222, \"#7201a8\"], [0.3333333333333333, \"#9c179e\"], [0.4444444444444444, \"#bd3786\"], [0.5555555555555556, \"#d8576b\"], [0.6666666666666666, \"#ed7953\"], [0.7777777777777778, \"#fb9f3a\"], [0.8888888888888888, \"#fdca26\"], [1.0, \"#f0f921\"]], \"type\": \"heatmap\"}], \"heatmapgl\": [{\"colorbar\": {\"outlinewidth\": 0, \"ticks\": \"\"}, \"colorscale\": [[0.0, \"#0d0887\"], [0.1111111111111111, \"#46039f\"], [0.2222222222222222, \"#7201a8\"], [0.3333333333333333, \"#9c179e\"], [0.4444444444444444, \"#bd3786\"], [0.5555555555555556, \"#d8576b\"], [0.6666666666666666, \"#ed7953\"], [0.7777777777777778, \"#fb9f3a\"], [0.8888888888888888, \"#fdca26\"], [1.0, \"#f0f921\"]], \"type\": \"heatmapgl\"}], \"histogram\": [{\"marker\": {\"colorbar\": {\"outlinewidth\": 0, \"ticks\": \"\"}}, \"type\": \"histogram\"}], \"histogram2d\": [{\"colorbar\": {\"outlinewidth\": 0, \"ticks\": \"\"}, \"colorscale\": [[0.0, \"#0d0887\"], [0.1111111111111111, \"#46039f\"], [0.2222222222222222, \"#7201a8\"], [0.3333333333333333, \"#9c179e\"], [0.4444444444444444, \"#bd3786\"], [0.5555555555555556, \"#d8576b\"], [0.6666666666666666, \"#ed7953\"], [0.7777777777777778, \"#fb9f3a\"], [0.8888888888888888, \"#fdca26\"], [1.0, \"#f0f921\"]], \"type\": \"histogram2d\"}], \"histogram2dcontour\": [{\"colorbar\": {\"outlinewidth\": 0, \"ticks\": \"\"}, \"colorscale\": [[0.0, \"#0d0887\"], [0.1111111111111111, \"#46039f\"], [0.2222222222222222, \"#7201a8\"], [0.3333333333333333, \"#9c179e\"], [0.4444444444444444, \"#bd3786\"], [0.5555555555555556, \"#d8576b\"], [0.6666666666666666, \"#ed7953\"], [0.7777777777777778, \"#fb9f3a\"], [0.8888888888888888, \"#fdca26\"], [1.0, \"#f0f921\"]], \"type\": \"histogram2dcontour\"}], \"mesh3d\": [{\"colorbar\": {\"outlinewidth\": 0, \"ticks\": \"\"}, \"type\": \"mesh3d\"}], \"parcoords\": [{\"line\": {\"colorbar\": {\"outlinewidth\": 0, \"ticks\": \"\"}}, \"type\": \"parcoords\"}], \"pie\": [{\"automargin\": true, \"type\": \"pie\"}], \"scatter\": [{\"marker\": {\"colorbar\": {\"outlinewidth\": 0, \"ticks\": \"\"}}, \"type\": \"scatter\"}], \"scatter3d\": [{\"line\": {\"colorbar\": {\"outlinewidth\": 0, \"ticks\": \"\"}}, \"marker\": {\"colorbar\": {\"outlinewidth\": 0, \"ticks\": \"\"}}, \"type\": \"scatter3d\"}], \"scattercarpet\": [{\"marker\": {\"colorbar\": {\"outlinewidth\": 0, \"ticks\": \"\"}}, \"type\": \"scattercarpet\"}], \"scattergeo\": [{\"marker\": {\"colorbar\": {\"outlinewidth\": 0, \"ticks\": \"\"}}, \"type\": \"scattergeo\"}], \"scattergl\": [{\"marker\": {\"colorbar\": {\"outlinewidth\": 0, \"ticks\": \"\"}}, \"type\": \"scattergl\"}], \"scattermapbox\": [{\"marker\": {\"colorbar\": {\"outlinewidth\": 0, \"ticks\": \"\"}}, \"type\": \"scattermapbox\"}], \"scatterpolar\": [{\"marker\": {\"colorbar\": {\"outlinewidth\": 0, \"ticks\": \"\"}}, \"type\": \"scatterpolar\"}], \"scatterpolargl\": [{\"marker\": {\"colorbar\": {\"outlinewidth\": 0, \"ticks\": \"\"}}, \"type\": \"scatterpolargl\"}], \"scatterternary\": [{\"marker\": {\"colorbar\": {\"outlinewidth\": 0, \"ticks\": \"\"}}, \"type\": \"scatterternary\"}], \"surface\": [{\"colorbar\": {\"outlinewidth\": 0, \"ticks\": \"\"}, \"colorscale\": [[0.0, \"#0d0887\"], [0.1111111111111111, \"#46039f\"], [0.2222222222222222, \"#7201a8\"], [0.3333333333333333, \"#9c179e\"], [0.4444444444444444, \"#bd3786\"], [0.5555555555555556, \"#d8576b\"], [0.6666666666666666, \"#ed7953\"], [0.7777777777777778, \"#fb9f3a\"], [0.8888888888888888, \"#fdca26\"], [1.0, \"#f0f921\"]], \"type\": \"surface\"}], \"table\": [{\"cells\": {\"fill\": {\"color\": \"#EBF0F8\"}, \"line\": {\"color\": \"white\"}}, \"header\": {\"fill\": {\"color\": \"#C8D4E3\"}, \"line\": {\"color\": \"white\"}}, \"type\": \"table\"}]}, \"layout\": {\"annotationdefaults\": {\"arrowcolor\": \"#2a3f5f\", \"arrowhead\": 0, \"arrowwidth\": 1}, \"coloraxis\": {\"colorbar\": {\"outlinewidth\": 0, \"ticks\": \"\"}}, \"colorscale\": {\"diverging\": [[0, \"#8e0152\"], [0.1, \"#c51b7d\"], [0.2, \"#de77ae\"], [0.3, \"#f1b6da\"], [0.4, \"#fde0ef\"], [0.5, \"#f7f7f7\"], [0.6, \"#e6f5d0\"], [0.7, \"#b8e186\"], [0.8, \"#7fbc41\"], [0.9, \"#4d9221\"], [1, \"#276419\"]], \"sequential\": [[0.0, \"#0d0887\"], [0.1111111111111111, \"#46039f\"], [0.2222222222222222, \"#7201a8\"], [0.3333333333333333, \"#9c179e\"], [0.4444444444444444, \"#bd3786\"], [0.5555555555555556, \"#d8576b\"], [0.6666666666666666, \"#ed7953\"], [0.7777777777777778, \"#fb9f3a\"], [0.8888888888888888, \"#fdca26\"], [1.0, \"#f0f921\"]], \"sequentialminus\": [[0.0, \"#0d0887\"], [0.1111111111111111, \"#46039f\"], [0.2222222222222222, \"#7201a8\"], [0.3333333333333333, \"#9c179e\"], [0.4444444444444444, \"#bd3786\"], [0.5555555555555556, \"#d8576b\"], [0.6666666666666666, \"#ed7953\"], [0.7777777777777778, \"#fb9f3a\"], [0.8888888888888888, \"#fdca26\"], [1.0, \"#f0f921\"]]}, \"colorway\": [\"#636efa\", \"#EF553B\", \"#00cc96\", \"#ab63fa\", \"#FFA15A\", \"#19d3f3\", \"#FF6692\", \"#B6E880\", \"#FF97FF\", \"#FECB52\"], \"font\": {\"color\": \"#2a3f5f\"}, \"geo\": {\"bgcolor\": \"white\", \"lakecolor\": \"white\", \"landcolor\": \"#E5ECF6\", \"showlakes\": true, \"showland\": true, \"subunitcolor\": \"white\"}, \"hoverlabel\": {\"align\": \"left\"}, \"hovermode\": \"closest\", \"mapbox\": {\"style\": \"light\"}, \"paper_bgcolor\": \"white\", \"plot_bgcolor\": \"#E5ECF6\", \"polar\": {\"angularaxis\": {\"gridcolor\": \"white\", \"linecolor\": \"white\", \"ticks\": \"\"}, \"bgcolor\": \"#E5ECF6\", \"radialaxis\": {\"gridcolor\": \"white\", \"linecolor\": \"white\", \"ticks\": \"\"}}, \"scene\": {\"xaxis\": {\"backgroundcolor\": \"#E5ECF6\", \"gridcolor\": \"white\", \"gridwidth\": 2, \"linecolor\": \"white\", \"showbackground\": true, \"ticks\": \"\", \"zerolinecolor\": \"white\"}, \"yaxis\": {\"backgroundcolor\": \"#E5ECF6\", \"gridcolor\": \"white\", \"gridwidth\": 2, \"linecolor\": \"white\", \"showbackground\": true, \"ticks\": \"\", \"zerolinecolor\": \"white\"}, \"zaxis\": {\"backgroundcolor\": \"#E5ECF6\", \"gridcolor\": \"white\", \"gridwidth\": 2, \"linecolor\": \"white\", \"showbackground\": true, \"ticks\": \"\", \"zerolinecolor\": \"white\"}}, \"shapedefaults\": {\"line\": {\"color\": \"#2a3f5f\"}}, \"ternary\": {\"aaxis\": {\"gridcolor\": \"white\", \"linecolor\": \"white\", \"ticks\": \"\"}, \"baxis\": {\"gridcolor\": \"white\", \"linecolor\": \"white\", \"ticks\": \"\"}, \"bgcolor\": \"#E5ECF6\", \"caxis\": {\"gridcolor\": \"white\", \"linecolor\": \"white\", \"ticks\": \"\"}}, \"title\": {\"x\": 0.05}, \"xaxis\": {\"automargin\": true, \"gridcolor\": \"white\", \"linecolor\": \"white\", \"ticks\": \"\", \"title\": {\"standoff\": 15}, \"zerolinecolor\": \"white\", \"zerolinewidth\": 2}, \"yaxis\": {\"automargin\": true, \"gridcolor\": \"white\", \"linecolor\": \"white\", \"ticks\": \"\", \"title\": {\"standoff\": 15}, \"zerolinecolor\": \"white\", \"zerolinewidth\": 2}}}, \"title\": {\"text\": \"AAPL Predicted Price Probability Distribution on 2020-08-08\"}},\n",
       "                        {\"responsive\": true}\n",
       "                    ).then(function(){\n",
       "                            \n",
       "var gd = document.getElementById('ba88a9fb-c164-46c0-931c-2c4fac4ab311');\n",
       "var x = new MutationObserver(function (mutations, observer) {{\n",
       "        var display = window.getComputedStyle(gd).display;\n",
       "        if (!display || display === 'none') {{\n",
       "            console.log([gd, 'removed!']);\n",
       "            Plotly.purge(gd);\n",
       "            observer.disconnect();\n",
       "        }}\n",
       "}});\n",
       "\n",
       "// Listen for the removal of the full notebook cells\n",
       "var notebookContainer = gd.closest('#notebook-container');\n",
       "if (notebookContainer) {{\n",
       "    x.observe(notebookContainer, {childList: true});\n",
       "}}\n",
       "\n",
       "// Listen for the clearing of the current output cell\n",
       "var outputEl = gd.closest('.output');\n",
       "if (outputEl) {{\n",
       "    x.observe(outputEl, {childList: true});\n",
       "}}\n",
       "\n",
       "                        })\n",
       "                };\n",
       "                });\n",
       "            </script>\n",
       "        </div>"
      ]
     },
     "metadata": {},
     "output_type": "display_data"
    },
    {
     "name": "stdout",
     "output_type": "stream",
     "text": [
      "SUMMARY REPORT:\n",
      "Last Price: $444.45, Mu: $454.79, Directions: CALL\n",
      "Target Profit: $448.89 (+1.00%), Cut Loss: $440.01 (-1.00%)\n",
      "Sideway probability: 16.50% (+12.42% -4.08%)\n",
      "Profit probability: 82.56%\n",
      "Loss probability: 0.94%\n"
     ]
    }
   ],
   "source": [
    "# Target Plot and REPORT\n",
    "#-------------------Plot-------------------#\n",
    "if 1:\n",
    "    add_to_chart = [\n",
    "                    go.Scatter(x = [target_p, target_p], y = [0, pdf_prob(target_p, mu, stdev)], name = 'Target Profit',\n",
    "                               line = dict(color = 'green')),\n",
    "                    go.Scatter(x = [target_l, target_l], y = [0, pdf_prob(target_l, mu, stdev)], name = 'Target Loss', \n",
    "                               line = dict(color = 'red')),\n",
    "                   ]\n",
    "    create_normal_plot(interval = 240, add_to_chart = add_to_chart)\n",
    "#-------------------Report-------------------#\n",
    "if 1:\n",
    "    print('SUMMARY REPORT:')\n",
    "    print('Last Price: ${:,.2f}, Mu: ${:,.2f}, Directions: '.format(dataset[-1], mu)+ directions.upper())\n",
    "    print('Target Profit: ${:,.2f} (+{:,.2f}%), Cut Loss: ${:,.2f} (-{:,.2f}%)'\n",
    "          .format(target_p, target*100, target_l, target*100))\n",
    "    print('Sideway probability: {:,.2f}% (+{:,.2f}% -{:,.2f}%)'\n",
    "          .format((prob_sideway_p+prob_sideway_l)*100, prob_sideway_p*100, prob_sideway_l*100))\n",
    "    print('Profit probability: {:,.2f}%'.format(prob_target_p*100))\n",
    "    print('Loss probability: {:,.2f}%'.format(prob_target_l*100))"
   ]
  },
  {
   "cell_type": "code",
   "execution_count": null,
   "metadata": {
    "hidden": true
   },
   "outputs": [],
   "source": []
  }
 ],
 "metadata": {
  "kernelspec": {
   "display_name": "Python 3",
   "language": "python",
   "name": "python3"
  },
  "language_info": {
   "codemirror_mode": {
    "name": "ipython",
    "version": 3
   },
   "file_extension": ".py",
   "mimetype": "text/x-python",
   "name": "python",
   "nbconvert_exporter": "python",
   "pygments_lexer": "ipython3",
   "version": "3.7.7"
  },
  "toc": {
   "base_numbering": 1,
   "nav_menu": {},
   "number_sections": false,
   "sideBar": true,
   "skip_h1_title": false,
   "title_cell": "Table of Contents",
   "title_sidebar": "Contents",
   "toc_cell": false,
   "toc_position": {
    "height": "calc(100% - 180px)",
    "left": "10px",
    "top": "150px",
    "width": "165px"
   },
   "toc_section_display": true,
   "toc_window_display": true
  },
  "varInspector": {
   "cols": {
    "lenName": 16,
    "lenType": 16,
    "lenVar": 40
   },
   "kernels_config": {
    "python": {
     "delete_cmd_postfix": "",
     "delete_cmd_prefix": "del ",
     "library": "var_list.py",
     "varRefreshCmd": "print(var_dic_list())"
    },
    "r": {
     "delete_cmd_postfix": ") ",
     "delete_cmd_prefix": "rm(",
     "library": "var_list.r",
     "varRefreshCmd": "cat(var_dic_list()) "
    }
   },
   "position": {
    "height": "483px",
    "left": "1009px",
    "right": "20px",
    "top": "120px",
    "width": "337px"
   },
   "types_to_exclude": [
    "module",
    "function",
    "builtin_function_or_method",
    "instance",
    "_Feature"
   ],
   "window_display": false
  }
 },
 "nbformat": 4,
 "nbformat_minor": 2
}
