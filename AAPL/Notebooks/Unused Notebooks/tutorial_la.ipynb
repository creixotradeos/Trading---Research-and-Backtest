{
 "cells": [
  {
   "cell_type": "code",
   "execution_count": 4,
   "metadata": {
    "ExecuteTime": {
     "end_time": "2020-08-19T18:51:56.444215Z",
     "start_time": "2020-08-19T18:51:56.432218Z"
    },
    "code_folding": [
     16
    ]
   },
   "outputs": [
    {
     "name": "stdout",
     "output_type": "stream",
     "text": [
      "What the fuck\n"
     ]
    }
   ],
   "source": [
    "import argparse\n",
    "print('What the fuck')\n",
    "def parse_args():\n",
    "    parser = argparse.ArgumentParser(description='Argparse Example program\\\n",
    "                        for backtesting')\n",
    "    parser.add_argument('instrument',\n",
    "                        help='The yahoo ticker of the instrument being tested')\n",
    "    parser.add_argument('start', help='Starting date in YYYY-MM-DD format')\n",
    "    parser.add_argument('end', help='Ending date in YYYY-MM-DD format')\n",
    "    parser.add_argument('-p',\n",
    "                        '--period',\n",
    "                        default=21,\n",
    "                        type=int,\n",
    "                        help='Select the RSI lookback period')\n",
    "    parser.add_argument(\n",
    "        '-r',\n",
    "        '--rsi',\n",
    "        choices=['SMA', 'EMA'],\n",
    "        help='Select wether a simple moving average or exponential\\\n",
    "                         moving average is used in the RSI calcuation')\n",
    "    print('Lo mau apa njing')\n",
    "    return parser.parse_args()"
   ]
  }
 ],
 "metadata": {
  "kernelspec": {
   "display_name": "Python 3",
   "language": "python",
   "name": "python3"
  },
  "language_info": {
   "codemirror_mode": {
    "name": "ipython",
    "version": 3
   },
   "file_extension": ".py",
   "mimetype": "text/x-python",
   "name": "python",
   "nbconvert_exporter": "python",
   "pygments_lexer": "ipython3",
   "version": "3.7.4"
  },
  "toc": {
   "base_numbering": 1,
   "nav_menu": {},
   "number_sections": false,
   "sideBar": true,
   "skip_h1_title": false,
   "title_cell": "Table of Contents",
   "title_sidebar": "Contents",
   "toc_cell": false,
   "toc_position": {},
   "toc_section_display": true,
   "toc_window_display": false
  },
  "varInspector": {
   "cols": {
    "lenName": 16,
    "lenType": 16,
    "lenVar": 40
   },
   "kernels_config": {
    "python": {
     "delete_cmd_postfix": "",
     "delete_cmd_prefix": "del ",
     "library": "var_list.py",
     "varRefreshCmd": "print(var_dic_list())"
    },
    "r": {
     "delete_cmd_postfix": ") ",
     "delete_cmd_prefix": "rm(",
     "library": "var_list.r",
     "varRefreshCmd": "cat(var_dic_list()) "
    }
   },
   "types_to_exclude": [
    "module",
    "function",
    "builtin_function_or_method",
    "instance",
    "_Feature"
   ],
   "window_display": false
  }
 },
 "nbformat": 4,
 "nbformat_minor": 2
}
