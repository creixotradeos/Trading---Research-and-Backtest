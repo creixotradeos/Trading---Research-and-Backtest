{
 "cells": [
  {
   "cell_type": "markdown",
   "metadata": {},
   "source": [
    "# Libraries"
   ]
  },
  {
   "cell_type": "code",
   "execution_count": 1,
   "metadata": {
    "ExecuteTime": {
     "end_time": "2020-08-18T06:42:41.282284Z",
     "start_time": "2020-08-18T06:42:38.578055Z"
    },
    "code_folding": []
   },
   "outputs": [],
   "source": [
    "# Basic Libaries\n",
    "import numpy as np\n",
    "import pandas as pd\n",
    "from datetime import datetime, timedelta\n",
    "import matplotlib.pyplot as plt\n",
    "import seaborn as sns\n",
    "%matplotlib inline\n",
    "import warnings\n",
    "warnings.filterwarnings('ignore')\n",
    "import pickle\n",
    "from tqdm import tqdm_notebook as tqdm\n",
    "import scipy.stats as stats\n",
    "from scipy.stats import norm\n",
    "import plotly.graph_objs as go\n",
    "import plotly.offline as pyoff\n",
    "from jupyterthemes import jtplot\n",
    "jtplot.style(theme='onedork')\n",
    "from pathlib import Path\n",
    "import os"
   ]
  },
  {
   "cell_type": "code",
   "execution_count": 2,
   "metadata": {
    "ExecuteTime": {
     "end_time": "2020-08-18T06:42:45.917833Z",
     "start_time": "2020-08-18T06:42:41.287265Z"
    }
   },
   "outputs": [
    {
     "name": "stderr",
     "output_type": "stream",
     "text": [
      "Using TensorFlow backend.\n"
     ]
    }
   ],
   "source": [
    "# LSTM Packages\n",
    "from sklearn import preprocessing, metrics\n",
    "from keras.models import Sequential\n",
    "from keras.layers import Dense\n",
    "from keras.layers import LSTM, Dropout\n",
    "from keras.layers import RepeatVector, TimeDistributed\n",
    "from numpy import array\n",
    "from keras.models import Sequential, load_model\n",
    "from keras.preprocessing.sequence import TimeseriesGenerator\n",
    "from scipy.special import boxcox, inv_boxcox"
   ]
  },
  {
   "cell_type": "code",
   "execution_count": 3,
   "metadata": {
    "ExecuteTime": {
     "end_time": "2020-08-18T06:42:45.930771Z",
     "start_time": "2020-08-18T06:42:45.922777Z"
    }
   },
   "outputs": [],
   "source": [
    "# Metrics\n",
    "from sklearn.metrics import r2_score\n",
    "from sklearn.metrics import mean_squared_error"
   ]
  },
  {
   "cell_type": "code",
   "execution_count": 15,
   "metadata": {
    "ExecuteTime": {
     "end_time": "2020-08-18T07:24:23.546021Z",
     "start_time": "2020-08-18T07:24:23.539025Z"
    }
   },
   "outputs": [],
   "source": [
    "# K means\n",
    "from sklearn.cluster import KMeans\n",
    "from sklearn.metrics import silhouette_score"
   ]
  },
  {
   "cell_type": "code",
   "execution_count": 14,
   "metadata": {
    "ExecuteTime": {
     "end_time": "2020-08-18T07:18:12.618682Z",
     "start_time": "2020-08-18T07:18:12.613685Z"
    }
   },
   "outputs": [],
   "source": [
    "from sklearn import preprocessing"
   ]
  },
  {
   "cell_type": "markdown",
   "metadata": {},
   "source": [
    "# Upload Data"
   ]
  },
  {
   "cell_type": "code",
   "execution_count": 259,
   "metadata": {
    "ExecuteTime": {
     "end_time": "2020-08-18T09:17:51.137795Z",
     "start_time": "2020-08-18T09:17:49.599804Z"
    }
   },
   "outputs": [
    {
     "name": "stdout",
     "output_type": "stream",
     "text": [
      "['AAPL-15min.csv', 'AAPL-1d.csv', 'AAPL-1min.csv', 'AAPL-1mo.csv', 'AAPL-1wk.csv', 'AAPL-2min.csv', 'AAPL-30min.csv', 'AAPL-3mo.csv', 'AAPL-5d.csv', 'AAPL-5min.csv', 'AAPL-60min.csv', 'AAPL-90min.csv']\n",
      "            Open  High   Low  Close  Adj Close     Volume  Dividends  \\\n",
      "Date                                                                   \n",
      "1980-12-12  0.51  0.52  0.51   0.51       0.40  117258400        0.0   \n",
      "1980-12-15  0.49  0.49  0.49   0.49       0.38   43971200        0.0   \n",
      "1980-12-16  0.45  0.45  0.45   0.45       0.36   26432000        0.0   \n",
      "1980-12-17  0.46  0.46  0.46   0.46       0.36   21610400        0.0   \n",
      "1980-12-18  0.48  0.48  0.48   0.48       0.38   18362400        0.0   \n",
      "\n",
      "            Stock Splits  \n",
      "Date                      \n",
      "1980-12-12           0.0  \n",
      "1980-12-15           0.0  \n",
      "1980-12-16           0.0  \n",
      "1980-12-17           0.0  \n",
      "1980-12-18           0.0  \n"
     ]
    }
   ],
   "source": [
    "# Datapath AAPL\n",
    "os.chdir('C:\\\\Users\\\\asus\\\\Documents\\\\Python Projects\\\\Trading - Research and Backtest\\\\AAPL')\n",
    "datapath = os.getcwd() + '\\\\Databases\\\\'\n",
    "files = []\n",
    "for (dirpath, dirnames, filenames) in os.walk(datapath):\n",
    "    files.extend(filenames)\n",
    "    break\n",
    "print(files)\n",
    "df_aapl = pd.read_csv(datapath+'AAPL-1d.csv', parse_dates=True, index_col='Date')\n",
    "print(df_aapl.head())"
   ]
  },
  {
   "cell_type": "code",
   "execution_count": 260,
   "metadata": {
    "ExecuteTime": {
     "end_time": "2020-08-18T09:17:52.525606Z",
     "start_time": "2020-08-18T09:17:52.243360Z"
    }
   },
   "outputs": [
    {
     "name": "stdout",
     "output_type": "stream",
     "text": [
      "['SPY-15min.csv', 'SPY-1d.csv', 'SPY-1min.csv', 'SPY-1mo.csv', 'SPY-1wk.csv', 'SPY-2min.csv', 'SPY-30min.csv', 'SPY-3mo.csv', 'SPY-5d.csv', 'SPY-5min.csv', 'SPY-60min.csv', 'SPY-90min.csv']\n",
      "             Open   High    Low  Close  Adj Close   Volume  Dividends  \\\n",
      "Date                                                                    \n",
      "1993-01-29  43.97  43.97  43.75  43.94      26.18  1003200        0.0   \n",
      "1993-02-01  43.97  44.25  43.97  44.25      26.37   480500        0.0   \n",
      "1993-02-02  44.22  44.38  44.12  44.34      26.43   201300        0.0   \n",
      "1993-02-03  44.41  44.84  44.38  44.81      26.71   529400        0.0   \n",
      "1993-02-04  44.97  45.09  44.47  45.00      26.82   531500        0.0   \n",
      "\n",
      "            Stock Splits  \n",
      "Date                      \n",
      "1993-01-29             0  \n",
      "1993-02-01             0  \n",
      "1993-02-02             0  \n",
      "1993-02-03             0  \n",
      "1993-02-04             0  \n"
     ]
    }
   ],
   "source": [
    "# Datapath SPY\n",
    "os.chdir('C:\\\\Users\\\\asus\\\\Documents\\\\Python Projects\\\\Trading - Research and Backtest\\\\SPY')\n",
    "datapath = os.getcwd() + '\\\\Databases\\\\'\n",
    "files = []\n",
    "for (dirpath, dirnames, filenames) in os.walk(datapath):\n",
    "    files.extend(filenames)\n",
    "    break\n",
    "print(files)\n",
    "df_spy = pd.read_csv(datapath+'SPY-1d.csv', parse_dates=True, index_col='Date')\n",
    "print(df_spy.head())"
   ]
  },
  {
   "cell_type": "code",
   "execution_count": 286,
   "metadata": {
    "ExecuteTime": {
     "end_time": "2020-08-18T09:25:03.435889Z",
     "start_time": "2020-08-18T09:25:03.396211Z"
    }
   },
   "outputs": [
    {
     "data": {
      "text/html": [
       "<div>\n",
       "<style scoped>\n",
       "    .dataframe tbody tr th:only-of-type {\n",
       "        vertical-align: middle;\n",
       "    }\n",
       "\n",
       "    .dataframe tbody tr th {\n",
       "        vertical-align: top;\n",
       "    }\n",
       "\n",
       "    .dataframe thead th {\n",
       "        text-align: right;\n",
       "    }\n",
       "</style>\n",
       "<table border=\"1\" class=\"dataframe\">\n",
       "  <thead>\n",
       "    <tr style=\"text-align: right;\">\n",
       "      <th></th>\n",
       "      <th>Open_AAPL</th>\n",
       "      <th>High_AAPL</th>\n",
       "      <th>Low_AAPL</th>\n",
       "      <th>Close_AAPL</th>\n",
       "      <th>Volume_AAPL</th>\n",
       "      <th>Open_SPY</th>\n",
       "      <th>High_SPY</th>\n",
       "      <th>Low_SPY</th>\n",
       "      <th>Close_SPY</th>\n",
       "      <th>Volume_SPY</th>\n",
       "    </tr>\n",
       "    <tr>\n",
       "      <th>Date</th>\n",
       "      <th></th>\n",
       "      <th></th>\n",
       "      <th></th>\n",
       "      <th></th>\n",
       "      <th></th>\n",
       "      <th></th>\n",
       "      <th></th>\n",
       "      <th></th>\n",
       "      <th></th>\n",
       "      <th></th>\n",
       "    </tr>\n",
       "  </thead>\n",
       "  <tbody>\n",
       "    <tr>\n",
       "      <td>2020-05-22</td>\n",
       "      <td>315.77</td>\n",
       "      <td>319.23</td>\n",
       "      <td>315.35</td>\n",
       "      <td>318.32</td>\n",
       "      <td>20450800</td>\n",
       "      <td>294.57</td>\n",
       "      <td>295.63</td>\n",
       "      <td>293.22</td>\n",
       "      <td>294.15</td>\n",
       "      <td>63958200</td>\n",
       "    </tr>\n",
       "    <tr>\n",
       "      <td>2020-05-26</td>\n",
       "      <td>323.50</td>\n",
       "      <td>324.24</td>\n",
       "      <td>316.50</td>\n",
       "      <td>316.16</td>\n",
       "      <td>31380500</td>\n",
       "      <td>301.93</td>\n",
       "      <td>302.19</td>\n",
       "      <td>295.46</td>\n",
       "      <td>297.77</td>\n",
       "      <td>88951400</td>\n",
       "    </tr>\n",
       "    <tr>\n",
       "      <td>2020-05-27</td>\n",
       "      <td>316.14</td>\n",
       "      <td>318.71</td>\n",
       "      <td>313.09</td>\n",
       "      <td>317.54</td>\n",
       "      <td>28236300</td>\n",
       "      <td>302.12</td>\n",
       "      <td>303.57</td>\n",
       "      <td>296.87</td>\n",
       "      <td>302.20</td>\n",
       "      <td>104817400</td>\n",
       "    </tr>\n",
       "    <tr>\n",
       "      <td>2020-05-28</td>\n",
       "      <td>316.77</td>\n",
       "      <td>323.44</td>\n",
       "      <td>315.63</td>\n",
       "      <td>317.68</td>\n",
       "      <td>33390200</td>\n",
       "      <td>304.65</td>\n",
       "      <td>306.84</td>\n",
       "      <td>302.24</td>\n",
       "      <td>301.64</td>\n",
       "      <td>90405200</td>\n",
       "    </tr>\n",
       "    <tr>\n",
       "      <td>2020-05-29</td>\n",
       "      <td>319.25</td>\n",
       "      <td>321.15</td>\n",
       "      <td>316.47</td>\n",
       "      <td>317.37</td>\n",
       "      <td>38399500</td>\n",
       "      <td>302.46</td>\n",
       "      <td>304.96</td>\n",
       "      <td>299.47</td>\n",
       "      <td>302.99</td>\n",
       "      <td>119265700</td>\n",
       "    </tr>\n",
       "  </tbody>\n",
       "</table>\n",
       "</div>"
      ],
      "text/plain": [
       "            Open_AAPL  High_AAPL  Low_AAPL  Close_AAPL  Volume_AAPL  Open_SPY  \\\n",
       "Date                                                                            \n",
       "2020-05-22     315.77     319.23    315.35      318.32     20450800    294.57   \n",
       "2020-05-26     323.50     324.24    316.50      316.16     31380500    301.93   \n",
       "2020-05-27     316.14     318.71    313.09      317.54     28236300    302.12   \n",
       "2020-05-28     316.77     323.44    315.63      317.68     33390200    304.65   \n",
       "2020-05-29     319.25     321.15    316.47      317.37     38399500    302.46   \n",
       "\n",
       "            High_SPY  Low_SPY  Close_SPY  Volume_SPY  \n",
       "Date                                                  \n",
       "2020-05-22    295.63   293.22     294.15    63958200  \n",
       "2020-05-26    302.19   295.46     297.77    88951400  \n",
       "2020-05-27    303.57   296.87     302.20   104817400  \n",
       "2020-05-28    306.84   302.24     301.64    90405200  \n",
       "2020-05-29    304.96   299.47     302.99   119265700  "
      ]
     },
     "execution_count": 286,
     "metadata": {},
     "output_type": "execute_result"
    }
   ],
   "source": [
    "# Merge Data\n",
    "df = pd.merge(df_aapl.loc['2018-01-01':'2020-05-31'].drop(columns=['Close', 'Dividends', 'Stock Splits']),\n",
    "                    df_spy.loc['2018-01-01':'2020-05-31'].drop(columns=['Close', 'Dividends', 'Stock Splits']),\n",
    "                    left_index=True, right_index=True\n",
    "                    )\n",
    "df.rename(columns={'Open_x': 'Open_AAPL', 'High_x': 'High_AAPL', 'Low_x': 'Low_AAPL', 'Adj Close_x': 'Close_AAPL', \n",
    "                         'Volume_x': 'Volume_AAPL', 'Open_y': 'Open_SPY', 'High_y': 'High_SPY', 'Low_y': 'Low_SPY', \n",
    "                         'Adj Close_y': 'Close_SPY', 'Volume_y': 'Volume_SPY'}, inplace=True)\n",
    "df.tail()"
   ]
  },
  {
   "cell_type": "markdown",
   "metadata": {},
   "source": [
    "# Data Manipulation"
   ]
  },
  {
   "cell_type": "code",
   "execution_count": 322,
   "metadata": {
    "ExecuteTime": {
     "end_time": "2020-08-18T09:34:54.445954Z",
     "start_time": "2020-08-18T09:34:54.414977Z"
    },
    "code_folding": []
   },
   "outputs": [
    {
     "name": "stdout",
     "output_type": "stream",
     "text": [
      "            Open_AAPL  High_AAPL  Low_AAPL  Close_AAPL  Volume_AAPL  Open_SPY  \\\n",
      "Date                                                                            \n",
      "2018-01-04     172.54     173.47    172.08      166.80     22434600    271.20   \n",
      "2018-01-05     173.44     175.37    173.05      168.70     23660000    272.51   \n",
      "2018-01-08     174.35     175.61    173.93      168.07     20567800    273.31   \n",
      "2018-01-09     174.55     175.06    173.41      168.05     21584000    274.40   \n",
      "2018-01-10     173.16     174.30    173.00      168.01     23959900    273.68   \n",
      "\n",
      "            High_SPY  Low_SPY  Close_SPY  Volume_SPY  Returns_AAPL  \\\n",
      "Date                                                                 \n",
      "2018-01-04    272.16   270.54     258.92    80636400      0.004627   \n",
      "2018-01-05    273.56   271.95     260.65    83524000      0.011326   \n",
      "2018-01-08    274.10   272.98     261.13    57319200     -0.003741   \n",
      "2018-01-09    275.25   274.08     261.72    57254000     -0.000119   \n",
      "2018-01-10    274.42   272.92     261.32    69574300     -0.000238   \n",
      "\n",
      "            Returns_SPY  \n",
      "Date                     \n",
      "2018-01-04     0.004180  \n",
      "2018-01-05     0.006659  \n",
      "2018-01-08     0.001840  \n",
      "2018-01-09     0.002257  \n",
      "2018-01-10    -0.001530  \n"
     ]
    }
   ],
   "source": [
    "# Include daily returns of stock\n",
    "df['Returns_AAPL'] = np.log(df['Close_AAPL'] / df['Close_AAPL'].shift(1))\n",
    "df['Returns_SPY'] = np.log(df['Close_SPY'] / df['Close_SPY'].shift(1))\n",
    "df.dropna(inplace=True)\n",
    "print(df.head())"
   ]
  },
  {
   "cell_type": "code",
   "execution_count": 323,
   "metadata": {
    "ExecuteTime": {
     "end_time": "2020-08-18T09:34:54.592871Z",
     "start_time": "2020-08-18T09:34:54.450949Z"
    },
    "code_folding": []
   },
   "outputs": [],
   "source": [
    "# Target\n",
    "target_stock = ['AAPL']\n",
    "target_signal = ['Returns_AAPL']"
   ]
  },
  {
   "cell_type": "code",
   "execution_count": null,
   "metadata": {
    "ExecuteTime": {
     "end_time": "2020-08-18T09:34:54.804572Z",
     "start_time": "2020-08-18T09:34:54.596867Z"
    },
    "code_folding": [],
    "deletable": false,
    "editable": false,
    "run_control": {
     "frozen": true
    },
    "scrolled": true
   },
   "outputs": [],
   "source": [
    "# Shift Data\n",
    "df_target = df[target_signal].shift(1).dropna()\n",
    "print('Target Data ',len(df_target), '\\n', df_target.head())\n",
    "_ = df.copy()\n",
    "_.loc[:, df.columns != 'Open_AAPL'] = _.loc[:, df.columns != 'Open_AAPL'].shift(1)\n",
    "df_features = _.drop(columns=target_signal).dropna()\n",
    "print('Features Data ',len(df_features), '\\n', df_features.head())\n",
    "_ = None"
   ]
  },
  {
   "cell_type": "code",
   "execution_count": 360,
   "metadata": {
    "ExecuteTime": {
     "end_time": "2020-08-18T09:50:22.425229Z",
     "start_time": "2020-08-18T09:50:22.387250Z"
    }
   },
   "outputs": [
    {
     "data": {
      "text/html": [
       "<div>\n",
       "<style scoped>\n",
       "    .dataframe tbody tr th:only-of-type {\n",
       "        vertical-align: middle;\n",
       "    }\n",
       "\n",
       "    .dataframe tbody tr th {\n",
       "        vertical-align: top;\n",
       "    }\n",
       "\n",
       "    .dataframe thead th {\n",
       "        text-align: right;\n",
       "    }\n",
       "</style>\n",
       "<table border=\"1\" class=\"dataframe\">\n",
       "  <thead>\n",
       "    <tr style=\"text-align: right;\">\n",
       "      <th></th>\n",
       "      <th>Open_AAPL</th>\n",
       "      <th>High_AAPL</th>\n",
       "      <th>Low_AAPL</th>\n",
       "      <th>Close_AAPL</th>\n",
       "      <th>Volume_AAPL</th>\n",
       "      <th>Open_SPY</th>\n",
       "      <th>High_SPY</th>\n",
       "      <th>Low_SPY</th>\n",
       "      <th>Close_SPY</th>\n",
       "      <th>Volume_SPY</th>\n",
       "      <th>Returns_AAPL</th>\n",
       "      <th>Returns_SPY</th>\n",
       "    </tr>\n",
       "    <tr>\n",
       "      <th>Date</th>\n",
       "      <th></th>\n",
       "      <th></th>\n",
       "      <th></th>\n",
       "      <th></th>\n",
       "      <th></th>\n",
       "      <th></th>\n",
       "      <th></th>\n",
       "      <th></th>\n",
       "      <th></th>\n",
       "      <th></th>\n",
       "      <th></th>\n",
       "      <th></th>\n",
       "    </tr>\n",
       "  </thead>\n",
       "  <tbody>\n",
       "    <tr>\n",
       "      <td>2018-01-04</td>\n",
       "      <td>NaN</td>\n",
       "      <td>NaN</td>\n",
       "      <td>NaN</td>\n",
       "      <td>NaN</td>\n",
       "      <td>NaN</td>\n",
       "      <td>NaN</td>\n",
       "      <td>NaN</td>\n",
       "      <td>NaN</td>\n",
       "      <td>NaN</td>\n",
       "      <td>NaN</td>\n",
       "      <td>NaN</td>\n",
       "      <td>NaN</td>\n",
       "    </tr>\n",
       "    <tr>\n",
       "      <td>2018-01-05</td>\n",
       "      <td>172.54</td>\n",
       "      <td>173.47</td>\n",
       "      <td>172.08</td>\n",
       "      <td>166.80</td>\n",
       "      <td>22434600.0</td>\n",
       "      <td>271.20</td>\n",
       "      <td>272.16</td>\n",
       "      <td>270.54</td>\n",
       "      <td>258.92</td>\n",
       "      <td>80636400.0</td>\n",
       "      <td>0.004627</td>\n",
       "      <td>0.004180</td>\n",
       "    </tr>\n",
       "    <tr>\n",
       "      <td>2018-01-08</td>\n",
       "      <td>173.44</td>\n",
       "      <td>175.37</td>\n",
       "      <td>173.05</td>\n",
       "      <td>168.70</td>\n",
       "      <td>23660000.0</td>\n",
       "      <td>272.51</td>\n",
       "      <td>273.56</td>\n",
       "      <td>271.95</td>\n",
       "      <td>260.65</td>\n",
       "      <td>83524000.0</td>\n",
       "      <td>0.011326</td>\n",
       "      <td>0.006659</td>\n",
       "    </tr>\n",
       "    <tr>\n",
       "      <td>2018-01-09</td>\n",
       "      <td>174.35</td>\n",
       "      <td>175.61</td>\n",
       "      <td>173.93</td>\n",
       "      <td>168.07</td>\n",
       "      <td>20567800.0</td>\n",
       "      <td>273.31</td>\n",
       "      <td>274.10</td>\n",
       "      <td>272.98</td>\n",
       "      <td>261.13</td>\n",
       "      <td>57319200.0</td>\n",
       "      <td>-0.003741</td>\n",
       "      <td>0.001840</td>\n",
       "    </tr>\n",
       "    <tr>\n",
       "      <td>2018-01-10</td>\n",
       "      <td>174.55</td>\n",
       "      <td>175.06</td>\n",
       "      <td>173.41</td>\n",
       "      <td>168.05</td>\n",
       "      <td>21584000.0</td>\n",
       "      <td>274.40</td>\n",
       "      <td>275.25</td>\n",
       "      <td>274.08</td>\n",
       "      <td>261.72</td>\n",
       "      <td>57254000.0</td>\n",
       "      <td>-0.000119</td>\n",
       "      <td>0.002257</td>\n",
       "    </tr>\n",
       "    <tr>\n",
       "      <td>...</td>\n",
       "      <td>...</td>\n",
       "      <td>...</td>\n",
       "      <td>...</td>\n",
       "      <td>...</td>\n",
       "      <td>...</td>\n",
       "      <td>...</td>\n",
       "      <td>...</td>\n",
       "      <td>...</td>\n",
       "      <td>...</td>\n",
       "      <td>...</td>\n",
       "      <td>...</td>\n",
       "      <td>...</td>\n",
       "    </tr>\n",
       "    <tr>\n",
       "      <td>2020-05-22</td>\n",
       "      <td>318.66</td>\n",
       "      <td>320.89</td>\n",
       "      <td>315.87</td>\n",
       "      <td>316.28</td>\n",
       "      <td>25672200.0</td>\n",
       "      <td>296.79</td>\n",
       "      <td>297.67</td>\n",
       "      <td>293.69</td>\n",
       "      <td>293.59</td>\n",
       "      <td>78293900.0</td>\n",
       "      <td>-0.007497</td>\n",
       "      <td>-0.006924</td>\n",
       "    </tr>\n",
       "    <tr>\n",
       "      <td>2020-05-26</td>\n",
       "      <td>315.77</td>\n",
       "      <td>319.23</td>\n",
       "      <td>315.35</td>\n",
       "      <td>318.32</td>\n",
       "      <td>20450800.0</td>\n",
       "      <td>294.57</td>\n",
       "      <td>295.63</td>\n",
       "      <td>293.22</td>\n",
       "      <td>294.15</td>\n",
       "      <td>63958200.0</td>\n",
       "      <td>0.006429</td>\n",
       "      <td>0.001906</td>\n",
       "    </tr>\n",
       "    <tr>\n",
       "      <td>2020-05-27</td>\n",
       "      <td>323.50</td>\n",
       "      <td>324.24</td>\n",
       "      <td>316.50</td>\n",
       "      <td>316.16</td>\n",
       "      <td>31380500.0</td>\n",
       "      <td>301.93</td>\n",
       "      <td>302.19</td>\n",
       "      <td>295.46</td>\n",
       "      <td>297.77</td>\n",
       "      <td>88951400.0</td>\n",
       "      <td>-0.006809</td>\n",
       "      <td>0.012232</td>\n",
       "    </tr>\n",
       "    <tr>\n",
       "      <td>2020-05-28</td>\n",
       "      <td>316.14</td>\n",
       "      <td>318.71</td>\n",
       "      <td>313.09</td>\n",
       "      <td>317.54</td>\n",
       "      <td>28236300.0</td>\n",
       "      <td>302.12</td>\n",
       "      <td>303.57</td>\n",
       "      <td>296.87</td>\n",
       "      <td>302.20</td>\n",
       "      <td>104817400.0</td>\n",
       "      <td>0.004355</td>\n",
       "      <td>0.014768</td>\n",
       "    </tr>\n",
       "    <tr>\n",
       "      <td>2020-05-29</td>\n",
       "      <td>316.77</td>\n",
       "      <td>323.44</td>\n",
       "      <td>315.63</td>\n",
       "      <td>317.68</td>\n",
       "      <td>33390200.0</td>\n",
       "      <td>304.65</td>\n",
       "      <td>306.84</td>\n",
       "      <td>302.24</td>\n",
       "      <td>301.64</td>\n",
       "      <td>90405200.0</td>\n",
       "      <td>0.000441</td>\n",
       "      <td>-0.001855</td>\n",
       "    </tr>\n",
       "  </tbody>\n",
       "</table>\n",
       "<p>604 rows × 12 columns</p>\n",
       "</div>"
      ],
      "text/plain": [
       "            Open_AAPL  High_AAPL  Low_AAPL  Close_AAPL  Volume_AAPL  Open_SPY  \\\n",
       "Date                                                                            \n",
       "2018-01-04        NaN        NaN       NaN         NaN          NaN       NaN   \n",
       "2018-01-05     172.54     173.47    172.08      166.80   22434600.0    271.20   \n",
       "2018-01-08     173.44     175.37    173.05      168.70   23660000.0    272.51   \n",
       "2018-01-09     174.35     175.61    173.93      168.07   20567800.0    273.31   \n",
       "2018-01-10     174.55     175.06    173.41      168.05   21584000.0    274.40   \n",
       "...               ...        ...       ...         ...          ...       ...   \n",
       "2020-05-22     318.66     320.89    315.87      316.28   25672200.0    296.79   \n",
       "2020-05-26     315.77     319.23    315.35      318.32   20450800.0    294.57   \n",
       "2020-05-27     323.50     324.24    316.50      316.16   31380500.0    301.93   \n",
       "2020-05-28     316.14     318.71    313.09      317.54   28236300.0    302.12   \n",
       "2020-05-29     316.77     323.44    315.63      317.68   33390200.0    304.65   \n",
       "\n",
       "            High_SPY  Low_SPY  Close_SPY   Volume_SPY  Returns_AAPL  \\\n",
       "Date                                                                  \n",
       "2018-01-04       NaN      NaN        NaN          NaN           NaN   \n",
       "2018-01-05    272.16   270.54     258.92   80636400.0      0.004627   \n",
       "2018-01-08    273.56   271.95     260.65   83524000.0      0.011326   \n",
       "2018-01-09    274.10   272.98     261.13   57319200.0     -0.003741   \n",
       "2018-01-10    275.25   274.08     261.72   57254000.0     -0.000119   \n",
       "...              ...      ...        ...          ...           ...   \n",
       "2020-05-22    297.67   293.69     293.59   78293900.0     -0.007497   \n",
       "2020-05-26    295.63   293.22     294.15   63958200.0      0.006429   \n",
       "2020-05-27    302.19   295.46     297.77   88951400.0     -0.006809   \n",
       "2020-05-28    303.57   296.87     302.20  104817400.0      0.004355   \n",
       "2020-05-29    306.84   302.24     301.64   90405200.0      0.000441   \n",
       "\n",
       "            Returns_SPY  \n",
       "Date                     \n",
       "2018-01-04          NaN  \n",
       "2018-01-05     0.004180  \n",
       "2018-01-08     0.006659  \n",
       "2018-01-09     0.001840  \n",
       "2018-01-10     0.002257  \n",
       "...                 ...  \n",
       "2020-05-22    -0.006924  \n",
       "2020-05-26     0.001906  \n",
       "2020-05-27     0.012232  \n",
       "2020-05-28     0.014768  \n",
       "2020-05-29    -0.001855  \n",
       "\n",
       "[604 rows x 12 columns]"
      ]
     },
     "execution_count": 360,
     "metadata": {},
     "output_type": "execute_result"
    }
   ],
   "source": [
    "df.shift(1)"
   ]
  },
  {
   "cell_type": "markdown",
   "metadata": {},
   "source": [
    "K means optimization for target signal"
   ]
  },
  {
   "cell_type": "code",
   "execution_count": 241,
   "metadata": {
    "ExecuteTime": {
     "end_time": "2020-08-18T08:25:20.491151Z",
     "start_time": "2020-08-18T08:25:20.466173Z"
    },
    "deletable": false,
    "editable": false,
    "run_control": {
     "frozen": true
    }
   },
   "outputs": [
    {
     "name": "stdout",
     "output_type": "stream",
     "text": [
      "Features Data to array  <class 'numpy.ndarray'> (604, 11)\n",
      "Target Data to array  <class 'numpy.ndarray'> (604, 1)\n"
     ]
    }
   ],
   "source": [
    "# Convert to Numpy Arrays\n",
    "#-----Features-----\n",
    "x_data = df_features.values\n",
    "print('Features Data to array ', type(x_data), x_data.shape)\n",
    "#-----Target-----\n",
    "y_data = df_target[['Returns_AAPL_Kmeans']].values\n",
    "print('Target Data to array ', type(y_data), y_data.shape)"
   ]
  },
  {
   "cell_type": "code",
   "execution_count": 325,
   "metadata": {
    "ExecuteTime": {
     "end_time": "2020-08-18T09:34:54.869054Z",
     "start_time": "2020-08-18T09:34:54.809569Z"
    }
   },
   "outputs": [
    {
     "name": "stdout",
     "output_type": "stream",
     "text": [
      "Number of observation in the dataset:  604 data-points\n"
     ]
    }
   ],
   "source": [
    "# Number of observations in the dataset\n",
    "num_data = len(df)\n",
    "print('Number of observation in the dataset: ', num_data, 'data-points')"
   ]
  },
  {
   "cell_type": "code",
   "execution_count": 326,
   "metadata": {
    "ExecuteTime": {
     "end_time": "2020-08-18T09:34:55.046616Z",
     "start_time": "2020-08-18T09:34:54.874050Z"
    },
    "code_folding": []
   },
   "outputs": [
    {
     "name": "stdout",
     "output_type": "stream",
     "text": [
      "Number of observations in the training set:  483 data-points\n",
      "Number of observations in the testing set:  121 data-points\n",
      "Total Features:  11 features\n",
      "Features Data Split Done\n",
      "Total Target:  1 target\n",
      "Target Data Split Done\n"
     ]
    }
   ],
   "source": [
    "# Train-test split\n",
    "train_split = 0.8\n",
    "num_train = int(train_split*num_data)\n",
    "print('Number of observations in the training set: ', num_train, 'data-points')\n",
    "num_test = num_data-num_train\n",
    "print('Number of observations in the testing set: ', num_test, 'data-points')\n",
    "#-----Split data-----\n",
    "#-------Features Data-------\n",
    "num_x_signals = x_data.shape[1]\n",
    "print('Total Features: ', num_x_signals, 'features')\n",
    "x_train = x_data[:num_train]\n",
    "x_test = x_data[num_train:]\n",
    "if len(x_train)+len(x_test)==num_data: \n",
    "    print('Features Data Split Done')\n",
    "    pass\n",
    "#-------Target Data-------\n",
    "num_y_signals = y_data.shape[1]\n",
    "print('Total Target: ', num_y_signals, 'target')\n",
    "y_train = y_data[:num_train]\n",
    "y_test = y_data[num_train:]\n",
    "if len(y_train)+len(y_test)==num_data:\n",
    "    print('Target Data Split Done')\n",
    "    pass"
   ]
  },
  {
   "cell_type": "code",
   "execution_count": null,
   "metadata": {},
   "outputs": [],
   "source": [
    "df"
   ]
  },
  {
   "cell_type": "code",
   "execution_count": 359,
   "metadata": {
    "ExecuteTime": {
     "end_time": "2020-08-18T09:49:41.593823Z",
     "start_time": "2020-08-18T09:49:41.568842Z"
    }
   },
   "outputs": [
    {
     "name": "stdout",
     "output_type": "stream",
     "text": [
      "Number of observations in the training set:  483 data-points\n",
      "Number of observations in the testing set:  121 data-points\n"
     ]
    }
   ],
   "source": [
    "# Train-test split\n",
    "train_split = 0.8\n",
    "num_train = int(train_split*num_data)\n",
    "print('Number of observations in the training set: ', num_train, 'data-points')\n",
    "num_test = num_data-num_train\n",
    "print('Number of observations in the testing set: ', num_test, 'data-points')\n",
    "train = df[:num_train]\n",
    "test = df[num_train:]"
   ]
  },
  {
   "cell_type": "code",
   "execution_count": 328,
   "metadata": {
    "ExecuteTime": {
     "end_time": "2020-08-18T09:34:56.395565Z",
     "start_time": "2020-08-18T09:34:55.176541Z"
    },
    "code_folding": []
   },
   "outputs": [
    {
     "name": "stdout",
     "output_type": "stream",
     "text": [
      "Suggested K:  2\n"
     ]
    }
   ],
   "source": [
    "# 'K' Optimiztion\n",
    "sil = []\n",
    "kmax = 10\n",
    "kmin = 2\n",
    "for k in range(kmin, kmax+1):\n",
    "    kmean = KMeans(n_clusters = k).fit(train)\n",
    "    labels = kmean.labels_\n",
    "    sil.append(silhouette_score(train, labels, metric = 'euclidean'))\n",
    "_ = pd.Series(sil[kmin:], index = range(kmin, kmax-(kmin-1)))\n",
    "optimized_k = _[_ == _.max()].index[0]\n",
    "print('Suggested K: ', optimized_k)"
   ]
  },
  {
   "cell_type": "code",
   "execution_count": null,
   "metadata": {
    "code_folding": [
     0
    ],
    "deletable": false,
    "editable": false,
    "run_control": {
     "frozen": true
    }
   },
   "outputs": [],
   "source": [
    "# K means cluster creation\n",
    "_popularity = [] # To store\n",
    "n_clusters = optimized_k # n_clusters\n",
    "# popularity_clusters = ['Average', 'Popular', 'Extremely Popular']\n",
    "for city in list_city:\n",
    "    kmean = KMeans(n_clusters=n_clusters)\n",
    "    kmean.fit(popularity[popularity['City'] == city].drop('City', axis = 1))\n",
    "    _ = pd.Series(kmean.labels_, index = city_popularity[city]['Normalized Reviews'].index)\n",
    "    _0 = pd.Series(list(kmean.cluster_centers_[:, 1])).sort_values().index\n",
    "    for x in range(len(_0)):\n",
    "        _.replace(_0[x], popularity_clusters[x], inplace = True)\n",
    "    _popularity.append(_)\n",
    "    city_popularity[city].update({'Popularity': _, 'kmean': kmean})\n",
    "popularity['Popularity'] = pd.concat(_popularity)\n",
    "coffee_shops['Popularity'] = popularity['Popularity']"
   ]
  },
  {
   "cell_type": "code",
   "execution_count": 329,
   "metadata": {
    "ExecuteTime": {
     "end_time": "2020-08-18T09:34:56.481515Z",
     "start_time": "2020-08-18T09:34:56.402559Z"
    }
   },
   "outputs": [],
   "source": [
    "# Kmeans cluster creation\n",
    "kmean = KMeans(n_clusters=2)\n",
    "kmean.fit(train)\n",
    "_ = pd.Series(kmean.labels_, index = train.index)\n",
    "_0 = pd.Series(list(kmean.cluster_centers_[:, 1])).sort_values().index"
   ]
  },
  {
   "cell_type": "code",
   "execution_count": 330,
   "metadata": {
    "ExecuteTime": {
     "end_time": "2020-08-18T09:34:56.605445Z",
     "start_time": "2020-08-18T09:34:56.489509Z"
    },
    "scrolled": true
   },
   "outputs": [
    {
     "data": {
      "text/html": [
       "<div>\n",
       "<style scoped>\n",
       "    .dataframe tbody tr th:only-of-type {\n",
       "        vertical-align: middle;\n",
       "    }\n",
       "\n",
       "    .dataframe tbody tr th {\n",
       "        vertical-align: top;\n",
       "    }\n",
       "\n",
       "    .dataframe thead th {\n",
       "        text-align: right;\n",
       "    }\n",
       "</style>\n",
       "<table border=\"1\" class=\"dataframe\">\n",
       "  <thead>\n",
       "    <tr style=\"text-align: right;\">\n",
       "      <th></th>\n",
       "      <th>Open_AAPL</th>\n",
       "      <th>High_AAPL</th>\n",
       "      <th>Low_AAPL</th>\n",
       "      <th>Close_AAPL</th>\n",
       "      <th>Volume_AAPL</th>\n",
       "      <th>Open_SPY</th>\n",
       "      <th>High_SPY</th>\n",
       "      <th>Low_SPY</th>\n",
       "      <th>Close_SPY</th>\n",
       "      <th>Volume_SPY</th>\n",
       "      <th>Returns_AAPL</th>\n",
       "      <th>Returns_SPY</th>\n",
       "      <th>Returns_AAPL_Kmeans</th>\n",
       "    </tr>\n",
       "    <tr>\n",
       "      <th>Date</th>\n",
       "      <th></th>\n",
       "      <th></th>\n",
       "      <th></th>\n",
       "      <th></th>\n",
       "      <th></th>\n",
       "      <th></th>\n",
       "      <th></th>\n",
       "      <th></th>\n",
       "      <th></th>\n",
       "      <th></th>\n",
       "      <th></th>\n",
       "      <th></th>\n",
       "      <th></th>\n",
       "    </tr>\n",
       "  </thead>\n",
       "  <tbody>\n",
       "    <tr>\n",
       "      <td>2018-01-04</td>\n",
       "      <td>172.54</td>\n",
       "      <td>173.47</td>\n",
       "      <td>172.08</td>\n",
       "      <td>166.80</td>\n",
       "      <td>22434600</td>\n",
       "      <td>271.20</td>\n",
       "      <td>272.16</td>\n",
       "      <td>270.54</td>\n",
       "      <td>258.92</td>\n",
       "      <td>80636400</td>\n",
       "      <td>0.004627</td>\n",
       "      <td>0.004180</td>\n",
       "      <td>0</td>\n",
       "    </tr>\n",
       "    <tr>\n",
       "      <td>2018-01-05</td>\n",
       "      <td>173.44</td>\n",
       "      <td>175.37</td>\n",
       "      <td>173.05</td>\n",
       "      <td>168.70</td>\n",
       "      <td>23660000</td>\n",
       "      <td>272.51</td>\n",
       "      <td>273.56</td>\n",
       "      <td>271.95</td>\n",
       "      <td>260.65</td>\n",
       "      <td>83524000</td>\n",
       "      <td>0.011326</td>\n",
       "      <td>0.006659</td>\n",
       "      <td>0</td>\n",
       "    </tr>\n",
       "    <tr>\n",
       "      <td>2018-01-08</td>\n",
       "      <td>174.35</td>\n",
       "      <td>175.61</td>\n",
       "      <td>173.93</td>\n",
       "      <td>168.07</td>\n",
       "      <td>20567800</td>\n",
       "      <td>273.31</td>\n",
       "      <td>274.10</td>\n",
       "      <td>272.98</td>\n",
       "      <td>261.13</td>\n",
       "      <td>57319200</td>\n",
       "      <td>-0.003741</td>\n",
       "      <td>0.001840</td>\n",
       "      <td>0</td>\n",
       "    </tr>\n",
       "    <tr>\n",
       "      <td>2018-01-09</td>\n",
       "      <td>174.55</td>\n",
       "      <td>175.06</td>\n",
       "      <td>173.41</td>\n",
       "      <td>168.05</td>\n",
       "      <td>21584000</td>\n",
       "      <td>274.40</td>\n",
       "      <td>275.25</td>\n",
       "      <td>274.08</td>\n",
       "      <td>261.72</td>\n",
       "      <td>57254000</td>\n",
       "      <td>-0.000119</td>\n",
       "      <td>0.002257</td>\n",
       "      <td>0</td>\n",
       "    </tr>\n",
       "    <tr>\n",
       "      <td>2018-01-10</td>\n",
       "      <td>173.16</td>\n",
       "      <td>174.30</td>\n",
       "      <td>173.00</td>\n",
       "      <td>168.01</td>\n",
       "      <td>23959900</td>\n",
       "      <td>273.68</td>\n",
       "      <td>274.42</td>\n",
       "      <td>272.92</td>\n",
       "      <td>261.32</td>\n",
       "      <td>69574300</td>\n",
       "      <td>-0.000238</td>\n",
       "      <td>-0.001530</td>\n",
       "      <td>0</td>\n",
       "    </tr>\n",
       "    <tr>\n",
       "      <td>...</td>\n",
       "      <td>...</td>\n",
       "      <td>...</td>\n",
       "      <td>...</td>\n",
       "      <td>...</td>\n",
       "      <td>...</td>\n",
       "      <td>...</td>\n",
       "      <td>...</td>\n",
       "      <td>...</td>\n",
       "      <td>...</td>\n",
       "      <td>...</td>\n",
       "      <td>...</td>\n",
       "      <td>...</td>\n",
       "      <td>...</td>\n",
       "    </tr>\n",
       "    <tr>\n",
       "      <td>2019-11-27</td>\n",
       "      <td>265.58</td>\n",
       "      <td>267.98</td>\n",
       "      <td>265.31</td>\n",
       "      <td>266.00</td>\n",
       "      <td>16308900</td>\n",
       "      <td>314.61</td>\n",
       "      <td>315.48</td>\n",
       "      <td>314.37</td>\n",
       "      <td>310.73</td>\n",
       "      <td>44444600</td>\n",
       "      <td>0.013321</td>\n",
       "      <td>0.004451</td>\n",
       "      <td>0</td>\n",
       "    </tr>\n",
       "    <tr>\n",
       "      <td>2019-11-29</td>\n",
       "      <td>266.60</td>\n",
       "      <td>268.00</td>\n",
       "      <td>265.90</td>\n",
       "      <td>265.42</td>\n",
       "      <td>11654400</td>\n",
       "      <td>314.86</td>\n",
       "      <td>315.13</td>\n",
       "      <td>314.06</td>\n",
       "      <td>309.58</td>\n",
       "      <td>36592700</td>\n",
       "      <td>-0.002183</td>\n",
       "      <td>-0.003708</td>\n",
       "      <td>0</td>\n",
       "    </tr>\n",
       "    <tr>\n",
       "      <td>2019-12-02</td>\n",
       "      <td>267.27</td>\n",
       "      <td>268.25</td>\n",
       "      <td>263.45</td>\n",
       "      <td>262.35</td>\n",
       "      <td>23621800</td>\n",
       "      <td>314.59</td>\n",
       "      <td>314.66</td>\n",
       "      <td>311.17</td>\n",
       "      <td>306.95</td>\n",
       "      <td>75767800</td>\n",
       "      <td>-0.011634</td>\n",
       "      <td>-0.008532</td>\n",
       "      <td>0</td>\n",
       "    </tr>\n",
       "    <tr>\n",
       "      <td>2019-12-03</td>\n",
       "      <td>258.31</td>\n",
       "      <td>259.53</td>\n",
       "      <td>256.29</td>\n",
       "      <td>257.67</td>\n",
       "      <td>28607600</td>\n",
       "      <td>308.65</td>\n",
       "      <td>309.64</td>\n",
       "      <td>307.13</td>\n",
       "      <td>304.89</td>\n",
       "      <td>73941700</td>\n",
       "      <td>-0.018000</td>\n",
       "      <td>-0.006734</td>\n",
       "      <td>0</td>\n",
       "    </tr>\n",
       "    <tr>\n",
       "      <td>2019-12-04</td>\n",
       "      <td>261.07</td>\n",
       "      <td>263.31</td>\n",
       "      <td>260.68</td>\n",
       "      <td>259.95</td>\n",
       "      <td>16795400</td>\n",
       "      <td>310.70</td>\n",
       "      <td>312.12</td>\n",
       "      <td>310.32</td>\n",
       "      <td>306.77</td>\n",
       "      <td>49080000</td>\n",
       "      <td>0.008810</td>\n",
       "      <td>0.006147</td>\n",
       "      <td>0</td>\n",
       "    </tr>\n",
       "  </tbody>\n",
       "</table>\n",
       "<p>483 rows × 13 columns</p>\n",
       "</div>"
      ],
      "text/plain": [
       "            Open_AAPL  High_AAPL  Low_AAPL  Close_AAPL  Volume_AAPL  Open_SPY  \\\n",
       "Date                                                                            \n",
       "2018-01-04     172.54     173.47    172.08      166.80     22434600    271.20   \n",
       "2018-01-05     173.44     175.37    173.05      168.70     23660000    272.51   \n",
       "2018-01-08     174.35     175.61    173.93      168.07     20567800    273.31   \n",
       "2018-01-09     174.55     175.06    173.41      168.05     21584000    274.40   \n",
       "2018-01-10     173.16     174.30    173.00      168.01     23959900    273.68   \n",
       "...               ...        ...       ...         ...          ...       ...   \n",
       "2019-11-27     265.58     267.98    265.31      266.00     16308900    314.61   \n",
       "2019-11-29     266.60     268.00    265.90      265.42     11654400    314.86   \n",
       "2019-12-02     267.27     268.25    263.45      262.35     23621800    314.59   \n",
       "2019-12-03     258.31     259.53    256.29      257.67     28607600    308.65   \n",
       "2019-12-04     261.07     263.31    260.68      259.95     16795400    310.70   \n",
       "\n",
       "            High_SPY  Low_SPY  Close_SPY  Volume_SPY  Returns_AAPL  \\\n",
       "Date                                                                 \n",
       "2018-01-04    272.16   270.54     258.92    80636400      0.004627   \n",
       "2018-01-05    273.56   271.95     260.65    83524000      0.011326   \n",
       "2018-01-08    274.10   272.98     261.13    57319200     -0.003741   \n",
       "2018-01-09    275.25   274.08     261.72    57254000     -0.000119   \n",
       "2018-01-10    274.42   272.92     261.32    69574300     -0.000238   \n",
       "...              ...      ...        ...         ...           ...   \n",
       "2019-11-27    315.48   314.37     310.73    44444600      0.013321   \n",
       "2019-11-29    315.13   314.06     309.58    36592700     -0.002183   \n",
       "2019-12-02    314.66   311.17     306.95    75767800     -0.011634   \n",
       "2019-12-03    309.64   307.13     304.89    73941700     -0.018000   \n",
       "2019-12-04    312.12   310.32     306.77    49080000      0.008810   \n",
       "\n",
       "            Returns_SPY  Returns_AAPL_Kmeans  \n",
       "Date                                          \n",
       "2018-01-04     0.004180                    0  \n",
       "2018-01-05     0.006659                    0  \n",
       "2018-01-08     0.001840                    0  \n",
       "2018-01-09     0.002257                    0  \n",
       "2018-01-10    -0.001530                    0  \n",
       "...                 ...                  ...  \n",
       "2019-11-27     0.004451                    0  \n",
       "2019-11-29    -0.003708                    0  \n",
       "2019-12-02    -0.008532                    0  \n",
       "2019-12-03    -0.006734                    0  \n",
       "2019-12-04     0.006147                    0  \n",
       "\n",
       "[483 rows x 13 columns]"
      ]
     },
     "execution_count": 330,
     "metadata": {},
     "output_type": "execute_result"
    }
   ],
   "source": [
    "_z = _.copy()\n",
    "for x in _0:\n",
    "    _z.replace(_0[x], pd.Series(list(kmean.cluster_centers_[:, 1])).sort_values()[x], inplace = True)\n",
    "train['Returns_AAPL_Kmeans'] = _\n",
    "train"
   ]
  },
  {
   "cell_type": "code",
   "execution_count": 331,
   "metadata": {
    "ExecuteTime": {
     "end_time": "2020-08-18T09:35:09.474563Z",
     "start_time": "2020-08-18T09:35:09.033429Z"
    }
   },
   "outputs": [
    {
     "data": {
      "text/plain": [
       "<matplotlib.collections.PathCollection at 0x2395126d388>"
      ]
     },
     "execution_count": 331,
     "metadata": {},
     "output_type": "execute_result"
    },
    {
     "data": {
      "image/png": "[encoded data removed]",
      "text/plain": [
       "<Figure size 432x288 with 1 Axes>"
      ]
     },
     "metadata": {
      "needs_background": "dark"
     },
     "output_type": "display_data"
    }
   ],
   "source": [
    "plt.scatter(train['Returns_AAPL'], train['Returns_SPY'], c=train['Returns_AAPL_Kmeans'], cmap='gist_heat_r')"
   ]
  },
  {
   "cell_type": "code",
   "execution_count": 332,
   "metadata": {
    "ExecuteTime": {
     "end_time": "2020-08-18T09:35:11.003911Z",
     "start_time": "2020-08-18T09:35:10.994912Z"
    }
   },
   "outputs": [],
   "source": [
    "_ = pd.Series(kmean.predict(test), index = test.index)\n",
    "_0 = pd.Series(list(kmean.cluster_centers_[:, 1])).sort_values().index"
   ]
  },
  {
   "cell_type": "code",
   "execution_count": 333,
   "metadata": {
    "ExecuteTime": {
     "end_time": "2020-08-18T09:35:12.511594Z",
     "start_time": "2020-08-18T09:35:12.460622Z"
    }
   },
   "outputs": [
    {
     "data": {
      "text/html": [
       "<div>\n",
       "<style scoped>\n",
       "    .dataframe tbody tr th:only-of-type {\n",
       "        vertical-align: middle;\n",
       "    }\n",
       "\n",
       "    .dataframe tbody tr th {\n",
       "        vertical-align: top;\n",
       "    }\n",
       "\n",
       "    .dataframe thead th {\n",
       "        text-align: right;\n",
       "    }\n",
       "</style>\n",
       "<table border=\"1\" class=\"dataframe\">\n",
       "  <thead>\n",
       "    <tr style=\"text-align: right;\">\n",
       "      <th></th>\n",
       "      <th>Open_AAPL</th>\n",
       "      <th>High_AAPL</th>\n",
       "      <th>Low_AAPL</th>\n",
       "      <th>Close_AAPL</th>\n",
       "      <th>Volume_AAPL</th>\n",
       "      <th>Open_SPY</th>\n",
       "      <th>High_SPY</th>\n",
       "      <th>Low_SPY</th>\n",
       "      <th>Close_SPY</th>\n",
       "      <th>Volume_SPY</th>\n",
       "      <th>Returns_AAPL</th>\n",
       "      <th>Returns_SPY</th>\n",
       "      <th>Returns_AAPL_Kmeans</th>\n",
       "    </tr>\n",
       "    <tr>\n",
       "      <th>Date</th>\n",
       "      <th></th>\n",
       "      <th></th>\n",
       "      <th></th>\n",
       "      <th></th>\n",
       "      <th></th>\n",
       "      <th></th>\n",
       "      <th></th>\n",
       "      <th></th>\n",
       "      <th></th>\n",
       "      <th></th>\n",
       "      <th></th>\n",
       "      <th></th>\n",
       "      <th></th>\n",
       "    </tr>\n",
       "  </thead>\n",
       "  <tbody>\n",
       "    <tr>\n",
       "      <td>2019-12-05</td>\n",
       "      <td>263.79</td>\n",
       "      <td>265.89</td>\n",
       "      <td>262.73</td>\n",
       "      <td>263.76</td>\n",
       "      <td>18606100</td>\n",
       "      <td>312.23</td>\n",
       "      <td>312.25</td>\n",
       "      <td>310.58</td>\n",
       "      <td>307.33</td>\n",
       "      <td>40709000</td>\n",
       "      <td>0.014550</td>\n",
       "      <td>0.001824</td>\n",
       "      <td>0</td>\n",
       "    </tr>\n",
       "    <tr>\n",
       "      <td>2019-12-06</td>\n",
       "      <td>267.48</td>\n",
       "      <td>271.00</td>\n",
       "      <td>267.30</td>\n",
       "      <td>268.86</td>\n",
       "      <td>26518900</td>\n",
       "      <td>314.12</td>\n",
       "      <td>315.31</td>\n",
       "      <td>314.11</td>\n",
       "      <td>310.13</td>\n",
       "      <td>48927000</td>\n",
       "      <td>0.019151</td>\n",
       "      <td>0.009069</td>\n",
       "      <td>0</td>\n",
       "    </tr>\n",
       "    <tr>\n",
       "      <td>2019-12-09</td>\n",
       "      <td>270.00</td>\n",
       "      <td>270.80</td>\n",
       "      <td>264.91</td>\n",
       "      <td>265.09</td>\n",
       "      <td>32010600</td>\n",
       "      <td>314.44</td>\n",
       "      <td>315.18</td>\n",
       "      <td>313.80</td>\n",
       "      <td>309.16</td>\n",
       "      <td>34838500</td>\n",
       "      <td>-0.014121</td>\n",
       "      <td>-0.003133</td>\n",
       "      <td>0</td>\n",
       "    </tr>\n",
       "    <tr>\n",
       "      <td>2019-12-10</td>\n",
       "      <td>268.60</td>\n",
       "      <td>270.07</td>\n",
       "      <td>265.86</td>\n",
       "      <td>266.64</td>\n",
       "      <td>22605100</td>\n",
       "      <td>313.82</td>\n",
       "      <td>314.55</td>\n",
       "      <td>312.81</td>\n",
       "      <td>308.81</td>\n",
       "      <td>52649800</td>\n",
       "      <td>0.005830</td>\n",
       "      <td>-0.001133</td>\n",
       "      <td>0</td>\n",
       "    </tr>\n",
       "    <tr>\n",
       "      <td>2019-12-11</td>\n",
       "      <td>268.81</td>\n",
       "      <td>271.10</td>\n",
       "      <td>268.50</td>\n",
       "      <td>268.91</td>\n",
       "      <td>19689200</td>\n",
       "      <td>314.03</td>\n",
       "      <td>314.70</td>\n",
       "      <td>313.44</td>\n",
       "      <td>309.69</td>\n",
       "      <td>53429100</td>\n",
       "      <td>0.008477</td>\n",
       "      <td>0.002846</td>\n",
       "      <td>0</td>\n",
       "    </tr>\n",
       "    <tr>\n",
       "      <td>...</td>\n",
       "      <td>...</td>\n",
       "      <td>...</td>\n",
       "      <td>...</td>\n",
       "      <td>...</td>\n",
       "      <td>...</td>\n",
       "      <td>...</td>\n",
       "      <td>...</td>\n",
       "      <td>...</td>\n",
       "      <td>...</td>\n",
       "      <td>...</td>\n",
       "      <td>...</td>\n",
       "      <td>...</td>\n",
       "      <td>...</td>\n",
       "    </tr>\n",
       "    <tr>\n",
       "      <td>2020-05-22</td>\n",
       "      <td>315.77</td>\n",
       "      <td>319.23</td>\n",
       "      <td>315.35</td>\n",
       "      <td>318.32</td>\n",
       "      <td>20450800</td>\n",
       "      <td>294.57</td>\n",
       "      <td>295.63</td>\n",
       "      <td>293.22</td>\n",
       "      <td>294.15</td>\n",
       "      <td>63958200</td>\n",
       "      <td>0.006429</td>\n",
       "      <td>0.001906</td>\n",
       "      <td>0</td>\n",
       "    </tr>\n",
       "    <tr>\n",
       "      <td>2020-05-26</td>\n",
       "      <td>323.50</td>\n",
       "      <td>324.24</td>\n",
       "      <td>316.50</td>\n",
       "      <td>316.16</td>\n",
       "      <td>31380500</td>\n",
       "      <td>301.93</td>\n",
       "      <td>302.19</td>\n",
       "      <td>295.46</td>\n",
       "      <td>297.77</td>\n",
       "      <td>88951400</td>\n",
       "      <td>-0.006809</td>\n",
       "      <td>0.012232</td>\n",
       "      <td>0</td>\n",
       "    </tr>\n",
       "    <tr>\n",
       "      <td>2020-05-27</td>\n",
       "      <td>316.14</td>\n",
       "      <td>318.71</td>\n",
       "      <td>313.09</td>\n",
       "      <td>317.54</td>\n",
       "      <td>28236300</td>\n",
       "      <td>302.12</td>\n",
       "      <td>303.57</td>\n",
       "      <td>296.87</td>\n",
       "      <td>302.20</td>\n",
       "      <td>104817400</td>\n",
       "      <td>0.004355</td>\n",
       "      <td>0.014768</td>\n",
       "      <td>0</td>\n",
       "    </tr>\n",
       "    <tr>\n",
       "      <td>2020-05-28</td>\n",
       "      <td>316.77</td>\n",
       "      <td>323.44</td>\n",
       "      <td>315.63</td>\n",
       "      <td>317.68</td>\n",
       "      <td>33390200</td>\n",
       "      <td>304.65</td>\n",
       "      <td>306.84</td>\n",
       "      <td>302.24</td>\n",
       "      <td>301.64</td>\n",
       "      <td>90405200</td>\n",
       "      <td>0.000441</td>\n",
       "      <td>-0.001855</td>\n",
       "      <td>0</td>\n",
       "    </tr>\n",
       "    <tr>\n",
       "      <td>2020-05-29</td>\n",
       "      <td>319.25</td>\n",
       "      <td>321.15</td>\n",
       "      <td>316.47</td>\n",
       "      <td>317.37</td>\n",
       "      <td>38399500</td>\n",
       "      <td>302.46</td>\n",
       "      <td>304.96</td>\n",
       "      <td>299.47</td>\n",
       "      <td>302.99</td>\n",
       "      <td>119265700</td>\n",
       "      <td>-0.000976</td>\n",
       "      <td>0.004466</td>\n",
       "      <td>1</td>\n",
       "    </tr>\n",
       "  </tbody>\n",
       "</table>\n",
       "<p>121 rows × 13 columns</p>\n",
       "</div>"
      ],
      "text/plain": [
       "            Open_AAPL  High_AAPL  Low_AAPL  Close_AAPL  Volume_AAPL  Open_SPY  \\\n",
       "Date                                                                            \n",
       "2019-12-05     263.79     265.89    262.73      263.76     18606100    312.23   \n",
       "2019-12-06     267.48     271.00    267.30      268.86     26518900    314.12   \n",
       "2019-12-09     270.00     270.80    264.91      265.09     32010600    314.44   \n",
       "2019-12-10     268.60     270.07    265.86      266.64     22605100    313.82   \n",
       "2019-12-11     268.81     271.10    268.50      268.91     19689200    314.03   \n",
       "...               ...        ...       ...         ...          ...       ...   \n",
       "2020-05-22     315.77     319.23    315.35      318.32     20450800    294.57   \n",
       "2020-05-26     323.50     324.24    316.50      316.16     31380500    301.93   \n",
       "2020-05-27     316.14     318.71    313.09      317.54     28236300    302.12   \n",
       "2020-05-28     316.77     323.44    315.63      317.68     33390200    304.65   \n",
       "2020-05-29     319.25     321.15    316.47      317.37     38399500    302.46   \n",
       "\n",
       "            High_SPY  Low_SPY  Close_SPY  Volume_SPY  Returns_AAPL  \\\n",
       "Date                                                                 \n",
       "2019-12-05    312.25   310.58     307.33    40709000      0.014550   \n",
       "2019-12-06    315.31   314.11     310.13    48927000      0.019151   \n",
       "2019-12-09    315.18   313.80     309.16    34838500     -0.014121   \n",
       "2019-12-10    314.55   312.81     308.81    52649800      0.005830   \n",
       "2019-12-11    314.70   313.44     309.69    53429100      0.008477   \n",
       "...              ...      ...        ...         ...           ...   \n",
       "2020-05-22    295.63   293.22     294.15    63958200      0.006429   \n",
       "2020-05-26    302.19   295.46     297.77    88951400     -0.006809   \n",
       "2020-05-27    303.57   296.87     302.20   104817400      0.004355   \n",
       "2020-05-28    306.84   302.24     301.64    90405200      0.000441   \n",
       "2020-05-29    304.96   299.47     302.99   119265700     -0.000976   \n",
       "\n",
       "            Returns_SPY  Returns_AAPL_Kmeans  \n",
       "Date                                          \n",
       "2019-12-05     0.001824                    0  \n",
       "2019-12-06     0.009069                    0  \n",
       "2019-12-09    -0.003133                    0  \n",
       "2019-12-10    -0.001133                    0  \n",
       "2019-12-11     0.002846                    0  \n",
       "...                 ...                  ...  \n",
       "2020-05-22     0.001906                    0  \n",
       "2020-05-26     0.012232                    0  \n",
       "2020-05-27     0.014768                    0  \n",
       "2020-05-28    -0.001855                    0  \n",
       "2020-05-29     0.004466                    1  \n",
       "\n",
       "[121 rows x 13 columns]"
      ]
     },
     "execution_count": 333,
     "metadata": {},
     "output_type": "execute_result"
    }
   ],
   "source": [
    "_z = _.copy()\n",
    "for x in _0:\n",
    "    _z.replace(_0[x], pd.Series(list(kmean.cluster_centers_[:, 1])).sort_values()[x], inplace = True)\n",
    "test['Returns_AAPL_Kmeans'] = _\n",
    "test"
   ]
  },
  {
   "cell_type": "code",
   "execution_count": 334,
   "metadata": {
    "ExecuteTime": {
     "end_time": "2020-08-18T09:35:14.213698Z",
     "start_time": "2020-08-18T09:35:13.898358Z"
    },
    "scrolled": true
   },
   "outputs": [
    {
     "data": {
      "text/plain": [
       "<matplotlib.collections.PathCollection at 0x2395125d848>"
      ]
     },
     "execution_count": 334,
     "metadata": {},
     "output_type": "execute_result"
    },
    {
     "data": {
      "image/png": "[encoded data removed]",
      "text/plain": [
       "<Figure size 432x288 with 1 Axes>"
      ]
     },
     "metadata": {
      "needs_background": "dark"
     },
     "output_type": "display_data"
    }
   ],
   "source": [
    "plt.scatter(test['Returns_AAPL'], test['Returns_SPY'], c=test['Returns_AAPL_Kmeans'], cmap='gist_heat_r')"
   ]
  },
  {
   "cell_type": "code",
   "execution_count": 335,
   "metadata": {
    "ExecuteTime": {
     "end_time": "2020-08-18T09:35:29.178189Z",
     "start_time": "2020-08-18T09:35:29.163211Z"
    }
   },
   "outputs": [
    {
     "data": {
      "text/plain": [
       "count    483.000000\n",
       "mean       0.000928\n",
       "std        0.017627\n",
       "min       -0.104915\n",
       "25%       -0.007297\n",
       "50%        0.001295\n",
       "75%        0.010205\n",
       "max        0.068004\n",
       "Name: Returns_AAPL, dtype: float64"
      ]
     },
     "execution_count": 335,
     "metadata": {},
     "output_type": "execute_result"
    }
   ],
   "source": [
    "train['Returns_AAPL'].describe()"
   ]
  },
  {
   "cell_type": "code",
   "execution_count": 336,
   "metadata": {
    "ExecuteTime": {
     "end_time": "2020-08-18T09:35:31.002419Z",
     "start_time": "2020-08-18T09:35:30.989426Z"
    }
   },
   "outputs": [
    {
     "data": {
      "text/plain": [
       "count    121.000000\n",
       "mean       0.001649\n",
       "std        0.033137\n",
       "min       -0.137711\n",
       "25%       -0.011483\n",
       "50%        0.001977\n",
       "75%        0.016155\n",
       "max        0.113173\n",
       "Name: Returns_AAPL, dtype: float64"
      ]
     },
     "execution_count": 336,
     "metadata": {},
     "output_type": "execute_result"
    }
   ],
   "source": [
    "test['Returns_AAPL'].describe()"
   ]
  },
  {
   "cell_type": "code",
   "execution_count": null,
   "metadata": {},
   "outputs": [],
   "source": [
    "plt.v"
   ]
  },
  {
   "cell_type": "code",
   "execution_count": 357,
   "metadata": {
    "ExecuteTime": {
     "end_time": "2020-08-18T09:47:49.465114Z",
     "start_time": "2020-08-18T09:47:49.105396Z"
    }
   },
   "outputs": [
    {
     "data": {
      "image/png": "[encoded data removed]",
      "text/plain": [
       "<Figure size 432x288 with 1 Axes>"
      ]
     },
     "metadata": {
      "needs_background": "dark"
     },
     "output_type": "display_data"
    }
   ],
   "source": [
    "plt.hist(test[test['Returns_AAPL_Kmeans'] == 0]['Returns_AAPL'], alpha=0.7, label=['Test 0'])\n",
    "plt.vlines(np.mean(test[test['Returns_AAPL_Kmeans'] == 0]['Returns_AAPL']), ymin=0, ymax=15, color='white')\n",
    "plt.hist(test[test['Returns_AAPL_Kmeans'] == 1]['Returns_AAPL'], alpha=0.7, label=['Test 1'])\n",
    "plt.vlines(np.mean(test[test['Returns_AAPL_Kmeans'] == 1]['Returns_AAPL']), ymin=0, ymax=15, color='pink')\n",
    "plt.legend()\n",
    "plt.show()"
   ]
  },
  {
   "cell_type": "code",
   "execution_count": null,
   "metadata": {},
   "outputs": [],
   "source": []
  },
  {
   "cell_type": "code",
   "execution_count": 358,
   "metadata": {
    "ExecuteTime": {
     "end_time": "2020-08-18T09:48:06.736836Z",
     "start_time": "2020-08-18T09:48:06.725841Z"
    }
   },
   "outputs": [
    {
     "data": {
      "text/plain": [
       "NormaltestResult(statistic=20.543733806528106, pvalue=3.459273381629979e-05)"
      ]
     },
     "execution_count": 358,
     "metadata": {},
     "output_type": "execute_result"
    }
   ],
   "source": [
    "stats.normaltest(test[test['Returns_AAPL_Kmeans'] == 1]['Returns_AAPL'])"
   ]
  }
 ],
 "metadata": {
  "kernelspec": {
   "display_name": "Python 3",
   "language": "python",
   "name": "python3"
  },
  "language_info": {
   "codemirror_mode": {
    "name": "ipython",
    "version": 3
   },
   "file_extension": ".py",
   "mimetype": "text/x-python",
   "name": "python",
   "nbconvert_exporter": "python",
   "pygments_lexer": "ipython3",
   "version": "3.7.4"
  },
  "toc": {
   "base_numbering": 1,
   "nav_menu": {},
   "number_sections": false,
   "sideBar": true,
   "skip_h1_title": false,
   "title_cell": "Table of Contents",
   "title_sidebar": "Contents",
   "toc_cell": false,
   "toc_position": {},
   "toc_section_display": true,
   "toc_window_display": false
  },
  "varInspector": {
   "cols": {
    "lenName": 16,
    "lenType": 16,
    "lenVar": 40
   },
   "kernels_config": {
    "python": {
     "delete_cmd_postfix": "",
     "delete_cmd_prefix": "del ",
     "library": "var_list.py",
     "varRefreshCmd": "print(var_dic_list())"
    },
    "r": {
     "delete_cmd_postfix": ") ",
     "delete_cmd_prefix": "rm(",
     "library": "var_list.r",
     "varRefreshCmd": "cat(var_dic_list()) "
    }
   },
   "position": {
    "height": "144.444px",
    "left": "1147.78px",
    "right": "20px",
    "top": "119px",
    "width": "350px"
   },
   "types_to_exclude": [
    "module",
    "function",
    "builtin_function_or_method",
    "instance",
    "_Feature"
   ],
   "window_display": false
  }
 },
 "nbformat": 4,
 "nbformat_minor": 2
}
