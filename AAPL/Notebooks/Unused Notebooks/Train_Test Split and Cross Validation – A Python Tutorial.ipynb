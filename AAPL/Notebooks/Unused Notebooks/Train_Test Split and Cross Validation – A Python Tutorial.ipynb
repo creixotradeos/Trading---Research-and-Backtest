{
 "cells": [
  {
   "cell_type": "code",
   "execution_count": 1,
   "metadata": {
    "ExecuteTime": {
     "end_time": "2020-08-12T09:03:17.451922Z",
     "start_time": "2020-08-12T09:03:10.775886Z"
    }
   },
   "outputs": [],
   "source": [
    "import numpy as np\n",
    "import pandas as pd\n",
    "from pathlib import Path\n",
    "import os\n",
    "from jupyterthemes import jtplot\n",
    "jtplot.style(theme='onedork')"
   ]
  },
  {
   "cell_type": "code",
   "execution_count": 2,
   "metadata": {
    "ExecuteTime": {
     "end_time": "2020-08-12T09:03:17.699568Z",
     "start_time": "2020-08-12T09:03:17.456922Z"
    },
    "code_folding": [
     0
    ]
   },
   "outputs": [
    {
     "name": "stdout",
     "output_type": "stream",
     "text": [
      "['AAPL-15min.csv', 'AAPL-1d.csv', 'AAPL-1min.csv', 'AAPL-1mo.csv', 'AAPL-1wk.csv', 'AAPL-2min.csv', 'AAPL-30min.csv', 'AAPL-3mo.csv', 'AAPL-5d.csv', 'AAPL-5min.csv', 'AAPL-60min.csv', 'AAPL-90min.csv']\n",
      "            Open  High   Low  Close  Adj Close     Volume  Dividends  \\\n",
      "Date                                                                   \n",
      "1980-12-12  0.51  0.52  0.51   0.51       0.40  117258400        0.0   \n",
      "1980-12-15  0.49  0.49  0.49   0.49       0.38   43971200        0.0   \n",
      "1980-12-16  0.45  0.45  0.45   0.45       0.36   26432000        0.0   \n",
      "1980-12-17  0.46  0.46  0.46   0.46       0.36   21610400        0.0   \n",
      "1980-12-18  0.48  0.48  0.48   0.48       0.38   18362400        0.0   \n",
      "\n",
      "            Stock Splits  \n",
      "Date                      \n",
      "1980-12-12           0.0  \n",
      "1980-12-15           0.0  \n",
      "1980-12-16           0.0  \n",
      "1980-12-17           0.0  \n",
      "1980-12-18           0.0  \n"
     ]
    }
   ],
   "source": [
    "# Datapath AAPL\n",
    "os.chdir('C:\\\\Users\\\\asus\\\\Documents\\\\Python Projects\\\\Trading - Research and Backtest\\\\AAPL')\n",
    "datapath = os.getcwd() + '\\\\Databases\\\\'\n",
    "files = []\n",
    "for (dirpath, dirnames, filenames) in os.walk(datapath):\n",
    "    files.extend(filenames)\n",
    "    break\n",
    "print(files)\n",
    "df_aapl = pd.read_csv(datapath+'AAPL-1d.csv', parse_dates=True, index_col='Date')\n",
    "print(df_aapl.head())"
   ]
  },
  {
   "cell_type": "code",
   "execution_count": 3,
   "metadata": {
    "ExecuteTime": {
     "end_time": "2020-08-12T09:03:17.833462Z",
     "start_time": "2020-08-12T09:03:17.706203Z"
    },
    "code_folding": [
     0
    ]
   },
   "outputs": [
    {
     "name": "stdout",
     "output_type": "stream",
     "text": [
      "['SPY-15min.csv', 'SPY-1d.csv', 'SPY-1min.csv', 'SPY-1mo.csv', 'SPY-1wk.csv', 'SPY-2min.csv', 'SPY-30min.csv', 'SPY-3mo.csv', 'SPY-5d.csv', 'SPY-5min.csv', 'SPY-60min.csv', 'SPY-90min.csv']\n",
      "             Open   High    Low  Close  Adj Close   Volume  Dividends  \\\n",
      "Date                                                                    \n",
      "1993-01-29  43.97  43.97  43.75  43.94      26.18  1003200        0.0   \n",
      "1993-02-01  43.97  44.25  43.97  44.25      26.37   480500        0.0   \n",
      "1993-02-02  44.22  44.38  44.12  44.34      26.43   201300        0.0   \n",
      "1993-02-03  44.41  44.84  44.38  44.81      26.71   529400        0.0   \n",
      "1993-02-04  44.97  45.09  44.47  45.00      26.82   531500        0.0   \n",
      "\n",
      "            Stock Splits  \n",
      "Date                      \n",
      "1993-01-29             0  \n",
      "1993-02-01             0  \n",
      "1993-02-02             0  \n",
      "1993-02-03             0  \n",
      "1993-02-04             0  \n"
     ]
    }
   ],
   "source": [
    "# Datapath SPY\n",
    "os.chdir('C:\\\\Users\\\\asus\\\\Documents\\\\Python Projects\\\\Trading - Research and Backtest\\\\SPY')\n",
    "datapath = os.getcwd() + '\\\\Databases\\\\'\n",
    "files = []\n",
    "for (dirpath, dirnames, filenames) in os.walk(datapath):\n",
    "    files.extend(filenames)\n",
    "    break\n",
    "print(files)\n",
    "df_spy = pd.read_csv(datapath+'SPY-1d.csv', parse_dates=True, index_col='Date')\n",
    "print(df_spy.head())"
   ]
  },
  {
   "cell_type": "code",
   "execution_count": 4,
   "metadata": {
    "ExecuteTime": {
     "end_time": "2020-08-12T09:03:18.028638Z",
     "start_time": "2020-08-12T09:03:17.839459Z"
    }
   },
   "outputs": [],
   "source": [
    "# Dataframe merge\n",
    "df_merge = pd.DataFrame([df_aapl.loc['2018-01-01':'2019-06-30']['Close'], df_spy.loc['2018-01-01':'2019-06-30':]['Close']], \n",
    "                        index=['Close_AAPL', 'Close_SPY']).T"
   ]
  },
  {
   "cell_type": "code",
   "execution_count": 118,
   "metadata": {
    "ExecuteTime": {
     "end_time": "2020-08-12T10:37:40.258289Z",
     "start_time": "2020-08-12T10:37:40.253289Z"
    }
   },
   "outputs": [],
   "source": [
    "# Shift SPY Price by 1 day\n",
    "\"\"\"Since we want to know the effect of SPY to AAPL, so we regress AAPL(t) on SPY(t-1)\"\"\"\n",
    "df_merge['Close_SPY'] = df_merge['Close_SPY'].shift(1)"
   ]
  },
  {
   "cell_type": "code",
   "execution_count": 119,
   "metadata": {
    "ExecuteTime": {
     "end_time": "2020-08-12T10:37:40.401568Z",
     "start_time": "2020-08-12T10:37:40.270276Z"
    },
    "code_folding": []
   },
   "outputs": [
    {
     "data": {
      "text/html": [
       "<div>\n",
       "<style scoped>\n",
       "    .dataframe tbody tr th:only-of-type {\n",
       "        vertical-align: middle;\n",
       "    }\n",
       "\n",
       "    .dataframe tbody tr th {\n",
       "        vertical-align: top;\n",
       "    }\n",
       "\n",
       "    .dataframe thead th {\n",
       "        text-align: right;\n",
       "    }\n",
       "</style>\n",
       "<table border=\"1\" class=\"dataframe\">\n",
       "  <thead>\n",
       "    <tr style=\"text-align: right;\">\n",
       "      <th></th>\n",
       "      <th>Close_AAPL</th>\n",
       "      <th>Close_SPY</th>\n",
       "      <th>Returns</th>\n",
       "    </tr>\n",
       "    <tr>\n",
       "      <th>Date</th>\n",
       "      <th></th>\n",
       "      <th></th>\n",
       "      <th></th>\n",
       "    </tr>\n",
       "  </thead>\n",
       "  <tbody>\n",
       "    <tr>\n",
       "      <td>2018-01-03</td>\n",
       "      <td>172.23</td>\n",
       "      <td>NaN</td>\n",
       "      <td>NaN</td>\n",
       "    </tr>\n",
       "    <tr>\n",
       "      <td>2018-01-04</td>\n",
       "      <td>173.03</td>\n",
       "      <td>268.77</td>\n",
       "      <td>0.004645</td>\n",
       "    </tr>\n",
       "    <tr>\n",
       "      <td>2018-01-05</td>\n",
       "      <td>175.00</td>\n",
       "      <td>270.47</td>\n",
       "      <td>0.011385</td>\n",
       "    </tr>\n",
       "    <tr>\n",
       "      <td>2018-01-08</td>\n",
       "      <td>174.35</td>\n",
       "      <td>271.61</td>\n",
       "      <td>-0.003714</td>\n",
       "    </tr>\n",
       "    <tr>\n",
       "      <td>2018-01-09</td>\n",
       "      <td>174.33</td>\n",
       "      <td>273.42</td>\n",
       "      <td>-0.000115</td>\n",
       "    </tr>\n",
       "    <tr>\n",
       "      <td>...</td>\n",
       "      <td>...</td>\n",
       "      <td>...</td>\n",
       "      <td>...</td>\n",
       "    </tr>\n",
       "    <tr>\n",
       "      <td>2019-06-24</td>\n",
       "      <td>198.58</td>\n",
       "      <td>295.86</td>\n",
       "      <td>-0.001006</td>\n",
       "    </tr>\n",
       "    <tr>\n",
       "      <td>2019-06-25</td>\n",
       "      <td>195.57</td>\n",
       "      <td>294.00</td>\n",
       "      <td>-0.015158</td>\n",
       "    </tr>\n",
       "    <tr>\n",
       "      <td>2019-06-26</td>\n",
       "      <td>199.80</td>\n",
       "      <td>293.64</td>\n",
       "      <td>0.021629</td>\n",
       "    </tr>\n",
       "    <tr>\n",
       "      <td>2019-06-27</td>\n",
       "      <td>199.74</td>\n",
       "      <td>290.76</td>\n",
       "      <td>-0.000300</td>\n",
       "    </tr>\n",
       "    <tr>\n",
       "      <td>2019-06-28</td>\n",
       "      <td>197.92</td>\n",
       "      <td>290.47</td>\n",
       "      <td>-0.009112</td>\n",
       "    </tr>\n",
       "  </tbody>\n",
       "</table>\n",
       "<p>374 rows × 3 columns</p>\n",
       "</div>"
      ],
      "text/plain": [
       "            Close_AAPL  Close_SPY   Returns\n",
       "Date                                       \n",
       "2018-01-03      172.23        NaN       NaN\n",
       "2018-01-04      173.03     268.77  0.004645\n",
       "2018-01-05      175.00     270.47  0.011385\n",
       "2018-01-08      174.35     271.61 -0.003714\n",
       "2018-01-09      174.33     273.42 -0.000115\n",
       "...                ...        ...       ...\n",
       "2019-06-24      198.58     295.86 -0.001006\n",
       "2019-06-25      195.57     294.00 -0.015158\n",
       "2019-06-26      199.80     293.64  0.021629\n",
       "2019-06-27      199.74     290.76 -0.000300\n",
       "2019-06-28      197.92     290.47 -0.009112\n",
       "\n",
       "[374 rows x 3 columns]"
      ]
     },
     "execution_count": 119,
     "metadata": {},
     "output_type": "execute_result"
    }
   ],
   "source": [
    "# Regress against change from yesterday's price instead of today\n",
    "df_merge['Returns'] = df_merge['Close_AAPL']/df_merge['Close_AAPL'].shift(1) - 1\n",
    "df_merge"
   ]
  },
  {
   "cell_type": "code",
   "execution_count": 120,
   "metadata": {
    "ExecuteTime": {
     "end_time": "2020-08-12T10:37:40.533620Z",
     "start_time": "2020-08-12T10:37:40.405547Z"
    },
    "code_folding": [
     0
    ]
   },
   "outputs": [
    {
     "data": {
      "text/html": [
       "<div>\n",
       "<style scoped>\n",
       "    .dataframe tbody tr th:only-of-type {\n",
       "        vertical-align: middle;\n",
       "    }\n",
       "\n",
       "    .dataframe tbody tr th {\n",
       "        vertical-align: top;\n",
       "    }\n",
       "\n",
       "    .dataframe thead th {\n",
       "        text-align: right;\n",
       "    }\n",
       "</style>\n",
       "<table border=\"1\" class=\"dataframe\">\n",
       "  <thead>\n",
       "    <tr style=\"text-align: right;\">\n",
       "      <th></th>\n",
       "      <th>Close_AAPL</th>\n",
       "      <th>Close_SPY</th>\n",
       "      <th>Returns</th>\n",
       "    </tr>\n",
       "    <tr>\n",
       "      <th>Date</th>\n",
       "      <th></th>\n",
       "      <th></th>\n",
       "      <th></th>\n",
       "    </tr>\n",
       "  </thead>\n",
       "  <tbody>\n",
       "    <tr>\n",
       "      <td>2018-01-04</td>\n",
       "      <td>173.03</td>\n",
       "      <td>268.77</td>\n",
       "      <td>0.004645</td>\n",
       "    </tr>\n",
       "    <tr>\n",
       "      <td>2018-01-05</td>\n",
       "      <td>175.00</td>\n",
       "      <td>270.47</td>\n",
       "      <td>0.011385</td>\n",
       "    </tr>\n",
       "    <tr>\n",
       "      <td>2018-01-08</td>\n",
       "      <td>174.35</td>\n",
       "      <td>271.61</td>\n",
       "      <td>-0.003714</td>\n",
       "    </tr>\n",
       "    <tr>\n",
       "      <td>2018-01-09</td>\n",
       "      <td>174.33</td>\n",
       "      <td>273.42</td>\n",
       "      <td>-0.000115</td>\n",
       "    </tr>\n",
       "    <tr>\n",
       "      <td>2018-01-10</td>\n",
       "      <td>174.29</td>\n",
       "      <td>273.92</td>\n",
       "      <td>-0.000229</td>\n",
       "    </tr>\n",
       "    <tr>\n",
       "      <td>...</td>\n",
       "      <td>...</td>\n",
       "      <td>...</td>\n",
       "      <td>...</td>\n",
       "    </tr>\n",
       "    <tr>\n",
       "      <td>2019-06-24</td>\n",
       "      <td>198.58</td>\n",
       "      <td>295.86</td>\n",
       "      <td>-0.001006</td>\n",
       "    </tr>\n",
       "    <tr>\n",
       "      <td>2019-06-25</td>\n",
       "      <td>195.57</td>\n",
       "      <td>294.00</td>\n",
       "      <td>-0.015158</td>\n",
       "    </tr>\n",
       "    <tr>\n",
       "      <td>2019-06-26</td>\n",
       "      <td>199.80</td>\n",
       "      <td>293.64</td>\n",
       "      <td>0.021629</td>\n",
       "    </tr>\n",
       "    <tr>\n",
       "      <td>2019-06-27</td>\n",
       "      <td>199.74</td>\n",
       "      <td>290.76</td>\n",
       "      <td>-0.000300</td>\n",
       "    </tr>\n",
       "    <tr>\n",
       "      <td>2019-06-28</td>\n",
       "      <td>197.92</td>\n",
       "      <td>290.47</td>\n",
       "      <td>-0.009112</td>\n",
       "    </tr>\n",
       "  </tbody>\n",
       "</table>\n",
       "<p>373 rows × 3 columns</p>\n",
       "</div>"
      ],
      "text/plain": [
       "            Close_AAPL  Close_SPY   Returns\n",
       "Date                                       \n",
       "2018-01-04      173.03     268.77  0.004645\n",
       "2018-01-05      175.00     270.47  0.011385\n",
       "2018-01-08      174.35     271.61 -0.003714\n",
       "2018-01-09      174.33     273.42 -0.000115\n",
       "2018-01-10      174.29     273.92 -0.000229\n",
       "...                ...        ...       ...\n",
       "2019-06-24      198.58     295.86 -0.001006\n",
       "2019-06-25      195.57     294.00 -0.015158\n",
       "2019-06-26      199.80     293.64  0.021629\n",
       "2019-06-27      199.74     290.76 -0.000300\n",
       "2019-06-28      197.92     290.47 -0.009112\n",
       "\n",
       "[373 rows x 3 columns]"
      ]
     },
     "execution_count": 120,
     "metadata": {},
     "output_type": "execute_result"
    }
   ],
   "source": [
    "# Remove row with NaN Value\n",
    "df_merge.dropna(inplace=True)\n",
    "df_merge"
   ]
  },
  {
   "cell_type": "markdown",
   "metadata": {},
   "source": [
    "Now lets use all of the data to build our model, and then test our model with the same data and see what happens.\n",
    "\n",
    "First lets import from sklearn a very easy to use regression model for demonstrative purposes, and the mean_squared_error function to help us generate a root mean squared evaluation function for testing our model:"
   ]
  },
  {
   "cell_type": "code",
   "execution_count": 8,
   "metadata": {
    "ExecuteTime": {
     "end_time": "2020-08-12T09:03:19.939756Z",
     "start_time": "2020-08-12T09:03:18.431439Z"
    }
   },
   "outputs": [],
   "source": [
    "from sklearn.ensemble import RandomForestRegressor\n",
    "from sklearn.metrics import mean_squared_error"
   ]
  },
  {
   "cell_type": "markdown",
   "metadata": {},
   "source": [
    "Note that in sklearn often you will find both a “Regressor” and “Classifier” version of the same algorithm (for instance in this case RandomForest). You simply want to use the classifier version when you are predicting into a finite number of categories (for instance horse, shoe, duck) and the regressor version when you are attempting to predict a continuous numerical output (as we are here).\n",
    "\n",
    "Now lets create our training dataframe, and our target dataframe:"
   ]
  },
  {
   "cell_type": "code",
   "execution_count": 160,
   "metadata": {
    "ExecuteTime": {
     "end_time": "2020-08-12T10:46:44.191363Z",
     "start_time": "2020-08-12T10:46:44.182371Z"
    }
   },
   "outputs": [],
   "source": [
    "# Set the training data columns and target variable\n",
    "y_train = df_merge['Returns']\n",
    "X_train = df_merge.drop(columns=['Close_AAPL', 'Returns'])"
   ]
  },
  {
   "cell_type": "markdown",
   "metadata": {},
   "source": [
    "And initialise a RandomForestRegressor with a few hyper-parameter values set. Note that:\n",
    "\n",
    "random_state just governs the initialisation parameters for the algorithm- if we define it explicitly we will get completely repeatable results, otherwise it is chosen randomly and so the final model will vary slightly every time\n",
    "max_depth is a variable controlling the depth of the decision trees spawned in the forest- the greater the depth the more splits the model can make on the data- as a function of 2^(max_depth) ), allowing the model to grow more complex\n",
    "n_estimators is the number of individual decision trees in the “forest”"
   ]
  },
  {
   "cell_type": "code",
   "execution_count": 161,
   "metadata": {
    "ExecuteTime": {
     "end_time": "2020-08-12T10:46:53.629576Z",
     "start_time": "2020-08-12T10:46:53.623580Z"
    }
   },
   "outputs": [],
   "source": [
    "random_forest = RandomForestRegressor(max_depth=5, n_estimators=100, random_state=1)"
   ]
  },
  {
   "cell_type": "code",
   "execution_count": 162,
   "metadata": {
    "ExecuteTime": {
     "end_time": "2020-08-12T10:46:54.746954Z",
     "start_time": "2020-08-12T10:46:54.588027Z"
    }
   },
   "outputs": [
    {
     "data": {
      "text/plain": [
       "RandomForestRegressor(bootstrap=True, criterion='mse', max_depth=5,\n",
       "                      max_features='auto', max_leaf_nodes=None,\n",
       "                      min_impurity_decrease=0.0, min_impurity_split=None,\n",
       "                      min_samples_leaf=1, min_samples_split=2,\n",
       "                      min_weight_fraction_leaf=0.0, n_estimators=100,\n",
       "                      n_jobs=None, oob_score=False, random_state=1, verbose=0,\n",
       "                      warm_start=False)"
      ]
     },
     "execution_count": 162,
     "metadata": {},
     "output_type": "execute_result"
    }
   ],
   "source": [
    "random_forest.fit(X_train, y_train)"
   ]
  },
  {
   "cell_type": "code",
   "execution_count": 163,
   "metadata": {
    "ExecuteTime": {
     "end_time": "2020-08-12T10:46:56.059432Z",
     "start_time": "2020-08-12T10:46:56.032428Z"
    }
   },
   "outputs": [
    {
     "data": {
      "text/plain": [
       "0.01588624137320322"
      ]
     },
     "execution_count": 163,
     "metadata": {},
     "output_type": "execute_result"
    }
   ],
   "source": [
    "root_mean_squared_error = np.sqrt(mean_squared_error(y_train, random_forest.predict(X_train)))\n",
    "root_mean_squared_error"
   ]
  },
  {
   "cell_type": "markdown",
   "metadata": {},
   "source": [
    "Okay, so we have an error of 0.015 as a baseline performance for our model."
   ]
  },
  {
   "cell_type": "code",
   "execution_count": 164,
   "metadata": {
    "ExecuteTime": {
     "end_time": "2020-08-12T10:46:58.901535Z",
     "start_time": "2020-08-12T10:46:58.893541Z"
    }
   },
   "outputs": [
    {
     "name": "stdout",
     "output_type": "stream",
     "text": [
      "123.7%\n"
     ]
    }
   ],
   "source": [
    "_ = np.abs(y_train).mean()\n",
    "_ = root_mean_squared_error / _ * 100\n",
    "print(str(round(_, 2))+'%')"
   ]
  },
  {
   "cell_type": "markdown",
   "metadata": {},
   "source": [
    "Note that this is pretty horrible since the average return (which you can calculate with (np.abs(y_train)).mean() ) is 0.012 so our average error is ~123% the size of the average daily return so clearly our model is not very accurate."
   ]
  },
  {
   "cell_type": "markdown",
   "metadata": {},
   "source": [
    "This isn’t really surprising though since we are using nothing but a single numerical value (yesterday’s bond spread) and an un-calibrated (and perhaps inappropriate type of) model to estimate the daily return- if markets were really that easy to predict we would all be rich!\n",
    "\n",
    "This doesn’t really matter though and for the purposes of this article we will ignore our objectively horrible results- the focus is on using the dataset to provide demonstrative code for the topics we are exploring, and not the actual skill of our models.\n",
    "\n",
    "In any case we can still fiddle with the model hyper-parameters to try and improve our performance.\n",
    "\n",
    "For instance we can increase the max-depth of our random forest (which if we remember allows the model to make more splits on the data and thus grow more complex):"
   ]
  },
  {
   "cell_type": "code",
   "execution_count": 165,
   "metadata": {
    "ExecuteTime": {
     "end_time": "2020-08-12T10:47:11.089281Z",
     "start_time": "2020-08-12T10:47:10.898654Z"
    }
   },
   "outputs": [
    {
     "data": {
      "text/plain": [
       "0.012768191789032815"
      ]
     },
     "execution_count": 165,
     "metadata": {},
     "output_type": "execute_result"
    }
   ],
   "source": [
    "random_forest = RandomForestRegressor(max_depth=10, n_estimators=100, random_state=1)\n",
    "random_forest.fit(X_train, y_train)\n",
    "root_mean_squared_error = np.sqrt(mean_squared_error(y_train, random_forest.predict(X_train)))\n",
    "root_mean_squared_error"
   ]
  },
  {
   "cell_type": "code",
   "execution_count": 166,
   "metadata": {
    "ExecuteTime": {
     "end_time": "2020-08-12T10:47:24.826262Z",
     "start_time": "2020-08-12T10:47:24.819266Z"
    }
   },
   "outputs": [
    {
     "name": "stdout",
     "output_type": "stream",
     "text": [
      "99.42%\n"
     ]
    }
   ],
   "source": [
    "_ = np.abs(y_train).mean()\n",
    "_ = root_mean_squared_error / _ * 100\n",
    "print(str(round(_, 2))+'%')"
   ]
  },
  {
   "cell_type": "code",
   "execution_count": 167,
   "metadata": {
    "ExecuteTime": {
     "end_time": "2020-08-12T10:47:27.444607Z",
     "start_time": "2020-08-12T10:47:27.379627Z"
    }
   },
   "outputs": [
    {
     "data": {
      "text/html": [
       "<div>\n",
       "<style scoped>\n",
       "    .dataframe tbody tr th:only-of-type {\n",
       "        vertical-align: middle;\n",
       "    }\n",
       "\n",
       "    .dataframe tbody tr th {\n",
       "        vertical-align: top;\n",
       "    }\n",
       "\n",
       "    .dataframe thead th {\n",
       "        text-align: right;\n",
       "    }\n",
       "</style>\n",
       "<table border=\"1\" class=\"dataframe\">\n",
       "  <thead>\n",
       "    <tr style=\"text-align: right;\">\n",
       "      <th></th>\n",
       "      <th>Close_AAPL</th>\n",
       "      <th>Close_SPY</th>\n",
       "      <th>Returns</th>\n",
       "    </tr>\n",
       "    <tr>\n",
       "      <th>Date</th>\n",
       "      <th></th>\n",
       "      <th></th>\n",
       "      <th></th>\n",
       "    </tr>\n",
       "  </thead>\n",
       "  <tbody>\n",
       "    <tr>\n",
       "      <td>2019-07-02</td>\n",
       "      <td>202.73</td>\n",
       "      <td>295.66</td>\n",
       "      <td>0.005855</td>\n",
       "    </tr>\n",
       "    <tr>\n",
       "      <td>2019-07-03</td>\n",
       "      <td>204.41</td>\n",
       "      <td>296.43</td>\n",
       "      <td>0.008287</td>\n",
       "    </tr>\n",
       "    <tr>\n",
       "      <td>2019-07-05</td>\n",
       "      <td>204.23</td>\n",
       "      <td>298.80</td>\n",
       "      <td>-0.000881</td>\n",
       "    </tr>\n",
       "    <tr>\n",
       "      <td>2019-07-08</td>\n",
       "      <td>200.02</td>\n",
       "      <td>298.46</td>\n",
       "      <td>-0.020614</td>\n",
       "    </tr>\n",
       "    <tr>\n",
       "      <td>2019-07-09</td>\n",
       "      <td>201.24</td>\n",
       "      <td>296.82</td>\n",
       "      <td>0.006099</td>\n",
       "    </tr>\n",
       "    <tr>\n",
       "      <td>...</td>\n",
       "      <td>...</td>\n",
       "      <td>...</td>\n",
       "      <td>...</td>\n",
       "    </tr>\n",
       "    <tr>\n",
       "      <td>2020-08-03</td>\n",
       "      <td>435.75</td>\n",
       "      <td>326.52</td>\n",
       "      <td>0.025198</td>\n",
       "    </tr>\n",
       "    <tr>\n",
       "      <td>2020-08-04</td>\n",
       "      <td>438.66</td>\n",
       "      <td>328.79</td>\n",
       "      <td>0.006678</td>\n",
       "    </tr>\n",
       "    <tr>\n",
       "      <td>2020-08-05</td>\n",
       "      <td>440.25</td>\n",
       "      <td>330.06</td>\n",
       "      <td>0.003625</td>\n",
       "    </tr>\n",
       "    <tr>\n",
       "      <td>2020-08-06</td>\n",
       "      <td>455.61</td>\n",
       "      <td>332.11</td>\n",
       "      <td>0.034889</td>\n",
       "    </tr>\n",
       "    <tr>\n",
       "      <td>2020-08-07</td>\n",
       "      <td>444.45</td>\n",
       "      <td>334.33</td>\n",
       "      <td>-0.024495</td>\n",
       "    </tr>\n",
       "  </tbody>\n",
       "</table>\n",
       "<p>279 rows × 3 columns</p>\n",
       "</div>"
      ],
      "text/plain": [
       "            Close_AAPL  Close_SPY   Returns\n",
       "Date                                       \n",
       "2019-07-02      202.73     295.66  0.005855\n",
       "2019-07-03      204.41     296.43  0.008287\n",
       "2019-07-05      204.23     298.80 -0.000881\n",
       "2019-07-08      200.02     298.46 -0.020614\n",
       "2019-07-09      201.24     296.82  0.006099\n",
       "...                ...        ...       ...\n",
       "2020-08-03      435.75     326.52  0.025198\n",
       "2020-08-04      438.66     328.79  0.006678\n",
       "2020-08-05      440.25     330.06  0.003625\n",
       "2020-08-06      455.61     332.11  0.034889\n",
       "2020-08-07      444.45     334.33 -0.024495\n",
       "\n",
       "[279 rows x 3 columns]"
      ]
     },
     "execution_count": 167,
     "metadata": {},
     "output_type": "execute_result"
    }
   ],
   "source": [
    "unseen_data = pd.DataFrame([df_aapl.loc['2019-07-01':]['Close'], df_spy.loc['2019-07-01':]['Close']], \n",
    "                        index=['Close_AAPL', 'Close_SPY']).T\n",
    "unseen_data['Close_SPY'] = unseen_data['Close_SPY'].shift(1)\n",
    "unseen_data['Returns'] = unseen_data['Close_AAPL']/unseen_data['Close_AAPL'].shift(1) - 1\n",
    "unseen_data.dropna(inplace=True)\n",
    "unseen_data"
   ]
  },
  {
   "cell_type": "code",
   "execution_count": 169,
   "metadata": {
    "ExecuteTime": {
     "end_time": "2020-08-12T10:47:39.146542Z",
     "start_time": "2020-08-12T10:47:39.140545Z"
    }
   },
   "outputs": [],
   "source": [
    "y_unseen = unseen_data['Returns']\n",
    "X_unseen = unseen_data.drop(columns=['Close_AAPL', 'Returns'])"
   ]
  },
  {
   "cell_type": "code",
   "execution_count": 170,
   "metadata": {
    "ExecuteTime": {
     "end_time": "2020-08-12T10:47:41.178441Z",
     "start_time": "2020-08-12T10:47:41.154451Z"
    }
   },
   "outputs": [
    {
     "name": "stdout",
     "output_type": "stream",
     "text": [
      "RMSE: 167.41%\n"
     ]
    }
   ],
   "source": [
    "root_mean_squared_error = np.sqrt(mean_squared_error(y_unseen, random_forest.predict(X_unseen)))\n",
    "# print('RMSE'+str(root_mean_squared_error))\n",
    "_ = np.abs(y_unseen).mean()\n",
    "_ = root_mean_squared_error / _ * 100\n",
    "print('RMSE: '+str(round(_, 2))+'%')"
   ]
  },
  {
   "cell_type": "markdown",
   "metadata": {},
   "source": [
    "This is a clear demonstration of overfitting in action."
   ]
  },
  {
   "cell_type": "code",
   "execution_count": 171,
   "metadata": {
    "ExecuteTime": {
     "end_time": "2020-08-12T10:47:49.153557Z",
     "start_time": "2020-08-12T10:47:49.142563Z"
    }
   },
   "outputs": [],
   "source": [
    "y = df_merge['Returns']\n",
    "X = df_merge.drop(columns=['Close_AAPL', 'Returns'])\n",
    "\n",
    "train_fraction = 0.8\n",
    "split_point = int(train_fraction*len(X))\n",
    "X_train = X[0:split_point]\n",
    "X_valid = X[split_point:]\n",
    "y_train = y[0:split_point]\n",
    "y_valid = y[split_point:]"
   ]
  },
  {
   "cell_type": "markdown",
   "metadata": {},
   "source": [
    "OR"
   ]
  },
  {
   "cell_type": "code",
   "execution_count": 172,
   "metadata": {
    "ExecuteTime": {
     "end_time": "2020-08-12T10:47:51.513428Z",
     "start_time": "2020-08-12T10:47:51.503428Z"
    }
   },
   "outputs": [],
   "source": [
    "from sklearn.model_selection import train_test_split\n",
    "X_train, X_valid, y_train, y_valid = train_test_split(X, y, train_size=0.8,test_size=0.2, random_state=101)"
   ]
  },
  {
   "cell_type": "code",
   "execution_count": 173,
   "metadata": {
    "ExecuteTime": {
     "end_time": "2020-08-12T10:47:52.489303Z",
     "start_time": "2020-08-12T10:47:52.481309Z"
    }
   },
   "outputs": [
    {
     "name": "stdout",
     "output_type": "stream",
     "text": [
      "len(df_merge): 373, split_point: 298, len(X_train): 298, len(X_valid): 75, len(y_train): 298, len(y_valid): 75\n"
     ]
    }
   ],
   "source": [
    "print(\"len(df_merge): {}, split_point: {}, len(X_train): {}, len(X_valid): {}, len(y_train): {}, len(y_valid): {}\"\\\n",
    "      .format(len(df_merge), split_point, len(X_train), len(X_valid), len(y_train), len(y_valid))) "
   ]
  },
  {
   "cell_type": "code",
   "execution_count": 174,
   "metadata": {
    "ExecuteTime": {
     "end_time": "2020-08-12T10:47:58.331789Z",
     "start_time": "2020-08-12T10:47:54.459837Z"
    },
    "code_folding": []
   },
   "outputs": [],
   "source": [
    "import matplotlib.pyplot as plt\n",
    "\n",
    "train_errors = []\n",
    "valid_errors = []\n",
    "param_range = [1,2,3,4,5,6,7,8,9,10,11,12,13,14,15,20,30,40,50,75,100]\n",
    "\n",
    "for max_depth in param_range:\n",
    "    random_forest = RandomForestRegressor(max_depth=max_depth, n_estimators=100, random_state=1)\n",
    "    random_forest.fit(X_train, y_train)\n",
    "    \n",
    "    train_errors.append(np.sqrt(mean_squared_error(y_train, random_forest.predict(X_train))))\n",
    "    valid_errors.append(np.sqrt(mean_squared_error(y_valid, random_forest.predict(X_valid))))"
   ]
  },
  {
   "cell_type": "code",
   "execution_count": 175,
   "metadata": {
    "ExecuteTime": {
     "end_time": "2020-08-12T10:48:02.708661Z",
     "start_time": "2020-08-12T10:48:02.404714Z"
    }
   },
   "outputs": [
    {
     "data": {
      "image/png": "[encoded data removed]",
      "text/plain": [
       "<Figure size 432x288 with 1 Axes>"
      ]
     },
     "metadata": {
      "needs_background": "dark"
     },
     "output_type": "display_data"
    }
   ],
   "source": [
    "plt.xlabel('max_depth')\n",
    "plt.ylabel('root mean_squared_error')\n",
    "plt.plot(param_range, train_errors, label=\"train rmse\")\n",
    "plt.plot(param_range, valid_errors, label=\"validation rmse\")\n",
    "plt.legend()\n",
    "plt.show()"
   ]
  },
  {
   "cell_type": "code",
   "execution_count": 176,
   "metadata": {
    "ExecuteTime": {
     "end_time": "2020-08-12T10:48:06.221736Z",
     "start_time": "2020-08-12T10:48:06.213736Z"
    }
   },
   "outputs": [
    {
     "data": {
      "text/plain": [
       "0"
      ]
     },
     "execution_count": 176,
     "metadata": {},
     "output_type": "execute_result"
    }
   ],
   "source": [
    "valid_errors.index(min(valid_errors))"
   ]
  },
  {
   "cell_type": "code",
   "execution_count": 177,
   "metadata": {
    "ExecuteTime": {
     "end_time": "2020-08-12T10:48:13.721431Z",
     "start_time": "2020-08-12T10:48:13.595503Z"
    }
   },
   "outputs": [
    {
     "name": "stdout",
     "output_type": "stream",
     "text": [
      "RMSE: 140.22%\n"
     ]
    }
   ],
   "source": [
    "random_forest = RandomForestRegressor(max_depth=1, n_estimators=100, random_state=1)\n",
    "random_forest.fit(X, y)\n",
    "root_mean_squared_error = np.sqrt(mean_squared_error(y, random_forest.predict(X)))\n",
    "root_mean_squared_error\n",
    "_ = np.abs(y).mean()\n",
    "_ = root_mean_squared_error / _ * 100\n",
    "print('RMSE: '+str(round(_, 2))+'%')"
   ]
  },
  {
   "cell_type": "code",
   "execution_count": 178,
   "metadata": {
    "ExecuteTime": {
     "end_time": "2020-08-12T10:48:16.728968Z",
     "start_time": "2020-08-12T10:48:16.703985Z"
    }
   },
   "outputs": [
    {
     "name": "stdout",
     "output_type": "stream",
     "text": [
      "RMSE: 154.19%\n"
     ]
    }
   ],
   "source": [
    "root_mean_squared_error = np.sqrt(mean_squared_error(y_unseen, random_forest.predict(X_unseen)))\n",
    "root_mean_squared_error\n",
    "_ = np.abs(y_unseen).mean()\n",
    "_ = root_mean_squared_error / _ * 100\n",
    "print('RMSE: '+str(round(_, 2))+'%')"
   ]
  },
  {
   "cell_type": "code",
   "execution_count": 179,
   "metadata": {
    "ExecuteTime": {
     "end_time": "2020-08-12T10:48:23.721822Z",
     "start_time": "2020-08-12T10:48:23.705827Z"
    }
   },
   "outputs": [
    {
     "name": "stdout",
     "output_type": "stream",
     "text": [
      "len(X): 373 len(y): 373 \n",
      "len(X_train): 260, len(X_valid): 75, len(X_test): 38 \n",
      "len(y_train): 260, len(y_valid): 75, len(y_test): 38\n"
     ]
    }
   ],
   "source": [
    "# split the full data 80:20 into training:validation sets\n",
    "X_train, X_valid, y_train, y_valid = train_test_split(X, y, train_size=0.8, random_state=101)\n",
    "\n",
    "# split training data 87.5:12.5 into training:testing sets\n",
    "X_train, X_test, y_train, y_test = train_test_split(X_train, y_train, train_size=0.875, random_state=101)\n",
    "\n",
    "print(\"len(X): {} len(y): {} \\nlen(X_train): {}, len(X_valid): {}, len(X_test): \\\n",
    "{} \\nlen(y_train): {}, len(y_valid): {}, len(y_test): {}\".format(len(X), len(y),\\\n",
    "len(X_train), len(X_valid), len(X_test), len(y_train), len(y_valid), \\\n",
    "len(y_test))) "
   ]
  },
  {
   "cell_type": "code",
   "execution_count": 231,
   "metadata": {
    "ExecuteTime": {
     "end_time": "2020-08-12T11:37:28.652277Z",
     "start_time": "2020-08-12T11:37:28.590313Z"
    }
   },
   "outputs": [],
   "source": [
    "from sklearn.model_selection import TimeSeriesSplit\n",
    "from sklearn.metrics import r2_score"
   ]
  },
  {
   "cell_type": "code",
   "execution_count": 180,
   "metadata": {
    "ExecuteTime": {
     "end_time": "2020-08-12T10:48:27.544260Z",
     "start_time": "2020-08-12T10:48:27.539263Z"
    }
   },
   "outputs": [],
   "source": [
    "tscv = TimeSeriesSplit(n_splits=5)"
   ]
  },
  {
   "cell_type": "code",
   "execution_count": 181,
   "metadata": {
    "ExecuteTime": {
     "end_time": "2020-08-12T10:48:29.057297Z",
     "start_time": "2020-08-12T10:48:29.051302Z"
    }
   },
   "outputs": [],
   "source": [
    "X_array = np.array(X)\n",
    "y_array = np.array(y)"
   ]
  },
  {
   "cell_type": "code",
   "execution_count": 254,
   "metadata": {
    "ExecuteTime": {
     "end_time": "2020-08-12T11:48:06.376700Z",
     "start_time": "2020-08-12T11:47:35.363811Z"
    },
    "code_folding": [
     12
    ]
   },
   "outputs": [
    {
     "name": "stdout",
     "output_type": "stream",
     "text": [
      "Max Depth optimal for validation data: 1\n",
      "RMSE: 135.95%\n",
      "R2: 5.27%\n",
      "Max Depth optimal for validation data: 1\n",
      "RMSE: 182.28%\n",
      "R2: -84.91%\n",
      "Max Depth optimal for validation data: 1\n",
      "RMSE: 139.4%\n",
      "R2: -30.11%\n",
      "Max Depth optimal for validation data: 1\n",
      "RMSE: 184.44%\n",
      "R2: -36.45%\n",
      "Max Depth optimal for validation data: 1\n",
      "RMSE: 162.18%\n",
      "R2: -37.75%\n"
     ]
    }
   ],
   "source": [
    "# Walk Forward Cross Validation\n",
    "count = 0\n",
    "depth = []\n",
    "for train_index, test_index in tscv.split(X_array):\n",
    "    # 80:20 training:validation inner loop split\n",
    "    inner_split_point = int(0.8*len(train_index))\n",
    "    valid_index = train_index[inner_split_point:]\n",
    "    train_index = train_index[:inner_split_point]\n",
    "    X_train, X_valid, X_test = X_array[train_index], X_array[valid_index], X_array[test_index]\n",
    "    y_train, y_valid, y_test = y_array[train_index], y_array[valid_index], y_array[test_index]\n",
    "    train_errors = []\n",
    "    valid_errors = []\n",
    "    for max_depth in param_range:\n",
    "        random_forest = RandomForestRegressor(max_depth=max_depth, n_estimators=200, random_state=1)\n",
    "        random_forest.fit(X_train, y_train)\n",
    "        train_errors.append(np.sqrt(mean_squared_error(y_train, random_forest.predict(X_train))))\n",
    "        valid_errors.append(np.sqrt(mean_squared_error(y_valid, random_forest.predict(X_valid))))\n",
    "    max_depth = valid_errors.index(min(valid_errors)) + 1\n",
    "    print('Max Depth optimal for validation data: '+str(max_depth))\n",
    "    depth.append(max_depth)\n",
    "    if count == 0:\n",
    "        random_forest = RandomForestRegressor(max_depth=max_depth, n_estimators=100, random_state=1)\n",
    "        count += 1\n",
    "    else:\n",
    "        pass\n",
    "#     random_forest = RandomForestRegressor(max_depth=max_depth, n_estimators=200, random_state=1)\n",
    "    X_train = np.append(X_train, X_valid)\n",
    "    X_train = X_train.reshape(X_train.shape[0], 1)\n",
    "    y_train = np.append(y_train, y_valid)\n",
    "    y_train = y_train.reshape(y_train.shape[0])\n",
    "    random_forest.fit(X_train, y_train)\n",
    "    test_errors.append(np.sqrt(mean_squared_error(y_test, random_forest.predict(X_test))))\n",
    "    root_mean_squared_error = np.sqrt(mean_squared_error(y_test, random_forest.predict(X_test)))\n",
    "    _ = np.abs(y_test).mean()\n",
    "    _ = root_mean_squared_error / _ * 100\n",
    "    print('RMSE: '+str(round(_, 2))+'%')\n",
    "    Rsquared = r2_score(y_test, random_forest.predict(X_test))\n",
    "    print('R2: {}%'.format(round(Rsquared*100, 2)))"
   ]
  },
  {
   "cell_type": "code",
   "execution_count": 256,
   "metadata": {
    "ExecuteTime": {
     "end_time": "2020-08-12T11:48:17.217608Z",
     "start_time": "2020-08-12T11:48:16.898724Z"
    },
    "scrolled": true
   },
   "outputs": [
    {
     "data": {
      "image/png": "[encoded data removed]",
      "text/plain": [
       "<Figure size 432x288 with 1 Axes>"
      ]
     },
     "metadata": {
      "needs_background": "dark"
     },
     "output_type": "display_data"
    }
   ],
   "source": [
    "plt.plot(y_test, label='Test')\n",
    "plt.plot(random_forest.predict(X_test), label='Prediction')\n",
    "plt.legend()\n",
    "plt.show()"
   ]
  },
  {
   "cell_type": "code",
   "execution_count": 287,
   "metadata": {
    "ExecuteTime": {
     "end_time": "2020-08-12T12:06:35.272001Z",
     "start_time": "2020-08-12T12:06:26.678472Z"
    }
   },
   "outputs": [],
   "source": [
    "#Walk forward cross validation\n",
    "train_fraction = 0.8\n",
    "split_point = int(train_fraction*len(X_array))\n",
    "X_train = X_array[0:split_point]\n",
    "X_test = X_array[split_point:]\n",
    "y_train = y_array[0:split_point]\n",
    "y_test = y_array[split_point:]\n",
    "hist = X_train.copy()\n",
    "pred_list = []\n",
    "random_forest = RandomForestRegressor(max_depth=1, n_estimators=100, random_state=1)\n",
    "for h in range(len(X_test)):\n",
    "    random_forest.fit(X_train, y_train)\n",
    "    y_predict = random_forest.predict(X_test[h].reshape(-1, 1))[0]\n",
    "    pred_list = np.append(pred_list, y_predict)\n",
    "    X_train = np.append(X_train[1:], X_test[h])\n",
    "    X_train = X_train.reshape(X_train.shape[0], 1)\n",
    "    y_train = np.append(y_train[1:], y_test[h])\n",
    "    y_train = y_train.reshape(y_train.shape[0])"
   ]
  },
  {
   "cell_type": "code",
   "execution_count": 289,
   "metadata": {
    "ExecuteTime": {
     "end_time": "2020-08-12T12:06:58.871864Z",
     "start_time": "2020-08-12T12:06:58.863864Z"
    }
   },
   "outputs": [
    {
     "data": {
      "text/plain": [
       "-0.049240597478084513"
      ]
     },
     "execution_count": 289,
     "metadata": {},
     "output_type": "execute_result"
    }
   ],
   "source": [
    "r2_score(y_test, pred_list)"
   ]
  },
  {
   "cell_type": "code",
   "execution_count": 288,
   "metadata": {
    "ExecuteTime": {
     "end_time": "2020-08-12T12:06:38.993628Z",
     "start_time": "2020-08-12T12:06:38.984653Z"
    }
   },
   "outputs": [
    {
     "data": {
      "text/plain": [
       "array([-5.45903150e-05, -3.32178106e-04, -3.48833221e-04, -6.60789181e-05,\n",
       "       -4.01027305e-04, -5.65610315e-05, -4.12483865e-05, -2.40614142e-04,\n",
       "       -3.91202014e-05, -7.52035617e-05, -2.51916073e-04,  1.11371372e-05,\n",
       "       -3.16260095e-05, -4.88460758e-05, -9.01224764e-05, -2.18562524e-04,\n",
       "        2.41198062e-04,  3.23961398e-04,  4.65153520e-04,  2.80833760e-04,\n",
       "        4.44956000e-04,  4.63712558e-04,  4.90943666e-04,  7.20436498e-04,\n",
       "        2.88695975e-04,  7.49885849e-04,  6.33681274e-04,  5.48465503e-04,\n",
       "        7.46592839e-04,  5.49488158e-04,  6.65727250e-04,  7.45752107e-04,\n",
       "        2.30411647e-04,  4.16736231e-04,  1.44220419e-02,  4.91449571e-04,\n",
       "        6.42071737e-04,  7.21897021e-03,  1.62315891e-04,  5.76194037e-04,\n",
       "        2.65601573e-04,  2.64985977e-04,  2.96132027e-05,  1.64710604e-04,\n",
       "        2.45725855e-04, -9.94771238e-06,  2.89701799e-05, -9.62552040e-05,\n",
       "       -1.46798859e-05,  5.96254603e-05, -1.84591096e-04,  1.21538914e-04,\n",
       "       -8.46428683e-05,  2.13155622e-04,  3.43101759e-05, -3.62294736e-05,\n",
       "        1.26923385e-04,  1.57649850e-04,  3.55748525e-04,  2.93888829e-04,\n",
       "        2.83195643e-04,  5.06829895e-04,  2.51560473e-04,  1.05689377e-04,\n",
       "        2.60011076e-04,  2.35881673e-04,  2.65208777e-04,  3.83525312e-04,\n",
       "        2.34498028e-04,  1.88282939e-04,  2.90116377e-03,  3.84014280e-04,\n",
       "        4.59268050e-04,  4.80138781e-04,  6.62165243e-04])"
      ]
     },
     "execution_count": 288,
     "metadata": {},
     "output_type": "execute_result"
    }
   ],
   "source": [
    "pred_list"
   ]
  }
 ],
 "metadata": {
  "kernelspec": {
   "display_name": "Python 3",
   "language": "python",
   "name": "python3"
  },
  "language_info": {
   "codemirror_mode": {
    "name": "ipython",
    "version": 3
   },
   "file_extension": ".py",
   "mimetype": "text/x-python",
   "name": "python",
   "nbconvert_exporter": "python",
   "pygments_lexer": "ipython3",
   "version": "3.7.4"
  },
  "toc": {
   "base_numbering": 1,
   "nav_menu": {},
   "number_sections": false,
   "sideBar": true,
   "skip_h1_title": false,
   "title_cell": "Table of Contents",
   "title_sidebar": "Contents",
   "toc_cell": false,
   "toc_position": {},
   "toc_section_display": true,
   "toc_window_display": false
  },
  "varInspector": {
   "cols": {
    "lenName": 16,
    "lenType": 16,
    "lenVar": 40
   },
   "kernels_config": {
    "python": {
     "delete_cmd_postfix": "",
     "delete_cmd_prefix": "del ",
     "library": "var_list.py",
     "varRefreshCmd": "print(var_dic_list())"
    },
    "r": {
     "delete_cmd_postfix": ") ",
     "delete_cmd_prefix": "rm(",
     "library": "var_list.r",
     "varRefreshCmd": "cat(var_dic_list()) "
    }
   },
   "types_to_exclude": [
    "module",
    "function",
    "builtin_function_or_method",
    "instance",
    "_Feature"
   ],
   "window_display": false
  }
 },
 "nbformat": 4,
 "nbformat_minor": 2
}
