{
 "cells": [
  {
   "cell_type": "markdown",
   "metadata": {},
   "source": [
    "# Libraries"
   ]
  },
  {
   "cell_type": "code",
   "execution_count": 38,
   "metadata": {
    "ExecuteTime": {
     "end_time": "2020-09-09T17:07:58.187653Z",
     "start_time": "2020-09-09T17:07:56.633493Z"
    }
   },
   "outputs": [],
   "source": [
    "# Basics\n",
    "import pandas as pd\n",
    "import numpy as np\n",
    "import os\n",
    "from pathlib import Path\n",
    "from jupyterthemes import jtplot\n",
    "jtplot.style(theme='monokai')\n",
    "from tabulate import tabulate\n",
    "import warnings\n",
    "warnings.filterwarnings('ignore')\n",
    "from datetime import datetime  \n",
    "from datetime import timedelta \n",
    "import pickle\n",
    "\n",
    "# PLotting\n",
    "import matplotlib.pyplot as plt\n",
    "%matplotlib inline\n",
    "import seaborn as sns\n",
    "\n",
    "# Scipy\n",
    "from scipy import stats\n",
    "\n",
    "# Tensorflow keras\n",
    "import tensorflow as tf\n",
    "from tensorflow.keras.models import Sequential\n",
    "from tensorflow.keras.layers import Input, Dense, GRU, Embedding\n",
    "from tensorflow.keras.optimizers import RMSprop\n",
    "from tensorflow.keras.callbacks import EarlyStopping, ModelCheckpoint, TensorBoard, ReduceLROnPlateau\n",
    "from tensorflow.keras.backend import square, mean\n",
    "\n",
    "# Scikit-learn\n",
    "from sklearn.cluster import KMeans\n",
    "from sklearn.metrics import silhouette_score\n",
    "from sklearn import preprocessing, metrics\n",
    "from sklearn.ensemble import ExtraTreesClassifier, RandomForestRegressor\n",
    "from sklearn.datasets import load_digits\n",
    "from sklearn.feature_selection import SelectKBest, chi2\n",
    "from sklearn.preprocessing import MinMaxScaler\n",
    "from sklearn.metrics import r2_score\n",
    "from sklearn.metrics import mean_squared_error\n",
    "from sklearn.datasets import make_regression\n",
    "from sklearn.model_selection import RepeatedKFold\n",
    "from sklearn.feature_selection import SelectKBest, mutual_info_regression, SelectFromModel\n",
    "from sklearn.linear_model import LinearRegression, LogisticRegression, BayesianRidge, LassoLars\n",
    "from sklearn.pipeline import Pipeline\n",
    "from sklearn.model_selection import GridSearchCV"
   ]
  },
  {
   "cell_type": "markdown",
   "metadata": {},
   "source": [
    "# Load Data"
   ]
  },
  {
   "cell_type": "code",
   "execution_count": 2,
   "metadata": {
    "ExecuteTime": {
     "end_time": "2020-09-09T15:08:54.316442Z",
     "start_time": "2020-09-09T15:08:54.306448Z"
    },
    "code_folding": [
     0
    ]
   },
   "outputs": [],
   "source": [
    "def load_stock_data(ticker, interval):\n",
    "    \"\"\"\n",
    "    This function load stock data from Database files by first changing the working directory, loading the data and reset the working directory to the original path\n",
    "    \n",
    "    Parameters\n",
    "    ----------\n",
    "    ticker : str\n",
    "        a string that describes the stock ticker, as listed in the file name\n",
    "    interval : str\n",
    "        an interval string according to the existing files in the databases\n",
    "    \"\"\"\n",
    "    # Record original working directory\n",
    "    owd = os.getcwd()\n",
    "    # Change directory\n",
    "    os.chdir('C:\\\\Users\\\\asus\\\\Documents\\\\Python Projects\\\\Trading - Research and Backtest\\\\'+ticker+'\\\\Databases\\\\')\n",
    "    datapath = os.getcwd()+'\\\\'\n",
    "    # Record all available files\n",
    "    files = []\n",
    "    for (dirpath, dirname, filenames) in os.walk(datapath):\n",
    "        files.extend(filenames)\n",
    "        break\n",
    "    # Import as dataframe  \n",
    "    df = pd.read_csv(datapath+ticker+'-'+interval+'.csv', parse_dates=True, index_col='Datetime')\n",
    "    # Return working directory to original\n",
    "    os.chdir(owd)\n",
    "    return df"
   ]
  },
  {
   "cell_type": "code",
   "execution_count": 3,
   "metadata": {
    "ExecuteTime": {
     "end_time": "2020-09-09T15:09:07.771190Z",
     "start_time": "2020-09-09T15:09:07.206702Z"
    }
   },
   "outputs": [
    {
     "name": "stdout",
     "output_type": "stream",
     "text": [
      "AAPL-5min\n",
      " Datetime               Open    High     Low    Close    Adj Close    Volume    Dividends    Stock Splits\n",
      "-------------------  ------  ------  ------  -------  -----------  --------  -----------  --------------\n",
      "2020-09-08 19:35:00  112.15  112.18  112.05   112.07       112.07         0            0               0\n",
      "2020-09-08 19:40:00  112.1   112.45  112.07   112.32       112.32         0            0               0\n",
      "2020-09-08 19:45:00  112.32  112.39  112.24   112.35       112.35         0            0               0\n",
      "2020-09-08 19:50:00  112.34  112.6   112.26   112.55       112.55         0            0               0\n",
      "2020-09-08 19:55:00  112.55  112.66  112.4    112.48       112.48         0            0               0\n",
      "\n",
      "\n",
      "SPY-5min\n",
      " Datetime               Open    High     Low    Close    Adj Close    Volume    Dividends    Stock Splits\n",
      "-------------------  ------  ------  ------  -------  -----------  --------  -----------  --------------\n",
      "2020-09-08 19:35:00  332     332.29  332      332.12       332.12         0            0               0\n",
      "2020-09-08 19:40:00  332.18  332.2   331.75   331.83       331.83         0            0               0\n",
      "2020-09-08 19:45:00  332     332     331.75   331.81       331.81         0            0               0\n",
      "2020-09-08 19:50:00  331.77  331.8   331.52   331.8        331.8          0            0               0\n",
      "2020-09-08 19:55:00  331.96  332.15  331.96   332.1        332.1          0            0               0\n"
     ]
    }
   ],
   "source": [
    "# Load data\n",
    "interval = '5min' # Choose interval\n",
    "# Load AAPL\n",
    "df_aapl = load_stock_data('AAPL', interval=interval)\n",
    "print('AAPL-'+interval+'\\n', tabulate(df_aapl.tail(), headers='keys'))\n",
    "print('\\n')\n",
    "# Load SPY\n",
    "df_spy = load_stock_data('SPY', interval=interval)\n",
    "print('SPY-'+interval+'\\n', tabulate(df_spy.tail(), headers='keys'))"
   ]
  },
  {
   "cell_type": "code",
   "execution_count": 122,
   "metadata": {
    "ExecuteTime": {
     "end_time": "2020-09-09T17:43:55.938260Z",
     "start_time": "2020-09-09T17:43:55.904280Z"
    }
   },
   "outputs": [
    {
     "name": "stdout",
     "output_type": "stream",
     "text": [
      "df \n",
      "\n",
      "Datetime               Open_AAPL    High_AAPL    Low_AAPL    Close_AAPL    Volume_AAPL    Open_SPY    High_SPY    Low_SPY    Close_SPY    Volume_SPY\n",
      "-------------------  -----------  -----------  ----------  ------------  -------------  ----------  ----------  ---------  -----------  ------------\n",
      "2020-09-08 15:40:00       113.81       114         113.63        113.69    2.65195e+06      334.76      335.14     334.53       334.75   1.81996e+06\n",
      "2020-09-08 15:45:00       113.67       113.72      113.12        113.4     4.47445e+06      334.76      334.86     333.72       334.4    3.37812e+06\n",
      "2020-09-08 15:50:00       113.4        113.58      113.1         113.14    4.30381e+06      334.39      334.39     333.28       333.59   3.51848e+06\n",
      "2020-09-08 15:55:00       113.15       113.35      112.68        112.92    8.28585e+06      333.59      333.72     332.88       333.26   9.27231e+06\n",
      "2020-09-08 16:00:00       112.92       115.76      112.82        112.98    0                333.27      333.28     333.21       333.21   2.48565e+06\n"
     ]
    }
   ],
   "source": [
    "# Merge Data\n",
    "start_date = '2020-08-25'\n",
    "start_time = '09:30'\n",
    "end_time = '16:00'\n",
    "df = pd.merge(df_aapl.between_time(start_time, end_time).loc[start_date:].drop(columns=['Close', 'Dividends', 'Stock Splits']),\n",
    "                    df_spy.between_time(start_time, end_time).loc[start_date:].drop(columns=['Close', 'Dividends', 'Stock Splits']),\n",
    "                    left_index=True, right_index=True\n",
    "                    )\n",
    "df.rename(columns={'Open_x': 'Open_AAPL', 'High_x': 'High_AAPL', 'Low_x': 'Low_AAPL', 'Adj Close_x': 'Close_AAPL', \n",
    "                         'Volume_x': 'Volume_AAPL', 'Open_y': 'Open_SPY', 'High_y': 'High_SPY', 'Low_y': 'Low_SPY', \n",
    "                         'Adj Close_y': 'Close_SPY', 'Volume_y': 'Volume_SPY'}, inplace=True)\n",
    "print('df', '\\n')\n",
    "print(tabulate(df.tail(), headers='keys'))"
   ]
  },
  {
   "cell_type": "markdown",
   "metadata": {},
   "source": [
    "# Data Manipulation"
   ]
  },
  {
   "cell_type": "markdown",
   "metadata": {},
   "source": [
    "## Shift Data"
   ]
  },
  {
   "cell_type": "code",
   "execution_count": 123,
   "metadata": {
    "ExecuteTime": {
     "end_time": "2020-09-09T17:43:57.322419Z",
     "start_time": "2020-09-09T17:43:57.304431Z"
    }
   },
   "outputs": [],
   "source": [
    "# Calculate Returns\n",
    "# Percentage Difference\n",
    "df['Return_AAPL'] = (df['Close_AAPL'] - df['Close_AAPL'].shift(1)) / df['Close_AAPL'].shift(1)\n",
    "df['Return_SPY'] = (df['Close_SPY'] / df['Close_SPY'].shift(1)) / df['Close_SPY'].shift(1)\n",
    "# Shift all data\n",
    "# df = df.shift(1)\n",
    "df.dropna(inplace=True)"
   ]
  },
  {
   "cell_type": "code",
   "execution_count": 124,
   "metadata": {
    "ExecuteTime": {
     "end_time": "2020-09-09T17:43:58.444908Z",
     "start_time": "2020-09-09T17:43:58.430914Z"
    }
   },
   "outputs": [],
   "source": [
    "# Shift Data\n",
    "# Target\n",
    "df_target = df[['Return_AAPL']].iloc[1:]\n",
    "df_target.columns = ['Return_AAPL_y']\n",
    "\n",
    "# Everything else\n",
    "df_features = df.shift(1)\n",
    "df_features.dropna(inplace=True)"
   ]
  },
  {
   "cell_type": "code",
   "execution_count": 269,
   "metadata": {
    "ExecuteTime": {
     "end_time": "2020-09-09T18:39:08.469420Z",
     "start_time": "2020-09-09T18:39:08.417449Z"
    },
    "code_folding": []
   },
   "outputs": [],
   "source": [
    "# Merge\n",
    "df_concat = pd.concat([df_features, df_target], axis=1)\n",
    "conditions = [df_concat['Return_AAPL_y'] > 0,\n",
    "              df_concat['Return_AAPL_y'] < 0]\n",
    "choices = ['Up', 'Down']\n",
    "df_concat['Directions_y'] = np.select(conditions, choices, default='Same')\n",
    "target_signal = ['Directions_y']\n",
    "df_concat.drop(columns=['Return_AAPL_y'], inplace=True)"
   ]
  },
  {
   "cell_type": "markdown",
   "metadata": {},
   "source": [
    "## Feature Selections"
   ]
  },
  {
   "cell_type": "code",
   "execution_count": 267,
   "metadata": {
    "ExecuteTime": {
     "end_time": "2020-09-09T18:38:41.162352Z",
     "start_time": "2020-09-09T18:38:41.140368Z"
    }
   },
   "outputs": [],
   "source": [
    "# Encode Data\n",
    "# Data has to be coded for the algorithm to work\n",
    "df_coded = df_concat.copy() # Make a copy of dataset\n",
    "for column in df_coded.columns:\n",
    "    encode = preprocessing.LabelEncoder() # Individual column encoder\n",
    "    df_coded[column] = encode.fit_transform(df_coded[column]) # Encode column, replace df_coded with coded data"
   ]
  },
  {
   "cell_type": "markdown",
   "metadata": {},
   "source": [
    "### SelectFrom"
   ]
  },
  {
   "cell_type": "code",
   "execution_count": 272,
   "metadata": {
    "ExecuteTime": {
     "end_time": "2020-09-09T18:40:46.193097Z",
     "start_time": "2020-09-09T18:40:45.097560Z"
    }
   },
   "outputs": [],
   "source": [
    "X, y = np.array(df_concat.drop(columns=target_signal)), np.array(df_concat[target_signal])\n",
    "# selector = SelectFromModel(estimator=LogisticRegression()).fit(X, y)\n",
    "selector = SelectFromModel(estimator=ExtraTreesClassifier(criterion='entropy')).fit(X, y)\n",
    "select_from_feature = list(df_concat.drop(columns=target_signal).columns[selector.get_support(True)])"
   ]
  },
  {
   "cell_type": "code",
   "execution_count": 273,
   "metadata": {
    "ExecuteTime": {
     "end_time": "2020-09-09T18:40:47.735749Z",
     "start_time": "2020-09-09T18:40:47.716764Z"
    }
   },
   "outputs": [
    {
     "data": {
      "text/plain": [
       "['High_AAPL',\n",
       " 'Low_AAPL',\n",
       " 'Volume_AAPL',\n",
       " 'Open_SPY',\n",
       " 'Volume_SPY',\n",
       " 'Return_AAPL']"
      ]
     },
     "execution_count": 273,
     "metadata": {},
     "output_type": "execute_result"
    }
   ],
   "source": [
    "select_from_feature"
   ]
  },
  {
   "cell_type": "code",
   "execution_count": null,
   "metadata": {},
   "outputs": [],
   "source": [
    "\n"
   ]
  },
  {
   "cell_type": "code",
   "execution_count": 250,
   "metadata": {
    "ExecuteTime": {
     "end_time": "2020-09-09T18:26:10.934203Z",
     "start_time": "2020-09-09T18:26:10.926209Z"
    }
   },
   "outputs": [],
   "source": [
    "_train = df_concat.iloc[:-20]\n",
    "_test = df_concat.iloc[-20:]"
   ]
  },
  {
   "cell_type": "code",
   "execution_count": null,
   "metadata": {},
   "outputs": [],
   "source": []
  },
  {
   "cell_type": "code",
   "execution_count": 188,
   "metadata": {
    "ExecuteTime": {
     "end_time": "2020-09-09T17:58:38.622867Z",
     "start_time": "2020-09-09T17:58:36.715176Z"
    }
   },
   "outputs": [
    {
     "name": "stdout",
     "output_type": "stream",
     "text": [
      "Suggested K:  2\n"
     ]
    }
   ],
   "source": [
    "# 'K' Optimiztion\n",
    "find_kmean = np.array(df_concat['Return_AAPL_y']).reshape(-1, 1)\n",
    "sil = [] # To store silhouette score\n",
    "kmax = 10\n",
    "kmin = 2\n",
    "for k in range(kmin, kmax+1):\n",
    "    kmean = KMeans(n_clusters = k).fit(find_kmean)\n",
    "    labels = kmean.labels_\n",
    "    sil.append(silhouette_score(find_kmean, labels, metric = 'euclidean'))\n",
    "kmean_all = pd.Series(sil[kmin:], index = range(kmin, kmax-(kmin-1)))\n",
    "optimized_k = kmean_all[kmean_all == kmean_all.max()].index[0]\n",
    "print('Suggested K: ', optimized_k)"
   ]
  },
  {
   "cell_type": "code",
   "execution_count": 256,
   "metadata": {
    "ExecuteTime": {
     "end_time": "2020-09-09T18:28:06.527580Z",
     "start_time": "2020-09-09T18:28:06.324697Z"
    }
   },
   "outputs": [],
   "source": [
    "# Kmeans cluster creation\n",
    "find_kmean = np.array(df_concat)\n",
    "kmean = KMeans(n_clusters=5)\n",
    "kmean.fit(find_kmean)\n",
    "df_concat['Kmeans'] = kmean.labels_ # Add new column to df_concat\n",
    "# _center = []\n",
    "# for label in df_concat['Kmeans']:\n",
    "#     _center.append(float(kmean.cluster_centers_[label]))\n",
    "# df_concat['Cluster_center'] = _center"
   ]
  },
  {
   "cell_type": "code",
   "execution_count": 257,
   "metadata": {
    "ExecuteTime": {
     "end_time": "2020-09-09T18:28:28.284432Z",
     "start_time": "2020-09-09T18:28:27.977609Z"
    }
   },
   "outputs": [],
   "source": [
    "# Kmeans cluster creation\n",
    "find_kmean = np.array(_train)\n",
    "kmean = KMeans(n_clusters=5)\n",
    "kmean.fit(find_kmean)\n",
    "_train['Kmeans'] = kmean.labels_ # Add new column to df_concat"
   ]
  },
  {
   "cell_type": "code",
   "execution_count": 258,
   "metadata": {
    "ExecuteTime": {
     "end_time": "2020-09-09T18:28:37.559569Z",
     "start_time": "2020-09-09T18:28:37.426643Z"
    }
   },
   "outputs": [
    {
     "ename": "ValueError",
     "evalue": "Incorrect number of features. Got 13 features, expected 14",
     "output_type": "error",
     "traceback": [
      "\u001b[1;31m---------------------------------------------------------------------------\u001b[0m",
      "\u001b[1;31mValueError\u001b[0m                                Traceback (most recent call last)",
      "\u001b[1;32m<ipython-input-258-6ac3e3851c90>\u001b[0m in \u001b[0;36m<module>\u001b[1;34m\u001b[0m\n\u001b[1;32m----> 1\u001b[1;33m \u001b[0mkmean\u001b[0m\u001b[1;33m.\u001b[0m\u001b[0mpredict\u001b[0m\u001b[1;33m(\u001b[0m\u001b[0mnp\u001b[0m\u001b[1;33m.\u001b[0m\u001b[0marray\u001b[0m\u001b[1;33m(\u001b[0m\u001b[0m_test\u001b[0m\u001b[1;33m)\u001b[0m\u001b[1;33m)\u001b[0m\u001b[1;33m\u001b[0m\u001b[1;33m\u001b[0m\u001b[0m\n\u001b[0m",
      "\u001b[1;32m~\\anaconda3\\envs\\tf-2\\lib\\site-packages\\sklearn\\cluster\\_kmeans.py\u001b[0m in \u001b[0;36mpredict\u001b[1;34m(self, X, sample_weight)\u001b[0m\n\u001b[0;32m   1182\u001b[0m         \u001b[0mcheck_is_fitted\u001b[0m\u001b[1;33m(\u001b[0m\u001b[0mself\u001b[0m\u001b[1;33m)\u001b[0m\u001b[1;33m\u001b[0m\u001b[1;33m\u001b[0m\u001b[0m\n\u001b[0;32m   1183\u001b[0m \u001b[1;33m\u001b[0m\u001b[0m\n\u001b[1;32m-> 1184\u001b[1;33m         \u001b[0mX\u001b[0m \u001b[1;33m=\u001b[0m \u001b[0mself\u001b[0m\u001b[1;33m.\u001b[0m\u001b[0m_check_test_data\u001b[0m\u001b[1;33m(\u001b[0m\u001b[0mX\u001b[0m\u001b[1;33m)\u001b[0m\u001b[1;33m\u001b[0m\u001b[1;33m\u001b[0m\u001b[0m\n\u001b[0m\u001b[0;32m   1185\u001b[0m         \u001b[0mx_squared_norms\u001b[0m \u001b[1;33m=\u001b[0m \u001b[0mrow_norms\u001b[0m\u001b[1;33m(\u001b[0m\u001b[0mX\u001b[0m\u001b[1;33m,\u001b[0m \u001b[0msquared\u001b[0m\u001b[1;33m=\u001b[0m\u001b[1;32mTrue\u001b[0m\u001b[1;33m)\u001b[0m\u001b[1;33m\u001b[0m\u001b[1;33m\u001b[0m\u001b[0m\n\u001b[0;32m   1186\u001b[0m \u001b[1;33m\u001b[0m\u001b[0m\n",
      "\u001b[1;32m~\\anaconda3\\envs\\tf-2\\lib\\site-packages\\sklearn\\cluster\\_kmeans.py\u001b[0m in \u001b[0;36m_check_test_data\u001b[1;34m(self, X)\u001b[0m\n\u001b[0;32m    933\u001b[0m             raise ValueError(\"Incorrect number of features. \"\n\u001b[0;32m    934\u001b[0m                              \"Got %d features, expected %d\" % (\n\u001b[1;32m--> 935\u001b[1;33m                                  n_features, expected_n_features))\n\u001b[0m\u001b[0;32m    936\u001b[0m \u001b[1;33m\u001b[0m\u001b[0m\n\u001b[0;32m    937\u001b[0m         \u001b[1;32mreturn\u001b[0m \u001b[0mX\u001b[0m\u001b[1;33m\u001b[0m\u001b[1;33m\u001b[0m\u001b[0m\n",
      "\u001b[1;31mValueError\u001b[0m: Incorrect number of features. Got 13 features, expected 14"
     ]
    }
   ],
   "source": [
    "kmean.predict(np.array(_test))"
   ]
  },
  {
   "cell_type": "code",
   "execution_count": 233,
   "metadata": {
    "ExecuteTime": {
     "end_time": "2020-09-09T18:16:14.865733Z",
     "start_time": "2020-09-09T18:16:14.430591Z"
    }
   },
   "outputs": [
    {
     "data": {
      "text/plain": [
       "<matplotlib.legend.Legend at 0x18b3a197548>"
      ]
     },
     "execution_count": 233,
     "metadata": {},
     "output_type": "execute_result"
    },
    {
     "data": {
      "image/png": "[encoded data removed]",
      "text/plain": [
       "<Figure size 1440x720 with 1 Axes>"
      ]
     },
     "metadata": {
      "needs_background": "dark"
     },
     "output_type": "display_data"
    }
   ],
   "source": [
    "plt.figure(figsize=(20, 10))\n",
    "plt.scatter(df_concat['Return_AAPL'], df_concat['Return_AAPL_y'], c=df_concat['Kmeans'], cmap='coolwarm')\n",
    "plt.axhline(y=df_concat['Return_AAPL_y'].mean(), color='white', label='mean')\n",
    "plt.axhline(y=df_concat['Return_AAPL_y'].std(), color='orange', label='std')\n",
    "plt.axhline(y=-df_concat['Return_AAPL_y'].std(), color='orange', label='std')\n",
    "plt.legend()"
   ]
  },
  {
   "cell_type": "code",
   "execution_count": 234,
   "metadata": {
    "ExecuteTime": {
     "end_time": "2020-09-09T18:16:23.677306Z",
     "start_time": "2020-09-09T18:16:23.669311Z"
    }
   },
   "outputs": [
    {
     "name": "stdout",
     "output_type": "stream",
     "text": [
      "0\n",
      "4\n",
      "3\n",
      "1\n",
      "2\n"
     ]
    }
   ],
   "source": [
    "_ = []\n",
    "for x in df_concat['Kmeans'].unique():\n",
    "    _max = df_concat[df_concat['Kmeans']==x]['Return_AAPL_y'].max()\n",
    "    _min = df_concat[df_concat['Kmeans']==x]['Return_AAPL_y'].min()\n",
    "    _.append(df_concat[])"
   ]
  },
  {
   "cell_type": "code",
   "execution_count": 209,
   "metadata": {
    "ExecuteTime": {
     "end_time": "2020-09-09T18:06:02.257902Z",
     "start_time": "2020-09-09T18:06:02.247908Z"
    }
   },
   "outputs": [
    {
     "data": {
      "text/plain": [
       "-0.0022035419897167715"
      ]
     },
     "execution_count": 209,
     "metadata": {},
     "output_type": "execute_result"
    }
   ],
   "source": [
    "df_concat[df_concat['Kmeans']==0]['Return_AAPL_y'].max()"
   ]
  }
 ],
 "metadata": {
  "kernelspec": {
   "display_name": "Python 3",
   "language": "python",
   "name": "python3"
  },
  "language_info": {
   "codemirror_mode": {
    "name": "ipython",
    "version": 3
   },
   "file_extension": ".py",
   "mimetype": "text/x-python",
   "name": "python",
   "nbconvert_exporter": "python",
   "pygments_lexer": "ipython3",
   "version": "3.7.7"
  },
  "toc": {
   "base_numbering": 1,
   "nav_menu": {},
   "number_sections": false,
   "sideBar": true,
   "skip_h1_title": false,
   "title_cell": "Table of Contents",
   "title_sidebar": "Contents",
   "toc_cell": false,
   "toc_position": {
    "height": "757px",
    "left": "58px",
    "top": "180px",
    "width": "165px"
   },
   "toc_section_display": true,
   "toc_window_display": true
  },
  "varInspector": {
   "cols": {
    "lenName": 16,
    "lenType": 16,
    "lenVar": 40
   },
   "kernels_config": {
    "python": {
     "delete_cmd_postfix": "",
     "delete_cmd_prefix": "del ",
     "library": "var_list.py",
     "varRefreshCmd": "print(var_dic_list())"
    },
    "r": {
     "delete_cmd_postfix": ") ",
     "delete_cmd_prefix": "rm(",
     "library": "var_list.r",
     "varRefreshCmd": "cat(var_dic_list()) "
    }
   },
   "types_to_exclude": [
    "module",
    "function",
    "builtin_function_or_method",
    "instance",
    "_Feature"
   ],
   "window_display": false
  }
 },
 "nbformat": 4,
 "nbformat_minor": 4
}
