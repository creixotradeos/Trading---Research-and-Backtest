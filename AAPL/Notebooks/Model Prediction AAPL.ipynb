{
 "cells": [
  {
   "cell_type": "markdown",
   "metadata": {},
   "source": [
    "# Libraries"
   ]
  },
  {
   "cell_type": "code",
   "execution_count": 1,
   "metadata": {
    "ExecuteTime": {
     "end_time": "2020-09-03T07:12:14.499551Z",
     "start_time": "2020-09-03T07:11:23.580665Z"
    },
    "code_folding": [
     0
    ]
   },
   "outputs": [],
   "source": [
    "# Basics\n",
    "%matplotlib inline\n",
    "import matplotlib.pyplot as plt\n",
    "import tensorflow as tf\n",
    "import numpy as np\n",
    "import pandas as pd\n",
    "import os\n",
    "from sklearn.preprocessing import MinMaxScaler\n",
    "from pathlib import Path\n",
    "import os\n",
    "from jupyterthemes import jtplot\n",
    "jtplot.style(theme='onedork')\n",
    "from sklearn.metrics import r2_score\n",
    "from sklearn.metrics import mean_squared_error\n",
    "from tabulate import tabulate\n",
    "import warnings\n",
    "warnings.filterwarnings('ignore')\n",
    "from datetime import datetime  \n",
    "from datetime import timedelta \n",
    "from scipy import stats\n",
    "import pickle"
   ]
  },
  {
   "cell_type": "code",
   "execution_count": 2,
   "metadata": {
    "ExecuteTime": {
     "end_time": "2020-09-03T07:12:14.515552Z",
     "start_time": "2020-09-03T07:12:14.499551Z"
    },
    "code_folding": [
     0
    ]
   },
   "outputs": [],
   "source": [
    "# Keras\n",
    "from tensorflow.keras.models import Sequential, load_model\n",
    "from tensorflow.keras.layers import Input, Dense, GRU, Embedding\n",
    "from tensorflow.keras.optimizers import RMSprop\n",
    "from tensorflow.keras.callbacks import EarlyStopping, ModelCheckpoint, TensorBoard, ReduceLROnPlateau\n",
    "from tensorflow.keras.backend import square, mean"
   ]
  },
  {
   "cell_type": "code",
   "execution_count": 3,
   "metadata": {
    "ExecuteTime": {
     "end_time": "2020-09-03T07:12:16.931450Z",
     "start_time": "2020-09-03T07:12:14.515552Z"
    },
    "code_folding": [
     0
    ]
   },
   "outputs": [],
   "source": [
    "# K means\n",
    "from sklearn.cluster import KMeans\n",
    "from sklearn.metrics import silhouette_score"
   ]
  },
  {
   "cell_type": "code",
   "execution_count": 4,
   "metadata": {
    "ExecuteTime": {
     "end_time": "2020-09-03T07:12:17.787449Z",
     "start_time": "2020-09-03T07:12:16.931450Z"
    },
    "code_folding": [
     0
    ]
   },
   "outputs": [],
   "source": [
    "# Misc\n",
    "from sklearn import preprocessing, metrics\n",
    "from sklearn.ensemble import ExtraTreesClassifier\n",
    "import seaborn as sns\n",
    "from sklearn.datasets import load_digits\n",
    "from sklearn.feature_selection import SelectKBest, chi2"
   ]
  },
  {
   "cell_type": "markdown",
   "metadata": {},
   "source": [
    "# Load Data"
   ]
  },
  {
   "cell_type": "code",
   "execution_count": 5,
   "metadata": {
    "ExecuteTime": {
     "end_time": "2020-09-03T07:12:18.523305Z",
     "start_time": "2020-09-03T07:12:17.907378Z"
    },
    "code_folding": [
     0,
     1
    ]
   },
   "outputs": [],
   "source": [
    "# Load data\n",
    "def load_stock_data(ticker, interval):\n",
    "    \"\"\"\n",
    "    This function load stock data from Database files by first changing the working directory, loading the data and reset the working directory to the original path\n",
    "\n",
    "    Parameters\n",
    "    ----------\n",
    "    ticker : str\n",
    "        a string that describes the stock ticker, as listed in the file name\n",
    "    interval : str\n",
    "        an interval string according to the existing files in the databases\n",
    "    \"\"\"\n",
    "    # Record original working directory\n",
    "    owd = os.getcwd()\n",
    "    # Change directory\n",
    "    os.chdir('C:\\\\Users\\\\asus\\\\Documents\\\\Python Projects\\\\Trading - Research and Backtest\\\\'+ticker+'\\\\Databases\\\\')\n",
    "    datapath = os.getcwd()+'\\\\'\n",
    "    # Record all available files\n",
    "    files = []\n",
    "    for (dirpath, dirname, filenames) in os.walk(datapath):\n",
    "        files.extend(filenames)\n",
    "        break\n",
    "    # Import as dataframe  \n",
    "    df = pd.read_csv(datapath+ticker+'-'+interval+'.csv', parse_dates=True, index_col='Datetime')\n",
    "    # Return working directory to original\n",
    "    os.chdir(owd)\n",
    "    return df\n",
    "interval = '5min' # Choose interval\n",
    "df_aapl = load_stock_data('AAPL', interval=interval)\n",
    "df_spy = load_stock_data('SPY', interval=interval)\n",
    "# Merge Data\n",
    "start_date = '2020-08-25'\n",
    "end_date = '2020-08-30'\n",
    "start_time = '09:30'\n",
    "end_time = '16:00'\n",
    "df = pd.merge(df_aapl.between_time(start_time, end_time).loc[start_date:].drop(columns=['Close', 'Dividends', 'Stock Splits']),\n",
    "                    df_spy.between_time(start_time, end_time).loc[start_date:].drop(columns=['Close', 'Dividends', 'Stock Splits']),\n",
    "                    left_index=True, right_index=True\n",
    "                    )\n",
    "df.rename(columns={'Open_x': 'Open_AAPL', 'High_x': 'High_AAPL', 'Low_x': 'Low_AAPL', 'Adj Close_x': 'Close_AAPL', \n",
    "                         'Volume_x': 'Volume_AAPL', 'Open_y': 'Open_SPY', 'High_y': 'High_SPY', 'Low_y': 'Low_SPY', \n",
    "                         'Adj Close_y': 'Close_SPY', 'Volume_y': 'Volume_SPY'}, inplace=True)\n",
    "# Include daily returns of stock\n",
    "# Use log return of 1 period before\n",
    "df['Returns_AAPL'] = np.log(df['Close_AAPL'] / df['Close_AAPL'].shift(1))\n",
    "df['Returns_SPY'] = np.log(df['Close_SPY'] / df['Close_SPY'].shift(1))\n",
    "df.dropna(inplace=True)"
   ]
  },
  {
   "cell_type": "code",
   "execution_count": null,
   "metadata": {
    "ExecuteTime": {
     "end_time": "2020-09-03T07:24:10.510794Z",
     "start_time": "2020-09-03T07:24:10.494769Z"
    },
    "code_folding": []
   },
   "outputs": [],
   "source": [
    "# Load Variables\n",
    "def load_variables(filename=None):\n",
    "    with open(filename, 'rb') as f:\n",
    "        variables = pickle.load(f)\n",
    "    return variables\n",
    "variables = load_variables('AAPL-5min.pickle')"
   ]
  },
  {
   "cell_type": "markdown",
   "metadata": {},
   "source": [
    "# Data Manipulation"
   ]
  },
  {
   "cell_type": "markdown",
   "metadata": {},
   "source": [
    "## Shift Data"
   ]
  },
  {
   "cell_type": "code",
   "execution_count": 34,
   "metadata": {
    "ExecuteTime": {
     "end_time": "2020-09-03T07:25:14.943574Z",
     "start_time": "2020-09-03T07:25:14.911579Z"
    },
    "code_folding": []
   },
   "outputs": [],
   "source": [
    "# Include daily returns of stock\n",
    "# Use log return of 1 period before\n",
    "df['Returns_AAPL'] = np.log(df['Close_AAPL'] / df['Close_AAPL'].shift(1))\n",
    "df['Returns_SPY'] = np.log(df['Close_SPY'] / df['Close_SPY'].shift(1))\n",
    "df.dropna(inplace=True)\n",
    "# Target\n",
    "target_signal = ['Returns_AAPL']\n",
    "# Features\n",
    "features = variables['Features']\n",
    "# Shift Data\n",
    "df_target = df[target_signal].iloc[1:, :] # Target Data is not shifted\n",
    "# Shift Features Data:\n",
    "#--Shift everything except Opening Price--\n",
    "_ = df.copy()\n",
    "_.loc[:, df.columns != 'Open_AAPL'] = _.loc[:, df.columns != 'Open_AAPL'].shift(1)\n",
    "#--Drop Target Data--\n",
    "df_features = _.drop(columns=target_signal).dropna()\n",
    "del _\n",
    "# Concat df_features and df_target into df_concat\n",
    "df_concat = pd.concat([df_features, df_target], axis=1)"
   ]
  },
  {
   "cell_type": "markdown",
   "metadata": {},
   "source": [
    "Add a Kmeans Clustering categorization, use on df_concat"
   ]
  },
  {
   "cell_type": "code",
   "execution_count": 35,
   "metadata": {
    "ExecuteTime": {
     "end_time": "2020-09-03T07:25:21.084757Z",
     "start_time": "2020-09-03T07:25:20.168617Z"
    },
    "code_folding": []
   },
   "outputs": [
    {
     "name": "stdout",
     "output_type": "stream",
     "text": [
      "Suggested K:  2\n",
      "df_concat \n",
      "\n",
      "Datetime               Open_AAPL    High_AAPL    Low_AAPL    Close_AAPL       Volume_AAPL    Open_SPY    High_SPY    Low_SPY    Close_SPY    Volume_SPY    Returns_SPY    Returns_AAPL    Kmeans\n",
      "-------------------  -----------  -----------  ----------  ------------  ----------------  ----------  ----------  ---------  -----------  ------------  -------------  --------------  --------\n",
      "2020-08-25 09:55:00       123.79       124.28      123.7         123.77       1.50502e+06      343.3       343.3      342.97       342.97        567326   -0.000961721     0.00443388          0\n",
      "2020-08-25 10:00:00       124.32       124.35      123.75        124.32       1.06775e+06      342.98      343.37     342.89       343.35        436814    0.00110736     -0.00144893          0\n",
      "2020-08-25 10:05:00       124.13       124.34      124.02        124.14  616367                343.36      343.36     342.95       343.12        570134   -0.000670095    -0.00524978          0\n",
      "2020-08-25 10:10:00       123.49       124.25      123.43        123.49       1.23063e+06      343.12      343.15     342.54       342.59        683699   -0.00154584     -0.000323965         0\n",
      "2020-08-25 10:15:00       123.45       123.62      123.05        123.45       1.4067e+06       342.6       342.77     342.51       342.66        420120    0.000204305     0.00258879          0\n"
     ]
    }
   ],
   "source": [
    "# 'K' Optimiztion\n",
    "sil = [] # To store silhouette score\n",
    "kmax = 10\n",
    "kmin = 2\n",
    "for k in range(kmin, kmax+1):\n",
    "    kmean = KMeans(n_clusters = k).fit(df_concat)\n",
    "    labels = kmean.labels_\n",
    "    sil.append(silhouette_score(df_concat, labels, metric = 'euclidean'))\n",
    "_ = pd.Series(sil[kmin:], index = range(kmin, kmax-(kmin-1)))\n",
    "optimized_k = _[_ == _.max()].index[0]\n",
    "print('Suggested K: ', optimized_k)\n",
    "\n",
    "# Kmeans cluster creation\n",
    "kmean = KMeans(n_clusters=optimized_k)\n",
    "kmean.fit(df_concat)\n",
    "labels = pd.Series(kmean.labels_, index = df_concat.index) # Extract labels\n",
    "df_concat['Kmeans'] = labels # Add new column to df_concat\n",
    "print('df_concat', '\\n')\n",
    "print(tabulate(df_concat.head(), headers='keys'))"
   ]
  },
  {
   "cell_type": "markdown",
   "metadata": {},
   "source": [
    "## Post Selection Manipulation"
   ]
  },
  {
   "cell_type": "code",
   "execution_count": 36,
   "metadata": {
    "ExecuteTime": {
     "end_time": "2020-09-03T07:25:21.708810Z",
     "start_time": "2020-09-03T07:25:21.684812Z"
    },
    "code_folding": [
     22,
     28
    ]
   },
   "outputs": [],
   "source": [
    "# Shift Data\n",
    "#--Target Data\n",
    "df_target = df_concat[target_signal]\n",
    "#--Features Data\n",
    "features = features\n",
    "df_features = df_concat[features]\n",
    "# Convert to Numpy Arrays\n",
    "#--Features Data\n",
    "x_data = df_features.values\n",
    "#--Target Data\n",
    "y_data = df_target[['Returns_AAPL']].values\n",
    "# Number of observations in the dataset\n",
    "num_data = len(x_data)\n",
    "# Train-test split\n",
    "train_split = 0.05\n",
    "num_train = int(train_split * num_data)\n",
    "num_test = num_data - num_train\n",
    "#--Split data\n",
    "#---Features Data\n",
    "num_x_signals = x_data.shape[1]\n",
    "x_train = x_data[:num_train]\n",
    "x_test = x_data[num_train:]\n",
    "if len(x_train) + len(x_test) == num_data:\n",
    "    pass\n",
    "#---Target Data\n",
    "num_y_signals = y_data.shape[1]\n",
    "y_train = y_data[:num_train]\n",
    "y_test = y_data[num_train:]\n",
    "if len(y_train) + len(y_test) == num_data:\n",
    "    pass"
   ]
  },
  {
   "cell_type": "markdown",
   "metadata": {},
   "source": [
    "# Scale Data"
   ]
  },
  {
   "cell_type": "code",
   "execution_count": 37,
   "metadata": {
    "ExecuteTime": {
     "end_time": "2020-09-03T07:25:35.755623Z",
     "start_time": "2020-09-03T07:25:35.739622Z"
    },
    "code_folding": []
   },
   "outputs": [],
   "source": [
    "# Scaler for input data\n",
    "x_scaler = variables['x_scaler']\n",
    "x_train_scaled = x_scaler.fit_transform(x_train)\n",
    "x_test_scaled = x_scaler.fit_transform(x_test)"
   ]
  },
  {
   "cell_type": "code",
   "execution_count": 38,
   "metadata": {
    "ExecuteTime": {
     "end_time": "2020-09-03T07:25:50.653414Z",
     "start_time": "2020-09-03T07:25:50.645431Z"
    },
    "code_folding": []
   },
   "outputs": [],
   "source": [
    "# Scaler for output data\n",
    "y_scaler = variables['y_scaler']\n",
    "y_train_scaled = y_scaler.fit_transform(y_train)\n",
    "y_test_scaled = y_scaler.fit_transform(y_test)"
   ]
  },
  {
   "cell_type": "markdown",
   "metadata": {},
   "source": [
    "# Load Model"
   ]
  },
  {
   "cell_type": "code",
   "execution_count": 39,
   "metadata": {
    "ExecuteTime": {
     "end_time": "2020-09-03T07:25:54.723298Z",
     "start_time": "2020-09-03T07:25:52.386253Z"
    },
    "code_folding": []
   },
   "outputs": [],
   "source": [
    "model = load_model('RNN_AAPL-5min.h5')"
   ]
  },
  {
   "cell_type": "markdown",
   "metadata": {},
   "source": [
    "# Predict Future"
   ]
  },
  {
   "cell_type": "code",
   "execution_count": 166,
   "metadata": {
    "ExecuteTime": {
     "end_time": "2020-09-02T17:10:43.110966Z",
     "start_time": "2020-09-02T17:10:42.948645Z"
    },
    "code_folding": [
     0
    ],
    "deletable": false,
    "editable": false,
    "run_control": {
     "frozen": true
    }
   },
   "outputs": [],
   "source": [
    "# Merge Data\n",
    "start_date = '2020-08-25'\n",
    "start_time = '09:00'\n",
    "end_time = '16:00'\n",
    "df = pd.merge(df_aapl.between_time(start_time, end_time).loc[start_date:].drop(columns=['Close', 'Dividends', 'Stock Splits']),\n",
    "                    df_spy.between_time(start_time, end_time).loc[start_date:].drop(columns=['Close', 'Dividends', 'Stock Splits']),\n",
    "                    left_index=True, right_index=True\n",
    "                    )\n",
    "df.rename(columns={'Open_x': 'Open_AAPL', 'High_x': 'High_AAPL', 'Low_x': 'Low_AAPL', 'Adj Close_x': 'Close_AAPL', \n",
    "                         'Volume_x': 'Volume_AAPL', 'Open_y': 'Open_SPY', 'High_y': 'High_SPY', 'Low_y': 'Low_SPY', \n",
    "                         'Adj Close_y': 'Close_SPY', 'Volume_y': 'Volume_SPY'}, inplace=True)\n",
    "# Include daily returns of stock\n",
    "# Use log return of 1 period before\n",
    "df['Returns_AAPL'] = np.log(df['Close_AAPL'] / df['Close_AAPL'].shift(1))\n",
    "df['Returns_SPY'] = np.log(df['Close_SPY'] / df['Close_SPY'].shift(1))\n",
    "df.dropna(inplace=True)"
   ]
  },
  {
   "cell_type": "markdown",
   "metadata": {},
   "source": [
    "Predict Future"
   ]
  },
  {
   "cell_type": "markdown",
   "metadata": {},
   "source": [
    "## Data Manipulation"
   ]
  },
  {
   "cell_type": "code",
   "execution_count": 41,
   "metadata": {
    "ExecuteTime": {
     "end_time": "2020-09-03T07:26:01.881556Z",
     "start_time": "2020-09-03T07:26:01.849633Z"
    },
    "code_folding": [
     0
    ]
   },
   "outputs": [
    {
     "name": "stdout",
     "output_type": "stream",
     "text": [
      "                          Volume_AAPL    Volume_SPY    Returns_SPY    Open_AAPL    Low_AAPL\n",
      "-------------------  ----------------  ------------  -------------  -----------  ----------\n",
      "2020-09-02 13:50:00  346014                   92638    0.000252373       130.89      131.21\n",
      "2020-09-02 13:55:00  946271                  245242   -0.000560915       131.06      130.75\n",
      "2020-09-02 14:00:00  967346                   63858    0.000112208       131.01      130.9\n",
      "2020-09-02 14:05:00       1.13435e+06        851529   -0.000813795       130.97      130.51\n",
      "2020-09-02 14:10:00  861425                  412043    0.000252628       130.97      130.85\n"
     ]
    }
   ],
   "source": [
    "# Data Manipulation for future prediction\n",
    "#--Get shifted Data\n",
    "shifted_data = pd.DataFrame(df.iloc[-1, :][features]).T# Since all features are shifted data so there is need to further process this\n",
    "#--Fix Future Dating\n",
    "_ = df_features.index[-1] + timedelta(minutes=5)\n",
    "shifted_data.index = [_] # Add as index\n",
    "del _\n",
    "#--Add future features\n",
    "df_features_future = df_features.append(shifted_data)\n",
    "print(tabulate(df_features_future.tail(), headers='keys'))"
   ]
  },
  {
   "cell_type": "markdown",
   "metadata": {},
   "source": [
    "## Prediction"
   ]
  },
  {
   "cell_type": "code",
   "execution_count": 42,
   "metadata": {
    "ExecuteTime": {
     "end_time": "2020-09-03T07:26:08.021542Z",
     "start_time": "2020-09-03T07:26:06.377461Z"
    },
    "code_folding": [
     2
    ],
    "scrolled": false
   },
   "outputs": [
    {
     "data": {
      "image/png": "[encoded data removed]",
      "text/plain": [
       "<Figure size 1080x360 with 1 Axes>"
      ]
     },
     "metadata": {
      "needs_background": "dark"
     },
     "output_type": "display_data"
    }
   ],
   "source": [
    "# Prediction\n",
    "warmup_steps= 50\n",
    "def predict_future(df_futures_feature=df_features_future,\n",
    "                   start_idx=0,\n",
    "                   length=100,\n",
    "                   num_test=num_test):\n",
    "    x_test_scaled = x_scaler.transform(\n",
    "        df_features_future.iloc[-(num_test + 1):, :])\n",
    "    x = x_test_scaled\n",
    "    y_true = y_test\n",
    "    # End-index for the sequences.\n",
    "    end_idx = start_idx + length\n",
    "    # Select the sequences from the given start-index and\n",
    "    # of the given length.\n",
    "    x = x[start_idx:end_idx]\n",
    "    y_true = y_true[start_idx:end_idx]\n",
    "    # Input-signals for the model.\n",
    "    x = np.expand_dims(x, axis=0)\n",
    "    # Use the model to predict the output-signals.\n",
    "    y_pred = model.predict(x)\n",
    "    # The output of the model is between 0 and 1.\n",
    "    # Do an inverse map to get it back to the scale\n",
    "    # of the original data-set.\n",
    "    y_pred_rescaled = y_scaler.inverse_transform(y_pred[0])\n",
    "    # For each output-signal.\n",
    "    for signal in range(len(target_signal)):\n",
    "        # Get the output-signal predicted by the model.\n",
    "        signal_pred = y_pred_rescaled[:, signal]\n",
    "        # Get the true output-signal from the data-set.\n",
    "        signal_true = y_true[:, signal]\n",
    "        # Make the plotting-canvas bigger.\n",
    "        plt.figure(figsize=(15, 5))\n",
    "        # Plot and compare the two signals.\n",
    "        plt.plot(signal_true, label='true')\n",
    "        plt.plot(signal_pred, label='pred')\n",
    "        # Plot grey box for warmup-period.\n",
    "        p = plt.axvspan(0, warmup_steps, facecolor='black', alpha=0.15)\n",
    "        # Plot labels etc.\n",
    "        plt.ylabel(target_signal[signal])\n",
    "        plt.legend()\n",
    "        plt.show()\n",
    "        return y_true, y_pred_rescaled\n",
    "true_future, predict_future = predict_future(df_futures_feature=df_features_future, start_idx=0, length=1000)"
   ]
  },
  {
   "cell_type": "code",
   "execution_count": 43,
   "metadata": {
    "ExecuteTime": {
     "end_time": "2020-09-03T07:26:08.565437Z",
     "start_time": "2020-09-03T07:26:08.413436Z"
    },
    "code_folding": [
     0
    ]
   },
   "outputs": [
    {
     "name": "stdout",
     "output_type": "stream",
     "text": [
      "df_result_future \n",
      "\n",
      "                True    Predictions    Price_True    Price_Predictions    Price_Diff\n",
      "-----  -------------  -------------  ------------  -------------------  ------------\n",
      "count  495             495              495                  495          495\n",
      "mean     0.000117031    -0.0139225      127.878              126.094        1.78448\n",
      "std      0.00337979      0.00183292       3.16735              3.05313      0.459351\n",
      "min     -0.0329506      -0.0188275      123.59               122.025       -2.70218\n",
      "25%     -0.000954026    -0.0149878      125.445              123.725        1.59647\n",
      "50%      0              -0.0141588      126.24               124.446        1.79565\n",
      "75%      0.00121061     -0.0133861      130.575              128.664        1.98568\n",
      "max      0.0274327       0.00172373     135.27               133.21         4.65575\n"
     ]
    }
   ],
   "source": [
    "# Compile Results\n",
    "df_result_future = pd.DataFrame([true_future[:, 0], predict_future[:, 0]],\n",
    "                                index=['True', 'Predictions']).T\n",
    "#--Convert to Price\n",
    "price_pred = []\n",
    "for i in range(num_test + 1):\n",
    "    price = np.exp(df_result_future['Predictions']\n",
    "                   [i]) * df['Close_AAPL'].iloc[-(num_test + 1 - i)]\n",
    "    price_pred.append(price)\n",
    "df_result_future.index = df_features_future.iloc[-(num_test + 1):, :].index\n",
    "df_result_future['Price_True'] = np.append(\n",
    "    df['Close_AAPL'].iloc[-(num_test):].values, 0)\n",
    "df_result_future['Price_Predictions'] = price_pred\n",
    "df_result_future['Price_Predictions'] = df_result_future['Price_Predictions']\n",
    "df_result_future['Price_Diff'] = (df_result_future['Price_True'] -\n",
    "                                  df_result_future['Price_Predictions'])\n",
    "df_result_future.fillna(0, inplace=True)\n",
    "print('df_result_future', '\\n')\n",
    "print(tabulate(df_result_future.iloc[:-1, :].describe(), headers='keys'))"
   ]
  },
  {
   "cell_type": "code",
   "execution_count": 44,
   "metadata": {
    "ExecuteTime": {
     "end_time": "2020-09-03T07:26:17.666990Z",
     "start_time": "2020-09-03T07:26:10.551400Z"
    },
    "code_folding": [
     0,
     31
    ]
   },
   "outputs": [
    {
     "name": "stdout",
     "output_type": "stream",
     "text": [
      "df_result_future \n",
      "\n",
      "                True    Predictions    Price_True    Price_Predictions    Price_Diff\n",
      "-----  -------------  -------------  ------------  -------------------  ------------\n",
      "count  495             495              495                  495        495\n",
      "mean     0.000117031    -0.0139225      127.878              127.872      0.00655926\n",
      "std      0.00337979      0.00183292       3.16735              3.09618    0.453667\n",
      "min     -0.0329506      -0.0188275      123.59               123.745     -4.55016\n",
      "25%     -0.000954026    -0.0149878      125.445              125.469     -0.16305\n",
      "50%      0              -0.0141588      126.24               126.2        0.0426145\n",
      "75%      0.00121061     -0.0133861      130.575              130.478      0.202929\n",
      "max      0.0274327       0.00172373     135.27               135.089      2.86118\n"
     ]
    }
   ],
   "source": [
    "# Compile Results\n",
    "df_result_future = pd.DataFrame([true_future[:, 0], predict_future[:, 0]],\n",
    "                                index=['True', 'Predictions']).T\n",
    "#--Convert to Price\n",
    "price_pred = []\n",
    "for i in range(num_test + 1):\n",
    "    price = np.exp(df_result_future['Predictions']\n",
    "                   [i]) * df['Close_AAPL'].iloc[-(num_test + 1 - i)]\n",
    "    price_pred.append(price)\n",
    "df_result_future.index = df_features_future.iloc[-(num_test + 1):, :].index\n",
    "df_result_future['Price_True'] = np.append(\n",
    "    df['Close_AAPL'].iloc[-(num_test):].values, 0)\n",
    "df_result_future['Price_Predictions'] = price_pred\n",
    "#--Find the optimal constant to adjust prediction\n",
    "_constant = []\n",
    "for x in np.arange(0.8, 1.2000, step=0.0001):\n",
    "    adj_price = df_result_future['Price_Predictions'][:-1] * x\n",
    "    _diff = df_result_future['Price_True'][:-1] - adj_price\n",
    "    _constant.append((x, _diff[:-1].mean()))\n",
    "_constant = pd.DataFrame(_constant)\n",
    "\n",
    "\n",
    "#---Write Function to find nearest value\n",
    "def find_nearest(array, value):\n",
    "    array = np.asarray(array)\n",
    "    idx = (np.abs(array - value)).argmin()\n",
    "    return idx, array[idx]\n",
    "\n",
    "#--Add the adjusted Price_Predictions to the df_result_future\n",
    "idx_constant, nearest_value = find_nearest(_constant[1], 0)\n",
    "constant = _constant[0][idx_constant]\n",
    "df_result_future[\n",
    "    'Price_Predictions'] = df_result_future['Price_Predictions'] * constant\n",
    "df_result_future['Price_Diff'] = (df_result_future['Price_True'] -\n",
    "                                  df_result_future['Price_Predictions'])\n",
    "print('df_result_future', '\\n')\n",
    "print(tabulate(df_result_future.iloc[:-1, :].describe(), headers='keys'))"
   ]
  },
  {
   "cell_type": "code",
   "execution_count": 45,
   "metadata": {
    "ExecuteTime": {
     "end_time": "2020-09-03T07:26:18.466915Z",
     "start_time": "2020-09-03T07:26:18.170943Z"
    },
    "code_folding": [
     0
    ]
   },
   "outputs": [
    {
     "data": {
      "image/png": "[encoded data removed]",
      "text/plain": [
       "<Figure size 432x288 with 1 Axes>"
      ]
     },
     "metadata": {
      "needs_background": "dark"
     },
     "output_type": "display_data"
    }
   ],
   "source": [
    "# Plot Price Prediction\n",
    "plt.plot(df_result_future['Price_True'].iloc[:-1,], label='True', alpha=1)\n",
    "plt.plot(df_result_future['Price_Predictions'], label='Predictions', alpha=3, ls=\":\", color='red')\n",
    "plt.title('True Price vs Prediction Price')\n",
    "plt.legend()\n",
    "plt.show()"
   ]
  },
  {
   "cell_type": "markdown",
   "metadata": {},
   "source": [
    "# Prediction"
   ]
  },
  {
   "cell_type": "code",
   "execution_count": 46,
   "metadata": {
    "ExecuteTime": {
     "end_time": "2020-09-03T07:26:30.765541Z",
     "start_time": "2020-09-03T07:26:30.749528Z"
    },
    "code_folding": [],
    "scrolled": true
   },
   "outputs": [
    {
     "name": "stdout",
     "output_type": "stream",
     "text": [
      "Predictor Feature: Volume_AAPL, Volume_SPY, Returns_SPY, Open_AAPL, Low_AAPL\n",
      "One Step Ahead result is 131.07392338448292\n"
     ]
    }
   ],
   "source": [
    "# StatJement\n",
    "print('Predictor Feature: ' + ', '.join(features))\n",
    "print('One Step Ahead result is', df_result_future['Price_Predictions'][-1])"
   ]
  },
  {
   "cell_type": "code",
   "execution_count": 47,
   "metadata": {
    "ExecuteTime": {
     "end_time": "2020-09-03T07:26:31.786058Z",
     "start_time": "2020-09-03T07:26:31.778057Z"
    },
    "code_folding": [],
    "scrolled": false
   },
   "outputs": [
    {
     "name": "stdout",
     "output_type": "stream",
     "text": [
      "R2 score Price Prediction:  97.95 %\n"
     ]
    }
   ],
   "source": [
    "# Prediction R2 score\n",
    "r2 = round(\n",
    "    r2_score(df_result_future['Price_True'].iloc[:-1],\n",
    "             df_result_future['Price_Predictions'].iloc[:-1]) * 100, 2)\n",
    "print('R2 score Price Prediction: ', r2, '%')"
   ]
  },
  {
   "cell_type": "code",
   "execution_count": 48,
   "metadata": {
    "ExecuteTime": {
     "end_time": "2020-09-03T07:26:33.029151Z",
     "start_time": "2020-09-03T07:26:32.973171Z"
    }
   },
   "outputs": [
    {
     "name": "stdout",
     "output_type": "stream",
     "text": [
      "                              True    Predictions    Price_True    Price_Predictions    Price_Diff\n",
      "-------------------  -------------  -------------  ------------  -------------------  ------------\n",
      "2020-09-02 13:50:00   -0.00297177      -0.0160089        131.04              131.166    -0.126433\n",
      "2020-09-02 13:55:00   -0.000152637     -0.0153157        131.02              130.868     0.152101\n",
      "2020-09-02 14:00:00   -0.000305344     -0.015038         130.98              130.884     0.0957341\n",
      "2020-09-02 14:05:00    0.00106829      -0.0141601        131.12              130.959     0.160769\n",
      "2020-09-02 14:10:00  nan               -0.014353           0                 131.074  -131.074\n"
     ]
    }
   ],
   "source": [
    "# Result\n",
    "print(tabulate(df_result_future.tail(), headers='keys'))"
   ]
  },
  {
   "cell_type": "code",
   "execution_count": 49,
   "metadata": {
    "ExecuteTime": {
     "end_time": "2020-09-03T07:26:35.104033Z",
     "start_time": "2020-09-03T07:26:35.096030Z"
    }
   },
   "outputs": [],
   "source": [
    "df_result_future['True_Dir'] = df_result_future['Price_True'] - df_result_future['Price_True'].shift(1) \n",
    "df_result_future['Predict_Dir'] = df_result_future['Price_Predictions'] - df_result_future['Price_True'].shift(1) "
   ]
  },
  {
   "cell_type": "code",
   "execution_count": 50,
   "metadata": {
    "ExecuteTime": {
     "end_time": "2020-09-03T07:26:36.178626Z",
     "start_time": "2020-09-03T07:26:36.162598Z"
    }
   },
   "outputs": [],
   "source": [
    "conditions = [\n",
    "    (df_result_future['True_Dir'] * df_result_future['Predict_Dir'] > 0),\n",
    "    (df_result_future['True_Dir'] * df_result_future['Predict_Dir'] < 0),\n",
    "    ]\n",
    "choices = [1, 0]\n"
   ]
  },
  {
   "cell_type": "code",
   "execution_count": 51,
   "metadata": {
    "ExecuteTime": {
     "end_time": "2020-09-03T07:26:36.966194Z",
     "start_time": "2020-09-03T07:26:36.950198Z"
    }
   },
   "outputs": [],
   "source": [
    "df_result_future['Dir'] = np.select(conditions, choices, default=0)"
   ]
  }
 ],
 "metadata": {
  "kernelspec": {
   "display_name": "Python 3",
   "language": "python",
   "name": "python3"
  },
  "language_info": {
   "codemirror_mode": {
    "name": "ipython",
    "version": 3
   },
   "file_extension": ".py",
   "mimetype": "text/x-python",
   "name": "python",
   "nbconvert_exporter": "python",
   "pygments_lexer": "ipython3",
   "version": "3.7.4"
  },
  "toc": {
   "base_numbering": 1,
   "nav_menu": {},
   "number_sections": false,
   "sideBar": true,
   "skip_h1_title": false,
   "title_cell": "Table of Contents",
   "title_sidebar": "Contents",
   "toc_cell": false,
   "toc_position": {
    "height": "calc(100% - 180px)",
    "left": "10px",
    "top": "150px",
    "width": "384px"
   },
   "toc_section_display": true,
   "toc_window_display": true
  },
  "varInspector": {
   "cols": {
    "lenName": 16,
    "lenType": 16,
    "lenVar": 40
   },
   "kernels_config": {
    "python": {
     "delete_cmd_postfix": "",
     "delete_cmd_prefix": "del ",
     "library": "var_list.py",
     "varRefreshCmd": "print(var_dic_list())"
    },
    "r": {
     "delete_cmd_postfix": ") ",
     "delete_cmd_prefix": "rm(",
     "library": "var_list.r",
     "varRefreshCmd": "cat(var_dic_list()) "
    }
   },
   "types_to_exclude": [
    "module",
    "function",
    "builtin_function_or_method",
    "instance",
    "_Feature"
   ],
   "window_display": false
  }
 },
 "nbformat": 4,
 "nbformat_minor": 2
}
