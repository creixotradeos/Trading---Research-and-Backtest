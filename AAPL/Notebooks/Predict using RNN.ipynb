{
 "cells": [
  {
   "cell_type": "markdown",
   "metadata": {
    "heading_collapsed": true
   },
   "source": [
    "# Libraries"
   ]
  },
  {
   "cell_type": "code",
   "execution_count": 1,
   "metadata": {
    "ExecuteTime": {
     "end_time": "2020-08-27T07:33:34.738236Z",
     "start_time": "2020-08-27T07:32:22.014036Z"
    },
    "code_folding": [],
    "hidden": true
   },
   "outputs": [],
   "source": [
    "# Basics\n",
    "%matplotlib inline\n",
    "import matplotlib.pyplot as plt\n",
    "import tensorflow as tf\n",
    "import numpy as np\n",
    "import pandas as pd\n",
    "import os\n",
    "from sklearn.preprocessing import MinMaxScaler\n",
    "from pathlib import Path\n",
    "import os\n",
    "from jupyterthemes import jtplot\n",
    "jtplot.style(theme='onedork')\n",
    "from sklearn.metrics import r2_score\n",
    "from sklearn.metrics import mean_squared_error\n",
    "from tabulate import tabulate\n",
    "import warnings\n",
    "warnings.filterwarnings('ignore')\n",
    "from datetime import datetime  \n",
    "from datetime import timedelta \n",
    "from scipy import stats"
   ]
  },
  {
   "cell_type": "code",
   "execution_count": 2,
   "metadata": {
    "ExecuteTime": {
     "end_time": "2020-08-27T07:33:34.800216Z",
     "start_time": "2020-08-27T07:33:34.743230Z"
    },
    "code_folding": [],
    "hidden": true
   },
   "outputs": [],
   "source": [
    "# Keras\n",
    "from tensorflow.keras.models import Sequential\n",
    "from tensorflow.keras.layers import Input, Dense, GRU, Embedding\n",
    "from tensorflow.keras.optimizers import RMSprop\n",
    "from tensorflow.keras.callbacks import EarlyStopping, ModelCheckpoint, TensorBoard, ReduceLROnPlateau\n",
    "from tensorflow.keras.backend import square, mean"
   ]
  },
  {
   "cell_type": "code",
   "execution_count": 3,
   "metadata": {
    "ExecuteTime": {
     "end_time": "2020-08-27T07:33:48.851336Z",
     "start_time": "2020-08-27T07:33:34.808194Z"
    },
    "hidden": true
   },
   "outputs": [],
   "source": [
    "# K means\n",
    "from sklearn.cluster import KMeans\n",
    "from sklearn.metrics import silhouette_score"
   ]
  },
  {
   "cell_type": "code",
   "execution_count": 4,
   "metadata": {
    "ExecuteTime": {
     "end_time": "2020-08-27T07:33:50.850080Z",
     "start_time": "2020-08-27T07:33:48.856335Z"
    },
    "hidden": true
   },
   "outputs": [],
   "source": [
    "# Misc\n",
    "from sklearn import preprocessing, metrics\n",
    "from sklearn.ensemble import ExtraTreesClassifier\n",
    "import seaborn as sns\n",
    "from sklearn.datasets import load_digits\n",
    "from sklearn.feature_selection import SelectKBest, chi2"
   ]
  },
  {
   "cell_type": "markdown",
   "metadata": {
    "heading_collapsed": true
   },
   "source": [
    "# Load Data"
   ]
  },
  {
   "cell_type": "code",
   "execution_count": 5,
   "metadata": {
    "ExecuteTime": {
     "end_time": "2020-08-27T07:33:51.840508Z",
     "start_time": "2020-08-27T07:33:50.853060Z"
    },
    "code_folding": [],
    "hidden": true,
    "scrolled": true
   },
   "outputs": [
    {
     "name": "stdout",
     "output_type": "stream",
     "text": [
      "['AAPL-15min.csv', 'AAPL-1d.csv', 'AAPL-1min.csv', 'AAPL-1mo.csv', 'AAPL-1wk.csv', 'AAPL-2min.csv', 'AAPL-30min.csv', 'AAPL-3mo.csv', 'AAPL-5d.csv', 'AAPL-5min.csv', 'AAPL-60min.csv', 'AAPL-90min.csv', 'Extract_Indicator-Results.csv', 'welele', 'WilliamR-Results.csv'] \n",
      "\n",
      "Date                   Open    High    Low    Close    Adj Close       Volume    Dividends    Stock Splits\n",
      "-------------------  ------  ------  -----  -------  -----------  -----------  -----------  --------------\n",
      "1980-12-12 00:00:00    0.51    0.52   0.51     0.51         0.4   1.17258e+08            0               0\n",
      "1980-12-15 00:00:00    0.49    0.49   0.49     0.49         0.38  4.39712e+07            0               0\n",
      "1980-12-16 00:00:00    0.45    0.45   0.45     0.45         0.36  2.6432e+07             0               0\n",
      "1980-12-17 00:00:00    0.46    0.46   0.46     0.46         0.36  2.16104e+07            0               0\n",
      "1980-12-18 00:00:00    0.48    0.48   0.48     0.48         0.38  1.83624e+07            0               0\n"
     ]
    }
   ],
   "source": [
    "# Datapath AAPL\n",
    "os.chdir('C:\\\\Users\\\\asus\\\\Documents\\\\Python Projects\\\\Trading - Research and Backtest\\\\AAPL')\n",
    "datapath = os.getcwd() + '\\\\Databases\\\\'\n",
    "files = []\n",
    "for (dirpath, dirnames, filenames) in os.walk(datapath):\n",
    "    files.extend(filenames)\n",
    "    break\n",
    "print(files, '\\n')\n",
    "df_aapl = pd.read_csv(datapath+'AAPL-1d.csv', parse_dates=True, index_col='Date')\n",
    "print(tabulate(df_aapl.head(), headers='keys'))"
   ]
  },
  {
   "cell_type": "code",
   "execution_count": 6,
   "metadata": {
    "ExecuteTime": {
     "end_time": "2020-08-27T07:33:51.997143Z",
     "start_time": "2020-08-27T07:33:51.844505Z"
    },
    "code_folding": [
     0
    ],
    "hidden": true
   },
   "outputs": [
    {
     "name": "stdout",
     "output_type": "stream",
     "text": [
      "['SPY-15min.csv', 'SPY-1d.csv', 'SPY-1min.csv', 'SPY-1mo.csv', 'SPY-1wk.csv', 'SPY-2min.csv', 'SPY-30min.csv', 'SPY-3mo.csv', 'SPY-5d.csv', 'SPY-5min.csv', 'SPY-60min.csv', 'SPY-90min.csv'] \n",
      "\n",
      "Date                   Open    High    Low    Close    Adj Close           Volume    Dividends    Stock Splits\n",
      "-------------------  ------  ------  -----  -------  -----------  ---------------  -----------  --------------\n",
      "1993-01-29 00:00:00   43.97   43.97  43.75    43.94        26.18       1.0032e+06            0               0\n",
      "1993-02-01 00:00:00   43.97   44.25  43.97    44.25        26.37  480500                     0               0\n",
      "1993-02-02 00:00:00   44.22   44.38  44.12    44.34        26.43  201300                     0               0\n",
      "1993-02-03 00:00:00   44.41   44.84  44.38    44.81        26.71  529400                     0               0\n",
      "1993-02-04 00:00:00   44.97   45.09  44.47    45           26.82  531500                     0               0\n"
     ]
    }
   ],
   "source": [
    "# Datapath SPY\n",
    "os.chdir('C:\\\\Users\\\\asus\\\\Documents\\\\Python Projects\\\\Trading - Research and Backtest\\\\SPY')\n",
    "datapath = os.getcwd() + '\\\\Databases\\\\'\n",
    "files = []\n",
    "for (dirpath, dirnames, filenames) in os.walk(datapath):\n",
    "    files.extend(filenames)\n",
    "    break\n",
    "print(files, '\\n')\n",
    "df_spy = pd.read_csv(datapath+'SPY-1d.csv', parse_dates=True, index_col='Date')\n",
    "print(tabulate(df_spy.head(), headers='keys'))"
   ]
  },
  {
   "cell_type": "code",
   "execution_count": 7,
   "metadata": {
    "ExecuteTime": {
     "end_time": "2020-08-27T07:33:53.000883Z",
     "start_time": "2020-08-27T07:33:52.001143Z"
    },
    "code_folding": [],
    "hidden": true
   },
   "outputs": [
    {
     "name": "stdout",
     "output_type": "stream",
     "text": [
      "df \n",
      "\n",
      "Date                   Open_AAPL    High_AAPL    Low_AAPL    Close_AAPL    Volume_AAPL    Open_SPY    High_SPY    Low_SPY    Close_SPY    Volume_SPY\n",
      "-------------------  -----------  -----------  ----------  ------------  -------------  ----------  ----------  ---------  -----------  ------------\n",
      "2018-01-02 00:00:00       170.16       172.3       169.26        166.05    2.55559e+07      267.84      268.81     267.4        256.22   8.66557e+07\n",
      "2018-01-03 00:00:00       172.53       174.55      171.96        166.03    2.95179e+07      268.96      270.64     268.96       257.84   9.00704e+07\n",
      "2018-01-04 00:00:00       172.54       173.47      172.08        166.8     2.24346e+07      271.2       272.16     270.54       258.92   8.06364e+07\n",
      "2018-01-05 00:00:00       173.44       175.37      173.05        168.7     2.366e+07        272.51      273.56     271.95       260.65   8.3524e+07\n",
      "2018-01-08 00:00:00       174.35       175.61      173.93        168.07    2.05678e+07      273.31      274.1      272.98       261.13   5.73192e+07\n"
     ]
    }
   ],
   "source": [
    "# Merge Data\n",
    "df = pd.merge(df_aapl.loc['2018-01-01':'2020-08-23'].drop(columns=['Close', 'Dividends', 'Stock Splits']),\n",
    "                    df_spy.loc['2018-01-01':'2020-08-23'].drop(columns=['Close', 'Dividends', 'Stock Splits']),\n",
    "                    left_index=True, right_index=True\n",
    "                    )\n",
    "df.rename(columns={'Open_x': 'Open_AAPL', 'High_x': 'High_AAPL', 'Low_x': 'Low_AAPL', 'Adj Close_x': 'Close_AAPL', \n",
    "                         'Volume_x': 'Volume_AAPL', 'Open_y': 'Open_SPY', 'High_y': 'High_SPY', 'Low_y': 'Low_SPY', \n",
    "                         'Adj Close_y': 'Close_SPY', 'Volume_y': 'Volume_SPY'}, inplace=True)\n",
    "print('df', '\\n')\n",
    "print(tabulate(df.head(), headers='keys'))"
   ]
  },
  {
   "cell_type": "markdown",
   "metadata": {},
   "source": [
    "# Data Manipulation"
   ]
  },
  {
   "cell_type": "code",
   "execution_count": 8,
   "metadata": {
    "ExecuteTime": {
     "end_time": "2020-08-27T07:33:53.837853Z",
     "start_time": "2020-08-27T07:33:53.008862Z"
    },
    "code_folding": [
     0
    ]
   },
   "outputs": [
    {
     "name": "stdout",
     "output_type": "stream",
     "text": [
      "df\n",
      "\n",
      "Date                   Open_AAPL    High_AAPL    Low_AAPL    Close_AAPL    Volume_AAPL    Open_SPY    High_SPY    Low_SPY    Close_SPY    Volume_SPY    Returns_AAPL    Returns_SPY\n",
      "-------------------  -----------  -----------  ----------  ------------  -------------  ----------  ----------  ---------  -----------  ------------  --------------  -------------\n",
      "2018-01-03 00:00:00       172.53       174.55      171.96        166.03    2.95179e+07      268.96      270.64     268.96       257.84   9.00704e+07    -0.000120453     0.00630279\n",
      "2018-01-04 00:00:00       172.54       173.47      172.08        166.8     2.24346e+07      271.2       272.16     270.54       258.92   8.06364e+07     0.004627        0.0041799\n",
      "2018-01-05 00:00:00       173.44       175.37      173.05        168.7     2.366e+07        272.51      273.56     271.95       260.65   8.3524e+07      0.0113265       0.00665938\n",
      "2018-01-08 00:00:00       174.35       175.61      173.93        168.07    2.05678e+07      273.31      274.1      272.98       261.13   5.73192e+07    -0.00374143      0.00183986\n",
      "2018-01-09 00:00:00       174.55       175.06      173.41        168.05    2.1584e+07       274.4       275.25     274.08       261.72   5.7254e+07     -0.000119005     0.00225686\n"
     ]
    }
   ],
   "source": [
    "# Include daily returns of stock\n",
    "# Use log return of 1 period before\n",
    "df['Returns_AAPL'] = np.log(df['Close_AAPL'] / df['Close_AAPL'].shift(1))\n",
    "df['Returns_SPY'] = np.log(df['Close_SPY'] / df['Close_SPY'].shift(1))\n",
    "df.dropna(inplace=True)\n",
    "print('df''\\n')\n",
    "print(tabulate(df.head(), headers='keys'))"
   ]
  },
  {
   "cell_type": "code",
   "execution_count": 9,
   "metadata": {
    "ExecuteTime": {
     "end_time": "2020-08-27T07:33:53.849848Z",
     "start_time": "2020-08-27T07:33:53.843852Z"
    },
    "code_folding": [
     0
    ]
   },
   "outputs": [],
   "source": [
    "# Target\n",
    "target_signal = ['Returns_AAPL']"
   ]
  },
  {
   "cell_type": "code",
   "execution_count": 10,
   "metadata": {
    "ExecuteTime": {
     "end_time": "2020-08-27T07:33:54.272595Z",
     "start_time": "2020-08-27T07:33:53.853845Z"
    },
    "code_folding": [
     0
    ],
    "scrolled": false
   },
   "outputs": [
    {
     "name": "stdout",
     "output_type": "stream",
     "text": [
      "Target Data  663 \n",
      " Date                   Returns_AAPL\n",
      "-------------------  --------------\n",
      "2018-01-04 00:00:00     0.004627\n",
      "2018-01-05 00:00:00     0.0113265\n",
      "2018-01-08 00:00:00    -0.00374143\n",
      "2018-01-09 00:00:00    -0.000119005\n",
      "2018-01-10 00:00:00    -0.000238053\n",
      "\n",
      "\n",
      "Features Data  663 \n",
      " Date                   Open_AAPL    High_AAPL    Low_AAPL    Close_AAPL    Volume_AAPL    Open_SPY    High_SPY    Low_SPY    Close_SPY    Volume_SPY    Returns_SPY\n",
      "-------------------  -----------  -----------  ----------  ------------  -------------  ----------  ----------  ---------  -----------  ------------  -------------\n",
      "2018-01-04 00:00:00       172.54       174.55      171.96        166.03    2.95179e+07      268.96      270.64     268.96       257.84   9.00704e+07     0.00630279\n",
      "2018-01-05 00:00:00       173.44       173.47      172.08        166.8     2.24346e+07      271.2       272.16     270.54       258.92   8.06364e+07     0.0041799\n",
      "2018-01-08 00:00:00       174.35       175.37      173.05        168.7     2.366e+07        272.51      273.56     271.95       260.65   8.3524e+07      0.00665938\n",
      "2018-01-09 00:00:00       174.55       175.61      173.93        168.07    2.05678e+07      273.31      274.1      272.98       261.13   5.73192e+07     0.00183986\n",
      "2018-01-10 00:00:00       173.16       175.06      173.41        168.05    2.1584e+07       274.4       275.25     274.08       261.72   5.7254e+07      0.00225686\n"
     ]
    }
   ],
   "source": [
    "# Shift Data\n",
    "df_target = df[target_signal].iloc[1:, :] # Target Data is not shifted\n",
    "print('Target Data ',len(df_target), '\\n', tabulate(df_target.head(), headers='keys'))\n",
    "print('\\n')\n",
    "# Shift Features Data:\n",
    "#--Shift everything except Opening Price--\n",
    "_ = df.copy()\n",
    "_.loc[:, df.columns != 'Open_AAPL'] = _.loc[:, df.columns != 'Open_AAPL'].shift(1)\n",
    "#--Drop Target Data--\n",
    "df_features = _.drop(columns=target_signal).dropna()\n",
    "del _\n",
    "print('Features Data ',len(df_features), '\\n', tabulate(df_features.head(), headers='keys'))"
   ]
  },
  {
   "cell_type": "code",
   "execution_count": 11,
   "metadata": {
    "ExecuteTime": {
     "end_time": "2020-08-27T07:33:54.290620Z",
     "start_time": "2020-08-27T07:33:54.274559Z"
    },
    "code_folding": []
   },
   "outputs": [
    {
     "name": "stdout",
     "output_type": "stream",
     "text": [
      "df_concat \n",
      "\n",
      "Date                   Open_AAPL    High_AAPL    Low_AAPL    Close_AAPL    Volume_AAPL    Open_SPY    High_SPY    Low_SPY    Close_SPY    Volume_SPY    Returns_SPY    Returns_AAPL\n",
      "-------------------  -----------  -----------  ----------  ------------  -------------  ----------  ----------  ---------  -----------  ------------  -------------  --------------\n",
      "2018-01-04 00:00:00       172.54       174.55      171.96        166.03    2.95179e+07      268.96      270.64     268.96       257.84   9.00704e+07     0.00630279     0.004627\n",
      "2018-01-05 00:00:00       173.44       173.47      172.08        166.8     2.24346e+07      271.2       272.16     270.54       258.92   8.06364e+07     0.0041799      0.0113265\n",
      "2018-01-08 00:00:00       174.35       175.37      173.05        168.7     2.366e+07        272.51      273.56     271.95       260.65   8.3524e+07      0.00665938    -0.00374143\n",
      "2018-01-09 00:00:00       174.55       175.61      173.93        168.07    2.05678e+07      273.31      274.1      272.98       261.13   5.73192e+07     0.00183986    -0.000119005\n",
      "2018-01-10 00:00:00       173.16       175.06      173.41        168.05    2.1584e+07       274.4       275.25     274.08       261.72   5.7254e+07      0.00225686    -0.000238053\n"
     ]
    }
   ],
   "source": [
    "# Concat df_features and df_target into df_concat\n",
    "df_concat = pd.concat([df_features, df_target], axis=1)\n",
    "print('df_concat', '\\n')\n",
    "print(tabulate(df_concat.head(), headers='keys'))"
   ]
  },
  {
   "cell_type": "markdown",
   "metadata": {},
   "source": [
    "Add a Kmeans Clustering categorization, use on df_concat"
   ]
  },
  {
   "cell_type": "code",
   "execution_count": 12,
   "metadata": {
    "ExecuteTime": {
     "end_time": "2020-08-27T07:33:58.304590Z",
     "start_time": "2020-08-27T07:33:54.292545Z"
    },
    "code_folding": []
   },
   "outputs": [
    {
     "name": "stdout",
     "output_type": "stream",
     "text": [
      "Suggested K:  2\n"
     ]
    }
   ],
   "source": [
    "# 'K' Optimiztion\n",
    "sil = [] # To store silhouette score\n",
    "kmax = 10\n",
    "kmin = 2\n",
    "for k in range(kmin, kmax+1):\n",
    "    kmean = KMeans(n_clusters = k).fit(df_concat)\n",
    "    labels = kmean.labels_\n",
    "    sil.append(silhouette_score(df_concat, labels, metric = 'euclidean'))\n",
    "_ = pd.Series(sil[kmin:], index = range(kmin, kmax-(kmin-1)))\n",
    "optimized_k = _[_ == _.max()].index[0]\n",
    "print('Suggested K: ', optimized_k)"
   ]
  },
  {
   "cell_type": "code",
   "execution_count": 13,
   "metadata": {
    "ExecuteTime": {
     "end_time": "2020-08-27T07:33:58.438515Z",
     "start_time": "2020-08-27T07:33:58.309588Z"
    },
    "code_folding": [
     0
    ]
   },
   "outputs": [
    {
     "name": "stdout",
     "output_type": "stream",
     "text": [
      "df_concat \n",
      "\n",
      "Date                   Open_AAPL    High_AAPL    Low_AAPL    Close_AAPL    Volume_AAPL    Open_SPY    High_SPY    Low_SPY    Close_SPY    Volume_SPY    Returns_SPY    Returns_AAPL    Kmeans\n",
      "-------------------  -----------  -----------  ----------  ------------  -------------  ----------  ----------  ---------  -----------  ------------  -------------  --------------  --------\n",
      "2018-01-04 00:00:00       172.54       174.55      171.96        166.03    2.95179e+07      268.96      270.64     268.96       257.84   9.00704e+07     0.00630279     0.004627            0\n",
      "2018-01-05 00:00:00       173.44       173.47      172.08        166.8     2.24346e+07      271.2       272.16     270.54       258.92   8.06364e+07     0.0041799      0.0113265           0\n",
      "2018-01-08 00:00:00       174.35       175.37      173.05        168.7     2.366e+07        272.51      273.56     271.95       260.65   8.3524e+07      0.00665938    -0.00374143          0\n",
      "2018-01-09 00:00:00       174.55       175.61      173.93        168.07    2.05678e+07      273.31      274.1      272.98       261.13   5.73192e+07     0.00183986    -0.000119005         0\n",
      "2018-01-10 00:00:00       173.16       175.06      173.41        168.05    2.1584e+07       274.4       275.25     274.08       261.72   5.7254e+07      0.00225686    -0.000238053         0\n"
     ]
    }
   ],
   "source": [
    "# Kmeans cluster creation\n",
    "kmean = KMeans(n_clusters=optimized_k)\n",
    "kmean.fit(df_concat)\n",
    "labels = pd.Series(kmean.labels_, index = df_concat.index) # Extract labels\n",
    "df_concat['Kmeans'] = labels # Add new column to df_concat\n",
    "print('df_concat', '\\n')\n",
    "print(tabulate(df_concat.head(), headers='keys'))"
   ]
  },
  {
   "cell_type": "markdown",
   "metadata": {},
   "source": [
    "## Features Selection"
   ]
  },
  {
   "cell_type": "code",
   "execution_count": 14,
   "metadata": {
    "ExecuteTime": {
     "end_time": "2020-08-27T07:33:58.659416Z",
     "start_time": "2020-08-27T07:33:58.445510Z"
    },
    "code_folding": [
     0,
     3
    ]
   },
   "outputs": [],
   "source": [
    "# Encode Data\n",
    "# Data has to be coded for the algorithm to work\n",
    "df_coded = df_concat.copy() # Make a copy of dataset\n",
    "for column in df_coded.columns:\n",
    "    encode = preprocessing.LabelEncoder() # Individual column encoder\n",
    "    df_coded[column] = encode.fit_transform(df_coded[column]) # Encode column, replace df_coded with coded data"
   ]
  },
  {
   "cell_type": "markdown",
   "metadata": {},
   "source": [
    "### SelectKBest Features Selection"
   ]
  },
  {
   "cell_type": "code",
   "execution_count": 15,
   "metadata": {
    "ExecuteTime": {
     "end_time": "2020-08-27T07:33:59.836478Z",
     "start_time": "2020-08-27T07:33:58.665412Z"
    },
    "code_folding": [
     0
    ]
   },
   "outputs": [
    {
     "name": "stdout",
     "output_type": "stream",
     "text": [
      "SelectKBest: featureScores \n",
      "\n",
      "    Features       Scores\n",
      "--  -----------  --------\n",
      " 9  Volume_SPY    73372\n",
      "10  Returns_SPY   73173.1\n",
      " 4  Volume_AAPL   72938.1\n",
      " 3  Close_AAPL    71865.8\n",
      " 2  Low_AAPL      71366.9\n"
     ]
    }
   ],
   "source": [
    "# Apply SelectKBest class to extract features\n",
    "\"\"\"SelectKBest\n",
    "Choose features with highest scores_ and lowest p-value\n",
    "\"\"\"\n",
    "#--How many features\n",
    "k = 5\n",
    "bestfeatures = SelectKBest(score_func=chi2, k=k)\n",
    "#--Train Model (Features, Target)\n",
    "fit = bestfeatures.fit(df_coded.drop(columns=target_signal),\n",
    "                       df_coded[target_signal])\n",
    "#--Turns scores into a DataFrame\n",
    "dfscores = pd.DataFrame(fit.scores_, columns=['Scores'])\n",
    "#--Features name into a DataFrame\n",
    "dfcolumns = pd.DataFrame(df_coded.drop(columns=target_signal).columns,\n",
    "                         columns=['Features'])\n",
    "#--Concat two dataframes for better visualization\n",
    "featureScores = pd.concat([dfcolumns, dfscores], axis=1)\n",
    "print('SelectKBest: featureScores', '\\n')\n",
    "print(tabulate(featureScores.nlargest(k, 'Scores'), headers='keys'))"
   ]
  },
  {
   "cell_type": "markdown",
   "metadata": {},
   "source": [
    "### ExtraTreesClassifier Features Selection"
   ]
  },
  {
   "cell_type": "code",
   "execution_count": 16,
   "metadata": {
    "ExecuteTime": {
     "end_time": "2020-08-27T07:34:07.636190Z",
     "start_time": "2020-08-27T07:33:59.840471Z"
    },
    "code_folding": [
     0,
     7
    ],
    "scrolled": false
   },
   "outputs": [
    {
     "name": "stdout",
     "output_type": "stream",
     "text": [
      "feat_importances \n",
      "\n"
     ]
    },
    {
     "data": {
      "image/png": "[encoded data removed]",
      "text/plain": [
       "<Figure size 432x288 with 1 Axes>"
      ]
     },
     "metadata": {
      "needs_background": "dark"
     },
     "output_type": "display_data"
    }
   ],
   "source": [
    "# Apply ExtraTreesClassifier class to extract features\n",
    "store_importances = []\n",
    "#--Repeat Classifier\n",
    "for x in range(20):\n",
    "    #--Build Model\n",
    "    extra_tree_forest = ExtraTreesClassifier(criterion='entropy')\n",
    "    #--Train model (Features, Target)\n",
    "    extra_tree_forest.fit(df_coded.drop(columns=target_signal),\n",
    "                          df_coded[target_signal])\n",
    "    #--Computing & Normalizing the individual importances\n",
    "    feat_importance = np.std([tree.feature_importances_ for tree in extra_tree_forest.estimators_], \\\n",
    "                                         axis=0)\n",
    "    #--Store results\n",
    "    store_importances.append(feat_importance)\n",
    "#--Plot graph of feature importances for better visualization\n",
    "feat_importances = pd.Series(\n",
    "    pd.DataFrame(store_importances).mean())\n",
    "feat_importances.index = df_coded.drop(columns=target_signal).columns\n",
    "print('feat_importances', '\\n')\n",
    "plt.barh(feat_importances.sort_values().index,\n",
    "         feat_importances.sort_values().values)\n",
    "plt.title('Comparison of different Feature Importances')\n",
    "plt.show()"
   ]
  },
  {
   "cell_type": "markdown",
   "metadata": {},
   "source": [
    "### Correlation HeatMap"
   ]
  },
  {
   "cell_type": "code",
   "execution_count": 17,
   "metadata": {
    "ExecuteTime": {
     "end_time": "2020-08-27T07:34:08.965740Z",
     "start_time": "2020-08-27T07:34:07.640188Z"
    },
    "code_folding": [
     0
    ]
   },
   "outputs": [
    {
     "data": {
      "image/png": "[encoded data removed]",
      "text/plain": [
       "<Figure size 720x720 with 2 Axes>"
      ]
     },
     "metadata": {
      "needs_background": "dark"
     },
     "output_type": "display_data"
    }
   ],
   "source": [
    "# Get correlations of each features in dataset\n",
    "corrmat = df_concat.corr()\n",
    "top_corr_features = corrmat.index\n",
    "# Plot heat map\n",
    "f, ax = plt.subplots(figsize=(10, 10))\n",
    "sns.heatmap(corrmat[target_signal].sort_values(by=target_signal, ascending=False), annot=True, cmap=\"RdYlGn\")\n",
    "bottom, top = ax.get_ylim()\n",
    "ax.set_ylim(bottom + 0.5, top - 0.5)\n",
    "plt.show()"
   ]
  },
  {
   "cell_type": "markdown",
   "metadata": {},
   "source": [
    "## Post Selection Manipulation"
   ]
  },
  {
   "cell_type": "code",
   "execution_count": 18,
   "metadata": {
    "ExecuteTime": {
     "end_time": "2020-08-27T07:34:09.005716Z",
     "start_time": "2020-08-27T07:34:08.970736Z"
    },
    "code_folding": [
     3,
     11
    ]
   },
   "outputs": [
    {
     "name": "stdout",
     "output_type": "stream",
     "text": [
      "Target Data  663 \n",
      " Date                   Returns_AAPL\n",
      "-------------------  --------------\n",
      "2018-01-04 00:00:00     0.004627\n",
      "2018-01-05 00:00:00     0.0113265\n",
      "2018-01-08 00:00:00    -0.00374143\n",
      "2018-01-09 00:00:00    -0.000119005\n",
      "2018-01-10 00:00:00    -0.000238053\n",
      "\n",
      "\n",
      "Features Data  663 \n",
      " Date                   Volume_SPY    Returns_SPY    Volume_AAPL    Close_AAPL    High_AAPL\n",
      "-------------------  ------------  -------------  -------------  ------------  -----------\n",
      "2018-01-04 00:00:00   9.00704e+07     0.00630279    2.95179e+07        166.03       174.55\n",
      "2018-01-05 00:00:00   8.06364e+07     0.0041799     2.24346e+07        166.8        173.47\n",
      "2018-01-08 00:00:00   8.3524e+07      0.00665938    2.366e+07          168.7        175.37\n",
      "2018-01-09 00:00:00   5.73192e+07     0.00183986    2.05678e+07        168.07       175.61\n",
      "2018-01-10 00:00:00   5.7254e+07      0.00225686    2.1584e+07         168.05       175.06\n"
     ]
    }
   ],
   "source": [
    "# Shift Data\n",
    "#--Target Data\n",
    "df_target = df_concat[target_signal]\n",
    "print('Target Data ', len(df_target), '\\n',\n",
    "      tabulate(df_target.head(), headers='keys'))\n",
    "print('\\n')\n",
    "#--Features Data\n",
    "features = [\n",
    "    'Volume_SPY', 'Returns_SPY', 'Volume_AAPL', 'Close_AAPL', 'High_AAPL'\n",
    "]\n",
    "df_features = df_concat[features]\n",
    "print('Features Data ', len(df_features), '\\n',\n",
    "      tabulate(df_features.head(), headers='keys'))"
   ]
  },
  {
   "cell_type": "code",
   "execution_count": 19,
   "metadata": {
    "ExecuteTime": {
     "end_time": "2020-08-27T07:34:11.805657Z",
     "start_time": "2020-08-27T07:34:09.009714Z"
    },
    "code_folding": [
     0
    ]
   },
   "outputs": [
    {
     "name": "stdout",
     "output_type": "stream",
     "text": [
      "Features Data to array  <class 'numpy.ndarray'> (663, 5)\n",
      "Target Data to array  <class 'numpy.ndarray'> (663, 1)\n"
     ]
    }
   ],
   "source": [
    "# Convert to Numpy Arrays\n",
    "#--Features Data\n",
    "x_data = df_features.values\n",
    "print('Features Data to array ', type(x_data), x_data.shape)\n",
    "#--Target Data\n",
    "y_data = df_target[['Returns_AAPL']].values\n",
    "print('Target Data to array ', type(y_data), y_data.shape)"
   ]
  },
  {
   "cell_type": "code",
   "execution_count": 20,
   "metadata": {
    "ExecuteTime": {
     "end_time": "2020-08-27T07:34:11.987948Z",
     "start_time": "2020-08-27T07:34:11.808658Z"
    },
    "code_folding": [
     0
    ]
   },
   "outputs": [
    {
     "name": "stdout",
     "output_type": "stream",
     "text": [
      "Number of observation in the dataset:  663 data-points\n"
     ]
    }
   ],
   "source": [
    "# Number of observations in the dataset\n",
    "num_data = len(x_data)\n",
    "print('Number of observation in the dataset: ', num_data, 'data-points')"
   ]
  },
  {
   "cell_type": "code",
   "execution_count": 21,
   "metadata": {
    "ExecuteTime": {
     "end_time": "2020-08-27T07:34:12.240715Z",
     "start_time": "2020-08-27T07:34:11.991949Z"
    },
    "code_folding": [
     0
    ]
   },
   "outputs": [
    {
     "name": "stdout",
     "output_type": "stream",
     "text": [
      "Number of observations in the training set:  530 data-points\n",
      "Number of observations in the testing set:  133 data-points\n",
      "Total Features:  5 features\n",
      "Features Data Split Done\n",
      "Total Target:  1 target\n",
      "Target Data Split Done\n"
     ]
    }
   ],
   "source": [
    "# Train-test split\n",
    "train_split = 0.8\n",
    "num_train = int(train_split * num_data)\n",
    "print('Number of observations in the training set: ', num_train, 'data-points')\n",
    "num_test = num_data - num_train\n",
    "print('Number of observations in the testing set: ', num_test, 'data-points')\n",
    "#--Split data\n",
    "#---Features Data\n",
    "num_x_signals = x_data.shape[1]\n",
    "print('Total Features: ', num_x_signals, 'features')\n",
    "x_train = x_data[:num_train]\n",
    "x_test = x_data[num_train:]\n",
    "if len(x_train) + len(x_test) == num_data:\n",
    "    print('Features Data Split Done')\n",
    "    pass\n",
    "#---Target Data\n",
    "num_y_signals = y_data.shape[1]\n",
    "print('Total Target: ', num_y_signals, 'target')\n",
    "y_train = y_data[:num_train]\n",
    "y_test = y_data[num_train:]\n",
    "if len(y_train) + len(y_test) == num_data:\n",
    "    print('Target Data Split Done')\n",
    "    pass"
   ]
  },
  {
   "cell_type": "markdown",
   "metadata": {},
   "source": [
    "# Scale Data"
   ]
  },
  {
   "cell_type": "code",
   "execution_count": 22,
   "metadata": {
    "ExecuteTime": {
     "end_time": "2020-08-27T07:34:12.569208Z",
     "start_time": "2020-08-27T07:34:12.243712Z"
    },
    "code_folding": [
     0
    ],
    "scrolled": true
   },
   "outputs": [
    {
     "name": "stdout",
     "output_type": "stream",
     "text": [
      "Max value  392220700.0\n",
      "Min value  -0.12\n"
     ]
    }
   ],
   "source": [
    "# Dataset min. & max. values\n",
    "print('Max value ', round(np.max(x_data), 2))\n",
    "print('Min value ', round(np.min(x_data), 2))"
   ]
  },
  {
   "cell_type": "code",
   "execution_count": 23,
   "metadata": {
    "ExecuteTime": {
     "end_time": "2020-08-27T07:34:12.799250Z",
     "start_time": "2020-08-27T07:34:12.581206Z"
    }
   },
   "outputs": [],
   "source": [
    "# Scaler for input data\n",
    "x_scaler = MinMaxScaler()\n",
    "x_train_scaled = x_scaler.fit_transform(x_train)\n",
    "x_test_scaled = x_scaler.fit_transform(x_test)"
   ]
  },
  {
   "cell_type": "code",
   "execution_count": 24,
   "metadata": {
    "ExecuteTime": {
     "end_time": "2020-08-27T07:34:12.999338Z",
     "start_time": "2020-08-27T07:34:12.805245Z"
    },
    "code_folding": []
   },
   "outputs": [],
   "source": [
    "# Scaler for output data\n",
    "y_scaler = MinMaxScaler()\n",
    "y_train_scaled = y_scaler.fit_transform(y_train)\n",
    "y_test_scaled = y_scaler.fit_transform(y_test)"
   ]
  },
  {
   "cell_type": "code",
   "execution_count": 25,
   "metadata": {
    "ExecuteTime": {
     "end_time": "2020-08-27T07:34:13.210291Z",
     "start_time": "2020-08-27T07:34:13.002338Z"
    }
   },
   "outputs": [
    {
     "name": "stdout",
     "output_type": "stream",
     "text": [
      "Input shape  (530, 5)\n",
      "Output shape  (530, 1)\n"
     ]
    }
   ],
   "source": [
    "# Array shapes of input and output data\n",
    "print('Input shape ', x_train_scaled.shape)\n",
    "print('Output shape ', y_train_scaled.shape)"
   ]
  },
  {
   "cell_type": "markdown",
   "metadata": {},
   "source": [
    "# Data Generator"
   ]
  },
  {
   "cell_type": "markdown",
   "metadata": {},
   "source": [
    "Instead of training the Recurrent Neural Network on the complete sequences of almost 300k observations, we will use the following function to create a batch of shorter sub-sequences picked at random from the training-data."
   ]
  },
  {
   "cell_type": "code",
   "execution_count": 26,
   "metadata": {
    "ExecuteTime": {
     "end_time": "2020-08-27T07:34:13.502445Z",
     "start_time": "2020-08-27T07:34:13.215269Z"
    },
    "code_folding": [
     0
    ]
   },
   "outputs": [],
   "source": [
    "def batch_generator(batch_size, sequence_length):\n",
    "    \"\"\"\n",
    "    Generator function for creating random batches of training-data.\n",
    "    \"\"\"\n",
    "\n",
    "    # Infinite loop.\n",
    "    while True:\n",
    "        # Allocate a new array for the batch of input-signals.\n",
    "        x_shape = (batch_size, sequence_length, num_x_signals)\n",
    "        x_batch = np.zeros(shape=x_shape, dtype=np.float16)\n",
    "\n",
    "        # Allocate a new array for the batch of output-signals.\n",
    "        y_shape = (batch_size, sequence_length, num_y_signals)\n",
    "        y_batch = np.zeros(shape=y_shape, dtype=np.float16)\n",
    "\n",
    "        # Fill the batch with random sequences of data.\n",
    "        for i in range(batch_size):\n",
    "            # Get a random start-index.\n",
    "            # This points somewhere into the training-data.\n",
    "            idx = np.random.randint(num_train - sequence_length)\n",
    "            \n",
    "            # Copy the sequences of data starting at this index.\n",
    "            x_batch[i] = x_train_scaled[idx:idx+sequence_length]\n",
    "            y_batch[i] = y_train_scaled[idx:idx+sequence_length]\n",
    "        \n",
    "        yield (x_batch, y_batch)"
   ]
  },
  {
   "cell_type": "code",
   "execution_count": 27,
   "metadata": {
    "ExecuteTime": {
     "end_time": "2020-08-27T07:34:13.724670Z",
     "start_time": "2020-08-27T07:34:13.505426Z"
    },
    "code_folding": []
   },
   "outputs": [
    {
     "name": "stdout",
     "output_type": "stream",
     "text": [
      "Input Data shape:  (200, 200, 5)\n",
      "Output Data shape:  (200, 200, 1)\n",
      "There are  200  sequences & each has  200  observations with  5  inputs and  1  outputs\n"
     ]
    }
   ],
   "source": [
    "# Generate Data\n",
    "batch_size = 200\n",
    "sequence_length = 200\n",
    "generator = batch_generator(batch_size=batch_size, sequence_length=sequence_length)\n",
    "x_batch, y_batch = next(generator)\n",
    "print('Input Data shape: ', x_batch.shape)\n",
    "print('Output Data shape: ', y_batch.shape)\n",
    "print('There are ', batch_size, ' sequences & each has ', sequence_length, ' observations with ',\n",
    "      num_x_signals, ' inputs and ', num_y_signals, ' outputs')"
   ]
  },
  {
   "cell_type": "markdown",
   "metadata": {},
   "source": [
    "# Validation Set"
   ]
  },
  {
   "cell_type": "markdown",
   "metadata": {},
   "source": [
    "The neural network trains quickly so we can easily run many training epochs. But then there is a risk of overfitting the model to the training-set so it does not generalize well to unseen data. We will therefore monitor the model's performance on the test-set after each epoch and only save the model's weights if the performance is improved on the test-set.\n",
    "\n",
    "The batch-generator randomly selects a batch of short sequences from the training-data and uses that during training. But for the validation-data we will instead run through the entire sequence from the test-set and measure the prediction accuracy on that entire sequence."
   ]
  },
  {
   "cell_type": "code",
   "execution_count": 28,
   "metadata": {
    "ExecuteTime": {
     "end_time": "2020-08-27T07:34:13.910060Z",
     "start_time": "2020-08-27T07:34:13.731663Z"
    },
    "code_folding": [
     0
    ]
   },
   "outputs": [],
   "source": [
    "# Create a valudation data\n",
    "validation_data = (np.expand_dims(x_test_scaled,\n",
    "                                  axis=0), np.expand_dims(y_test_scaled,\n",
    "                                                          axis=0))"
   ]
  },
  {
   "cell_type": "markdown",
   "metadata": {},
   "source": [
    "# Create RNN"
   ]
  },
  {
   "cell_type": "markdown",
   "metadata": {},
   "source": [
    "We are now ready to create the Recurrent Neural Network (RNN). We will use the Keras API for this because of its simplicity. See Tutorial #03-C for a tutorial on Keras and Tutorial #20 for more information on Recurrent Neural Networks.`"
   ]
  },
  {
   "cell_type": "code",
   "execution_count": 29,
   "metadata": {
    "ExecuteTime": {
     "end_time": "2020-08-27T07:34:15.045003Z",
     "start_time": "2020-08-27T07:34:13.914040Z"
    }
   },
   "outputs": [],
   "source": [
    "# Create model\n",
    "model = Sequential()"
   ]
  },
  {
   "cell_type": "markdown",
   "metadata": {},
   "source": [
    "We can now add a Gated Recurrent Unit (GRU) to the network. This will have 512 outputs for each time-step in the sequence.\n",
    "\n",
    "Note that because this is the first layer in the model, Keras needs to know the shape of its input, which is a batch of sequences of arbitrary length (indicated by None), where each observation has a number of input-signals (num_x_signals)."
   ]
  },
  {
   "cell_type": "code",
   "execution_count": 30,
   "metadata": {
    "ExecuteTime": {
     "end_time": "2020-08-27T07:34:16.612121Z",
     "start_time": "2020-08-27T07:34:15.050000Z"
    }
   },
   "outputs": [
    {
     "name": "stdout",
     "output_type": "stream",
     "text": [
      "WARNING:tensorflow:From C:\\Users\\asus\\Anaconda3\\lib\\site-packages\\tensorflow\\python\\ops\\init_ops.py:1251: calling VarianceScaling.__init__ (from tensorflow.python.ops.init_ops) with dtype is deprecated and will be removed in a future version.\n",
      "Instructions for updating:\n",
      "Call initializer instance with the dtype argument instead of passing it to the constructor\n"
     ]
    }
   ],
   "source": [
    "model.add(GRU(units=216,\n",
    "              return_sequences=True,\n",
    "              input_shape=(None, num_x_signals,)))"
   ]
  },
  {
   "cell_type": "markdown",
   "metadata": {},
   "source": [
    "The GRU outputs a batch of sequences of 512 values. We want to predict 3 output-signals, so we add a fully-connected (or dense) layer which maps 512 values down to only 3 values.\n",
    "\n",
    "The output-signals in the data-set have been limited to be between 0 and 1 using a scaler-object. So we also limit the output of the neural network using the Sigmoid activation function, which squashes the output to be between 0 and 1"
   ]
  },
  {
   "cell_type": "code",
   "execution_count": 31,
   "metadata": {
    "ExecuteTime": {
     "end_time": "2020-08-27T07:34:17.286199Z",
     "start_time": "2020-08-27T07:34:16.616119Z"
    }
   },
   "outputs": [],
   "source": [
    "model.add(Dense(num_y_signals, activation='exponential'))"
   ]
  },
  {
   "cell_type": "markdown",
   "metadata": {},
   "source": [
    "We can use a linear activation function on the output instead. This allows for the output to take on arbitrary values. It might work with the standard initialization for a simple network architecture, but for more complicated network architectures e.g. with more layers, it might be necessary to initialize the weights with smaller values to avoid NaN values during training. You may need to experiment with this to get it working."
   ]
  },
  {
   "cell_type": "code",
   "execution_count": 32,
   "metadata": {
    "ExecuteTime": {
     "end_time": "2020-08-27T07:34:17.307187Z",
     "start_time": "2020-08-27T07:34:17.289197Z"
    },
    "code_folding": [
     0
    ]
   },
   "outputs": [],
   "source": [
    "if False:\n",
    "    from tensorflow.python.keras.initializers import RandomUniform\n",
    "    # Maybe use lower init-ranges.\n",
    "    init = RandomUniform(minval=-0.05, maxval=0.05)\n",
    "\n",
    "    model.add(Dense(num_y_signals,\n",
    "                    activation='linear',\n",
    "                    kernel_initializer=init))"
   ]
  },
  {
   "cell_type": "markdown",
   "metadata": {},
   "source": [
    "# Loss Function"
   ]
  },
  {
   "cell_type": "markdown",
   "metadata": {},
   "source": [
    "We will use Mean Squared Error (MSE) as the loss-function that will be minimized. This measures how closely the model's output matches the true output signals.\n",
    "\n",
    "However, at the beginning of a sequence, the model has only seen input-signals for a few time-steps, so its generated output may be very inaccurate. Using the loss-value for the early time-steps may cause the model to distort its later output. We therefore give the model a \"warmup-period\" of 50 time-steps where we don't use its accuracy in the loss-function, in hope of improving the accuracy for later time-steps."
   ]
  },
  {
   "cell_type": "code",
   "execution_count": 33,
   "metadata": {
    "ExecuteTime": {
     "end_time": "2020-08-27T07:34:17.967222Z",
     "start_time": "2020-08-27T07:34:17.313183Z"
    }
   },
   "outputs": [],
   "source": [
    "warmup_steps = 50"
   ]
  },
  {
   "cell_type": "code",
   "execution_count": 34,
   "metadata": {
    "ExecuteTime": {
     "end_time": "2020-08-27T07:34:18.111317Z",
     "start_time": "2020-08-27T07:34:17.972222Z"
    },
    "code_folding": []
   },
   "outputs": [],
   "source": [
    "def loss_mse_warmup(y_true, y_pred):\n",
    "    \"\"\"\n",
    "    Calculate the Mean Squared Error between y_true and y_pred,\n",
    "    but ignore the beginning \"warmup\" part of the sequences.\n",
    "    \n",
    "    y_true is the desired output.\n",
    "    y_pred is the model's output.\n",
    "    \"\"\"\n",
    "\n",
    "    # The shape of both input tensors are:\n",
    "    # [batch_size, sequence_length, num_y_signals].\n",
    "\n",
    "    # Ignore the \"warmup\" parts of the sequences\n",
    "    # by taking slices of the tensors.\n",
    "    y_true_slice = y_true[:, warmup_steps:, :]\n",
    "    y_pred_slice = y_pred[:, warmup_steps:, :]\n",
    "\n",
    "    # These sliced tensors both have this shape:\n",
    "    # [batch_size, sequence_length - warmup_steps, num_y_signals]\n",
    "\n",
    "    # Calculat the Mean Squared Error and use it as loss.\n",
    "    mse = mean(square(y_true_slice - y_pred_slice))\n",
    "    \n",
    "    return mse"
   ]
  },
  {
   "cell_type": "markdown",
   "metadata": {},
   "source": [
    "# Compile Model"
   ]
  },
  {
   "cell_type": "markdown",
   "metadata": {},
   "source": [
    "This is the optimizer and the beginning learning-rate that we will use."
   ]
  },
  {
   "cell_type": "code",
   "execution_count": 35,
   "metadata": {
    "ExecuteTime": {
     "end_time": "2020-08-27T07:34:18.265020Z",
     "start_time": "2020-08-27T07:34:18.115320Z"
    }
   },
   "outputs": [],
   "source": [
    "optimizer = RMSprop(lr=1e-3)"
   ]
  },
  {
   "cell_type": "markdown",
   "metadata": {},
   "source": [
    "We then compile the Keras model so it is ready for training."
   ]
  },
  {
   "cell_type": "code",
   "execution_count": 36,
   "metadata": {
    "ExecuteTime": {
     "end_time": "2020-08-27T07:34:18.552493Z",
     "start_time": "2020-08-27T07:34:18.268016Z"
    }
   },
   "outputs": [],
   "source": [
    "model.compile(loss=loss_mse_warmup, optimizer=optimizer)"
   ]
  },
  {
   "cell_type": "markdown",
   "metadata": {},
   "source": [
    "This is a very small model with only two layers. The output shape of (None, None, 1) means that the model will output a batch with an arbitrary number of sequences, each of which has an arbitrary number of observations, and each observation has 1 signals. This corresponds to the 1 target signals we want to predict."
   ]
  },
  {
   "cell_type": "code",
   "execution_count": 37,
   "metadata": {
    "ExecuteTime": {
     "end_time": "2020-08-27T07:34:19.937134Z",
     "start_time": "2020-08-27T07:34:18.555277Z"
    }
   },
   "outputs": [
    {
     "name": "stdout",
     "output_type": "stream",
     "text": [
      "Model: \"sequential\"\n",
      "_________________________________________________________________\n",
      "Layer (type)                 Output Shape              Param #   \n",
      "=================================================================\n",
      "gru (GRU)                    (None, None, 216)         143856    \n",
      "_________________________________________________________________\n",
      "dense (Dense)                (None, None, 1)           217       \n",
      "=================================================================\n",
      "Total params: 144,073\n",
      "Trainable params: 144,073\n",
      "Non-trainable params: 0\n",
      "_________________________________________________________________\n"
     ]
    }
   ],
   "source": [
    "model.summary()"
   ]
  },
  {
   "cell_type": "markdown",
   "metadata": {},
   "source": [
    "# Callback Functions"
   ]
  },
  {
   "cell_type": "markdown",
   "metadata": {},
   "source": [
    "During training we want to save checkpoints and log the progress to TensorBoard so we create the appropriate callbacks for Keras.\n",
    "\n",
    "This is the callback for writing checkpoints during training."
   ]
  },
  {
   "cell_type": "code",
   "execution_count": 38,
   "metadata": {
    "ExecuteTime": {
     "end_time": "2020-08-27T07:34:20.142965Z",
     "start_time": "2020-08-27T07:34:19.940112Z"
    }
   },
   "outputs": [],
   "source": [
    "path_checkpoint = '23_checkpoint.keras'\n",
    "callback_checkpoint = ModelCheckpoint(filepath=path_checkpoint,\n",
    "                                      monitor='val_loss',\n",
    "                                      verbose=1,\n",
    "                                      save_weights_only=True,\n",
    "                                      save_best_only=True)"
   ]
  },
  {
   "cell_type": "markdown",
   "metadata": {},
   "source": [
    "This is the callback for stopping the optimization when performance worsens on the validation-set"
   ]
  },
  {
   "cell_type": "code",
   "execution_count": 39,
   "metadata": {
    "ExecuteTime": {
     "end_time": "2020-08-27T07:34:20.438137Z",
     "start_time": "2020-08-27T07:34:20.147964Z"
    }
   },
   "outputs": [],
   "source": [
    "callback_early_stopping = EarlyStopping(monitor='val_loss',\n",
    "                                        patience=5, verbose=1)"
   ]
  },
  {
   "cell_type": "markdown",
   "metadata": {},
   "source": [
    "\n",
    "This is the callback for writing the TensorBoard log during training."
   ]
  },
  {
   "cell_type": "code",
   "execution_count": 40,
   "metadata": {
    "ExecuteTime": {
     "end_time": "2020-08-27T07:34:20.759664Z",
     "start_time": "2020-08-27T07:34:20.441064Z"
    }
   },
   "outputs": [],
   "source": [
    "callback_tensorboard = TensorBoard(log_dir='.\\\\23_logs\\\\',\n",
    "                                   histogram_freq=0,\n",
    "                                   write_graph=False)"
   ]
  },
  {
   "cell_type": "markdown",
   "metadata": {},
   "source": [
    "This callback reduces the learning-rate for the optimizer if the validation-loss has not improved since the last epoch (as indicated by patience=0). The learning-rate will be reduced by multiplying it with the given factor. We set a start learning-rate of 1e-3 above, so multiplying it by 0.1 gives a learning-rate of 1e-4. We don't want the learning-rate to go any lower than this."
   ]
  },
  {
   "cell_type": "code",
   "execution_count": 41,
   "metadata": {
    "ExecuteTime": {
     "end_time": "2020-08-27T07:34:20.966995Z",
     "start_time": "2020-08-27T07:34:20.764658Z"
    }
   },
   "outputs": [],
   "source": [
    "callback_reduce_lr = ReduceLROnPlateau(monitor='val_loss',\n",
    "                                       factor=0.1,\n",
    "                                       min_lr=1e-4,\n",
    "                                       patience=0,\n",
    "                                       verbose=1)"
   ]
  },
  {
   "cell_type": "code",
   "execution_count": 42,
   "metadata": {
    "ExecuteTime": {
     "end_time": "2020-08-27T07:34:21.152781Z",
     "start_time": "2020-08-27T07:34:20.970989Z"
    }
   },
   "outputs": [],
   "source": [
    "callbacks = [callback_early_stopping,\n",
    "             callback_checkpoint,\n",
    "             callback_tensorboard,\n",
    "             callback_reduce_lr]"
   ]
  },
  {
   "cell_type": "markdown",
   "metadata": {
    "deletable": false,
    "editable": false,
    "run_control": {
     "frozen": true
    }
   },
   "source": [
    "# Train the Recurrent Neural Network"
   ]
  },
  {
   "cell_type": "markdown",
   "metadata": {
    "deletable": false,
    "editable": false,
    "run_control": {
     "frozen": true
    }
   },
   "source": [
    "We can now train the neural network.\n",
    "\n",
    "Note that a single \"epoch\" does not correspond to a single processing of the training-set, because of how the batch-generator randomly selects sub-sequences from the training-set. Instead we have selected steps_per_epoch so that one \"epoch\" is processed in a few minutes.\n",
    "\n",
    "With these settings, each \"epoch\" took about 2.5 minutes to process on a GTX 1070. After 14 \"epochs\" the optimization was stopped because the validation-loss had not decreased for 5 \"epochs\". This optimization took about 35 minutes to finish.\n",
    "\n",
    "Also note that the loss sometimes becomes NaN (not-a-number). This is often resolved by restarting and running the Notebook again. But it may also be caused by your neural network architecture, learning-rate, batch-size, sequence-length, etc. in which case you may have to modify those settings."
   ]
  },
  {
   "cell_type": "code",
   "execution_count": 43,
   "metadata": {
    "code_folding": [],
    "deletable": false,
    "editable": false,
    "run_control": {
     "frozen": true
    }
   },
   "outputs": [
    {
     "name": "stdout",
     "output_type": "stream",
     "text": [
      "Epoch 1/10\n",
      "WARNING:tensorflow:From C:\\Users\\asus\\Anaconda3\\lib\\site-packages\\tensorflow\\python\\ops\\math_grad.py:1250: add_dispatch_support.<locals>.wrapper (from tensorflow.python.ops.array_ops) is deprecated and will be removed in a future version.\n",
      "Instructions for updating:\n",
      "Use tf.where in 2.0, which has the same broadcast rule as np.where\n",
      " 99/100 [============================>.] - ETA: 2s - loss: 0.0146\n",
      "Epoch 00001: val_loss improved from inf to 0.00717, saving model to 23_checkpoint.keras\n",
      "100/100 [==============================] - 219s 2s/step - loss: 0.0146 - val_loss: 0.0072\n",
      "Epoch 2/10\n",
      " 99/100 [============================>.] - ETA: 2s - loss: 0.0110\n",
      "Epoch 00002: val_loss improved from 0.00717 to 0.00706, saving model to 23_checkpoint.keras\n",
      "100/100 [==============================] - 236s 2s/step - loss: 0.0110 - val_loss: 0.0071\n",
      "Epoch 3/10\n",
      " 99/100 [============================>.] - ETA: 2s - loss: 0.0092\n",
      "Epoch 00003: val_loss did not improve from 0.00706\n",
      "\n",
      "Epoch 00003: ReduceLROnPlateau reducing learning rate to 0.00010000000474974513.\n",
      "100/100 [==============================] - 247s 2s/step - loss: 0.0092 - val_loss: 0.0080\n",
      "Epoch 4/10\n",
      " 99/100 [============================>.] - ETA: 2s - loss: 0.0078\n",
      "Epoch 00004: val_loss did not improve from 0.00706\n",
      "\n",
      "Epoch 00004: ReduceLROnPlateau reducing learning rate to 0.0001.\n",
      "100/100 [==============================] - 244s 2s/step - loss: 0.0078 - val_loss: 0.0080\n",
      "Epoch 5/10\n",
      " 99/100 [============================>.] - ETA: 2s - loss: 0.0075\n",
      "Epoch 00005: val_loss did not improve from 0.00706\n",
      "100/100 [==============================] - 244s 2s/step - loss: 0.0075 - val_loss: 0.0082\n",
      "Epoch 6/10\n",
      " 99/100 [============================>.] - ETA: 2s - loss: 0.0073\n",
      "Epoch 00006: val_loss did not improve from 0.00706\n",
      "100/100 [==============================] - 247s 2s/step - loss: 0.0073 - val_loss: 0.0085\n",
      "Epoch 7/10\n",
      " 99/100 [============================>.] - ETA: 2s - loss: 0.0072\n",
      "Epoch 00007: val_loss did not improve from 0.00706\n",
      "100/100 [==============================] - 250s 2s/step - loss: 0.0072 - val_loss: 0.0088\n",
      "Epoch 00007: early stopping\n"
     ]
    },
    {
     "data": {
      "text/plain": [
       "<tensorflow.python.keras.callbacks.History at 0x1a71bf9bc88>"
      ]
     },
     "execution_count": 43,
     "metadata": {},
     "output_type": "execute_result"
    }
   ],
   "source": [
    "model.fit(x=generator,\n",
    "          epochs=10,\n",
    "          steps_per_epoch=100,\n",
    "          validation_data=validation_data,\n",
    "          callbacks=callbacks)"
   ]
  },
  {
   "cell_type": "markdown",
   "metadata": {
    "heading_collapsed": true
   },
   "source": [
    "# Load Checkpoint"
   ]
  },
  {
   "cell_type": "code",
   "execution_count": 43,
   "metadata": {
    "ExecuteTime": {
     "end_time": "2020-08-27T07:34:24.705480Z",
     "start_time": "2020-08-27T07:34:21.155781Z"
    },
    "code_folding": [],
    "hidden": true
   },
   "outputs": [],
   "source": [
    "try:\n",
    "    model.load_weights(path_checkpoint)\n",
    "except Exception as error:\n",
    "    print(\"Error trying to load checkpoint.\")\n",
    "    print(error)"
   ]
  },
  {
   "cell_type": "markdown",
   "metadata": {
    "heading_collapsed": true
   },
   "source": [
    "# Performance on Test-Set"
   ]
  },
  {
   "cell_type": "markdown",
   "metadata": {
    "hidden": true
   },
   "source": [
    "We can now evaluate the model's performance on the test-set. This function expects a batch of data, but we will just use one long time-series for the test-set, so we just expand the array-dimensionality to create a batch with that one sequence"
   ]
  },
  {
   "cell_type": "code",
   "execution_count": 44,
   "metadata": {
    "ExecuteTime": {
     "end_time": "2020-08-27T07:34:26.277919Z",
     "start_time": "2020-08-27T07:34:24.708444Z"
    },
    "hidden": true
   },
   "outputs": [
    {
     "name": "stdout",
     "output_type": "stream",
     "text": [
      "\r",
      "1/1 [==============================] - 2s 2s/sample - loss: 0.0071\n"
     ]
    }
   ],
   "source": [
    "result = model.evaluate(x=np.expand_dims(x_test_scaled, axis=0),\n",
    "                        y=np.expand_dims(y_test_scaled, axis=0))"
   ]
  },
  {
   "cell_type": "code",
   "execution_count": 45,
   "metadata": {
    "ExecuteTime": {
     "end_time": "2020-08-27T07:34:26.295906Z",
     "start_time": "2020-08-27T07:34:26.282915Z"
    },
    "hidden": true
   },
   "outputs": [
    {
     "name": "stdout",
     "output_type": "stream",
     "text": [
      "loss (test-set): 0.00705581484362483\n"
     ]
    }
   ],
   "source": [
    "print(\"loss (test-set):\", result)"
   ]
  },
  {
   "cell_type": "code",
   "execution_count": 46,
   "metadata": {
    "ExecuteTime": {
     "end_time": "2020-08-27T07:34:27.104369Z",
     "start_time": "2020-08-27T07:34:26.304900Z"
    },
    "code_folding": [
     0
    ],
    "hidden": true
   },
   "outputs": [],
   "source": [
    "# If you have several metrics you can use this instead.\n",
    "if False:\n",
    "    for res, metric in zip(result, model.metrics_names):\n",
    "        print(\"{0}: {1:.3e}\".format(metric, res))"
   ]
  },
  {
   "cell_type": "markdown",
   "metadata": {},
   "source": [
    "# Generate Predictions"
   ]
  },
  {
   "cell_type": "markdown",
   "metadata": {},
   "source": [
    "This helper-function plots the predicted and true output-signals."
   ]
  },
  {
   "cell_type": "code",
   "execution_count": 47,
   "metadata": {
    "ExecuteTime": {
     "end_time": "2020-08-27T07:34:27.295997Z",
     "start_time": "2020-08-27T07:34:27.107353Z"
    },
    "code_folding": [
     0
    ]
   },
   "outputs": [],
   "source": [
    "def plot_comparison(start_idx, length=100, train=True):\n",
    "    \"\"\"\n",
    "    Plot the predicted and true output-signals.\n",
    "    \n",
    "    :param start_idx: Start-index for the time-series.\n",
    "    :param length: Sequence-length to process and plot.\n",
    "    :param train: Boolean whether to use training- or test-set.\n",
    "    \"\"\"\n",
    "    if train:\n",
    "        # Use training-data.\n",
    "        x = x_train_scaled\n",
    "        y_true = y_train\n",
    "    else:\n",
    "        # Use test-data.\n",
    "        x = x_test_scaled\n",
    "        y_true = y_test\n",
    "    # End-index for the sequences.\n",
    "    end_idx = start_idx + length\n",
    "    # Select the sequences from the given start-index and\n",
    "    # of the given length.\n",
    "    x = x[start_idx:end_idx]\n",
    "    y_true = y_true[start_idx:end_idx]\n",
    "    # Input-signals for the model.\n",
    "    x = np.expand_dims(x, axis=0)\n",
    "    # Use the model to predict the output-signals.\n",
    "    y_pred = model.predict(x)\n",
    "    # The output of the model is between 0 and 1.\n",
    "    # Do an inverse map to get it back to the scale\n",
    "    # of the original data-set.\n",
    "    y_pred_rescaled = y_scaler.inverse_transform(y_pred[0])\n",
    "    # For each output-signal.\n",
    "    for signal in range(len(target_signal)):\n",
    "        # Get the output-signal predicted by the model.\n",
    "        signal_pred = y_pred_rescaled[:, signal]\n",
    "        # Get the true output-signal from the data-set.\n",
    "        signal_true = y_true[:, signal]\n",
    "        # Make the plotting-canvas bigger.\n",
    "        plt.figure(figsize=(15, 5))\n",
    "        # Plot and compare the two signals.\n",
    "        plt.plot(signal_true, label='true')\n",
    "        plt.plot(signal_pred, label='pred')\n",
    "        # Plot grey box for warmup-period.\n",
    "        p = plt.axvspan(0, warmup_steps, facecolor='black', alpha=0.15)\n",
    "        # Plot labels etc.\n",
    "        plt.ylabel(target_signal[signal])\n",
    "        plt.legend()\n",
    "        plt.show()\n",
    "        return y_true, y_pred_rescaled"
   ]
  },
  {
   "cell_type": "code",
   "execution_count": 48,
   "metadata": {
    "ExecuteTime": {
     "end_time": "2020-08-27T07:34:28.041084Z",
     "start_time": "2020-08-27T07:34:27.300994Z"
    }
   },
   "outputs": [
    {
     "data": {
      "image/png": "[encoded data removed]",
      "text/plain": [
       "<Figure size 1080x360 with 1 Axes>"
      ]
     },
     "metadata": {
      "needs_background": "dark"
     },
     "output_type": "display_data"
    }
   ],
   "source": [
    "true, prediction = plot_comparison(start_idx=0, length=num_train, train=False)"
   ]
  },
  {
   "cell_type": "code",
   "execution_count": 49,
   "metadata": {
    "ExecuteTime": {
     "end_time": "2020-08-27T07:34:28.076066Z",
     "start_time": "2020-08-27T07:34:28.046081Z"
    },
    "code_folding": [
     0
    ]
   },
   "outputs": [],
   "source": [
    "# Transfer to DataFrame\n",
    "df_result = pd.DataFrame([true[:, 0], prediction[:, 0]], index=['True', 'Predictions']).T\n",
    "df_result['Difference'] = np.abs(df_result['True']-df_result['Predictions'])"
   ]
  },
  {
   "cell_type": "code",
   "execution_count": 50,
   "metadata": {
    "ExecuteTime": {
     "end_time": "2020-08-27T07:34:28.936204Z",
     "start_time": "2020-08-27T07:34:28.083060Z"
    },
    "code_folding": [
     0
    ]
   },
   "outputs": [
    {
     "name": "stdout",
     "output_type": "stream",
     "text": [
      "               True    Predictions     Difference\n",
      "-----  ------------  -------------  -------------\n",
      "count  133            133           133\n",
      "mean     0.00318411     0.00854025    0.0245786\n",
      "std      0.0340481      0.0138067     0.0262109\n",
      "min     -0.137711      -0.0414664     0.000101212\n",
      "25%     -0.0116641      0.00385469    0.00690515\n",
      "50%      0.00362464     0.0107727     0.0155188\n",
      "75%      0.0208411      0.0160728     0.031545\n",
      "max      0.113173       0.0514885     0.131209\n"
     ]
    }
   ],
   "source": [
    "# Result summary\n",
    "print(tabulate(df_result.describe(), headers='keys'))"
   ]
  },
  {
   "cell_type": "code",
   "execution_count": 51,
   "metadata": {
    "ExecuteTime": {
     "end_time": "2020-08-27T07:34:29.100754Z",
     "start_time": "2020-08-27T07:34:28.940203Z"
    }
   },
   "outputs": [],
   "source": [
    "mean = np.mean(prediction, axis=0).reshape(-1)\n",
    "std = np.std(prediction, axis=0).reshape(-1)\n",
    "lower = np.percentile(prediction, 5, axis=0).reshape(-1)\n",
    "upper = np.percentile(prediction, 95, axis=0).reshape(-1)"
   ]
  },
  {
   "cell_type": "code",
   "execution_count": 52,
   "metadata": {
    "ExecuteTime": {
     "end_time": "2020-08-27T07:34:29.242214Z",
     "start_time": "2020-08-27T07:34:29.103754Z"
    },
    "code_folding": [
     0
    ]
   },
   "outputs": [
    {
     "name": "stdout",
     "output_type": "stream",
     "text": [
      "Root Mean Squared Error:  0.0359\n",
      "R2 Score:  -11.77\n"
     ]
    }
   ],
   "source": [
    "# Metrics\n",
    "rmse = np.round(np.sqrt(mean_squared_error(df_result['True'], df_result['Predictions'])), 4)\n",
    "print('Root Mean Squared Error: ', rmse)\n",
    "r2 = np.round(r2_score(df_result['True'], df_result['Predictions'])*100, 2)\n",
    "print('R2 Score: ', r2)"
   ]
  },
  {
   "cell_type": "code",
   "execution_count": 53,
   "metadata": {
    "ExecuteTime": {
     "end_time": "2020-08-27T07:34:29.433110Z",
     "start_time": "2020-08-27T07:34:29.248192Z"
    },
    "code_folding": [],
    "scrolled": true
   },
   "outputs": [
    {
     "name": "stdout",
     "output_type": "stream",
     "text": [
      "df_result \n",
      "\n",
      "               True    Predictions     Difference    Price_True    Price_Predictions    Price_Diff\n",
      "-----  ------------  -------------  -------------  ------------  -------------------  ------------\n",
      "count  133            133           133                 133                 133        133\n",
      "mean     0.00318411     0.00854025    0.0245786         329.156             331.011      7.61732\n",
      "std      0.0340481      0.0138067     0.0262109          63.006              63.5028     7.49471\n",
      "min     -0.137711      -0.0414664     0.000101212       223.36              217.453      0.0295362\n",
      "25%     -0.0116641      0.00385469    0.00690515        281.9               286.036      2.14008\n",
      "50%      0.00362464     0.0107727     0.0155188         317.57              321.536      5.44315\n",
      "75%      0.0208411      0.0160728     0.031545          370.71              376.276      9.7682\n",
      "max      0.113173       0.0514885     0.131209          497.48              486.094     33.8064\n"
     ]
    }
   ],
   "source": [
    "# Convert to Price\n",
    "price_pred = []\n",
    "for i in range(num_test):\n",
    "    price = np.exp(\n",
    "        df_result['Predictions'][i]) * df['Close_AAPL'].iloc[-(num_test + 1 - i)]\n",
    "    price_pred.append(price)\n",
    "df_result.index = df['Close_AAPL'].iloc[-(num_test):].index\n",
    "df_result['Price_True'] = df['Close_AAPL'].iloc[-(num_test):].values\n",
    "df_result['Price_Predictions'] = price_pred\n",
    "df_result['Price_Diff'] = np.abs(df_result['Price_True'] - df_result['Price_Predictions'])\n",
    "print('df_result', '\\n')\n",
    "print(tabulate(df_result.describe(), headers='keys'))"
   ]
  },
  {
   "cell_type": "code",
   "execution_count": 54,
   "metadata": {
    "ExecuteTime": {
     "end_time": "2020-08-27T07:34:29.904643Z",
     "start_time": "2020-08-27T07:34:29.436108Z"
    },
    "code_folding": [
     0
    ],
    "scrolled": false
   },
   "outputs": [
    {
     "data": {
      "image/png": "[encoded data removed]",
      "text/plain": [
       "<Figure size 432x288 with 1 Axes>"
      ]
     },
     "metadata": {
      "needs_background": "dark"
     },
     "output_type": "display_data"
    }
   ],
   "source": [
    "# Plot Price Prediction on Test Data\n",
    "plt.plot(df_result['Price_True'], label='True')\n",
    "plt.plot(df_result['Price_Predictions'], label='Predictions')\n",
    "plt.title('True Price vs Prediction Price')\n",
    "plt.legend()\n",
    "plt.show()"
   ]
  },
  {
   "cell_type": "code",
   "execution_count": 55,
   "metadata": {
    "ExecuteTime": {
     "end_time": "2020-08-27T07:34:29.934627Z",
     "start_time": "2020-08-27T07:34:29.915641Z"
    },
    "code_folding": [
     0
    ]
   },
   "outputs": [
    {
     "name": "stdout",
     "output_type": "stream",
     "text": [
      "Root Mean Squared Error:  10.6664\n",
      "R2 Score:  97.11\n"
     ]
    }
   ],
   "source": [
    "# Price Predictions Metric\n",
    "rmse = np.round(np.sqrt(mean_squared_error(df_result['Price_True'], df_result['Price_Predictions'])), 4)\n",
    "print('Root Mean Squared Error: ', rmse)\n",
    "r2 = np.round(r2_score(df_result['Price_True'], df_result['Price_Predictions'])*100, 2)\n",
    "print('R2 Score: ', r2)"
   ]
  },
  {
   "cell_type": "markdown",
   "metadata": {},
   "source": [
    "# Predict Future"
   ]
  },
  {
   "cell_type": "markdown",
   "metadata": {},
   "source": [
    "Predict Future"
   ]
  },
  {
   "cell_type": "markdown",
   "metadata": {
    "heading_collapsed": true
   },
   "source": [
    "## Data Manipulation"
   ]
  },
  {
   "cell_type": "code",
   "execution_count": 56,
   "metadata": {
    "ExecuteTime": {
     "end_time": "2020-08-27T07:34:30.114524Z",
     "start_time": "2020-08-27T07:34:29.939624Z"
    },
    "code_folding": [
     0,
     4,
     7
    ],
    "hidden": true
   },
   "outputs": [
    {
     "name": "stdout",
     "output_type": "stream",
     "text": [
      "                       Volume_SPY    Returns_SPY    Volume_AAPL    Close_AAPL    High_AAPL\n",
      "-------------------  ------------  -------------  -------------  ------------  -----------\n",
      "2020-08-18 00:00:00   3.5481e+07      0.00317155    2.98904e+07        458.43       464.35\n",
      "2020-08-19 00:00:00   3.87339e+07     0.00215801    2.64084e+07        462.25       464\n",
      "2020-08-20 00:00:00   6.80542e+07    -0.00417241    3.63845e+07        462.83       468.65\n",
      "2020-08-21 00:00:00   4.22078e+07     0.00310876    3.17268e+07        473.1        473.57\n",
      "2020-08-24 00:00:00   5.51066e+07     0.00354108    8.45137e+07        497.48       499.47\n"
     ]
    }
   ],
   "source": [
    "# Data Manipulation for future prediction\n",
    "#--Get shifted Data\n",
    "shifted_data = pd.DataFrame(df.iloc[-1, :][features]).T# Since all features are shifted data so there is need to further process this\n",
    "#--Fix Future Dating\n",
    "for x in range(1, 10):\n",
    "    # Add days to the last day\n",
    "    _ = df_features.index[-1] + timedelta(days=x)\n",
    "    if _.weekday() < 5: # Repeat until it's working Monday-Friday\n",
    "        break\n",
    "shifted_data.index = [_] # Add as index\n",
    "del _\n",
    "#--Add future features\n",
    "df_features_future = df_features.append(shifted_data)\n",
    "print(tabulate(df_features_future.tail(), headers='keys'))"
   ]
  },
  {
   "cell_type": "markdown",
   "metadata": {},
   "source": [
    "## Prediction"
   ]
  },
  {
   "cell_type": "code",
   "execution_count": 523,
   "metadata": {
    "ExecuteTime": {
     "end_time": "2020-08-27T11:06:09.169723Z",
     "start_time": "2020-08-27T11:06:09.128751Z"
    },
    "code_folding": [
     0
    ]
   },
   "outputs": [],
   "source": [
    "def predict_future(df_futures_feature=df_features_future,\n",
    "                   start_idx=0,\n",
    "                   length=100):\n",
    "    x_test_scaled = x_scaler.transform(\n",
    "        df_features_future.iloc[-(num_test + 1):, :])\n",
    "    x = x_test_scaled\n",
    "    y_true = y_test\n",
    "    # End-index for the sequences.\n",
    "    end_idx = start_idx + length\n",
    "    # Select the sequences from the given start-index and\n",
    "    # of the given length.\n",
    "    x = x[start_idx:end_idx]\n",
    "    y_true = y_true[start_idx:end_idx]\n",
    "    # Input-signals for the model.\n",
    "    x = np.expand_dims(x, axis=0)\n",
    "    # Use the model to predict the output-signals.\n",
    "    y_pred = model.predict(x)\n",
    "    # The output of the model is between 0 and 1.\n",
    "    # Do an inverse map to get it back to the scale\n",
    "    # of the original data-set.\n",
    "    y_pred_rescaled = y_scaler.inverse_transform(y_pred[0])\n",
    "    # For each output-signal.\n",
    "    for signal in range(len(target_signal)):\n",
    "        # Get the output-signal predicted by the model.\n",
    "        signal_pred = y_pred_rescaled[:, signal]\n",
    "        # Get the true output-signal from the data-set.\n",
    "        signal_true = y_true[:, signal]\n",
    "        # Make the plotting-canvas bigger.\n",
    "        plt.figure(figsize=(15, 5))\n",
    "        # Plot and compare the two signals.\n",
    "        plt.plot(signal_true, label='true')\n",
    "        plt.plot(signal_pred, label='pred')\n",
    "        # Plot grey box for warmup-period.\n",
    "        p = plt.axvspan(0, warmup_steps, facecolor='black', alpha=0.15)\n",
    "        # Plot labels etc.\n",
    "        plt.ylabel(target_signal[signal])\n",
    "        plt.legend()\n",
    "        plt.show()\n",
    "        return y_true, y_pred_rescaled"
   ]
  },
  {
   "cell_type": "code",
   "execution_count": 524,
   "metadata": {
    "ExecuteTime": {
     "end_time": "2020-08-27T11:06:11.865859Z",
     "start_time": "2020-08-27T11:06:11.400126Z"
    },
    "code_folding": [
     0
    ],
    "scrolled": false
   },
   "outputs": [
    {
     "data": {
      "image/png": "[encoded data removed]",
      "text/plain": [
       "<Figure size 1080x360 with 1 Axes>"
      ]
     },
     "metadata": {
      "needs_background": "dark"
     },
     "output_type": "display_data"
    }
   ],
   "source": [
    "# Prediction\n",
    "true_future, predict_future = predict_future(df_futures_feature=df_features_future, start_idx=0, length=1000)"
   ]
  },
  {
   "cell_type": "code",
   "execution_count": 440,
   "metadata": {
    "ExecuteTime": {
     "end_time": "2020-08-27T10:25:43.892025Z",
     "start_time": "2020-08-27T10:25:43.811091Z"
    },
    "code_folding": [],
    "deletable": false,
    "editable": false,
    "run_control": {
     "frozen": true
    }
   },
   "outputs": [
    {
     "name": "stdout",
     "output_type": "stream",
     "text": [
      "df_result_future \n",
      "\n",
      "               True    Predictions    Price_True    Price_Predictions    Price_Diff\n",
      "-----  ------------  -------------  ------------  -------------------  ------------\n",
      "count  133            133                133                 133          133\n",
      "mean     0.00318411     0.00854025       329.156             327.999        1.15689\n",
      "std      0.0340481      0.0138067         63.006              62.9249      10.4841\n",
      "min     -0.137711      -0.0414664        223.36              215.474      -31.3045\n",
      "25%     -0.0116641      0.00385469       281.9               283.434       -4.68522\n",
      "50%      0.00362464     0.0107727        317.57              318.61         1.32888\n",
      "75%      0.0208411      0.0160728        370.71              372.852        6.10719\n",
      "max      0.113173       0.0514885        497.48              481.67        36.5965\n"
     ]
    }
   ],
   "source": [
    "# Compile Results\n",
    "df_result_future = pd.DataFrame([true_future[:, 0], predict_future[:, 0]],\n",
    "                                index=['True', 'Predictions']).T\n",
    "#--Convert to Price\n",
    "price_pred = []\n",
    "for i in range(num_test + 1):\n",
    "    price = np.exp(df_result_future['Predictions']\n",
    "                   [i]) * df['Close_AAPL'].iloc[-(num_test + 1 - i)]\n",
    "    price_pred.append(price)\n",
    "df_result_future.index = df_features_future.iloc[-(num_test + 1):, :].index\n",
    "df_result_future['Price_True'] = np.append(\n",
    "    df['Close_AAPL'].iloc[-(num_test):].values, 0)\n",
    "df_result_future['Price_Predictions'] = price_pred\n",
    "df_result_future['Price_Predictions'] = df_result_future['Price_Predictions'] * 0.9909\n",
    "df_result_future['Price_Diff'] = (df_result_future['Price_True'] -\n",
    "                                  df_result_future['Price_Predictions'])\n",
    "df_result_future.fillna(0, inplace=True)\n",
    "print('df_result_future', '\\n')\n",
    "print(tabulate(df_result_future.iloc[:-1, :].describe(), headers='keys'))"
   ]
  },
  {
   "cell_type": "code",
   "execution_count": 594,
   "metadata": {
    "ExecuteTime": {
     "end_time": "2020-08-27T11:27:04.041768Z",
     "start_time": "2020-08-27T11:27:03.069900Z"
    },
    "code_folding": []
   },
   "outputs": [
    {
     "name": "stdout",
     "output_type": "stream",
     "text": [
      "df_result_future \n",
      "\n",
      "               True    Predictions    Price_True    Price_Predictions    Price_Diff\n",
      "-----  ------------  -------------  ------------  -------------------  ------------\n",
      "count  133            133                133                 133          133\n",
      "mean     0.00318411     0.00854025       329.156             327.668        1.4879\n",
      "std      0.0340481      0.0138067         63.006              62.8614      10.4795\n",
      "min     -0.137711      -0.0414664        223.36              215.257      -31.0296\n",
      "25%     -0.0116641      0.00385469       281.9               283.147       -4.36143\n",
      "50%      0.00362464     0.0107727        317.57              318.288        1.64299\n",
      "75%      0.0208411      0.0160728        370.71              372.476        6.38531\n",
      "max      0.113173       0.0514885        497.48              481.184       36.9878\n"
     ]
    }
   ],
   "source": [
    "# Compile Results\n",
    "df_result_future = pd.DataFrame([true_future[:, 0], predict_future[:, 0]],\n",
    "                                index=['True', 'Predictions']).T\n",
    "#--Convert to Price\n",
    "price_pred = []\n",
    "for i in range(num_test + 1):\n",
    "    price = np.exp(df_result_future['Predictions']\n",
    "                   [i]) * df['Close_AAPL'].iloc[-(num_test + 1 - i)]\n",
    "    price_pred.append(price)\n",
    "df_result_future.index = df_features_future.iloc[-(num_test + 1):, :].index\n",
    "df_result_future['Price_True'] = np.append(\n",
    "    df['Close_AAPL'].iloc[-(num_test):].values, 0)\n",
    "df_result_future['Price_Predictions'] = price_pred\n",
    "_list = []\n",
    "for x in np.arange(0.9, 0.9900, step=0.0001):\n",
    "    _ = df_result_future['Price_Predictions'] * x\n",
    "    _diff = df_result_future['Price_True'] - _\n",
    "    _list.append((x, _diff[:-1].mean()))\n",
    "_ = pd.DataFrame(_list)\n",
    "constant = _[0][_[1] == min(abs(x) for x in _[1])].values\n",
    "# constant = np.min(_[(_[1] > -0.009) & (_[1] < 0.009)])[0]\n",
    "df_result_future['Price_Predictions'] = df_result_future['Price_Predictions'] * constant\n",
    "df_result_future['Price_Diff'] = (df_result_future['Price_True'] -\n",
    "                                  df_result_future['Price_Predictions'])\n",
    "df_result_future.fillna(0, inplace=True)\n",
    "print('df_result_future', '\\n')\n",
    "print(tabulate(df_result_future.iloc[:-1, :].describe(), headers='keys'))"
   ]
  },
  {
   "cell_type": "code",
   "execution_count": 595,
   "metadata": {
    "ExecuteTime": {
     "end_time": "2020-08-27T11:27:10.752278Z",
     "start_time": "2020-08-27T11:27:10.417471Z"
    },
    "code_folding": []
   },
   "outputs": [
    {
     "data": {
      "image/png": "[encoded data removed]",
      "text/plain": [
       "<Figure size 432x288 with 1 Axes>"
      ]
     },
     "metadata": {
      "needs_background": "dark"
     },
     "output_type": "display_data"
    }
   ],
   "source": [
    "# Plot Price Prediction \n",
    "plt.plot(df_result_future['Price_True'].iloc[:-1,], label='True', alpha=1)\n",
    "plt.plot(df_result_future['Price_Predictions'], label='Predictions', alpha=3, ls=\":\", color='red')\n",
    "plt.title('True Price vs Prediction Price')\n",
    "plt.legend()\n",
    "plt.show()"
   ]
  },
  {
   "cell_type": "code",
   "execution_count": 596,
   "metadata": {
    "ExecuteTime": {
     "end_time": "2020-08-27T11:27:10.764271Z",
     "start_time": "2020-08-27T11:27:10.756277Z"
    },
    "code_folding": [],
    "scrolled": true
   },
   "outputs": [
    {
     "name": "stdout",
     "output_type": "stream",
     "text": [
      "One Step Ahead result is 504.86540507045873\n"
     ]
    }
   ],
   "source": [
    "# Statement\n",
    "print('One Step Ahead result is', df_result_future['Price_Predictions'][-1])"
   ]
  },
  {
   "cell_type": "code",
   "execution_count": 597,
   "metadata": {
    "ExecuteTime": {
     "end_time": "2020-08-27T11:27:10.945173Z",
     "start_time": "2020-08-27T11:27:10.769271Z"
    }
   },
   "outputs": [
    {
     "data": {
      "text/html": [
       "<div>\n",
       "<style scoped>\n",
       "    .dataframe tbody tr th:only-of-type {\n",
       "        vertical-align: middle;\n",
       "    }\n",
       "\n",
       "    .dataframe tbody tr th {\n",
       "        vertical-align: top;\n",
       "    }\n",
       "\n",
       "    .dataframe thead th {\n",
       "        text-align: right;\n",
       "    }\n",
       "</style>\n",
       "<table border=\"1\" class=\"dataframe\">\n",
       "  <thead>\n",
       "    <tr style=\"text-align: right;\">\n",
       "      <th></th>\n",
       "      <th>True</th>\n",
       "      <th>Predictions</th>\n",
       "      <th>Price_True</th>\n",
       "      <th>Price_Predictions</th>\n",
       "      <th>Price_Diff</th>\n",
       "    </tr>\n",
       "  </thead>\n",
       "  <tbody>\n",
       "    <tr>\n",
       "      <td>2020-08-18</td>\n",
       "      <td>0.008298</td>\n",
       "      <td>0.016543</td>\n",
       "      <td>462.25</td>\n",
       "      <td>461.369378</td>\n",
       "      <td>0.880622</td>\n",
       "    </tr>\n",
       "    <tr>\n",
       "      <td>2020-08-19</td>\n",
       "      <td>0.001254</td>\n",
       "      <td>0.021707</td>\n",
       "      <td>462.83</td>\n",
       "      <td>467.622448</td>\n",
       "      <td>-4.792448</td>\n",
       "    </tr>\n",
       "    <tr>\n",
       "      <td>2020-08-20</td>\n",
       "      <td>0.021947</td>\n",
       "      <td>0.027342</td>\n",
       "      <td>473.10</td>\n",
       "      <td>470.854989</td>\n",
       "      <td>2.245011</td>\n",
       "    </tr>\n",
       "    <tr>\n",
       "      <td>2020-08-21</td>\n",
       "      <td>0.050249</td>\n",
       "      <td>0.027095</td>\n",
       "      <td>497.48</td>\n",
       "      <td>481.184117</td>\n",
       "      <td>16.295883</td>\n",
       "    </tr>\n",
       "    <tr>\n",
       "      <td>2020-08-24</td>\n",
       "      <td>0.000000</td>\n",
       "      <td>0.024888</td>\n",
       "      <td>0.00</td>\n",
       "      <td>504.865405</td>\n",
       "      <td>-504.865405</td>\n",
       "    </tr>\n",
       "  </tbody>\n",
       "</table>\n",
       "</div>"
      ],
      "text/plain": [
       "                True  Predictions  Price_True  Price_Predictions  Price_Diff\n",
       "2020-08-18  0.008298     0.016543      462.25         461.369378    0.880622\n",
       "2020-08-19  0.001254     0.021707      462.83         467.622448   -4.792448\n",
       "2020-08-20  0.021947     0.027342      473.10         470.854989    2.245011\n",
       "2020-08-21  0.050249     0.027095      497.48         481.184117   16.295883\n",
       "2020-08-24  0.000000     0.024888        0.00         504.865405 -504.865405"
      ]
     },
     "execution_count": 597,
     "metadata": {},
     "output_type": "execute_result"
    }
   ],
   "source": [
    "df_result_future.tail()"
   ]
  },
  {
   "cell_type": "code",
   "execution_count": 598,
   "metadata": {
    "ExecuteTime": {
     "end_time": "2020-08-27T11:27:11.103679Z",
     "start_time": "2020-08-27T11:27:10.950165Z"
    },
    "scrolled": true
   },
   "outputs": [
    {
     "data": {
      "text/plain": [
       "97.17740594609755"
      ]
     },
     "execution_count": 598,
     "metadata": {},
     "output_type": "execute_result"
    }
   ],
   "source": [
    "r2_score(df_result_future['Price_True'].iloc[:-1], df_result_future['Price_Predictions'].iloc[:-1]) * 100"
   ]
  },
  {
   "cell_type": "markdown",
   "metadata": {},
   "source": [
    "### Try"
   ]
  },
  {
   "cell_type": "code",
   "execution_count": 599,
   "metadata": {
    "ExecuteTime": {
     "end_time": "2020-08-27T11:27:11.234604Z",
     "start_time": "2020-08-27T11:27:11.108674Z"
    },
    "scrolled": true
   },
   "outputs": [],
   "source": [
    "# Separate the result into overestimated & underestimated\n",
    "overestimated = df_result_future['Price_Diff'].iloc[:-1][df_result_future['Price_Diff'] > 0]\n",
    "underestimated = df_result_future['Price_Diff'].iloc[:-1][df_result_future['Price_Diff'] < 0]"
   ]
  },
  {
   "cell_type": "code",
   "execution_count": 600,
   "metadata": {
    "ExecuteTime": {
     "end_time": "2020-08-27T11:27:11.420658Z",
     "start_time": "2020-08-27T11:27:11.239600Z"
    }
   },
   "outputs": [
    {
     "name": "stdout",
     "output_type": "stream",
     "text": [
      "Overestimated \n",
      " count    77.000000\n",
      "mean      7.843198\n",
      "std       7.825295\n",
      "min       0.114764\n",
      "25%       2.910938\n",
      "50%       5.760363\n",
      "75%       9.336397\n",
      "max      36.987756\n",
      "Name: Price_Diff, dtype: float64\n",
      "\n",
      "\n",
      "Underestimated \n",
      " count    56.000000\n",
      "mean     -7.250623\n",
      "std       6.682429\n",
      "min     -31.029607\n",
      "25%      -9.383328\n",
      "50%      -5.478239\n",
      "75%      -2.463697\n",
      "max      -0.044293\n",
      "Name: Price_Diff, dtype: float64\n"
     ]
    }
   ],
   "source": [
    "print('Overestimated \\n', overestimated.describe())\n",
    "print('\\n')\n",
    "print('Underestimated \\n', underestimated.describe())"
   ]
  },
  {
   "cell_type": "code",
   "execution_count": 601,
   "metadata": {
    "ExecuteTime": {
     "end_time": "2020-08-27T11:27:11.571624Z",
     "start_time": "2020-08-27T11:27:11.425652Z"
    }
   },
   "outputs": [],
   "source": [
    "conditions = [\n",
    "    ((df_result_future['True'] > 0) & (df_result_future['Predictions'] > 0)),\n",
    "    ((df_result_future['True'] < 0) & (df_result_future['Predictions'] < 0)),\n",
    "    ((df_result_future['True'] < 0) & (df_result_future['Predictions'] > 0)),\n",
    "    ((df_result_future['True'] > 0) & (df_result_future['Predictions'] < 0))\n",
    "]\n",
    "choices = ['true_up', 'true_down', 'false_up', 'false_down']"
   ]
  },
  {
   "cell_type": "code",
   "execution_count": 602,
   "metadata": {
    "ExecuteTime": {
     "end_time": "2020-08-27T11:27:11.730749Z",
     "start_time": "2020-08-27T11:27:11.575620Z"
    }
   },
   "outputs": [],
   "source": [
    "df_result_future['Directions'] = np.select(conditions, choices, default='Same')"
   ]
  },
  {
   "cell_type": "code",
   "execution_count": 603,
   "metadata": {
    "ExecuteTime": {
     "end_time": "2020-08-27T11:27:12.193677Z",
     "start_time": "2020-08-27T11:27:11.739745Z"
    }
   },
   "outputs": [
    {
     "data": {
      "text/plain": [
       "(array([44.,  0.,  0., 61.,  0.,  0., 14.,  0.,  0., 13.]),\n",
       " array([0. , 0.3, 0.6, 0.9, 1.2, 1.5, 1.8, 2.1, 2.4, 2.7, 3. ]),\n",
       " <a list of 10 Patch objects>)"
      ]
     },
     "execution_count": 603,
     "metadata": {},
     "output_type": "execute_result"
    },
    {
     "data": {
      "image/png": "[encoded data removed]",
      "text/plain": [
       "<Figure size 432x288 with 1 Axes>"
      ]
     },
     "metadata": {
      "needs_background": "dark"
     },
     "output_type": "display_data"
    }
   ],
   "source": [
    "plt.hist(df_result_future['Directions'][df_result_future['Directions'] != 'Same'])"
   ]
  },
  {
   "cell_type": "code",
   "execution_count": 604,
   "metadata": {
    "ExecuteTime": {
     "end_time": "2020-08-27T11:27:12.212666Z",
     "start_time": "2020-08-27T11:27:12.199673Z"
    }
   },
   "outputs": [
    {
     "data": {
      "text/plain": [
       "1.885632099452323"
      ]
     },
     "execution_count": 604,
     "metadata": {},
     "output_type": "execute_result"
    }
   ],
   "source": [
    "df_result_future['Price_Diff'].iloc[:-1][df_result_future['Directions'] == 'Same'].mean()"
   ]
  },
  {
   "cell_type": "code",
   "execution_count": 605,
   "metadata": {
    "ExecuteTime": {
     "end_time": "2020-08-27T11:27:12.374574Z",
     "start_time": "2020-08-27T11:27:12.217662Z"
    }
   },
   "outputs": [
    {
     "data": {
      "text/plain": [
       "count    57.000000\n",
       "mean     -1.171316\n",
       "std      12.137348\n",
       "min     -21.919938\n",
       "25%      -7.771925\n",
       "50%      -2.975315\n",
       "75%      -0.044293\n",
       "max      33.882415\n",
       "Name: Price_Diff, dtype: float64"
      ]
     },
     "execution_count": 605,
     "metadata": {},
     "output_type": "execute_result"
    }
   ],
   "source": [
    "df_result_future['Price_Diff'][df_result_future['Directions'].str.contains('false')].describe()"
   ]
  },
  {
   "cell_type": "code",
   "execution_count": 606,
   "metadata": {
    "ExecuteTime": {
     "end_time": "2020-08-27T11:27:12.945251Z",
     "start_time": "2020-08-27T11:27:12.377571Z"
    }
   },
   "outputs": [
    {
     "data": {
      "text/plain": [
       "(array([ 5.,  4., 15., 19.,  1.,  6.,  2.,  1.,  1.,  3.]),\n",
       " array([-21.91993777, -16.33970246, -10.75946714,  -5.17923182,\n",
       "          0.4010035 ,   5.98123881,  11.56147413,  17.14170945,\n",
       "         22.72194477,  28.30218008,  33.8824154 ]),\n",
       " <a list of 10 Patch objects>)"
      ]
     },
     "execution_count": 606,
     "metadata": {},
     "output_type": "execute_result"
    },
    {
     "data": {
      "image/png": "[encoded data removed]",
      "text/plain": [
       "<Figure size 432x288 with 1 Axes>"
      ]
     },
     "metadata": {
      "needs_background": "dark"
     },
     "output_type": "display_data"
    }
   ],
   "source": [
    "plt.hist(df_result_future['Price_Diff'][df_result_future['Directions'].str.contains('false')])"
   ]
  },
  {
   "cell_type": "code",
   "execution_count": 607,
   "metadata": {
    "ExecuteTime": {
     "end_time": "2020-08-27T11:27:12.970231Z",
     "start_time": "2020-08-27T11:27:12.952242Z"
    }
   },
   "outputs": [
    {
     "data": {
      "text/plain": [
       "count    75.000000\n",
       "mean      3.503610\n",
       "std       8.651322\n",
       "min     -31.029607\n",
       "25%       1.148221\n",
       "50%       3.937405\n",
       "75%       7.351055\n",
       "max      36.987756\n",
       "Name: Price_Diff, dtype: float64"
      ]
     },
     "execution_count": 607,
     "metadata": {},
     "output_type": "execute_result"
    }
   ],
   "source": [
    "df_result_future['Price_Diff'][df_result_future['Directions'].str.contains('true')].describe()"
   ]
  },
  {
   "cell_type": "code",
   "execution_count": 608,
   "metadata": {
    "ExecuteTime": {
     "end_time": "2020-08-27T11:27:13.502926Z",
     "start_time": "2020-08-27T11:27:12.975229Z"
    }
   },
   "outputs": [
    {
     "data": {
      "text/plain": [
       "(array([ 1.,  2.,  1.,  4., 24., 33.,  8.,  1.,  0.,  1.]),\n",
       " array([-31.02960673, -24.22787045, -17.42613417, -10.62439788,\n",
       "         -3.8226616 ,   2.97907469,   9.78081097,  16.58254726,\n",
       "         23.38428354,  30.18601982,  36.98775611]),\n",
       " <a list of 10 Patch objects>)"
      ]
     },
     "execution_count": 608,
     "metadata": {},
     "output_type": "execute_result"
    },
    {
     "data": {
      "image/png": "[encoded data removed]",
      "text/plain": [
       "<Figure size 432x288 with 1 Axes>"
      ]
     },
     "metadata": {
      "needs_background": "dark"
     },
     "output_type": "display_data"
    }
   ],
   "source": [
    "plt.hist(df_result_future['Price_Diff'][df_result_future['Directions'].str.contains('true')])"
   ]
  },
  {
   "cell_type": "code",
   "execution_count": 609,
   "metadata": {
    "ExecuteTime": {
     "end_time": "2020-08-27T11:27:14.096605Z",
     "start_time": "2020-08-27T11:27:13.506924Z"
    }
   },
   "outputs": [
    {
     "name": "stdout",
     "output_type": "stream",
     "text": [
      "1.4879049473455717\n",
      "10.479479204169213\n"
     ]
    },
    {
     "data": {
      "image/png": "[encoded data removed]",
      "text/plain": [
       "<Figure size 1440x720 with 1 Axes>"
      ]
     },
     "metadata": {
      "needs_background": "dark"
     },
     "output_type": "display_data"
    }
   ],
   "source": [
    "print(df_result_future['Price_Diff'].iloc[:-1].mean())\n",
    "print(df_result_future['Price_Diff'].iloc[:-1].std())\n",
    "plt.figure(figsize=(20, 10))\n",
    "plt.hist(df_result_future['Price_Diff'].iloc[:-1], bins=29, edgecolor='black')\n",
    "plt.axvline(df_result_future['Price_Diff'].iloc[:-1].mean(), color='k', linestyle='dashed', linewidth=1)\n",
    "plt.xticks(np.arange(min(df_result_future['Price_Diff'].iloc[:-1]), max(df_result_future['Price_Diff'].iloc[:-1]), step=5))\n",
    "plt.grid(None)\n",
    "plt.show()"
   ]
  },
  {
   "cell_type": "code",
   "execution_count": 610,
   "metadata": {
    "ExecuteTime": {
     "end_time": "2020-08-27T11:27:14.124579Z",
     "start_time": "2020-08-27T11:27:14.100585Z"
    }
   },
   "outputs": [
    {
     "data": {
      "text/html": [
       "<div>\n",
       "<style scoped>\n",
       "    .dataframe tbody tr th:only-of-type {\n",
       "        vertical-align: middle;\n",
       "    }\n",
       "\n",
       "    .dataframe tbody tr th {\n",
       "        vertical-align: top;\n",
       "    }\n",
       "\n",
       "    .dataframe thead th {\n",
       "        text-align: right;\n",
       "    }\n",
       "</style>\n",
       "<table border=\"1\" class=\"dataframe\">\n",
       "  <thead>\n",
       "    <tr style=\"text-align: right;\">\n",
       "      <th></th>\n",
       "      <th>True</th>\n",
       "      <th>Predictions</th>\n",
       "      <th>Price_True</th>\n",
       "      <th>Price_Predictions</th>\n",
       "      <th>Price_Diff</th>\n",
       "      <th>Directions</th>\n",
       "    </tr>\n",
       "  </thead>\n",
       "  <tbody>\n",
       "    <tr>\n",
       "      <td>2020-02-13</td>\n",
       "      <td>-0.007148</td>\n",
       "      <td>0.047994</td>\n",
       "      <td>323.41</td>\n",
       "      <td>338.292813</td>\n",
       "      <td>-14.882813</td>\n",
       "      <td>false_up</td>\n",
       "    </tr>\n",
       "    <tr>\n",
       "      <td>2020-02-14</td>\n",
       "      <td>0.000247</td>\n",
       "      <td>0.020610</td>\n",
       "      <td>323.49</td>\n",
       "      <td>326.810191</td>\n",
       "      <td>-3.320191</td>\n",
       "      <td>true_up</td>\n",
       "    </tr>\n",
       "    <tr>\n",
       "      <td>2020-02-18</td>\n",
       "      <td>-0.018470</td>\n",
       "      <td>0.011171</td>\n",
       "      <td>317.57</td>\n",
       "      <td>323.819853</td>\n",
       "      <td>-6.249853</td>\n",
       "      <td>false_up</td>\n",
       "    </tr>\n",
       "    <tr>\n",
       "      <td>2020-02-19</td>\n",
       "      <td>0.014381</td>\n",
       "      <td>0.017142</td>\n",
       "      <td>322.17</td>\n",
       "      <td>319.797930</td>\n",
       "      <td>2.372070</td>\n",
       "      <td>true_up</td>\n",
       "    </tr>\n",
       "    <tr>\n",
       "      <td>2020-02-20</td>\n",
       "      <td>-0.010327</td>\n",
       "      <td>0.021906</td>\n",
       "      <td>318.86</td>\n",
       "      <td>325.979318</td>\n",
       "      <td>-7.119318</td>\n",
       "      <td>false_up</td>\n",
       "    </tr>\n",
       "    <tr>\n",
       "      <td>...</td>\n",
       "      <td>...</td>\n",
       "      <td>...</td>\n",
       "      <td>...</td>\n",
       "      <td>...</td>\n",
       "      <td>...</td>\n",
       "      <td>...</td>\n",
       "    </tr>\n",
       "    <tr>\n",
       "      <td>2020-08-18</td>\n",
       "      <td>0.008298</td>\n",
       "      <td>0.016543</td>\n",
       "      <td>462.25</td>\n",
       "      <td>461.369378</td>\n",
       "      <td>0.880622</td>\n",
       "      <td>true_up</td>\n",
       "    </tr>\n",
       "    <tr>\n",
       "      <td>2020-08-19</td>\n",
       "      <td>0.001254</td>\n",
       "      <td>0.021707</td>\n",
       "      <td>462.83</td>\n",
       "      <td>467.622448</td>\n",
       "      <td>-4.792448</td>\n",
       "      <td>true_up</td>\n",
       "    </tr>\n",
       "    <tr>\n",
       "      <td>2020-08-20</td>\n",
       "      <td>0.021947</td>\n",
       "      <td>0.027342</td>\n",
       "      <td>473.10</td>\n",
       "      <td>470.854989</td>\n",
       "      <td>2.245011</td>\n",
       "      <td>true_up</td>\n",
       "    </tr>\n",
       "    <tr>\n",
       "      <td>2020-08-21</td>\n",
       "      <td>0.050249</td>\n",
       "      <td>0.027095</td>\n",
       "      <td>497.48</td>\n",
       "      <td>481.184117</td>\n",
       "      <td>16.295883</td>\n",
       "      <td>true_up</td>\n",
       "    </tr>\n",
       "    <tr>\n",
       "      <td>2020-08-24</td>\n",
       "      <td>0.000000</td>\n",
       "      <td>0.024888</td>\n",
       "      <td>0.00</td>\n",
       "      <td>504.865405</td>\n",
       "      <td>-504.865405</td>\n",
       "      <td>Same</td>\n",
       "    </tr>\n",
       "  </tbody>\n",
       "</table>\n",
       "<p>134 rows × 6 columns</p>\n",
       "</div>"
      ],
      "text/plain": [
       "                True  Predictions  Price_True  Price_Predictions  Price_Diff  \\\n",
       "2020-02-13 -0.007148     0.047994      323.41         338.292813  -14.882813   \n",
       "2020-02-14  0.000247     0.020610      323.49         326.810191   -3.320191   \n",
       "2020-02-18 -0.018470     0.011171      317.57         323.819853   -6.249853   \n",
       "2020-02-19  0.014381     0.017142      322.17         319.797930    2.372070   \n",
       "2020-02-20 -0.010327     0.021906      318.86         325.979318   -7.119318   \n",
       "...              ...          ...         ...                ...         ...   \n",
       "2020-08-18  0.008298     0.016543      462.25         461.369378    0.880622   \n",
       "2020-08-19  0.001254     0.021707      462.83         467.622448   -4.792448   \n",
       "2020-08-20  0.021947     0.027342      473.10         470.854989    2.245011   \n",
       "2020-08-21  0.050249     0.027095      497.48         481.184117   16.295883   \n",
       "2020-08-24  0.000000     0.024888        0.00         504.865405 -504.865405   \n",
       "\n",
       "           Directions  \n",
       "2020-02-13   false_up  \n",
       "2020-02-14    true_up  \n",
       "2020-02-18   false_up  \n",
       "2020-02-19    true_up  \n",
       "2020-02-20   false_up  \n",
       "...               ...  \n",
       "2020-08-18    true_up  \n",
       "2020-08-19    true_up  \n",
       "2020-08-20    true_up  \n",
       "2020-08-21    true_up  \n",
       "2020-08-24       Same  \n",
       "\n",
       "[134 rows x 6 columns]"
      ]
     },
     "execution_count": 610,
     "metadata": {},
     "output_type": "execute_result"
    }
   ],
   "source": [
    "df_result_future"
   ]
  },
  {
   "cell_type": "code",
   "execution_count": 611,
   "metadata": {
    "ExecuteTime": {
     "end_time": "2020-08-27T11:27:14.292551Z",
     "start_time": "2020-08-27T11:27:14.128570Z"
    }
   },
   "outputs": [
    {
     "data": {
      "text/html": [
       "<div>\n",
       "<style scoped>\n",
       "    .dataframe tbody tr th:only-of-type {\n",
       "        vertical-align: middle;\n",
       "    }\n",
       "\n",
       "    .dataframe tbody tr th {\n",
       "        vertical-align: top;\n",
       "    }\n",
       "\n",
       "    .dataframe thead th {\n",
       "        text-align: right;\n",
       "    }\n",
       "</style>\n",
       "<table border=\"1\" class=\"dataframe\">\n",
       "  <thead>\n",
       "    <tr style=\"text-align: right;\">\n",
       "      <th></th>\n",
       "      <th>Open</th>\n",
       "      <th>High</th>\n",
       "      <th>Low</th>\n",
       "      <th>Close</th>\n",
       "      <th>Adj Close</th>\n",
       "      <th>Volume</th>\n",
       "      <th>Dividends</th>\n",
       "      <th>Stock Splits</th>\n",
       "    </tr>\n",
       "    <tr>\n",
       "      <th>Date</th>\n",
       "      <th></th>\n",
       "      <th></th>\n",
       "      <th></th>\n",
       "      <th></th>\n",
       "      <th></th>\n",
       "      <th></th>\n",
       "      <th></th>\n",
       "      <th></th>\n",
       "    </tr>\n",
       "  </thead>\n",
       "  <tbody>\n",
       "    <tr>\n",
       "      <td>2020-08-18</td>\n",
       "      <td>457.41</td>\n",
       "      <td>464.00</td>\n",
       "      <td>456.03</td>\n",
       "      <td>462.25</td>\n",
       "      <td>462.25</td>\n",
       "      <td>26408400</td>\n",
       "      <td>0.0</td>\n",
       "      <td>0.0</td>\n",
       "    </tr>\n",
       "    <tr>\n",
       "      <td>2020-08-19</td>\n",
       "      <td>463.93</td>\n",
       "      <td>468.65</td>\n",
       "      <td>462.44</td>\n",
       "      <td>462.83</td>\n",
       "      <td>462.83</td>\n",
       "      <td>36384500</td>\n",
       "      <td>0.0</td>\n",
       "      <td>0.0</td>\n",
       "    </tr>\n",
       "    <tr>\n",
       "      <td>2020-08-20</td>\n",
       "      <td>463.00</td>\n",
       "      <td>473.57</td>\n",
       "      <td>462.93</td>\n",
       "      <td>473.10</td>\n",
       "      <td>473.10</td>\n",
       "      <td>31726800</td>\n",
       "      <td>0.0</td>\n",
       "      <td>0.0</td>\n",
       "    </tr>\n",
       "    <tr>\n",
       "      <td>2020-08-21</td>\n",
       "      <td>477.05</td>\n",
       "      <td>499.47</td>\n",
       "      <td>477.00</td>\n",
       "      <td>497.48</td>\n",
       "      <td>497.48</td>\n",
       "      <td>84513700</td>\n",
       "      <td>0.0</td>\n",
       "      <td>0.0</td>\n",
       "    </tr>\n",
       "    <tr>\n",
       "      <td>2020-08-24</td>\n",
       "      <td>514.79</td>\n",
       "      <td>515.14</td>\n",
       "      <td>495.75</td>\n",
       "      <td>503.43</td>\n",
       "      <td>503.43</td>\n",
       "      <td>86326400</td>\n",
       "      <td>0.0</td>\n",
       "      <td>0.0</td>\n",
       "    </tr>\n",
       "  </tbody>\n",
       "</table>\n",
       "</div>"
      ],
      "text/plain": [
       "              Open    High     Low   Close  Adj Close    Volume  Dividends  \\\n",
       "Date                                                                         \n",
       "2020-08-18  457.41  464.00  456.03  462.25     462.25  26408400        0.0   \n",
       "2020-08-19  463.93  468.65  462.44  462.83     462.83  36384500        0.0   \n",
       "2020-08-20  463.00  473.57  462.93  473.10     473.10  31726800        0.0   \n",
       "2020-08-21  477.05  499.47  477.00  497.48     497.48  84513700        0.0   \n",
       "2020-08-24  514.79  515.14  495.75  503.43     503.43  86326400        0.0   \n",
       "\n",
       "            Stock Splits  \n",
       "Date                      \n",
       "2020-08-18           0.0  \n",
       "2020-08-19           0.0  \n",
       "2020-08-20           0.0  \n",
       "2020-08-21           0.0  \n",
       "2020-08-24           0.0  "
      ]
     },
     "execution_count": 611,
     "metadata": {},
     "output_type": "execute_result"
    }
   ],
   "source": [
    "df_aapl.tail()"
   ]
  },
  {
   "cell_type": "code",
   "execution_count": 612,
   "metadata": {
    "ExecuteTime": {
     "end_time": "2020-08-27T11:27:14.443613Z",
     "start_time": "2020-08-27T11:27:14.295546Z"
    }
   },
   "outputs": [
    {
     "data": {
      "text/html": [
       "<div>\n",
       "<style scoped>\n",
       "    .dataframe tbody tr th:only-of-type {\n",
       "        vertical-align: middle;\n",
       "    }\n",
       "\n",
       "    .dataframe tbody tr th {\n",
       "        vertical-align: top;\n",
       "    }\n",
       "\n",
       "    .dataframe thead th {\n",
       "        text-align: right;\n",
       "    }\n",
       "</style>\n",
       "<table border=\"1\" class=\"dataframe\">\n",
       "  <thead>\n",
       "    <tr style=\"text-align: right;\">\n",
       "      <th></th>\n",
       "      <th>True</th>\n",
       "      <th>Predictions</th>\n",
       "      <th>Price_True</th>\n",
       "      <th>Price_Predictions</th>\n",
       "      <th>Price_Diff</th>\n",
       "      <th>Directions</th>\n",
       "    </tr>\n",
       "  </thead>\n",
       "  <tbody>\n",
       "    <tr>\n",
       "      <td>2020-02-14</td>\n",
       "      <td>0.000247</td>\n",
       "      <td>0.020610</td>\n",
       "      <td>323.49</td>\n",
       "      <td>326.810191</td>\n",
       "      <td>-3.320191</td>\n",
       "      <td>true_up</td>\n",
       "    </tr>\n",
       "    <tr>\n",
       "      <td>2020-02-19</td>\n",
       "      <td>0.014381</td>\n",
       "      <td>0.017142</td>\n",
       "      <td>322.17</td>\n",
       "      <td>319.797930</td>\n",
       "      <td>2.372070</td>\n",
       "      <td>true_up</td>\n",
       "    </tr>\n",
       "    <tr>\n",
       "      <td>2020-02-26</td>\n",
       "      <td>0.015706</td>\n",
       "      <td>0.005887</td>\n",
       "      <td>291.33</td>\n",
       "      <td>285.569637</td>\n",
       "      <td>5.760363</td>\n",
       "      <td>true_up</td>\n",
       "    </tr>\n",
       "    <tr>\n",
       "      <td>2020-02-27</td>\n",
       "      <td>-0.067589</td>\n",
       "      <td>-0.003279</td>\n",
       "      <td>272.29</td>\n",
       "      <td>287.443569</td>\n",
       "      <td>-15.153569</td>\n",
       "      <td>true_down</td>\n",
       "    </tr>\n",
       "    <tr>\n",
       "      <td>2020-02-28</td>\n",
       "      <td>-0.000588</td>\n",
       "      <td>-0.007092</td>\n",
       "      <td>272.13</td>\n",
       "      <td>267.635110</td>\n",
       "      <td>4.494890</td>\n",
       "      <td>true_down</td>\n",
       "    </tr>\n",
       "    <tr>\n",
       "      <td>...</td>\n",
       "      <td>...</td>\n",
       "      <td>...</td>\n",
       "      <td>...</td>\n",
       "      <td>...</td>\n",
       "      <td>...</td>\n",
       "      <td>...</td>\n",
       "    </tr>\n",
       "    <tr>\n",
       "      <td>2020-08-13</td>\n",
       "      <td>0.017543</td>\n",
       "      <td>0.014782</td>\n",
       "      <td>460.04</td>\n",
       "      <td>454.137946</td>\n",
       "      <td>5.902054</td>\n",
       "      <td>true_up</td>\n",
       "    </tr>\n",
       "    <tr>\n",
       "      <td>2020-08-18</td>\n",
       "      <td>0.008298</td>\n",
       "      <td>0.016543</td>\n",
       "      <td>462.25</td>\n",
       "      <td>461.369378</td>\n",
       "      <td>0.880622</td>\n",
       "      <td>true_up</td>\n",
       "    </tr>\n",
       "    <tr>\n",
       "      <td>2020-08-19</td>\n",
       "      <td>0.001254</td>\n",
       "      <td>0.021707</td>\n",
       "      <td>462.83</td>\n",
       "      <td>467.622448</td>\n",
       "      <td>-4.792448</td>\n",
       "      <td>true_up</td>\n",
       "    </tr>\n",
       "    <tr>\n",
       "      <td>2020-08-20</td>\n",
       "      <td>0.021947</td>\n",
       "      <td>0.027342</td>\n",
       "      <td>473.10</td>\n",
       "      <td>470.854989</td>\n",
       "      <td>2.245011</td>\n",
       "      <td>true_up</td>\n",
       "    </tr>\n",
       "    <tr>\n",
       "      <td>2020-08-21</td>\n",
       "      <td>0.050249</td>\n",
       "      <td>0.027095</td>\n",
       "      <td>497.48</td>\n",
       "      <td>481.184117</td>\n",
       "      <td>16.295883</td>\n",
       "      <td>true_up</td>\n",
       "    </tr>\n",
       "  </tbody>\n",
       "</table>\n",
       "<p>75 rows × 6 columns</p>\n",
       "</div>"
      ],
      "text/plain": [
       "                True  Predictions  Price_True  Price_Predictions  Price_Diff  \\\n",
       "2020-02-14  0.000247     0.020610      323.49         326.810191   -3.320191   \n",
       "2020-02-19  0.014381     0.017142      322.17         319.797930    2.372070   \n",
       "2020-02-26  0.015706     0.005887      291.33         285.569637    5.760363   \n",
       "2020-02-27 -0.067589    -0.003279      272.29         287.443569  -15.153569   \n",
       "2020-02-28 -0.000588    -0.007092      272.13         267.635110    4.494890   \n",
       "...              ...          ...         ...                ...         ...   \n",
       "2020-08-13  0.017543     0.014782      460.04         454.137946    5.902054   \n",
       "2020-08-18  0.008298     0.016543      462.25         461.369378    0.880622   \n",
       "2020-08-19  0.001254     0.021707      462.83         467.622448   -4.792448   \n",
       "2020-08-20  0.021947     0.027342      473.10         470.854989    2.245011   \n",
       "2020-08-21  0.050249     0.027095      497.48         481.184117   16.295883   \n",
       "\n",
       "           Directions  \n",
       "2020-02-14    true_up  \n",
       "2020-02-19    true_up  \n",
       "2020-02-26    true_up  \n",
       "2020-02-27  true_down  \n",
       "2020-02-28  true_down  \n",
       "...               ...  \n",
       "2020-08-13    true_up  \n",
       "2020-08-18    true_up  \n",
       "2020-08-19    true_up  \n",
       "2020-08-20    true_up  \n",
       "2020-08-21    true_up  \n",
       "\n",
       "[75 rows x 6 columns]"
      ]
     },
     "execution_count": 612,
     "metadata": {},
     "output_type": "execute_result"
    }
   ],
   "source": [
    "df_result_future[df_result_future['Directions'].str.contains('true')]"
   ]
  }
 ],
 "metadata": {
  "kernelspec": {
   "display_name": "Python 3",
   "language": "python",
   "name": "python3"
  },
  "language_info": {
   "codemirror_mode": {
    "name": "ipython",
    "version": 3
   },
   "file_extension": ".py",
   "mimetype": "text/x-python",
   "name": "python",
   "nbconvert_exporter": "python",
   "pygments_lexer": "ipython3",
   "version": "3.7.4"
  },
  "toc": {
   "base_numbering": 1,
   "nav_menu": {},
   "number_sections": false,
   "sideBar": true,
   "skip_h1_title": false,
   "title_cell": "Table of Contents",
   "title_sidebar": "Contents",
   "toc_cell": false,
   "toc_position": {
    "height": "calc(100% - 180px)",
    "left": "10px",
    "top": "150px",
    "width": "303.516px"
   },
   "toc_section_display": true,
   "toc_window_display": true
  },
  "varInspector": {
   "cols": {
    "lenName": 16,
    "lenType": 16,
    "lenVar": 40
   },
   "kernels_config": {
    "python": {
     "delete_cmd_postfix": "",
     "delete_cmd_prefix": "del ",
     "library": "var_list.py",
     "varRefreshCmd": "print(var_dic_list())"
    },
    "r": {
     "delete_cmd_postfix": ") ",
     "delete_cmd_prefix": "rm(",
     "library": "var_list.r",
     "varRefreshCmd": "cat(var_dic_list()) "
    }
   },
   "oldHeight": 519.98278,
   "position": {
    "height": "542.48px",
    "left": "1183px",
    "right": "20px",
    "top": "119px",
    "width": "314.746px"
   },
   "types_to_exclude": [
    "module",
    "function",
    "builtin_function_or_method",
    "instance",
    "_Feature"
   ],
   "varInspector_section_display": "block",
   "window_display": false
  }
 },
 "nbformat": 4,
 "nbformat_minor": 2
}
