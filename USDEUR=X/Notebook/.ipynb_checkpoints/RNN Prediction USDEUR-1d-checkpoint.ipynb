{
 "cells": [
  {
   "cell_type": "markdown",
   "metadata": {},
   "source": [
    "# Libraries"
   ]
  },
  {
   "cell_type": "code",
   "execution_count": 1,
   "metadata": {
    "ExecuteTime": {
     "end_time": "2020-09-11T11:17:25.172694Z",
     "start_time": "2020-09-11T11:16:45.745107Z"
    },
    "code_folding": [
     0
    ]
   },
   "outputs": [],
   "source": [
    "# Basics\n",
    "import pandas as pd\n",
    "import numpy as np\n",
    "import os\n",
    "from pathlib import Path\n",
    "from jupyterthemes import jtplot\n",
    "jtplot.style(theme='monokai')\n",
    "from tabulate import tabulate\n",
    "import warnings\n",
    "warnings.filterwarnings('ignore')\n",
    "from datetime import datetime  \n",
    "from datetime import timedelta \n",
    "import pickle\n",
    "\n",
    "# PLotting\n",
    "import matplotlib.pyplot as plt\n",
    "%matplotlib inline\n",
    "import seaborn as sns\n",
    "\n",
    "# Scipy\n",
    "from scipy import stats\n",
    "\n",
    "# Tensorflow keras\n",
    "import tensorflow as tf\n",
    "from tensorflow.keras.models import Sequential\n",
    "from tensorflow.keras.layers import Input, Dense, GRU, Embedding\n",
    "from tensorflow.keras.optimizers import RMSprop\n",
    "from tensorflow.keras.callbacks import EarlyStopping, ModelCheckpoint, TensorBoard, ReduceLROnPlateau\n",
    "from tensorflow.keras.backend import square, mean\n",
    "\n",
    "# Scikit-learn\n",
    "import sklearn\n",
    "from sklearn.cluster import KMeans\n",
    "from sklearn.metrics import silhouette_score\n",
    "from sklearn import preprocessing, metrics\n",
    "from sklearn.ensemble import ExtraTreesClassifier, RandomForestRegressor\n",
    "from sklearn.datasets import load_digits\n",
    "from sklearn.feature_selection import SelectKBest, chi2, RFE\n",
    "from sklearn.preprocessing import MinMaxScaler\n",
    "from sklearn.metrics import r2_score\n",
    "from sklearn.metrics import mean_squared_error\n",
    "from sklearn.datasets import make_regression\n",
    "from sklearn.model_selection import RepeatedKFold\n",
    "from sklearn.feature_selection import SelectKBest, mutual_info_regression, SelectFromModel\n",
    "from sklearn.linear_model import LinearRegression, LogisticRegression, BayesianRidge, LassoLars\n",
    "from sklearn.pipeline import Pipeline\n",
    "from sklearn.model_selection import GridSearchCV\n",
    "\n",
    "# Statsmodels\n",
    "from statsmodels.tsa.seasonal import seasonal_decompose\n",
    "from statsmodels.tsa.stattools import adfuller # ADF, check for seasonality of data\n",
    "from statsmodels.tsa.ar_model import AutoReg # Residual Analysis"
   ]
  },
  {
   "cell_type": "markdown",
   "metadata": {},
   "source": [
    "# Load Data"
   ]
  },
  {
   "cell_type": "code",
   "execution_count": 141,
   "metadata": {
    "ExecuteTime": {
     "end_time": "2020-09-11T11:42:44.477626Z",
     "start_time": "2020-09-11T11:42:44.465654Z"
    },
    "code_folding": [
     0
    ]
   },
   "outputs": [],
   "source": [
    "def load_stock_data(ticker, interval):\n",
    "    \"\"\"\n",
    "    This function load stock data from Database files by first changing the working directory, loading the data and reset the working directory to the original path\n",
    "    \n",
    "    Parameters\n",
    "    ----------\n",
    "    ticker : str\n",
    "        a string that describes the stock ticker, as listed in the file name\n",
    "    interval : str\n",
    "        an interval string according to the existing files in the databases\n",
    "    \"\"\"\n",
    "    # Record original working directory\n",
    "    owd = os.getcwd()\n",
    "    # Change directory\n",
    "    os.chdir('C:\\\\Users\\\\asus\\\\Documents\\\\Python Projects\\\\Trading - Research and Backtest\\\\'+ticker+'\\\\Databases\\\\')\n",
    "    datapath = os.getcwd()+'\\\\'\n",
    "    # Record all available files\n",
    "    files = []\n",
    "    for (dirpath, dirname, filenames) in os.walk(datapath):\n",
    "        files.extend(filenames)\n",
    "        break\n",
    "    # Import as dataframe  \n",
    "    df = pd.read_csv(datapath+ticker+'-'+interval+'.csv', parse_dates=True, index_col=0)\n",
    "    # Return working directory to original\n",
    "    os.chdir(owd)\n",
    "    return df"
   ]
  },
  {
   "cell_type": "code",
   "execution_count": 326,
   "metadata": {
    "ExecuteTime": {
     "end_time": "2020-09-11T12:04:55.942129Z",
     "start_time": "2020-09-11T12:04:55.870174Z"
    },
    "code_folding": [],
    "scrolled": false
   },
   "outputs": [
    {
     "name": "stdout",
     "output_type": "stream",
     "text": [
      "USDEUR=X-1d\n",
      " Date                   Open    High     Low    Close\n",
      "-------------------  ------  ------  ------  -------\n",
      "2020-09-07 00:00:00  0.8448  0.8465  0.844    0.845\n",
      "2020-09-08 00:00:00  0.8461  0.8498  0.8454   0.8459\n",
      "2020-09-09 00:00:00  0.8497  0.8508  0.8453   0.8496\n",
      "2020-09-10 00:00:00  0.847   0.8472  0.8393   0.847\n",
      "2020-09-11 00:00:00  0.8458  0.8458  0.8417   0.8429\n",
      "\n",
      "\n",
      "EURUSD=X-1d\n",
      " Date                   Open    High     Low    Close\n",
      "-------------------  ------  ------  ------  -------\n",
      "2020-09-07 00:00:00  0.8448  0.8465  0.844    0.845\n",
      "2020-09-08 00:00:00  0.8461  0.8498  0.8454   0.8459\n",
      "2020-09-09 00:00:00  0.8497  0.8508  0.8453   0.8496\n",
      "2020-09-10 00:00:00  0.847   0.8472  0.8393   0.847\n",
      "2020-09-11 00:00:00  0.8458  0.8458  0.8417   0.8429\n",
      "\n",
      "\n"
     ]
    }
   ],
   "source": [
    "# Load data\n",
    "interval = '1d' # Choose interval\n",
    "# Load AAPL\n",
    "df_usdeur = load_stock_data('USDEUR=X', interval=interval).drop(columns=['Close', 'Dividends', 'Stock Splits', 'Volume'])\n",
    "df_usdeur.rename(columns={'Adj Close': 'Close'}, inplace=True)\n",
    "print('USDEUR=X-'+interval+'\\n', tabulate(df_usdeur.tail(), headers='keys'))\n",
    "print('\\n')\n",
    "df_eurusd = load_stock_data('EURUSD=X', interval=interval).drop(columns=['Close', 'Dividends', 'Stock Splits', 'Volume'])\n",
    "df_eurusd.rename(columns={'Adj Close': 'Close'}, inplace=True)\n",
    "print('EURUSD=X-'+interval+'\\n', tabulate(df_usdeur.tail(), headers='keys'))\n",
    "print('\\n')"
   ]
  },
  {
   "cell_type": "code",
   "execution_count": 328,
   "metadata": {
    "ExecuteTime": {
     "end_time": "2020-09-11T12:04:58.097851Z",
     "start_time": "2020-09-11T12:04:58.018293Z"
    },
    "code_folding": [],
    "scrolled": true
   },
   "outputs": [
    {
     "name": "stdout",
     "output_type": "stream",
     "text": [
      "df \n",
      "\n",
      "Date                   Open_x    High_x    Low_x    Close_x    Open_y    High_y    Low_y    Close_y\n",
      "-------------------  --------  --------  -------  ---------  --------  --------  -------  ---------\n",
      "2020-09-07 00:00:00    0.8448    0.8465   0.844      0.845     1.1837    1.1849   1.1814     1.1834\n",
      "2020-09-08 00:00:00    0.8461    0.8498   0.8454     0.8459    1.1819    1.1829   1.1767     1.1822\n",
      "2020-09-09 00:00:00    0.8497    0.8508   0.8453     0.8496    1.1769    1.1831   1.1754     1.177\n",
      "2020-09-10 00:00:00    0.847     0.8472   0.8393     0.847     1.1806    1.1915   1.1803     1.1806\n",
      "2020-09-11 00:00:00    0.8458    0.8458   0.8417     0.8429    1.1823    1.1881   1.1823     1.1864\n"
     ]
    }
   ],
   "source": [
    "# Merge Data\n",
    "start_date = df_usdeur.index[0]\n",
    "df = pd.merge(df_usdeur.loc[start_date:],\n",
    "              df_eurusd.loc[start_date:],\n",
    "              left_index=True, right_index=True)\n",
    "# df.rename(columns={'Adj Close': 'Close'}, inplace=True)\n",
    "print('df', '\\n')\n",
    "print(tabulate(df.tail(), headers='keys'))"
   ]
  },
  {
   "cell_type": "markdown",
   "metadata": {},
   "source": [
    "# Data Manipulation"
   ]
  },
  {
   "cell_type": "markdown",
   "metadata": {},
   "source": [
    "##  Seasonal Decomposition (trial)"
   ]
  },
  {
   "cell_type": "code",
   "execution_count": 329,
   "metadata": {
    "ExecuteTime": {
     "end_time": "2020-09-11T12:05:06.313159Z",
     "start_time": "2020-09-11T12:05:06.307164Z"
    },
    "code_folding": [
     0
    ]
   },
   "outputs": [],
   "source": [
    "def Seasonality_check(time_series, alpha = 0.05):\n",
    "    '''\n",
    "    Pass a time series, return an ADF report on data seasonality\n",
    "    H0: data is non-seasonal, default alpha = 0.05\n",
    "    Accept H0 if p-value > alpha\n",
    "    '''\n",
    "    result = adfuller(time_series)\n",
    "    return result[1] <= alpha"
   ]
  },
  {
   "cell_type": "code",
   "execution_count": 330,
   "metadata": {
    "ExecuteTime": {
     "end_time": "2020-09-11T12:05:07.169810Z",
     "start_time": "2020-09-11T12:05:07.156804Z"
    },
    "code_folding": [
     0
    ]
   },
   "outputs": [],
   "source": [
    "def runsTest(l, l_median, Zcritical=1.96): \n",
    "    runs, n1, n2 = 0, 0, 0\n",
    "    # Checking for start of new run \n",
    "    for i in range(len(l)): \n",
    "        # no. of runs \n",
    "        if (l[i] >= l_median and l[i-1] < l_median) or (l[i] < l_median and l[i-1] >= l_median): \n",
    "            runs += 1\n",
    "        # no. of positive values \n",
    "        if(l[i]) >= l_median: \n",
    "            n1 += 1\n",
    "        # no. of negative values \n",
    "        else: \n",
    "            n2 += 1\n",
    "    runs_exp = ((2*n1*n2)/(n1+n2))+1\n",
    "    stan_dev = np.sqrt((2*n1*n2*(2*n1*n2-n1-n2))/ \\\n",
    "                (((n1+n2)**2)*(n1+n2-1)))\n",
    "    z = (runs-runs_exp)/stan_dev\n",
    "    # Data is not random if |Z| > Zcritical\n",
    "    return abs(z) > Zcritical"
   ]
  },
  {
   "cell_type": "code",
   "execution_count": 331,
   "metadata": {
    "ExecuteTime": {
     "end_time": "2020-09-11T12:05:22.056257Z",
     "start_time": "2020-09-11T12:05:14.543096Z"
    },
    "code_folding": [
     0
    ]
   },
   "outputs": [],
   "source": [
    "# Decompose Data\n",
    "freq = 5 # 1 working week\n",
    "for column in df.columns:\n",
    "    if 'Volume' not in column:\n",
    "        TS_decompose = seasonal_decompose(df[column], model='additive', freq = freq, two_sided=False)\n",
    "        delta_trend = (TS_decompose.trend.dropna() - TS_decompose.trend.dropna().shift(1)).dropna()\n",
    "        delta_seasonal = ((TS_decompose.seasonal - TS_decompose.seasonal.shift(1)).loc[delta_trend.index[0]:])\n",
    "        delta_resid = ((TS_decompose.resid - TS_decompose.resid.shift(1)).loc[delta_trend.index[0]:])\n",
    "        predictor = delta_trend + delta_seasonal\n",
    "        # Check seasonality\n",
    "        if Seasonality_check(predictor):\n",
    "            # Check Randomness\n",
    "            if runsTest(predictor, predictor.median()):\n",
    "                # Add to DataFrame\n",
    "                df[column+'_decomp'] = predictor\n",
    "                df[column+'_trend'] = TS_decompose.trend\n",
    "                df[column+'_season'] = TS_decompose.seasonal\n",
    "                df[column+'_resid'] = TS_decompose.resid\n",
    "            else:\n",
    "                print(column, ' is random')\n",
    "        else:\n",
    "            print(column, ' is not stationary')\n",
    "    else:\n",
    "        TS_decompose = seasonal_decompose(df[column], model='additive', freq = freq, two_sided=False)\n",
    "        delta_trend = (TS_decompose.trend.dropna() / TS_decompose.trend.dropna().shift(1)).dropna()\n",
    "        delta_seasonal = ((TS_decompose.seasonal / TS_decompose.seasonal.shift(1)).loc[delta_trend.index[0]:])\n",
    "        delta_resid = ((TS_decompose.resid / TS_decompose.resid.shift(1)).loc[delta_trend.index[0]:])\n",
    "        predictor = delta_trend + delta_seasonal\n",
    "        # Check seasonality\n",
    "        if Seasonality_check(predictor):\n",
    "            # Check Randomness\n",
    "            if runsTest(predictor, predictor.median()):\n",
    "                # Add to DataFrame\n",
    "                df[column+'_decomp'] = predictor\n",
    "                df[column+'_trend'] = TS_decompose.trend\n",
    "                df[column+'_season'] = TS_decompose.seasonal\n",
    "                df[column+'_resid'] = TS_decompose.resid\n",
    "            else:\n",
    "                print(column, ' is random')\n",
    "        else:\n",
    "            print(column, ' is not stationary')\n",
    "df.dropna(inplace=True)"
   ]
  },
  {
   "cell_type": "markdown",
   "metadata": {},
   "source": [
    "## Shift Data"
   ]
  },
  {
   "cell_type": "code",
   "execution_count": 332,
   "metadata": {
    "ExecuteTime": {
     "end_time": "2020-09-11T12:05:32.607910Z",
     "start_time": "2020-09-11T12:05:32.569931Z"
    },
    "code_folding": [
     0,
     9
    ],
    "scrolled": false
   },
   "outputs": [
    {
     "name": "stdout",
     "output_type": "stream",
     "text": [
      "Target Data  4345 \n",
      " Date                   Close_x_decomp_y\n",
      "-------------------  ------------------\n",
      "2003-12-09 00:00:00        -0.00250837\n",
      "2003-12-10 00:00:00        -0.000577422\n",
      "2003-12-11 00:00:00        -0.00221924\n",
      "2003-12-12 00:00:00        -0.000995751\n",
      "2003-12-15 00:00:00        -0.00129922\n",
      "\n",
      "\n",
      "Features Data  4345\n"
     ]
    }
   ],
   "source": [
    "# Shift Data\n",
    "df_target = df[['Close_x_decomp']].iloc[1:, :] # Target Data is not shifted\n",
    "target_signal = ['Close_x_decomp_y']\n",
    "df_target.columns = target_signal\n",
    "print('Target Data ',len(df_target), '\\n', tabulate(df_target.head(), headers='keys'))\n",
    "print('\\n')\n",
    "# Shift Features Data:\n",
    "# Shift everything except Opening Price\n",
    "# Create Function to remove certain columns from being shifted\n",
    "def shift_exception(df, col_exception = ['Open']):\n",
    "    df_columns = df.columns.to_list()\n",
    "    def fil_col(col_name):\n",
    "        exception = col_exception\n",
    "        for n_exception in range(len(exception)):\n",
    "            if (exception[n_exception] in col_name):\n",
    "                return True\n",
    "    \n",
    "    list_exception = list(filter(fil_col, df_columns)) \n",
    "    return list_exception\n",
    "_df = df.copy()\n",
    "exception = shift_exception(df, col_exception = ['Open'])\n",
    "_df.loc[:, df.drop(columns=exception).columns] = _df.loc[:,df.drop(columns=exception).columns].shift(1)\n",
    "# Drop Target Data\n",
    "df_features = _df.dropna()\n",
    "df_features = df_features[df_features.filter(like='decomp').columns]\n",
    "del _df\n",
    "print('Features Data ',len(df_features))"
   ]
  },
  {
   "cell_type": "code",
   "execution_count": 333,
   "metadata": {
    "ExecuteTime": {
     "end_time": "2020-09-11T12:05:35.690092Z",
     "start_time": "2020-09-11T12:05:35.682103Z"
    },
    "code_folding": [],
    "scrolled": true
   },
   "outputs": [
    {
     "name": "stdout",
     "output_type": "stream",
     "text": [
      "df_concat 4345 \n",
      "\n"
     ]
    }
   ],
   "source": [
    "# Concat df_features and df_target into df_concat\n",
    "df_concat = pd.concat([df_features, df_target], axis=1)\n",
    "print('df_concat', len(df_concat), '\\n')"
   ]
  },
  {
   "cell_type": "markdown",
   "metadata": {},
   "source": [
    "## Features Selection"
   ]
  },
  {
   "cell_type": "code",
   "execution_count": 334,
   "metadata": {
    "ExecuteTime": {
     "end_time": "2020-09-11T12:05:38.355182Z",
     "start_time": "2020-09-11T12:05:38.333195Z"
    },
    "code_folding": [
     0,
     3
    ]
   },
   "outputs": [],
   "source": [
    "# Encode Data\n",
    "# Data has to be coded for the algorithm to work\n",
    "df_coded = df_concat.copy() # Make a copy of dataset\n",
    "for column in df_coded.columns:\n",
    "    encode = preprocessing.LabelEncoder() # Individual column encoder\n",
    "    df_coded[column] = encode.fit_transform(df_coded[column]) # Encode column, replace df_coded with coded data"
   ]
  },
  {
   "cell_type": "markdown",
   "metadata": {
    "deletable": false,
    "editable": false,
    "run_control": {
     "frozen": true
    }
   },
   "source": [
    "### SelectKBest Features Selection"
   ]
  },
  {
   "cell_type": "code",
   "execution_count": 335,
   "metadata": {
    "ExecuteTime": {
     "end_time": "2020-09-11T12:07:06.800748Z",
     "start_time": "2020-09-11T12:05:38.358181Z"
    },
    "code_folding": [
     0
    ]
   },
   "outputs": [],
   "source": [
    "# Evaluate feature\n",
    "X, y = df_concat.drop(columns=target_signal), df_concat[target_signal]\n",
    "# define the evaluation method\n",
    "cv = RepeatedKFold(n_splits=10, n_repeats=3, random_state=1)\n",
    "# define the pipeline to evaluate\n",
    "model = BayesianRidge()\n",
    "fs = SelectKBest(score_func=mutual_info_regression)\n",
    "pipeline = Pipeline(steps=[('sel',fs), ('lr', model)])\n",
    "# define the grid\n",
    "grid = dict()\n",
    "grid['sel__k'] = [i for i in range(2, X.shape[1]+1)]\n",
    "# define the grid search\n",
    "search = GridSearchCV(pipeline, grid, scoring='r2', n_jobs=-1, cv=cv)\n",
    "results = search.fit(X, y)\n",
    "select_k = results.best_params_['sel__k']"
   ]
  },
  {
   "cell_type": "code",
   "execution_count": 336,
   "metadata": {
    "ExecuteTime": {
     "end_time": "2020-09-11T12:07:07.770806Z",
     "start_time": "2020-09-11T12:07:06.805730Z"
    },
    "code_folding": [
     0
    ]
   },
   "outputs": [],
   "source": [
    "# Apply SelectKBest class to extract features\n",
    "\"\"\"SelectKBest\n",
    "Choose features with highest scores_ and lowest p-value\n",
    "\"\"\"\n",
    "#--How many features\n",
    "k = select_k\n",
    "bestfeatures = SelectKBest(score_func=mutual_info_regression, k=k)\n",
    "#--Train Model (Features, Target)\n",
    "fit = bestfeatures.fit(df_concat.drop(columns=target_signal),\n",
    "                       df_concat[target_signal])\n",
    "#--Turns scores into a DataFrame\n",
    "dfscores = pd.DataFrame(fit.scores_, columns=['Scores'])\n",
    "#--Features name into a DataFrame\n",
    "dfcolumns = pd.DataFrame(df_coded.drop(columns=target_signal).columns,\n",
    "                         columns=['Features'])\n",
    "#--Concat two dataframes for better visualization\n",
    "featureScores = pd.concat([dfcolumns, dfscores], axis=1)\n",
    "k_best_features = featureScores['Features'].to_list()\n",
    "# print('SelectKBest: featureScores', '\\n')\n",
    "# print(tabulate(k_best_feature, headers='keys'))"
   ]
  },
  {
   "cell_type": "markdown",
   "metadata": {
    "heading_collapsed": true
   },
   "source": [
    "### ~~ExtraTreesClassifier Features Selection~~"
   ]
  },
  {
   "cell_type": "code",
   "execution_count": null,
   "metadata": {
    "ExecuteTime": {
     "end_time": "2020-09-08T18:07:06.433146Z",
     "start_time": "2020-09-08T18:06:17.869946Z"
    },
    "code_folding": [
     0
    ],
    "deletable": false,
    "editable": false,
    "hidden": true,
    "run_control": {
     "frozen": true
    },
    "scrolled": false
   },
   "outputs": [],
   "source": [
    "# Apply ExtraTreesClassifier class to extract features\n",
    "store_importances = []\n",
    "# Repeat Classifier\n",
    "for x in range(20):\n",
    "    # Build Model\n",
    "    extra_tree_forest = ExtraTreesClassifier(criterion='entropy')\n",
    "    # Train model (Features, Target)\n",
    "    extra_tree_forest.fit(df_coded.drop(columns=target_signal),\n",
    "                          df_coded[target_signal])\n",
    "    # Computing & Normalizing the individual importances\n",
    "    feat_importance = np.std([tree.feature_importances_ for tree in extra_tree_forest.estimators_], \\\n",
    "                                         axis=0)\n",
    "    # Store results\n",
    "    store_importances.append(feat_importance)\n",
    "# Plot graph of feature importances for better visualization\n",
    "feat_importances = pd.Series(\n",
    "    pd.DataFrame(store_importances).mean())\n",
    "feat_importances.index = df_coded.drop(columns=target_signal).columns\n",
    "print('feat_importances', '\\n')\n",
    "plt.barh(feat_importances.sort_values().index,\n",
    "         feat_importances.sort_values().values)\n",
    "plt.title('Comparison of different Feature Importances')\n",
    "plt.grid(False)\n",
    "plt.show()"
   ]
  },
  {
   "cell_type": "markdown",
   "metadata": {
    "heading_collapsed": true
   },
   "source": [
    "### ~~Correlation HeatMap~~"
   ]
  },
  {
   "cell_type": "code",
   "execution_count": null,
   "metadata": {
    "ExecuteTime": {
     "end_time": "2020-09-08T18:07:06.987821Z",
     "start_time": "2020-09-08T18:07:06.438144Z"
    },
    "code_folding": [
     0
    ],
    "deletable": false,
    "editable": false,
    "hidden": true,
    "run_control": {
     "frozen": true
    }
   },
   "outputs": [],
   "source": [
    "# Get correlations of each features in dataset\n",
    "corrmat = df_concat.corr()\n",
    "top_corr_features = corrmat.index\n",
    "# Plot heat map\n",
    "f, ax = plt.subplots(figsize=(10, 10))\n",
    "sns.heatmap(corrmat[target_signal].sort_values(by=target_signal, ascending=False), annot=True, cmap=\"RdYlGn\")\n",
    "bottom, top = ax.get_ylim()\n",
    "ax.set_ylim(bottom + 0.5, top - 0.5)\n",
    "plt.show()"
   ]
  },
  {
   "cell_type": "markdown",
   "metadata": {},
   "source": [
    "### SelectFrom"
   ]
  },
  {
   "cell_type": "code",
   "execution_count": 337,
   "metadata": {
    "ExecuteTime": {
     "end_time": "2020-09-11T12:07:27.914702Z",
     "start_time": "2020-09-11T12:07:07.772778Z"
    },
    "code_folding": [
     0
    ]
   },
   "outputs": [],
   "source": [
    "# SelectFrom meta-transformator feature selection\n",
    "X, y = np.array(df_concat.drop(columns=target_signal)), np.array(df_concat[target_signal])\n",
    "# selector = SelectFromModel(estimator=BayesianRidge(n_iter=500, normalize=False)).fit(X, y)\n",
    "selector = SelectFromModel(estimator=RandomForestRegressor(n_estimators=500, random_state=1)).fit(X, y)\n",
    "select_from_feature = list(df_concat.drop(columns=target_signal).columns[selector.get_support(True)])"
   ]
  },
  {
   "cell_type": "markdown",
   "metadata": {},
   "source": [
    "### Recursive Feature Elimination"
   ]
  },
  {
   "cell_type": "code",
   "execution_count": 338,
   "metadata": {
    "ExecuteTime": {
     "end_time": "2020-09-11T12:08:36.972872Z",
     "start_time": "2020-09-11T12:07:27.914702Z"
    },
    "code_folding": [
     0
    ]
   },
   "outputs": [],
   "source": [
    "# Feature Elimination\n",
    "rfe = RFE(RandomForestRegressor(n_estimators=500, random_state=1), 5)\n",
    "fit = rfe.fit(X, y)\n",
    "rfe_features = []\n",
    "_ = df_concat.drop(columns=target_signal).columns\n",
    "for x in range(len(fit.support_)):\n",
    "    if fit.support_[x]:\n",
    "        rfe_features.append(_[x])    "
   ]
  },
  {
   "cell_type": "markdown",
   "metadata": {},
   "source": [
    "## Post Selection Manipulation"
   ]
  },
  {
   "cell_type": "code",
   "execution_count": 339,
   "metadata": {
    "ExecuteTime": {
     "end_time": "2020-09-11T12:08:40.277146Z",
     "start_time": "2020-09-11T12:08:40.253156Z"
    },
    "code_folding": [
     0
    ]
   },
   "outputs": [
    {
     "name": "stdout",
     "output_type": "stream",
     "text": [
      "Target Data  4345 \n",
      " Date                   Close_x_decomp_y\n",
      "-------------------  ------------------\n",
      "2003-12-09 00:00:00        -0.00250837\n",
      "2003-12-10 00:00:00        -0.000577422\n",
      "2003-12-11 00:00:00        -0.00221924\n",
      "2003-12-12 00:00:00        -0.000995751\n",
      "2003-12-15 00:00:00        -0.00129922\n",
      "\n",
      "\n",
      "Features Data  4345 \n",
      " Date                   Open_x_decomp    Open_y_decomp\n",
      "-------------------  ---------------  ---------------\n",
      "2003-12-09 00:00:00     -0.00372841       0.00557937\n",
      "2003-12-10 00:00:00     -0.00199075       0.00277738\n",
      "2003-12-11 00:00:00     -0.00103977       0.00158953\n",
      "2003-12-12 00:00:00     -0.00177031       0.00268657\n",
      "2003-12-15 00:00:00     -0.000370759      0.000527149\n"
     ]
    }
   ],
   "source": [
    "# Shift Data\n",
    "# Target Data\n",
    "df_target = df_concat[target_signal]\n",
    "print('Target Data ', len(df_target), '\\n',\n",
    "      tabulate(df_target.head(), headers='keys'))\n",
    "print('\\n')\n",
    "# Features Data\n",
    "# -k_best_features\n",
    "# -select_from_feature\n",
    "# -rfe_features\n",
    "features = select_from_feature\n",
    "# Make into dataframe\n",
    "df_features = df_concat[features]\n",
    "print('Features Data ', len(df_features), '\\n',\n",
    "      tabulate(df_features.head(), headers='keys'))"
   ]
  },
  {
   "cell_type": "code",
   "execution_count": 340,
   "metadata": {
    "ExecuteTime": {
     "end_time": "2020-09-11T12:08:40.435244Z",
     "start_time": "2020-09-11T12:08:40.281142Z"
    },
    "code_folding": [
     0
    ]
   },
   "outputs": [
    {
     "name": "stdout",
     "output_type": "stream",
     "text": [
      "Features Data to array  <class 'numpy.ndarray'> (4345, 2)\n",
      "Target Data to array  <class 'numpy.ndarray'> (4345, 1)\n"
     ]
    }
   ],
   "source": [
    "# Convert to Numpy Arrays\n",
    "# Features Data\n",
    "x_data = df_features.values\n",
    "print('Features Data to array ', type(x_data), x_data.shape)\n",
    "# Target Data\n",
    "y_data = df_target[target_signal].values\n",
    "print('Target Data to array ', type(y_data), y_data.shape)"
   ]
  },
  {
   "cell_type": "code",
   "execution_count": 341,
   "metadata": {
    "ExecuteTime": {
     "end_time": "2020-09-11T12:08:40.568292Z",
     "start_time": "2020-09-11T12:08:40.441235Z"
    },
    "code_folding": [
     0
    ]
   },
   "outputs": [
    {
     "name": "stdout",
     "output_type": "stream",
     "text": [
      "Number of observation in the dataset:  4345 data-points\n"
     ]
    }
   ],
   "source": [
    "# Number of observations in the dataset\n",
    "num_data = len(x_data)\n",
    "print('Number of observation in the dataset: ', num_data, 'data-points')"
   ]
  },
  {
   "cell_type": "code",
   "execution_count": 342,
   "metadata": {
    "ExecuteTime": {
     "end_time": "2020-09-11T12:08:40.718601Z",
     "start_time": "2020-09-11T12:08:40.574288Z"
    },
    "code_folding": [
     0
    ]
   },
   "outputs": [
    {
     "name": "stdout",
     "output_type": "stream",
     "text": [
      "Number of observations in the training set:  3041 data-points\n",
      "Number of observations in the testing set:  1304 data-points\n",
      "Total Features:  2 features\n",
      "Features Data Split Done\n",
      "Total Target:  1 target\n",
      "Target Data Split Done\n"
     ]
    }
   ],
   "source": [
    "# Train-test split\n",
    "train_split = 0.7\n",
    "num_train = int(train_split * num_data)\n",
    "print('Number of observations in the training set: ', num_train, 'data-points')\n",
    "num_test = num_data - num_train\n",
    "print('Number of observations in the testing set: ', num_test, 'data-points')\n",
    "# Split data\n",
    "# Features Data\n",
    "num_x_signals = x_data.shape[1]\n",
    "print('Total Features: ', num_x_signals, 'features')\n",
    "x_train = x_data[:num_train]\n",
    "x_test = x_data[num_train:]\n",
    "if len(x_train) + len(x_test) == num_data:\n",
    "    print('Features Data Split Done')\n",
    "    pass\n",
    "# Target Data\n",
    "num_y_signals = y_data.shape[1]\n",
    "print('Total Target: ', num_y_signals, 'target')\n",
    "y_train = y_data[:num_train]\n",
    "y_test = y_data[num_train:]\n",
    "if len(y_train) + len(y_test) == num_data:\n",
    "    print('Target Data Split Done')\n",
    "    pass"
   ]
  },
  {
   "cell_type": "markdown",
   "metadata": {},
   "source": [
    "# Build Algorithm"
   ]
  },
  {
   "cell_type": "markdown",
   "metadata": {},
   "source": [
    "## Scale Data"
   ]
  },
  {
   "cell_type": "code",
   "execution_count": 270,
   "metadata": {
    "ExecuteTime": {
     "end_time": "2020-09-11T11:49:17.444430Z",
     "start_time": "2020-09-11T11:49:17.433434Z"
    },
    "code_folding": []
   },
   "outputs": [],
   "source": [
    "# Scaler for input data\n",
    "x_scaler = MinMaxScaler()\n",
    "x_train_scaled = x_scaler.fit_transform(x_train)\n",
    "x_test_scaled = x_scaler.fit_transform(x_test)"
   ]
  },
  {
   "cell_type": "code",
   "execution_count": 271,
   "metadata": {
    "ExecuteTime": {
     "end_time": "2020-09-11T11:49:17.582388Z",
     "start_time": "2020-09-11T11:49:17.449426Z"
    },
    "code_folding": []
   },
   "outputs": [],
   "source": [
    "# Scaler for output data\n",
    "y_scaler = MinMaxScaler()\n",
    "y_train_scaled = y_scaler.fit_transform(y_train)\n",
    "y_test_scaled = y_scaler.fit_transform(y_test)"
   ]
  },
  {
   "cell_type": "code",
   "execution_count": 272,
   "metadata": {
    "ExecuteTime": {
     "end_time": "2020-09-11T11:49:17.725388Z",
     "start_time": "2020-09-11T11:49:17.586386Z"
    },
    "code_folding": []
   },
   "outputs": [
    {
     "name": "stdout",
     "output_type": "stream",
     "text": [
      "Input shape  (608, 4)\n",
      "Output shape  (608, 1)\n"
     ]
    }
   ],
   "source": [
    "# Array shapes of input and output data\n",
    "print('Input shape ', x_train_scaled.shape)\n",
    "print('Output shape ', y_train_scaled.shape)"
   ]
  },
  {
   "cell_type": "markdown",
   "metadata": {},
   "source": [
    "## Data Generator"
   ]
  },
  {
   "cell_type": "markdown",
   "metadata": {},
   "source": [
    "Instead of training the Recurrent Neural Network on the complete sequences of almost 300k observations, we will use the following function to create a batch of shorter sub-sequences picked at random from the training-data."
   ]
  },
  {
   "cell_type": "code",
   "execution_count": 273,
   "metadata": {
    "ExecuteTime": {
     "end_time": "2020-09-11T11:49:17.835323Z",
     "start_time": "2020-09-11T11:49:17.731386Z"
    },
    "code_folding": [
     0
    ]
   },
   "outputs": [],
   "source": [
    "def batch_generator(batch_size, sequence_length):\n",
    "    \"\"\"\n",
    "    Generator function for creating random batches of training-data.\n",
    "    \"\"\"\n",
    "\n",
    "    # Infinite loop.\n",
    "    while True:\n",
    "        # Allocate a new array for the batch of input-signals.\n",
    "        x_shape = (batch_size, sequence_length, num_x_signals)\n",
    "        x_batch = np.zeros(shape=x_shape, dtype=np.float16)\n",
    "\n",
    "        # Allocate a new array for the batch of output-signals.\n",
    "        y_shape = (batch_size, sequence_length, num_y_signals)\n",
    "        y_batch = np.zeros(shape=y_shape, dtype=np.float16)\n",
    "\n",
    "        # Fill the batch with random sequences of data.\n",
    "        for i in range(batch_size):\n",
    "            # Get a random start-index.\n",
    "            # This points somewhere into the training-data.\n",
    "            idx = np.random.randint(num_train - sequence_length)\n",
    "            \n",
    "            # Copy the sequences of data starting at this index.\n",
    "            x_batch[i] = x_train_scaled[idx:idx+sequence_length]\n",
    "            y_batch[i] = y_train_scaled[idx:idx+sequence_length]\n",
    "        \n",
    "        yield (x_batch, y_batch)"
   ]
  },
  {
   "cell_type": "code",
   "execution_count": 274,
   "metadata": {
    "ExecuteTime": {
     "end_time": "2020-09-11T11:49:17.987321Z",
     "start_time": "2020-09-11T11:49:17.839319Z"
    },
    "code_folding": []
   },
   "outputs": [
    {
     "name": "stdout",
     "output_type": "stream",
     "text": [
      "Input Data shape:  (8, 8, 4)\n",
      "Output Data shape:  (8, 8, 1)\n",
      "There are  8  sequences & each has  8  observations with  4  inputs and  1  outputs\n"
     ]
    }
   ],
   "source": [
    "# Generate Data\n",
    "batch_size = 8\n",
    "sequence_length = 8\n",
    "generator = batch_generator(batch_size=batch_size, sequence_length=sequence_length)\n",
    "x_batch, y_batch = next(generator)\n",
    "print('Input Data shape: ', x_batch.shape)\n",
    "print('Output Data shape: ', y_batch.shape)\n",
    "print('There are ', batch_size, ' sequences & each has ', sequence_length, ' observations with ',\n",
    "      num_x_signals, ' inputs and ', num_y_signals, ' outputs')"
   ]
  },
  {
   "cell_type": "markdown",
   "metadata": {},
   "source": [
    "## Validation Set"
   ]
  },
  {
   "cell_type": "markdown",
   "metadata": {},
   "source": [
    "The neural network trains quickly so we can easily run many training epochs. But then there is a risk of overfitting the model to the training-set so it does not generalize well to unseen data. We will therefore monitor the model's performance on the test-set after each epoch and only save the model's weights if the performance is improved on the test-set.\n",
    "\n",
    "The batch-generator randomly selects a batch of short sequences from the training-data and uses that during training. But for the validation-data we will instead run through the entire sequence from the test-set and measure the prediction accuracy on that entire sequence."
   ]
  },
  {
   "cell_type": "code",
   "execution_count": 275,
   "metadata": {
    "ExecuteTime": {
     "end_time": "2020-09-11T11:49:18.093245Z",
     "start_time": "2020-09-11T11:49:17.990302Z"
    },
    "code_folding": [
     1,
     2
    ]
   },
   "outputs": [],
   "source": [
    "# Create a valudation data\n",
    "validation_data = (np.expand_dims(x_test_scaled,\n",
    "                                  axis=0), np.expand_dims(y_test_scaled,\n",
    "                                                          axis=0))"
   ]
  },
  {
   "cell_type": "markdown",
   "metadata": {},
   "source": [
    "## Create RNN"
   ]
  },
  {
   "cell_type": "markdown",
   "metadata": {},
   "source": [
    "We are now ready to create the Recurrent Neural Network (RNN). We will use the Keras API for this because of its simplicity. See Tutorial #03-C for a tutorial on Keras and Tutorial #20 for more information on Recurrent Neural Networks.`"
   ]
  },
  {
   "cell_type": "code",
   "execution_count": 276,
   "metadata": {
    "ExecuteTime": {
     "end_time": "2020-09-11T11:49:18.799979Z",
     "start_time": "2020-09-11T11:49:18.103239Z"
    },
    "code_folding": [
     6
    ]
   },
   "outputs": [],
   "source": [
    "# Create model\n",
    "model = Sequential()\n",
    "model.add(GRU(units=216,\n",
    "              return_sequences=True,\n",
    "              input_shape=(None, num_x_signals,)))\n",
    "model.add(Dense(num_y_signals, activation='swish'))\n",
    "if False:\n",
    "    \"\"\"\n",
    "    We can use a linear activation function on the output instead. \n",
    "    This allows for the output to take on arbitrary values. \n",
    "    It might work with the standard initialization for a simple network architecture, \n",
    "    but for more complicated network architectures e.g. with more layers, \n",
    "    it might be necessary to initialize the weights with smaller values to avoid NaN values during training. \n",
    "    You may need to experiment with this to get it working.\n",
    "    \"\"\"\n",
    "    from tensorflow.python.keras.initializers import RandomUniform\n",
    "    # Maybe use lower init-ranges.\n",
    "    init = RandomUniform(minval=-0.05, maxval=0.05)\n",
    "\n",
    "    model.add(\n",
    "        Dense(num_y_signals, activation='linear', kernel_initializer=init))"
   ]
  },
  {
   "cell_type": "markdown",
   "metadata": {},
   "source": [
    "## Loss Function"
   ]
  },
  {
   "cell_type": "markdown",
   "metadata": {},
   "source": [
    "We will use Mean Squared Error (MSE) as the loss-function that will be minimized. This measures how closely the model's output matches the true output signals.\n",
    "\n",
    "However, at the beginning of a sequence, the model has only seen input-signals for a few time-steps, so its generated output may be very inaccurate. Using the loss-value for the early time-steps may cause the model to distort its later output. We therefore give the model a \"warmup-period\" of 50 time-steps where we don't use its accuracy in the loss-function, in hope of improving the accuracy for later time-steps."
   ]
  },
  {
   "cell_type": "code",
   "execution_count": 277,
   "metadata": {
    "ExecuteTime": {
     "end_time": "2020-09-11T11:49:18.812926Z",
     "start_time": "2020-09-11T11:49:18.801931Z"
    },
    "code_folding": [
     1
    ]
   },
   "outputs": [],
   "source": [
    "warmup_steps = 50\n",
    "def loss_mse_warmup(y_true, y_pred):\n",
    "    \"\"\"\n",
    "    Calculate the Mean Squared Error between y_true and y_pred,\n",
    "    but ignore the beginning \"warmup\" part of the sequences.\n",
    "    \n",
    "    y_true is the desired output.\n",
    "    y_pred is the model's output.\n",
    "    \"\"\"\n",
    "\n",
    "    # The shape of both input tensors are:\n",
    "    # [batch_size, sequence_length, num_y_signals].\n",
    "\n",
    "    # Ignore the \"warmup\" parts of the sequences\n",
    "    # by taking slices of the tensors.\n",
    "    y_true_slice = y_true[:, warmup_steps:, :]\n",
    "    y_pred_slice = y_pred[:, warmup_steps:, :]\n",
    "\n",
    "    # These sliced tensors both have this shape:\n",
    "    # [batch_size, sequence_length - warmup_steps, num_y_signals]\n",
    "\n",
    "    # Calculat the Mean Squared Error and use it as loss.\n",
    "    mse = mean(square(y_true_slice - y_pred_slice))\n",
    "    \n",
    "    return mse"
   ]
  },
  {
   "cell_type": "markdown",
   "metadata": {},
   "source": [
    "## Compile Model"
   ]
  },
  {
   "cell_type": "markdown",
   "metadata": {},
   "source": [
    "This is the optimizer and the beginning learning-rate that we will use."
   ]
  },
  {
   "cell_type": "code",
   "execution_count": 278,
   "metadata": {
    "ExecuteTime": {
     "end_time": "2020-09-11T11:49:18.974850Z",
     "start_time": "2020-09-11T11:49:18.817923Z"
    },
    "scrolled": true
   },
   "outputs": [
    {
     "name": "stdout",
     "output_type": "stream",
     "text": [
      "Model: \"sequential_5\"\n",
      "_________________________________________________________________\n",
      "Layer (type)                 Output Shape              Param #   \n",
      "=================================================================\n",
      "gru_5 (GRU)                  (None, None, 216)         143856    \n",
      "_________________________________________________________________\n",
      "dense_5 (Dense)              (None, None, 1)           217       \n",
      "=================================================================\n",
      "Total params: 144,073\n",
      "Trainable params: 144,073\n",
      "Non-trainable params: 0\n",
      "_________________________________________________________________\n"
     ]
    }
   ],
   "source": [
    "optimizer = RMSprop(lr=1e-3)\n",
    "model.compile(loss='mean_squared_error', optimizer=optimizer)\n",
    "model.summary()"
   ]
  },
  {
   "cell_type": "markdown",
   "metadata": {},
   "source": [
    "## Callback Functions"
   ]
  },
  {
   "cell_type": "markdown",
   "metadata": {},
   "source": [
    "During training we want to save checkpoints and log the progress to TensorBoard so we create the appropriate callbacks for Keras.\n",
    "\n",
    "This is the callback for writing checkpoints during training."
   ]
  },
  {
   "cell_type": "code",
   "execution_count": 279,
   "metadata": {
    "ExecuteTime": {
     "end_time": "2020-09-11T11:49:19.089800Z",
     "start_time": "2020-09-11T11:49:18.980845Z"
    }
   },
   "outputs": [],
   "source": [
    "path_checkpoint = 'RNN_daily.keras'\n",
    "callback_checkpoint = ModelCheckpoint(filepath=path_checkpoint,\n",
    "                                      monitor='val_loss',\n",
    "                                      verbose=1,\n",
    "                                      save_weights_only=True,\n",
    "                                      save_best_only=True)"
   ]
  },
  {
   "cell_type": "markdown",
   "metadata": {},
   "source": [
    "This is the callback for stopping the optimization when performance worsens on the validation-set"
   ]
  },
  {
   "cell_type": "code",
   "execution_count": 280,
   "metadata": {
    "ExecuteTime": {
     "end_time": "2020-09-11T11:49:19.234621Z",
     "start_time": "2020-09-11T11:49:19.094780Z"
    }
   },
   "outputs": [],
   "source": [
    "callback_early_stopping = EarlyStopping(monitor='val_loss',\n",
    "                                        patience=5, verbose=1)"
   ]
  },
  {
   "cell_type": "markdown",
   "metadata": {},
   "source": [
    "\n",
    "This is the callback for writing the TensorBoard log during training."
   ]
  },
  {
   "cell_type": "code",
   "execution_count": 281,
   "metadata": {
    "ExecuteTime": {
     "end_time": "2020-09-11T11:49:19.373624Z",
     "start_time": "2020-09-11T11:49:19.238621Z"
    }
   },
   "outputs": [],
   "source": [
    "callback_tensorboard = TensorBoard(log_dir='.\\\\23_logs\\\\',\n",
    "                                   histogram_freq=0,\n",
    "                                   write_graph=False)"
   ]
  },
  {
   "cell_type": "markdown",
   "metadata": {},
   "source": [
    "This callback reduces the learning-rate for the optimizer if the validation-loss has not improved since the last epoch (as indicated by patience=0). The learning-rate will be reduced by multiplying it with the given factor. We set a start learning-rate of 1e-3 above, so multiplying it by 0.1 gives a learning-rate of 1e-4. We don't want the learning-rate to go any lower than this."
   ]
  },
  {
   "cell_type": "code",
   "execution_count": 282,
   "metadata": {
    "ExecuteTime": {
     "end_time": "2020-09-11T11:49:19.489791Z",
     "start_time": "2020-09-11T11:49:19.377625Z"
    }
   },
   "outputs": [],
   "source": [
    "callback_reduce_lr = ReduceLROnPlateau(monitor='val_loss',\n",
    "                                       factor=0.1,\n",
    "                                       min_lr=1e-4,\n",
    "                                       patience=0,\n",
    "                                       verbose=1)"
   ]
  },
  {
   "cell_type": "code",
   "execution_count": 283,
   "metadata": {
    "ExecuteTime": {
     "end_time": "2020-09-11T11:49:19.600797Z",
     "start_time": "2020-09-11T11:49:19.492770Z"
    }
   },
   "outputs": [],
   "source": [
    "callbacks = [callback_early_stopping,\n",
    "             callback_checkpoint,\n",
    "             callback_tensorboard,\n",
    "             callback_reduce_lr]"
   ]
  },
  {
   "cell_type": "markdown",
   "metadata": {},
   "source": [
    "## Train the Recurrent Neural Network"
   ]
  },
  {
   "cell_type": "markdown",
   "metadata": {},
   "source": [
    "We can now train the neural network.\n",
    "\n",
    "Note that a single \"epoch\" does not correspond to a single processing of the training-set, because of how the batch-generator randomly selects sub-sequences from the training-set. Instead we have selected steps_per_epoch so that one \"epoch\" is processed in a few minutes.\n",
    "\n",
    "With these settings, each \"epoch\" took about 2.5 minutes to process on a GTX 1070. After 14 \"epochs\" the optimization was stopped because the validation-loss had not decreased for 5 \"epochs\". This optimization took about 35 minutes to finish.\n",
    "\n",
    "Also note that the loss sometimes becomes NaN (not-a-number). This is often resolved by restarting and running the Notebook again. But it may also be caused by your neural network architecture, learning-rate, batch-size, sequence-length, etc. in which case you may have to modify those settings."
   ]
  },
  {
   "cell_type": "code",
   "execution_count": 284,
   "metadata": {
    "ExecuteTime": {
     "end_time": "2020-09-11T11:49:49.938645Z",
     "start_time": "2020-09-11T11:49:19.603776Z"
    },
    "code_folding": [],
    "scrolled": true
   },
   "outputs": [
    {
     "name": "stdout",
     "output_type": "stream",
     "text": [
      "Epoch 1/40\n",
      " 2/20 [==>...........................] - ETA: 31s - loss: 0.2172WARNING:tensorflow:Callbacks method `on_train_batch_end` is slow compared to the batch time (batch time: 0.0180s vs `on_train_batch_end` time: 3.4573s). Check your callbacks.\n",
      "19/20 [===========================>..] - ETA: 0s - loss: 0.0514\n",
      "Epoch 00001: val_loss improved from inf to 0.01762, saving model to RNN_daily.keras\n",
      "20/20 [==============================] - 5s 253ms/step - loss: 0.0494 - val_loss: 0.0176\n",
      "Epoch 2/40\n",
      "19/20 [===========================>..] - ETA: 0s - loss: 0.0160\n",
      "Epoch 00002: val_loss improved from 0.01762 to 0.01329, saving model to RNN_daily.keras\n",
      "20/20 [==============================] - 1s 30ms/step - loss: 0.0156 - val_loss: 0.0133\n",
      "Epoch 3/40\n",
      "20/20 [==============================] - ETA: 0s - loss: 0.0085\n",
      "Epoch 00003: val_loss improved from 0.01329 to 0.01173, saving model to RNN_daily.keras\n",
      "20/20 [==============================] - 1s 35ms/step - loss: 0.0085 - val_loss: 0.0117\n",
      "Epoch 4/40\n",
      "19/20 [===========================>..] - ETA: 0s - loss: 0.0057\n",
      "Epoch 00004: val_loss did not improve from 0.01173\n",
      "\n",
      "Epoch 00004: ReduceLROnPlateau reducing learning rate to 0.00010000000474974513.\n",
      "20/20 [==============================] - 0s 23ms/step - loss: 0.0059 - val_loss: 0.0212\n",
      "Epoch 5/40\n",
      "19/20 [===========================>..] - ETA: 0s - loss: 0.0069\n",
      "Epoch 00005: val_loss improved from 0.01173 to 0.01067, saving model to RNN_daily.keras\n",
      "20/20 [==============================] - 1s 29ms/step - loss: 0.0068 - val_loss: 0.0107\n",
      "Epoch 6/40\n",
      "17/20 [========================>.....] - ETA: 0s - loss: 0.0053\n",
      "Epoch 00006: val_loss improved from 0.01067 to 0.01067, saving model to RNN_daily.keras\n",
      "\n",
      "Epoch 00006: ReduceLROnPlateau reducing learning rate to 0.0001.\n",
      "20/20 [==============================] - 1s 26ms/step - loss: 0.0052 - val_loss: 0.0107\n",
      "Epoch 7/40\n",
      "18/20 [==========================>...] - ETA: 0s - loss: 0.0051\n",
      "Epoch 00007: val_loss did not improve from 0.01067\n",
      "20/20 [==============================] - 0s 22ms/step - loss: 0.0052 - val_loss: 0.0107\n",
      "Epoch 8/40\n",
      "17/20 [========================>.....] - ETA: 0s - loss: 0.0046\n",
      "Epoch 00008: val_loss improved from 0.01067 to 0.01060, saving model to RNN_daily.keras\n",
      "20/20 [==============================] - 1s 30ms/step - loss: 0.0046 - val_loss: 0.0106\n",
      "Epoch 9/40\n",
      "18/20 [==========================>...] - ETA: 0s - loss: 0.0048\n",
      "Epoch 00009: val_loss improved from 0.01060 to 0.01028, saving model to RNN_daily.keras\n",
      "20/20 [==============================] - 1s 28ms/step - loss: 0.0048 - val_loss: 0.0103\n",
      "Epoch 10/40\n",
      "19/20 [===========================>..] - ETA: 0s - loss: 0.0045\n",
      "Epoch 00010: val_loss improved from 0.01028 to 0.01026, saving model to RNN_daily.keras\n",
      "20/20 [==============================] - 1s 29ms/step - loss: 0.0045 - val_loss: 0.0103\n",
      "Epoch 11/40\n",
      "20/20 [==============================] - ETA: 0s - loss: 0.0049\n",
      "Epoch 00011: val_loss improved from 0.01026 to 0.01015, saving model to RNN_daily.keras\n",
      "20/20 [==============================] - 1s 28ms/step - loss: 0.0049 - val_loss: 0.0102\n",
      "Epoch 12/40\n",
      "18/20 [==========================>...] - ETA: 0s - loss: 0.0046\n",
      "Epoch 00012: val_loss improved from 0.01015 to 0.01013, saving model to RNN_daily.keras\n",
      "20/20 [==============================] - 1s 28ms/step - loss: 0.0046 - val_loss: 0.0101\n",
      "Epoch 13/40\n",
      "17/20 [========================>.....] - ETA: 0s - loss: 0.0049\n",
      "Epoch 00013: val_loss improved from 0.01013 to 0.00995, saving model to RNN_daily.keras\n",
      "20/20 [==============================] - 1s 26ms/step - loss: 0.0047 - val_loss: 0.0099\n",
      "Epoch 14/40\n",
      "18/20 [==========================>...] - ETA: 0s - loss: 0.0048\n",
      "Epoch 00014: val_loss did not improve from 0.00995\n",
      "20/20 [==============================] - 0s 22ms/step - loss: 0.0047 - val_loss: 0.0100\n",
      "Epoch 15/40\n",
      "17/20 [========================>.....] - ETA: 0s - loss: 0.0040\n",
      "Epoch 00015: val_loss did not improve from 0.00995\n",
      "20/20 [==============================] - 0s 22ms/step - loss: 0.0041 - val_loss: 0.0100\n",
      "Epoch 16/40\n",
      "20/20 [==============================] - ETA: 0s - loss: 0.0047\n",
      "Epoch 00016: val_loss improved from 0.00995 to 0.00977, saving model to RNN_daily.keras\n",
      "20/20 [==============================] - 1s 30ms/step - loss: 0.0047 - val_loss: 0.0098\n",
      "Epoch 17/40\n",
      "17/20 [========================>.....] - ETA: 0s - loss: 0.0048\n",
      "Epoch 00017: val_loss improved from 0.00977 to 0.00971, saving model to RNN_daily.keras\n",
      "20/20 [==============================] - 1s 26ms/step - loss: 0.0047 - val_loss: 0.0097\n",
      "Epoch 18/40\n",
      "20/20 [==============================] - ETA: 0s - loss: 0.0039\n",
      "Epoch 00018: val_loss did not improve from 0.00971\n",
      "20/20 [==============================] - 0s 23ms/step - loss: 0.0039 - val_loss: 0.0097\n",
      "Epoch 19/40\n",
      "19/20 [===========================>..] - ETA: 0s - loss: 0.0047\n",
      "Epoch 00019: val_loss improved from 0.00971 to 0.00967, saving model to RNN_daily.keras\n",
      "20/20 [==============================] - 1s 28ms/step - loss: 0.0048 - val_loss: 0.0097\n",
      "Epoch 20/40\n",
      "19/20 [===========================>..] - ETA: 0s - loss: 0.0046- ETA: 0s - loss: 0.00\n",
      "Epoch 00020: val_loss improved from 0.00967 to 0.00965, saving model to RNN_daily.keras\n",
      "20/20 [==============================] - 1s 28ms/step - loss: 0.0046 - val_loss: 0.0097\n",
      "Epoch 21/40\n",
      "20/20 [==============================] - ETA: 0s - loss: 0.0042\n",
      "Epoch 00021: val_loss improved from 0.00965 to 0.00952, saving model to RNN_daily.keras\n",
      "20/20 [==============================] - 1s 28ms/step - loss: 0.0042 - val_loss: 0.0095\n",
      "Epoch 22/40\n",
      "19/20 [===========================>..] - ETA: 0s - loss: 0.0046\n",
      "Epoch 00022: val_loss did not improve from 0.00952\n",
      "20/20 [==============================] - 0s 22ms/step - loss: 0.0045 - val_loss: 0.0095\n",
      "Epoch 23/40\n",
      "19/20 [===========================>..] - ETA: 0s - loss: 0.0045- ETA: 0s - loss: 0.00\n",
      "Epoch 00023: val_loss did not improve from 0.00952\n",
      "20/20 [==============================] - 0s 22ms/step - loss: 0.0044 - val_loss: 0.0097\n",
      "Epoch 24/40\n",
      "17/20 [========================>.....] - ETA: 0s - loss: 0.0044\n",
      "Epoch 00024: val_loss improved from 0.00952 to 0.00933, saving model to RNN_daily.keras\n",
      "20/20 [==============================] - 1s 27ms/step - loss: 0.0044 - val_loss: 0.0093\n",
      "Epoch 25/40\n",
      "20/20 [==============================] - ETA: 0s - loss: 0.0043\n",
      "Epoch 00025: val_loss improved from 0.00933 to 0.00924, saving model to RNN_daily.keras\n",
      "20/20 [==============================] - 1s 29ms/step - loss: 0.0043 - val_loss: 0.0092\n",
      "Epoch 26/40\n",
      "18/20 [==========================>...] - ETA: 0s - loss: 0.0043\n",
      "Epoch 00026: val_loss improved from 0.00924 to 0.00919, saving model to RNN_daily.keras\n",
      "20/20 [==============================] - 1s 27ms/step - loss: 0.0044 - val_loss: 0.0092\n",
      "Epoch 27/40\n",
      "18/20 [==========================>...] - ETA: 0s - loss: 0.0042\n",
      "Epoch 00027: val_loss did not improve from 0.00919\n",
      "20/20 [==============================] - 0s 23ms/step - loss: 0.0042 - val_loss: 0.0092\n",
      "Epoch 28/40\n",
      "20/20 [==============================] - ETA: 0s - loss: 0.0045\n",
      "Epoch 00028: val_loss improved from 0.00919 to 0.00910, saving model to RNN_daily.keras\n",
      "20/20 [==============================] - 1s 28ms/step - loss: 0.0045 - val_loss: 0.0091\n",
      "Epoch 29/40\n",
      "19/20 [===========================>..] - ETA: 0s - loss: 0.0038\n",
      "Epoch 00029: val_loss did not improve from 0.00910\n",
      "20/20 [==============================] - 0s 21ms/step - loss: 0.0039 - val_loss: 0.0094\n",
      "Epoch 30/40\n",
      "19/20 [===========================>..] - ETA: 0s - loss: 0.0044\n",
      "Epoch 00030: val_loss improved from 0.00910 to 0.00897, saving model to RNN_daily.keras\n",
      "20/20 [==============================] - 1s 28ms/step - loss: 0.0043 - val_loss: 0.0090\n",
      "Epoch 31/40\n",
      "18/20 [==========================>...] - ETA: 0s - loss: 0.0041\n",
      "Epoch 00031: val_loss did not improve from 0.00897\n",
      "20/20 [==============================] - 0s 23ms/step - loss: 0.0042 - val_loss: 0.0090\n",
      "Epoch 32/40\n",
      "17/20 [========================>.....] - ETA: 0s - loss: 0.0040\n",
      "Epoch 00032: val_loss did not improve from 0.00897\n",
      "20/20 [==============================] - 0s 21ms/step - loss: 0.0040 - val_loss: 0.0091\n",
      "Epoch 33/40\n",
      "17/20 [========================>.....] - ETA: 0s - loss: 0.0047\n"
     ]
    },
    {
     "name": "stdout",
     "output_type": "stream",
     "text": [
      "Epoch 00033: val_loss did not improve from 0.00897\n",
      "20/20 [==============================] - 0s 22ms/step - loss: 0.0045 - val_loss: 0.0092\n",
      "Epoch 34/40\n",
      "20/20 [==============================] - ETA: 0s - loss: 0.0046\n",
      "Epoch 00034: val_loss improved from 0.00897 to 0.00889, saving model to RNN_daily.keras\n",
      "20/20 [==============================] - 1s 28ms/step - loss: 0.0046 - val_loss: 0.0089\n",
      "Epoch 35/40\n",
      "17/20 [========================>.....] - ETA: 0s - loss: 0.0039\n",
      "Epoch 00035: val_loss did not improve from 0.00889\n",
      "20/20 [==============================] - 0s 21ms/step - loss: 0.0040 - val_loss: 0.0089\n",
      "Epoch 36/40\n",
      "18/20 [==========================>...] - ETA: 0s - loss: 0.0041\n",
      "Epoch 00036: val_loss did not improve from 0.00889\n",
      "20/20 [==============================] - 0s 18ms/step - loss: 0.0042 - val_loss: 0.0089\n",
      "Epoch 37/40\n",
      "17/20 [========================>.....] - ETA: 0s - loss: 0.0042\n",
      "Epoch 00037: val_loss improved from 0.00889 to 0.00865, saving model to RNN_daily.keras\n",
      "20/20 [==============================] - 1s 26ms/step - loss: 0.0040 - val_loss: 0.0087\n",
      "Epoch 38/40\n",
      "17/20 [========================>.....] - ETA: 0s - loss: 0.0042\n",
      "Epoch 00038: val_loss improved from 0.00865 to 0.00862, saving model to RNN_daily.keras\n",
      "20/20 [==============================] - 1s 26ms/step - loss: 0.0042 - val_loss: 0.0086\n",
      "Epoch 39/40\n",
      "17/20 [========================>.....] - ETA: 0s - loss: 0.0042\n",
      "Epoch 00039: val_loss did not improve from 0.00862\n",
      "20/20 [==============================] - 0s 20ms/step - loss: 0.0042 - val_loss: 0.0087\n",
      "Epoch 40/40\n",
      "17/20 [========================>.....] - ETA: 0s - loss: 0.0047\n",
      "Epoch 00040: val_loss improved from 0.00862 to 0.00850, saving model to RNN_daily.keras\n",
      "20/20 [==============================] - 1s 26ms/step - loss: 0.0047 - val_loss: 0.0085\n"
     ]
    },
    {
     "data": {
      "text/plain": [
       "<tensorflow.python.keras.callbacks.History at 0x20c1ea313c8>"
      ]
     },
     "execution_count": 284,
     "metadata": {},
     "output_type": "execute_result"
    }
   ],
   "source": [
    "model.fit(x=generator,\n",
    "          epochs=40,\n",
    "          steps_per_epoch=20,\n",
    "          validation_data=validation_data,\n",
    "          callbacks=callbacks)"
   ]
  },
  {
   "cell_type": "markdown",
   "metadata": {},
   "source": [
    "# Load Checkpoint"
   ]
  },
  {
   "cell_type": "code",
   "execution_count": 285,
   "metadata": {
    "ExecuteTime": {
     "end_time": "2020-09-11T11:51:26.163358Z",
     "start_time": "2020-09-11T11:51:26.138373Z"
    },
    "code_folding": [
     2
    ]
   },
   "outputs": [],
   "source": [
    "try:\n",
    "    model.load_weights(path_checkpoint)\n",
    "except Exception as error:\n",
    "    print(\"Error trying to load checkpoint.\")\n",
    "    print(error)"
   ]
  },
  {
   "cell_type": "markdown",
   "metadata": {},
   "source": [
    "# Performance on Test-Set"
   ]
  },
  {
   "cell_type": "markdown",
   "metadata": {},
   "source": [
    "We can now evaluate the model's performance on the test-set. This function expects a batch of data, but we will just use one long time-series for the test-set, so we just expand the array-dimensionality to create a batch with that one sequence"
   ]
  },
  {
   "cell_type": "code",
   "execution_count": 287,
   "metadata": {
    "ExecuteTime": {
     "end_time": "2020-09-11T11:51:30.879883Z",
     "start_time": "2020-09-11T11:51:30.746956Z"
    },
    "code_folding": [
     6
    ]
   },
   "outputs": [
    {
     "name": "stdout",
     "output_type": "stream",
     "text": [
      "1/1 [==============================] - 0s 4ms/step - loss: 0.0085\n",
      "loss (test-set): 0.008503190241754055\n"
     ]
    }
   ],
   "source": [
    "# Result\n",
    "result = model.evaluate(x=np.expand_dims(x_test_scaled, axis=0),\n",
    "                        y=np.expand_dims(y_test_scaled, axis=0))\n",
    "print(\"loss (test-set):\", result)\n",
    "\n",
    "# If you have several metrics you can use this instead.\n",
    "if False:\n",
    "    for res, metric in zip(result, model.metrics_names):\n",
    "        print(\"{0}: {1:.3e}\".format(metric, res))"
   ]
  },
  {
   "cell_type": "markdown",
   "metadata": {},
   "source": [
    "# Generate Predictions"
   ]
  },
  {
   "cell_type": "markdown",
   "metadata": {},
   "source": [
    "This helper-function plots the predicted and true output-signals."
   ]
  },
  {
   "cell_type": "code",
   "execution_count": 288,
   "metadata": {
    "ExecuteTime": {
     "end_time": "2020-09-11T11:51:35.873676Z",
     "start_time": "2020-09-11T11:51:35.858684Z"
    },
    "code_folding": [
     0
    ]
   },
   "outputs": [],
   "source": [
    "def plot_comparison(start_idx, length=100, train=True):\n",
    "    \"\"\"\n",
    "    Plot the predicted and true output-signals.\n",
    "    \n",
    "    :param start_idx: Start-index for the time-series.\n",
    "    :param length: Sequence-length to process and plot.\n",
    "    :param train: Boolean whether to use training- or test-set.\n",
    "    \"\"\"\n",
    "    if train:\n",
    "        # Use training-data.\n",
    "        x = x_train_scaled\n",
    "        y_true = y_train\n",
    "    else:\n",
    "        # Use test-data.\n",
    "        x = x_test_scaled\n",
    "        y_true = y_test\n",
    "    # End-index for the sequences.\n",
    "    end_idx = start_idx + length\n",
    "    # Select the sequences from the given start-index and\n",
    "    # of the given length.\n",
    "    x = x[start_idx:end_idx]\n",
    "    y_true = y_true[start_idx:end_idx]\n",
    "    # Input-signals for the model.\n",
    "    x = np.expand_dims(x, axis=0)\n",
    "    # Use the model to predict the output-signals.\n",
    "    y_pred = model.predict(x)\n",
    "    # The output of the model is between 0 and 1.\n",
    "    # Do an inverse map to get it back to the scale\n",
    "    # of the original data-set.\n",
    "    y_pred_rescaled = y_scaler.inverse_transform(y_pred[0])\n",
    "    # For each output-signal.\n",
    "    for signal in range(len(target_signal)):\n",
    "        # Get the output-signal predicted by the model.\n",
    "        signal_pred = y_pred_rescaled[:, signal]\n",
    "        # Get the true output-signal from the data-set.\n",
    "        signal_true = y_true[:, signal]\n",
    "        # Make the plotting-canvas bigger.\n",
    "        plt.figure(figsize=(15, 5))\n",
    "        # Plot and compare the two signals.\n",
    "        plt.plot(signal_true, label='true')\n",
    "        plt.plot(signal_pred, label='pred')\n",
    "        # Plot grey box for warmup-period.\n",
    "        p = plt.axvspan(0, warmup_steps, facecolor='black', alpha=0.15)\n",
    "        # Plot labels etc.\n",
    "        plt.ylabel(target_signal[signal])\n",
    "        plt.legend()\n",
    "        plt.show()\n",
    "        return y_true, y_pred_rescaled"
   ]
  },
  {
   "cell_type": "code",
   "execution_count": 289,
   "metadata": {
    "ExecuteTime": {
     "end_time": "2020-09-11T11:51:37.745051Z",
     "start_time": "2020-09-11T11:51:36.638684Z"
    },
    "code_folding": [],
    "scrolled": false
   },
   "outputs": [
    {
     "name": "stdout",
     "output_type": "stream",
     "text": [
      "WARNING:tensorflow:9 out of the last 10 calls to <function Model.make_predict_function.<locals>.predict_function at 0x0000020C1E6F9EE8> triggered tf.function retracing. Tracing is expensive and the excessive number of tracings could be due to (1) creating @tf.function repeatedly in a loop, (2) passing tensors with different shapes, (3) passing Python objects instead of tensors. For (1), please define your @tf.function outside of the loop. For (2), @tf.function has experimental_relax_shapes=True option that relaxes argument shapes that can avoid unnecessary retracing. For (3), please refer to https://www.tensorflow.org/tutorials/customization/performance#python_or_tensor_args and https://www.tensorflow.org/api_docs/python/tf/function for  more details.\n"
     ]
    },
    {
     "data": {
      "image/png": "[encoded data removed]",
      "text/plain": [
       "<Figure size 1080x360 with 1 Axes>"
      ]
     },
     "metadata": {
      "needs_background": "dark"
     },
     "output_type": "display_data"
    }
   ],
   "source": [
    "# Create Prediction\n",
    "true, prediction = plot_comparison(start_idx=0, length=num_train, train=False)"
   ]
  },
  {
   "cell_type": "code",
   "execution_count": 290,
   "metadata": {
    "ExecuteTime": {
     "end_time": "2020-09-11T11:51:42.282329Z",
     "start_time": "2020-09-11T11:51:42.245371Z"
    },
    "code_folding": [
     0
    ]
   },
   "outputs": [],
   "source": [
    "# Transfer to DataFrame\n",
    "df_result = pd.DataFrame([true[:, 0], prediction[:, 0]], index=['True', 'Predictions']).T\n",
    "df_result['Difference'] = np.abs(df_result['True']-df_result['Predictions'])"
   ]
  },
  {
   "cell_type": "code",
   "execution_count": 291,
   "metadata": {
    "ExecuteTime": {
     "end_time": "2020-09-11T11:51:47.662243Z",
     "start_time": "2020-09-11T11:51:43.063882Z"
    },
    "code_folding": [
     0
    ],
    "scrolled": true
   },
   "outputs": [],
   "source": [
    "# Find the optimal constant to adjust the return\n",
    "# Write Function to find nearest value\n",
    "def find_nearest(array, value):\n",
    "    array = np.asarray(array)\n",
    "    idx = (np.abs(array - value)).argmin()\n",
    "    return idx, array[idx]\n",
    "_constant = []\n",
    "for x in np.arange(0.8, 1.2, step=0.0001):\n",
    "    adj_return = df_result['Predictions'][:-1] * x\n",
    "    _diff = df_result['True'][:-1] - adj_return\n",
    "    _constant.append((x, _diff[:-1].std()))\n",
    "_constant = pd.DataFrame(_constant)\n",
    "idx_constant, nearest_value = find_nearest(_constant[1], 0)\n",
    "constant = _constant[0][idx_constant]\n",
    "df_result['Predictions'] = df_result['Predictions'] * constant\n",
    "df_result['Difference'] = df_result['True'] - df_result['Predictions']"
   ]
  },
  {
   "cell_type": "code",
   "execution_count": 292,
   "metadata": {
    "ExecuteTime": {
     "end_time": "2020-09-11T11:51:48.437479Z",
     "start_time": "2020-09-11T11:51:48.406497Z"
    },
    "code_folding": [
     0
    ],
    "scrolled": true
   },
   "outputs": [
    {
     "name": "stdout",
     "output_type": "stream",
     "text": [
      "                True    Predictions     Difference\n",
      "-----  -------------  -------------  -------------\n",
      "count  261            261            261\n",
      "mean    -0.000169786   -7.05262e-05   -9.926e-05\n",
      "std      0.00372183     0.00315874     0.0019696\n",
      "min     -0.00994671    -0.00721993    -0.00687975\n",
      "25%     -0.00234011    -0.00206026    -0.00134404\n",
      "50%      0.000115793   -0.000103335    0.000130522\n",
      "75%      0.00209828     0.00157729     0.00127393\n",
      "max      0.0114108      0.0134362      0.00493479\n"
     ]
    }
   ],
   "source": [
    "# Result summary\n",
    "print(tabulate(df_result.describe(), headers='keys'))"
   ]
  },
  {
   "cell_type": "code",
   "execution_count": 293,
   "metadata": {
    "ExecuteTime": {
     "end_time": "2020-09-11T11:51:49.173074Z",
     "start_time": "2020-09-11T11:51:49.158068Z"
    },
    "code_folding": [
     0
    ],
    "scrolled": true
   },
   "outputs": [
    {
     "name": "stdout",
     "output_type": "stream",
     "text": [
      "Root Mean Squared Error:  0.002\n",
      "R2 Score:  71.92\n"
     ]
    }
   ],
   "source": [
    "# Metrics\n",
    "truth = df_result['True']\n",
    "predicted = df_result['Predictions']\n",
    "rmse = np.round(np.sqrt(mean_squared_error(truth, predicted)), 4)\n",
    "print('Root Mean Squared Error: ', rmse)\n",
    "r2 = np.round(r2_score(truth, predicted)*100, 2)\n",
    "print('R2 Score: ', r2)"
   ]
  },
  {
   "cell_type": "code",
   "execution_count": 294,
   "metadata": {
    "ExecuteTime": {
     "end_time": "2020-09-11T11:51:50.033562Z",
     "start_time": "2020-09-11T11:51:49.908635Z"
    },
    "code_folding": [
     0
    ]
   },
   "outputs": [],
   "source": [
    "# Create a model for residual errors\n",
    "window = freq\n",
    "train_resid = df['Close_resid'][:num_train]\n",
    "test_resid = df['Close_resid'][num_train:]\n",
    "model_residual = AutoReg(train_resid, lags=window)\n",
    "model_fit = model_residual.fit()\n",
    "coef = model_fit.params\n",
    "# Walk Forward over time steps in test\n",
    "history = train_resid[len(train_resid)-window:]\n",
    "history = [history[i] for i in range(len(history))]\n",
    "predictions = list()\n",
    "expected_error = list()\n",
    "for t in range(len(test_resid)+1):\n",
    "    # predict error\n",
    "    length = len(history)\n",
    "    lag = [history[i] for i in range(length-window,length)]\n",
    "    pred_error = coef[0]\n",
    "    for d in range(window):\n",
    "        pred_error += coef[d+1] * lag[window-d-1]\n",
    "    predictions.append(pred_error)\n",
    "    if t < len(test_resid):\n",
    "        history.append(df['Close_resid'][num_train+t])\n",
    "    else:\n",
    "        history.append(pred_error)"
   ]
  },
  {
   "cell_type": "code",
   "execution_count": null,
   "metadata": {
    "ExecuteTime": {
     "end_time": "2020-09-09T12:20:49.662600Z",
     "start_time": "2020-09-09T12:20:49.597655Z"
    },
    "code_folding": [
     0
    ],
    "deletable": false,
    "editable": false,
    "run_control": {
     "frozen": true
    },
    "scrolled": false
   },
   "outputs": [],
   "source": [
    "# Convert to Price: non-stationary and random\n",
    "price_pred = []\n",
    "for i in range(num_test):\n",
    "#     price = np.exp(\n",
    "#         df_result['Predictions'][i]) * df['Close_AAPL'].iloc[-(num_test + 1 - i)] # log\n",
    "    price  = df_result['Predictions'][i] * df['Close_AAPL'].iloc[-(num_test + 1 - i)] # Percent\n",
    "    price_pred.append(price)\n",
    "df_result.index = df['Close_AAPL'].iloc[-(num_test):].index\n",
    "df_result['Price_True'] = df['Close_AAPL'].iloc[-(num_test):].values\n",
    "df_result['Price_Predictions'] = price_pred\n",
    "df_result['Price_Diff'] = np.abs(df_result['Price_True'] - df_result['Price_Predictions'])\n",
    "print('df_result', '\\n')\n",
    "print(tabulate(df_result.describe(), headers='keys'))"
   ]
  },
  {
   "cell_type": "code",
   "execution_count": 295,
   "metadata": {
    "ExecuteTime": {
     "end_time": "2020-09-11T11:51:50.801123Z",
     "start_time": "2020-09-11T11:51:50.731163Z"
    },
    "code_folding": [
     0
    ],
    "scrolled": true
   },
   "outputs": [
    {
     "name": "stdout",
     "output_type": "stream",
     "text": [
      "df_result \n",
      "\n",
      "                True    Predictions     Difference    Price_True    Price_Predictions    Price_Diff\n",
      "-----  -------------  -------------  -------------  ------------  -------------------  ------------\n",
      "count  261            261            261             261                  261          261\n",
      "mean    -0.000169786   -7.05262e-05   -9.926e-05       0.88518              0.885544     0.00387538\n",
      "std      0.00372183     0.00315874     0.0019696       0.0336026            0.0327733    0.00309393\n",
      "min     -0.00994671    -0.00721993    -0.00687975      0.8023               0.80771      2.1529e-05\n",
      "25%     -0.00234011    -0.00206026    -0.00134404      0.8604               0.862542     0.00157331\n",
      "50%      0.000115793   -0.000103335    0.000130522     0.8898               0.890473     0.00296478\n",
      "75%      0.00209828     0.00157729     0.00127393      0.907                0.904818     0.00559648\n",
      "max      0.0114108      0.0134362      0.00493479      0.9569               0.955198     0.0166236\n"
     ]
    }
   ],
   "source": [
    "# Convert to Price: stationary and non-random\n",
    "price_pred = []\n",
    "for i in range(num_test):\n",
    "    price = df_result['Predictions'][i] + df['Close'].iloc[-(num_test - i + 1)] - df['Close_resid'].iloc[-(num_test - i + 1)] +\\\n",
    "            predictions[1:][i+1]\n",
    "    price_pred.append(price)\n",
    "df_result.index = df['Close'].iloc[-(num_test):].index\n",
    "df_result['Price_True'] = df['Close'].iloc[-(num_test):].values\n",
    "df_result['Price_Predictions'] = price_pred\n",
    "df_result['Price_Diff'] = np.abs(df_result['Price_True'] - df_result['Price_Predictions'])\n",
    "print('df_result', '\\n')\n",
    "print(tabulate(df_result.describe(), headers='keys'))"
   ]
  },
  {
   "cell_type": "code",
   "execution_count": 296,
   "metadata": {
    "ExecuteTime": {
     "end_time": "2020-09-11T11:51:51.772522Z",
     "start_time": "2020-09-11T11:51:51.483686Z"
    },
    "code_folding": [
     0
    ],
    "scrolled": false
   },
   "outputs": [
    {
     "data": {
      "image/png": "[encoded data removed]",
      "text/plain": [
       "<Figure size 432x288 with 1 Axes>"
      ]
     },
     "metadata": {
      "needs_background": "dark"
     },
     "output_type": "display_data"
    }
   ],
   "source": [
    "# Plot Price Prediction on Test Data\n",
    "plt.plot(df_result['Price_True'][-100:], label='True')\n",
    "plt.plot(df_result['Price_Predictions'][-100:], label='Predictions')\n",
    "plt.title('True Price vs Prediction Price')\n",
    "plt.legend()\n",
    "plt.show()"
   ]
  },
  {
   "cell_type": "code",
   "execution_count": 297,
   "metadata": {
    "ExecuteTime": {
     "end_time": "2020-09-11T11:51:52.470281Z",
     "start_time": "2020-09-11T11:51:52.454291Z"
    },
    "code_folding": [
     0
    ],
    "scrolled": true
   },
   "outputs": [
    {
     "name": "stdout",
     "output_type": "stream",
     "text": [
      "Root Mean Squared Error:  0.005\n",
      "R2 Score:  97.82\n"
     ]
    }
   ],
   "source": [
    "# Price Predictions Metric\n",
    "truth = df_result['Price_True']\n",
    "predicted = df_result['Price_Predictions']\n",
    "rmse = np.round(np.sqrt(mean_squared_error(truth, predicted)), 4)\n",
    "print('Root Mean Squared Error: ', rmse)\n",
    "r2 = np.round(r2_score(truth, predicted)*100, 2)\n",
    "print('R2 Score: ', r2)"
   ]
  },
  {
   "cell_type": "code",
   "execution_count": 298,
   "metadata": {
    "ExecuteTime": {
     "end_time": "2020-09-11T11:51:53.379760Z",
     "start_time": "2020-09-11T11:51:53.362768Z"
    },
    "code_folding": [
     0
    ]
   },
   "outputs": [
    {
     "name": "stdout",
     "output_type": "stream",
     "text": [
      "Root Mean Squared Error:  0.0071\n",
      "R2 Score:  80.63\n"
     ]
    }
   ],
   "source": [
    "# Stationary Price Predictions Metric\n",
    "truth = df_result['Price_True'].diff(freq).dropna()\n",
    "predicted = df_result['Price_Predictions'].diff(freq).dropna()\n",
    "rmse = np.round(np.sqrt(mean_squared_error(truth, predicted)), 4)\n",
    "print('Root Mean Squared Error: ', rmse)\n",
    "r2 = np.round(r2_score(truth, predicted)*100, 2)\n",
    "print('R2 Score: ', r2)"
   ]
  },
  {
   "cell_type": "code",
   "execution_count": 299,
   "metadata": {
    "ExecuteTime": {
     "end_time": "2020-09-11T11:51:54.492122Z",
     "start_time": "2020-09-11T11:51:54.198289Z"
    },
    "code_folding": [
     0
    ],
    "scrolled": false
   },
   "outputs": [
    {
     "data": {
      "text/plain": [
       "<matplotlib.collections.PathCollection at 0x20c2ac54c08>"
      ]
     },
     "execution_count": 299,
     "metadata": {},
     "output_type": "execute_result"
    },
    {
     "data": {
      "image/png": "[encoded data removed]",
      "text/plain": [
       "<Figure size 432x288 with 1 Axes>"
      ]
     },
     "metadata": {
      "needs_background": "dark"
     },
     "output_type": "display_data"
    }
   ],
   "source": [
    "# Scatter Plot Predictions\n",
    "plt.scatter(truth, truth, color='white')\n",
    "plt.scatter(truth, predicted, color='skyblue')"
   ]
  },
  {
   "cell_type": "markdown",
   "metadata": {},
   "source": [
    "# Predict Future"
   ]
  },
  {
   "cell_type": "markdown",
   "metadata": {},
   "source": [
    "Predict Future"
   ]
  },
  {
   "cell_type": "markdown",
   "metadata": {},
   "source": [
    "## Data Manipulation"
   ]
  },
  {
   "cell_type": "code",
   "execution_count": 300,
   "metadata": {
    "ExecuteTime": {
     "end_time": "2020-09-11T11:52:46.860759Z",
     "start_time": "2020-09-11T11:52:46.833792Z"
    },
    "code_folding": []
   },
   "outputs": [
    {
     "name": "stdout",
     "output_type": "stream",
     "text": [
      "                       Open_decomp    High_decomp    Low_decomp    Close_decomp\n",
      "-------------------  -------------  -------------  ------------  --------------\n",
      "2020-08-24 00:00:00   -0.00416668    -0.00712552   -0.00676485     -0.00431422\n",
      "2020-08-31 00:00:00   -0.00381245    -0.00190907   -0.00277332     -0.00320921\n",
      "2020-09-07 00:00:00   -0.00070195    -0.00488417   -0.000754431    -0.00129011\n",
      "2020-09-11 00:00:00   -0.000868922   -0.00035625   -0.0014074      -0.000411468\n",
      "2020-09-11 00:05:00   -0.000868922   -0.000975516   4.76491e-05     0.00053578\n"
     ]
    }
   ],
   "source": [
    "# Data Manipulation for future prediction\n",
    "# Get shifted Data\n",
    "shifted_data = pd.DataFrame(df.iloc[-1, :][features]).T# Since all features are shifted data so there is need to further process this\n",
    "# Fix Future Dating\n",
    "if df_features.index.name == 'Datetime':\n",
    "    _ = df_features.index[-1] + timedelta(minutes=5)\n",
    "elif df_features.index.name == 'Date':\n",
    "    for x in np.arange(5, 75, step=15, dtype=int):\n",
    "        # Add days to the last day\n",
    "        x = x.item()\n",
    "        _ = df_features.index[-1] + timedelta(minutes=x)\n",
    "        if _.weekday() < 5: # Repeat until it's working Monday-Friday\n",
    "            break    \n",
    "shifted_data.index = [_] # Add as index\n",
    "del _\n",
    "# Add future features\n",
    "df_features_future = df_features.append(shifted_data)\n",
    "print(tabulate(df_features_future.tail(), headers='keys'))"
   ]
  },
  {
   "cell_type": "markdown",
   "metadata": {},
   "source": [
    "## Prediction"
   ]
  },
  {
   "cell_type": "code",
   "execution_count": 302,
   "metadata": {
    "ExecuteTime": {
     "end_time": "2020-09-11T11:52:55.314290Z",
     "start_time": "2020-09-11T11:52:54.918499Z"
    },
    "code_folding": [
     1
    ],
    "scrolled": true
   },
   "outputs": [
    {
     "data": {
      "image/png": "[encoded data removed]",
      "text/plain": [
       "<Figure size 1080x360 with 1 Axes>"
      ]
     },
     "metadata": {
      "needs_background": "dark"
     },
     "output_type": "display_data"
    }
   ],
   "source": [
    "# Prediction\n",
    "def predict_future(df_features_future=df_features_future,\n",
    "                   start_idx=0,\n",
    "                   length=100,\n",
    "                   num_test=num_test):\n",
    "    x_test_scaled = x_scaler.transform(\n",
    "        df_features_future.iloc[-(num_test + 1):, :])\n",
    "    x = x_test_scaled\n",
    "    y_true = y_test\n",
    "    # End-index for the sequences.\n",
    "    end_idx = start_idx + length\n",
    "    # Select the sequences from the given start-index and\n",
    "    # of the given length.\n",
    "    x = x[start_idx:end_idx]\n",
    "    y_true = y_true[start_idx:end_idx]\n",
    "    # Input-signals for the model.\n",
    "    x = np.expand_dims(x, axis=0)\n",
    "    # Use the model to predict the output-signals.\n",
    "    y_pred = model.predict(x)\n",
    "    # The output of the model is between 0 and 1.\n",
    "    # Do an inverse map to get it back to the scale\n",
    "    # of the original data-set.\n",
    "    y_pred_rescaled = y_scaler.inverse_transform(y_pred[0])\n",
    "    # For each output-signal.\n",
    "    for signal in range(len(target_signal)):\n",
    "        # Get the output-signal predicted by the model.\n",
    "        signal_pred = y_pred_rescaled[:, signal]\n",
    "        # Get the true output-signal from the data-set.\n",
    "        signal_true = y_true[:, signal]\n",
    "        # Make the plotting-canvas bigger.\n",
    "        plt.figure(figsize=(15, 5))\n",
    "        # Plot and compare the two signals.\n",
    "        plt.plot(signal_true, label='true')\n",
    "        plt.plot(signal_pred, label='pred')\n",
    "        # Plot grey box for warmup-period.\n",
    "        p = plt.axvspan(0, warmup_steps, facecolor='black', alpha=0.15)\n",
    "        # Plot labels etc.\n",
    "        plt.ylabel(target_signal[signal])\n",
    "        plt.legend()\n",
    "        plt.show()\n",
    "        return y_true, y_pred_rescaled\n",
    "true_future, predict_future = predict_future(df_features_future=df_features_future, start_idx=0, length=1000)"
   ]
  },
  {
   "cell_type": "code",
   "execution_count": 303,
   "metadata": {
    "ExecuteTime": {
     "end_time": "2020-09-11T11:52:55.353253Z",
     "start_time": "2020-09-11T11:52:55.318270Z"
    },
    "code_folding": [
     0,
     1
    ]
   },
   "outputs": [],
   "source": [
    "# Compile Results\n",
    "df_result_future = pd.DataFrame([true_future[:, 0], predict_future[:, 0]],\n",
    "                                index=['True', 'Predictions']).T"
   ]
  },
  {
   "cell_type": "code",
   "execution_count": 304,
   "metadata": {
    "ExecuteTime": {
     "end_time": "2020-09-11T11:52:55.477322Z",
     "start_time": "2020-09-11T11:52:55.358247Z"
    },
    "code_folding": []
   },
   "outputs": [],
   "source": [
    "# Write Function to find nearest value\n",
    "def find_nearest(array, value):\n",
    "    array = np.asarray(array)\n",
    "    idx = (np.abs(array - value)).argmin()\n",
    "    return idx, array[idx]"
   ]
  },
  {
   "cell_type": "code",
   "execution_count": 305,
   "metadata": {
    "ExecuteTime": {
     "end_time": "2020-09-11T11:53:00.505457Z",
     "start_time": "2020-09-11T11:52:55.483309Z"
    },
    "code_folding": [
     0
    ]
   },
   "outputs": [],
   "source": [
    "# Find the optimal constant to adjust the return\n",
    "_constant = []\n",
    "for x in np.arange(0.8, 1.2, step=0.0001):\n",
    "    adj_return = df_result_future['Predictions'][:-1] * x\n",
    "    _diff = df_result_future['True'][:-1] - adj_return\n",
    "    _constant.append((x, _diff[:-1].std()))\n",
    "_constant = pd.DataFrame(_constant)\n",
    "idx_constant, nearest_value = find_nearest(_constant[1], 0)\n",
    "constant = _constant[0][idx_constant]\n",
    "df_result_future['Predictions'] = df_result_future['Predictions'] * constant\n",
    "df_result_future['Difference'] = df_result_future['True'] - df_result_future['Predictions']"
   ]
  },
  {
   "cell_type": "code",
   "execution_count": 306,
   "metadata": {
    "ExecuteTime": {
     "end_time": "2020-09-11T11:53:00.645574Z",
     "start_time": "2020-09-11T11:53:00.507661Z"
    },
    "code_folding": [
     0
    ]
   },
   "outputs": [],
   "source": [
    "# Create a model for residual errors\n",
    "window = freq\n",
    "train_resid = df['Close_resid'][:num_train]\n",
    "test_resid = df['Close_resid'][num_train:]\n",
    "model_residual = AutoReg(train_resid, lags=window)\n",
    "model_fit = model_residual.fit()\n",
    "coef = model_fit.params\n",
    "# Walk Forward over time steps in test\n",
    "history = train_resid[len(train_resid)-window:]\n",
    "history = [history[i] for i in range(len(history))]\n",
    "predictions = list()\n",
    "expected_error = list()\n",
    "for t in range(len(test_resid)+2):\n",
    "    # predict error\n",
    "    length = len(history)\n",
    "    lag = [history[i] for i in range(length-window,length)]\n",
    "    pred_error = coef[0]\n",
    "    for d in range(window):\n",
    "        pred_error += coef[d+1] * lag[window-d-1]\n",
    "    predictions.append(pred_error)\n",
    "    if t < len(test_resid):\n",
    "        history.append(df['Close_resid'][num_train+t])\n",
    "    else:\n",
    "        history.append(pred_error)"
   ]
  },
  {
   "cell_type": "code",
   "execution_count": 307,
   "metadata": {
    "ExecuteTime": {
     "end_time": "2020-09-11T11:53:00.764504Z",
     "start_time": "2020-09-11T11:53:00.651569Z"
    },
    "code_folding": [
     0
    ]
   },
   "outputs": [
    {
     "name": "stdout",
     "output_type": "stream",
     "text": [
      "df_result \n",
      "\n",
      "                True    Predictions     Difference    Price_True    Price_Predictions     Price_Diff\n",
      "-----  -------------  -------------  -------------  ------------  -------------------  -------------\n",
      "count  261            262            261             262                   262         262\n",
      "mean    -0.000169786   -7.11574e-05   -9.92745e-05     0.881801              0.885383    0.00707888\n",
      "std      0.00372183     0.00315206     0.0019696       0.0641516             0.032815    0.0519422\n",
      "min     -0.00994671    -0.00721845    -0.0068781       0                     0.807711    2.12098e-05\n",
      "25%     -0.00234011    -0.00205131    -0.00134355      0.8604                0.861774    0.00157526\n",
      "50%      0.000115793   -0.000115439    0.000130017     0.88975               0.890401    0.00296764\n",
      "75%      0.00209828     0.00157599     0.00127422      0.90695               0.904808    0.00559811\n",
      "max      0.0114108      0.0134335      0.00493537      0.9569                0.955196    0.843146\n"
     ]
    }
   ],
   "source": [
    "# Convert to Price\n",
    "price_pred = []\n",
    "for i in range(num_test+1):\n",
    "    price = df_result_future['Predictions'][i] + df['Close'].iloc[-(num_test - i + 1)] - df['Close_resid'].iloc[-(num_test - i + 1)] +\\\n",
    "            predictions[1:][i+1]\n",
    "    price_pred.append(price)\n",
    "df_result_future.index = df_features_future.iloc[-(num_test+1):].index\n",
    "df_result_future['Price_True'] = np.append(df['Close'].iloc[-(num_test):].values, 0)\n",
    "df_result_future['Price_Predictions'] = price_pred\n",
    "df_result_future['Price_Diff'] = np.abs(df_result_future['Price_True'] - df_result_future['Price_Predictions'])\n",
    "print('df_result', '\\n')\n",
    "print(tabulate(df_result_future.describe(), headers='keys'))"
   ]
  },
  {
   "cell_type": "code",
   "execution_count": 308,
   "metadata": {
    "ExecuteTime": {
     "end_time": "2020-09-11T11:53:07.404048Z",
     "start_time": "2020-09-11T11:53:00.768500Z"
    },
    "code_folding": [
     0
    ]
   },
   "outputs": [
    {
     "name": "stdout",
     "output_type": "stream",
     "text": [
      "df_result_future \n",
      "\n",
      "                True    Predictions     Difference    Price_True    Price_Predictions     Price_Diff\n",
      "-----  -------------  -------------  -------------  ------------  -------------------  -------------\n",
      "count  261            261            261             261                   261         261\n",
      "mean    -0.000169786   -7.05118e-05   -9.92745e-05     0.88518               0.88519    -1.04536e-05\n",
      "std      0.00372183     0.0031581      0.0019696       0.0336026             0.03276     0.00495282\n",
      "min     -0.00994671    -0.00721845    -0.0068781       0.8023                0.807388   -0.0136374\n",
      "25%     -0.00234011    -0.00205984    -0.00134355      0.8604                0.862196   -0.00281861\n",
      "50%      0.000115793   -0.000103314    0.000130017     0.8898                0.890117    0.000359081\n",
      "75%      0.00209828     0.00157697     0.00127422      0.907                 0.904456    0.00312902\n",
      "max      0.0114108      0.0134335      0.00493537      0.9569                0.954814    0.01699\n"
     ]
    }
   ],
   "source": [
    "# Find the optimal constant to adjust prediction\n",
    "_constant = []\n",
    "for x in np.arange(0.8, 1.2000, step=0.0001):\n",
    "    adj_price = df_result_future['Price_Predictions'][:-1] * x\n",
    "    _diff = df_result_future['Price_True'][:-1] - adj_price\n",
    "    _constant.append((x, _diff[:-1].mean()))\n",
    "_constant = pd.DataFrame(_constant)\n",
    "# Add the adjusted Price_Predictions to the df_result_future\n",
    "idx_constant, nearest_value = find_nearest(_constant[1], 0)\n",
    "constant = _constant[0][idx_constant]\n",
    "df_result_future['Price_Predictions'] = df_result_future['Price_Predictions'] * constant\n",
    "df_result_future['Price_Diff'] = df_result_future['Price_True'] - df_result_future['Price_Predictions']\n",
    "print('df_result_future', '\\n')\n",
    "print(tabulate(df_result_future.iloc[:-1, :].describe(), headers='keys'))"
   ]
  },
  {
   "cell_type": "code",
   "execution_count": 309,
   "metadata": {
    "ExecuteTime": {
     "end_time": "2020-09-11T11:53:07.821790Z",
     "start_time": "2020-09-11T11:53:07.411027Z"
    },
    "code_folding": [],
    "scrolled": false
   },
   "outputs": [
    {
     "data": {
      "image/png": "[encoded data removed]",
      "text/plain": [
       "<Figure size 432x288 with 1 Axes>"
      ]
     },
     "metadata": {
      "needs_background": "dark"
     },
     "output_type": "display_data"
    }
   ],
   "source": [
    "# Plot Price Prediction \n",
    "plt.plot(df_result_future['Price_True'].iloc[:-1,][-79:], label='True')\n",
    "plt.plot(df_result_future['Price_Predictions'][-80:], label='Predictions')\n",
    "plt.title('True Price vs Prediction Price')\n",
    "plt.legend()\n",
    "plt.show()"
   ]
  },
  {
   "cell_type": "code",
   "execution_count": 310,
   "metadata": {
    "ExecuteTime": {
     "end_time": "2020-09-11T11:53:07.848777Z",
     "start_time": "2020-09-11T11:53:07.828788Z"
    },
    "code_folding": [
     0
    ],
    "scrolled": false
   },
   "outputs": [
    {
     "name": "stdout",
     "output_type": "stream",
     "text": [
      "Predictor Feature: Open_decomp, High_decomp, Low_decomp, Close_decomp\n",
      "One Step Ahead result is 0.8428083285880359\n",
      "R2 score Price Prediction:  80.62 %\n"
     ]
    }
   ],
   "source": [
    "# Statement\n",
    "truth = df_result_future['Price_True'].iloc[:-1].diff(freq).dropna()\n",
    "predicted = df_result_future['Price_Predictions'].iloc[:-1].diff(freq).dropna()\n",
    "print('Predictor Feature: ' + ', '.join(features))\n",
    "print('One Step Ahead result is', df_result_future['Price_Predictions'][-1])\n",
    "# Prediction R2 score\n",
    "r2 = round(r2_score(truth, predicted) * 100, 2)\n",
    "print('R2 score Price Prediction: ', r2, '%')"
   ]
  },
  {
   "cell_type": "code",
   "execution_count": 311,
   "metadata": {
    "ExecuteTime": {
     "end_time": "2020-09-11T11:53:11.422693Z",
     "start_time": "2020-09-11T11:53:07.851775Z"
    },
    "code_folding": [
     0
    ],
    "scrolled": true
   },
   "outputs": [
    {
     "name": "stdout",
     "output_type": "stream",
     "text": [
      "Do you want to save objects?(Yes/No) \n",
      "no\n",
      "Did not save object\n"
     ]
    }
   ],
   "source": [
    "# Save Objects\n",
    "# Put objects into dictionaries\n",
    "if True:\n",
    "    save_variables = {'Features': features, 'x_scaler': x_scaler, 'y_scaler': y_scaler, 'lag_freq': freq}\n",
    "    if input('Do you want to save objects?(Yes/No) \\n').upper() == 'YES':\n",
    "        with open('AAPL-5min.pickle', 'wb') as f:\n",
    "            pickle.dump(save_variables, f)\n",
    "        model.save('RNN_AAPL-5min.h5')\n",
    "        print('Saved object')\n",
    "    else:\n",
    "        print('Did not save object')"
   ]
  },
  {
   "cell_type": "markdown",
   "metadata": {},
   "source": [
    "# Conclusion"
   ]
  },
  {
   "cell_type": "code",
   "execution_count": 82,
   "metadata": {
    "ExecuteTime": {
     "end_time": "2020-09-11T11:33:20.263842Z",
     "start_time": "2020-09-11T11:33:20.255865Z"
    },
    "code_folding": [
     0
    ]
   },
   "outputs": [
    {
     "name": "stdout",
     "output_type": "stream",
     "text": [
      "Predictor Feature: Open_decomp\n",
      "One Step Ahead result is 0.8442916702296586\n",
      "R2 score Price Prediction:  91.56 %\n"
     ]
    }
   ],
   "source": [
    "# Statement\n",
    "print('Predictor Feature: ' + ', '.join(features))\n",
    "print('One Step Ahead result is', df_result_future['Price_Predictions'][-1])\n",
    "print('R2 score Price Prediction: ', r2, '%')"
   ]
  },
  {
   "cell_type": "markdown",
   "metadata": {
    "deletable": false,
    "editable": false,
    "heading_collapsed": true,
    "run_control": {
     "frozen": true
    }
   },
   "source": [
    "# Confidence Interval"
   ]
  },
  {
   "cell_type": "code",
   "execution_count": null,
   "metadata": {
    "code_folding": [
     0
    ],
    "deletable": false,
    "editable": false,
    "hidden": true,
    "run_control": {
     "frozen": true
    }
   },
   "outputs": [],
   "source": [
    "# Add a confidence interval to the prediction\n",
    "interval = {'top 1std':[], 'top 2std':[], 'top 3std':[], 'bottom 1std':[], 'bottom 2std':[], 'bottom 3std':[]}\n",
    "for x in range(len(df_result_future['Price_Predictions'])):\n",
    "    if x!= len(df_result_future)-1: # Do not include the last row\n",
    "#         sigma = df_result_future['Price_Diff'].iloc[:-1].iloc[:x+1].std() # Cumulative\n",
    "#         sigma = df_result_future['Price_Diff'].iloc[:-1].rolling(9).std()[x] # Rolling\n",
    "        sigma = df_result_future['Price_Diff'].iloc[:-1].ewm(span=10).std()[x] # Exponential Weighted Stdev\n",
    "        sigma = 0 if np.isnan(sigma) else sigma\n",
    "    else:\n",
    "        pass\n",
    "    interval['top 1std'].append(df_result_future['Price_Predictions'][x] + 1*sigma)\n",
    "    interval['bottom 1std'].append(df_result_future['Price_Predictions'][x] - 1*sigma)\n",
    "    \n",
    "    interval['top 2std'].append(df_result_future['Price_Predictions'][x] + 2*sigma)\n",
    "    interval['bottom 2std'].append(df_result_future['Price_Predictions'][x] - 2*sigma)\n",
    "    \n",
    "    interval['top 3std'].append(df_result_future['Price_Predictions'][x] + 3*sigma)\n",
    "    interval['bottom 3std'].append(df_result_future['Price_Predictions'][x] - 3*sigma)"
   ]
  },
  {
   "cell_type": "code",
   "execution_count": null,
   "metadata": {
    "deletable": false,
    "editable": false,
    "hidden": true,
    "run_control": {
     "frozen": true
    }
   },
   "outputs": [],
   "source": [
    "plt.figure(figsize=(20, 10))\n",
    "\n",
    "# plt.plot(interval['top 1std'], label='1 std', color = 'pink')\n",
    "# plt.plot(interval['bottom 1std'], label='1 std', color = 'pink')\n",
    "\n",
    "plt.plot(interval['top 2std'], label='2 std', color = 'orange')\n",
    "plt.plot(interval['bottom 2std'], label='2 std', color = 'orange')\n",
    "\n",
    "# plt.plot(interval['top 99.9%'], label='1 std', color = 'white')\n",
    "# plt.plot(interval['bottom 99.9%'], label='1 std', color = 'white')\n",
    "\n",
    "plt.plot(df_result_future['Price_Predictions'].values, color='red', label='Predictions', marker='o')\n",
    "plt.plot(df_result_future['Price_True'].iloc[:-1].values, color='green', label='Truth', marker='o')\n",
    "plt.legend()\n",
    "plt.show()"
   ]
  },
  {
   "cell_type": "code",
   "execution_count": null,
   "metadata": {
    "deletable": false,
    "editable": false,
    "hidden": true,
    "run_control": {
     "frozen": true
    }
   },
   "outputs": [],
   "source": [
    "df_result_future['Upper limit 1std'] = interval['top 1std']\n",
    "df_result_future['Lower limit 1std'] = interval['bottom 1std']\n",
    "\n",
    "df_result_future['Upper limit 2std'] = interval['top 2std']\n",
    "df_result_future['Lower limit 2std'] = interval['bottom 2std']\n",
    "\n",
    "df_result_future['Upper limit 3std'] = interval['top 3std']\n",
    "df_result_future['Lower limit 3std'] = interval['bottom 3std']"
   ]
  },
  {
   "cell_type": "code",
   "execution_count": null,
   "metadata": {
    "deletable": false,
    "editable": false,
    "hidden": true,
    "run_control": {
     "frozen": true
    },
    "scrolled": false
   },
   "outputs": [],
   "source": [
    "((df_result_future['Upper limit 1std'] > df_result_future['Price_True']) & (df_result_future['Lower limit 1std'] < df_result_future['Price_True'])).value_counts()"
   ]
  },
  {
   "cell_type": "code",
   "execution_count": null,
   "metadata": {
    "ExecuteTime": {
     "end_time": "2020-09-09T08:35:57.042169Z",
     "start_time": "2020-09-09T08:35:57.030176Z"
    },
    "hidden": true
   },
   "outputs": [],
   "source": [
    "conditions = [\n",
    "    (((df_result_future['Price_True'] - df_result_future['Price_True'].shift(1)) *\n",
    "    (df_result_future['Price_Predictions'] - df_result_future['Price_True'].shift(1))) > 0),\n",
    "    (((df_result_future['Price_True'] - df_result_future['Price_True'].shift(1)) *\n",
    "    (df_result_future['Price_Predictions'] - df_result_future['Price_True'].shift(1))) < 0) \n",
    "]\n",
    "choices = ['True', 'False']"
   ]
  },
  {
   "cell_type": "code",
   "execution_count": null,
   "metadata": {
    "ExecuteTime": {
     "end_time": "2020-09-09T08:36:01.420502Z",
     "start_time": "2020-09-09T08:36:01.404518Z"
    },
    "hidden": true
   },
   "outputs": [],
   "source": [
    "df_result_future['Directions'] = np.select(conditions, choices, default='Same')\n",
    "df_result_future['Directions'][-1] = 'Same'\n",
    "df_result_future['True_Price_Change'] = (df_result_future['Price_True'] - df_result_future['Price_True'].shift(1))\n",
    "df_result_future['Predictions_Price_Change'] = (df_result_future['Price_Predictions'] - df_result_future['Price_True'].shift(1))"
   ]
  },
  {
   "cell_type": "code",
   "execution_count": null,
   "metadata": {
    "ExecuteTime": {
     "end_time": "2020-09-09T08:36:52.447577Z",
     "start_time": "2020-09-09T08:36:52.410596Z"
    },
    "hidden": true
   },
   "outputs": [],
   "source": [
    "_dt = df_result_future.loc['2020-09-08'].between_time('10:00', '15:00')\n",
    "profit = np.abs(_dt[_dt['Directions']=='True']['True_Price_Change']).sum()\n",
    "loss = np.abs(_dt[_dt['Directions']=='False']['True_Price_Change']).sum()"
   ]
  },
  {
   "cell_type": "code",
   "execution_count": null,
   "metadata": {
    "ExecuteTime": {
     "end_time": "2020-09-09T08:36:53.739908Z",
     "start_time": "2020-09-09T08:36:53.727916Z"
    },
    "hidden": true
   },
   "outputs": [],
   "source": [
    "profit-loss"
   ]
  },
  {
   "cell_type": "code",
   "execution_count": null,
   "metadata": {
    "ExecuteTime": {
     "end_time": "2020-09-09T08:36:57.645312Z",
     "start_time": "2020-09-09T08:36:57.317487Z"
    },
    "hidden": true
   },
   "outputs": [],
   "source": [
    "plt.figure(figsize=(20,10))\n",
    "plt.hist(_dt[_dt['Directions']=='False']['Price_Diff'])\n",
    "plt.hist(_dt[_dt['Directions']=='True']['Price_Diff'])\n",
    "plt.show()"
   ]
  },
  {
   "cell_type": "code",
   "execution_count": null,
   "metadata": {
    "ExecuteTime": {
     "end_time": "2020-09-09T08:37:17.372096Z",
     "start_time": "2020-09-09T08:37:17.356110Z"
    },
    "hidden": true
   },
   "outputs": [],
   "source": [
    "df_result_future.loc['2020-09-08'].between_time('10:00', '15:00')['Directions'].value_counts()"
   ]
  }
 ],
 "metadata": {
  "kernelspec": {
   "display_name": "Python 3",
   "language": "python",
   "name": "python3"
  },
  "language_info": {
   "codemirror_mode": {
    "name": "ipython",
    "version": 3
   },
   "file_extension": ".py",
   "mimetype": "text/x-python",
   "name": "python",
   "nbconvert_exporter": "python",
   "pygments_lexer": "ipython3",
   "version": "3.7.7"
  },
  "toc": {
   "base_numbering": 1,
   "nav_menu": {},
   "number_sections": false,
   "sideBar": true,
   "skip_h1_title": false,
   "title_cell": "Table of Contents",
   "title_sidebar": "Contents",
   "toc_cell": false,
   "toc_position": {
    "height": "757px",
    "left": "123px",
    "top": "293px",
    "width": "211.969px"
   },
   "toc_section_display": true,
   "toc_window_display": true
  },
  "varInspector": {
   "cols": {
    "lenName": 16,
    "lenType": 16,
    "lenVar": 40
   },
   "kernels_config": {
    "python": {
     "delete_cmd_postfix": "",
     "delete_cmd_prefix": "del ",
     "library": "var_list.py",
     "varRefreshCmd": "print(var_dic_list())"
    },
    "r": {
     "delete_cmd_postfix": ") ",
     "delete_cmd_prefix": "rm(",
     "library": "var_list.r",
     "varRefreshCmd": "cat(var_dic_list()) "
    }
   },
   "oldHeight": 519.98278,
   "position": {
    "height": "542.48px",
    "left": "1183px",
    "right": "20px",
    "top": "119px",
    "width": "314.746px"
   },
   "types_to_exclude": [
    "module",
    "function",
    "builtin_function_or_method",
    "instance",
    "_Feature"
   ],
   "varInspector_section_display": "block",
   "window_display": false
  }
 },
 "nbformat": 4,
 "nbformat_minor": 2
}
